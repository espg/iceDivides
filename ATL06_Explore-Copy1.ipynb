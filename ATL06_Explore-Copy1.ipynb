{
 "cells": [
  {
   "cell_type": "code",
   "execution_count": 1,
   "id": "fda03762-43dc-4772-a559-ffc35ba8c57f",
   "metadata": {},
   "outputs": [],
   "source": [
    "import vaex\n",
    "import vaex.jupyter.model as vjm\n",
    "\n",
    "import numpy as np\n",
    "import matplotlib.pyplot as plt\n"
   ]
  },
  {
   "cell_type": "code",
   "execution_count": 2,
   "id": "df7470e0-406d-467a-a3b8-e7d661e83049",
   "metadata": {},
   "outputs": [],
   "source": [
    "df = vaex.open('./atl06_03_11.arrow')"
   ]
  },
  {
   "cell_type": "code",
   "execution_count": 3,
   "id": "5f08b1dd-adc1-483e-8ae7-3e286255a378",
   "metadata": {},
   "outputs": [
    {
     "data": {
      "text/html": [
       "<table>\n",
       "<thead>\n",
       "<tr><th>#                                      </th><th>id     </th><th>lat               </th><th>lon                </th><th>slope_y              </th><th>slope_x               </th><th>slope_x_sigma        </th><th>h_li               </th><th>s_li                </th><th>q_flag  </th><th>s_fg  </th><th>snr  </th><th>h_rb               </th><th>bsnow_conf  </th><th>cloud_flg_asr  </th><th>cloud_flg_atm  </th><th>msw_flag  </th><th>fbsnow_h           </th><th>bsnow_od            </th><th>layer_flag  </th><th>bckgrd            </th><th>e_bckgrd  </th><th>n_fit_photons  </th><th>w_surface_window_final  </th><th>t_year                    </th><th>cycle  </th><th>track  </th><th>x                 </th><th>y                  </th></tr>\n",
       "</thead>\n",
       "<tbody>\n",
       "<tr><td><i style='opacity: 0.6'>0</i>          </td><td>1443587</td><td>-79.00604150693235</td><td>176.34489505559952 </td><td>0.0034970236010849476</td><td>0.045052722096443176  </td><td>0.0008298112079501152</td><td>-19.586994171142578</td><td>0.012193245813250542</td><td>0       </td><td>0     </td><td>0.0  </td><td>0.1700313538312912 </td><td>-1          </td><td>2              </td><td>1              </td><td>3         </td><td>29.979246139526367 </td><td>0.26861944794654846 </td><td>1           </td><td>28285.419921875   </td><td>0.0       </td><td>522            </td><td>3.0                     </td><td>2019-03-29 07:13:52.971019</td><td>3      </td><td>gt1l   </td><td>76147.62450344954 </td><td>-1192036.1950727522</td></tr>\n",
       "<tr><td><i style='opacity: 0.6'>1</i>          </td><td>1443588</td><td>-79.00621643747844</td><td>176.34471657932238 </td><td>0.004264393355697393 </td><td>0.05056241527199745   </td><td>0.0008830373408272862</td><td>-18.607820510864258</td><td>0.012879230082035065</td><td>0       </td><td>0     </td><td>0.0  </td><td>0.18802492320537567</td><td>-1          </td><td>2              </td><td>1              </td><td>3         </td><td>29.979246139526367 </td><td>0.2682749032974243  </td><td>1           </td><td>25933.798828125   </td><td>0.0       </td><td>541            </td><td>3.0                     </td><td>2019-03-29 07:13:52.973831</td><td>3      </td><td>gt1l   </td><td>76150.11884253839 </td><td>-1192016.878556122 </td></tr>\n",
       "<tr><td><i style='opacity: 0.6'>2</i>          </td><td>1443604</td><td>-79.00598340764218</td><td>-128.34968452426844</td><td>0.0011884707491844893</td><td>-0.008782525546848774 </td><td>0.0012873366940766573</td><td>1393.30810546875   </td><td>0.022358529269695282</td><td>0       </td><td>0     </td><td>0.0  </td><td>0.16403409838676453</td><td>-1          </td><td>4              </td><td>1              </td><td>2         </td><td>-15.545355796813965</td><td>0.025605319067835808</td><td>1           </td><td>29848.724609375   </td><td>0.0       </td><td>134            </td><td>3.0                     </td><td>2019-06-16 23:44:16.580875</td><td>3      </td><td>gt1l   </td><td>-936751.2677578111</td><td>-741121.435694096  </td></tr>\n",
       "<tr><td><i style='opacity: 0.6'>3</i>          </td><td>1443605</td><td>-79.0061584310981 </td><td>-128.34986074738637</td><td>0.0014111476484686136</td><td>-0.0077179535292088985</td><td>0.0013354523107409477</td><td>1393.1937255859375 </td><td>0.02100951410830021 </td><td>0       </td><td>0     </td><td>0.0  </td><td>0.17921173572540283</td><td>-1          </td><td>4              </td><td>1              </td><td>2         </td><td>-13.435805320739746</td><td>0.025563444942235947</td><td>1           </td><td>32934.61328125    </td><td>0.0       </td><td>141            </td><td>3.0                     </td><td>2019-06-16 23:44:16.583689</td><td>3      </td><td>gt1l   </td><td>-936733.9871437278</td><td>-741112.4484165515 </td></tr>\n",
       "<tr><td><i style='opacity: 0.6'>4</i>          </td><td>1443606</td><td>-79.00633341593905</td><td>-128.35003802228633</td><td>0.0012659610947594047</td><td>-0.0070463260635733604</td><td>0.0011699371971189976</td><td>1393.045166015625  </td><td>0.027471376582980156</td><td>0       </td><td>0     </td><td>0.0  </td><td>0.17215631902217865</td><td>-1          </td><td>4              </td><td>1              </td><td>2         </td><td>-11.32924747467041 </td><td>0.02552163042128086 </td><td>1           </td><td>35919.10546875    </td><td>0.0       </td><td>148            </td><td>3.0                     </td><td>2019-06-16 23:44:16.586500</td><td>3      </td><td>gt1l   </td><td>-936716.6963032028</td><td>-741103.4808569406 </td></tr>\n",
       "<tr><td>...                                    </td><td>...    </td><td>...               </td><td>...                </td><td>...                  </td><td>...                   </td><td>...                  </td><td>...                </td><td>...                 </td><td>...     </td><td>...   </td><td>...  </td><td>...                </td><td>...         </td><td>...            </td><td>...            </td><td>...       </td><td>...                </td><td>...                 </td><td>...         </td><td>...               </td><td>...       </td><td>...            </td><td>...                     </td><td>...                       </td><td>...    </td><td>...    </td><td>...               </td><td>...                </td></tr>\n",
       "<tr><td><i style='opacity: 0.6'>865,273,099</i></td><td>1565333</td><td>-78.99504226798936</td><td>158.03591094289823 </td><td>0.007495594210922718 </td><td>0.0078804399818182    </td><td>0.002683431375771761 </td><td>1279.90234375      </td><td>0.05482017993927002 </td><td>0       </td><td>0     </td><td>0.0  </td><td>0.15907801687717438</td><td>-1          </td><td>5              </td><td>1              </td><td>1         </td><td>29.979246139526367 </td><td>0.02713683247566223 </td><td>1           </td><td>2268.45654296875  </td><td>0.0       </td><td>21             </td><td>3.0                     </td><td>2019-06-23 17:41:49.183559</td><td>3      </td><td>gt3r   </td><td>447210.19721519714</td><td>-1108884.5834480259</td></tr>\n",
       "<tr><td><i style='opacity: 0.6'>865,273,100</i></td><td>1565334</td><td>-78.99486756514892</td><td>158.03572581694618 </td><td>0.006783090066164732 </td><td>0.012846322730183601  </td><td>0.0031797189731150866</td><td>1280.02392578125   </td><td>0.05916494503617287 </td><td>0       </td><td>0     </td><td>0.0  </td><td>0.13116207718849182</td><td>-1          </td><td>5              </td><td>1              </td><td>1         </td><td>29.979246139526367 </td><td>0.02713673934340477 </td><td>1           </td><td>1946.7774658203125</td><td>0.0       </td><td>21             </td><td>3.0                     </td><td>2019-06-23 17:41:49.186370</td><td>3      </td><td>gt3r   </td><td>447220.92165426933</td><td>-1108900.846272008 </td></tr>\n",
       "<tr><td><i style='opacity: 0.6'>865,273,101</i></td><td>1565335</td><td>-78.99469283993268</td><td>158.03554127839766 </td><td>0.007498532999306917 </td><td>-0.0022711576893925667</td><td>0.0016771184746176004</td><td>1279.994873046875  </td><td>0.026095101609826088</td><td>0       </td><td>0     </td><td>0.0  </td><td>0.0632103830575943 </td><td>-1          </td><td>5              </td><td>1              </td><td>1         </td><td>29.979246139526367 </td><td>0.02713664434850216 </td><td>1           </td><td>1209.9652099609375</td><td>0.0       </td><td>24             </td><td>3.0                     </td><td>2019-06-23 17:41:49.189189</td><td>3      </td><td>gt3r   </td><td>447231.6357510542 </td><td>-1108917.115896332 </td></tr>\n",
       "<tr><td><i style='opacity: 0.6'>865,273,102</i></td><td>1565336</td><td>-78.99451809314117</td><td>158.03535733441748 </td><td>0.008078711107373238 </td><td>9.721379319671541e-05 </td><td>0.0028819788713008165</td><td>1279.9814453125    </td><td>0.05285322666168213 </td><td>0       </td><td>0     </td><td>0.0  </td><td>0.14162179827690125</td><td>-1          </td><td>5              </td><td>1              </td><td>1         </td><td>29.979246139526367 </td><td>0.02713654935359955 </td><td>1           </td><td>177.30709838867188</td><td>0.0       </td><td>21             </td><td>3.0                     </td><td>2019-06-23 17:41:49.192016</td><td>3      </td><td>gt3r   </td><td>447242.3393336775 </td><td>-1108933.3922961077</td></tr>\n",
       "<tr><td><i style='opacity: 0.6'>865,273,103</i></td><td>1565337</td><td>-78.99434332581431</td><td>158.0351739227819  </td><td>0.007572057191282511 </td><td>0.0048851147294044495 </td><td>0.003790514310821891 </td><td>1280.065673828125  </td><td>0.1621844470500946  </td><td>0       </td><td>0     </td><td>0.0  </td><td>0.16623833775520325</td><td>-1          </td><td>5              </td><td>1              </td><td>1         </td><td>29.979246139526367 </td><td>0.027136454358696938</td><td>1           </td><td>-601.5515747070312</td><td>0.0       </td><td>12             </td><td>3.0                     </td><td>2019-06-23 17:41:49.194850</td><td>3      </td><td>gt3r   </td><td>447253.033563472  </td><td>-1108949.6748805325</td></tr>\n",
       "</tbody>\n",
       "</table>"
      ],
      "text/plain": [
       "#            id       lat                 lon                  slope_y                slope_x                 slope_x_sigma          h_li                 s_li                  q_flag    s_fg    snr    h_rb                 bsnow_conf    cloud_flg_asr    cloud_flg_atm    msw_flag    fbsnow_h             bsnow_od              layer_flag    bckgrd              e_bckgrd    n_fit_photons    w_surface_window_final    t_year                      cycle    track    x                   y\n",
       "0            1443587  -79.00604150693235  176.34489505559952   0.0034970236010849476  0.045052722096443176    0.0008298112079501152  -19.586994171142578  0.012193245813250542  0         0       0.0    0.1700313538312912   -1            2                1                3           29.979246139526367   0.26861944794654846   1             28285.419921875     0.0         522              3.0                       2019-03-29 07:13:52.971019  3        gt1l     76147.62450344954   -1192036.1950727522\n",
       "1            1443588  -79.00621643747844  176.34471657932238   0.004264393355697393   0.05056241527199745     0.0008830373408272862  -18.607820510864258  0.012879230082035065  0         0       0.0    0.18802492320537567  -1            2                1                3           29.979246139526367   0.2682749032974243    1             25933.798828125     0.0         541              3.0                       2019-03-29 07:13:52.973831  3        gt1l     76150.11884253839   -1192016.878556122\n",
       "2            1443604  -79.00598340764218  -128.34968452426844  0.0011884707491844893  -0.008782525546848774   0.0012873366940766573  1393.30810546875     0.022358529269695282  0         0       0.0    0.16403409838676453  -1            4                1                2           -15.545355796813965  0.025605319067835808  1             29848.724609375     0.0         134              3.0                       2019-06-16 23:44:16.580875  3        gt1l     -936751.2677578111  -741121.435694096\n",
       "3            1443605  -79.0061584310981   -128.34986074738637  0.0014111476484686136  -0.0077179535292088985  0.0013354523107409477  1393.1937255859375   0.02100951410830021   0         0       0.0    0.17921173572540283  -1            4                1                2           -13.435805320739746  0.025563444942235947  1             32934.61328125      0.0         141              3.0                       2019-06-16 23:44:16.583689  3        gt1l     -936733.9871437278  -741112.4484165515\n",
       "4            1443606  -79.00633341593905  -128.35003802228633  0.0012659610947594047  -0.0070463260635733604  0.0011699371971189976  1393.045166015625    0.027471376582980156  0         0       0.0    0.17215631902217865  -1            4                1                2           -11.32924747467041   0.02552163042128086   1             35919.10546875      0.0         148              3.0                       2019-06-16 23:44:16.586500  3        gt1l     -936716.6963032028  -741103.4808569406\n",
       "...          ...      ...                 ...                  ...                    ...                     ...                    ...                  ...                   ...       ...     ...    ...                  ...           ...              ...              ...         ...                  ...                   ...           ...                 ...         ...              ...                       ...                         ...      ...      ...                 ...\n",
       "865,273,099  1565333  -78.99504226798936  158.03591094289823   0.007495594210922718   0.0078804399818182      0.002683431375771761   1279.90234375        0.05482017993927002   0         0       0.0    0.15907801687717438  -1            5                1                1           29.979246139526367   0.02713683247566223   1             2268.45654296875    0.0         21               3.0                       2019-06-23 17:41:49.183559  3        gt3r     447210.19721519714  -1108884.5834480259\n",
       "865,273,100  1565334  -78.99486756514892  158.03572581694618   0.006783090066164732   0.012846322730183601    0.0031797189731150866  1280.02392578125     0.05916494503617287   0         0       0.0    0.13116207718849182  -1            5                1                1           29.979246139526367   0.02713673934340477   1             1946.7774658203125  0.0         21               3.0                       2019-06-23 17:41:49.186370  3        gt3r     447220.92165426933  -1108900.846272008\n",
       "865,273,101  1565335  -78.99469283993268  158.03554127839766   0.007498532999306917   -0.0022711576893925667  0.0016771184746176004  1279.994873046875    0.026095101609826088  0         0       0.0    0.0632103830575943   -1            5                1                1           29.979246139526367   0.02713664434850216   1             1209.9652099609375  0.0         24               3.0                       2019-06-23 17:41:49.189189  3        gt3r     447231.6357510542   -1108917.115896332\n",
       "865,273,102  1565336  -78.99451809314117  158.03535733441748   0.008078711107373238   9.721379319671541e-05   0.0028819788713008165  1279.9814453125      0.05285322666168213   0         0       0.0    0.14162179827690125  -1            5                1                1           29.979246139526367   0.02713654935359955   1             177.30709838867188  0.0         21               3.0                       2019-06-23 17:41:49.192016  3        gt3r     447242.3393336775   -1108933.3922961077\n",
       "865,273,103  1565337  -78.99434332581431  158.0351739227819    0.007572057191282511   0.0048851147294044495   0.003790514310821891   1280.065673828125    0.1621844470500946    0         0       0.0    0.16623833775520325  -1            5                1                1           29.979246139526367   0.027136454358696938  1             -601.5515747070312  0.0         12               3.0                       2019-06-23 17:41:49.194850  3        gt3r     447253.033563472    -1108949.6748805325"
      ]
     },
     "execution_count": 3,
     "metadata": {},
     "output_type": "execute_result"
    }
   ],
   "source": [
    "df"
   ]
  },
  {
   "cell_type": "code",
   "execution_count": 4,
   "id": "91606e77-d797-44a4-a854-76dcb6cf3e15",
   "metadata": {},
   "outputs": [],
   "source": [
    "x_axis = vjm.Axis(df=df, expression=df.x, shape=1000, min=-1000*1000, max=0)\n",
    "y_axis = vjm.Axis(df=df, expression=df.y, shape=1000, min=0, max=1000*1000)\n",
    "#y_axis"
   ]
  },
  {
   "cell_type": "code",
   "execution_count": 5,
   "id": "e0dd9de9-08c7-4661-abbb-63a3f7bf8659",
   "metadata": {},
   "outputs": [],
   "source": [
    "await vaex.jupyter.gather()  # wait until Vaex is done with all background computation\n",
    "#y_axis  # now min and max are computed, and bin_centers is set"
   ]
  },
  {
   "cell_type": "code",
   "execution_count": 6,
   "id": "2ad69385-8044-47b9-aeb4-082a8fa2125f",
   "metadata": {},
   "outputs": [
    {
     "data": {
      "application/vnd.jupyter.widget-view+json": {
       "model_id": "8b0871c861cd492ba5af8dee3b31f0bd",
       "version_major": 2,
       "version_minor": 0
      },
      "text/plain": [
       "DataArray(children=[Container(children=[ProgressCircularNoAnimation(color='#9ECBF5', size=30, text='', value=1…"
      ]
     },
     "metadata": {},
     "output_type": "display_data"
    }
   ],
   "source": [
    "data_array_widget = df.widget.data_array(axes=[y_axis, x_axis], what='h_li', selection=[None, 'default'])\n",
    "data_array_widget  # being the last expression in the cell, Jupyter  will 'display' the widget"
   ]
  },
  {
   "cell_type": "code",
   "execution_count": 7,
   "id": "0545ed39-d7d0-47b1-86ea-1b1567b8c731",
   "metadata": {},
   "outputs": [],
   "source": [
    "await vaex.jupyter.gather()\n",
    "# get a reference to the xarray DataArray object\n",
    "data_array = data_array_widget.model.grid"
   ]
  },
  {
   "cell_type": "code",
   "execution_count": 8,
   "id": "be3ba813-e722-4b08-8a1a-a338a4cb794d",
   "metadata": {},
   "outputs": [
    {
     "data": {
      "text/plain": [
       "('selection', 'y', 'x')"
      ]
     },
     "execution_count": 8,
     "metadata": {},
     "output_type": "execute_result"
    }
   ],
   "source": [
    "data_array.dims"
   ]
  },
  {
   "cell_type": "code",
   "execution_count": 9,
   "id": "fddeb02d-e8a4-470d-a291-bcdf473260a1",
   "metadata": {},
   "outputs": [
    {
     "data": {
      "text/plain": [
       "Coordinates:\n",
       "  * selection  (selection) object None\n",
       "  * y          (y) float64 500.0 1.5e+03 2.5e+03 ... 9.985e+05 9.995e+05\n",
       "  * x          (x) float64 -9.995e+05 -9.985e+05 -9.975e+05 ... -1.5e+03 -500.0"
      ]
     },
     "execution_count": 9,
     "metadata": {},
     "output_type": "execute_result"
    }
   ],
   "source": [
    "data_array.coords"
   ]
  },
  {
   "cell_type": "code",
   "execution_count": 10,
   "id": "163d24cb-d6f9-43e1-89fd-062c5e529e9a",
   "metadata": {},
   "outputs": [
    {
     "data": {
      "text/html": [
       "<div><svg style=\"position: absolute; width: 0; height: 0; overflow: hidden\">\n",
       "<defs>\n",
       "<symbol id=\"icon-database\" viewBox=\"0 0 32 32\">\n",
       "<path d=\"M16 0c-8.837 0-16 2.239-16 5v4c0 2.761 7.163 5 16 5s16-2.239 16-5v-4c0-2.761-7.163-5-16-5z\"></path>\n",
       "<path d=\"M16 17c-8.837 0-16-2.239-16-5v6c0 2.761 7.163 5 16 5s16-2.239 16-5v-6c0 2.761-7.163 5-16 5z\"></path>\n",
       "<path d=\"M16 26c-8.837 0-16-2.239-16-5v6c0 2.761 7.163 5 16 5s16-2.239 16-5v-6c0 2.761-7.163 5-16 5z\"></path>\n",
       "</symbol>\n",
       "<symbol id=\"icon-file-text2\" viewBox=\"0 0 32 32\">\n",
       "<path d=\"M28.681 7.159c-0.694-0.947-1.662-2.053-2.724-3.116s-2.169-2.030-3.116-2.724c-1.612-1.182-2.393-1.319-2.841-1.319h-15.5c-1.378 0-2.5 1.121-2.5 2.5v27c0 1.378 1.122 2.5 2.5 2.5h23c1.378 0 2.5-1.122 2.5-2.5v-19.5c0-0.448-0.137-1.23-1.319-2.841zM24.543 5.457c0.959 0.959 1.712 1.825 2.268 2.543h-4.811v-4.811c0.718 0.556 1.584 1.309 2.543 2.268zM28 29.5c0 0.271-0.229 0.5-0.5 0.5h-23c-0.271 0-0.5-0.229-0.5-0.5v-27c0-0.271 0.229-0.5 0.5-0.5 0 0 15.499-0 15.5 0v7c0 0.552 0.448 1 1 1h7v19.5z\"></path>\n",
       "<path d=\"M23 26h-14c-0.552 0-1-0.448-1-1s0.448-1 1-1h14c0.552 0 1 0.448 1 1s-0.448 1-1 1z\"></path>\n",
       "<path d=\"M23 22h-14c-0.552 0-1-0.448-1-1s0.448-1 1-1h14c0.552 0 1 0.448 1 1s-0.448 1-1 1z\"></path>\n",
       "<path d=\"M23 18h-14c-0.552 0-1-0.448-1-1s0.448-1 1-1h14c0.552 0 1 0.448 1 1s-0.448 1-1 1z\"></path>\n",
       "</symbol>\n",
       "</defs>\n",
       "</svg>\n",
       "<style>/* CSS stylesheet for displaying xarray objects in jupyterlab.\n",
       " *\n",
       " */\n",
       "\n",
       ":root {\n",
       "  --xr-font-color0: var(--jp-content-font-color0, rgba(0, 0, 0, 1));\n",
       "  --xr-font-color2: var(--jp-content-font-color2, rgba(0, 0, 0, 0.54));\n",
       "  --xr-font-color3: var(--jp-content-font-color3, rgba(0, 0, 0, 0.38));\n",
       "  --xr-border-color: var(--jp-border-color2, #e0e0e0);\n",
       "  --xr-disabled-color: var(--jp-layout-color3, #bdbdbd);\n",
       "  --xr-background-color: var(--jp-layout-color0, white);\n",
       "  --xr-background-color-row-even: var(--jp-layout-color1, white);\n",
       "  --xr-background-color-row-odd: var(--jp-layout-color2, #eeeeee);\n",
       "}\n",
       "\n",
       "html[theme=dark],\n",
       "body.vscode-dark {\n",
       "  --xr-font-color0: rgba(255, 255, 255, 1);\n",
       "  --xr-font-color2: rgba(255, 255, 255, 0.54);\n",
       "  --xr-font-color3: rgba(255, 255, 255, 0.38);\n",
       "  --xr-border-color: #1F1F1F;\n",
       "  --xr-disabled-color: #515151;\n",
       "  --xr-background-color: #111111;\n",
       "  --xr-background-color-row-even: #111111;\n",
       "  --xr-background-color-row-odd: #313131;\n",
       "}\n",
       "\n",
       ".xr-wrap {\n",
       "  display: block;\n",
       "  min-width: 300px;\n",
       "  max-width: 700px;\n",
       "}\n",
       "\n",
       ".xr-text-repr-fallback {\n",
       "  /* fallback to plain text repr when CSS is not injected (untrusted notebook) */\n",
       "  display: none;\n",
       "}\n",
       "\n",
       ".xr-header {\n",
       "  padding-top: 6px;\n",
       "  padding-bottom: 6px;\n",
       "  margin-bottom: 4px;\n",
       "  border-bottom: solid 1px var(--xr-border-color);\n",
       "}\n",
       "\n",
       ".xr-header > div,\n",
       ".xr-header > ul {\n",
       "  display: inline;\n",
       "  margin-top: 0;\n",
       "  margin-bottom: 0;\n",
       "}\n",
       "\n",
       ".xr-obj-type,\n",
       ".xr-array-name {\n",
       "  margin-left: 2px;\n",
       "  margin-right: 10px;\n",
       "}\n",
       "\n",
       ".xr-obj-type {\n",
       "  color: var(--xr-font-color2);\n",
       "}\n",
       "\n",
       ".xr-sections {\n",
       "  padding-left: 0 !important;\n",
       "  display: grid;\n",
       "  grid-template-columns: 150px auto auto 1fr 20px 20px;\n",
       "}\n",
       "\n",
       ".xr-section-item {\n",
       "  display: contents;\n",
       "}\n",
       "\n",
       ".xr-section-item input {\n",
       "  display: none;\n",
       "}\n",
       "\n",
       ".xr-section-item input + label {\n",
       "  color: var(--xr-disabled-color);\n",
       "}\n",
       "\n",
       ".xr-section-item input:enabled + label {\n",
       "  cursor: pointer;\n",
       "  color: var(--xr-font-color2);\n",
       "}\n",
       "\n",
       ".xr-section-item input:enabled + label:hover {\n",
       "  color: var(--xr-font-color0);\n",
       "}\n",
       "\n",
       ".xr-section-summary {\n",
       "  grid-column: 1;\n",
       "  color: var(--xr-font-color2);\n",
       "  font-weight: 500;\n",
       "}\n",
       "\n",
       ".xr-section-summary > span {\n",
       "  display: inline-block;\n",
       "  padding-left: 0.5em;\n",
       "}\n",
       "\n",
       ".xr-section-summary-in:disabled + label {\n",
       "  color: var(--xr-font-color2);\n",
       "}\n",
       "\n",
       ".xr-section-summary-in + label:before {\n",
       "  display: inline-block;\n",
       "  content: '►';\n",
       "  font-size: 11px;\n",
       "  width: 15px;\n",
       "  text-align: center;\n",
       "}\n",
       "\n",
       ".xr-section-summary-in:disabled + label:before {\n",
       "  color: var(--xr-disabled-color);\n",
       "}\n",
       "\n",
       ".xr-section-summary-in:checked + label:before {\n",
       "  content: '▼';\n",
       "}\n",
       "\n",
       ".xr-section-summary-in:checked + label > span {\n",
       "  display: none;\n",
       "}\n",
       "\n",
       ".xr-section-summary,\n",
       ".xr-section-inline-details {\n",
       "  padding-top: 4px;\n",
       "  padding-bottom: 4px;\n",
       "}\n",
       "\n",
       ".xr-section-inline-details {\n",
       "  grid-column: 2 / -1;\n",
       "}\n",
       "\n",
       ".xr-section-details {\n",
       "  display: none;\n",
       "  grid-column: 1 / -1;\n",
       "  margin-bottom: 5px;\n",
       "}\n",
       "\n",
       ".xr-section-summary-in:checked ~ .xr-section-details {\n",
       "  display: contents;\n",
       "}\n",
       "\n",
       ".xr-array-wrap {\n",
       "  grid-column: 1 / -1;\n",
       "  display: grid;\n",
       "  grid-template-columns: 20px auto;\n",
       "}\n",
       "\n",
       ".xr-array-wrap > label {\n",
       "  grid-column: 1;\n",
       "  vertical-align: top;\n",
       "}\n",
       "\n",
       ".xr-preview {\n",
       "  color: var(--xr-font-color3);\n",
       "}\n",
       "\n",
       ".xr-array-preview,\n",
       ".xr-array-data {\n",
       "  padding: 0 5px !important;\n",
       "  grid-column: 2;\n",
       "}\n",
       "\n",
       ".xr-array-data,\n",
       ".xr-array-in:checked ~ .xr-array-preview {\n",
       "  display: none;\n",
       "}\n",
       "\n",
       ".xr-array-in:checked ~ .xr-array-data,\n",
       ".xr-array-preview {\n",
       "  display: inline-block;\n",
       "}\n",
       "\n",
       ".xr-dim-list {\n",
       "  display: inline-block !important;\n",
       "  list-style: none;\n",
       "  padding: 0 !important;\n",
       "  margin: 0;\n",
       "}\n",
       "\n",
       ".xr-dim-list li {\n",
       "  display: inline-block;\n",
       "  padding: 0;\n",
       "  margin: 0;\n",
       "}\n",
       "\n",
       ".xr-dim-list:before {\n",
       "  content: '(';\n",
       "}\n",
       "\n",
       ".xr-dim-list:after {\n",
       "  content: ')';\n",
       "}\n",
       "\n",
       ".xr-dim-list li:not(:last-child):after {\n",
       "  content: ',';\n",
       "  padding-right: 5px;\n",
       "}\n",
       "\n",
       ".xr-has-index {\n",
       "  font-weight: bold;\n",
       "}\n",
       "\n",
       ".xr-var-list,\n",
       ".xr-var-item {\n",
       "  display: contents;\n",
       "}\n",
       "\n",
       ".xr-var-item > div,\n",
       ".xr-var-item label,\n",
       ".xr-var-item > .xr-var-name span {\n",
       "  background-color: var(--xr-background-color-row-even);\n",
       "  margin-bottom: 0;\n",
       "}\n",
       "\n",
       ".xr-var-item > .xr-var-name:hover span {\n",
       "  padding-right: 5px;\n",
       "}\n",
       "\n",
       ".xr-var-list > li:nth-child(odd) > div,\n",
       ".xr-var-list > li:nth-child(odd) > label,\n",
       ".xr-var-list > li:nth-child(odd) > .xr-var-name span {\n",
       "  background-color: var(--xr-background-color-row-odd);\n",
       "}\n",
       "\n",
       ".xr-var-name {\n",
       "  grid-column: 1;\n",
       "}\n",
       "\n",
       ".xr-var-dims {\n",
       "  grid-column: 2;\n",
       "}\n",
       "\n",
       ".xr-var-dtype {\n",
       "  grid-column: 3;\n",
       "  text-align: right;\n",
       "  color: var(--xr-font-color2);\n",
       "}\n",
       "\n",
       ".xr-var-preview {\n",
       "  grid-column: 4;\n",
       "}\n",
       "\n",
       ".xr-var-name,\n",
       ".xr-var-dims,\n",
       ".xr-var-dtype,\n",
       ".xr-preview,\n",
       ".xr-attrs dt {\n",
       "  white-space: nowrap;\n",
       "  overflow: hidden;\n",
       "  text-overflow: ellipsis;\n",
       "  padding-right: 10px;\n",
       "}\n",
       "\n",
       ".xr-var-name:hover,\n",
       ".xr-var-dims:hover,\n",
       ".xr-var-dtype:hover,\n",
       ".xr-attrs dt:hover {\n",
       "  overflow: visible;\n",
       "  width: auto;\n",
       "  z-index: 1;\n",
       "}\n",
       "\n",
       ".xr-var-attrs,\n",
       ".xr-var-data {\n",
       "  display: none;\n",
       "  background-color: var(--xr-background-color) !important;\n",
       "  padding-bottom: 5px !important;\n",
       "}\n",
       "\n",
       ".xr-var-attrs-in:checked ~ .xr-var-attrs,\n",
       ".xr-var-data-in:checked ~ .xr-var-data {\n",
       "  display: block;\n",
       "}\n",
       "\n",
       ".xr-var-data > table {\n",
       "  float: right;\n",
       "}\n",
       "\n",
       ".xr-var-name span,\n",
       ".xr-var-data,\n",
       ".xr-attrs {\n",
       "  padding-left: 25px !important;\n",
       "}\n",
       "\n",
       ".xr-attrs,\n",
       ".xr-var-attrs,\n",
       ".xr-var-data {\n",
       "  grid-column: 1 / -1;\n",
       "}\n",
       "\n",
       "dl.xr-attrs {\n",
       "  padding: 0;\n",
       "  margin: 0;\n",
       "  display: grid;\n",
       "  grid-template-columns: 125px auto;\n",
       "}\n",
       "\n",
       ".xr-attrs dt,\n",
       ".xr-attrs dd {\n",
       "  padding: 0;\n",
       "  margin: 0;\n",
       "  float: left;\n",
       "  padding-right: 10px;\n",
       "  width: auto;\n",
       "}\n",
       "\n",
       ".xr-attrs dt {\n",
       "  font-weight: normal;\n",
       "  grid-column: 1;\n",
       "}\n",
       "\n",
       ".xr-attrs dt:hover span {\n",
       "  display: inline-block;\n",
       "  background: var(--xr-background-color);\n",
       "  padding-right: 10px;\n",
       "}\n",
       "\n",
       ".xr-attrs dd {\n",
       "  grid-column: 2;\n",
       "  white-space: pre-wrap;\n",
       "  word-break: break-all;\n",
       "}\n",
       "\n",
       ".xr-icon-database,\n",
       ".xr-icon-file-text2 {\n",
       "  display: inline-block;\n",
       "  vertical-align: middle;\n",
       "  width: 1em;\n",
       "  height: 1.5em !important;\n",
       "  stroke-width: 0;\n",
       "  stroke: currentColor;\n",
       "  fill: currentColor;\n",
       "}\n",
       "</style><pre class='xr-text-repr-fallback'>&lt;xarray.DataArray (selection: 1, y: 1000, x: 1000)&gt;\n",
       "array([[[200, 156, 105, ...,   0,   0,   0],\n",
       "        [185, 159, 212, ...,   0,   0,   0],\n",
       "        [ 27, 101, 106, ...,   0,   0,   0],\n",
       "        ...,\n",
       "        [  0,   0,   0, ..., 210,   0, 184],\n",
       "        [  0,   0,   0, ..., 185,  26, 106],\n",
       "        [  0,   0,   0, ..., 177, 171,  50]]])\n",
       "Coordinates:\n",
       "  * selection  (selection) object None\n",
       "  * y          (y) float64 500.0 1.5e+03 2.5e+03 ... 9.985e+05 9.995e+05\n",
       "  * x          (x) float64 -9.995e+05 -9.985e+05 -9.975e+05 ... -1.5e+03 -500.0</pre><div class='xr-wrap' hidden><div class='xr-header'><div class='xr-obj-type'>xarray.DataArray</div><div class='xr-array-name'></div><ul class='xr-dim-list'><li><span class='xr-has-index'>selection</span>: 1</li><li><span class='xr-has-index'>y</span>: 1000</li><li><span class='xr-has-index'>x</span>: 1000</li></ul></div><ul class='xr-sections'><li class='xr-section-item'><div class='xr-array-wrap'><input id='section-f5c4ecb0-32fc-4a3b-8323-9cda1b50cc9a' class='xr-array-in' type='checkbox' checked><label for='section-f5c4ecb0-32fc-4a3b-8323-9cda1b50cc9a' title='Show/hide data repr'><svg class='icon xr-icon-database'><use xlink:href='#icon-database'></use></svg></label><div class='xr-array-preview xr-preview'><span>200 156 105 68 85 106 125 210 147 ... 106 69 212 0 203 44 177 171 50</span></div><div class='xr-array-data'><pre>array([[[200, 156, 105, ...,   0,   0,   0],\n",
       "        [185, 159, 212, ...,   0,   0,   0],\n",
       "        [ 27, 101, 106, ...,   0,   0,   0],\n",
       "        ...,\n",
       "        [  0,   0,   0, ..., 210,   0, 184],\n",
       "        [  0,   0,   0, ..., 185,  26, 106],\n",
       "        [  0,   0,   0, ..., 177, 171,  50]]])</pre></div></div></li><li class='xr-section-item'><input id='section-22fa348a-60ec-4fea-934b-ae5ea0f48956' class='xr-section-summary-in' type='checkbox'  checked><label for='section-22fa348a-60ec-4fea-934b-ae5ea0f48956' class='xr-section-summary' >Coordinates: <span>(3)</span></label><div class='xr-section-inline-details'></div><div class='xr-section-details'><ul class='xr-var-list'><li class='xr-var-item'><div class='xr-var-name'><span class='xr-has-index'>selection</span></div><div class='xr-var-dims'>(selection)</div><div class='xr-var-dtype'>object</div><div class='xr-var-preview xr-preview'>None</div><input id='attrs-4a5e85bf-b7d2-474a-9491-a842760d8217' class='xr-var-attrs-in' type='checkbox' disabled><label for='attrs-4a5e85bf-b7d2-474a-9491-a842760d8217' title='Show/Hide attributes'><svg class='icon xr-icon-file-text2'><use xlink:href='#icon-file-text2'></use></svg></label><input id='data-34ecd92b-60f6-4481-bdf1-9c9aa76d7672' class='xr-var-data-in' type='checkbox'><label for='data-34ecd92b-60f6-4481-bdf1-9c9aa76d7672' title='Show/Hide data repr'><svg class='icon xr-icon-database'><use xlink:href='#icon-database'></use></svg></label><div class='xr-var-attrs'><dl class='xr-attrs'></dl></div><div class='xr-var-data'><pre>array([None], dtype=object)</pre></div></li><li class='xr-var-item'><div class='xr-var-name'><span class='xr-has-index'>y</span></div><div class='xr-var-dims'>(y)</div><div class='xr-var-dtype'>float64</div><div class='xr-var-preview xr-preview'>500.0 1.5e+03 ... 9.995e+05</div><input id='attrs-ba5b1f1f-924a-4b3d-ba0b-853c23caa43b' class='xr-var-attrs-in' type='checkbox' ><label for='attrs-ba5b1f1f-924a-4b3d-ba0b-853c23caa43b' title='Show/Hide attributes'><svg class='icon xr-icon-file-text2'><use xlink:href='#icon-file-text2'></use></svg></label><input id='data-42d81ace-fb4f-4aa9-9408-fc67816579ea' class='xr-var-data-in' type='checkbox'><label for='data-42d81ace-fb4f-4aa9-9408-fc67816579ea' title='Show/Hide data repr'><svg class='icon xr-icon-database'><use xlink:href='#icon-database'></use></svg></label><div class='xr-var-attrs'><dl class='xr-attrs'><dt><span>min :</span></dt><dd>0.0</dd><dt><span>max :</span></dt><dd>1000000.0</dd></dl></div><div class='xr-var-data'><pre>array([5.000e+02, 1.500e+03, 2.500e+03, ..., 9.975e+05, 9.985e+05, 9.995e+05])</pre></div></li><li class='xr-var-item'><div class='xr-var-name'><span class='xr-has-index'>x</span></div><div class='xr-var-dims'>(x)</div><div class='xr-var-dtype'>float64</div><div class='xr-var-preview xr-preview'>-9.995e+05 -9.985e+05 ... -500.0</div><input id='attrs-e6a81f0f-6ccd-4ca8-80e6-066ffb49d8ff' class='xr-var-attrs-in' type='checkbox' ><label for='attrs-e6a81f0f-6ccd-4ca8-80e6-066ffb49d8ff' title='Show/Hide attributes'><svg class='icon xr-icon-file-text2'><use xlink:href='#icon-file-text2'></use></svg></label><input id='data-e0df761b-fbf1-4129-8664-4cb711b24a25' class='xr-var-data-in' type='checkbox'><label for='data-e0df761b-fbf1-4129-8664-4cb711b24a25' title='Show/Hide data repr'><svg class='icon xr-icon-database'><use xlink:href='#icon-database'></use></svg></label><div class='xr-var-attrs'><dl class='xr-attrs'><dt><span>min :</span></dt><dd>-1000000.0</dd><dt><span>max :</span></dt><dd>0.0</dd></dl></div><div class='xr-var-data'><pre>array([-9.995e+05, -9.985e+05, -9.975e+05, ..., -2.500e+03, -1.500e+03,\n",
       "       -5.000e+02])</pre></div></li></ul></div></li><li class='xr-section-item'><input id='section-36d58a91-cb69-428e-a688-3909326d3147' class='xr-section-summary-in' type='checkbox' disabled ><label for='section-36d58a91-cb69-428e-a688-3909326d3147' class='xr-section-summary'  title='Expand/collapse section'>Attributes: <span>(0)</span></label><div class='xr-section-inline-details'></div><div class='xr-section-details'><dl class='xr-attrs'></dl></div></li></ul></div></div>"
      ],
      "text/plain": [
       "<xarray.DataArray (selection: 1, y: 1000, x: 1000)>\n",
       "array([[[200, 156, 105, ...,   0,   0,   0],\n",
       "        [185, 159, 212, ...,   0,   0,   0],\n",
       "        [ 27, 101, 106, ...,   0,   0,   0],\n",
       "        ...,\n",
       "        [  0,   0,   0, ..., 210,   0, 184],\n",
       "        [  0,   0,   0, ..., 185,  26, 106],\n",
       "        [  0,   0,   0, ..., 177, 171,  50]]])\n",
       "Coordinates:\n",
       "  * selection  (selection) object None\n",
       "  * y          (y) float64 500.0 1.5e+03 2.5e+03 ... 9.985e+05 9.995e+05\n",
       "  * x          (x) float64 -9.995e+05 -9.985e+05 -9.975e+05 ... -1.5e+03 -500.0"
      ]
     },
     "metadata": {},
     "output_type": "display_data"
    }
   ],
   "source": [
    "display(data_array)  # this is what the vaex.jupyter.view.DataArray uses"
   ]
  },
  {
   "cell_type": "code",
   "execution_count": 11,
   "id": "2149b2d2-551b-40e8-bd75-16c391652cf5",
   "metadata": {},
   "outputs": [
    {
     "data": {
      "text/plain": [
       "<vaex.dataframe.DataFrameLocal.data.<locals>.Datas at 0x7f0bddcbda30>"
      ]
     },
     "execution_count": 11,
     "metadata": {},
     "output_type": "execute_result"
    }
   ],
   "source": [
    "df.data"
   ]
  },
  {
   "cell_type": "code",
   "execution_count": 12,
   "id": "f33d7537-7fe4-4e65-9661-e5a769414bbe",
   "metadata": {},
   "outputs": [
    {
     "data": {
      "application/vnd.jupyter.widget-view+json": {
       "model_id": "0400cb6e816a4eb68ae567aca50e9964",
       "version_major": 2,
       "version_minor": 0
      },
      "text/plain": [
       "DataArray(children=[Container(children=[ProgressCircularNoAnimation(color='#9ECBF5', size=30, text='', value=1…"
      ]
     },
     "metadata": {},
     "output_type": "display_data"
    }
   ],
   "source": [
    "# NOTE: da is short for 'data array'\n",
    "def plot2d(da):\n",
    "    plt.figure(figsize=(8, 8))\n",
    "    ar =  da.data[0]  # take the numpy data, and select take the selection\n",
    "    print(f'imshow of a numpy array of shape: {ar.shape}')\n",
    "    #plt.imshow(np.log1p(ar.T), origin='lower')\n",
    "    #plt.imshow(ar.T, origin='lower')\n",
    "    plt.colorbar()\n",
    "\n",
    "\n",
    "df.widget.data_array(axes=[x_axis, y_axis], display_function=plot2d, selection=[None, True])"
   ]
  },
  {
   "cell_type": "code",
   "execution_count": 13,
   "id": "2e50f7be-3e20-408a-b57f-e4ca1e763e6b",
   "metadata": {},
   "outputs": [],
   "source": [
    "df.select(df.q_flag == 0)"
   ]
  },
  {
   "cell_type": "code",
   "execution_count": 14,
   "id": "52c2ce7d-0362-432d-beaf-5f5e9beeaddc",
   "metadata": {},
   "outputs": [],
   "source": [
    "#df[0]"
   ]
  },
  {
   "cell_type": "code",
   "execution_count": 15,
   "id": "1e54ef7d-9660-45fa-bf42-241a7949f949",
   "metadata": {},
   "outputs": [
    {
     "name": "stderr",
     "output_type": "stream",
     "text": [
      "ERROR:MainThread:vaex.execution:nested execute call\n"
     ]
    },
    {
     "ename": "RuntimeError",
     "evalue": "nested execute call: False True\nlast trace:\n  File \"/nix/store/4s0h5aawbap3xhldxhcijvl26751qrjr-python3-3.8.9/lib/python3.8/runpy.py\", line 194, in _run_module_as_main\n    return _run_code(code, main_globals, None,\n  File \"/nix/store/4s0h5aawbap3xhldxhcijvl26751qrjr-python3-3.8.9/lib/python3.8/runpy.py\", line 87, in _run_code\n    exec(code, run_globals)\n  File \"/nix/store/5kld536dkk8cmfy3wk8xkrdg1yzmh7h5-python3-3.8.9-env/lib/python3.8/site-packages/ipykernel_launcher.py\", line 16, in <module>\n    app.launch_new_instance()\n  File \"/nix/store/5kld536dkk8cmfy3wk8xkrdg1yzmh7h5-python3-3.8.9-env/lib/python3.8/site-packages/traitlets/config/application.py\", line 845, in launch_instance\n    app.start()\n  File \"/nix/store/5kld536dkk8cmfy3wk8xkrdg1yzmh7h5-python3-3.8.9-env/lib/python3.8/site-packages/ipykernel/kernelapp.py\", line 612, in start\n    self.io_loop.start()\n  File \"/nix/store/5kld536dkk8cmfy3wk8xkrdg1yzmh7h5-python3-3.8.9-env/lib/python3.8/site-packages/tornado/platform/asyncio.py\", line 199, in start\n    self.asyncio_loop.run_forever()\n  File \"/nix/store/4s0h5aawbap3xhldxhcijvl26751qrjr-python3-3.8.9/lib/python3.8/asyncio/base_events.py\", line 570, in run_forever\n    self._run_once()\n  File \"/nix/store/4s0h5aawbap3xhldxhcijvl26751qrjr-python3-3.8.9/lib/python3.8/asyncio/base_events.py\", line 1859, in _run_once\n    handle._run()\n  File \"/nix/store/4s0h5aawbap3xhldxhcijvl26751qrjr-python3-3.8.9/lib/python3.8/asyncio/events.py\", line 81, in _run\n    self._context.run(self._callback, *self._args)\n  File \"/home/jupyter/iceDivides/_build/pip_packages/lib/python3.8/site-packages/vaex/jupyter/utils.py\", line 184, in run_async\n    result = await result\n  File \"/home/jupyter/iceDivides/_build/pip_packages/lib/python3.8/site-packages/vaex/jupyter/__init__.py\", line 41, in execute_debounced\n    await self.df.execute_async()\n  File \"/home/jupyter/iceDivides/_build/pip_packages/lib/python3.8/site-packages/vaex/dataframe.py\", line 380, in execute_async\n    await self.executor.execute_async()\n  File \"/home/jupyter/iceDivides/_build/pip_packages/lib/python3.8/site-packages/vaex/execution.py\", line 132, in execute_async\n    trace = ''.join(traceback.format_stack())\n\ncurrent trace:\n  File \"/nix/store/4s0h5aawbap3xhldxhcijvl26751qrjr-python3-3.8.9/lib/python3.8/runpy.py\", line 194, in _run_module_as_main\n    return _run_code(code, main_globals, None,\n  File \"/nix/store/4s0h5aawbap3xhldxhcijvl26751qrjr-python3-3.8.9/lib/python3.8/runpy.py\", line 87, in _run_code\n    exec(code, run_globals)\n  File \"/nix/store/5kld536dkk8cmfy3wk8xkrdg1yzmh7h5-python3-3.8.9-env/lib/python3.8/site-packages/ipykernel_launcher.py\", line 16, in <module>\n    app.launch_new_instance()\n  File \"/nix/store/5kld536dkk8cmfy3wk8xkrdg1yzmh7h5-python3-3.8.9-env/lib/python3.8/site-packages/traitlets/config/application.py\", line 845, in launch_instance\n    app.start()\n  File \"/nix/store/5kld536dkk8cmfy3wk8xkrdg1yzmh7h5-python3-3.8.9-env/lib/python3.8/site-packages/ipykernel/kernelapp.py\", line 612, in start\n    self.io_loop.start()\n  File \"/nix/store/5kld536dkk8cmfy3wk8xkrdg1yzmh7h5-python3-3.8.9-env/lib/python3.8/site-packages/tornado/platform/asyncio.py\", line 199, in start\n    self.asyncio_loop.run_forever()\n  File \"/nix/store/4s0h5aawbap3xhldxhcijvl26751qrjr-python3-3.8.9/lib/python3.8/asyncio/base_events.py\", line 570, in run_forever\n    self._run_once()\n  File \"/nix/store/4s0h5aawbap3xhldxhcijvl26751qrjr-python3-3.8.9/lib/python3.8/asyncio/base_events.py\", line 1859, in _run_once\n    handle._run()\n  File \"/nix/store/4s0h5aawbap3xhldxhcijvl26751qrjr-python3-3.8.9/lib/python3.8/asyncio/events.py\", line 81, in _run\n    self._context.run(self._callback, *self._args)\n  File \"/nix/store/5kld536dkk8cmfy3wk8xkrdg1yzmh7h5-python3-3.8.9-env/lib/python3.8/site-packages/tornado/ioloop.py\", line 688, in <lambda>\n    lambda f: self._run_callback(functools.partial(callback, future))\n  File \"/nix/store/5kld536dkk8cmfy3wk8xkrdg1yzmh7h5-python3-3.8.9-env/lib/python3.8/site-packages/tornado/ioloop.py\", line 741, in _run_callback\n    ret = callback()\n  File \"/nix/store/5kld536dkk8cmfy3wk8xkrdg1yzmh7h5-python3-3.8.9-env/lib/python3.8/site-packages/tornado/gen.py\", line 814, in inner\n    self.ctx_run(self.run)\n  File \"/nix/store/5kld536dkk8cmfy3wk8xkrdg1yzmh7h5-python3-3.8.9-env/lib/python3.8/site-packages/tornado/gen.py\", line 775, in run\n    yielded = self.gen.send(value)\n  File \"/nix/store/5kld536dkk8cmfy3wk8xkrdg1yzmh7h5-python3-3.8.9-env/lib/python3.8/site-packages/ipykernel/kernelbase.py\", line 358, in process_one\n    yield gen.maybe_future(dispatch(*args))\n  File \"/nix/store/5kld536dkk8cmfy3wk8xkrdg1yzmh7h5-python3-3.8.9-env/lib/python3.8/site-packages/tornado/gen.py\", line 234, in wrapper\n    yielded = ctx_run(next, result)\n  File \"/nix/store/5kld536dkk8cmfy3wk8xkrdg1yzmh7h5-python3-3.8.9-env/lib/python3.8/site-packages/ipykernel/kernelbase.py\", line 261, in dispatch_shell\n    yield gen.maybe_future(handler(stream, idents, msg))\n  File \"/nix/store/5kld536dkk8cmfy3wk8xkrdg1yzmh7h5-python3-3.8.9-env/lib/python3.8/site-packages/tornado/gen.py\", line 234, in wrapper\n    yielded = ctx_run(next, result)\n  File \"/nix/store/5kld536dkk8cmfy3wk8xkrdg1yzmh7h5-python3-3.8.9-env/lib/python3.8/site-packages/ipykernel/kernelbase.py\", line 536, in execute_request\n    self.do_execute(\n  File \"/nix/store/5kld536dkk8cmfy3wk8xkrdg1yzmh7h5-python3-3.8.9-env/lib/python3.8/site-packages/tornado/gen.py\", line 234, in wrapper\n    yielded = ctx_run(next, result)\n  File \"/nix/store/5kld536dkk8cmfy3wk8xkrdg1yzmh7h5-python3-3.8.9-env/lib/python3.8/site-packages/ipykernel/ipkernel.py\", line 302, in do_execute\n    res = shell.run_cell(code, store_history=store_history, silent=silent)\n  File \"/nix/store/5kld536dkk8cmfy3wk8xkrdg1yzmh7h5-python3-3.8.9-env/lib/python3.8/site-packages/ipykernel/zmqshell.py\", line 539, in run_cell\n    return super(ZMQInteractiveShell, self).run_cell(*args, **kwargs)\n  File \"/nix/store/5kld536dkk8cmfy3wk8xkrdg1yzmh7h5-python3-3.8.9-env/lib/python3.8/site-packages/IPython/core/interactiveshell.py\", line 2894, in run_cell\n    result = self._run_cell(\n  File \"/nix/store/5kld536dkk8cmfy3wk8xkrdg1yzmh7h5-python3-3.8.9-env/lib/python3.8/site-packages/IPython/core/interactiveshell.py\", line 2940, in _run_cell\n    return runner(coro)\n  File \"/nix/store/5kld536dkk8cmfy3wk8xkrdg1yzmh7h5-python3-3.8.9-env/lib/python3.8/site-packages/IPython/core/async_helpers.py\", line 68, in _pseudo_sync_runner\n    coro.send(None)\n  File \"/nix/store/5kld536dkk8cmfy3wk8xkrdg1yzmh7h5-python3-3.8.9-env/lib/python3.8/site-packages/IPython/core/interactiveshell.py\", line 3165, in run_cell_async\n    has_raised = await self.run_ast_nodes(code_ast.body, cell_name,\n  File \"/nix/store/5kld536dkk8cmfy3wk8xkrdg1yzmh7h5-python3-3.8.9-env/lib/python3.8/site-packages/IPython/core/interactiveshell.py\", line 3357, in run_ast_nodes\n    if (await self.run_code(code, result,  async_=asy)):\n  File \"/nix/store/5kld536dkk8cmfy3wk8xkrdg1yzmh7h5-python3-3.8.9-env/lib/python3.8/site-packages/IPython/core/interactiveshell.py\", line 3437, in run_code\n    exec(code_obj, self.user_global_ns, self.user_ns)\n  File \"<ipython-input-15-88c6816aa9ab>\", line 1, in <module>\n    xy_mean_v = df.mean(df.h_li, binby=[df.x, df.y],\n  File \"/home/jupyter/iceDivides/_build/pip_packages/lib/python3.8/site-packages/vaex/dataframe.py\", line 882, in mean\n    return self._compute_agg('mean', expression, binby, limits, shape, selection, delay, edges, progress, array_type=array_type)\n  File \"/home/jupyter/iceDivides/_build/pip_packages/lib/python3.8/site-packages/vaex/dataframe.py\", line 773, in _compute_agg\n    return self._delay(delay, var)\n  File \"/home/jupyter/iceDivides/_build/pip_packages/lib/python3.8/site-packages/vaex/dataframe.py\", line 1537, in _delay\n    self.execute()\n  File \"/home/jupyter/iceDivides/_build/pip_packages/lib/python3.8/site-packages/vaex/dataframe.py\", line 375, in execute\n    just_run(self.execute_async())\n  File \"/home/jupyter/iceDivides/_build/pip_packages/lib/python3.8/site-packages/vaex/asyncio.py\", line 35, in just_run\n    return loop.run_until_complete(coro)\n  File \"/nix/store/5kld536dkk8cmfy3wk8xkrdg1yzmh7h5-python3-3.8.9-env/lib/python3.8/site-packages/nest_asyncio.py\", line 64, in run_until_complete\n    self._run_once()\n  File \"/nix/store/5kld536dkk8cmfy3wk8xkrdg1yzmh7h5-python3-3.8.9-env/lib/python3.8/site-packages/nest_asyncio.py\", line 100, in _run_once\n    handle._run()\n  File \"/nix/store/4s0h5aawbap3xhldxhcijvl26751qrjr-python3-3.8.9/lib/python3.8/asyncio/events.py\", line 81, in _run\n    self._context.run(self._callback, *self._args)\n  File \"/nix/store/5kld536dkk8cmfy3wk8xkrdg1yzmh7h5-python3-3.8.9-env/lib/python3.8/site-packages/nest_asyncio.py\", line 169, in step\n    step_orig(task, exc)\n  File \"/nix/store/4s0h5aawbap3xhldxhcijvl26751qrjr-python3-3.8.9/lib/python3.8/asyncio/tasks.py\", line 280, in __step\n    result = coro.send(None)\n  File \"/home/jupyter/iceDivides/_build/pip_packages/lib/python3.8/site-packages/vaex/dataframe.py\", line 380, in execute_async\n    await self.executor.execute_async()\n  File \"/home/jupyter/iceDivides/_build/pip_packages/lib/python3.8/site-packages/vaex/execution.py\", line 132, in execute_async\n    trace = ''.join(traceback.format_stack())\n",
     "output_type": "error",
     "traceback": [
      "\u001b[0;31m---------------------------------------------------------------------------\u001b[0m",
      "\u001b[0;31mRuntimeError\u001b[0m                              Traceback (most recent call last)",
      "\u001b[0;32m<ipython-input-15-88c6816aa9ab>\u001b[0m in \u001b[0;36m<module>\u001b[0;34m\u001b[0m\n\u001b[0;32m----> 1\u001b[0;31m xy_mean_v = df.mean(df.h_li, binby=[df.x, df.y], \n\u001b[0m\u001b[1;32m      2\u001b[0m                     \u001b[0;31m#limits=[ [float(df.y.max()), 0], [float(df.x.min()),\u001b[0m\u001b[0;34m\u001b[0m\u001b[0;34m\u001b[0m\u001b[0;34m\u001b[0m\u001b[0m\n\u001b[1;32m      3\u001b[0m                     \u001b[0;31m#                                  float(df.x.max())]],\u001b[0m\u001b[0;34m\u001b[0m\u001b[0;34m\u001b[0m\u001b[0;34m\u001b[0m\u001b[0m\n\u001b[1;32m      4\u001b[0m                     shape=(1000, 1000))\n",
      "\u001b[0;32m/home/jupyter/iceDivides/_build/pip_packages/lib/python3.8/site-packages/vaex/dataframe.py\u001b[0m in \u001b[0;36mmean\u001b[0;34m(self, expression, binby, limits, shape, selection, delay, progress, edges, array_type)\u001b[0m\n\u001b[1;32m    880\u001b[0m         \u001b[0;34m:\u001b[0m\u001b[0;32mreturn\u001b[0m\u001b[0;34m:\u001b[0m \u001b[0;34m{\u001b[0m\u001b[0mreturn_stat_scalar\u001b[0m\u001b[0;34m}\u001b[0m\u001b[0;34m\u001b[0m\u001b[0;34m\u001b[0m\u001b[0m\n\u001b[1;32m    881\u001b[0m         \"\"\"\n\u001b[0;32m--> 882\u001b[0;31m         \u001b[0;32mreturn\u001b[0m \u001b[0mself\u001b[0m\u001b[0;34m.\u001b[0m\u001b[0m_compute_agg\u001b[0m\u001b[0;34m(\u001b[0m\u001b[0;34m'mean'\u001b[0m\u001b[0;34m,\u001b[0m \u001b[0mexpression\u001b[0m\u001b[0;34m,\u001b[0m \u001b[0mbinby\u001b[0m\u001b[0;34m,\u001b[0m \u001b[0mlimits\u001b[0m\u001b[0;34m,\u001b[0m \u001b[0mshape\u001b[0m\u001b[0;34m,\u001b[0m \u001b[0mselection\u001b[0m\u001b[0;34m,\u001b[0m \u001b[0mdelay\u001b[0m\u001b[0;34m,\u001b[0m \u001b[0medges\u001b[0m\u001b[0;34m,\u001b[0m \u001b[0mprogress\u001b[0m\u001b[0;34m,\u001b[0m \u001b[0marray_type\u001b[0m\u001b[0;34m=\u001b[0m\u001b[0marray_type\u001b[0m\u001b[0;34m)\u001b[0m\u001b[0;34m\u001b[0m\u001b[0;34m\u001b[0m\u001b[0m\n\u001b[0m\u001b[1;32m    883\u001b[0m         \u001b[0mlogger\u001b[0m\u001b[0;34m.\u001b[0m\u001b[0mdebug\u001b[0m\u001b[0;34m(\u001b[0m\u001b[0;34m\"mean of %r, with binby=%r, limits=%r, shape=%r, selection=%r, delay=%r\"\u001b[0m\u001b[0;34m,\u001b[0m \u001b[0mexpression\u001b[0m\u001b[0;34m,\u001b[0m \u001b[0mbinby\u001b[0m\u001b[0;34m,\u001b[0m \u001b[0mlimits\u001b[0m\u001b[0;34m,\u001b[0m \u001b[0mshape\u001b[0m\u001b[0;34m,\u001b[0m \u001b[0mselection\u001b[0m\u001b[0;34m,\u001b[0m \u001b[0mdelay\u001b[0m\u001b[0;34m)\u001b[0m\u001b[0;34m\u001b[0m\u001b[0;34m\u001b[0m\u001b[0m\n\u001b[1;32m    884\u001b[0m         \u001b[0mexpression\u001b[0m \u001b[0;34m=\u001b[0m \u001b[0m_ensure_strings_from_expressions\u001b[0m\u001b[0;34m(\u001b[0m\u001b[0mexpression\u001b[0m\u001b[0;34m)\u001b[0m\u001b[0;34m\u001b[0m\u001b[0;34m\u001b[0m\u001b[0m\n",
      "\u001b[0;32m/home/jupyter/iceDivides/_build/pip_packages/lib/python3.8/site-packages/vaex/dataframe.py\u001b[0m in \u001b[0;36m_compute_agg\u001b[0;34m(self, name, expression, binby, limits, shape, selection, delay, edges, progress, extra_expressions, array_type)\u001b[0m\n\u001b[1;32m    771\u001b[0m         \u001b[0mstats\u001b[0m \u001b[0;34m=\u001b[0m \u001b[0;34m[\u001b[0m\u001b[0mcompute\u001b[0m\u001b[0;34m(\u001b[0m\u001b[0mexpression\u001b[0m\u001b[0;34m,\u001b[0m \u001b[0mgrid\u001b[0m\u001b[0;34m,\u001b[0m \u001b[0mselection\u001b[0m\u001b[0;34m=\u001b[0m\u001b[0mselection\u001b[0m\u001b[0;34m,\u001b[0m \u001b[0medges\u001b[0m\u001b[0;34m=\u001b[0m\u001b[0medges\u001b[0m\u001b[0;34m,\u001b[0m \u001b[0mprogressbar\u001b[0m\u001b[0;34m=\u001b[0m\u001b[0mprogressbar\u001b[0m\u001b[0;34m)\u001b[0m \u001b[0;32mfor\u001b[0m \u001b[0mexpression\u001b[0m \u001b[0;32min\u001b[0m \u001b[0mexpressions\u001b[0m\u001b[0;34m]\u001b[0m\u001b[0;34m\u001b[0m\u001b[0;34m\u001b[0m\u001b[0m\n\u001b[1;32m    772\u001b[0m         \u001b[0mvar\u001b[0m \u001b[0;34m=\u001b[0m \u001b[0mfinish\u001b[0m\u001b[0;34m(\u001b[0m\u001b[0mgrid\u001b[0m\u001b[0;34m,\u001b[0m \u001b[0;34m*\u001b[0m\u001b[0mstats\u001b[0m\u001b[0;34m)\u001b[0m\u001b[0;34m\u001b[0m\u001b[0;34m\u001b[0m\u001b[0m\n\u001b[0;32m--> 773\u001b[0;31m         \u001b[0;32mreturn\u001b[0m \u001b[0mself\u001b[0m\u001b[0;34m.\u001b[0m\u001b[0m_delay\u001b[0m\u001b[0;34m(\u001b[0m\u001b[0mdelay\u001b[0m\u001b[0;34m,\u001b[0m \u001b[0mvar\u001b[0m\u001b[0;34m)\u001b[0m\u001b[0;34m\u001b[0m\u001b[0;34m\u001b[0m\u001b[0m\n\u001b[0m\u001b[1;32m    774\u001b[0m \u001b[0;34m\u001b[0m\u001b[0m\n\u001b[1;32m    775\u001b[0m     \u001b[0;34m@\u001b[0m\u001b[0mdocsubst\u001b[0m\u001b[0;34m\u001b[0m\u001b[0;34m\u001b[0m\u001b[0m\n",
      "\u001b[0;32m/home/jupyter/iceDivides/_build/pip_packages/lib/python3.8/site-packages/vaex/dataframe.py\u001b[0m in \u001b[0;36m_delay\u001b[0;34m(self, delay, task, progressbar)\u001b[0m\n\u001b[1;32m   1535\u001b[0m             \u001b[0;32mreturn\u001b[0m \u001b[0mtask\u001b[0m\u001b[0;34m\u001b[0m\u001b[0;34m\u001b[0m\u001b[0m\n\u001b[1;32m   1536\u001b[0m         \u001b[0;32melse\u001b[0m\u001b[0;34m:\u001b[0m\u001b[0;34m\u001b[0m\u001b[0;34m\u001b[0m\u001b[0m\n\u001b[0;32m-> 1537\u001b[0;31m             \u001b[0mself\u001b[0m\u001b[0;34m.\u001b[0m\u001b[0mexecute\u001b[0m\u001b[0;34m(\u001b[0m\u001b[0;34m)\u001b[0m\u001b[0;34m\u001b[0m\u001b[0;34m\u001b[0m\u001b[0m\n\u001b[0m\u001b[1;32m   1538\u001b[0m             \u001b[0;32mreturn\u001b[0m \u001b[0mtask\u001b[0m\u001b[0;34m.\u001b[0m\u001b[0mget\u001b[0m\u001b[0;34m(\u001b[0m\u001b[0;34m)\u001b[0m\u001b[0;34m\u001b[0m\u001b[0;34m\u001b[0m\u001b[0m\n\u001b[1;32m   1539\u001b[0m \u001b[0;34m\u001b[0m\u001b[0m\n",
      "\u001b[0;32m/home/jupyter/iceDivides/_build/pip_packages/lib/python3.8/site-packages/vaex/dataframe.py\u001b[0m in \u001b[0;36mexecute\u001b[0;34m(self)\u001b[0m\n\u001b[1;32m    373\u001b[0m         \u001b[0;34m'''Execute all delayed jobs.'''\u001b[0m\u001b[0;34m\u001b[0m\u001b[0;34m\u001b[0m\u001b[0m\n\u001b[1;32m    374\u001b[0m         \u001b[0;32mfrom\u001b[0m \u001b[0;34m.\u001b[0m\u001b[0masyncio\u001b[0m \u001b[0;32mimport\u001b[0m \u001b[0mjust_run\u001b[0m\u001b[0;34m\u001b[0m\u001b[0;34m\u001b[0m\u001b[0m\n\u001b[0;32m--> 375\u001b[0;31m         \u001b[0mjust_run\u001b[0m\u001b[0;34m(\u001b[0m\u001b[0mself\u001b[0m\u001b[0;34m.\u001b[0m\u001b[0mexecute_async\u001b[0m\u001b[0;34m(\u001b[0m\u001b[0;34m)\u001b[0m\u001b[0;34m)\u001b[0m\u001b[0;34m\u001b[0m\u001b[0;34m\u001b[0m\u001b[0m\n\u001b[0m\u001b[1;32m    376\u001b[0m \u001b[0;34m\u001b[0m\u001b[0m\n\u001b[1;32m    377\u001b[0m     \u001b[0;32masync\u001b[0m \u001b[0;32mdef\u001b[0m \u001b[0mexecute_async\u001b[0m\u001b[0;34m(\u001b[0m\u001b[0mself\u001b[0m\u001b[0;34m)\u001b[0m\u001b[0;34m:\u001b[0m\u001b[0;34m\u001b[0m\u001b[0;34m\u001b[0m\u001b[0m\n",
      "\u001b[0;32m/home/jupyter/iceDivides/_build/pip_packages/lib/python3.8/site-packages/vaex/asyncio.py\u001b[0m in \u001b[0;36mjust_run\u001b[0;34m(coro)\u001b[0m\n\u001b[1;32m     33\u001b[0m             \u001b[0mnest_asyncio\u001b[0m\u001b[0;34m.\u001b[0m\u001b[0mapply\u001b[0m\u001b[0;34m(\u001b[0m\u001b[0;34m)\u001b[0m\u001b[0;34m\u001b[0m\u001b[0;34m\u001b[0m\u001b[0m\n\u001b[1;32m     34\u001b[0m             \u001b[0mcheck_patch_tornado\u001b[0m\u001b[0;34m(\u001b[0m\u001b[0;34m)\u001b[0m\u001b[0;34m\u001b[0m\u001b[0;34m\u001b[0m\u001b[0m\n\u001b[0;32m---> 35\u001b[0;31m         \u001b[0;32mreturn\u001b[0m \u001b[0mloop\u001b[0m\u001b[0;34m.\u001b[0m\u001b[0mrun_until_complete\u001b[0m\u001b[0;34m(\u001b[0m\u001b[0mcoro\u001b[0m\u001b[0;34m)\u001b[0m\u001b[0;34m\u001b[0m\u001b[0;34m\u001b[0m\u001b[0m\n\u001b[0m\u001b[1;32m     36\u001b[0m     \u001b[0;32mfinally\u001b[0m\u001b[0;34m:\u001b[0m\u001b[0;34m\u001b[0m\u001b[0;34m\u001b[0m\u001b[0m\n\u001b[1;32m     37\u001b[0m         \u001b[0;32mif\u001b[0m \u001b[0;32mnot\u001b[0m \u001b[0mhad_loop\u001b[0m\u001b[0;34m:\u001b[0m  \u001b[0;31m# remove loop if we did not have one\u001b[0m\u001b[0;34m\u001b[0m\u001b[0;34m\u001b[0m\u001b[0m\n",
      "\u001b[0;32m/nix/store/5kld536dkk8cmfy3wk8xkrdg1yzmh7h5-python3-3.8.9-env/lib/python3.8/site-packages/nest_asyncio.py\u001b[0m in \u001b[0;36mrun_until_complete\u001b[0;34m(self, future)\u001b[0m\n\u001b[1;32m     68\u001b[0m                 raise RuntimeError(\n\u001b[1;32m     69\u001b[0m                     'Event loop stopped before Future completed.')\n\u001b[0;32m---> 70\u001b[0;31m             \u001b[0;32mreturn\u001b[0m \u001b[0mf\u001b[0m\u001b[0;34m.\u001b[0m\u001b[0mresult\u001b[0m\u001b[0;34m(\u001b[0m\u001b[0;34m)\u001b[0m\u001b[0;34m\u001b[0m\u001b[0;34m\u001b[0m\u001b[0m\n\u001b[0m\u001b[1;32m     71\u001b[0m \u001b[0;34m\u001b[0m\u001b[0m\n\u001b[1;32m     72\u001b[0m     \u001b[0;32mdef\u001b[0m \u001b[0m_run_once\u001b[0m\u001b[0;34m(\u001b[0m\u001b[0mself\u001b[0m\u001b[0;34m)\u001b[0m\u001b[0;34m:\u001b[0m\u001b[0;34m\u001b[0m\u001b[0;34m\u001b[0m\u001b[0m\n",
      "\u001b[0;32m/nix/store/4s0h5aawbap3xhldxhcijvl26751qrjr-python3-3.8.9/lib/python3.8/asyncio/futures.py\u001b[0m in \u001b[0;36mresult\u001b[0;34m(self)\u001b[0m\n\u001b[1;32m    176\u001b[0m         \u001b[0mself\u001b[0m\u001b[0;34m.\u001b[0m\u001b[0m__log_traceback\u001b[0m \u001b[0;34m=\u001b[0m \u001b[0;32mFalse\u001b[0m\u001b[0;34m\u001b[0m\u001b[0;34m\u001b[0m\u001b[0m\n\u001b[1;32m    177\u001b[0m         \u001b[0;32mif\u001b[0m \u001b[0mself\u001b[0m\u001b[0;34m.\u001b[0m\u001b[0m_exception\u001b[0m \u001b[0;32mis\u001b[0m \u001b[0;32mnot\u001b[0m \u001b[0;32mNone\u001b[0m\u001b[0;34m:\u001b[0m\u001b[0;34m\u001b[0m\u001b[0;34m\u001b[0m\u001b[0m\n\u001b[0;32m--> 178\u001b[0;31m             \u001b[0;32mraise\u001b[0m \u001b[0mself\u001b[0m\u001b[0;34m.\u001b[0m\u001b[0m_exception\u001b[0m\u001b[0;34m\u001b[0m\u001b[0;34m\u001b[0m\u001b[0m\n\u001b[0m\u001b[1;32m    179\u001b[0m         \u001b[0;32mreturn\u001b[0m \u001b[0mself\u001b[0m\u001b[0;34m.\u001b[0m\u001b[0m_result\u001b[0m\u001b[0;34m\u001b[0m\u001b[0;34m\u001b[0m\u001b[0m\n\u001b[1;32m    180\u001b[0m \u001b[0;34m\u001b[0m\u001b[0m\n",
      "\u001b[0;32m/nix/store/4s0h5aawbap3xhldxhcijvl26751qrjr-python3-3.8.9/lib/python3.8/asyncio/tasks.py\u001b[0m in \u001b[0;36m__step\u001b[0;34m(***failed resolving arguments***)\u001b[0m\n\u001b[1;32m    278\u001b[0m                 \u001b[0;31m# We use the `send` method directly, because coroutines\u001b[0m\u001b[0;34m\u001b[0m\u001b[0;34m\u001b[0m\u001b[0;34m\u001b[0m\u001b[0m\n\u001b[1;32m    279\u001b[0m                 \u001b[0;31m# don't have `__iter__` and `__next__` methods.\u001b[0m\u001b[0;34m\u001b[0m\u001b[0;34m\u001b[0m\u001b[0;34m\u001b[0m\u001b[0m\n\u001b[0;32m--> 280\u001b[0;31m                 \u001b[0mresult\u001b[0m \u001b[0;34m=\u001b[0m \u001b[0mcoro\u001b[0m\u001b[0;34m.\u001b[0m\u001b[0msend\u001b[0m\u001b[0;34m(\u001b[0m\u001b[0;32mNone\u001b[0m\u001b[0;34m)\u001b[0m\u001b[0;34m\u001b[0m\u001b[0;34m\u001b[0m\u001b[0m\n\u001b[0m\u001b[1;32m    281\u001b[0m             \u001b[0;32melse\u001b[0m\u001b[0;34m:\u001b[0m\u001b[0;34m\u001b[0m\u001b[0;34m\u001b[0m\u001b[0m\n\u001b[1;32m    282\u001b[0m                 \u001b[0mresult\u001b[0m \u001b[0;34m=\u001b[0m \u001b[0mcoro\u001b[0m\u001b[0;34m.\u001b[0m\u001b[0mthrow\u001b[0m\u001b[0;34m(\u001b[0m\u001b[0mexc\u001b[0m\u001b[0;34m)\u001b[0m\u001b[0;34m\u001b[0m\u001b[0;34m\u001b[0m\u001b[0m\n",
      "\u001b[0;32m/home/jupyter/iceDivides/_build/pip_packages/lib/python3.8/site-packages/vaex/dataframe.py\u001b[0m in \u001b[0;36mexecute_async\u001b[0;34m(self)\u001b[0m\n\u001b[1;32m    378\u001b[0m         \u001b[0;34m'''Async version of execute'''\u001b[0m\u001b[0;34m\u001b[0m\u001b[0;34m\u001b[0m\u001b[0m\n\u001b[1;32m    379\u001b[0m         \u001b[0;31m# no need to clear _task_aggs anymore, since they will be removed for the executors' task list\u001b[0m\u001b[0;34m\u001b[0m\u001b[0;34m\u001b[0m\u001b[0;34m\u001b[0m\u001b[0m\n\u001b[0;32m--> 380\u001b[0;31m         \u001b[0;32mawait\u001b[0m \u001b[0mself\u001b[0m\u001b[0;34m.\u001b[0m\u001b[0mexecutor\u001b[0m\u001b[0;34m.\u001b[0m\u001b[0mexecute_async\u001b[0m\u001b[0;34m(\u001b[0m\u001b[0;34m)\u001b[0m\u001b[0;34m\u001b[0m\u001b[0;34m\u001b[0m\u001b[0m\n\u001b[0m\u001b[1;32m    381\u001b[0m \u001b[0;34m\u001b[0m\u001b[0m\n\u001b[1;32m    382\u001b[0m     \u001b[0;34m@\u001b[0m\u001b[0mproperty\u001b[0m\u001b[0;34m\u001b[0m\u001b[0;34m\u001b[0m\u001b[0m\n",
      "\u001b[0;32m/home/jupyter/iceDivides/_build/pip_packages/lib/python3.8/site-packages/vaex/execution.py\u001b[0m in \u001b[0;36mexecute_async\u001b[0;34m(self)\u001b[0m\n\u001b[1;32m    133\u001b[0m         \u001b[0;32mif\u001b[0m \u001b[0mchunk_executor_thread\u001b[0m \u001b[0;32mor\u001b[0m \u001b[0mself\u001b[0m\u001b[0;34m.\u001b[0m\u001b[0mlocal\u001b[0m\u001b[0;34m.\u001b[0m\u001b[0mexecuting\u001b[0m\u001b[0;34m:\u001b[0m\u001b[0;34m\u001b[0m\u001b[0;34m\u001b[0m\u001b[0m\n\u001b[1;32m    134\u001b[0m             \u001b[0mlogger\u001b[0m\u001b[0;34m.\u001b[0m\u001b[0merror\u001b[0m\u001b[0;34m(\u001b[0m\u001b[0;34m\"nested execute call\"\u001b[0m\u001b[0;34m)\u001b[0m\u001b[0;34m\u001b[0m\u001b[0;34m\u001b[0m\u001b[0m\n\u001b[0;32m--> 135\u001b[0;31m             \u001b[0;32mraise\u001b[0m \u001b[0mRuntimeError\u001b[0m\u001b[0;34m(\u001b[0m\u001b[0;34m\"nested execute call: %r %r\\nlast trace:\\n%s\\ncurrent trace:\\n%s\"\u001b[0m \u001b[0;34m%\u001b[0m \u001b[0;34m(\u001b[0m\u001b[0mchunk_executor_thread\u001b[0m\u001b[0;34m,\u001b[0m \u001b[0mself\u001b[0m\u001b[0;34m.\u001b[0m\u001b[0mlocal\u001b[0m\u001b[0;34m.\u001b[0m\u001b[0mexecuting\u001b[0m\u001b[0;34m,\u001b[0m \u001b[0mself\u001b[0m\u001b[0;34m.\u001b[0m\u001b[0mlocal\u001b[0m\u001b[0;34m.\u001b[0m\u001b[0mlast_trace\u001b[0m\u001b[0;34m,\u001b[0m \u001b[0mtrace\u001b[0m\u001b[0;34m)\u001b[0m\u001b[0;34m)\u001b[0m\u001b[0;34m\u001b[0m\u001b[0;34m\u001b[0m\u001b[0m\n\u001b[0m\u001b[1;32m    136\u001b[0m         \u001b[0;32melse\u001b[0m\u001b[0;34m:\u001b[0m\u001b[0;34m\u001b[0m\u001b[0;34m\u001b[0m\u001b[0m\n\u001b[1;32m    137\u001b[0m             \u001b[0mself\u001b[0m\u001b[0;34m.\u001b[0m\u001b[0mlocal\u001b[0m\u001b[0;34m.\u001b[0m\u001b[0mlast_trace\u001b[0m \u001b[0;34m=\u001b[0m \u001b[0mtrace\u001b[0m\u001b[0;34m\u001b[0m\u001b[0;34m\u001b[0m\u001b[0m\n",
      "\u001b[0;31mRuntimeError\u001b[0m: nested execute call: False True\nlast trace:\n  File \"/nix/store/4s0h5aawbap3xhldxhcijvl26751qrjr-python3-3.8.9/lib/python3.8/runpy.py\", line 194, in _run_module_as_main\n    return _run_code(code, main_globals, None,\n  File \"/nix/store/4s0h5aawbap3xhldxhcijvl26751qrjr-python3-3.8.9/lib/python3.8/runpy.py\", line 87, in _run_code\n    exec(code, run_globals)\n  File \"/nix/store/5kld536dkk8cmfy3wk8xkrdg1yzmh7h5-python3-3.8.9-env/lib/python3.8/site-packages/ipykernel_launcher.py\", line 16, in <module>\n    app.launch_new_instance()\n  File \"/nix/store/5kld536dkk8cmfy3wk8xkrdg1yzmh7h5-python3-3.8.9-env/lib/python3.8/site-packages/traitlets/config/application.py\", line 845, in launch_instance\n    app.start()\n  File \"/nix/store/5kld536dkk8cmfy3wk8xkrdg1yzmh7h5-python3-3.8.9-env/lib/python3.8/site-packages/ipykernel/kernelapp.py\", line 612, in start\n    self.io_loop.start()\n  File \"/nix/store/5kld536dkk8cmfy3wk8xkrdg1yzmh7h5-python3-3.8.9-env/lib/python3.8/site-packages/tornado/platform/asyncio.py\", line 199, in start\n    self.asyncio_loop.run_forever()\n  File \"/nix/store/4s0h5aawbap3xhldxhcijvl26751qrjr-python3-3.8.9/lib/python3.8/asyncio/base_events.py\", line 570, in run_forever\n    self._run_once()\n  File \"/nix/store/4s0h5aawbap3xhldxhcijvl26751qrjr-python3-3.8.9/lib/python3.8/asyncio/base_events.py\", line 1859, in _run_once\n    handle._run()\n  File \"/nix/store/4s0h5aawbap3xhldxhcijvl26751qrjr-python3-3.8.9/lib/python3.8/asyncio/events.py\", line 81, in _run\n    self._context.run(self._callback, *self._args)\n  File \"/home/jupyter/iceDivides/_build/pip_packages/lib/python3.8/site-packages/vaex/jupyter/utils.py\", line 184, in run_async\n    result = await result\n  File \"/home/jupyter/iceDivides/_build/pip_packages/lib/python3.8/site-packages/vaex/jupyter/__init__.py\", line 41, in execute_debounced\n    await self.df.execute_async()\n  File \"/home/jupyter/iceDivides/_build/pip_packages/lib/python3.8/site-packages/vaex/dataframe.py\", line 380, in execute_async\n    await self.executor.execute_async()\n  File \"/home/jupyter/iceDivides/_build/pip_packages/lib/python3.8/site-packages/vaex/execution.py\", line 132, in execute_async\n    trace = ''.join(traceback.format_stack())\n\ncurrent trace:\n  File \"/nix/store/4s0h5aawbap3xhldxhcijvl26751qrjr-python3-3.8.9/lib/python3.8/runpy.py\", line 194, in _run_module_as_main\n    return _run_code(code, main_globals, None,\n  File \"/nix/store/4s0h5aawbap3xhldxhcijvl26751qrjr-python3-3.8.9/lib/python3.8/runpy.py\", line 87, in _run_code\n    exec(code, run_globals)\n  File \"/nix/store/5kld536dkk8cmfy3wk8xkrdg1yzmh7h5-python3-3.8.9-env/lib/python3.8/site-packages/ipykernel_launcher.py\", line 16, in <module>\n    app.launch_new_instance()\n  File \"/nix/store/5kld536dkk8cmfy3wk8xkrdg1yzmh7h5-python3-3.8.9-env/lib/python3.8/site-packages/traitlets/config/application.py\", line 845, in launch_instance\n    app.start()\n  File \"/nix/store/5kld536dkk8cmfy3wk8xkrdg1yzmh7h5-python3-3.8.9-env/lib/python3.8/site-packages/ipykernel/kernelapp.py\", line 612, in start\n    self.io_loop.start()\n  File \"/nix/store/5kld536dkk8cmfy3wk8xkrdg1yzmh7h5-python3-3.8.9-env/lib/python3.8/site-packages/tornado/platform/asyncio.py\", line 199, in start\n    self.asyncio_loop.run_forever()\n  File \"/nix/store/4s0h5aawbap3xhldxhcijvl26751qrjr-python3-3.8.9/lib/python3.8/asyncio/base_events.py\", line 570, in run_forever\n    self._run_once()\n  File \"/nix/store/4s0h5aawbap3xhldxhcijvl26751qrjr-python3-3.8.9/lib/python3.8/asyncio/base_events.py\", line 1859, in _run_once\n    handle._run()\n  File \"/nix/store/4s0h5aawbap3xhldxhcijvl26751qrjr-python3-3.8.9/lib/python3.8/asyncio/events.py\", line 81, in _run\n    self._context.run(self._callback, *self._args)\n  File \"/nix/store/5kld536dkk8cmfy3wk8xkrdg1yzmh7h5-python3-3.8.9-env/lib/python3.8/site-packages/tornado/ioloop.py\", line 688, in <lambda>\n    lambda f: self._run_callback(functools.partial(callback, future))\n  File \"/nix/store/5kld536dkk8cmfy3wk8xkrdg1yzmh7h5-python3-3.8.9-env/lib/python3.8/site-packages/tornado/ioloop.py\", line 741, in _run_callback\n    ret = callback()\n  File \"/nix/store/5kld536dkk8cmfy3wk8xkrdg1yzmh7h5-python3-3.8.9-env/lib/python3.8/site-packages/tornado/gen.py\", line 814, in inner\n    self.ctx_run(self.run)\n  File \"/nix/store/5kld536dkk8cmfy3wk8xkrdg1yzmh7h5-python3-3.8.9-env/lib/python3.8/site-packages/tornado/gen.py\", line 775, in run\n    yielded = self.gen.send(value)\n  File \"/nix/store/5kld536dkk8cmfy3wk8xkrdg1yzmh7h5-python3-3.8.9-env/lib/python3.8/site-packages/ipykernel/kernelbase.py\", line 358, in process_one\n    yield gen.maybe_future(dispatch(*args))\n  File \"/nix/store/5kld536dkk8cmfy3wk8xkrdg1yzmh7h5-python3-3.8.9-env/lib/python3.8/site-packages/tornado/gen.py\", line 234, in wrapper\n    yielded = ctx_run(next, result)\n  File \"/nix/store/5kld536dkk8cmfy3wk8xkrdg1yzmh7h5-python3-3.8.9-env/lib/python3.8/site-packages/ipykernel/kernelbase.py\", line 261, in dispatch_shell\n    yield gen.maybe_future(handler(stream, idents, msg))\n  File \"/nix/store/5kld536dkk8cmfy3wk8xkrdg1yzmh7h5-python3-3.8.9-env/lib/python3.8/site-packages/tornado/gen.py\", line 234, in wrapper\n    yielded = ctx_run(next, result)\n  File \"/nix/store/5kld536dkk8cmfy3wk8xkrdg1yzmh7h5-python3-3.8.9-env/lib/python3.8/site-packages/ipykernel/kernelbase.py\", line 536, in execute_request\n    self.do_execute(\n  File \"/nix/store/5kld536dkk8cmfy3wk8xkrdg1yzmh7h5-python3-3.8.9-env/lib/python3.8/site-packages/tornado/gen.py\", line 234, in wrapper\n    yielded = ctx_run(next, result)\n  File \"/nix/store/5kld536dkk8cmfy3wk8xkrdg1yzmh7h5-python3-3.8.9-env/lib/python3.8/site-packages/ipykernel/ipkernel.py\", line 302, in do_execute\n    res = shell.run_cell(code, store_history=store_history, silent=silent)\n  File \"/nix/store/5kld536dkk8cmfy3wk8xkrdg1yzmh7h5-python3-3.8.9-env/lib/python3.8/site-packages/ipykernel/zmqshell.py\", line 539, in run_cell\n    return super(ZMQInteractiveShell, self).run_cell(*args, **kwargs)\n  File \"/nix/store/5kld536dkk8cmfy3wk8xkrdg1yzmh7h5-python3-3.8.9-env/lib/python3.8/site-packages/IPython/core/interactiveshell.py\", line 2894, in run_cell\n    result = self._run_cell(\n  File \"/nix/store/5kld536dkk8cmfy3wk8xkrdg1yzmh7h5-python3-3.8.9-env/lib/python3.8/site-packages/IPython/core/interactiveshell.py\", line 2940, in _run_cell\n    return runner(coro)\n  File \"/nix/store/5kld536dkk8cmfy3wk8xkrdg1yzmh7h5-python3-3.8.9-env/lib/python3.8/site-packages/IPython/core/async_helpers.py\", line 68, in _pseudo_sync_runner\n    coro.send(None)\n  File \"/nix/store/5kld536dkk8cmfy3wk8xkrdg1yzmh7h5-python3-3.8.9-env/lib/python3.8/site-packages/IPython/core/interactiveshell.py\", line 3165, in run_cell_async\n    has_raised = await self.run_ast_nodes(code_ast.body, cell_name,\n  File \"/nix/store/5kld536dkk8cmfy3wk8xkrdg1yzmh7h5-python3-3.8.9-env/lib/python3.8/site-packages/IPython/core/interactiveshell.py\", line 3357, in run_ast_nodes\n    if (await self.run_code(code, result,  async_=asy)):\n  File \"/nix/store/5kld536dkk8cmfy3wk8xkrdg1yzmh7h5-python3-3.8.9-env/lib/python3.8/site-packages/IPython/core/interactiveshell.py\", line 3437, in run_code\n    exec(code_obj, self.user_global_ns, self.user_ns)\n  File \"<ipython-input-15-88c6816aa9ab>\", line 1, in <module>\n    xy_mean_v = df.mean(df.h_li, binby=[df.x, df.y],\n  File \"/home/jupyter/iceDivides/_build/pip_packages/lib/python3.8/site-packages/vaex/dataframe.py\", line 882, in mean\n    return self._compute_agg('mean', expression, binby, limits, shape, selection, delay, edges, progress, array_type=array_type)\n  File \"/home/jupyter/iceDivides/_build/pip_packages/lib/python3.8/site-packages/vaex/dataframe.py\", line 773, in _compute_agg\n    return self._delay(delay, var)\n  File \"/home/jupyter/iceDivides/_build/pip_packages/lib/python3.8/site-packages/vaex/dataframe.py\", line 1537, in _delay\n    self.execute()\n  File \"/home/jupyter/iceDivides/_build/pip_packages/lib/python3.8/site-packages/vaex/dataframe.py\", line 375, in execute\n    just_run(self.execute_async())\n  File \"/home/jupyter/iceDivides/_build/pip_packages/lib/python3.8/site-packages/vaex/asyncio.py\", line 35, in just_run\n    return loop.run_until_complete(coro)\n  File \"/nix/store/5kld536dkk8cmfy3wk8xkrdg1yzmh7h5-python3-3.8.9-env/lib/python3.8/site-packages/nest_asyncio.py\", line 64, in run_until_complete\n    self._run_once()\n  File \"/nix/store/5kld536dkk8cmfy3wk8xkrdg1yzmh7h5-python3-3.8.9-env/lib/python3.8/site-packages/nest_asyncio.py\", line 100, in _run_once\n    handle._run()\n  File \"/nix/store/4s0h5aawbap3xhldxhcijvl26751qrjr-python3-3.8.9/lib/python3.8/asyncio/events.py\", line 81, in _run\n    self._context.run(self._callback, *self._args)\n  File \"/nix/store/5kld536dkk8cmfy3wk8xkrdg1yzmh7h5-python3-3.8.9-env/lib/python3.8/site-packages/nest_asyncio.py\", line 169, in step\n    step_orig(task, exc)\n  File \"/nix/store/4s0h5aawbap3xhldxhcijvl26751qrjr-python3-3.8.9/lib/python3.8/asyncio/tasks.py\", line 280, in __step\n    result = coro.send(None)\n  File \"/home/jupyter/iceDivides/_build/pip_packages/lib/python3.8/site-packages/vaex/dataframe.py\", line 380, in execute_async\n    await self.executor.execute_async()\n  File \"/home/jupyter/iceDivides/_build/pip_packages/lib/python3.8/site-packages/vaex/execution.py\", line 132, in execute_async\n    trace = ''.join(traceback.format_stack())\n"
     ]
    }
   ],
   "source": [
    "xy_mean_v = df.mean(df.h_li, binby=[df.x, df.y], \n",
    "                    #limits=[ [float(df.y.max()), 0], [float(df.x.min()),\n",
    "                    #                                  float(df.x.max())]], \n",
    "                    shape=(1000, 1000))"
   ]
  },
  {
   "cell_type": "code",
   "execution_count": 94,
   "id": "9add132e-abfe-49d4-8910-1073f798715a",
   "metadata": {},
   "outputs": [
    {
     "data": {
      "application/vnd.jupyter.widget-view+json": {
       "model_id": "def104c6ec654e379292fce74ebd66fc",
       "version_major": 2,
       "version_minor": 0
      },
      "text/plain": [
       "DataArray(children=[Container(children=[ProgressCircularNoAnimation(color='#9ECBF5', size=30, text='', value=1…"
      ]
     },
     "metadata": {},
     "output_type": "display_data"
    }
   ],
   "source": [
    "def plot2d_with_labels(da):\n",
    "    plt.figure(figsize=(8, 8))\n",
    "    grid = xy_mean_v[0]# .h_li.min  # take the numpy data\n",
    "    dim_x = da.dims[0]\n",
    "    dim_y = da.dims[1]\n",
    "    plt.title(f'{dim_y} vs {dim_x} - shape: {grid.shape}')\n",
    "    #extent = [\n",
    "    #    da.coords[dim_x].attrs['min'], da.coords[dim_x].attrs['max'],\n",
    "    #    da.coords[dim_y].attrs['min'], da.coords[dim_y].attrs['max']\n",
    "    #]\n",
    "    plt.imshow(grid.T, origin='lower', aspect='auto', vmax=2000) #extent=extent, \n",
    "    plt.xlabel(da.dims[0])\n",
    "    plt.ylabel(da.dims[1])\n",
    "    plt.colorbar()\n",
    "\n",
    "da_plot_view_nicer = df.widget.data_array(axes=[x_axis, y_axis],\n",
    "                                          selection=['default'],\n",
    "                                          display_function=plot2d_with_labels)\n",
    "da_plot_view_nicer"
   ]
  },
  {
   "cell_type": "code",
   "execution_count": null,
   "id": "a4c40d6b-f4f2-427b-bc1a-f10c37d0e2fe",
   "metadata": {},
   "outputs": [],
   "source": [
    "df.widget.data_array(axes=[x_axis, y_axis], display_function=plot2d_with_selections,\n",
    "                     selection=[None, 'default', 'rest'])"
   ]
  },
  {
   "cell_type": "code",
   "execution_count": 14,
   "id": "46092e2f-14c4-4eb6-98d1-9b396776d6b9",
   "metadata": {},
   "outputs": [
    {
     "data": {
      "application/vnd.jupyter.widget-view+json": {
       "model_id": "30b0f1ab735c40568f8cea77473ba954",
       "version_major": 2,
       "version_minor": 0
      },
      "text/plain": [
       "DataArray(children=[Container(children=[ProgressCircularNoAnimation(color='#9ECBF5', size=30, text='', value=1…"
      ]
     },
     "metadata": {},
     "output_type": "display_data"
    }
   ],
   "source": [
    "def plot2d_with_selections(da):\n",
    "    grid = da.data\n",
    "    # Create 1 row and #selections of columns of matplotlib axes\n",
    "    fig, axgrid = plt.subplots(1, grid.shape[0], sharey=True, squeeze=False)\n",
    "    for selection_index, ax in enumerate(axgrid[0]):\n",
    "        ax.imshow(np.log1p(grid[selection_index].T), origin='lower')\n",
    "\n",
    "df.widget.data_array(axes=[x_axis, y_axis], display_function=plot2d_with_selections,\n",
    "                     selection=[None, 'default', 'rest'])"
   ]
  },
  {
   "cell_type": "code",
   "execution_count": 25,
   "id": "32033d27-fe91-4571-88a4-a8445e90e076",
   "metadata": {},
   "outputs": [],
   "source": [
    "df.select(df.slope_x_sigma < 0.001)  # select 10 objects\n",
    "df.select(df.q_flag == 1, name='rest')  # and the rest"
   ]
  },
  {
   "cell_type": "code",
   "execution_count": 26,
   "id": "d8a8e9e1-9c29-4d1d-bee4-97e749b8bc4f",
   "metadata": {},
   "outputs": [
    {
     "data": {
      "text/plain": [
       "['id',\n",
       " 'lat',\n",
       " 'lon',\n",
       " 'slope_y',\n",
       " 'slope_x',\n",
       " 'slope_x_sigma',\n",
       " 'h_li',\n",
       " 's_li',\n",
       " 'q_flag',\n",
       " 's_fg',\n",
       " 'snr',\n",
       " 'h_rb',\n",
       " 'bsnow_conf',\n",
       " 'cloud_flg_asr',\n",
       " 'cloud_flg_atm',\n",
       " 'msw_flag',\n",
       " 'fbsnow_h',\n",
       " 'bsnow_od',\n",
       " 'layer_flag',\n",
       " 'bckgrd',\n",
       " 'e_bckgrd',\n",
       " 'n_fit_photons',\n",
       " 'w_surface_window_final',\n",
       " 't_year',\n",
       " 'cycle',\n",
       " 'track',\n",
       " 'x',\n",
       " 'y']"
      ]
     },
     "execution_count": 26,
     "metadata": {},
     "output_type": "execute_result"
    }
   ],
   "source": [
    "df.column_names"
   ]
  },
  {
   "cell_type": "code",
   "execution_count": 27,
   "id": "50f7cfa9-c345-4c01-9fcd-8237917a80ef",
   "metadata": {},
   "outputs": [],
   "source": [
    "#df.t_year"
   ]
  },
  {
   "cell_type": "code",
   "execution_count": 28,
   "id": "9580c057-d295-4adb-a268-00c273d373c6",
   "metadata": {},
   "outputs": [],
   "source": [
    "#df.t_year.values[0]"
   ]
  },
  {
   "cell_type": "code",
   "execution_count": 29,
   "id": "47025f1e-0c94-4d22-b03a-7edbd3094168",
   "metadata": {},
   "outputs": [],
   "source": [
    "#FeH_axis = vjm.Axis(df=df, expression='t_year', min=df.t_year.values[0], \n",
    "#                    max=df.t_year.values[-1], shape=5)"
   ]
  },
  {
   "cell_type": "code",
   "execution_count": 95,
   "id": "e2fde740-db55-4669-b92e-068b975d3073",
   "metadata": {},
   "outputs": [
    {
     "data": {
      "application/vnd.jupyter.widget-view+json": {
       "model_id": "715abf6e39a441699cd3d26ed0651370",
       "version_major": 2,
       "version_minor": 0
      },
      "text/plain": [
       "DataArray(children=[Container(children=[ProgressCircularNoAnimation(color='#9ECBF5', size=30, text='', value=1…"
      ]
     },
     "metadata": {},
     "output_type": "display_data"
    }
   ],
   "source": [
    "def plot_with_xarray(da):\n",
    "    #da_log = np.log1p(da)  # Note that an xarray DataArray is like a numpy array\n",
    "    da_log.plot(x='x', y='y', row='selection', cmap='viridis')\n",
    "\n",
    "plot_view = df.widget.data_array([x_axis, y_axis], display_function=plot_with_xarray,\n",
    "                                 selection=[None, 'default', 'rest'])\n",
    "plot_view"
   ]
  },
  {
   "cell_type": "code",
   "execution_count": 31,
   "id": "4d01a2bd-8b1c-431d-858a-3903c89b65e5",
   "metadata": {},
   "outputs": [
    {
     "data": {
      "application/vnd.jupyter.widget-view+json": {
       "model_id": "fec95131105445f8bb92d96cd7958439",
       "version_major": 2,
       "version_minor": 0
      },
      "text/plain": [
       "ExpressionSelectionTextArea(label='Filter by custom expression', placeholder='Enter a custom (boolean) express…"
      ]
     },
     "metadata": {},
     "output_type": "display_data"
    }
   ],
   "source": [
    "selection_widget = df.widget.selection_expression()\n",
    "selection_widget"
   ]
  },
  {
   "cell_type": "code",
   "execution_count": 32,
   "id": "4c4bc517-fc90-4a62-972a-3e6500f48873",
   "metadata": {},
   "outputs": [
    {
     "data": {
      "application/vnd.jupyter.widget-view+json": {
       "model_id": "dab49b4ec0bc4026947d1aaabe23b198",
       "version_major": 2,
       "version_minor": 0
      },
      "text/plain": [
       "Counter(characters=['&nbsp;', '&nbsp;', '&nbsp;', '4', '1', '2', ',', '6', '0', '5', ',', '6', '9', '8'], post…"
      ]
     },
     "metadata": {},
     "output_type": "display_data"
    }
   ],
   "source": [
    "await vaex.jupyter.gather()\n",
    "w = df.widget.counter_selection('default', lazy=True)\n",
    "w"
   ]
  },
  {
   "cell_type": "code",
   "execution_count": 33,
   "id": "b8faa9f8-4f7a-4743-93cd-4340d5a938ab",
   "metadata": {},
   "outputs": [
    {
     "data": {
      "application/vnd.jupyter.widget-view+json": {
       "model_id": "002c4b52c913455c811f20c5e3b826bb",
       "version_major": 2,
       "version_minor": 0
      },
      "text/plain": [
       "Heatmap(children=[ToolsToolbar(interact_value=None, supports_normalize=False, template='<template>\\n  <v-toolb…"
      ]
     },
     "metadata": {},
     "output_type": "display_data"
    }
   ],
   "source": [
    "heatmap_xy = df.widget.heatmap(df.x, df.y, selection=['default', True])\n",
    "heatmap_xy"
   ]
  },
  {
   "cell_type": "code",
   "execution_count": null,
   "id": "dd67e19e-728e-4746-bebe-557d8a4fcd4a",
   "metadata": {},
   "outputs": [],
   "source": []
  },
  {
   "cell_type": "code",
   "execution_count": 23,
   "id": "81845195-9c5a-4a34-abdd-9f2f68f8b9ac",
   "metadata": {},
   "outputs": [
    {
     "data": {
      "application/vnd.jupyter.widget-view+json": {
       "model_id": "12aa5a525d8e4c75807fab9ea2652eda",
       "version_major": 2,
       "version_minor": 0
      },
      "text/plain": [
       "DataArray(children=[Container(children=[ProgressCircularNoAnimation(color='#9ECBF5', size=30, text='', value=1…"
      ]
     },
     "metadata": {},
     "output_type": "display_data"
    }
   ],
   "source": [
    "da_xy_view = df.widget.data_array(axes=[x_axis, y_axis], display_function=plot2d_with_labels,\n",
    "                                  selection=['default'])\n",
    "da_xy_view"
   ]
  },
  {
   "cell_type": "code",
   "execution_count": 51,
   "id": "6919c3d9-37df-4f71-8eb5-e01eb1dc2fda",
   "metadata": {},
   "outputs": [
    {
     "data": {
      "text/html": [
       "<table>\n",
       "<thead>\n",
       "<tr><th>#                                      </th><th>id     </th><th>lat               </th><th>lon                </th><th>slope_y              </th><th>slope_x               </th><th>slope_x_sigma        </th><th>h_li               </th><th>s_li                </th><th>q_flag  </th><th>s_fg  </th><th>snr  </th><th>h_rb               </th><th>bsnow_conf  </th><th>cloud_flg_asr  </th><th>cloud_flg_atm  </th><th>msw_flag  </th><th>fbsnow_h           </th><th>bsnow_od            </th><th>layer_flag  </th><th>bckgrd            </th><th>e_bckgrd  </th><th>n_fit_photons  </th><th>w_surface_window_final  </th><th>t_year                    </th><th>cycle  </th><th>track  </th><th>x                 </th><th>y                  </th></tr>\n",
       "</thead>\n",
       "<tbody>\n",
       "<tr><td><i style='opacity: 0.6'>0</i>          </td><td>1443587</td><td>-79.00604150693235</td><td>176.34489505559952 </td><td>0.0034970236010849476</td><td>0.045052722096443176  </td><td>0.0008298112079501152</td><td>-19.586994171142578</td><td>0.012193245813250542</td><td>0       </td><td>0     </td><td>0.0  </td><td>0.1700313538312912 </td><td>-1          </td><td>2              </td><td>1              </td><td>3         </td><td>29.979246139526367 </td><td>0.26861944794654846 </td><td>1           </td><td>28285.419921875   </td><td>0.0       </td><td>522            </td><td>3.0                     </td><td>2019-03-29 07:13:52.971019</td><td>3      </td><td>gt1l   </td><td>76147.62450344954 </td><td>-1192036.1950727522</td></tr>\n",
       "<tr><td><i style='opacity: 0.6'>1</i>          </td><td>1443588</td><td>-79.00621643747844</td><td>176.34471657932238 </td><td>0.004264393355697393 </td><td>0.05056241527199745   </td><td>0.0008830373408272862</td><td>-18.607820510864258</td><td>0.012879230082035065</td><td>0       </td><td>0     </td><td>0.0  </td><td>0.18802492320537567</td><td>-1          </td><td>2              </td><td>1              </td><td>3         </td><td>29.979246139526367 </td><td>0.2682749032974243  </td><td>1           </td><td>25933.798828125   </td><td>0.0       </td><td>541            </td><td>3.0                     </td><td>2019-03-29 07:13:52.973831</td><td>3      </td><td>gt1l   </td><td>76150.11884253839 </td><td>-1192016.878556122 </td></tr>\n",
       "<tr><td><i style='opacity: 0.6'>2</i>          </td><td>1443604</td><td>-79.00598340764218</td><td>-128.34968452426844</td><td>0.0011884707491844893</td><td>-0.008782525546848774 </td><td>0.0012873366940766573</td><td>1393.30810546875   </td><td>0.022358529269695282</td><td>0       </td><td>0     </td><td>0.0  </td><td>0.16403409838676453</td><td>-1          </td><td>4              </td><td>1              </td><td>2         </td><td>-15.545355796813965</td><td>0.025605319067835808</td><td>1           </td><td>29848.724609375   </td><td>0.0       </td><td>134            </td><td>3.0                     </td><td>2019-06-16 23:44:16.580875</td><td>3      </td><td>gt1l   </td><td>-936751.2677578111</td><td>-741121.435694096  </td></tr>\n",
       "<tr><td><i style='opacity: 0.6'>3</i>          </td><td>1443605</td><td>-79.0061584310981 </td><td>-128.34986074738637</td><td>0.0014111476484686136</td><td>-0.0077179535292088985</td><td>0.0013354523107409477</td><td>1393.1937255859375 </td><td>0.02100951410830021 </td><td>0       </td><td>0     </td><td>0.0  </td><td>0.17921173572540283</td><td>-1          </td><td>4              </td><td>1              </td><td>2         </td><td>-13.435805320739746</td><td>0.025563444942235947</td><td>1           </td><td>32934.61328125    </td><td>0.0       </td><td>141            </td><td>3.0                     </td><td>2019-06-16 23:44:16.583689</td><td>3      </td><td>gt1l   </td><td>-936733.9871437278</td><td>-741112.4484165515 </td></tr>\n",
       "<tr><td><i style='opacity: 0.6'>4</i>          </td><td>1443606</td><td>-79.00633341593905</td><td>-128.35003802228633</td><td>0.0012659610947594047</td><td>-0.0070463260635733604</td><td>0.0011699371971189976</td><td>1393.045166015625  </td><td>0.027471376582980156</td><td>0       </td><td>0     </td><td>0.0  </td><td>0.17215631902217865</td><td>-1          </td><td>4              </td><td>1              </td><td>2         </td><td>-11.32924747467041 </td><td>0.02552163042128086 </td><td>1           </td><td>35919.10546875    </td><td>0.0       </td><td>148            </td><td>3.0                     </td><td>2019-06-16 23:44:16.586500</td><td>3      </td><td>gt1l   </td><td>-936716.6963032028</td><td>-741103.4808569406 </td></tr>\n",
       "<tr><td>...                                    </td><td>...    </td><td>...               </td><td>...                </td><td>...                  </td><td>...                   </td><td>...                  </td><td>...                </td><td>...                 </td><td>...     </td><td>...   </td><td>...  </td><td>...                </td><td>...         </td><td>...            </td><td>...            </td><td>...       </td><td>...                </td><td>...                 </td><td>...         </td><td>...               </td><td>...       </td><td>...            </td><td>...                     </td><td>...                       </td><td>...    </td><td>...    </td><td>...               </td><td>...                </td></tr>\n",
       "<tr><td><i style='opacity: 0.6'>865,273,099</i></td><td>1565333</td><td>-78.99504226798936</td><td>158.03591094289823 </td><td>0.007495594210922718 </td><td>0.0078804399818182    </td><td>0.002683431375771761 </td><td>1279.90234375      </td><td>0.05482017993927002 </td><td>0       </td><td>0     </td><td>0.0  </td><td>0.15907801687717438</td><td>-1          </td><td>5              </td><td>1              </td><td>1         </td><td>29.979246139526367 </td><td>0.02713683247566223 </td><td>1           </td><td>2268.45654296875  </td><td>0.0       </td><td>21             </td><td>3.0                     </td><td>2019-06-23 17:41:49.183559</td><td>3      </td><td>gt3r   </td><td>447210.19721519714</td><td>-1108884.5834480259</td></tr>\n",
       "<tr><td><i style='opacity: 0.6'>865,273,100</i></td><td>1565334</td><td>-78.99486756514892</td><td>158.03572581694618 </td><td>0.006783090066164732 </td><td>0.012846322730183601  </td><td>0.0031797189731150866</td><td>1280.02392578125   </td><td>0.05916494503617287 </td><td>0       </td><td>0     </td><td>0.0  </td><td>0.13116207718849182</td><td>-1          </td><td>5              </td><td>1              </td><td>1         </td><td>29.979246139526367 </td><td>0.02713673934340477 </td><td>1           </td><td>1946.7774658203125</td><td>0.0       </td><td>21             </td><td>3.0                     </td><td>2019-06-23 17:41:49.186370</td><td>3      </td><td>gt3r   </td><td>447220.92165426933</td><td>-1108900.846272008 </td></tr>\n",
       "<tr><td><i style='opacity: 0.6'>865,273,101</i></td><td>1565335</td><td>-78.99469283993268</td><td>158.03554127839766 </td><td>0.007498532999306917 </td><td>-0.0022711576893925667</td><td>0.0016771184746176004</td><td>1279.994873046875  </td><td>0.026095101609826088</td><td>0       </td><td>0     </td><td>0.0  </td><td>0.0632103830575943 </td><td>-1          </td><td>5              </td><td>1              </td><td>1         </td><td>29.979246139526367 </td><td>0.02713664434850216 </td><td>1           </td><td>1209.9652099609375</td><td>0.0       </td><td>24             </td><td>3.0                     </td><td>2019-06-23 17:41:49.189189</td><td>3      </td><td>gt3r   </td><td>447231.6357510542 </td><td>-1108917.115896332 </td></tr>\n",
       "<tr><td><i style='opacity: 0.6'>865,273,102</i></td><td>1565336</td><td>-78.99451809314117</td><td>158.03535733441748 </td><td>0.008078711107373238 </td><td>9.721379319671541e-05 </td><td>0.0028819788713008165</td><td>1279.9814453125    </td><td>0.05285322666168213 </td><td>0       </td><td>0     </td><td>0.0  </td><td>0.14162179827690125</td><td>-1          </td><td>5              </td><td>1              </td><td>1         </td><td>29.979246139526367 </td><td>0.02713654935359955 </td><td>1           </td><td>177.30709838867188</td><td>0.0       </td><td>21             </td><td>3.0                     </td><td>2019-06-23 17:41:49.192016</td><td>3      </td><td>gt3r   </td><td>447242.3393336775 </td><td>-1108933.3922961077</td></tr>\n",
       "<tr><td><i style='opacity: 0.6'>865,273,103</i></td><td>1565337</td><td>-78.99434332581431</td><td>158.0351739227819  </td><td>0.007572057191282511 </td><td>0.0048851147294044495 </td><td>0.003790514310821891 </td><td>1280.065673828125  </td><td>0.1621844470500946  </td><td>0       </td><td>0     </td><td>0.0  </td><td>0.16623833775520325</td><td>-1          </td><td>5              </td><td>1              </td><td>1         </td><td>29.979246139526367 </td><td>0.027136454358696938</td><td>1           </td><td>-601.5515747070312</td><td>0.0       </td><td>12             </td><td>3.0                     </td><td>2019-06-23 17:41:49.194850</td><td>3      </td><td>gt3r   </td><td>447253.033563472  </td><td>-1108949.6748805325</td></tr>\n",
       "</tbody>\n",
       "</table>"
      ],
      "text/plain": [
       "#            id       lat                 lon                  slope_y                slope_x                 slope_x_sigma          h_li                 s_li                  q_flag    s_fg    snr    h_rb                 bsnow_conf    cloud_flg_asr    cloud_flg_atm    msw_flag    fbsnow_h             bsnow_od              layer_flag    bckgrd              e_bckgrd    n_fit_photons    w_surface_window_final    t_year                      cycle    track    x                   y\n",
       "0            1443587  -79.00604150693235  176.34489505559952   0.0034970236010849476  0.045052722096443176    0.0008298112079501152  -19.586994171142578  0.012193245813250542  0         0       0.0    0.1700313538312912   -1            2                1                3           29.979246139526367   0.26861944794654846   1             28285.419921875     0.0         522              3.0                       2019-03-29 07:13:52.971019  3        gt1l     76147.62450344954   -1192036.1950727522\n",
       "1            1443588  -79.00621643747844  176.34471657932238   0.004264393355697393   0.05056241527199745     0.0008830373408272862  -18.607820510864258  0.012879230082035065  0         0       0.0    0.18802492320537567  -1            2                1                3           29.979246139526367   0.2682749032974243    1             25933.798828125     0.0         541              3.0                       2019-03-29 07:13:52.973831  3        gt1l     76150.11884253839   -1192016.878556122\n",
       "2            1443604  -79.00598340764218  -128.34968452426844  0.0011884707491844893  -0.008782525546848774   0.0012873366940766573  1393.30810546875     0.022358529269695282  0         0       0.0    0.16403409838676453  -1            4                1                2           -15.545355796813965  0.025605319067835808  1             29848.724609375     0.0         134              3.0                       2019-06-16 23:44:16.580875  3        gt1l     -936751.2677578111  -741121.435694096\n",
       "3            1443605  -79.0061584310981   -128.34986074738637  0.0014111476484686136  -0.0077179535292088985  0.0013354523107409477  1393.1937255859375   0.02100951410830021   0         0       0.0    0.17921173572540283  -1            4                1                2           -13.435805320739746  0.025563444942235947  1             32934.61328125      0.0         141              3.0                       2019-06-16 23:44:16.583689  3        gt1l     -936733.9871437278  -741112.4484165515\n",
       "4            1443606  -79.00633341593905  -128.35003802228633  0.0012659610947594047  -0.0070463260635733604  0.0011699371971189976  1393.045166015625    0.027471376582980156  0         0       0.0    0.17215631902217865  -1            4                1                2           -11.32924747467041   0.02552163042128086   1             35919.10546875      0.0         148              3.0                       2019-06-16 23:44:16.586500  3        gt1l     -936716.6963032028  -741103.4808569406\n",
       "...          ...      ...                 ...                  ...                    ...                     ...                    ...                  ...                   ...       ...     ...    ...                  ...           ...              ...              ...         ...                  ...                   ...           ...                 ...         ...              ...                       ...                         ...      ...      ...                 ...\n",
       "865,273,099  1565333  -78.99504226798936  158.03591094289823   0.007495594210922718   0.0078804399818182      0.002683431375771761   1279.90234375        0.05482017993927002   0         0       0.0    0.15907801687717438  -1            5                1                1           29.979246139526367   0.02713683247566223   1             2268.45654296875    0.0         21               3.0                       2019-06-23 17:41:49.183559  3        gt3r     447210.19721519714  -1108884.5834480259\n",
       "865,273,100  1565334  -78.99486756514892  158.03572581694618   0.006783090066164732   0.012846322730183601    0.0031797189731150866  1280.02392578125     0.05916494503617287   0         0       0.0    0.13116207718849182  -1            5                1                1           29.979246139526367   0.02713673934340477   1             1946.7774658203125  0.0         21               3.0                       2019-06-23 17:41:49.186370  3        gt3r     447220.92165426933  -1108900.846272008\n",
       "865,273,101  1565335  -78.99469283993268  158.03554127839766   0.007498532999306917   -0.0022711576893925667  0.0016771184746176004  1279.994873046875    0.026095101609826088  0         0       0.0    0.0632103830575943   -1            5                1                1           29.979246139526367   0.02713664434850216   1             1209.9652099609375  0.0         24               3.0                       2019-06-23 17:41:49.189189  3        gt3r     447231.6357510542   -1108917.115896332\n",
       "865,273,102  1565336  -78.99451809314117  158.03535733441748   0.008078711107373238   9.721379319671541e-05   0.0028819788713008165  1279.9814453125      0.05285322666168213   0         0       0.0    0.14162179827690125  -1            5                1                1           29.979246139526367   0.02713654935359955   1             177.30709838867188  0.0         21               3.0                       2019-06-23 17:41:49.192016  3        gt3r     447242.3393336775   -1108933.3922961077\n",
       "865,273,103  1565337  -78.99434332581431  158.0351739227819    0.007572057191282511   0.0048851147294044495   0.003790514310821891   1280.065673828125    0.1621844470500946    0         0       0.0    0.16623833775520325  -1            5                1                1           29.979246139526367   0.027136454358696938  1             -601.5515747070312  0.0         12               3.0                       2019-06-23 17:41:49.194850  3        gt3r     447253.033563472    -1108949.6748805325"
      ]
     },
     "execution_count": 51,
     "metadata": {},
     "output_type": "execute_result"
    }
   ],
   "source": [
    "from ipywidgets import link\n",
    "link((x_widget, 'value'), (x_axis, 'expression'))"
   ]
  },
  {
   "cell_type": "code",
   "execution_count": null,
   "id": "5112ea0a-a5d6-436a-b075-c680d20f1791",
   "metadata": {},
   "outputs": [],
   "source": []
  }
 ],
 "metadata": {
  "kernelspec": {
   "display_name": "Python 3",
   "language": "python",
   "name": "python3"
  },
  "language_info": {
   "codemirror_mode": {
    "name": "ipython",
    "version": 3
   },
   "file_extension": ".py",
   "mimetype": "text/x-python",
   "name": "python",
   "nbconvert_exporter": "python",
   "pygments_lexer": "ipython3",
   "version": "3.8.9"
  }
 },
 "nbformat": 4,
 "nbformat_minor": 5
}
