{
 "cells": [
  {
   "cell_type": "code",
   "execution_count": 1,
   "id": "artificial-silence",
   "metadata": {},
   "outputs": [],
   "source": [
    "import h5py\n",
    "import numpy as np\n",
    "import pandas as pd\n",
    "from astropy.time import Time\n",
    "from tqdm import tqdm\n",
    "import os\n",
    "import vaex"
   ]
  },
  {
   "cell_type": "code",
   "execution_count": 2,
   "id": "polished-security",
   "metadata": {},
   "outputs": [],
   "source": [
    "def gps2dyr(time):\n",
    "    \"\"\"Converts GPS time to datetime (can also do decimal years).\"\"\"\n",
    "    return Time(time, format='gps').datetime"
   ]
  },
  {
   "cell_type": "code",
   "execution_count": 3,
   "id": "threatened-senate",
   "metadata": {},
   "outputs": [],
   "source": [
    "def read_atl06(fname, cycle):\n",
    "    \"\"\"Read one ATL06 file and output 6 reduced files. \n",
    "    \n",
    "    Extract variables of interest and separate the ATL06 file \n",
    "    into each beam (ground track) and ascending/descending orbits.\n",
    "    \"\"\"\n",
    "\n",
    "    # Each beam is a group\n",
    "    group = ['/gt1l', '/gt1r', '/gt2l', '/gt2r', '/gt3l', '/gt3r']\n",
    "    \n",
    "    # Loop trough beams\n",
    "    dataframes = []  # one dataframe per track\n",
    "    \n",
    "    with h5py.File(fname, 'r') as fi:\n",
    "        # Check which ground tracks are present in this file\n",
    "        gtracks = sorted(['/'+k for k in fi.keys() if k.startswith('gt')])\n",
    "    \n",
    "        for k, g in enumerate(gtracks): \n",
    "            # Read in data for a single beam\n",
    "            data = {}\n",
    "            # this is our unique key (per beam)\n",
    "            data['id'] = fi[g+'/land_ice_segments/segment_id'][:]\n",
    "            npts = len(data['id'])\n",
    "            # Load vars into memory (include as many as you want)\n",
    "            data['lat'] = fi[g+'/land_ice_segments/latitude'][:]\n",
    "            data['lon'] = fi[g+'/land_ice_segments/longitude'][:]\n",
    "            \n",
    "            data['slope_y'] = fi[g+'/land_ice_segments/fit_statistics/dh_fit_dy'][:]\n",
    "            data['slope_x'] = fi[g+'/land_ice_segments/fit_statistics/dh_fit_dx'][:]\n",
    "            data['slope_x_sigma'] = fi[g+'/land_ice_segments/fit_statistics/dh_fit_dx_sigma'][:]\n",
    "\n",
    "            data['h_li'] = fi[g+'/land_ice_segments/h_li'][:]\n",
    "            data['s_li'] = fi[g+'/land_ice_segments/h_li_sigma'][:]\n",
    "            data['q_flag'] = fi[g+'/land_ice_segments/atl06_quality_summary'][:]\n",
    "            data['s_fg'] = fi[g+'/land_ice_segments/fit_statistics/signal_selection_source'][:]\n",
    "            data['snr'] = fi[g+'/land_ice_segments/fit_statistics/snr_significance'][:]\n",
    "            data['h_rb'] = fi[g+'/land_ice_segments/fit_statistics/h_robust_sprd'][:]\n",
    "            data['bsnow_conf'] = fi[g+'/land_ice_segments/geophysical/bsnow_conf'][:]\n",
    "            \n",
    "            data['cloud_flg_asr'] = fi[g+'/land_ice_segments/geophysical/cloud_flg_asr'][:]\n",
    "            data['cloud_flg_atm'] = fi[g+'/land_ice_segments/geophysical/cloud_flg_atm'][:]\n",
    "            data['msw_flag'] = fi[g+'/land_ice_segments/geophysical/msw_flag'][:]\n",
    "            data['fbsnow_h'] = fi[g+'/land_ice_segments/geophysical/bsnow_h'][:]\n",
    "            data['bsnow_od'] = fi[g+'/land_ice_segments/geophysical/bsnow_od'][:]\n",
    "            data['layer_flag'] = fi[g+'/land_ice_segments/geophysical/layer_flag'][:]\n",
    "            data['bckgrd'] = fi[g+'/land_ice_segments/geophysical/bckgrd'][:]\n",
    "            data['e_bckgrd'] = fi[g+'/land_ice_segments/geophysical/e_bckgrd'][:]\n",
    "            data['n_fit_photons'] = fi[g+'/land_ice_segments/fit_statistics/n_fit_photons'][:]\n",
    "            data['w_surface_window_final'] = fi[g+'/land_ice_segments/fit_statistics/w_surface_window_final'][:]\n",
    "            \n",
    "            delta_t = fi[g+'/land_ice_segments/delta_time'][:]     # for time conversion\n",
    "            t_ref = fi['/ancillary_data/atlas_sdp_gps_epoch'][:]     # single value\n",
    "            \n",
    "            # Time in GPS seconds (secs since Jan 5, 1980)\n",
    "            t_gps = t_ref + delta_t\n",
    "\n",
    "            # GPS sec to datetime\n",
    "            data['t_year'] = gps2dyr(t_gps)\n",
    "            data['cycle'] = np.ones(npts, dtype=np.int8)*cycle\n",
    "            data['track'] = np.repeat(g[1:], npts)\n",
    "                \n",
    "            # Make a dataframe out of our data dict and store it.\n",
    "            dataframes.append(pd.DataFrame.from_dict(data))\n",
    "        \n",
    "    return dataframes"
   ]
  },
  {
   "cell_type": "code",
   "execution_count": 4,
   "id": "boring-harmony",
   "metadata": {},
   "outputs": [
    {
     "data": {
      "text/plain": [
       "'/home/jupyter/iceDivides'"
      ]
     },
     "execution_count": 4,
     "metadata": {},
     "output_type": "execute_result"
    }
   ],
   "source": [
    "pwd"
   ]
  },
  {
   "cell_type": "code",
   "execution_count": 5,
   "id": "postal-mambo",
   "metadata": {},
   "outputs": [],
   "source": [
    "seed = read_atl06('./ATL06_20190329071316_13870211_004_01.h5', cycle=int(4))"
   ]
  },
  {
   "cell_type": "code",
   "execution_count": 6,
   "id": "trained-classics",
   "metadata": {},
   "outputs": [],
   "source": [
    "Pgt1l = seed[0].iloc[:2]\n",
    "Pgt1r = seed[1].iloc[:2]\n",
    "Pgt2l = seed[2].iloc[:2]\n",
    "Pgt2r = seed[3].iloc[:2]\n",
    "Pgt3l = seed[4].iloc[:2]\n",
    "Pgt3r = seed[5].iloc[:2]"
   ]
  },
  {
   "cell_type": "code",
   "execution_count": 7,
   "id": "earlier-briefs",
   "metadata": {},
   "outputs": [
    {
     "data": {
      "text/html": [
       "<div>\n",
       "<style scoped>\n",
       "    .dataframe tbody tr th:only-of-type {\n",
       "        vertical-align: middle;\n",
       "    }\n",
       "\n",
       "    .dataframe tbody tr th {\n",
       "        vertical-align: top;\n",
       "    }\n",
       "\n",
       "    .dataframe thead th {\n",
       "        text-align: right;\n",
       "    }\n",
       "</style>\n",
       "<table border=\"1\" class=\"dataframe\">\n",
       "  <thead>\n",
       "    <tr style=\"text-align: right;\">\n",
       "      <th></th>\n",
       "      <th>id</th>\n",
       "      <th>lat</th>\n",
       "      <th>lon</th>\n",
       "      <th>slope_y</th>\n",
       "      <th>slope_x</th>\n",
       "      <th>slope_x_sigma</th>\n",
       "      <th>h_li</th>\n",
       "      <th>s_li</th>\n",
       "      <th>q_flag</th>\n",
       "      <th>s_fg</th>\n",
       "      <th>...</th>\n",
       "      <th>fbsnow_h</th>\n",
       "      <th>bsnow_od</th>\n",
       "      <th>layer_flag</th>\n",
       "      <th>bckgrd</th>\n",
       "      <th>e_bckgrd</th>\n",
       "      <th>n_fit_photons</th>\n",
       "      <th>w_surface_window_final</th>\n",
       "      <th>t_year</th>\n",
       "      <th>cycle</th>\n",
       "      <th>track</th>\n",
       "    </tr>\n",
       "  </thead>\n",
       "  <tbody>\n",
       "    <tr>\n",
       "      <th>0</th>\n",
       "      <td>1443587</td>\n",
       "      <td>-79.006042</td>\n",
       "      <td>176.344895</td>\n",
       "      <td>0.003497</td>\n",
       "      <td>0.045053</td>\n",
       "      <td>0.000830</td>\n",
       "      <td>-19.586994</td>\n",
       "      <td>0.012193</td>\n",
       "      <td>0</td>\n",
       "      <td>0</td>\n",
       "      <td>...</td>\n",
       "      <td>29.979246</td>\n",
       "      <td>0.268619</td>\n",
       "      <td>1</td>\n",
       "      <td>28285.419922</td>\n",
       "      <td>0.0</td>\n",
       "      <td>522</td>\n",
       "      <td>3.0</td>\n",
       "      <td>2019-03-29 07:13:52.971019</td>\n",
       "      <td>4</td>\n",
       "      <td>gt1l</td>\n",
       "    </tr>\n",
       "    <tr>\n",
       "      <th>1</th>\n",
       "      <td>1443588</td>\n",
       "      <td>-79.006216</td>\n",
       "      <td>176.344717</td>\n",
       "      <td>0.004264</td>\n",
       "      <td>0.050562</td>\n",
       "      <td>0.000883</td>\n",
       "      <td>-18.607821</td>\n",
       "      <td>0.012879</td>\n",
       "      <td>0</td>\n",
       "      <td>0</td>\n",
       "      <td>...</td>\n",
       "      <td>29.979246</td>\n",
       "      <td>0.268275</td>\n",
       "      <td>1</td>\n",
       "      <td>25933.798828</td>\n",
       "      <td>0.0</td>\n",
       "      <td>541</td>\n",
       "      <td>3.0</td>\n",
       "      <td>2019-03-29 07:13:52.973831</td>\n",
       "      <td>4</td>\n",
       "      <td>gt1l</td>\n",
       "    </tr>\n",
       "  </tbody>\n",
       "</table>\n",
       "<p>2 rows × 26 columns</p>\n",
       "</div>"
      ],
      "text/plain": [
       "        id        lat         lon   slope_y   slope_x  slope_x_sigma  \\\n",
       "0  1443587 -79.006042  176.344895  0.003497  0.045053       0.000830   \n",
       "1  1443588 -79.006216  176.344717  0.004264  0.050562       0.000883   \n",
       "\n",
       "        h_li      s_li  q_flag  s_fg  ...   fbsnow_h  bsnow_od  layer_flag  \\\n",
       "0 -19.586994  0.012193       0     0  ...  29.979246  0.268619           1   \n",
       "1 -18.607821  0.012879       0     0  ...  29.979246  0.268275           1   \n",
       "\n",
       "         bckgrd  e_bckgrd  n_fit_photons  w_surface_window_final  \\\n",
       "0  28285.419922       0.0            522                     3.0   \n",
       "1  25933.798828       0.0            541                     3.0   \n",
       "\n",
       "                      t_year  cycle  track  \n",
       "0 2019-03-29 07:13:52.971019      4   gt1l  \n",
       "1 2019-03-29 07:13:52.973831      4   gt1l  \n",
       "\n",
       "[2 rows x 26 columns]"
      ]
     },
     "execution_count": 7,
     "metadata": {},
     "output_type": "execute_result"
    }
   ],
   "source": [
    "Pgt1l"
   ]
  },
  {
   "cell_type": "code",
   "execution_count": 8,
   "id": "middle-circumstances",
   "metadata": {},
   "outputs": [],
   "source": [
    "gt1l = vaex.from_pandas(Pgt1l, copy_index=False)\n",
    "gt1r = vaex.from_pandas(Pgt1r, copy_index=False)\n",
    "gt2l = vaex.from_pandas(Pgt2l, copy_index=False)\n",
    "gt2r = vaex.from_pandas(Pgt2r, copy_index=False)\n",
    "gt3l = vaex.from_pandas(Pgt3l, copy_index=False)\n",
    "gt3r = vaex.from_pandas(Pgt3r, copy_index=False)"
   ]
  },
  {
   "cell_type": "code",
   "execution_count": 9,
   "id": "reduced-vienna",
   "metadata": {},
   "outputs": [],
   "source": [
    "files = os.listdir('./data04/')"
   ]
  },
  {
   "cell_type": "code",
   "execution_count": 10,
   "id": "artificial-adams",
   "metadata": {},
   "outputs": [
    {
     "name": "stderr",
     "output_type": "stream",
     "text": [
      "100%|██████████| 1183/1183 [1:38:14<00:00,  4.98s/it]\n"
     ]
    }
   ],
   "source": [
    "for file in tqdm(files):\n",
    "    dfs = read_atl06('./data04/' + file, cycle=int(4))\n",
    "    gt1l = gt1l.concat(vaex.from_pandas(dfs[0], copy_index=False))\n",
    "    gt1r = gt1r.concat(vaex.from_pandas(dfs[1], copy_index=False))\n",
    "    gt2l = gt2l.concat(vaex.from_pandas(dfs[2], copy_index=False))\n",
    "    gt2r = gt2r.concat(vaex.from_pandas(dfs[3], copy_index=False))\n",
    "    gt3l = gt3l.concat(vaex.from_pandas(dfs[4], copy_index=False))\n",
    "    gt3r = gt3r.concat(vaex.from_pandas(dfs[5], copy_index=False))"
   ]
  },
  {
   "cell_type": "code",
   "execution_count": 11,
   "id": "fuzzy-animal",
   "metadata": {},
   "outputs": [],
   "source": [
    "import pyproj\n",
    "\n",
    "psgs = pyproj.Proj(3976)"
   ]
  },
  {
   "cell_type": "code",
   "execution_count": 12,
   "id": "double-belfast",
   "metadata": {},
   "outputs": [],
   "source": [
    "df = vaex.concat([gt1l, gt1r, gt2l, gt2r, gt3l, gt3r])"
   ]
  },
  {
   "cell_type": "code",
   "execution_count": 15,
   "id": "hawaiian-momentum",
   "metadata": {},
   "outputs": [
    {
     "data": {
      "text/plain": [
       "Expression = lon\n",
       "Length: 751,393,194 dtype: float64 (column)\n",
       "-------------------------------------------\n",
       "        0  176.345\n",
       "        1  176.345\n",
       "        2  131.964\n",
       "        3  131.964\n",
       "        4  131.964\n",
       "       ...        \n",
       "751393189  122.206\n",
       "751393190  122.205\n",
       "751393191  122.205\n",
       "751393192  122.205\n",
       "751393193  122.205"
      ]
     },
     "execution_count": 15,
     "metadata": {},
     "output_type": "execute_result"
    }
   ],
   "source": [
    "df.lon"
   ]
  },
  {
   "cell_type": "code",
   "execution_count": 16,
   "id": "vocal-billion",
   "metadata": {},
   "outputs": [],
   "source": [
    "lat = df.lat.to_numpy()\n",
    "lon = df.lon.to_numpy()"
   ]
  },
  {
   "cell_type": "code",
   "execution_count": 17,
   "id": "applied-quebec",
   "metadata": {},
   "outputs": [],
   "source": [
    "x, y = psgs(lon,lat)"
   ]
  },
  {
   "cell_type": "code",
   "execution_count": 18,
   "id": "sticky-scotland",
   "metadata": {},
   "outputs": [],
   "source": [
    "df['x'], df['y'] = x, y"
   ]
  },
  {
   "cell_type": "code",
   "execution_count": 19,
   "id": "revolutionary-vocabulary",
   "metadata": {},
   "outputs": [
    {
     "data": {
      "text/html": [
       "<table>\n",
       "<thead>\n",
       "<tr><th>#                                      </th><th>id     </th><th>lat               </th><th>lon               </th><th>slope_y      </th><th>slope_x      </th><th>slope_x_sigma  </th><th>h_li      </th><th>s_li       </th><th>q_flag  </th><th>s_fg  </th><th>snr  </th><th>h_rb      </th><th>bsnow_conf  </th><th>cloud_flg_asr  </th><th>cloud_flg_atm  </th><th>msw_flag  </th><th>fbsnow_h  </th><th>bsnow_od  </th><th>layer_flag  </th><th>bckgrd   </th><th>e_bckgrd  </th><th>n_fit_photons  </th><th>w_surface_window_final  </th><th>t_year                       </th><th>cycle  </th><th>track  </th><th>x                 </th><th>y                  </th></tr>\n",
       "</thead>\n",
       "<tbody>\n",
       "<tr><td><i style='opacity: 0.6'>0</i>          </td><td>1443587</td><td>-79.00604150693235</td><td>176.34489505559952</td><td>0.0034970236 </td><td>0.045052722  </td><td>0.0008298112   </td><td>-19.586994</td><td>0.012193246</td><td>0       </td><td>0     </td><td>0.0  </td><td>0.17003135</td><td>-1          </td><td>2              </td><td>1              </td><td>3         </td><td>29.979246 </td><td>0.26861945</td><td>1           </td><td>28285.42 </td><td>0.0       </td><td>522            </td><td>3.0                     </td><td>2019-03-29 07:13:52.971019000</td><td>4      </td><td>gt1l   </td><td>76147.62450344954 </td><td>-1192036.1950727522</td></tr>\n",
       "<tr><td><i style='opacity: 0.6'>1</i>          </td><td>1443588</td><td>-79.00621643747844</td><td>176.34471657932238</td><td>0.0042643934 </td><td>0.050562415  </td><td>0.00088303734  </td><td>-18.60782 </td><td>0.01287923 </td><td>0       </td><td>0     </td><td>0.0  </td><td>0.18802492</td><td>-1          </td><td>2              </td><td>1              </td><td>3         </td><td>29.979246 </td><td>0.2682749 </td><td>1           </td><td>25933.799</td><td>0.0       </td><td>541            </td><td>3.0                     </td><td>2019-03-29 07:13:52.973831000</td><td>4      </td><td>gt1l   </td><td>76150.11884253839 </td><td>-1192016.878556122 </td></tr>\n",
       "<tr><td><i style='opacity: 0.6'>2</i>          </td><td>1443566</td><td>-79.00595912587283</td><td>131.9638885933059 </td><td>-0.0078001074</td><td>-0.007624898 </td><td>0.00072996994  </td><td>2694.2922 </td><td>0.01342969 </td><td>0       </td><td>0     </td><td>0.0  </td><td>0.15974869</td><td>-1          </td><td>3              </td><td>1              </td><td>1         </td><td>29.979246 </td><td>3.5172894 </td><td>1           </td><td>31344.887</td><td>0.0       </td><td>349            </td><td>3.0                     </td><td>2019-08-13 03:39:08.411206000</td><td>4      </td><td>gt1l   </td><td>888171.4001540921 </td><td>-798700.0837204859 </td></tr>\n",
       "<tr><td><i style='opacity: 0.6'>3</i>          </td><td>1443567</td><td>-79.0061341640174 </td><td>131.96371306495894</td><td>-0.009097683 </td><td>0.0016801931 </td><td>0.0006594451   </td><td>2694.236  </td><td>0.011044861</td><td>0       </td><td>0     </td><td>0.0  </td><td>0.14315589</td><td>-1          </td><td>3              </td><td>1              </td><td>1         </td><td>29.979246 </td><td>3.508708  </td><td>1           </td><td>24857.996</td><td>0.0       </td><td>370            </td><td>3.0                     </td><td>2019-08-13 03:39:08.413974000</td><td>4      </td><td>gt1l   </td><td>888159.6225666268 </td><td>-798684.5713220087 </td></tr>\n",
       "<tr><td><i style='opacity: 0.6'>4</i>          </td><td>1443568</td><td>-79.00630916165724</td><td>131.9635364478629 </td><td>-0.0090947375</td><td>-0.005134519 </td><td>0.000681793    </td><td>2694.2112 </td><td>0.01374981 </td><td>0       </td><td>0     </td><td>0.0  </td><td>0.14606725</td><td>-1          </td><td>3              </td><td>1              </td><td>1         </td><td>29.979246 </td><td>3.5001132 </td><td>1           </td><td>18611.582</td><td>0.0       </td><td>351            </td><td>3.0                     </td><td>2019-08-13 03:39:08.416746000</td><td>4      </td><td>gt1l   </td><td>888147.8633645977 </td><td>-798669.045089982  </td></tr>\n",
       "<tr><td>...                                    </td><td>...    </td><td>...               </td><td>...               </td><td>...          </td><td>...          </td><td>...            </td><td>...       </td><td>...        </td><td>...     </td><td>...   </td><td>...  </td><td>...       </td><td>...         </td><td>...            </td><td>...            </td><td>...       </td><td>...       </td><td>...       </td><td>...         </td><td>...      </td><td>...       </td><td>...            </td><td>...                     </td><td>...                          </td><td>...    </td><td>...    </td><td>...               </td><td>...                </td></tr>\n",
       "<tr><td><i style='opacity: 0.6'>751,393,189</i></td><td>1565322</td><td>-78.99498722259055</td><td>122.20563290468425</td><td>-0.0019472371</td><td>-0.0039466233</td><td>0.000513232    </td><td>3011.0813 </td><td>0.010244543</td><td>0       </td><td>0     </td><td>0.0  </td><td>0.13470326</td><td>6           </td><td>1              </td><td>0              </td><td>4         </td><td>89.93774  </td><td>0.13574995</td><td>1           </td><td>30091.52 </td><td>0.0       </td><td>526            </td><td>3.0                     </td><td>2019-09-24 15:38:58.984244000</td><td>4      </td><td>gt3r   </td><td>1011708.541638234 </td><td>-637245.7870177798 </td></tr>\n",
       "<tr><td><i style='opacity: 0.6'>751,393,190</i></td><td>1565323</td><td>-78.99481244460544</td><td>122.20544982005265</td><td>-0.0011542421</td><td>0.00054058724</td><td>0.00054023886  </td><td>3011.042  </td><td>0.010337847</td><td>0       </td><td>0     </td><td>0.0  </td><td>0.14055006</td><td>6           </td><td>1              </td><td>0              </td><td>4         </td><td>89.93774  </td><td>0.13408506</td><td>1           </td><td>29101.316</td><td>0.0       </td><td>505            </td><td>3.0                     </td><td>2019-09-24 15:38:58.987084000</td><td>4      </td><td>gt3r   </td><td>1011726.7408161714</td><td>-637252.734645272  </td></tr>\n",
       "<tr><td><i style='opacity: 0.6'>751,393,191</i></td><td>1565324</td><td>-78.9946376773271 </td><td>122.20526646088268</td><td>-0.0013028648</td><td>0.0010834709 </td><td>0.00054830353  </td><td>3011.047  </td><td>0.010585114</td><td>0       </td><td>0     </td><td>0.0  </td><td>0.14434388</td><td>6           </td><td>1              </td><td>0              </td><td>4         </td><td>89.93774  </td><td>0.13242358</td><td>1           </td><td>29514.148</td><td>0.0       </td><td>503            </td><td>3.0                     </td><td>2019-09-24 15:38:58.989918000</td><td>4      </td><td>gt3r   </td><td>1011744.9421167629</td><td>-637259.6766943152 </td></tr>\n",
       "<tr><td><i style='opacity: 0.6'>751,393,192</i></td><td>1565325</td><td>-78.99446293594019</td><td>122.20508242886729</td><td>-0.0017108024</td><td>-0.0010359868</td><td>0.00060883845  </td><td>3011.0618 </td><td>0.011584576</td><td>0       </td><td>0     </td><td>0.0  </td><td>0.15835683</td><td>6           </td><td>1              </td><td>0              </td><td>4         </td><td>89.93774  </td><td>0.1307686 </td><td>1           </td><td>29702.807</td><td>0.0       </td><td>518            </td><td>3.0                     </td><td>2019-09-24 15:38:58.992741000</td><td>4      </td><td>gt3r   </td><td>1011763.1485659989</td><td>-637266.6052466437 </td></tr>\n",
       "<tr><td><i style='opacity: 0.6'>751,393,193</i></td><td>1565326</td><td>-78.99428822225137</td><td>122.20489767660399</td><td>-0.0011956042</td><td>0.0020242282 </td><td>0.000526027    </td><td>3011.0696 </td><td>0.009609619</td><td>0       </td><td>0     </td><td>0.0  </td><td>0.13666363</td><td>6           </td><td>1              </td><td>0              </td><td>4         </td><td>89.93774  </td><td>0.12912033</td><td>1           </td><td>29672.334</td><td>0.0       </td><td>508            </td><td>3.0                     </td><td>2019-09-24 15:38:58.995552000</td><td>4      </td><td>gt3r   </td><td>1011781.3605242652</td><td>-637273.5193593283 </td></tr>\n",
       "</tbody>\n",
       "</table>"
      ],
      "text/plain": [
       "#            id       lat                 lon                 slope_y        slope_x        slope_x_sigma    h_li        s_li         q_flag    s_fg    snr    h_rb        bsnow_conf    cloud_flg_asr    cloud_flg_atm    msw_flag    fbsnow_h    bsnow_od    layer_flag    bckgrd     e_bckgrd    n_fit_photons    w_surface_window_final    t_year                         cycle    track    x                   y\n",
       "0            1443587  -79.00604150693235  176.34489505559952  0.0034970236   0.045052722    0.0008298112     -19.586994  0.012193246  0         0       0.0    0.17003135  -1            2                1                3           29.979246   0.26861945  1             28285.42   0.0         522              3.0                       2019-03-29 07:13:52.971019000  4        gt1l     76147.62450344954   -1192036.1950727522\n",
       "1            1443588  -79.00621643747844  176.34471657932238  0.0042643934   0.050562415    0.00088303734    -18.60782   0.01287923   0         0       0.0    0.18802492  -1            2                1                3           29.979246   0.2682749   1             25933.799  0.0         541              3.0                       2019-03-29 07:13:52.973831000  4        gt1l     76150.11884253839   -1192016.878556122\n",
       "2            1443566  -79.00595912587283  131.9638885933059   -0.0078001074  -0.007624898   0.00072996994    2694.2922   0.01342969   0         0       0.0    0.15974869  -1            3                1                1           29.979246   3.5172894   1             31344.887  0.0         349              3.0                       2019-08-13 03:39:08.411206000  4        gt1l     888171.4001540921   -798700.0837204859\n",
       "3            1443567  -79.0061341640174   131.96371306495894  -0.009097683   0.0016801931   0.0006594451     2694.236    0.011044861  0         0       0.0    0.14315589  -1            3                1                1           29.979246   3.508708    1             24857.996  0.0         370              3.0                       2019-08-13 03:39:08.413974000  4        gt1l     888159.6225666268   -798684.5713220087\n",
       "4            1443568  -79.00630916165724  131.9635364478629   -0.0090947375  -0.005134519   0.000681793      2694.2112   0.01374981   0         0       0.0    0.14606725  -1            3                1                1           29.979246   3.5001132   1             18611.582  0.0         351              3.0                       2019-08-13 03:39:08.416746000  4        gt1l     888147.8633645977   -798669.045089982\n",
       "...          ...      ...                 ...                 ...            ...            ...              ...         ...          ...       ...     ...    ...         ...           ...              ...              ...         ...         ...         ...           ...        ...         ...              ...                       ...                            ...      ...      ...                 ...\n",
       "751,393,189  1565322  -78.99498722259055  122.20563290468425  -0.0019472371  -0.0039466233  0.000513232      3011.0813   0.010244543  0         0       0.0    0.13470326  6             1                0                4           89.93774    0.13574995  1             30091.52   0.0         526              3.0                       2019-09-24 15:38:58.984244000  4        gt3r     1011708.541638234   -637245.7870177798\n",
       "751,393,190  1565323  -78.99481244460544  122.20544982005265  -0.0011542421  0.00054058724  0.00054023886    3011.042    0.010337847  0         0       0.0    0.14055006  6             1                0                4           89.93774    0.13408506  1             29101.316  0.0         505              3.0                       2019-09-24 15:38:58.987084000  4        gt3r     1011726.7408161714  -637252.734645272\n",
       "751,393,191  1565324  -78.9946376773271   122.20526646088268  -0.0013028648  0.0010834709   0.00054830353    3011.047    0.010585114  0         0       0.0    0.14434388  6             1                0                4           89.93774    0.13242358  1             29514.148  0.0         503              3.0                       2019-09-24 15:38:58.989918000  4        gt3r     1011744.9421167629  -637259.6766943152\n",
       "751,393,192  1565325  -78.99446293594019  122.20508242886729  -0.0017108024  -0.0010359868  0.00060883845    3011.0618   0.011584576  0         0       0.0    0.15835683  6             1                0                4           89.93774    0.1307686   1             29702.807  0.0         518              3.0                       2019-09-24 15:38:58.992741000  4        gt3r     1011763.1485659989  -637266.6052466437\n",
       "751,393,193  1565326  -78.99428822225137  122.20489767660399  -0.0011956042  0.0020242282   0.000526027      3011.0696   0.009609619  0         0       0.0    0.13666363  6             1                0                4           89.93774    0.12912033  1             29672.334  0.0         508              3.0                       2019-09-24 15:38:58.995552000  4        gt3r     1011781.3605242652  -637273.5193593283"
      ]
     },
     "execution_count": 19,
     "metadata": {},
     "output_type": "execute_result"
    }
   ],
   "source": [
    "df"
   ]
  },
  {
   "cell_type": "code",
   "execution_count": 20,
   "id": "third-marijuana",
   "metadata": {},
   "outputs": [],
   "source": [
    "df.export_arrow('./atl06_04_11.arrow')"
   ]
  },
  {
   "cell_type": "code",
   "execution_count": null,
   "id": "urban-namibia",
   "metadata": {},
   "outputs": [],
   "source": []
  },
  {
   "cell_type": "code",
   "execution_count": 9,
   "id": "polished-stanley",
   "metadata": {},
   "outputs": [
    {
     "name": "stdout",
     "output_type": "stream",
     "text": [
      "Assimilation.ipynb  Untitled.ipynb  download.py                  utils.py\r\n",
      "Climate_bash.ipynb  \u001b[0m\u001b[01;34m_build\u001b[0m/         download_icesat2.ipynb       utils_atl03.py\r\n",
      "CloudMask.ipynb     \u001b[01;34mdata\u001b[0m/           \u001b[01;34mexamples\u001b[0m/                    utils_atl06.py\r\n",
      "ExampleFetch.ipynb  default.nix     mixed_graphical_model.ipynb  utils_cloud.py\r\n",
      "IngestATL03.ipynb   des.nix         seed.h5\r\n"
     ]
    }
   ],
   "source": [
    "ls"
   ]
  },
  {
   "cell_type": "code",
   "execution_count": 11,
   "id": "intimate-increase",
   "metadata": {},
   "outputs": [],
   "source": [
    "gt1l.export_arrow('./gt1l.arrow')\n",
    "gt1r.export_arrow('./gt1r.arrow')\n",
    "gt2l.export_arrow('./gt2l.arrow')\n",
    "gt2r.export_arrow('./gt2r.arrow')\n",
    "gt3l.export_arrow('./gt3l.arrow')\n",
    "gt3r.export_arrow('./gt3r.arrow')\n"
   ]
  },
  {
   "cell_type": "code",
   "execution_count": 10,
   "id": "operating-possibility",
   "metadata": {},
   "outputs": [
    {
     "data": {
      "text/html": [
       "<table>\n",
       "<thead>\n",
       "<tr><th>#                                      </th><th>id     </th><th>lat               </th><th>lon                </th><th>slope_y      </th><th>slope_x      </th><th>slope_x_sigma  </th><th>h_li     </th><th>s_li       </th><th>q_flag  </th><th>s_fg  </th><th>snr  </th><th>h_rb      </th><th>bsnow_conf  </th><th>cloud_flg_asr  </th><th>cloud_flg_atm  </th><th>msw_flag  </th><th>fbsnow_h  </th><th>bsnow_od  </th><th>layer_flag  </th><th>bckgrd   </th><th>e_bckgrd  </th><th>n_fit_photons  </th><th>w_surface_window_final  </th><th>t_year                       </th></tr>\n",
       "</thead>\n",
       "<tbody>\n",
       "<tr><td><i style='opacity: 0.6'>0</i>          </td><td>1443576</td><td>-79.00265175898602</td><td>152.6338938942904  </td><td>-0.0034930306</td><td>-0.0019932939</td><td>0.0012799798   </td><td>2112.0972</td><td>0.02197273 </td><td>0       </td><td>0     </td><td>0.0  </td><td>0.13674001</td><td>-1          </td><td>1              </td><td>0              </td><td>0         </td><td>98.97748  </td><td>0.15880647</td><td>0           </td><td>3543741.5</td><td>1567040.4 </td><td>138            </td><td>3.0                     </td><td>2018-12-28 13:08:17.510551000</td></tr>\n",
       "<tr><td><i style='opacity: 0.6'>1</i>          </td><td>1443577</td><td>-79.00282660535785</td><td>152.6337131144976  </td><td>-0.0033072757</td><td>-0.005460351 </td><td>0.0012954295   </td><td>2111.9941</td><td>0.015203893</td><td>0       </td><td>0     </td><td>0.0  </td><td>0.12070798</td><td>-1          </td><td>1              </td><td>0              </td><td>0         </td><td>96.86956  </td><td>0.15470755</td><td>0           </td><td>3428445.2</td><td>1567056.9 </td><td>144            </td><td>3.0                     </td><td>2018-12-28 13:08:17.513373000</td></tr>\n",
       "<tr><td><i style='opacity: 0.6'>2</i>          </td><td>1443581</td><td>-79.00770226316052</td><td>-70.68951907383446 </td><td>0.014864666  </td><td>0.008418874  </td><td>0.0005335565   </td><td>184.627  </td><td>0.010601515</td><td>0       </td><td>0     </td><td>0.0  </td><td>0.12233275</td><td>4           </td><td>2              </td><td>1              </td><td>4         </td><td>202.5068  </td><td>0.23907205</td><td>0           </td><td>821368.3 </td><td>456252.12 </td><td>397            </td><td>3.0                     </td><td>2019-02-23 01:20:25.102900000</td></tr>\n",
       "<tr><td><i style='opacity: 0.6'>3</i>          </td><td>1443582</td><td>-79.00787704800452</td><td>-70.68970163845202 </td><td>0.014720231  </td><td>0.0057043494 </td><td>0.0005324582   </td><td>184.77682</td><td>0.011338408</td><td>0       </td><td>0     </td><td>0.0  </td><td>0.12369104</td><td>4           </td><td>2              </td><td>1              </td><td>4         </td><td>200.39746 </td><td>0.23566185</td><td>0           </td><td>794943.7 </td><td>456265.75 </td><td>381            </td><td>3.0                     </td><td>2019-02-23 01:20:25.105714000</td></tr>\n",
       "<tr><td><i style='opacity: 0.6'>4</i>          </td><td>1443583</td><td>-79.00805186741138</td><td>-70.68988326285287 </td><td>0.014575872  </td><td>0.009426143  </td><td>0.0006639459   </td><td>184.91608</td><td>0.012034703</td><td>0       </td><td>0     </td><td>0.0  </td><td>0.14692499</td><td>4           </td><td>2              </td><td>1              </td><td>4         </td><td>198.28993 </td><td>0.23225461</td><td>0           </td><td>780100.6 </td><td>456282.53 </td><td>388            </td><td>3.0                     </td><td>2019-02-23 01:20:25.108526000</td></tr>\n",
       "<tr><td>...                                    </td><td>...    </td><td>...               </td><td>...                </td><td>...          </td><td>...          </td><td>...            </td><td>...      </td><td>...        </td><td>...     </td><td>...   </td><td>...  </td><td>...       </td><td>...         </td><td>...            </td><td>...            </td><td>...       </td><td>...       </td><td>...       </td><td>...         </td><td>...      </td><td>...       </td><td>...            </td><td>...                     </td><td>...                          </td></tr>\n",
       "<tr><td><i style='opacity: 0.6'>133,682,447</i></td><td>1565346</td><td>-79.00721045006628</td><td>-132.21977068251854</td><td>-0.006477784 </td><td>0.004741233  </td><td>0.0016565407   </td><td>1102.3906</td><td>0.03348249 </td><td>0       </td><td>0     </td><td>0.0  </td><td>0.21513973</td><td>-1          </td><td>4              </td><td>1              </td><td>2         </td><td>209.85472 </td><td>0.6916528 </td><td>1           </td><td>494481.06</td><td>420435.2  </td><td>111            </td><td>3.0                     </td><td>2019-03-28 17:10:59.581486000</td></tr>\n",
       "<tr><td><i style='opacity: 0.6'>133,682,448</i></td><td>1565347</td><td>-79.00703565872891</td><td>-132.2199529490756 </td><td>-0.005692235 </td><td>0.002207704  </td><td>0.0018826145   </td><td>1102.4156</td><td>0.029799085</td><td>0       </td><td>0     </td><td>0.0  </td><td>0.21348575</td><td>-1          </td><td>4              </td><td>1              </td><td>2         </td><td>209.85472 </td><td>0.6932627 </td><td>1           </td><td>514356.84</td><td>420444.66 </td><td>102            </td><td>3.0                     </td><td>2019-03-28 17:10:59.584297000</td></tr>\n",
       "<tr><td><i style='opacity: 0.6'>133,682,449</i></td><td>1565348</td><td>-79.00686084266192</td><td>-132.22013452710036</td><td>-0.0059905816</td><td>-0.003254145 </td><td>0.0019431423   </td><td>1102.4171</td><td>0.04439576 </td><td>0       </td><td>0     </td><td>0.0  </td><td>0.21254022</td><td>-1          </td><td>4              </td><td>1              </td><td>2         </td><td>209.85472 </td><td>0.6948735 </td><td>1           </td><td>513579.88</td><td>420454.1  </td><td>90             </td><td>3.0                     </td><td>2019-03-28 17:10:59.587110000</td></tr>\n",
       "<tr><td><i style='opacity: 0.6'>133,682,450</i></td><td>1565349</td><td>-79.00668598596165</td><td>-132.22031501663284</td><td>-0.006612603 </td><td>0.0012488412 </td><td>0.0021047168   </td><td>1102.4423</td><td>0.037854582</td><td>0       </td><td>0     </td><td>0.0  </td><td>0.21960956</td><td>-1          </td><td>4              </td><td>1              </td><td>2         </td><td>209.85472 </td><td>0.6964865 </td><td>1           </td><td>496849.22</td><td>420463.56 </td><td>92             </td><td>3.0                     </td><td>2019-03-28 17:10:59.589927000</td></tr>\n",
       "<tr><td><i style='opacity: 0.6'>133,682,451</i></td><td>1565350</td><td>-79.00651108765229</td><td>-132.22049439130075</td><td>-0.006373983 </td><td>0.0057607717 </td><td>0.002044127    </td><td>1102.5253</td><td>0.033580653</td><td>0       </td><td>0     </td><td>0.0  </td><td>0.22675054</td><td>-1          </td><td>4              </td><td>1              </td><td>2         </td><td>209.85472 </td><td>0.6981005 </td><td>1           </td><td>479508.7 </td><td>420473.03 </td><td>84             </td><td>3.0                     </td><td>2019-03-28 17:10:59.592746000</td></tr>\n",
       "</tbody>\n",
       "</table>"
      ],
      "text/plain": [
       "#            id       lat                 lon                  slope_y        slope_x        slope_x_sigma    h_li       s_li         q_flag    s_fg    snr    h_rb        bsnow_conf    cloud_flg_asr    cloud_flg_atm    msw_flag    fbsnow_h    bsnow_od    layer_flag    bckgrd     e_bckgrd    n_fit_photons    w_surface_window_final    t_year\n",
       "0            1443576  -79.00265175898602  152.6338938942904    -0.0034930306  -0.0019932939  0.0012799798     2112.0972  0.02197273   0         0       0.0    0.13674001  -1            1                0                0           98.97748    0.15880647  0             3543741.5  1567040.4   138              3.0                       2018-12-28 13:08:17.510551000\n",
       "1            1443577  -79.00282660535785  152.6337131144976    -0.0033072757  -0.005460351   0.0012954295     2111.9941  0.015203893  0         0       0.0    0.12070798  -1            1                0                0           96.86956    0.15470755  0             3428445.2  1567056.9   144              3.0                       2018-12-28 13:08:17.513373000\n",
       "2            1443581  -79.00770226316052  -70.68951907383446   0.014864666    0.008418874    0.0005335565     184.627    0.010601515  0         0       0.0    0.12233275  4             2                1                4           202.5068    0.23907205  0             821368.3   456252.12   397              3.0                       2019-02-23 01:20:25.102900000\n",
       "3            1443582  -79.00787704800452  -70.68970163845202   0.014720231    0.0057043494   0.0005324582     184.77682  0.011338408  0         0       0.0    0.12369104  4             2                1                4           200.39746   0.23566185  0             794943.7   456265.75   381              3.0                       2019-02-23 01:20:25.105714000\n",
       "4            1443583  -79.00805186741138  -70.68988326285287   0.014575872    0.009426143    0.0006639459     184.91608  0.012034703  0         0       0.0    0.14692499  4             2                1                4           198.28993   0.23225461  0             780100.6   456282.53   388              3.0                       2019-02-23 01:20:25.108526000\n",
       "...          ...      ...                 ...                  ...            ...            ...              ...        ...          ...       ...     ...    ...         ...           ...              ...              ...         ...         ...         ...           ...        ...         ...              ...                       ...\n",
       "133,682,447  1565346  -79.00721045006628  -132.21977068251854  -0.006477784   0.004741233    0.0016565407     1102.3906  0.03348249   0         0       0.0    0.21513973  -1            4                1                2           209.85472   0.6916528   1             494481.06  420435.2    111              3.0                       2019-03-28 17:10:59.581486000\n",
       "133,682,448  1565347  -79.00703565872891  -132.2199529490756   -0.005692235   0.002207704    0.0018826145     1102.4156  0.029799085  0         0       0.0    0.21348575  -1            4                1                2           209.85472   0.6932627   1             514356.84  420444.66   102              3.0                       2019-03-28 17:10:59.584297000\n",
       "133,682,449  1565348  -79.00686084266192  -132.22013452710036  -0.0059905816  -0.003254145   0.0019431423     1102.4171  0.04439576   0         0       0.0    0.21254022  -1            4                1                2           209.85472   0.6948735   1             513579.88  420454.1    90               3.0                       2019-03-28 17:10:59.587110000\n",
       "133,682,450  1565349  -79.00668598596165  -132.22031501663284  -0.006612603   0.0012488412   0.0021047168     1102.4423  0.037854582  0         0       0.0    0.21960956  -1            4                1                2           209.85472   0.6964865   1             496849.22  420463.56   92               3.0                       2019-03-28 17:10:59.589927000\n",
       "133,682,451  1565350  -79.00651108765229  -132.22049439130075  -0.006373983   0.0057607717   0.002044127      1102.5253  0.033580653  0         0       0.0    0.22675054  -1            4                1                2           209.85472   0.6981005   1             479508.7   420473.03   84               3.0                       2019-03-28 17:10:59.592746000"
      ]
     },
     "execution_count": 10,
     "metadata": {},
     "output_type": "execute_result"
    }
   ],
   "source": [
    "gt1l"
   ]
  },
  {
   "cell_type": "code",
   "execution_count": null,
   "id": "guilty-legend",
   "metadata": {},
   "outputs": [],
   "source": []
  }
 ],
 "metadata": {
  "kernelspec": {
   "display_name": "Python 3",
   "language": "python",
   "name": "python3"
  },
  "language_info": {
   "codemirror_mode": {
    "name": "ipython",
    "version": 3
   },
   "file_extension": ".py",
   "mimetype": "text/x-python",
   "name": "python",
   "nbconvert_exporter": "python",
   "pygments_lexer": "ipython3",
   "version": "3.8.9"
  }
 },
 "nbformat": 4,
 "nbformat_minor": 5
}
