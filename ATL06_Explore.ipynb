{
 "cells": [
  {
   "cell_type": "code",
   "execution_count": 2,
   "id": "fda03762-43dc-4772-a559-ffc35ba8c57f",
   "metadata": {},
   "outputs": [],
   "source": [
    "import vaex\n",
    "import vaex.jupyter.model as vjm\n",
    "\n",
    "import numpy as np\n",
    "import matplotlib.pyplot as plt\n"
   ]
  },
  {
   "cell_type": "code",
   "execution_count": 3,
   "id": "df7470e0-406d-467a-a3b8-e7d661e83049",
   "metadata": {},
   "outputs": [],
   "source": [
    "df = vaex.open('./atl06_03_S.arrow')"
   ]
  },
  {
   "cell_type": "code",
   "execution_count": 4,
   "id": "5f08b1dd-adc1-483e-8ae7-3e286255a378",
   "metadata": {},
   "outputs": [
    {
     "data": {
      "text/html": [
       "<table>\n",
       "<thead>\n",
       "<tr><th>#                                        </th><th>id     </th><th>lat               </th><th>lon                </th><th>slope_y               </th><th>slope_x               </th><th>slope_x_sigma         </th><th>h_li                  </th><th>s_li                  </th><th>q_flag  </th><th>s_fg  </th><th>snr                   </th><th>h_rb                  </th><th>bsnow_conf  </th><th>cloud_flg_asr  </th><th>cloud_flg_atm  </th><th>msw_flag  </th><th>fbsnow_h              </th><th>bsnow_od              </th><th>layer_flag  </th><th>bckgrd          </th><th>e_bckgrd              </th><th>n_fit_photons  </th><th>w_surface_window_final  </th><th>t_year                    </th><th>cycle  </th><th>track  </th><th>midx               </th><th>x                  </th><th>y                  </th></tr>\n",
       "</thead>\n",
       "<tbody>\n",
       "<tr><td><i style='opacity: 0.6'>0</i>            </td><td>1411891</td><td>-73.42552448629439</td><td>-23.737491529404053</td><td>3.4028234663852886e+38</td><td>0.003976050298660994  </td><td>0.004737921059131622  </td><td>-0.928657591342926    </td><td>0.05943682789802551   </td><td>0       </td><td>0     </td><td>0.0                   </td><td>0.31860873103141785   </td><td>-1          </td><td>5              </td><td>3              </td><td>2         </td><td>29.979246139526367    </td><td>3.3278605937957764    </td><td>1           </td><td>7129.5341796875 </td><td>0.0                   </td><td>32             </td><td>3.0                     </td><td>2019-05-15 18:32:18.937870</td><td>3      </td><td>gt1l   </td><td>5121313434313234232</td><td>-727639.2099292141 </td><td>1654665.7247102554 </td></tr>\n",
       "<tr><td><i style='opacity: 0.6'>1</i>            </td><td>1411892</td><td>-73.42570108740605</td><td>-23.737578914273882</td><td>3.4028234663852886e+38</td><td>-0.002587417373433709 </td><td>0.005404622759670019  </td><td>-1.074399471282959    </td><td>0.18140001595020294   </td><td>0       </td><td>0     </td><td>0.0                   </td><td>0.3358314335346222    </td><td>-1          </td><td>5              </td><td>2              </td><td>2         </td><td>29.979246139526367    </td><td>3.323024272918701     </td><td>1           </td><td>9199.2119140625 </td><td>0.0                   </td><td>30             </td><td>3.0                     </td><td>2019-05-15 18:32:18.940693</td><td>3      </td><td>gt1l   </td><td>5121313434313234231</td><td>-727633.8756359789 </td><td>1654646.745975993  </td></tr>\n",
       "<tr><td><i style='opacity: 0.6'>2</i>            </td><td>1411893</td><td>-73.42587767946493</td><td>-23.737666524006926</td><td>-0.0034792206715792418</td><td>0.005786192137748003  </td><td>0.009921900928020477  </td><td>-0.9788220524787903   </td><td>0.1321229785680771    </td><td>0       </td><td>0     </td><td>0.0                   </td><td>0.593020498752594     </td><td>-1          </td><td>5              </td><td>2              </td><td>2         </td><td>29.979246139526367    </td><td>3.3182029724121094    </td><td>1           </td><td>9166.1826171875 </td><td>0.0                   </td><td>35             </td><td>3.5581231117248535      </td><td>2019-05-15 18:32:18.943507</td><td>3      </td><td>gt1l   </td><td>5121313434313234231</td><td>-727628.5481865024 </td><td>1654627.7653298955 </td></tr>\n",
       "<tr><td><i style='opacity: 0.6'>3</i>            </td><td>1411894</td><td>-73.42605427224831</td><td>-23.73775412633728 </td><td>0.0016622913535684347 </td><td>-0.019352739676833153 </td><td>0.0043994830921292305 </td><td>-1.0710368156433105   </td><td>0.1024324968457222    </td><td>0       </td><td>0     </td><td>0.0                   </td><td>0.36016562581062317   </td><td>-1          </td><td>5              </td><td>2              </td><td>2         </td><td>29.979246139526367    </td><td>3.3133904933929443    </td><td>1           </td><td>7230.70849609375</td><td>0.0                   </td><td>48             </td><td>3.0                     </td><td>2019-05-15 18:32:18.946315</td><td>3      </td><td>gt1l   </td><td>5121313434313234142</td><td>-727623.2204380583 </td><td>1654608.7847323737 </td></tr>\n",
       "<tr><td><i style='opacity: 0.6'>4</i>            </td><td>1411895</td><td>-73.42623086896181</td><td>-23.737841655037016</td><td>0.004035372287034988  </td><td>0.008749883621931076  </td><td>0.0038084150291979313 </td><td>-1.219468116760254    </td><td>0.060207393020391464  </td><td>0       </td><td>0     </td><td>0.0                   </td><td>0.30477914214134216   </td><td>-1          </td><td>5              </td><td>2              </td><td>2         </td><td>29.979246139526367    </td><td>3.3085813522338867    </td><td>1           </td><td>5390.36962890625</td><td>0.0                   </td><td>48             </td><td>3.0                     </td><td>2019-05-15 18:32:18.949122</td><td>3      </td><td>gt1l   </td><td>5121313434313234123</td><td>-727617.8903354848 </td><td>1654589.8047001245 </td></tr>\n",
       "<tr><td>...                                      </td><td>...    </td><td>...               </td><td>...                </td><td>...                   </td><td>...                   </td><td>...                   </td><td>...                   </td><td>...                   </td><td>...     </td><td>...   </td><td>...                   </td><td>...                   </td><td>...         </td><td>...            </td><td>...            </td><td>...       </td><td>...                   </td><td>...                   </td><td>...         </td><td>...             </td><td>...                   </td><td>...            </td><td>...                     </td><td>...                       </td><td>...    </td><td>...    </td><td>...                </td><td>...                </td><td>...                </td></tr>\n",
       "<tr><td><i style='opacity: 0.6'>1,463,893,173</i></td><td>1569656</td><td>-78.2400490932243 </td><td>-112.14232913945352</td><td>3.4028234663852886e+38</td><td>3.4028234663852886e+38</td><td>3.4028234663852886e+38</td><td>3.4028234663852886e+38</td><td>3.4028234663852886e+38</td><td>1       </td><td>3     </td><td>3.4028234663852886e+38</td><td>3.4028234663852886e+38</td><td>-3          </td><td>5              </td><td>2              </td><td>2         </td><td>29.979246139526367    </td><td>-0.007984576746821404 </td><td>1           </td><td>9233.5322265625 </td><td>3.4028234663852886e+38</td><td>0              </td><td>3.4028234663852886e+38  </td><td>2019-04-13 15:03:34.767862</td><td>3      </td><td>gt3r   </td><td>4112233333421444212</td><td>-1183965.1241931545</td><td>-481777.6041658824 </td></tr>\n",
       "<tr><td><i style='opacity: 0.6'>1,463,893,174</i></td><td>1569657</td><td>-78.2398740994634 </td><td>-112.14249557765775</td><td>3.4028234663852886e+38</td><td>3.4028234663852886e+38</td><td>3.4028234663852886e+38</td><td>3.4028234663852886e+38</td><td>3.4028234663852886e+38</td><td>1       </td><td>3     </td><td>3.4028234663852886e+38</td><td>3.4028234663852886e+38</td><td>-3          </td><td>5              </td><td>2              </td><td>2         </td><td>29.979246139526367    </td><td>-0.008194150403141975 </td><td>1           </td><td>8526.9384765625 </td><td>3.4028234663852886e+38</td><td>0              </td><td>3.4028234663852886e+38  </td><td>2019-04-13 15:03:34.770912</td><td>3      </td><td>gt3r   </td><td>4112233333421444221</td><td>-1183981.4619760022</td><td>-481788.2611581817 </td></tr>\n",
       "<tr><td><i style='opacity: 0.6'>1,463,893,175</i></td><td>1569752</td><td>-78.22323544581869</td><td>-112.157929146986  </td><td>3.4028234663852886e+38</td><td>3.4028234663852886e+38</td><td>3.4028234663852886e+38</td><td>3.4028234663852886e+38</td><td>3.4028234663852886e+38</td><td>1       </td><td>3     </td><td>3.4028234663852886e+38</td><td>3.4028234663852886e+38</td><td>-1          </td><td>5              </td><td>2              </td><td>2         </td><td>29.979246139526367    </td><td>-0.028147201985120773 </td><td>1           </td><td>7081.39306640625</td><td>3.4028234663852886e+38</td><td>0              </td><td>3.4028234663852886e+38  </td><td>2019-04-13 15:03:35.038195</td><td>3      </td><td>gt3r   </td><td>4112233333424244132</td><td>-1185537.9685311797</td><td>-482793.90209957986</td></tr>\n",
       "<tr><td><i style='opacity: 0.6'>1,463,893,176</i></td><td>1579859</td><td>-76.449328422305  </td><td>-113.6012793545775 </td><td>3.4028234663852886e+38</td><td>3.4028234663852886e+38</td><td>3.4028234663852886e+38</td><td>3.4028234663852886e+38</td><td>3.4028234663852886e+38</td><td>1       </td><td>3     </td><td>3.4028234663852886e+38</td><td>3.4028234663852886e+38</td><td>-1          </td><td>5              </td><td>1              </td><td>1         </td><td>3.4028234663852886e+38</td><td>3.4028234663852886e+38</td><td>1           </td><td>7556.9716796875 </td><td>3.4028234663852886e+38</td><td>0              </td><td>3.4028234663852886e+38  </td><td>2019-04-13 15:04:03.526662</td><td>3      </td><td>gt3r   </td><td>4112412432332143114</td><td>-1351174.6645843042</td><td>-590349.6253547024 </td></tr>\n",
       "<tr><td><i style='opacity: 0.6'>1,463,893,177</i></td><td>1579995</td><td>-76.42541499614175</td><td>-113.61838272123744</td><td>3.4028234663852886e+38</td><td>3.4028234663852886e+38</td><td>3.4028234663852886e+38</td><td>3.4028234663852886e+38</td><td>3.4028234663852886e+38</td><td>1       </td><td>3     </td><td>3.4028234663852886e+38</td><td>3.4028234663852886e+38</td><td>-1          </td><td>5              </td><td>1              </td><td>1         </td><td>3.4028234663852886e+38</td><td>3.4028234663852886e+38</td><td>1           </td><td>6277.603515625  </td><td>3.4028234663852886e+38</td><td>0              </td><td>3.4028234663852886e+38  </td><td>2019-04-13 15:04:03.909102</td><td>3      </td><td>gt3r   </td><td>4112412432343213234</td><td>-1353404.0805168634</td><td>-591804.882686441  </td></tr>\n",
       "</tbody>\n",
       "</table>"
      ],
      "text/plain": [
       "#              id       lat                 lon                  slope_y                 slope_x                 slope_x_sigma           h_li                    s_li                    q_flag    s_fg    snr                     h_rb                    bsnow_conf    cloud_flg_asr    cloud_flg_atm    msw_flag    fbsnow_h                bsnow_od                layer_flag    bckgrd            e_bckgrd                n_fit_photons    w_surface_window_final    t_year                      cycle    track    midx                 x                    y\n",
       "0              1411891  -73.42552448629439  -23.737491529404053  3.4028234663852886e+38  0.003976050298660994    0.004737921059131622    -0.928657591342926      0.05943682789802551     0         0       0.0                     0.31860873103141785     -1            5                3                2           29.979246139526367      3.3278605937957764      1             7129.5341796875   0.0                     32               3.0                       2019-05-15 18:32:18.937870  3        gt1l     5121313434313234232  -727639.2099292141   1654665.7247102554\n",
       "1              1411892  -73.42570108740605  -23.737578914273882  3.4028234663852886e+38  -0.002587417373433709   0.005404622759670019    -1.074399471282959      0.18140001595020294     0         0       0.0                     0.3358314335346222      -1            5                2                2           29.979246139526367      3.323024272918701       1             9199.2119140625   0.0                     30               3.0                       2019-05-15 18:32:18.940693  3        gt1l     5121313434313234231  -727633.8756359789   1654646.745975993\n",
       "2              1411893  -73.42587767946493  -23.737666524006926  -0.0034792206715792418  0.005786192137748003    0.009921900928020477    -0.9788220524787903     0.1321229785680771      0         0       0.0                     0.593020498752594       -1            5                2                2           29.979246139526367      3.3182029724121094      1             9166.1826171875   0.0                     35               3.5581231117248535        2019-05-15 18:32:18.943507  3        gt1l     5121313434313234231  -727628.5481865024   1654627.7653298955\n",
       "3              1411894  -73.42605427224831  -23.73775412633728   0.0016622913535684347   -0.019352739676833153   0.0043994830921292305   -1.0710368156433105     0.1024324968457222      0         0       0.0                     0.36016562581062317     -1            5                2                2           29.979246139526367      3.3133904933929443      1             7230.70849609375  0.0                     48               3.0                       2019-05-15 18:32:18.946315  3        gt1l     5121313434313234142  -727623.2204380583   1654608.7847323737\n",
       "4              1411895  -73.42623086896181  -23.737841655037016  0.004035372287034988    0.008749883621931076    0.0038084150291979313   -1.219468116760254      0.060207393020391464    0         0       0.0                     0.30477914214134216     -1            5                2                2           29.979246139526367      3.3085813522338867      1             5390.36962890625  0.0                     48               3.0                       2019-05-15 18:32:18.949122  3        gt1l     5121313434313234123  -727617.8903354848   1654589.8047001245\n",
       "...            ...      ...                 ...                  ...                     ...                     ...                     ...                     ...                     ...       ...     ...                     ...                     ...           ...              ...              ...         ...                     ...                     ...           ...               ...                     ...              ...                       ...                         ...      ...      ...                  ...                  ...\n",
       "1,463,893,173  1569656  -78.2400490932243   -112.14232913945352  3.4028234663852886e+38  3.4028234663852886e+38  3.4028234663852886e+38  3.4028234663852886e+38  3.4028234663852886e+38  1         3       3.4028234663852886e+38  3.4028234663852886e+38  -3            5                2                2           29.979246139526367      -0.007984576746821404   1             9233.5322265625   3.4028234663852886e+38  0                3.4028234663852886e+38    2019-04-13 15:03:34.767862  3        gt3r     4112233333421444212  -1183965.1241931545  -481777.6041658824\n",
       "1,463,893,174  1569657  -78.2398740994634   -112.14249557765775  3.4028234663852886e+38  3.4028234663852886e+38  3.4028234663852886e+38  3.4028234663852886e+38  3.4028234663852886e+38  1         3       3.4028234663852886e+38  3.4028234663852886e+38  -3            5                2                2           29.979246139526367      -0.008194150403141975   1             8526.9384765625   3.4028234663852886e+38  0                3.4028234663852886e+38    2019-04-13 15:03:34.770912  3        gt3r     4112233333421444221  -1183981.4619760022  -481788.2611581817\n",
       "1,463,893,175  1569752  -78.22323544581869  -112.157929146986    3.4028234663852886e+38  3.4028234663852886e+38  3.4028234663852886e+38  3.4028234663852886e+38  3.4028234663852886e+38  1         3       3.4028234663852886e+38  3.4028234663852886e+38  -1            5                2                2           29.979246139526367      -0.028147201985120773   1             7081.39306640625  3.4028234663852886e+38  0                3.4028234663852886e+38    2019-04-13 15:03:35.038195  3        gt3r     4112233333424244132  -1185537.9685311797  -482793.90209957986\n",
       "1,463,893,176  1579859  -76.449328422305    -113.6012793545775   3.4028234663852886e+38  3.4028234663852886e+38  3.4028234663852886e+38  3.4028234663852886e+38  3.4028234663852886e+38  1         3       3.4028234663852886e+38  3.4028234663852886e+38  -1            5                1                1           3.4028234663852886e+38  3.4028234663852886e+38  1             7556.9716796875   3.4028234663852886e+38  0                3.4028234663852886e+38    2019-04-13 15:04:03.526662  3        gt3r     4112412432332143114  -1351174.6645843042  -590349.6253547024\n",
       "1,463,893,177  1579995  -76.42541499614175  -113.61838272123744  3.4028234663852886e+38  3.4028234663852886e+38  3.4028234663852886e+38  3.4028234663852886e+38  3.4028234663852886e+38  1         3       3.4028234663852886e+38  3.4028234663852886e+38  -1            5                1                1           3.4028234663852886e+38  3.4028234663852886e+38  1             6277.603515625    3.4028234663852886e+38  0                3.4028234663852886e+38    2019-04-13 15:04:03.909102  3        gt3r     4112412432343213234  -1353404.0805168634  -591804.882686441"
      ]
     },
     "execution_count": 4,
     "metadata": {},
     "output_type": "execute_result"
    }
   ],
   "source": [
    "df"
   ]
  },
  {
   "cell_type": "code",
   "execution_count": 5,
   "id": "91606e77-d797-44a4-a854-76dcb6cf3e15",
   "metadata": {},
   "outputs": [
    {
     "data": {
      "text/plain": [
       "Axis(bin_centers=None, exception=None, expression=y, max=None, min=None, shape=1000, shape_default=64, slice=None, status=Status.NO_LIMITS)"
      ]
     },
     "execution_count": 5,
     "metadata": {},
     "output_type": "execute_result"
    }
   ],
   "source": [
    "x_axis = vjm.Axis(df=df, expression=df.x, shape=1000)\n",
    "y_axis = vjm.Axis(df=df, expression=df.y, shape=1000)\n",
    "y_axis"
   ]
  },
  {
   "cell_type": "code",
   "execution_count": 6,
   "id": "e0dd9de9-08c7-4661-abbb-63a3f7bf8659",
   "metadata": {},
   "outputs": [],
   "source": [
    "await vaex.jupyter.gather()  # wait until Vaex is done with all background computation\n",
    "#y_axis  # now min and max are computed, and bin_centers is set"
   ]
  },
  {
   "cell_type": "code",
   "execution_count": 7,
   "id": "2ad69385-8044-47b9-aeb4-082a8fa2125f",
   "metadata": {},
   "outputs": [
    {
     "data": {
      "application/vnd.jupyter.widget-view+json": {
       "model_id": "c038f899860640cfa66114382426aa49",
       "version_major": 2,
       "version_minor": 0
      },
      "text/plain": [
       "DataArray(children=[Container(children=[ProgressCircularNoAnimation(color='#9ECBF5', size=30, text='', value=1…"
      ]
     },
     "metadata": {},
     "output_type": "display_data"
    }
   ],
   "source": [
    "data_array_widget = df.widget.data_array(axes=[y_axis, x_axis], selection=[None, 'default'])\n",
    "data_array_widget  # being the last expression in the cell, Jupyter  will 'display' the widget"
   ]
  },
  {
   "cell_type": "code",
   "execution_count": 8,
   "id": "0545ed39-d7d0-47b1-86ea-1b1567b8c731",
   "metadata": {},
   "outputs": [],
   "source": [
    "await vaex.jupyter.gather()\n",
    "# get a reference to the xarray DataArray object\n",
    "data_array = data_array_widget.model.grid"
   ]
  },
  {
   "cell_type": "code",
   "execution_count": 9,
   "id": "be3ba813-e722-4b08-8a1a-a338a4cb794d",
   "metadata": {},
   "outputs": [
    {
     "data": {
      "text/plain": [
       "('selection', 'y', 'x')"
      ]
     },
     "execution_count": 9,
     "metadata": {},
     "output_type": "execute_result"
    }
   ],
   "source": [
    "data_array.dims"
   ]
  },
  {
   "cell_type": "code",
   "execution_count": 10,
   "id": "fddeb02d-e8a4-470d-a291-bcdf473260a1",
   "metadata": {},
   "outputs": [
    {
     "data": {
      "text/plain": [
       "Coordinates:\n",
       "  * selection  (selection) object None\n",
       "  * y          (y) float64 -2.54e+06 -2.534e+06 ... 3.98e+06 3.986e+06\n",
       "  * x          (x) float64 -4.35e+06 -4.342e+06 ... 3.975e+06 3.983e+06"
      ]
     },
     "execution_count": 10,
     "metadata": {},
     "output_type": "execute_result"
    }
   ],
   "source": [
    "data_array.coords"
   ]
  },
  {
   "cell_type": "code",
   "execution_count": 11,
   "id": "163d24cb-d6f9-43e1-89fd-062c5e529e9a",
   "metadata": {},
   "outputs": [
    {
     "data": {
      "text/html": [
       "<div><svg style=\"position: absolute; width: 0; height: 0; overflow: hidden\">\n",
       "<defs>\n",
       "<symbol id=\"icon-database\" viewBox=\"0 0 32 32\">\n",
       "<path d=\"M16 0c-8.837 0-16 2.239-16 5v4c0 2.761 7.163 5 16 5s16-2.239 16-5v-4c0-2.761-7.163-5-16-5z\"></path>\n",
       "<path d=\"M16 17c-8.837 0-16-2.239-16-5v6c0 2.761 7.163 5 16 5s16-2.239 16-5v-6c0 2.761-7.163 5-16 5z\"></path>\n",
       "<path d=\"M16 26c-8.837 0-16-2.239-16-5v6c0 2.761 7.163 5 16 5s16-2.239 16-5v-6c0 2.761-7.163 5-16 5z\"></path>\n",
       "</symbol>\n",
       "<symbol id=\"icon-file-text2\" viewBox=\"0 0 32 32\">\n",
       "<path d=\"M28.681 7.159c-0.694-0.947-1.662-2.053-2.724-3.116s-2.169-2.030-3.116-2.724c-1.612-1.182-2.393-1.319-2.841-1.319h-15.5c-1.378 0-2.5 1.121-2.5 2.5v27c0 1.378 1.122 2.5 2.5 2.5h23c1.378 0 2.5-1.122 2.5-2.5v-19.5c0-0.448-0.137-1.23-1.319-2.841zM24.543 5.457c0.959 0.959 1.712 1.825 2.268 2.543h-4.811v-4.811c0.718 0.556 1.584 1.309 2.543 2.268zM28 29.5c0 0.271-0.229 0.5-0.5 0.5h-23c-0.271 0-0.5-0.229-0.5-0.5v-27c0-0.271 0.229-0.5 0.5-0.5 0 0 15.499-0 15.5 0v7c0 0.552 0.448 1 1 1h7v19.5z\"></path>\n",
       "<path d=\"M23 26h-14c-0.552 0-1-0.448-1-1s0.448-1 1-1h14c0.552 0 1 0.448 1 1s-0.448 1-1 1z\"></path>\n",
       "<path d=\"M23 22h-14c-0.552 0-1-0.448-1-1s0.448-1 1-1h14c0.552 0 1 0.448 1 1s-0.448 1-1 1z\"></path>\n",
       "<path d=\"M23 18h-14c-0.552 0-1-0.448-1-1s0.448-1 1-1h14c0.552 0 1 0.448 1 1s-0.448 1-1 1z\"></path>\n",
       "</symbol>\n",
       "</defs>\n",
       "</svg>\n",
       "<style>/* CSS stylesheet for displaying xarray objects in jupyterlab.\n",
       " *\n",
       " */\n",
       "\n",
       ":root {\n",
       "  --xr-font-color0: var(--jp-content-font-color0, rgba(0, 0, 0, 1));\n",
       "  --xr-font-color2: var(--jp-content-font-color2, rgba(0, 0, 0, 0.54));\n",
       "  --xr-font-color3: var(--jp-content-font-color3, rgba(0, 0, 0, 0.38));\n",
       "  --xr-border-color: var(--jp-border-color2, #e0e0e0);\n",
       "  --xr-disabled-color: var(--jp-layout-color3, #bdbdbd);\n",
       "  --xr-background-color: var(--jp-layout-color0, white);\n",
       "  --xr-background-color-row-even: var(--jp-layout-color1, white);\n",
       "  --xr-background-color-row-odd: var(--jp-layout-color2, #eeeeee);\n",
       "}\n",
       "\n",
       "html[theme=dark],\n",
       "body.vscode-dark {\n",
       "  --xr-font-color0: rgba(255, 255, 255, 1);\n",
       "  --xr-font-color2: rgba(255, 255, 255, 0.54);\n",
       "  --xr-font-color3: rgba(255, 255, 255, 0.38);\n",
       "  --xr-border-color: #1F1F1F;\n",
       "  --xr-disabled-color: #515151;\n",
       "  --xr-background-color: #111111;\n",
       "  --xr-background-color-row-even: #111111;\n",
       "  --xr-background-color-row-odd: #313131;\n",
       "}\n",
       "\n",
       ".xr-wrap {\n",
       "  display: block;\n",
       "  min-width: 300px;\n",
       "  max-width: 700px;\n",
       "}\n",
       "\n",
       ".xr-text-repr-fallback {\n",
       "  /* fallback to plain text repr when CSS is not injected (untrusted notebook) */\n",
       "  display: none;\n",
       "}\n",
       "\n",
       ".xr-header {\n",
       "  padding-top: 6px;\n",
       "  padding-bottom: 6px;\n",
       "  margin-bottom: 4px;\n",
       "  border-bottom: solid 1px var(--xr-border-color);\n",
       "}\n",
       "\n",
       ".xr-header > div,\n",
       ".xr-header > ul {\n",
       "  display: inline;\n",
       "  margin-top: 0;\n",
       "  margin-bottom: 0;\n",
       "}\n",
       "\n",
       ".xr-obj-type,\n",
       ".xr-array-name {\n",
       "  margin-left: 2px;\n",
       "  margin-right: 10px;\n",
       "}\n",
       "\n",
       ".xr-obj-type {\n",
       "  color: var(--xr-font-color2);\n",
       "}\n",
       "\n",
       ".xr-sections {\n",
       "  padding-left: 0 !important;\n",
       "  display: grid;\n",
       "  grid-template-columns: 150px auto auto 1fr 20px 20px;\n",
       "}\n",
       "\n",
       ".xr-section-item {\n",
       "  display: contents;\n",
       "}\n",
       "\n",
       ".xr-section-item input {\n",
       "  display: none;\n",
       "}\n",
       "\n",
       ".xr-section-item input + label {\n",
       "  color: var(--xr-disabled-color);\n",
       "}\n",
       "\n",
       ".xr-section-item input:enabled + label {\n",
       "  cursor: pointer;\n",
       "  color: var(--xr-font-color2);\n",
       "}\n",
       "\n",
       ".xr-section-item input:enabled + label:hover {\n",
       "  color: var(--xr-font-color0);\n",
       "}\n",
       "\n",
       ".xr-section-summary {\n",
       "  grid-column: 1;\n",
       "  color: var(--xr-font-color2);\n",
       "  font-weight: 500;\n",
       "}\n",
       "\n",
       ".xr-section-summary > span {\n",
       "  display: inline-block;\n",
       "  padding-left: 0.5em;\n",
       "}\n",
       "\n",
       ".xr-section-summary-in:disabled + label {\n",
       "  color: var(--xr-font-color2);\n",
       "}\n",
       "\n",
       ".xr-section-summary-in + label:before {\n",
       "  display: inline-block;\n",
       "  content: '►';\n",
       "  font-size: 11px;\n",
       "  width: 15px;\n",
       "  text-align: center;\n",
       "}\n",
       "\n",
       ".xr-section-summary-in:disabled + label:before {\n",
       "  color: var(--xr-disabled-color);\n",
       "}\n",
       "\n",
       ".xr-section-summary-in:checked + label:before {\n",
       "  content: '▼';\n",
       "}\n",
       "\n",
       ".xr-section-summary-in:checked + label > span {\n",
       "  display: none;\n",
       "}\n",
       "\n",
       ".xr-section-summary,\n",
       ".xr-section-inline-details {\n",
       "  padding-top: 4px;\n",
       "  padding-bottom: 4px;\n",
       "}\n",
       "\n",
       ".xr-section-inline-details {\n",
       "  grid-column: 2 / -1;\n",
       "}\n",
       "\n",
       ".xr-section-details {\n",
       "  display: none;\n",
       "  grid-column: 1 / -1;\n",
       "  margin-bottom: 5px;\n",
       "}\n",
       "\n",
       ".xr-section-summary-in:checked ~ .xr-section-details {\n",
       "  display: contents;\n",
       "}\n",
       "\n",
       ".xr-array-wrap {\n",
       "  grid-column: 1 / -1;\n",
       "  display: grid;\n",
       "  grid-template-columns: 20px auto;\n",
       "}\n",
       "\n",
       ".xr-array-wrap > label {\n",
       "  grid-column: 1;\n",
       "  vertical-align: top;\n",
       "}\n",
       "\n",
       ".xr-preview {\n",
       "  color: var(--xr-font-color3);\n",
       "}\n",
       "\n",
       ".xr-array-preview,\n",
       ".xr-array-data {\n",
       "  padding: 0 5px !important;\n",
       "  grid-column: 2;\n",
       "}\n",
       "\n",
       ".xr-array-data,\n",
       ".xr-array-in:checked ~ .xr-array-preview {\n",
       "  display: none;\n",
       "}\n",
       "\n",
       ".xr-array-in:checked ~ .xr-array-data,\n",
       ".xr-array-preview {\n",
       "  display: inline-block;\n",
       "}\n",
       "\n",
       ".xr-dim-list {\n",
       "  display: inline-block !important;\n",
       "  list-style: none;\n",
       "  padding: 0 !important;\n",
       "  margin: 0;\n",
       "}\n",
       "\n",
       ".xr-dim-list li {\n",
       "  display: inline-block;\n",
       "  padding: 0;\n",
       "  margin: 0;\n",
       "}\n",
       "\n",
       ".xr-dim-list:before {\n",
       "  content: '(';\n",
       "}\n",
       "\n",
       ".xr-dim-list:after {\n",
       "  content: ')';\n",
       "}\n",
       "\n",
       ".xr-dim-list li:not(:last-child):after {\n",
       "  content: ',';\n",
       "  padding-right: 5px;\n",
       "}\n",
       "\n",
       ".xr-has-index {\n",
       "  font-weight: bold;\n",
       "}\n",
       "\n",
       ".xr-var-list,\n",
       ".xr-var-item {\n",
       "  display: contents;\n",
       "}\n",
       "\n",
       ".xr-var-item > div,\n",
       ".xr-var-item label,\n",
       ".xr-var-item > .xr-var-name span {\n",
       "  background-color: var(--xr-background-color-row-even);\n",
       "  margin-bottom: 0;\n",
       "}\n",
       "\n",
       ".xr-var-item > .xr-var-name:hover span {\n",
       "  padding-right: 5px;\n",
       "}\n",
       "\n",
       ".xr-var-list > li:nth-child(odd) > div,\n",
       ".xr-var-list > li:nth-child(odd) > label,\n",
       ".xr-var-list > li:nth-child(odd) > .xr-var-name span {\n",
       "  background-color: var(--xr-background-color-row-odd);\n",
       "}\n",
       "\n",
       ".xr-var-name {\n",
       "  grid-column: 1;\n",
       "}\n",
       "\n",
       ".xr-var-dims {\n",
       "  grid-column: 2;\n",
       "}\n",
       "\n",
       ".xr-var-dtype {\n",
       "  grid-column: 3;\n",
       "  text-align: right;\n",
       "  color: var(--xr-font-color2);\n",
       "}\n",
       "\n",
       ".xr-var-preview {\n",
       "  grid-column: 4;\n",
       "}\n",
       "\n",
       ".xr-var-name,\n",
       ".xr-var-dims,\n",
       ".xr-var-dtype,\n",
       ".xr-preview,\n",
       ".xr-attrs dt {\n",
       "  white-space: nowrap;\n",
       "  overflow: hidden;\n",
       "  text-overflow: ellipsis;\n",
       "  padding-right: 10px;\n",
       "}\n",
       "\n",
       ".xr-var-name:hover,\n",
       ".xr-var-dims:hover,\n",
       ".xr-var-dtype:hover,\n",
       ".xr-attrs dt:hover {\n",
       "  overflow: visible;\n",
       "  width: auto;\n",
       "  z-index: 1;\n",
       "}\n",
       "\n",
       ".xr-var-attrs,\n",
       ".xr-var-data {\n",
       "  display: none;\n",
       "  background-color: var(--xr-background-color) !important;\n",
       "  padding-bottom: 5px !important;\n",
       "}\n",
       "\n",
       ".xr-var-attrs-in:checked ~ .xr-var-attrs,\n",
       ".xr-var-data-in:checked ~ .xr-var-data {\n",
       "  display: block;\n",
       "}\n",
       "\n",
       ".xr-var-data > table {\n",
       "  float: right;\n",
       "}\n",
       "\n",
       ".xr-var-name span,\n",
       ".xr-var-data,\n",
       ".xr-attrs {\n",
       "  padding-left: 25px !important;\n",
       "}\n",
       "\n",
       ".xr-attrs,\n",
       ".xr-var-attrs,\n",
       ".xr-var-data {\n",
       "  grid-column: 1 / -1;\n",
       "}\n",
       "\n",
       "dl.xr-attrs {\n",
       "  padding: 0;\n",
       "  margin: 0;\n",
       "  display: grid;\n",
       "  grid-template-columns: 125px auto;\n",
       "}\n",
       "\n",
       ".xr-attrs dt,\n",
       ".xr-attrs dd {\n",
       "  padding: 0;\n",
       "  margin: 0;\n",
       "  float: left;\n",
       "  padding-right: 10px;\n",
       "  width: auto;\n",
       "}\n",
       "\n",
       ".xr-attrs dt {\n",
       "  font-weight: normal;\n",
       "  grid-column: 1;\n",
       "}\n",
       "\n",
       ".xr-attrs dt:hover span {\n",
       "  display: inline-block;\n",
       "  background: var(--xr-background-color);\n",
       "  padding-right: 10px;\n",
       "}\n",
       "\n",
       ".xr-attrs dd {\n",
       "  grid-column: 2;\n",
       "  white-space: pre-wrap;\n",
       "  word-break: break-all;\n",
       "}\n",
       "\n",
       ".xr-icon-database,\n",
       ".xr-icon-file-text2 {\n",
       "  display: inline-block;\n",
       "  vertical-align: middle;\n",
       "  width: 1em;\n",
       "  height: 1.5em !important;\n",
       "  stroke-width: 0;\n",
       "  stroke: currentColor;\n",
       "  fill: currentColor;\n",
       "}\n",
       "</style><pre class='xr-text-repr-fallback'>&lt;xarray.DataArray (selection: 1, y: 1000, x: 1000)&gt;\n",
       "array([[[0, 0, 0, ..., 0, 0, 0],\n",
       "        [0, 0, 0, ..., 0, 0, 0],\n",
       "        [0, 0, 0, ..., 0, 0, 0],\n",
       "        ...,\n",
       "        [0, 0, 0, ..., 0, 0, 0],\n",
       "        [0, 0, 0, ..., 0, 0, 0],\n",
       "        [0, 0, 0, ..., 0, 0, 0]]])\n",
       "Coordinates:\n",
       "  * selection  (selection) object None\n",
       "  * y          (y) float64 -2.54e+06 -2.534e+06 ... 3.98e+06 3.986e+06\n",
       "  * x          (x) float64 -4.35e+06 -4.342e+06 ... 3.975e+06 3.983e+06</pre><div class='xr-wrap' hidden><div class='xr-header'><div class='xr-obj-type'>xarray.DataArray</div><div class='xr-array-name'></div><ul class='xr-dim-list'><li><span class='xr-has-index'>selection</span>: 1</li><li><span class='xr-has-index'>y</span>: 1000</li><li><span class='xr-has-index'>x</span>: 1000</li></ul></div><ul class='xr-sections'><li class='xr-section-item'><div class='xr-array-wrap'><input id='section-48d4affc-94be-4f62-bf10-b2f3710cb3de' class='xr-array-in' type='checkbox' checked><label for='section-48d4affc-94be-4f62-bf10-b2f3710cb3de' title='Show/hide data repr'><svg class='icon xr-icon-database'><use xlink:href='#icon-database'></use></svg></label><div class='xr-array-preview xr-preview'><span>0 0 0 0 0 0 0 0 0 0 0 0 0 0 0 0 0 ... 0 0 0 0 0 0 0 0 0 0 0 0 0 0 0 0</span></div><div class='xr-array-data'><pre>array([[[0, 0, 0, ..., 0, 0, 0],\n",
       "        [0, 0, 0, ..., 0, 0, 0],\n",
       "        [0, 0, 0, ..., 0, 0, 0],\n",
       "        ...,\n",
       "        [0, 0, 0, ..., 0, 0, 0],\n",
       "        [0, 0, 0, ..., 0, 0, 0],\n",
       "        [0, 0, 0, ..., 0, 0, 0]]])</pre></div></div></li><li class='xr-section-item'><input id='section-5108df5f-6715-4db6-b4f0-02c0a1eeb3cc' class='xr-section-summary-in' type='checkbox'  checked><label for='section-5108df5f-6715-4db6-b4f0-02c0a1eeb3cc' class='xr-section-summary' >Coordinates: <span>(3)</span></label><div class='xr-section-inline-details'></div><div class='xr-section-details'><ul class='xr-var-list'><li class='xr-var-item'><div class='xr-var-name'><span class='xr-has-index'>selection</span></div><div class='xr-var-dims'>(selection)</div><div class='xr-var-dtype'>object</div><div class='xr-var-preview xr-preview'>None</div><input id='attrs-a113c6f0-01bf-4bf5-8747-874224a608eb' class='xr-var-attrs-in' type='checkbox' disabled><label for='attrs-a113c6f0-01bf-4bf5-8747-874224a608eb' title='Show/Hide attributes'><svg class='icon xr-icon-file-text2'><use xlink:href='#icon-file-text2'></use></svg></label><input id='data-953a7a49-b770-4394-8be6-2370f963b057' class='xr-var-data-in' type='checkbox'><label for='data-953a7a49-b770-4394-8be6-2370f963b057' title='Show/Hide data repr'><svg class='icon xr-icon-database'><use xlink:href='#icon-database'></use></svg></label><div class='xr-var-attrs'><dl class='xr-attrs'></dl></div><div class='xr-var-data'><pre>array([None], dtype=object)</pre></div></li><li class='xr-var-item'><div class='xr-var-name'><span class='xr-has-index'>y</span></div><div class='xr-var-dims'>(y)</div><div class='xr-var-dtype'>float64</div><div class='xr-var-preview xr-preview'>-2.54e+06 -2.534e+06 ... 3.986e+06</div><input id='attrs-38c9e456-8ebc-46f2-88f1-91e16f9b99ef' class='xr-var-attrs-in' type='checkbox' ><label for='attrs-38c9e456-8ebc-46f2-88f1-91e16f9b99ef' title='Show/Hide attributes'><svg class='icon xr-icon-file-text2'><use xlink:href='#icon-file-text2'></use></svg></label><input id='data-b5b0cd94-50ba-4ab9-ba55-b0caf978e619' class='xr-var-data-in' type='checkbox'><label for='data-b5b0cd94-50ba-4ab9-ba55-b0caf978e619' title='Show/Hide data repr'><svg class='icon xr-icon-database'><use xlink:href='#icon-database'></use></svg></label><div class='xr-var-attrs'><dl class='xr-attrs'><dt><span>min :</span></dt><dd>-2543398.8073287774</dd><dt><span>max :</span></dt><dd>3989364.620447858</dd></dl></div><div class='xr-var-data'><pre>array([-2540132.425615, -2533599.662187, -2527066.898759, ...,  3973032.711878,\n",
       "        3979565.475306,  3986098.238734])</pre></div></li><li class='xr-var-item'><div class='xr-var-name'><span class='xr-has-index'>x</span></div><div class='xr-var-dims'>(x)</div><div class='xr-var-dtype'>float64</div><div class='xr-var-preview xr-preview'>-4.35e+06 -4.342e+06 ... 3.983e+06</div><input id='attrs-10f5e048-4d6b-4856-97ed-5bc8ada235f2' class='xr-var-attrs-in' type='checkbox' ><label for='attrs-10f5e048-4d6b-4856-97ed-5bc8ada235f2' title='Show/Hide attributes'><svg class='icon xr-icon-file-text2'><use xlink:href='#icon-file-text2'></use></svg></label><input id='data-89e072b6-4a8b-4e77-bdf3-6a6fb65112ac' class='xr-var-data-in' type='checkbox'><label for='data-89e072b6-4a8b-4e77-bdf3-6a6fb65112ac' title='Show/Hide data repr'><svg class='icon xr-icon-database'><use xlink:href='#icon-database'></use></svg></label><div class='xr-var-attrs'><dl class='xr-attrs'><dt><span>min :</span></dt><dd>-4354403.518718319</dd><dt><span>max :</span></dt><dd>3987498.7683620118</dd></dl></div><div class='xr-var-data'><pre>array([-4350232.567575, -4341890.665288, -4333548.763001, ...,  3966644.012644,\n",
       "        3974985.914931,  3983327.817218])</pre></div></li></ul></div></li><li class='xr-section-item'><input id='section-f92d9dc4-2368-4e22-a08b-0ac855982b3b' class='xr-section-summary-in' type='checkbox' disabled ><label for='section-f92d9dc4-2368-4e22-a08b-0ac855982b3b' class='xr-section-summary'  title='Expand/collapse section'>Attributes: <span>(0)</span></label><div class='xr-section-inline-details'></div><div class='xr-section-details'><dl class='xr-attrs'></dl></div></li></ul></div></div>"
      ],
      "text/plain": [
       "<xarray.DataArray (selection: 1, y: 1000, x: 1000)>\n",
       "array([[[0, 0, 0, ..., 0, 0, 0],\n",
       "        [0, 0, 0, ..., 0, 0, 0],\n",
       "        [0, 0, 0, ..., 0, 0, 0],\n",
       "        ...,\n",
       "        [0, 0, 0, ..., 0, 0, 0],\n",
       "        [0, 0, 0, ..., 0, 0, 0],\n",
       "        [0, 0, 0, ..., 0, 0, 0]]])\n",
       "Coordinates:\n",
       "  * selection  (selection) object None\n",
       "  * y          (y) float64 -2.54e+06 -2.534e+06 ... 3.98e+06 3.986e+06\n",
       "  * x          (x) float64 -4.35e+06 -4.342e+06 ... 3.975e+06 3.983e+06"
      ]
     },
     "metadata": {},
     "output_type": "display_data"
    }
   ],
   "source": [
    "display(data_array)  # this is what the vaex.jupyter.view.DataArray uses"
   ]
  },
  {
   "cell_type": "code",
   "execution_count": 12,
   "id": "f33d7537-7fe4-4e65-9661-e5a769414bbe",
   "metadata": {},
   "outputs": [
    {
     "data": {
      "application/vnd.jupyter.widget-view+json": {
       "model_id": "0cacfbeb8f3c40fcbb6382a197296c20",
       "version_major": 2,
       "version_minor": 0
      },
      "text/plain": [
       "DataArray(children=[Container(children=[ProgressCircularNoAnimation(color='#9ECBF5', size=30, text='', value=1…"
      ]
     },
     "metadata": {},
     "output_type": "display_data"
    }
   ],
   "source": [
    "# NOTE: da is short for 'data array'\n",
    "def plot2d(da):\n",
    "    plt.figure(figsize=(8, 8))\n",
    "    ar = da.data[0]  # take the numpy data, and select take the selection\n",
    "    print(f'imshow of a numpy array of shape: {ar.shape}')\n",
    "    plt.imshow(np.log1p(ar.T), origin='lower')\n",
    "\n",
    "df.widget.data_array(axes=[x_axis, y_axis], display_function=plot2d, selection=[None, True])"
   ]
  },
  {
   "cell_type": "code",
   "execution_count": 13,
   "id": "2e50f7be-3e20-408a-b57f-e4ca1e763e6b",
   "metadata": {},
   "outputs": [],
   "source": [
    "df.select(df.q_flag == 0)"
   ]
  },
  {
   "cell_type": "code",
   "execution_count": 14,
   "id": "9add132e-abfe-49d4-8910-1073f798715a",
   "metadata": {},
   "outputs": [
    {
     "data": {
      "application/vnd.jupyter.widget-view+json": {
       "model_id": "9b5aff5e554141ffa956c7939eadb880",
       "version_major": 2,
       "version_minor": 0
      },
      "text/plain": [
       "DataArray(children=[Container(children=[ProgressCircularNoAnimation(color='#9ECBF5', size=30, text='', value=1…"
      ]
     },
     "metadata": {},
     "output_type": "display_data"
    }
   ],
   "source": [
    "def plot2d_with_labels(da):\n",
    "    plt.figure(figsize=(8, 8))\n",
    "    grid = da.data  # take the numpy data\n",
    "    dim_x = da.dims[0]\n",
    "    dim_y = da.dims[1]\n",
    "    plt.title(f'{dim_y} vs {dim_x} - shape: {grid.shape}')\n",
    "    extent = [\n",
    "        da.coords[dim_x].attrs['min'], da.coords[dim_x].attrs['max'],\n",
    "        da.coords[dim_y].attrs['min'], da.coords[dim_y].attrs['max']\n",
    "    ]\n",
    "    plt.imshow(np.log1p(grid.T), origin='lower', extent=extent, aspect='auto')\n",
    "    plt.xlabel(da.dims[0])\n",
    "    plt.ylabel(da.dims[1])\n",
    "\n",
    "da_plot_view_nicer = df.widget.data_array(axes=[x_axis, y_axis], display_function=plot2d_with_labels)\n",
    "da_plot_view_nicer"
   ]
  },
  {
   "cell_type": "code",
   "execution_count": 15,
   "id": "46092e2f-14c4-4eb6-98d1-9b396776d6b9",
   "metadata": {},
   "outputs": [
    {
     "data": {
      "application/vnd.jupyter.widget-view+json": {
       "model_id": "b4994839041a40b19f4d5e3175970f2d",
       "version_major": 2,
       "version_minor": 0
      },
      "text/plain": [
       "DataArray(children=[Container(children=[ProgressCircularNoAnimation(color='#9ECBF5', size=30, text='', value=1…"
      ]
     },
     "metadata": {},
     "output_type": "display_data"
    }
   ],
   "source": [
    "def plot2d_with_selections(da):\n",
    "    grid = da.data\n",
    "    # Create 1 row and #selections of columns of matplotlib axes\n",
    "    fig, axgrid = plt.subplots(1, grid.shape[0], sharey=True, squeeze=False)\n",
    "    for selection_index, ax in enumerate(axgrid[0]):\n",
    "        ax.imshow(np.log1p(grid[selection_index].T), origin='lower')\n",
    "\n",
    "df.widget.data_array(axes=[x_axis, y_axis], display_function=plot2d_with_selections,\n",
    "                     selection=[None, 'default', 'rest'])"
   ]
  },
  {
   "cell_type": "code",
   "execution_count": 16,
   "id": "32033d27-fe91-4571-88a4-a8445e90e076",
   "metadata": {},
   "outputs": [],
   "source": [
    "df.select(df.slope_x_sigma < 0.001)  # select 10 objects\n",
    "df.select(df.q_flag == 1, name='rest')  # and the rest"
   ]
  },
  {
   "cell_type": "code",
   "execution_count": 17,
   "id": "d8a8e9e1-9c29-4d1d-bee4-97e749b8bc4f",
   "metadata": {},
   "outputs": [
    {
     "data": {
      "text/plain": [
       "['id',\n",
       " 'lat',\n",
       " 'lon',\n",
       " 'slope_y',\n",
       " 'slope_x',\n",
       " 'slope_x_sigma',\n",
       " 'h_li',\n",
       " 's_li',\n",
       " 'q_flag',\n",
       " 's_fg',\n",
       " 'snr',\n",
       " 'h_rb',\n",
       " 'bsnow_conf',\n",
       " 'cloud_flg_asr',\n",
       " 'cloud_flg_atm',\n",
       " 'msw_flag',\n",
       " 'fbsnow_h',\n",
       " 'bsnow_od',\n",
       " 'layer_flag',\n",
       " 'bckgrd',\n",
       " 'e_bckgrd',\n",
       " 'n_fit_photons',\n",
       " 'w_surface_window_final',\n",
       " 't_year',\n",
       " 'cycle',\n",
       " 'track',\n",
       " 'midx',\n",
       " 'x',\n",
       " 'y']"
      ]
     },
     "execution_count": 17,
     "metadata": {},
     "output_type": "execute_result"
    }
   ],
   "source": [
    "df.column_names"
   ]
  },
  {
   "cell_type": "code",
   "execution_count": 17,
   "id": "50f7cfa9-c345-4c01-9fcd-8237917a80ef",
   "metadata": {},
   "outputs": [],
   "source": [
    "#df.t_year"
   ]
  },
  {
   "cell_type": "code",
   "execution_count": 18,
   "id": "9580c057-d295-4adb-a268-00c273d373c6",
   "metadata": {},
   "outputs": [],
   "source": [
    "#df.t_year.values[0]"
   ]
  },
  {
   "cell_type": "code",
   "execution_count": 19,
   "id": "47025f1e-0c94-4d22-b03a-7edbd3094168",
   "metadata": {},
   "outputs": [],
   "source": [
    "#FeH_axis = vjm.Axis(df=df, expression='t_year', min=df.t_year.values[0], \n",
    "#                    max=df.t_year.values[-1], shape=5)"
   ]
  },
  {
   "cell_type": "code",
   "execution_count": 18,
   "id": "e2fde740-db55-4669-b92e-068b975d3073",
   "metadata": {},
   "outputs": [
    {
     "data": {
      "application/vnd.jupyter.widget-view+json": {
       "model_id": "2d00ceebc9724f538a0cedf38a0fcd3b",
       "version_major": 2,
       "version_minor": 0
      },
      "text/plain": [
       "DataArray(children=[Container(children=[ProgressCircularNoAnimation(color='#9ECBF5', size=30, text='', value=1…"
      ]
     },
     "metadata": {},
     "output_type": "display_data"
    }
   ],
   "source": [
    "def plot_with_xarray(da):\n",
    "    da_log = np.log1p(da)  # Note that an xarray DataArray is like a numpy array\n",
    "    da_log.plot(x='x', y='y', row='selection', cmap='viridis')\n",
    "\n",
    "plot_view = df.widget.data_array([x_axis, y_axis], display_function=plot_with_xarray,\n",
    "                                 selection=[None, 'default', 'rest'])\n",
    "plot_view"
   ]
  },
  {
   "cell_type": "code",
   "execution_count": 19,
   "id": "4d01a2bd-8b1c-431d-858a-3903c89b65e5",
   "metadata": {},
   "outputs": [
    {
     "data": {
      "application/vnd.jupyter.widget-view+json": {
       "model_id": "5a706ddbd2e64fdd954fa2b1c98825c5",
       "version_major": 2,
       "version_minor": 0
      },
      "text/plain": [
       "ExpressionSelectionTextArea(label='Filter by custom expression', placeholder='Enter a custom (boolean) express…"
      ]
     },
     "metadata": {},
     "output_type": "display_data"
    }
   ],
   "source": [
    "selection_widget = df.widget.selection_expression()\n",
    "selection_widget"
   ]
  },
  {
   "cell_type": "code",
   "execution_count": 21,
   "id": "4c4bc517-fc90-4a62-972a-3e6500f48873",
   "metadata": {},
   "outputs": [
    {
     "data": {
      "application/vnd.jupyter.widget-view+json": {
       "model_id": "d5dba8dee309400198ddad7d3d7e5520",
       "version_major": 2,
       "version_minor": 0
      },
      "text/plain": [
       "Counter(characters=['&nbsp;', '&nbsp;', '&nbsp;', '6', '8', '2', ',', '8', '5', '6', ',', '7', '1', '1'], post…"
      ]
     },
     "metadata": {},
     "output_type": "display_data"
    }
   ],
   "source": [
    "await vaex.jupyter.gather()\n",
    "w = df.widget.counter_selection('default', lazy=True)\n",
    "w"
   ]
  },
  {
   "cell_type": "code",
   "execution_count": 22,
   "id": "b8faa9f8-4f7a-4743-93cd-4340d5a938ab",
   "metadata": {},
   "outputs": [
    {
     "data": {
      "application/vnd.jupyter.widget-view+json": {
       "model_id": "7405fda07f24437b9e3ac0852299650a",
       "version_major": 2,
       "version_minor": 0
      },
      "text/plain": [
       "Heatmap(children=[ToolsToolbar(interact_value=None, supports_normalize=False, template='<template>\\n  <v-toolb…"
      ]
     },
     "metadata": {},
     "output_type": "display_data"
    }
   ],
   "source": [
    "heatmap_xy = df.widget.heatmap(df.x, df.y, selection=['default', True])\n",
    "heatmap_xy"
   ]
  },
  {
   "cell_type": "code",
   "execution_count": 24,
   "id": "81845195-9c5a-4a34-abdd-9f2f68f8b9ac",
   "metadata": {},
   "outputs": [
    {
     "data": {
      "application/vnd.jupyter.widget-view+json": {
       "model_id": "c0c003b7b8d34f0bb8b88c184eee48c8",
       "version_major": 2,
       "version_minor": 0
      },
      "text/plain": [
       "DataArray(children=[Container(children=[ProgressCircularNoAnimation(color='#9ECBF5', size=30, text='', value=1…"
      ]
     },
     "metadata": {},
     "output_type": "display_data"
    }
   ],
   "source": [
    "da_xy_view = df.widget.data_array(axes=[x_axis, y_axis], display_function=plot2d_with_labels,\n",
    "                                  selection=['default'])\n",
    "da_xy_view"
   ]
  },
  {
   "cell_type": "code",
   "execution_count": 25,
   "id": "6919c3d9-37df-4f71-8eb5-e01eb1dc2fda",
   "metadata": {},
   "outputs": [
    {
     "ename": "NameError",
     "evalue": "name 'x_widget' is not defined",
     "output_type": "error",
     "traceback": [
      "\u001b[0;31m---------------------------------------------------------------------------\u001b[0m",
      "\u001b[0;31mNameError\u001b[0m                                 Traceback (most recent call last)",
      "\u001b[0;32m<ipython-input-25-f6087bd7d4ed>\u001b[0m in \u001b[0;36m<module>\u001b[0;34m\u001b[0m\n\u001b[1;32m      1\u001b[0m \u001b[0;32mfrom\u001b[0m \u001b[0mipywidgets\u001b[0m \u001b[0;32mimport\u001b[0m \u001b[0mlink\u001b[0m\u001b[0;34m\u001b[0m\u001b[0;34m\u001b[0m\u001b[0m\n\u001b[0;32m----> 2\u001b[0;31m \u001b[0mlink\u001b[0m\u001b[0;34m(\u001b[0m\u001b[0;34m(\u001b[0m\u001b[0mx_widget\u001b[0m\u001b[0;34m,\u001b[0m \u001b[0;34m'value'\u001b[0m\u001b[0;34m)\u001b[0m\u001b[0;34m,\u001b[0m \u001b[0;34m(\u001b[0m\u001b[0mx_axis\u001b[0m\u001b[0;34m,\u001b[0m \u001b[0;34m'expression'\u001b[0m\u001b[0;34m)\u001b[0m\u001b[0;34m)\u001b[0m\u001b[0;34m\u001b[0m\u001b[0;34m\u001b[0m\u001b[0m\n\u001b[0m",
      "\u001b[0;31mNameError\u001b[0m: name 'x_widget' is not defined"
     ]
    }
   ],
   "source": [
    "from ipywidgets import link\n",
    "link((x_widget, 'value'), (x_axis, 'expression'))"
   ]
  },
  {
   "cell_type": "code",
   "execution_count": null,
   "id": "5112ea0a-a5d6-436a-b075-c680d20f1791",
   "metadata": {},
   "outputs": [],
   "source": []
  }
 ],
 "metadata": {
  "kernelspec": {
   "display_name": "Python 3",
   "language": "python",
   "name": "python3"
  },
  "language_info": {
   "codemirror_mode": {
    "name": "ipython",
    "version": 3
   },
   "file_extension": ".py",
   "mimetype": "text/x-python",
   "name": "python",
   "nbconvert_exporter": "python",
   "pygments_lexer": "ipython3",
   "version": "3.8.9"
  }
 },
 "nbformat": 4,
 "nbformat_minor": 5
}
