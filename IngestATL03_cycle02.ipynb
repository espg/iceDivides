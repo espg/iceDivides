{
 "cells": [
  {
   "cell_type": "code",
   "execution_count": 1,
   "id": "artificial-silence",
   "metadata": {},
   "outputs": [],
   "source": [
    "import h5py\n",
    "import numpy as np\n",
    "import pandas as pd\n",
    "from astropy.time import Time\n",
    "from tqdm import tqdm\n",
    "import os\n",
    "import vaex"
   ]
  },
  {
   "cell_type": "code",
   "execution_count": 2,
   "id": "polished-security",
   "metadata": {},
   "outputs": [],
   "source": [
    "def gps2dyr(time):\n",
    "    \"\"\"Converts GPS time to datetime (can also do decimal years).\"\"\"\n",
    "    return Time(time, format='gps').datetime"
   ]
  },
  {
   "cell_type": "code",
   "execution_count": 3,
   "id": "threatened-senate",
   "metadata": {},
   "outputs": [],
   "source": [
    "def read_atl06(fname, cycle):\n",
    "    \"\"\"Read one ATL06 file and output 6 reduced files. \n",
    "    \n",
    "    Extract variables of interest and separate the ATL06 file \n",
    "    into each beam (ground track) and ascending/descending orbits.\n",
    "    \"\"\"\n",
    "\n",
    "    # Each beam is a group\n",
    "    group = ['/gt1l', '/gt1r', '/gt2l', '/gt2r', '/gt3l', '/gt3r']\n",
    "    \n",
    "    # Loop trough beams\n",
    "    dataframes = []  # one dataframe per track\n",
    "    \n",
    "    with h5py.File(fname, 'r') as fi:\n",
    "        # Check which ground tracks are present in this file\n",
    "        gtracks = sorted(['/'+k for k in fi.keys() if k.startswith('gt')])\n",
    "    \n",
    "        for k, g in enumerate(gtracks): \n",
    "            # Read in data for a single beam\n",
    "            data = {}\n",
    "            # this is our unique key (per beam)\n",
    "            data['id'] = fi[g+'/land_ice_segments/segment_id'][:]\n",
    "            npts = len(data['id'])\n",
    "            # Load vars into memory (include as many as you want)\n",
    "            data['lat'] = fi[g+'/land_ice_segments/latitude'][:]\n",
    "            data['lon'] = fi[g+'/land_ice_segments/longitude'][:]\n",
    "            \n",
    "            data['slope_y'] = fi[g+'/land_ice_segments/fit_statistics/dh_fit_dy'][:]\n",
    "            data['slope_x'] = fi[g+'/land_ice_segments/fit_statistics/dh_fit_dx'][:]\n",
    "            data['slope_x_sigma'] = fi[g+'/land_ice_segments/fit_statistics/dh_fit_dx_sigma'][:]\n",
    "\n",
    "            data['h_li'] = fi[g+'/land_ice_segments/h_li'][:]\n",
    "            data['s_li'] = fi[g+'/land_ice_segments/h_li_sigma'][:]\n",
    "            data['q_flag'] = fi[g+'/land_ice_segments/atl06_quality_summary'][:]\n",
    "            data['s_fg'] = fi[g+'/land_ice_segments/fit_statistics/signal_selection_source'][:]\n",
    "            data['snr'] = fi[g+'/land_ice_segments/fit_statistics/snr_significance'][:]\n",
    "            data['h_rb'] = fi[g+'/land_ice_segments/fit_statistics/h_robust_sprd'][:]\n",
    "            data['bsnow_conf'] = fi[g+'/land_ice_segments/geophysical/bsnow_conf'][:]\n",
    "            \n",
    "            data['cloud_flg_asr'] = fi[g+'/land_ice_segments/geophysical/cloud_flg_asr'][:]\n",
    "            data['cloud_flg_atm'] = fi[g+'/land_ice_segments/geophysical/cloud_flg_atm'][:]\n",
    "            data['msw_flag'] = fi[g+'/land_ice_segments/geophysical/msw_flag'][:]\n",
    "            data['fbsnow_h'] = fi[g+'/land_ice_segments/geophysical/bsnow_h'][:]\n",
    "            data['bsnow_od'] = fi[g+'/land_ice_segments/geophysical/bsnow_od'][:]\n",
    "            data['layer_flag'] = fi[g+'/land_ice_segments/geophysical/layer_flag'][:]\n",
    "            data['bckgrd'] = fi[g+'/land_ice_segments/geophysical/bckgrd'][:]\n",
    "            data['e_bckgrd'] = fi[g+'/land_ice_segments/geophysical/e_bckgrd'][:]\n",
    "            data['n_fit_photons'] = fi[g+'/land_ice_segments/fit_statistics/n_fit_photons'][:]\n",
    "            data['w_surface_window_final'] = fi[g+'/land_ice_segments/fit_statistics/w_surface_window_final'][:]\n",
    "            \n",
    "            delta_t = fi[g+'/land_ice_segments/delta_time'][:]     # for time conversion\n",
    "            t_ref = fi['/ancillary_data/atlas_sdp_gps_epoch'][:]     # single value\n",
    "            \n",
    "            # Time in GPS seconds (secs since Jan 5, 1980)\n",
    "            t_gps = t_ref + delta_t\n",
    "\n",
    "            # GPS sec to datetime\n",
    "            data['t_year'] = gps2dyr(t_gps)\n",
    "            data['cycle'] = np.ones(npts, dtype=np.int8)*cycle\n",
    "            data['track'] = np.repeat(g[1:], npts)\n",
    "                \n",
    "            # Make a dataframe out of our data dict and store it.\n",
    "            dataframes.append(pd.DataFrame.from_dict(data))\n",
    "        \n",
    "    return dataframes"
   ]
  },
  {
   "cell_type": "code",
   "execution_count": 4,
   "id": "temporal-mandate",
   "metadata": {},
   "outputs": [
    {
     "data": {
      "text/plain": [
       "'/home/jupyter/iceDivides'"
      ]
     },
     "execution_count": 4,
     "metadata": {},
     "output_type": "execute_result"
    }
   ],
   "source": [
    "pwd"
   ]
  },
  {
   "cell_type": "code",
   "execution_count": 5,
   "id": "postal-mambo",
   "metadata": {},
   "outputs": [],
   "source": [
    "seed = read_atl06('./ATL06_20190329071316_13870211_004_01.h5',cycle=int(2))"
   ]
  },
  {
   "cell_type": "code",
   "execution_count": 10,
   "id": "5b752025-983a-4a19-9444-420b274946a9",
   "metadata": {},
   "outputs": [],
   "source": [
    "test = h5py.File('./ATL06_20190329071316_13870211_004_01.h5')"
   ]
  },
  {
   "cell_type": "code",
   "execution_count": 13,
   "id": "053af956-fabc-4de5-96a3-7ea01881d7eb",
   "metadata": {},
   "outputs": [
    {
     "data": {
      "text/plain": [
       "<KeysViewHDF5 ['METADATA', 'ancillary_data', 'gt1l', 'gt1r', 'gt2l', 'gt2r', 'gt3l', 'gt3r', 'orbit_info', 'quality_assessment']>"
      ]
     },
     "execution_count": 13,
     "metadata": {},
     "output_type": "execute_result"
    }
   ],
   "source": [
    "test.keys()"
   ]
  },
  {
   "cell_type": "code",
   "execution_count": null,
   "id": "1102cf0e-8384-4771-9733-6bc3479eb81b",
   "metadata": {},
   "outputs": [],
   "source": []
  },
  {
   "cell_type": "code",
   "execution_count": 8,
   "id": "c9bf6535-652f-4462-ab09-306058726f73",
   "metadata": {},
   "outputs": [
    {
     "name": "stdout",
     "output_type": "stream",
     "text": [
      "6.5M\t./seed.h5\n",
      "6.5M\ttotal\n"
     ]
    }
   ],
   "source": [
    "!du -csh ./seed.h5"
   ]
  },
  {
   "cell_type": "code",
   "execution_count": 9,
   "id": "a9d6d730-2259-482c-8953-f9c20e09cb6a",
   "metadata": {},
   "outputs": [
    {
     "data": {
      "text/html": [
       "<div>\n",
       "<style scoped>\n",
       "    .dataframe tbody tr th:only-of-type {\n",
       "        vertical-align: middle;\n",
       "    }\n",
       "\n",
       "    .dataframe tbody tr th {\n",
       "        vertical-align: top;\n",
       "    }\n",
       "\n",
       "    .dataframe thead th {\n",
       "        text-align: right;\n",
       "    }\n",
       "</style>\n",
       "<table border=\"1\" class=\"dataframe\">\n",
       "  <thead>\n",
       "    <tr style=\"text-align: right;\">\n",
       "      <th></th>\n",
       "      <th>id</th>\n",
       "      <th>lat</th>\n",
       "      <th>lon</th>\n",
       "      <th>slope_y</th>\n",
       "      <th>slope_x</th>\n",
       "      <th>slope_x_sigma</th>\n",
       "      <th>h_li</th>\n",
       "      <th>s_li</th>\n",
       "      <th>q_flag</th>\n",
       "      <th>s_fg</th>\n",
       "      <th>...</th>\n",
       "      <th>fbsnow_h</th>\n",
       "      <th>bsnow_od</th>\n",
       "      <th>layer_flag</th>\n",
       "      <th>bckgrd</th>\n",
       "      <th>e_bckgrd</th>\n",
       "      <th>n_fit_photons</th>\n",
       "      <th>w_surface_window_final</th>\n",
       "      <th>t_year</th>\n",
       "      <th>cycle</th>\n",
       "      <th>track</th>\n",
       "    </tr>\n",
       "  </thead>\n",
       "  <tbody>\n",
       "    <tr>\n",
       "      <th>0</th>\n",
       "      <td>1443587</td>\n",
       "      <td>-79.005890</td>\n",
       "      <td>176.340839</td>\n",
       "      <td>0.003497</td>\n",
       "      <td>0.047339</td>\n",
       "      <td>0.001724</td>\n",
       "      <td>-19.894785</td>\n",
       "      <td>0.024615</td>\n",
       "      <td>0</td>\n",
       "      <td>0</td>\n",
       "      <td>...</td>\n",
       "      <td>29.979246</td>\n",
       "      <td>0.268619</td>\n",
       "      <td>1</td>\n",
       "      <td>9655.979492</td>\n",
       "      <td>0.00000</td>\n",
       "      <td>127</td>\n",
       "      <td>3.0</td>\n",
       "      <td>2019-03-29 07:13:53.331979</td>\n",
       "      <td>2</td>\n",
       "      <td>gt1r</td>\n",
       "    </tr>\n",
       "    <tr>\n",
       "      <th>1</th>\n",
       "      <td>1443588</td>\n",
       "      <td>-79.006065</td>\n",
       "      <td>176.340659</td>\n",
       "      <td>0.004264</td>\n",
       "      <td>0.046678</td>\n",
       "      <td>0.001681</td>\n",
       "      <td>-18.983292</td>\n",
       "      <td>0.029364</td>\n",
       "      <td>0</td>\n",
       "      <td>0</td>\n",
       "      <td>...</td>\n",
       "      <td>29.979246</td>\n",
       "      <td>0.268275</td>\n",
       "      <td>1</td>\n",
       "      <td>10321.526367</td>\n",
       "      <td>0.00000</td>\n",
       "      <td>135</td>\n",
       "      <td>3.0</td>\n",
       "      <td>2019-03-29 07:13:53.334803</td>\n",
       "      <td>2</td>\n",
       "      <td>gt1r</td>\n",
       "    </tr>\n",
       "    <tr>\n",
       "      <th>2</th>\n",
       "      <td>1443589</td>\n",
       "      <td>-79.006240</td>\n",
       "      <td>176.340477</td>\n",
       "      <td>0.004327</td>\n",
       "      <td>0.053177</td>\n",
       "      <td>0.001822</td>\n",
       "      <td>-17.971397</td>\n",
       "      <td>0.020860</td>\n",
       "      <td>0</td>\n",
       "      <td>0</td>\n",
       "      <td>...</td>\n",
       "      <td>29.979246</td>\n",
       "      <td>0.267931</td>\n",
       "      <td>1</td>\n",
       "      <td>10114.483398</td>\n",
       "      <td>0.00000</td>\n",
       "      <td>141</td>\n",
       "      <td>3.0</td>\n",
       "      <td>2019-03-29 07:13:53.337636</td>\n",
       "      <td>2</td>\n",
       "      <td>gt1r</td>\n",
       "    </tr>\n",
       "    <tr>\n",
       "      <th>3</th>\n",
       "      <td>1443590</td>\n",
       "      <td>-79.006415</td>\n",
       "      <td>176.340294</td>\n",
       "      <td>0.003481</td>\n",
       "      <td>0.057083</td>\n",
       "      <td>0.002062</td>\n",
       "      <td>-16.854248</td>\n",
       "      <td>0.028489</td>\n",
       "      <td>0</td>\n",
       "      <td>0</td>\n",
       "      <td>...</td>\n",
       "      <td>29.979246</td>\n",
       "      <td>0.267589</td>\n",
       "      <td>1</td>\n",
       "      <td>7262.786133</td>\n",
       "      <td>0.00000</td>\n",
       "      <td>135</td>\n",
       "      <td>3.0</td>\n",
       "      <td>2019-03-29 07:13:53.340472</td>\n",
       "      <td>2</td>\n",
       "      <td>gt1r</td>\n",
       "    </tr>\n",
       "    <tr>\n",
       "      <th>4</th>\n",
       "      <td>1443591</td>\n",
       "      <td>-79.006590</td>\n",
       "      <td>176.340111</td>\n",
       "      <td>0.003538</td>\n",
       "      <td>0.052252</td>\n",
       "      <td>0.001790</td>\n",
       "      <td>-15.775147</td>\n",
       "      <td>0.030507</td>\n",
       "      <td>0</td>\n",
       "      <td>0</td>\n",
       "      <td>...</td>\n",
       "      <td>29.979246</td>\n",
       "      <td>0.267246</td>\n",
       "      <td>1</td>\n",
       "      <td>7116.794434</td>\n",
       "      <td>0.00000</td>\n",
       "      <td>126</td>\n",
       "      <td>3.0</td>\n",
       "      <td>2019-03-29 07:13:53.343306</td>\n",
       "      <td>2</td>\n",
       "      <td>gt1r</td>\n",
       "    </tr>\n",
       "    <tr>\n",
       "      <th>...</th>\n",
       "      <td>...</td>\n",
       "      <td>...</td>\n",
       "      <td>...</td>\n",
       "      <td>...</td>\n",
       "      <td>...</td>\n",
       "      <td>...</td>\n",
       "      <td>...</td>\n",
       "      <td>...</td>\n",
       "      <td>...</td>\n",
       "      <td>...</td>\n",
       "      <td>...</td>\n",
       "      <td>...</td>\n",
       "      <td>...</td>\n",
       "      <td>...</td>\n",
       "      <td>...</td>\n",
       "      <td>...</td>\n",
       "      <td>...</td>\n",
       "      <td>...</td>\n",
       "      <td>...</td>\n",
       "      <td>...</td>\n",
       "      <td>...</td>\n",
       "    </tr>\n",
       "    <tr>\n",
       "      <th>117375</th>\n",
       "      <td>1565332</td>\n",
       "      <td>-79.006675</td>\n",
       "      <td>15.232945</td>\n",
       "      <td>-0.002697</td>\n",
       "      <td>-0.003359</td>\n",
       "      <td>0.000917</td>\n",
       "      <td>3086.250732</td>\n",
       "      <td>0.019657</td>\n",
       "      <td>0</td>\n",
       "      <td>0</td>\n",
       "      <td>...</td>\n",
       "      <td>29.979246</td>\n",
       "      <td>0.008732</td>\n",
       "      <td>0</td>\n",
       "      <td>486649.375000</td>\n",
       "      <td>322994.62500</td>\n",
       "      <td>126</td>\n",
       "      <td>3.0</td>\n",
       "      <td>2019-03-29 07:19:36.446224</td>\n",
       "      <td>2</td>\n",
       "      <td>gt1r</td>\n",
       "    </tr>\n",
       "    <tr>\n",
       "      <th>117376</th>\n",
       "      <td>1565333</td>\n",
       "      <td>-79.006500</td>\n",
       "      <td>15.232763</td>\n",
       "      <td>-0.002456</td>\n",
       "      <td>0.001718</td>\n",
       "      <td>0.000857</td>\n",
       "      <td>3086.243652</td>\n",
       "      <td>0.016813</td>\n",
       "      <td>0</td>\n",
       "      <td>0</td>\n",
       "      <td>...</td>\n",
       "      <td>29.979246</td>\n",
       "      <td>0.008707</td>\n",
       "      <td>0</td>\n",
       "      <td>497868.093750</td>\n",
       "      <td>323002.59375</td>\n",
       "      <td>135</td>\n",
       "      <td>3.0</td>\n",
       "      <td>2019-03-29 07:19:36.449031</td>\n",
       "      <td>2</td>\n",
       "      <td>gt1r</td>\n",
       "    </tr>\n",
       "    <tr>\n",
       "      <th>117377</th>\n",
       "      <td>1565334</td>\n",
       "      <td>-79.006325</td>\n",
       "      <td>15.232582</td>\n",
       "      <td>-0.003366</td>\n",
       "      <td>0.003669</td>\n",
       "      <td>0.000857</td>\n",
       "      <td>3086.329102</td>\n",
       "      <td>0.014059</td>\n",
       "      <td>0</td>\n",
       "      <td>0</td>\n",
       "      <td>...</td>\n",
       "      <td>29.979246</td>\n",
       "      <td>0.008682</td>\n",
       "      <td>0</td>\n",
       "      <td>508122.000000</td>\n",
       "      <td>323010.56250</td>\n",
       "      <td>135</td>\n",
       "      <td>3.0</td>\n",
       "      <td>2019-03-29 07:19:36.451840</td>\n",
       "      <td>2</td>\n",
       "      <td>gt1r</td>\n",
       "    </tr>\n",
       "    <tr>\n",
       "      <th>117378</th>\n",
       "      <td>1565335</td>\n",
       "      <td>-79.006150</td>\n",
       "      <td>15.232403</td>\n",
       "      <td>-0.003827</td>\n",
       "      <td>0.010012</td>\n",
       "      <td>0.001056</td>\n",
       "      <td>3086.454346</td>\n",
       "      <td>0.019259</td>\n",
       "      <td>0</td>\n",
       "      <td>0</td>\n",
       "      <td>...</td>\n",
       "      <td>29.979246</td>\n",
       "      <td>0.008658</td>\n",
       "      <td>0</td>\n",
       "      <td>490499.656250</td>\n",
       "      <td>323017.65625</td>\n",
       "      <td>143</td>\n",
       "      <td>3.0</td>\n",
       "      <td>2019-03-29 07:19:36.454650</td>\n",
       "      <td>2</td>\n",
       "      <td>gt1r</td>\n",
       "    </tr>\n",
       "    <tr>\n",
       "      <th>117379</th>\n",
       "      <td>1565336</td>\n",
       "      <td>-79.005975</td>\n",
       "      <td>15.232225</td>\n",
       "      <td>-0.003903</td>\n",
       "      <td>-0.001214</td>\n",
       "      <td>0.000839</td>\n",
       "      <td>3086.507080</td>\n",
       "      <td>0.018618</td>\n",
       "      <td>0</td>\n",
       "      <td>0</td>\n",
       "      <td>...</td>\n",
       "      <td>29.979246</td>\n",
       "      <td>0.008633</td>\n",
       "      <td>0</td>\n",
       "      <td>472249.531250</td>\n",
       "      <td>323025.62500</td>\n",
       "      <td>139</td>\n",
       "      <td>3.0</td>\n",
       "      <td>2019-03-29 07:19:36.457465</td>\n",
       "      <td>2</td>\n",
       "      <td>gt1r</td>\n",
       "    </tr>\n",
       "  </tbody>\n",
       "</table>\n",
       "<p>117380 rows × 26 columns</p>\n",
       "</div>"
      ],
      "text/plain": [
       "             id        lat         lon   slope_y   slope_x  slope_x_sigma  \\\n",
       "0       1443587 -79.005890  176.340839  0.003497  0.047339       0.001724   \n",
       "1       1443588 -79.006065  176.340659  0.004264  0.046678       0.001681   \n",
       "2       1443589 -79.006240  176.340477  0.004327  0.053177       0.001822   \n",
       "3       1443590 -79.006415  176.340294  0.003481  0.057083       0.002062   \n",
       "4       1443591 -79.006590  176.340111  0.003538  0.052252       0.001790   \n",
       "...         ...        ...         ...       ...       ...            ...   \n",
       "117375  1565332 -79.006675   15.232945 -0.002697 -0.003359       0.000917   \n",
       "117376  1565333 -79.006500   15.232763 -0.002456  0.001718       0.000857   \n",
       "117377  1565334 -79.006325   15.232582 -0.003366  0.003669       0.000857   \n",
       "117378  1565335 -79.006150   15.232403 -0.003827  0.010012       0.001056   \n",
       "117379  1565336 -79.005975   15.232225 -0.003903 -0.001214       0.000839   \n",
       "\n",
       "               h_li      s_li  q_flag  s_fg  ...   fbsnow_h  bsnow_od  \\\n",
       "0        -19.894785  0.024615       0     0  ...  29.979246  0.268619   \n",
       "1        -18.983292  0.029364       0     0  ...  29.979246  0.268275   \n",
       "2        -17.971397  0.020860       0     0  ...  29.979246  0.267931   \n",
       "3        -16.854248  0.028489       0     0  ...  29.979246  0.267589   \n",
       "4        -15.775147  0.030507       0     0  ...  29.979246  0.267246   \n",
       "...             ...       ...     ...   ...  ...        ...       ...   \n",
       "117375  3086.250732  0.019657       0     0  ...  29.979246  0.008732   \n",
       "117376  3086.243652  0.016813       0     0  ...  29.979246  0.008707   \n",
       "117377  3086.329102  0.014059       0     0  ...  29.979246  0.008682   \n",
       "117378  3086.454346  0.019259       0     0  ...  29.979246  0.008658   \n",
       "117379  3086.507080  0.018618       0     0  ...  29.979246  0.008633   \n",
       "\n",
       "        layer_flag         bckgrd      e_bckgrd  n_fit_photons  \\\n",
       "0                1    9655.979492       0.00000            127   \n",
       "1                1   10321.526367       0.00000            135   \n",
       "2                1   10114.483398       0.00000            141   \n",
       "3                1    7262.786133       0.00000            135   \n",
       "4                1    7116.794434       0.00000            126   \n",
       "...            ...            ...           ...            ...   \n",
       "117375           0  486649.375000  322994.62500            126   \n",
       "117376           0  497868.093750  323002.59375            135   \n",
       "117377           0  508122.000000  323010.56250            135   \n",
       "117378           0  490499.656250  323017.65625            143   \n",
       "117379           0  472249.531250  323025.62500            139   \n",
       "\n",
       "        w_surface_window_final                     t_year  cycle  track  \n",
       "0                          3.0 2019-03-29 07:13:53.331979      2   gt1r  \n",
       "1                          3.0 2019-03-29 07:13:53.334803      2   gt1r  \n",
       "2                          3.0 2019-03-29 07:13:53.337636      2   gt1r  \n",
       "3                          3.0 2019-03-29 07:13:53.340472      2   gt1r  \n",
       "4                          3.0 2019-03-29 07:13:53.343306      2   gt1r  \n",
       "...                        ...                        ...    ...    ...  \n",
       "117375                     3.0 2019-03-29 07:19:36.446224      2   gt1r  \n",
       "117376                     3.0 2019-03-29 07:19:36.449031      2   gt1r  \n",
       "117377                     3.0 2019-03-29 07:19:36.451840      2   gt1r  \n",
       "117378                     3.0 2019-03-29 07:19:36.454650      2   gt1r  \n",
       "117379                     3.0 2019-03-29 07:19:36.457465      2   gt1r  \n",
       "\n",
       "[117380 rows x 26 columns]"
      ]
     },
     "execution_count": 9,
     "metadata": {},
     "output_type": "execute_result"
    }
   ],
   "source": [
    "seed[1]"
   ]
  },
  {
   "cell_type": "code",
   "execution_count": 6,
   "id": "trained-classics",
   "metadata": {},
   "outputs": [],
   "source": [
    "Pgt1l = seed[0].iloc[:2]\n",
    "Pgt1r = seed[1].iloc[:2]\n",
    "Pgt2l = seed[2].iloc[:2]\n",
    "Pgt2r = seed[3].iloc[:2]\n",
    "Pgt3l = seed[4].iloc[:2]\n",
    "Pgt3r = seed[5].iloc[:2]"
   ]
  },
  {
   "cell_type": "code",
   "execution_count": 7,
   "id": "formal-september",
   "metadata": {},
   "outputs": [
    {
     "data": {
      "text/html": [
       "<div>\n",
       "<style scoped>\n",
       "    .dataframe tbody tr th:only-of-type {\n",
       "        vertical-align: middle;\n",
       "    }\n",
       "\n",
       "    .dataframe tbody tr th {\n",
       "        vertical-align: top;\n",
       "    }\n",
       "\n",
       "    .dataframe thead th {\n",
       "        text-align: right;\n",
       "    }\n",
       "</style>\n",
       "<table border=\"1\" class=\"dataframe\">\n",
       "  <thead>\n",
       "    <tr style=\"text-align: right;\">\n",
       "      <th></th>\n",
       "      <th>id</th>\n",
       "      <th>lat</th>\n",
       "      <th>lon</th>\n",
       "      <th>slope_y</th>\n",
       "      <th>slope_x</th>\n",
       "      <th>slope_x_sigma</th>\n",
       "      <th>h_li</th>\n",
       "      <th>s_li</th>\n",
       "      <th>q_flag</th>\n",
       "      <th>s_fg</th>\n",
       "      <th>...</th>\n",
       "      <th>fbsnow_h</th>\n",
       "      <th>bsnow_od</th>\n",
       "      <th>layer_flag</th>\n",
       "      <th>bckgrd</th>\n",
       "      <th>e_bckgrd</th>\n",
       "      <th>n_fit_photons</th>\n",
       "      <th>w_surface_window_final</th>\n",
       "      <th>t_year</th>\n",
       "      <th>cycle</th>\n",
       "      <th>track</th>\n",
       "    </tr>\n",
       "  </thead>\n",
       "  <tbody>\n",
       "    <tr>\n",
       "      <th>0</th>\n",
       "      <td>1443587</td>\n",
       "      <td>-79.006042</td>\n",
       "      <td>176.344895</td>\n",
       "      <td>0.003497</td>\n",
       "      <td>0.045053</td>\n",
       "      <td>0.000830</td>\n",
       "      <td>-19.586994</td>\n",
       "      <td>0.012193</td>\n",
       "      <td>0</td>\n",
       "      <td>0</td>\n",
       "      <td>...</td>\n",
       "      <td>29.979246</td>\n",
       "      <td>0.268619</td>\n",
       "      <td>1</td>\n",
       "      <td>28285.419922</td>\n",
       "      <td>0.0</td>\n",
       "      <td>522</td>\n",
       "      <td>3.0</td>\n",
       "      <td>2019-03-29 07:13:52.971019</td>\n",
       "      <td>2</td>\n",
       "      <td>gt1l</td>\n",
       "    </tr>\n",
       "    <tr>\n",
       "      <th>1</th>\n",
       "      <td>1443588</td>\n",
       "      <td>-79.006216</td>\n",
       "      <td>176.344717</td>\n",
       "      <td>0.004264</td>\n",
       "      <td>0.050562</td>\n",
       "      <td>0.000883</td>\n",
       "      <td>-18.607821</td>\n",
       "      <td>0.012879</td>\n",
       "      <td>0</td>\n",
       "      <td>0</td>\n",
       "      <td>...</td>\n",
       "      <td>29.979246</td>\n",
       "      <td>0.268275</td>\n",
       "      <td>1</td>\n",
       "      <td>25933.798828</td>\n",
       "      <td>0.0</td>\n",
       "      <td>541</td>\n",
       "      <td>3.0</td>\n",
       "      <td>2019-03-29 07:13:52.973831</td>\n",
       "      <td>2</td>\n",
       "      <td>gt1l</td>\n",
       "    </tr>\n",
       "  </tbody>\n",
       "</table>\n",
       "<p>2 rows × 26 columns</p>\n",
       "</div>"
      ],
      "text/plain": [
       "        id        lat         lon   slope_y   slope_x  slope_x_sigma  \\\n",
       "0  1443587 -79.006042  176.344895  0.003497  0.045053       0.000830   \n",
       "1  1443588 -79.006216  176.344717  0.004264  0.050562       0.000883   \n",
       "\n",
       "        h_li      s_li  q_flag  s_fg  ...   fbsnow_h  bsnow_od  layer_flag  \\\n",
       "0 -19.586994  0.012193       0     0  ...  29.979246  0.268619           1   \n",
       "1 -18.607821  0.012879       0     0  ...  29.979246  0.268275           1   \n",
       "\n",
       "         bckgrd  e_bckgrd  n_fit_photons  w_surface_window_final  \\\n",
       "0  28285.419922       0.0            522                     3.0   \n",
       "1  25933.798828       0.0            541                     3.0   \n",
       "\n",
       "                      t_year  cycle  track  \n",
       "0 2019-03-29 07:13:52.971019      2   gt1l  \n",
       "1 2019-03-29 07:13:52.973831      2   gt1l  \n",
       "\n",
       "[2 rows x 26 columns]"
      ]
     },
     "execution_count": 7,
     "metadata": {},
     "output_type": "execute_result"
    }
   ],
   "source": [
    "Pgt1l"
   ]
  },
  {
   "cell_type": "code",
   "execution_count": 8,
   "id": "middle-circumstances",
   "metadata": {},
   "outputs": [],
   "source": [
    "gt1l = vaex.from_pandas(Pgt1l, copy_index=False)\n",
    "gt1r = vaex.from_pandas(Pgt1r, copy_index=False)\n",
    "gt2l = vaex.from_pandas(Pgt2l, copy_index=False)\n",
    "gt2r = vaex.from_pandas(Pgt2r, copy_index=False)\n",
    "gt3l = vaex.from_pandas(Pgt3l, copy_index=False)\n",
    "gt3r = vaex.from_pandas(Pgt3r, copy_index=False)"
   ]
  },
  {
   "cell_type": "code",
   "execution_count": 9,
   "id": "reduced-vienna",
   "metadata": {},
   "outputs": [],
   "source": [
    "files = os.listdir('./data02/')"
   ]
  },
  {
   "cell_type": "code",
   "execution_count": 10,
   "id": "artificial-adams",
   "metadata": {},
   "outputs": [
    {
     "name": "stderr",
     "output_type": "stream",
     "text": [
      "100%|██████████| 1327/1327 [1:37:34<00:00,  4.41s/it]\n"
     ]
    }
   ],
   "source": [
    "for file in tqdm(files):\n",
    "    dfs = read_atl06('./data02/' + file, cycle=int(2))\n",
    "    gt1l = gt1l.concat(vaex.from_pandas(dfs[0], copy_index=False))\n",
    "    gt1r = gt1r.concat(vaex.from_pandas(dfs[1], copy_index=False))\n",
    "    gt2l = gt2l.concat(vaex.from_pandas(dfs[2], copy_index=False))\n",
    "    gt2r = gt2r.concat(vaex.from_pandas(dfs[3], copy_index=False))\n",
    "    gt3l = gt3l.concat(vaex.from_pandas(dfs[4], copy_index=False))\n",
    "    gt3r = gt3r.concat(vaex.from_pandas(dfs[5], copy_index=False))"
   ]
  },
  {
   "cell_type": "code",
   "execution_count": 11,
   "id": "exceptional-material",
   "metadata": {},
   "outputs": [],
   "source": [
    "df = vaex.concat([gt1l, gt1r, gt2l, gt2r, gt3l, gt3r])"
   ]
  },
  {
   "cell_type": "code",
   "execution_count": 12,
   "id": "creative-garbage",
   "metadata": {},
   "outputs": [
    {
     "data": {
      "text/html": [
       "<table>\n",
       "<thead>\n",
       "<tr><th>#                                      </th><th>id     </th><th>lat               </th><th>lon                </th><th>slope_y      </th><th>slope_x     </th><th>slope_x_sigma  </th><th>h_li      </th><th>s_li       </th><th>q_flag  </th><th>s_fg  </th><th>snr  </th><th>h_rb      </th><th>bsnow_conf  </th><th>cloud_flg_asr  </th><th>cloud_flg_atm  </th><th>msw_flag  </th><th>fbsnow_h  </th><th>bsnow_od  </th><th>layer_flag  </th><th>bckgrd   </th><th>e_bckgrd  </th><th>n_fit_photons  </th><th>w_surface_window_final  </th><th>t_year                       </th><th>cycle  </th><th>track  </th></tr>\n",
       "</thead>\n",
       "<tbody>\n",
       "<tr><td><i style='opacity: 0.6'>0</i>          </td><td>1443587</td><td>-79.00604150693235</td><td>176.34489505559952 </td><td>0.0034970236 </td><td>0.045052722 </td><td>0.0008298112   </td><td>-19.586994</td><td>0.012193246</td><td>0       </td><td>0     </td><td>0.0  </td><td>0.17003135</td><td>-1          </td><td>2              </td><td>1              </td><td>3         </td><td>29.979246 </td><td>0.26861945</td><td>1           </td><td>28285.42 </td><td>0.0       </td><td>522            </td><td>3.0                     </td><td>2019-03-29 07:13:52.971019000</td><td>2      </td><td>gt1l   </td></tr>\n",
       "<tr><td><i style='opacity: 0.6'>1</i>          </td><td>1443588</td><td>-79.00621643747844</td><td>176.34471657932238 </td><td>0.0042643934 </td><td>0.050562415 </td><td>0.00088303734  </td><td>-18.60782 </td><td>0.01287923 </td><td>0       </td><td>0     </td><td>0.0  </td><td>0.18802492</td><td>-1          </td><td>2              </td><td>1              </td><td>3         </td><td>29.979246 </td><td>0.2682749 </td><td>1           </td><td>25933.799</td><td>0.0       </td><td>541            </td><td>3.0                     </td><td>2019-03-29 07:13:52.973831000</td><td>2      </td><td>gt1l   </td></tr>\n",
       "<tr><td><i style='opacity: 0.6'>2</i>          </td><td>1443581</td><td>-79.00770226316052</td><td>-70.68951907383446 </td><td>0.014864666  </td><td>0.008418874 </td><td>0.0005335565   </td><td>184.627   </td><td>0.010601515</td><td>0       </td><td>0     </td><td>0.0  </td><td>0.12233275</td><td>4           </td><td>2              </td><td>1              </td><td>4         </td><td>202.5068  </td><td>0.23907205</td><td>0           </td><td>821368.3 </td><td>456252.12 </td><td>397            </td><td>3.0                     </td><td>2019-02-23 01:20:25.102900000</td><td>2      </td><td>gt1l   </td></tr>\n",
       "<tr><td><i style='opacity: 0.6'>3</i>          </td><td>1443582</td><td>-79.00787704800452</td><td>-70.68970163845202 </td><td>0.014720231  </td><td>0.0057043494</td><td>0.0005324582   </td><td>184.77682 </td><td>0.011338408</td><td>0       </td><td>0     </td><td>0.0  </td><td>0.12369104</td><td>4           </td><td>2              </td><td>1              </td><td>4         </td><td>200.39746 </td><td>0.23566185</td><td>0           </td><td>794943.7 </td><td>456265.75 </td><td>381            </td><td>3.0                     </td><td>2019-02-23 01:20:25.105714000</td><td>2      </td><td>gt1l   </td></tr>\n",
       "<tr><td><i style='opacity: 0.6'>4</i>          </td><td>1443583</td><td>-79.00805186741138</td><td>-70.68988326285287 </td><td>0.014575872  </td><td>0.009426143 </td><td>0.0006639459   </td><td>184.91608 </td><td>0.012034703</td><td>0       </td><td>0     </td><td>0.0  </td><td>0.14692499</td><td>4           </td><td>2              </td><td>1              </td><td>4         </td><td>198.28993 </td><td>0.23225461</td><td>0           </td><td>780100.6 </td><td>456282.53 </td><td>388            </td><td>3.0                     </td><td>2019-02-23 01:20:25.108526000</td><td>2      </td><td>gt1l   </td></tr>\n",
       "<tr><td>...                                    </td><td>...    </td><td>...               </td><td>...                </td><td>...          </td><td>...         </td><td>...            </td><td>...       </td><td>...        </td><td>...     </td><td>...   </td><td>...  </td><td>...       </td><td>...         </td><td>...            </td><td>...            </td><td>...       </td><td>...       </td><td>...       </td><td>...         </td><td>...      </td><td>...       </td><td>...            </td><td>...                     </td><td>...                          </td><td>...    </td><td>...    </td></tr>\n",
       "<tr><td><i style='opacity: 0.6'>800,941,655</i></td><td>1565346</td><td>-78.99534064981206</td><td>-131.90544493760905</td><td>-0.0029634854</td><td>0.0021240213</td><td>0.009571512    </td><td>1133.6165 </td><td>0.15513632 </td><td>0       </td><td>0     </td><td>0.0  </td><td>0.61787885</td><td>6           </td><td>5              </td><td>3              </td><td>4         </td><td>198.37785 </td><td>0.4589239 </td><td>1           </td><td>428876.75</td><td>401975.88 </td><td>32             </td><td>3.7072732               </td><td>2019-03-28 17:10:59.907981000</td><td>2      </td><td>gt3r   </td></tr>\n",
       "<tr><td><i style='opacity: 0.6'>800,941,656</i></td><td>1565347</td><td>-78.99516588714636</td><td>-131.90562836605906</td><td>-0.0045786337</td><td>0.015404461 </td><td>0.004680639    </td><td>1133.849  </td><td>0.084664375</td><td>0       </td><td>0     </td><td>0.0  </td><td>0.34098354</td><td>6           </td><td>5              </td><td>3              </td><td>4         </td><td>200.48244 </td><td>0.45847726</td><td>1           </td><td>433235.34</td><td>401984.78 </td><td>38             </td><td>3.0                     </td><td>2019-03-28 17:10:59.910800000</td><td>2      </td><td>gt3r   </td></tr>\n",
       "<tr><td><i style='opacity: 0.6'>800,941,657</i></td><td>1565348</td><td>-78.99499111883044</td><td>-131.90581166617216</td><td>-0.005145013 </td><td>-0.009226994</td><td>0.009038533    </td><td>1133.9199 </td><td>0.13839921 </td><td>0       </td><td>0     </td><td>0.0  </td><td>0.6033738 </td><td>6           </td><td>5              </td><td>3              </td><td>4         </td><td>202.58574 </td><td>0.45803085</td><td>1           </td><td>441646.28</td><td>401993.66 </td><td>35             </td><td>3.6202428               </td><td>2019-03-28 17:10:59.913623000</td><td>2      </td><td>gt3r   </td></tr>\n",
       "<tr><td><i style='opacity: 0.6'>800,941,658</i></td><td>1565349</td><td>-78.99481635547642</td><td>-131.9059950895626 </td><td>-0.0058715898</td><td>0.010735066 </td><td>0.012288599    </td><td>1134.0288 </td><td>0.31806636 </td><td>0       </td><td>0     </td><td>0.0  </td><td>0.77089083</td><td>6           </td><td>5              </td><td>3              </td><td>4         </td><td>204.68959 </td><td>0.45758432</td><td>1           </td><td>461248.1 </td><td>402002.56 </td><td>32             </td><td>4.625345                </td><td>2019-03-28 17:10:59.916447000</td><td>2      </td><td>gt3r   </td></tr>\n",
       "<tr><td><i style='opacity: 0.6'>800,941,659</i></td><td>1565350</td><td>-78.9946416054534 </td><td>-131.90617886591502</td><td>-0.0065862187</td><td>0.010841579 </td><td>0.004583763    </td><td>1134.1212 </td><td>0.07702313 </td><td>0       </td><td>0     </td><td>0.0  </td><td>0.29622337</td><td>6           </td><td>5              </td><td>3              </td><td>4         </td><td>206.79501 </td><td>0.4571375 </td><td>1           </td><td>481548.94</td><td>402011.44 </td><td>30             </td><td>3.0                     </td><td>2019-03-28 17:10:59.919272000</td><td>2      </td><td>gt3r   </td></tr>\n",
       "</tbody>\n",
       "</table>"
      ],
      "text/plain": [
       "#            id       lat                 lon                  slope_y        slope_x       slope_x_sigma    h_li        s_li         q_flag    s_fg    snr    h_rb        bsnow_conf    cloud_flg_asr    cloud_flg_atm    msw_flag    fbsnow_h    bsnow_od    layer_flag    bckgrd     e_bckgrd    n_fit_photons    w_surface_window_final    t_year                         cycle    track\n",
       "0            1443587  -79.00604150693235  176.34489505559952   0.0034970236   0.045052722   0.0008298112     -19.586994  0.012193246  0         0       0.0    0.17003135  -1            2                1                3           29.979246   0.26861945  1             28285.42   0.0         522              3.0                       2019-03-29 07:13:52.971019000  2        gt1l\n",
       "1            1443588  -79.00621643747844  176.34471657932238   0.0042643934   0.050562415   0.00088303734    -18.60782   0.01287923   0         0       0.0    0.18802492  -1            2                1                3           29.979246   0.2682749   1             25933.799  0.0         541              3.0                       2019-03-29 07:13:52.973831000  2        gt1l\n",
       "2            1443581  -79.00770226316052  -70.68951907383446   0.014864666    0.008418874   0.0005335565     184.627     0.010601515  0         0       0.0    0.12233275  4             2                1                4           202.5068    0.23907205  0             821368.3   456252.12   397              3.0                       2019-02-23 01:20:25.102900000  2        gt1l\n",
       "3            1443582  -79.00787704800452  -70.68970163845202   0.014720231    0.0057043494  0.0005324582     184.77682   0.011338408  0         0       0.0    0.12369104  4             2                1                4           200.39746   0.23566185  0             794943.7   456265.75   381              3.0                       2019-02-23 01:20:25.105714000  2        gt1l\n",
       "4            1443583  -79.00805186741138  -70.68988326285287   0.014575872    0.009426143   0.0006639459     184.91608   0.012034703  0         0       0.0    0.14692499  4             2                1                4           198.28993   0.23225461  0             780100.6   456282.53   388              3.0                       2019-02-23 01:20:25.108526000  2        gt1l\n",
       "...          ...      ...                 ...                  ...            ...           ...              ...         ...          ...       ...     ...    ...         ...           ...              ...              ...         ...         ...         ...           ...        ...         ...              ...                       ...                            ...      ...\n",
       "800,941,655  1565346  -78.99534064981206  -131.90544493760905  -0.0029634854  0.0021240213  0.009571512      1133.6165   0.15513632   0         0       0.0    0.61787885  6             5                3                4           198.37785   0.4589239   1             428876.75  401975.88   32               3.7072732                 2019-03-28 17:10:59.907981000  2        gt3r\n",
       "800,941,656  1565347  -78.99516588714636  -131.90562836605906  -0.0045786337  0.015404461   0.004680639      1133.849    0.084664375  0         0       0.0    0.34098354  6             5                3                4           200.48244   0.45847726  1             433235.34  401984.78   38               3.0                       2019-03-28 17:10:59.910800000  2        gt3r\n",
       "800,941,657  1565348  -78.99499111883044  -131.90581166617216  -0.005145013   -0.009226994  0.009038533      1133.9199   0.13839921   0         0       0.0    0.6033738   6             5                3                4           202.58574   0.45803085  1             441646.28  401993.66   35               3.6202428                 2019-03-28 17:10:59.913623000  2        gt3r\n",
       "800,941,658  1565349  -78.99481635547642  -131.9059950895626   -0.0058715898  0.010735066   0.012288599      1134.0288   0.31806636   0         0       0.0    0.77089083  6             5                3                4           204.68959   0.45758432  1             461248.1   402002.56   32               4.625345                  2019-03-28 17:10:59.916447000  2        gt3r\n",
       "800,941,659  1565350  -78.9946416054534   -131.90617886591502  -0.0065862187  0.010841579   0.004583763      1134.1212   0.07702313   0         0       0.0    0.29622337  6             5                3                4           206.79501   0.4571375   1             481548.94  402011.44   30               3.0                       2019-03-28 17:10:59.919272000  2        gt3r"
      ]
     },
     "execution_count": 12,
     "metadata": {},
     "output_type": "execute_result"
    }
   ],
   "source": [
    "df"
   ]
  },
  {
   "cell_type": "code",
   "execution_count": 13,
   "id": "assisted-headset",
   "metadata": {},
   "outputs": [],
   "source": [
    "import pyproj"
   ]
  },
  {
   "cell_type": "code",
   "execution_count": 14,
   "id": "informal-decimal",
   "metadata": {},
   "outputs": [],
   "source": [
    "# lon / lat\n",
    "psgs = pyproj.Proj(3976)\n"
   ]
  },
  {
   "cell_type": "code",
   "execution_count": 23,
   "id": "exciting-frame",
   "metadata": {},
   "outputs": [
    {
     "name": "stdout",
     "output_type": "stream",
     "text": [
      "CPU times: user 6 µs, sys: 0 ns, total: 6 µs\n",
      "Wall time: 12.6 µs\n"
     ]
    },
    {
     "ename": "AttributeError",
     "evalue": "'Proj' object has no attribute '__name__'",
     "output_type": "error",
     "traceback": [
      "\u001b[0;31m---------------------------------------------------------------------------\u001b[0m",
      "\u001b[0;31mAttributeError\u001b[0m                            Traceback (most recent call last)",
      "\u001b[0;32m<ipython-input-23-d2ed4ac18d5e>\u001b[0m in \u001b[0;36m<module>\u001b[0;34m\u001b[0m\n\u001b[1;32m      1\u001b[0m \u001b[0mget_ipython\u001b[0m\u001b[0;34m(\u001b[0m\u001b[0;34m)\u001b[0m\u001b[0;34m.\u001b[0m\u001b[0mrun_line_magic\u001b[0m\u001b[0;34m(\u001b[0m\u001b[0;34m'time'\u001b[0m\u001b[0;34m,\u001b[0m \u001b[0;34m''\u001b[0m\u001b[0;34m)\u001b[0m\u001b[0;34m\u001b[0m\u001b[0;34m\u001b[0m\u001b[0m\n\u001b[0;32m----> 2\u001b[0;31m \u001b[0mdf\u001b[0m\u001b[0;34m[\u001b[0m\u001b[0;34m'x'\u001b[0m\u001b[0;34m]\u001b[0m \u001b[0;34m,\u001b[0m \u001b[0mdf\u001b[0m\u001b[0;34m[\u001b[0m\u001b[0;34m'y'\u001b[0m\u001b[0;34m]\u001b[0m \u001b[0;34m=\u001b[0m \u001b[0mdf\u001b[0m\u001b[0;34m.\u001b[0m\u001b[0mapply\u001b[0m\u001b[0;34m(\u001b[0m\u001b[0mpsgs\u001b[0m\u001b[0;34m,\u001b[0m \u001b[0marguments\u001b[0m\u001b[0;34m=\u001b[0m\u001b[0;34m[\u001b[0m\u001b[0mdf\u001b[0m\u001b[0;34m.\u001b[0m\u001b[0mlon\u001b[0m\u001b[0;34m,\u001b[0m \u001b[0mdf\u001b[0m\u001b[0;34m.\u001b[0m\u001b[0mlat\u001b[0m\u001b[0;34m]\u001b[0m\u001b[0;34m,\u001b[0m \u001b[0mvectorize\u001b[0m\u001b[0;34m=\u001b[0m\u001b[0;32mTrue\u001b[0m\u001b[0;34m)\u001b[0m\u001b[0;34m\u001b[0m\u001b[0;34m\u001b[0m\u001b[0m\n\u001b[0m",
      "\u001b[0;32m/home/jupyter/iceDivides/_build/pip_packages/lib/python3.8/site-packages/vaex/dataframe.py\u001b[0m in \u001b[0;36mapply\u001b[0;34m(self, f, arguments, vectorize, multiprocessing)\u001b[0m\n\u001b[1;32m    425\u001b[0m             \u001b[0mname\u001b[0m \u001b[0;34m=\u001b[0m \u001b[0;34m'lambda_function'\u001b[0m\u001b[0;34m\u001b[0m\u001b[0;34m\u001b[0m\u001b[0m\n\u001b[1;32m    426\u001b[0m         \u001b[0;32melse\u001b[0m\u001b[0;34m:\u001b[0m\u001b[0;34m\u001b[0m\u001b[0;34m\u001b[0m\u001b[0m\n\u001b[0;32m--> 427\u001b[0;31m             \u001b[0mname\u001b[0m \u001b[0;34m=\u001b[0m \u001b[0mf\u001b[0m\u001b[0;34m.\u001b[0m\u001b[0m__name__\u001b[0m\u001b[0;34m\u001b[0m\u001b[0;34m\u001b[0m\u001b[0m\n\u001b[0m\u001b[1;32m    428\u001b[0m         \u001b[0;32mif\u001b[0m \u001b[0;32mnot\u001b[0m \u001b[0mvectorize\u001b[0m\u001b[0;34m:\u001b[0m\u001b[0;34m\u001b[0m\u001b[0;34m\u001b[0m\u001b[0m\n\u001b[1;32m    429\u001b[0m             \u001b[0mf\u001b[0m \u001b[0;34m=\u001b[0m \u001b[0mvaex\u001b[0m\u001b[0;34m.\u001b[0m\u001b[0mexpression\u001b[0m\u001b[0;34m.\u001b[0m\u001b[0mFunctionToScalar\u001b[0m\u001b[0;34m(\u001b[0m\u001b[0mf\u001b[0m\u001b[0;34m,\u001b[0m \u001b[0mmultiprocessing\u001b[0m\u001b[0;34m)\u001b[0m\u001b[0;34m\u001b[0m\u001b[0;34m\u001b[0m\u001b[0m\n",
      "\u001b[0;31mAttributeError\u001b[0m: 'Proj' object has no attribute '__name__'"
     ]
    }
   ],
   "source": [
    "%time\n",
    "df['x'] , df['y'] = df.apply(psgs, arguments=[df.lon, df.lat], vectorize=True)"
   ]
  },
  {
   "cell_type": "code",
   "execution_count": 24,
   "id": "therapeutic-excerpt",
   "metadata": {},
   "outputs": [],
   "source": [
    "lat = df.lat.to_numpy()"
   ]
  },
  {
   "cell_type": "code",
   "execution_count": 25,
   "id": "horizontal-classics",
   "metadata": {},
   "outputs": [],
   "source": [
    "lon = df.lon.to_numpy()"
   ]
  },
  {
   "cell_type": "code",
   "execution_count": 26,
   "id": "atlantic-blogger",
   "metadata": {},
   "outputs": [],
   "source": [
    "x, y = psgs(lon,lat)"
   ]
  },
  {
   "cell_type": "code",
   "execution_count": 32,
   "id": "answering-helmet",
   "metadata": {},
   "outputs": [
    {
     "data": {
      "text/plain": [
       "(76145.73032234018, -1192040.8616217363)"
      ]
     },
     "execution_count": 32,
     "metadata": {},
     "output_type": "execute_result"
    }
   ],
   "source": [
    "psgs(176.345, -79.006 )"
   ]
  },
  {
   "cell_type": "code",
   "execution_count": 33,
   "id": "bacterial-candy",
   "metadata": {},
   "outputs": [
    {
     "data": {
      "text/plain": [
       "(76147.62450344954, -1192036.1950727522)"
      ]
     },
     "execution_count": 33,
     "metadata": {},
     "output_type": "execute_result"
    }
   ],
   "source": [
    "psgs(lon[0],lat[0])"
   ]
  },
  {
   "cell_type": "code",
   "execution_count": 28,
   "id": "following-charm",
   "metadata": {},
   "outputs": [
    {
     "data": {
      "text/plain": [
       "(array([   76147.62450345,    76150.11884254, -1127094.5101001 ,\n",
       "        -1127077.74092842, -1127060.96166475, -1127044.1691401 ,\n",
       "        -1127027.36171066, -1127010.54039467, -1126993.69593272,\n",
       "        -1126976.82405109]),\n",
       " array([-1192036.19507275, -1192016.87855612,   394934.35917266,\n",
       "          394924.45104703,   394914.56027988,   394904.69221576,\n",
       "          394894.8496659 ,   394885.03085838,   394875.25162114,\n",
       "          394865.51934456]))"
      ]
     },
     "execution_count": 28,
     "metadata": {},
     "output_type": "execute_result"
    }
   ],
   "source": [
    "x[:10], y[:10]"
   ]
  },
  {
   "cell_type": "code",
   "execution_count": 34,
   "id": "color-north",
   "metadata": {},
   "outputs": [],
   "source": [
    "df['x'], df['y'] = x, y"
   ]
  },
  {
   "cell_type": "code",
   "execution_count": 35,
   "id": "recognized-hearing",
   "metadata": {},
   "outputs": [
    {
     "data": {
      "text/html": [
       "<table>\n",
       "<thead>\n",
       "<tr><th>#                                      </th><th>id     </th><th>lat               </th><th>lon                </th><th>slope_y      </th><th>slope_x     </th><th>slope_x_sigma  </th><th>h_li      </th><th>s_li       </th><th>q_flag  </th><th>s_fg  </th><th>snr  </th><th>h_rb      </th><th>bsnow_conf  </th><th>cloud_flg_asr  </th><th>cloud_flg_atm  </th><th>msw_flag  </th><th>fbsnow_h  </th><th>bsnow_od  </th><th>layer_flag  </th><th>bckgrd   </th><th>e_bckgrd  </th><th>n_fit_photons  </th><th>w_surface_window_final  </th><th>t_year                       </th><th>cycle  </th><th>track  </th><th>x                  </th><th>y                  </th></tr>\n",
       "</thead>\n",
       "<tbody>\n",
       "<tr><td><i style='opacity: 0.6'>0</i>          </td><td>1443587</td><td>-79.00604150693235</td><td>176.34489505559952 </td><td>0.0034970236 </td><td>0.045052722 </td><td>0.0008298112   </td><td>-19.586994</td><td>0.012193246</td><td>0       </td><td>0     </td><td>0.0  </td><td>0.17003135</td><td>-1          </td><td>2              </td><td>1              </td><td>3         </td><td>29.979246 </td><td>0.26861945</td><td>1           </td><td>28285.42 </td><td>0.0       </td><td>522            </td><td>3.0                     </td><td>2019-03-29 07:13:52.971019000</td><td>2      </td><td>gt1l   </td><td>76147.62450344954  </td><td>-1192036.1950727522</td></tr>\n",
       "<tr><td><i style='opacity: 0.6'>1</i>          </td><td>1443588</td><td>-79.00621643747844</td><td>176.34471657932238 </td><td>0.0042643934 </td><td>0.050562415 </td><td>0.00088303734  </td><td>-18.60782 </td><td>0.01287923 </td><td>0       </td><td>0     </td><td>0.0  </td><td>0.18802492</td><td>-1          </td><td>2              </td><td>1              </td><td>3         </td><td>29.979246 </td><td>0.2682749 </td><td>1           </td><td>25933.799</td><td>0.0       </td><td>541            </td><td>3.0                     </td><td>2019-03-29 07:13:52.973831000</td><td>2      </td><td>gt1l   </td><td>76150.11884253839  </td><td>-1192016.878556122 </td></tr>\n",
       "<tr><td><i style='opacity: 0.6'>2</i>          </td><td>1443581</td><td>-79.00770226316052</td><td>-70.68951907383446 </td><td>0.014864666  </td><td>0.008418874 </td><td>0.0005335565   </td><td>184.627   </td><td>0.010601515</td><td>0       </td><td>0     </td><td>0.0  </td><td>0.12233275</td><td>4           </td><td>2              </td><td>1              </td><td>4         </td><td>202.5068  </td><td>0.23907205</td><td>0           </td><td>821368.3 </td><td>456252.12 </td><td>397            </td><td>3.0                     </td><td>2019-02-23 01:20:25.102900000</td><td>2      </td><td>gt1l   </td><td>-1127094.5101001023</td><td>394934.35917266377 </td></tr>\n",
       "<tr><td><i style='opacity: 0.6'>3</i>          </td><td>1443582</td><td>-79.00787704800452</td><td>-70.68970163845202 </td><td>0.014720231  </td><td>0.0057043494</td><td>0.0005324582   </td><td>184.77682 </td><td>0.011338408</td><td>0       </td><td>0     </td><td>0.0  </td><td>0.12369104</td><td>4           </td><td>2              </td><td>1              </td><td>4         </td><td>200.39746 </td><td>0.23566185</td><td>0           </td><td>794943.7 </td><td>456265.75 </td><td>381            </td><td>3.0                     </td><td>2019-02-23 01:20:25.105714000</td><td>2      </td><td>gt1l   </td><td>-1127077.7409284168</td><td>394924.45104703243 </td></tr>\n",
       "<tr><td><i style='opacity: 0.6'>4</i>          </td><td>1443583</td><td>-79.00805186741138</td><td>-70.68988326285287 </td><td>0.014575872  </td><td>0.009426143 </td><td>0.0006639459   </td><td>184.91608 </td><td>0.012034703</td><td>0       </td><td>0     </td><td>0.0  </td><td>0.14692499</td><td>4           </td><td>2              </td><td>1              </td><td>4         </td><td>198.28993 </td><td>0.23225461</td><td>0           </td><td>780100.6 </td><td>456282.53 </td><td>388            </td><td>3.0                     </td><td>2019-02-23 01:20:25.108526000</td><td>2      </td><td>gt1l   </td><td>-1127060.9616647481</td><td>394914.5602798831  </td></tr>\n",
       "<tr><td>...                                    </td><td>...    </td><td>...               </td><td>...                </td><td>...          </td><td>...         </td><td>...            </td><td>...       </td><td>...        </td><td>...     </td><td>...   </td><td>...  </td><td>...       </td><td>...         </td><td>...            </td><td>...            </td><td>...       </td><td>...       </td><td>...       </td><td>...         </td><td>...      </td><td>...       </td><td>...            </td><td>...                     </td><td>...                          </td><td>...    </td><td>...    </td><td>...                </td><td>...                </td></tr>\n",
       "<tr><td><i style='opacity: 0.6'>800,941,655</i></td><td>1565346</td><td>-78.99534064981206</td><td>-131.90544493760905</td><td>-0.0029634854</td><td>0.0021240213</td><td>0.009571512    </td><td>1133.6165 </td><td>0.15513632 </td><td>0       </td><td>0     </td><td>0.0  </td><td>0.61787885</td><td>6           </td><td>5              </td><td>3              </td><td>4         </td><td>198.37785 </td><td>0.4589239 </td><td>1           </td><td>428876.75</td><td>401975.88 </td><td>32             </td><td>3.7072732               </td><td>2019-03-28 17:10:59.907981000</td><td>2      </td><td>gt3r   </td><td>-889849.3438772612 </td><td>-798568.80904827   </td></tr>\n",
       "<tr><td><i style='opacity: 0.6'>800,941,656</i></td><td>1565347</td><td>-78.99516588714636</td><td>-131.90562836605906</td><td>-0.0045786337</td><td>0.015404461 </td><td>0.004680639    </td><td>1133.849  </td><td>0.084664375</td><td>0       </td><td>0     </td><td>0.0  </td><td>0.34098354</td><td>6           </td><td>5              </td><td>3              </td><td>4         </td><td>200.48244 </td><td>0.45847726</td><td>1           </td><td>433235.34</td><td>401984.78 </td><td>38             </td><td>3.0                     </td><td>2019-03-28 17:10:59.910800000</td><td>2      </td><td>gt3r   </td><td>-889861.0025500112 </td><td>-798584.4149609152 </td></tr>\n",
       "<tr><td><i style='opacity: 0.6'>800,941,657</i></td><td>1565348</td><td>-78.99499111883044</td><td>-131.90581166617216</td><td>-0.005145013 </td><td>-0.009226994</td><td>0.009038533    </td><td>1133.9199 </td><td>0.13839921 </td><td>0       </td><td>0     </td><td>0.0  </td><td>0.6033738 </td><td>6           </td><td>5              </td><td>3              </td><td>4         </td><td>202.58574 </td><td>0.45803085</td><td>1           </td><td>441646.28</td><td>401993.66 </td><td>35             </td><td>3.6202428               </td><td>2019-03-28 17:10:59.913623000</td><td>2      </td><td>gt3r   </td><td>-889872.6633843429 </td><td>-798600.0193792139 </td></tr>\n",
       "<tr><td><i style='opacity: 0.6'>800,941,658</i></td><td>1565349</td><td>-78.99481635547642</td><td>-131.9059950895626 </td><td>-0.0058715898</td><td>0.010735066 </td><td>0.012288599    </td><td>1134.0288 </td><td>0.31806636 </td><td>0       </td><td>0     </td><td>0.0  </td><td>0.77089083</td><td>6           </td><td>5              </td><td>3              </td><td>4         </td><td>204.68959 </td><td>0.45758432</td><td>1           </td><td>461248.1 </td><td>402002.56 </td><td>32             </td><td>4.625345                </td><td>2019-03-28 17:10:59.916447000</td><td>2      </td><td>gt3r   </td><td>-889884.322010054  </td><td>-798615.6254363636 </td></tr>\n",
       "<tr><td><i style='opacity: 0.6'>800,941,659</i></td><td>1565350</td><td>-78.9946416054534 </td><td>-131.90617886591502</td><td>-0.0065862187</td><td>0.010841579 </td><td>0.004583763    </td><td>1134.1212 </td><td>0.07702313 </td><td>0       </td><td>0     </td><td>0.0  </td><td>0.29622337</td><td>6           </td><td>5              </td><td>3              </td><td>4         </td><td>206.79501 </td><td>0.4571375 </td><td>1           </td><td>481548.94</td><td>402011.44 </td><td>30             </td><td>3.0                     </td><td>2019-03-28 17:10:59.919272000</td><td>2      </td><td>gt3r   </td><td>-889895.9745447903 </td><td>-798631.2360888819 </td></tr>\n",
       "</tbody>\n",
       "</table>"
      ],
      "text/plain": [
       "#            id       lat                 lon                  slope_y        slope_x       slope_x_sigma    h_li        s_li         q_flag    s_fg    snr    h_rb        bsnow_conf    cloud_flg_asr    cloud_flg_atm    msw_flag    fbsnow_h    bsnow_od    layer_flag    bckgrd     e_bckgrd    n_fit_photons    w_surface_window_final    t_year                         cycle    track    x                    y\n",
       "0            1443587  -79.00604150693235  176.34489505559952   0.0034970236   0.045052722   0.0008298112     -19.586994  0.012193246  0         0       0.0    0.17003135  -1            2                1                3           29.979246   0.26861945  1             28285.42   0.0         522              3.0                       2019-03-29 07:13:52.971019000  2        gt1l     76147.62450344954    -1192036.1950727522\n",
       "1            1443588  -79.00621643747844  176.34471657932238   0.0042643934   0.050562415   0.00088303734    -18.60782   0.01287923   0         0       0.0    0.18802492  -1            2                1                3           29.979246   0.2682749   1             25933.799  0.0         541              3.0                       2019-03-29 07:13:52.973831000  2        gt1l     76150.11884253839    -1192016.878556122\n",
       "2            1443581  -79.00770226316052  -70.68951907383446   0.014864666    0.008418874   0.0005335565     184.627     0.010601515  0         0       0.0    0.12233275  4             2                1                4           202.5068    0.23907205  0             821368.3   456252.12   397              3.0                       2019-02-23 01:20:25.102900000  2        gt1l     -1127094.5101001023  394934.35917266377\n",
       "3            1443582  -79.00787704800452  -70.68970163845202   0.014720231    0.0057043494  0.0005324582     184.77682   0.011338408  0         0       0.0    0.12369104  4             2                1                4           200.39746   0.23566185  0             794943.7   456265.75   381              3.0                       2019-02-23 01:20:25.105714000  2        gt1l     -1127077.7409284168  394924.45104703243\n",
       "4            1443583  -79.00805186741138  -70.68988326285287   0.014575872    0.009426143   0.0006639459     184.91608   0.012034703  0         0       0.0    0.14692499  4             2                1                4           198.28993   0.23225461  0             780100.6   456282.53   388              3.0                       2019-02-23 01:20:25.108526000  2        gt1l     -1127060.9616647481  394914.5602798831\n",
       "...          ...      ...                 ...                  ...            ...           ...              ...         ...          ...       ...     ...    ...         ...           ...              ...              ...         ...         ...         ...           ...        ...         ...              ...                       ...                            ...      ...      ...                  ...\n",
       "800,941,655  1565346  -78.99534064981206  -131.90544493760905  -0.0029634854  0.0021240213  0.009571512      1133.6165   0.15513632   0         0       0.0    0.61787885  6             5                3                4           198.37785   0.4589239   1             428876.75  401975.88   32               3.7072732                 2019-03-28 17:10:59.907981000  2        gt3r     -889849.3438772612   -798568.80904827\n",
       "800,941,656  1565347  -78.99516588714636  -131.90562836605906  -0.0045786337  0.015404461   0.004680639      1133.849    0.084664375  0         0       0.0    0.34098354  6             5                3                4           200.48244   0.45847726  1             433235.34  401984.78   38               3.0                       2019-03-28 17:10:59.910800000  2        gt3r     -889861.0025500112   -798584.4149609152\n",
       "800,941,657  1565348  -78.99499111883044  -131.90581166617216  -0.005145013   -0.009226994  0.009038533      1133.9199   0.13839921   0         0       0.0    0.6033738   6             5                3                4           202.58574   0.45803085  1             441646.28  401993.66   35               3.6202428                 2019-03-28 17:10:59.913623000  2        gt3r     -889872.6633843429   -798600.0193792139\n",
       "800,941,658  1565349  -78.99481635547642  -131.9059950895626   -0.0058715898  0.010735066   0.012288599      1134.0288   0.31806636   0         0       0.0    0.77089083  6             5                3                4           204.68959   0.45758432  1             461248.1   402002.56   32               4.625345                  2019-03-28 17:10:59.916447000  2        gt3r     -889884.322010054    -798615.6254363636\n",
       "800,941,659  1565350  -78.9946416054534   -131.90617886591502  -0.0065862187  0.010841579   0.004583763      1134.1212   0.07702313   0         0       0.0    0.29622337  6             5                3                4           206.79501   0.4571375   1             481548.94  402011.44   30               3.0                       2019-03-28 17:10:59.919272000  2        gt3r     -889895.9745447903   -798631.2360888819"
      ]
     },
     "execution_count": 35,
     "metadata": {},
     "output_type": "execute_result"
    }
   ],
   "source": [
    "df"
   ]
  },
  {
   "cell_type": "code",
   "execution_count": 37,
   "id": "prerequisite-register",
   "metadata": {},
   "outputs": [],
   "source": [
    "df.export_arrow('./atl06_02_11.arrow')"
   ]
  },
  {
   "cell_type": "code",
   "execution_count": 38,
   "id": "polished-stanley",
   "metadata": {},
   "outputs": [
    {
     "name": "stdout",
     "output_type": "stream",
     "text": [
      "Filesystem                                   Size  Used Avail Use% Mounted on\n",
      "udev                                         252G     0  252G   0% /dev\n",
      "tmpfs                                         51G  2.4M   51G   1% /run\n",
      "/dev/mapper/ubuntu--vg-root                  2.4T  2.2T  151G  94% /\n",
      "tmpfs                                        252G   80K  252G   1% /dev/shm\n",
      "tmpfs                                        5.0M     0  5.0M   0% /run/lock\n",
      "tmpfs                                        252G     0  252G   0% /sys/fs/cgroup\n",
      "/dev/nvme0n1p2                               473M  157M  292M  35% /boot\n",
      "/dev/nvme0n1p1                               511M  6.7M  505M   2% /boot/efi\n",
      "tmpfs                                         51G   24K   51G   1% /run/user/120\n",
      "198.59.51.52:/volume2/Bhaltos2                44T   31T   13T  71% /home/lihu9680/Bhaltos2\n",
      "tmpfs                                         51G     0   51G   0% /run/user/30039\n",
      "tmpfs                                         51G   24K   51G   1% /run/user/1003\n",
      "tmpfs                                         51G     0   51G   0% /run/user/30037\n",
      "miavaig.int.colorado.edu:/volume1/Discovery   43T   27T   17T  62% /Miavaig\n"
     ]
    }
   ],
   "source": [
    "!df -h"
   ]
  },
  {
   "cell_type": "code",
   "execution_count": 11,
   "id": "intimate-increase",
   "metadata": {},
   "outputs": [],
   "source": [
    "gt1l.export_arrow('./gt1l.arrow')\n",
    "gt1r.export_arrow('./gt1r.arrow')\n",
    "gt2l.export_arrow('./gt2l.arrow')\n",
    "gt2r.export_arrow('./gt2r.arrow')\n",
    "gt3l.export_arrow('./gt3l.arrow')\n",
    "gt3r.export_arrow('./gt3r.arrow')\n"
   ]
  },
  {
   "cell_type": "code",
   "execution_count": 10,
   "id": "operating-possibility",
   "metadata": {},
   "outputs": [
    {
     "data": {
      "text/html": [
       "<table>\n",
       "<thead>\n",
       "<tr><th>#                                      </th><th>id     </th><th>lat               </th><th>lon                </th><th>slope_y      </th><th>slope_x      </th><th>slope_x_sigma  </th><th>h_li     </th><th>s_li       </th><th>q_flag  </th><th>s_fg  </th><th>snr  </th><th>h_rb      </th><th>bsnow_conf  </th><th>cloud_flg_asr  </th><th>cloud_flg_atm  </th><th>msw_flag  </th><th>fbsnow_h  </th><th>bsnow_od  </th><th>layer_flag  </th><th>bckgrd   </th><th>e_bckgrd  </th><th>n_fit_photons  </th><th>w_surface_window_final  </th><th>t_year                       </th></tr>\n",
       "</thead>\n",
       "<tbody>\n",
       "<tr><td><i style='opacity: 0.6'>0</i>          </td><td>1443576</td><td>-79.00265175898602</td><td>152.6338938942904  </td><td>-0.0034930306</td><td>-0.0019932939</td><td>0.0012799798   </td><td>2112.0972</td><td>0.02197273 </td><td>0       </td><td>0     </td><td>0.0  </td><td>0.13674001</td><td>-1          </td><td>1              </td><td>0              </td><td>0         </td><td>98.97748  </td><td>0.15880647</td><td>0           </td><td>3543741.5</td><td>1567040.4 </td><td>138            </td><td>3.0                     </td><td>2018-12-28 13:08:17.510551000</td></tr>\n",
       "<tr><td><i style='opacity: 0.6'>1</i>          </td><td>1443577</td><td>-79.00282660535785</td><td>152.6337131144976  </td><td>-0.0033072757</td><td>-0.005460351 </td><td>0.0012954295   </td><td>2111.9941</td><td>0.015203893</td><td>0       </td><td>0     </td><td>0.0  </td><td>0.12070798</td><td>-1          </td><td>1              </td><td>0              </td><td>0         </td><td>96.86956  </td><td>0.15470755</td><td>0           </td><td>3428445.2</td><td>1567056.9 </td><td>144            </td><td>3.0                     </td><td>2018-12-28 13:08:17.513373000</td></tr>\n",
       "<tr><td><i style='opacity: 0.6'>2</i>          </td><td>1443581</td><td>-79.00770226316052</td><td>-70.68951907383446 </td><td>0.014864666  </td><td>0.008418874  </td><td>0.0005335565   </td><td>184.627  </td><td>0.010601515</td><td>0       </td><td>0     </td><td>0.0  </td><td>0.12233275</td><td>4           </td><td>2              </td><td>1              </td><td>4         </td><td>202.5068  </td><td>0.23907205</td><td>0           </td><td>821368.3 </td><td>456252.12 </td><td>397            </td><td>3.0                     </td><td>2019-02-23 01:20:25.102900000</td></tr>\n",
       "<tr><td><i style='opacity: 0.6'>3</i>          </td><td>1443582</td><td>-79.00787704800452</td><td>-70.68970163845202 </td><td>0.014720231  </td><td>0.0057043494 </td><td>0.0005324582   </td><td>184.77682</td><td>0.011338408</td><td>0       </td><td>0     </td><td>0.0  </td><td>0.12369104</td><td>4           </td><td>2              </td><td>1              </td><td>4         </td><td>200.39746 </td><td>0.23566185</td><td>0           </td><td>794943.7 </td><td>456265.75 </td><td>381            </td><td>3.0                     </td><td>2019-02-23 01:20:25.105714000</td></tr>\n",
       "<tr><td><i style='opacity: 0.6'>4</i>          </td><td>1443583</td><td>-79.00805186741138</td><td>-70.68988326285287 </td><td>0.014575872  </td><td>0.009426143  </td><td>0.0006639459   </td><td>184.91608</td><td>0.012034703</td><td>0       </td><td>0     </td><td>0.0  </td><td>0.14692499</td><td>4           </td><td>2              </td><td>1              </td><td>4         </td><td>198.28993 </td><td>0.23225461</td><td>0           </td><td>780100.6 </td><td>456282.53 </td><td>388            </td><td>3.0                     </td><td>2019-02-23 01:20:25.108526000</td></tr>\n",
       "<tr><td>...                                    </td><td>...    </td><td>...               </td><td>...                </td><td>...          </td><td>...          </td><td>...            </td><td>...      </td><td>...        </td><td>...     </td><td>...   </td><td>...  </td><td>...       </td><td>...         </td><td>...            </td><td>...            </td><td>...       </td><td>...       </td><td>...       </td><td>...         </td><td>...      </td><td>...       </td><td>...            </td><td>...                     </td><td>...                          </td></tr>\n",
       "<tr><td><i style='opacity: 0.6'>133,682,447</i></td><td>1565346</td><td>-79.00721045006628</td><td>-132.21977068251854</td><td>-0.006477784 </td><td>0.004741233  </td><td>0.0016565407   </td><td>1102.3906</td><td>0.03348249 </td><td>0       </td><td>0     </td><td>0.0  </td><td>0.21513973</td><td>-1          </td><td>4              </td><td>1              </td><td>2         </td><td>209.85472 </td><td>0.6916528 </td><td>1           </td><td>494481.06</td><td>420435.2  </td><td>111            </td><td>3.0                     </td><td>2019-03-28 17:10:59.581486000</td></tr>\n",
       "<tr><td><i style='opacity: 0.6'>133,682,448</i></td><td>1565347</td><td>-79.00703565872891</td><td>-132.2199529490756 </td><td>-0.005692235 </td><td>0.002207704  </td><td>0.0018826145   </td><td>1102.4156</td><td>0.029799085</td><td>0       </td><td>0     </td><td>0.0  </td><td>0.21348575</td><td>-1          </td><td>4              </td><td>1              </td><td>2         </td><td>209.85472 </td><td>0.6932627 </td><td>1           </td><td>514356.84</td><td>420444.66 </td><td>102            </td><td>3.0                     </td><td>2019-03-28 17:10:59.584297000</td></tr>\n",
       "<tr><td><i style='opacity: 0.6'>133,682,449</i></td><td>1565348</td><td>-79.00686084266192</td><td>-132.22013452710036</td><td>-0.0059905816</td><td>-0.003254145 </td><td>0.0019431423   </td><td>1102.4171</td><td>0.04439576 </td><td>0       </td><td>0     </td><td>0.0  </td><td>0.21254022</td><td>-1          </td><td>4              </td><td>1              </td><td>2         </td><td>209.85472 </td><td>0.6948735 </td><td>1           </td><td>513579.88</td><td>420454.1  </td><td>90             </td><td>3.0                     </td><td>2019-03-28 17:10:59.587110000</td></tr>\n",
       "<tr><td><i style='opacity: 0.6'>133,682,450</i></td><td>1565349</td><td>-79.00668598596165</td><td>-132.22031501663284</td><td>-0.006612603 </td><td>0.0012488412 </td><td>0.0021047168   </td><td>1102.4423</td><td>0.037854582</td><td>0       </td><td>0     </td><td>0.0  </td><td>0.21960956</td><td>-1          </td><td>4              </td><td>1              </td><td>2         </td><td>209.85472 </td><td>0.6964865 </td><td>1           </td><td>496849.22</td><td>420463.56 </td><td>92             </td><td>3.0                     </td><td>2019-03-28 17:10:59.589927000</td></tr>\n",
       "<tr><td><i style='opacity: 0.6'>133,682,451</i></td><td>1565350</td><td>-79.00651108765229</td><td>-132.22049439130075</td><td>-0.006373983 </td><td>0.0057607717 </td><td>0.002044127    </td><td>1102.5253</td><td>0.033580653</td><td>0       </td><td>0     </td><td>0.0  </td><td>0.22675054</td><td>-1          </td><td>4              </td><td>1              </td><td>2         </td><td>209.85472 </td><td>0.6981005 </td><td>1           </td><td>479508.7 </td><td>420473.03 </td><td>84             </td><td>3.0                     </td><td>2019-03-28 17:10:59.592746000</td></tr>\n",
       "</tbody>\n",
       "</table>"
      ],
      "text/plain": [
       "#            id       lat                 lon                  slope_y        slope_x        slope_x_sigma    h_li       s_li         q_flag    s_fg    snr    h_rb        bsnow_conf    cloud_flg_asr    cloud_flg_atm    msw_flag    fbsnow_h    bsnow_od    layer_flag    bckgrd     e_bckgrd    n_fit_photons    w_surface_window_final    t_year\n",
       "0            1443576  -79.00265175898602  152.6338938942904    -0.0034930306  -0.0019932939  0.0012799798     2112.0972  0.02197273   0         0       0.0    0.13674001  -1            1                0                0           98.97748    0.15880647  0             3543741.5  1567040.4   138              3.0                       2018-12-28 13:08:17.510551000\n",
       "1            1443577  -79.00282660535785  152.6337131144976    -0.0033072757  -0.005460351   0.0012954295     2111.9941  0.015203893  0         0       0.0    0.12070798  -1            1                0                0           96.86956    0.15470755  0             3428445.2  1567056.9   144              3.0                       2018-12-28 13:08:17.513373000\n",
       "2            1443581  -79.00770226316052  -70.68951907383446   0.014864666    0.008418874    0.0005335565     184.627    0.010601515  0         0       0.0    0.12233275  4             2                1                4           202.5068    0.23907205  0             821368.3   456252.12   397              3.0                       2019-02-23 01:20:25.102900000\n",
       "3            1443582  -79.00787704800452  -70.68970163845202   0.014720231    0.0057043494   0.0005324582     184.77682  0.011338408  0         0       0.0    0.12369104  4             2                1                4           200.39746   0.23566185  0             794943.7   456265.75   381              3.0                       2019-02-23 01:20:25.105714000\n",
       "4            1443583  -79.00805186741138  -70.68988326285287   0.014575872    0.009426143    0.0006639459     184.91608  0.012034703  0         0       0.0    0.14692499  4             2                1                4           198.28993   0.23225461  0             780100.6   456282.53   388              3.0                       2019-02-23 01:20:25.108526000\n",
       "...          ...      ...                 ...                  ...            ...            ...              ...        ...          ...       ...     ...    ...         ...           ...              ...              ...         ...         ...         ...           ...        ...         ...              ...                       ...\n",
       "133,682,447  1565346  -79.00721045006628  -132.21977068251854  -0.006477784   0.004741233    0.0016565407     1102.3906  0.03348249   0         0       0.0    0.21513973  -1            4                1                2           209.85472   0.6916528   1             494481.06  420435.2    111              3.0                       2019-03-28 17:10:59.581486000\n",
       "133,682,448  1565347  -79.00703565872891  -132.2199529490756   -0.005692235   0.002207704    0.0018826145     1102.4156  0.029799085  0         0       0.0    0.21348575  -1            4                1                2           209.85472   0.6932627   1             514356.84  420444.66   102              3.0                       2019-03-28 17:10:59.584297000\n",
       "133,682,449  1565348  -79.00686084266192  -132.22013452710036  -0.0059905816  -0.003254145   0.0019431423     1102.4171  0.04439576   0         0       0.0    0.21254022  -1            4                1                2           209.85472   0.6948735   1             513579.88  420454.1    90               3.0                       2019-03-28 17:10:59.587110000\n",
       "133,682,450  1565349  -79.00668598596165  -132.22031501663284  -0.006612603   0.0012488412   0.0021047168     1102.4423  0.037854582  0         0       0.0    0.21960956  -1            4                1                2           209.85472   0.6964865   1             496849.22  420463.56   92               3.0                       2019-03-28 17:10:59.589927000\n",
       "133,682,451  1565350  -79.00651108765229  -132.22049439130075  -0.006373983   0.0057607717   0.002044127      1102.5253  0.033580653  0         0       0.0    0.22675054  -1            4                1                2           209.85472   0.6981005   1             479508.7   420473.03   84               3.0                       2019-03-28 17:10:59.592746000"
      ]
     },
     "execution_count": 10,
     "metadata": {},
     "output_type": "execute_result"
    }
   ],
   "source": [
    "gt1l"
   ]
  },
  {
   "cell_type": "code",
   "execution_count": null,
   "id": "guilty-legend",
   "metadata": {},
   "outputs": [],
   "source": []
  }
 ],
 "metadata": {
  "kernelspec": {
   "display_name": "Python 3",
   "language": "python",
   "name": "python3"
  },
  "language_info": {
   "codemirror_mode": {
    "name": "ipython",
    "version": 3
   },
   "file_extension": ".py",
   "mimetype": "text/x-python",
   "name": "python",
   "nbconvert_exporter": "python",
   "pygments_lexer": "ipython3",
   "version": "3.8.9"
  }
 },
 "nbformat": 4,
 "nbformat_minor": 5
}
