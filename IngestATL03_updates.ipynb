{
 "cells": [
  {
   "cell_type": "code",
   "execution_count": 1,
   "id": "becoming-consortium",
   "metadata": {},
   "outputs": [],
   "source": [
    "import h5py\n",
    "import numpy as np\n",
    "import pandas as pd\n",
    "from astropy.time import Time\n",
    "from tqdm import tqdm\n",
    "import os\n",
    "import vaex"
   ]
  },
  {
   "cell_type": "code",
   "execution_count": 2,
   "id": "extraordinary-judge",
   "metadata": {},
   "outputs": [],
   "source": [
    "def gps2dyr(time):\n",
    "    \"\"\"Converts GPS time to datetime (can also do decimal years).\"\"\"\n",
    "    return Time(time, format='gps').datetime"
   ]
  },
  {
   "cell_type": "code",
   "execution_count": 3,
   "id": "historical-bedroom",
   "metadata": {},
   "outputs": [],
   "source": [
    "def read_atl06(fname):\n",
    "    \"\"\"Read one ATL06 file and output 6 reduced files. \n",
    "    \n",
    "    Extract variables of interest and separate the ATL06 file \n",
    "    into each beam (ground track) and ascending/descending orbits.\n",
    "    \"\"\"\n",
    "\n",
    "    # Each beam is a group\n",
    "    group = ['/gt1l', '/gt1r', '/gt2l', '/gt2r', '/gt3l', '/gt3r']\n",
    "    \n",
    "    # Loop trough beams\n",
    "    dataframes = []  # one dataframe per track\n",
    "    \n",
    "    with h5py.File(fname, 'r') as fi:\n",
    "        # Check which ground tracks are present in this file\n",
    "        gtracks = sorted(['/'+k for k in fi.keys() if k.startswith('gt')])\n",
    "    \n",
    "        for k, g in enumerate(gtracks): \n",
    "            # Read in data for a single beam\n",
    "            data = {}\n",
    "            # this is our unique key (per beam)\n",
    "            data['id'] = fi[g+'/land_ice_segments/segment_id'][:]\n",
    "            npts = len(data['id'])\n",
    "            # Load vars into memory (include as many as you want)\n",
    "            data['lat'] = fi[g+'/land_ice_segments/latitude'][:]\n",
    "            data['lon'] = fi[g+'/land_ice_segments/longitude'][:]\n",
    "            \n",
    "            data['slope_y'] = fi[g+'/land_ice_segments/fit_statistics/dh_fit_dy'][:]\n",
    "            data['slope_x'] = fi[g+'/land_ice_segments/fit_statistics/dh_fit_dx'][:]\n",
    "            data['slope_x_sigma'] = fi[g+'/land_ice_segments/fit_statistics/dh_fit_dx_sigma'][:]\n",
    "\n",
    "            data['h_li'] = fi[g+'/land_ice_segments/h_li'][:]\n",
    "            data['s_li'] = fi[g+'/land_ice_segments/h_li_sigma'][:]\n",
    "            data['q_flag'] = fi[g+'/land_ice_segments/atl06_quality_summary'][:]\n",
    "            data['s_fg'] = fi[g+'/land_ice_segments/fit_statistics/signal_selection_source'][:]\n",
    "            data['snr'] = fi[g+'/land_ice_segments/fit_statistics/snr_significance'][:]\n",
    "            data['h_rb'] = fi[g+'/land_ice_segments/fit_statistics/h_robust_sprd'][:]\n",
    "            data['bsnow_conf'] = fi[g+'/land_ice_segments/geophysical/bsnow_conf'][:]\n",
    "            \n",
    "            data['cloud_flg_asr'] = fi[g+'/land_ice_segments/geophysical/cloud_flg_asr'][:]\n",
    "            data['cloud_flg_atm'] = fi[g+'/land_ice_segments/geophysical/cloud_flg_atm'][:]\n",
    "            data['msw_flag'] = fi[g+'/land_ice_segments/geophysical/msw_flag'][:]\n",
    "            data['fbsnow_h'] = fi[g+'/land_ice_segments/geophysical/bsnow_h'][:]\n",
    "            data['bsnow_od'] = fi[g+'/land_ice_segments/geophysical/bsnow_od'][:]\n",
    "            data['layer_flag'] = fi[g+'/land_ice_segments/geophysical/layer_flag'][:]\n",
    "            data['bckgrd'] = fi[g+'/land_ice_segments/geophysical/bckgrd'][:]\n",
    "            data['e_bckgrd'] = fi[g+'/land_ice_segments/geophysical/e_bckgrd'][:]\n",
    "            data['n_fit_photons'] = fi[g+'/land_ice_segments/fit_statistics/n_fit_photons'][:]\n",
    "            data['w_surface_window_final'] = fi[g+'/land_ice_segments/fit_statistics/w_surface_window_final'][:]\n",
    "            \n",
    "            delta_t = fi[g+'/land_ice_segments/delta_time'][:]     # for time conversion\n",
    "            t_ref = fi['/ancillary_data/atlas_sdp_gps_epoch'][:]     # single value\n",
    "            \n",
    "            # Time in GPS seconds (secs since Jan 5, 1980)\n",
    "            t_gps = t_ref + delta_t\n",
    "\n",
    "            # GPS sec to datetime\n",
    "            data['t_year'] = gps2dyr(t_gps)\n",
    "            data['cycle'] = np.ones(npts, dtype=np.int8)*3\n",
    "            # Make a dataframe out of our data dict and store it.\n",
    "            dataframes.append(pd.DataFrame.from_dict(data))\n",
    "        \n",
    "    return dataframes"
   ]
  },
  {
   "cell_type": "code",
   "execution_count": 4,
   "id": "trained-relief",
   "metadata": {},
   "outputs": [],
   "source": [
    "#seed = read_atl06('./ATL06_20190329071316_13870211_004_01.h5')"
   ]
  },
  {
   "cell_type": "code",
   "execution_count": 5,
   "id": "cordless-gossip",
   "metadata": {},
   "outputs": [],
   "source": [
    "#Pgt1l = seed[0].iloc[:2]\n",
    "#Pgt1r = seed[1].iloc[:2]\n",
    "#Pgt2l = seed[2].iloc[:2]\n",
    "#Pgt2r = seed[3].iloc[:2]\n",
    "#Pgt3l = seed[4].iloc[:2]\n",
    "#Pgt3r = seed[5].iloc[:2]"
   ]
  },
  {
   "cell_type": "code",
   "execution_count": 7,
   "id": "narrow-harrison",
   "metadata": {},
   "outputs": [],
   "source": [
    "#gt1l = vaex.from_pandas(Pgt1l, copy_index=False)\n",
    "#gt1r = vaex.from_pandas(Pgt1r, copy_index=False)\n",
    "#gt2l = vaex.from_pandas(Pgt2l, copy_index=False)\n",
    "#gt2r = vaex.from_pandas(Pgt2r, copy_index=False)\n",
    "#gt3l = vaex.from_pandas(Pgt3l, copy_index=False)\n",
    "#gt3r = vaex.from_pandas(Pgt3r, copy_index=False)\n",
    "\n",
    "#gt1l = vaex.open('./gt1l.arrow')\n",
    "gt1r = vaex.open('./gt1r.arrow')\n",
    "gt2l = vaex.open('./gt2l.arrow')\n",
    "gt2r = vaex.open('./gt2r.arrow')\n",
    "gt3l = vaex.open('./gt3l.arrow')\n",
    "gt3r = vaex.open('./gt3r.arrow')"
   ]
  },
  {
   "cell_type": "code",
   "execution_count": null,
   "id": "judicial-kernel",
   "metadata": {},
   "outputs": [],
   "source": [
    "import "
   ]
  },
  {
   "cell_type": "code",
   "execution_count": 10,
   "id": "julian-translation",
   "metadata": {},
   "outputs": [
    {
     "data": {
      "text/html": [
       "<table>\n",
       "<thead>\n",
       "<tr><th>#                                      </th><th>id     </th><th>lat               </th><th>lon                </th><th>slope_y               </th><th>slope_x               </th><th>slope_x_sigma         </th><th>h_li              </th><th>s_li                </th><th>q_flag  </th><th>s_fg  </th><th>snr  </th><th>h_rb               </th><th>bsnow_conf  </th><th>cloud_flg_asr  </th><th>cloud_flg_atm  </th><th>msw_flag  </th><th>fbsnow_h          </th><th>bsnow_od           </th><th>layer_flag  </th><th>bckgrd      </th><th>e_bckgrd    </th><th>n_fit_photons  </th><th>w_surface_window_final  </th><th>t_year                    </th></tr>\n",
       "</thead>\n",
       "<tbody>\n",
       "<tr><td><i style='opacity: 0.6'>0</i>          </td><td>1443576</td><td>-79.00247122325653</td><td>152.62909329494573 </td><td>-0.0034930305555462837</td><td>-0.0038709579966962337</td><td>0.00046775228111073375</td><td>2112.461181640625 </td><td>0.010477527044713497</td><td>0       </td><td>0     </td><td>0.0  </td><td>0.12101969867944717</td><td>-1          </td><td>1              </td><td>0              </td><td>0         </td><td>98.97747802734375 </td><td>0.1588064730167389 </td><td>0           </td><td>3330481.5   </td><td>1531305.625 </td><td>521            </td><td>3.0                     </td><td>2018-12-28 13:08:17.870353</td></tr>\n",
       "<tr><td><i style='opacity: 0.6'>1</i>          </td><td>1443577</td><td>-79.00264603693901</td><td>152.6289116414406  </td><td>-0.0033072757069021463</td><td>-0.008206631988286972 </td><td>0.0005228850059211254 </td><td>2112.3388671875   </td><td>0.009917333722114563</td><td>0       </td><td>0     </td><td>0.0  </td><td>0.11104678362607956</td><td>-1          </td><td>1              </td><td>0              </td><td>0         </td><td>96.86956024169922 </td><td>0.15470755100250244</td><td>0           </td><td>3344116.5   </td><td>1531321.625 </td><td>504            </td><td>3.0                     </td><td>2018-12-28 13:08:17.873166</td></tr>\n",
       "<tr><td><i style='opacity: 0.6'>2</i>          </td><td>1443581</td><td>-79.00752245258117</td><td>-70.6943691405194  </td><td>0.014864666387438774  </td><td>0.008721026591956615  </td><td>0.0013260508421808481 </td><td>183.06307983398438</td><td>0.027073273435235023</td><td>0       </td><td>0     </td><td>0.0  </td><td>0.16084477305412292</td><td>4           </td><td>2              </td><td>1              </td><td>4         </td><td>202.50680541992188</td><td>0.2390720546245575 </td><td>0           </td><td>739329.125  </td><td>384736.78125</td><td>112            </td><td>3.0                     </td><td>2019-02-23 01:20:25.464276</td></tr>\n",
       "<tr><td><i style='opacity: 0.6'>3</i>          </td><td>1443582</td><td>-79.00769747403395</td><td>-70.69454532910781 </td><td>0.014720231294631958  </td><td>0.00877853762358427   </td><td>0.0010059431660920382 </td><td>183.2300262451172 </td><td>0.020507626235485077</td><td>0       </td><td>0     </td><td>0.0  </td><td>0.1285490095615387 </td><td>4           </td><td>2              </td><td>1              </td><td>4         </td><td>200.3974609375    </td><td>0.2356618493795395 </td><td>0           </td><td>725386.6875 </td><td>384747.40625</td><td>119            </td><td>3.0                     </td><td>2019-02-23 01:20:25.467113</td></tr>\n",
       "<tr><td><i style='opacity: 0.6'>4</i>          </td><td>1443583</td><td>-79.00787249736605</td><td>-70.69472147124445 </td><td>0.014575871638953686  </td><td>0.007440008223056793  </td><td>0.0013597721699625254 </td><td>183.38632202148438</td><td>0.03146978095173836 </td><td>0       </td><td>0     </td><td>0.0  </td><td>0.15692085027694702</td><td>4           </td><td>2              </td><td>1              </td><td>4         </td><td>198.28993225097656</td><td>0.23225460946559906</td><td>0           </td><td>720453.75   </td><td>384761.53125</td><td>103            </td><td>3.0                     </td><td>2019-02-23 01:20:25.469949</td></tr>\n",
       "<tr><td>...                                    </td><td>...    </td><td>...               </td><td>...                </td><td>...                   </td><td>...                   </td><td>...                   </td><td>...               </td><td>...                 </td><td>...     </td><td>...   </td><td>...  </td><td>...                </td><td>...         </td><td>...            </td><td>...            </td><td>...       </td><td>...               </td><td>...                </td><td>...         </td><td>...         </td><td>...         </td><td>...            </td><td>...                     </td><td>...                       </td></tr>\n",
       "<tr><td><i style='opacity: 0.6'>133,682,447</i></td><td>1565346</td><td>-79.00705393268645</td><td>-132.21556773731749</td><td>-0.006477783899754286 </td><td>0.0013406918151304126 </td><td>0.0035417911130934954 </td><td>1102.985107421875 </td><td>0.0550558902323246  </td><td>0       </td><td>0     </td><td>0.0  </td><td>0.14228999614715576</td><td>-1          </td><td>4              </td><td>1              </td><td>2         </td><td>209.85472106933594</td><td>0.691652774810791  </td><td>1           </td><td>451009.6875 </td><td>354604.03125</td><td>20             </td><td>3.0                     </td><td>2019-03-28 17:10:59.942291</td></tr>\n",
       "<tr><td><i style='opacity: 0.6'>133,682,448</i></td><td>1565347</td><td>-79.00687892642271</td><td>-132.2157441847106 </td><td>-0.005692235194146633 </td><td>-0.008524035103619099 </td><td>0.004340614657849073  </td><td>1102.9365234375   </td><td>0.04776083678007126 </td><td>0       </td><td>0     </td><td>0.0  </td><td>0.20151501893997192</td><td>-1          </td><td>4              </td><td>1              </td><td>2         </td><td>209.85472106933594</td><td>0.6932626962661743 </td><td>1           </td><td>433255.3125 </td><td>354612.0    </td><td>18             </td><td>3.0                     </td><td>2019-03-28 17:10:59.945103</td></tr>\n",
       "<tr><td><i style='opacity: 0.6'>133,682,449</i></td><td>1565348</td><td>-79.00670402584493</td><td>-132.21592350411126</td><td>-0.005990581586956978 </td><td>0.0020828170236200094 </td><td>0.007239909842610359  </td><td>1102.9647216796875</td><td>0.0763402134180069  </td><td>0       </td><td>0     </td><td>0.0  </td><td>0.34467920660972595</td><td>-1          </td><td>4              </td><td>1              </td><td>2         </td><td>209.85472106933594</td><td>0.6948735117912292 </td><td>1           </td><td>420491.84375</td><td>354619.09375</td><td>21             </td><td>3.0                     </td><td>2019-03-28 17:10:59.947921</td></tr>\n",
       "<tr><td><i style='opacity: 0.6'>133,682,450</i></td><td>1565349</td><td>-79.00652927174954</td><td>-132.21610675971414</td><td>-0.006612603086978197 </td><td>0.0049421414732933044 </td><td>0.003202562453225255  </td><td>1103.0465087890625</td><td>0.04750864952802658 </td><td>0       </td><td>0     </td><td>0.0  </td><td>0.19493642449378967</td><td>-1          </td><td>4              </td><td>1              </td><td>2         </td><td>209.85472106933594</td><td>0.6964864730834961 </td><td>1           </td><td>410111.875  </td><td>354627.96875</td><td>25             </td><td>3.0                     </td><td>2019-03-28 17:10:59.950749</td></tr>\n",
       "<tr><td><i style='opacity: 0.6'>133,682,451</i></td><td>1565350</td><td>-79.00635458273874</td><td>-132.21629177082679</td><td>-0.00637398287653923  </td><td>-0.002581090433523059 </td><td>0.002241050126031041  </td><td>1103.1070556640625</td><td>0.07172665745019913 </td><td>0       </td><td>0     </td><td>0.0  </td><td>0.14733345806598663</td><td>-1          </td><td>4              </td><td>1              </td><td>2         </td><td>209.85472106933594</td><td>0.6981005072593689 </td><td>1           </td><td>418578.96875</td><td>354635.9375 </td><td>31             </td><td>3.0                     </td><td>2019-03-28 17:10:59.953580</td></tr>\n",
       "</tbody>\n",
       "</table>"
      ],
      "text/plain": [
       "#            id       lat                 lon                  slope_y                 slope_x                 slope_x_sigma           h_li                s_li                  q_flag    s_fg    snr    h_rb                 bsnow_conf    cloud_flg_asr    cloud_flg_atm    msw_flag    fbsnow_h            bsnow_od             layer_flag    bckgrd        e_bckgrd      n_fit_photons    w_surface_window_final    t_year\n",
       "0            1443576  -79.00247122325653  152.62909329494573   -0.0034930305555462837  -0.0038709579966962337  0.00046775228111073375  2112.461181640625   0.010477527044713497  0         0       0.0    0.12101969867944717  -1            1                0                0           98.97747802734375   0.1588064730167389   0             3330481.5     1531305.625   521              3.0                       2018-12-28 13:08:17.870353\n",
       "1            1443577  -79.00264603693901  152.6289116414406    -0.0033072757069021463  -0.008206631988286972   0.0005228850059211254   2112.3388671875     0.009917333722114563  0         0       0.0    0.11104678362607956  -1            1                0                0           96.86956024169922   0.15470755100250244  0             3344116.5     1531321.625   504              3.0                       2018-12-28 13:08:17.873166\n",
       "2            1443581  -79.00752245258117  -70.6943691405194    0.014864666387438774    0.008721026591956615    0.0013260508421808481   183.06307983398438  0.027073273435235023  0         0       0.0    0.16084477305412292  4             2                1                4           202.50680541992188  0.2390720546245575   0             739329.125    384736.78125  112              3.0                       2019-02-23 01:20:25.464276\n",
       "3            1443582  -79.00769747403395  -70.69454532910781   0.014720231294631958    0.00877853762358427     0.0010059431660920382   183.2300262451172   0.020507626235485077  0         0       0.0    0.1285490095615387   4             2                1                4           200.3974609375      0.2356618493795395   0             725386.6875   384747.40625  119              3.0                       2019-02-23 01:20:25.467113\n",
       "4            1443583  -79.00787249736605  -70.69472147124445   0.014575871638953686    0.007440008223056793    0.0013597721699625254   183.38632202148438  0.03146978095173836   0         0       0.0    0.15692085027694702  4             2                1                4           198.28993225097656  0.23225460946559906  0             720453.75     384761.53125  103              3.0                       2019-02-23 01:20:25.469949\n",
       "...          ...      ...                 ...                  ...                     ...                     ...                     ...                 ...                   ...       ...     ...    ...                  ...           ...              ...              ...         ...                 ...                  ...           ...           ...           ...              ...                       ...\n",
       "133,682,447  1565346  -79.00705393268645  -132.21556773731749  -0.006477783899754286   0.0013406918151304126   0.0035417911130934954   1102.985107421875   0.0550558902323246    0         0       0.0    0.14228999614715576  -1            4                1                2           209.85472106933594  0.691652774810791    1             451009.6875   354604.03125  20               3.0                       2019-03-28 17:10:59.942291\n",
       "133,682,448  1565347  -79.00687892642271  -132.2157441847106   -0.005692235194146633   -0.008524035103619099   0.004340614657849073    1102.9365234375     0.04776083678007126   0         0       0.0    0.20151501893997192  -1            4                1                2           209.85472106933594  0.6932626962661743   1             433255.3125   354612.0      18               3.0                       2019-03-28 17:10:59.945103\n",
       "133,682,449  1565348  -79.00670402584493  -132.21592350411126  -0.005990581586956978   0.0020828170236200094   0.007239909842610359    1102.9647216796875  0.0763402134180069    0         0       0.0    0.34467920660972595  -1            4                1                2           209.85472106933594  0.6948735117912292   1             420491.84375  354619.09375  21               3.0                       2019-03-28 17:10:59.947921\n",
       "133,682,450  1565349  -79.00652927174954  -132.21610675971414  -0.006612603086978197   0.0049421414732933044   0.003202562453225255    1103.0465087890625  0.04750864952802658   0         0       0.0    0.19493642449378967  -1            4                1                2           209.85472106933594  0.6964864730834961   1             410111.875    354627.96875  25               3.0                       2019-03-28 17:10:59.950749\n",
       "133,682,451  1565350  -79.00635458273874  -132.21629177082679  -0.00637398287653923    -0.002581090433523059   0.002241050126031041    1103.1070556640625  0.07172665745019913   0         0       0.0    0.14733345806598663  -1            4                1                2           209.85472106933594  0.6981005072593689   1             418578.96875  354635.9375   31               3.0                       2019-03-28 17:10:59.953580"
      ]
     },
     "execution_count": 10,
     "metadata": {},
     "output_type": "execute_result"
    }
   ],
   "source": [
    "gt1r"
   ]
  },
  {
   "cell_type": "code",
   "execution_count": 9,
   "id": "excellent-idaho",
   "metadata": {},
   "outputs": [
    {
     "data": {
      "text/plain": [
       "array([1., 1., 1., ..., 1., 1., 1.])"
      ]
     },
     "execution_count": 9,
     "metadata": {},
     "output_type": "execute_result"
    }
   ],
   "source": [
    "np.ones(len(gt1l), dtype=np.int8)"
   ]
  },
  {
   "cell_type": "code",
   "execution_count": 10,
   "id": "leading-hollow",
   "metadata": {},
   "outputs": [],
   "source": [
    "for df in [gt1l, gt1r, gt2l, gt2r, gt3l, gt3r]:\n",
    "    df['cycle'] = np.ones(len(df), dtype=np.int8)*2"
   ]
  },
  {
   "cell_type": "code",
   "execution_count": 13,
   "id": "federal-freeware",
   "metadata": {},
   "outputs": [],
   "source": [
    "files = os.listdir('./data/')"
   ]
  },
  {
   "cell_type": "code",
   "execution_count": 14,
   "id": "magnetic-tongue",
   "metadata": {},
   "outputs": [
    {
     "name": "stderr",
     "output_type": "stream",
     "text": [
      "100%|██████████| 1335/1335 [2:06:32<00:00,  5.69s/it] \n"
     ]
    }
   ],
   "source": [
    "for file in tqdm(files):\n",
    "    dfs = read_atl06('./data/' + file)\n",
    "    gt1l = gt1l.concat(vaex.from_pandas(dfs[0], copy_index=False))\n",
    "    gt1r = gt1r.concat(vaex.from_pandas(dfs[1], copy_index=False))\n",
    "    gt2l = gt2l.concat(vaex.from_pandas(dfs[2], copy_index=False))\n",
    "    gt2r = gt2r.concat(vaex.from_pandas(dfs[3], copy_index=False))\n",
    "    gt3l = gt3l.concat(vaex.from_pandas(dfs[4], copy_index=False))\n",
    "    gt3r = gt3r.concat(vaex.from_pandas(dfs[5], copy_index=False))"
   ]
  },
  {
   "cell_type": "code",
   "execution_count": 15,
   "id": "religious-shower",
   "metadata": {},
   "outputs": [
    {
     "data": {
      "text/html": [
       "<table>\n",
       "<thead>\n",
       "<tr><th>#                                      </th><th>id     </th><th>lat               </th><th>lon               </th><th>slope_y               </th><th>slope_x               </th><th>slope_x_sigma        </th><th>h_li              </th><th>s_li                </th><th>q_flag  </th><th>s_fg  </th><th>snr  </th><th>h_rb               </th><th>bsnow_conf  </th><th>cloud_flg_asr  </th><th>cloud_flg_atm  </th><th>msw_flag  </th><th>fbsnow_h              </th><th>bsnow_od              </th><th>layer_flag  </th><th>bckgrd          </th><th>e_bckgrd    </th><th>n_fit_photons  </th><th>w_surface_window_final  </th><th>t_year                    </th><th>cycle  </th></tr>\n",
       "</thead>\n",
       "<tbody>\n",
       "<tr><td><i style='opacity: 0.6'>0</i>          </td><td>1443576</td><td>-79.00265175898602</td><td>152.6338938942904 </td><td>-0.0034930305555462837</td><td>-0.00199329387396574  </td><td>0.0012799798278138041</td><td>2112.09716796875  </td><td>0.02197273075580597 </td><td>0       </td><td>0     </td><td>0.0  </td><td>0.13674001395702362</td><td>-1          </td><td>1              </td><td>0              </td><td>0         </td><td>98.97747802734375     </td><td>0.1588064730167389    </td><td>0           </td><td>3543741.5       </td><td>1567040.375 </td><td>138            </td><td>3.0                     </td><td>2018-12-28 13:08:17.510551</td><td>2      </td></tr>\n",
       "<tr><td><i style='opacity: 0.6'>1</i>          </td><td>1443577</td><td>-79.00282660535785</td><td>152.6337131144976 </td><td>-0.0033072757069021463</td><td>-0.005460350774228573 </td><td>0.0012954295380041003</td><td>2111.994140625    </td><td>0.015203893184661865</td><td>0       </td><td>0     </td><td>0.0  </td><td>0.12070798128843307</td><td>-1          </td><td>1              </td><td>0              </td><td>0         </td><td>96.86956024169922     </td><td>0.15470755100250244   </td><td>0           </td><td>3428445.25      </td><td>1567056.875 </td><td>144            </td><td>3.0                     </td><td>2018-12-28 13:08:17.513373</td><td>2      </td></tr>\n",
       "<tr><td><i style='opacity: 0.6'>2</i>          </td><td>1443581</td><td>-79.00770226316052</td><td>-70.68951907383446</td><td>0.014864666387438774  </td><td>0.008418873883783817  </td><td>0.000533556507434696 </td><td>184.6269989013672 </td><td>0.01060151495039463 </td><td>0       </td><td>0     </td><td>0.0  </td><td>0.12233275175094604</td><td>4           </td><td>2              </td><td>1              </td><td>4         </td><td>202.50680541992188    </td><td>0.2390720546245575    </td><td>0           </td><td>821368.3125     </td><td>456252.125  </td><td>397            </td><td>3.0                     </td><td>2019-02-23 01:20:25.102900</td><td>2      </td></tr>\n",
       "<tr><td><i style='opacity: 0.6'>3</i>          </td><td>1443582</td><td>-79.00787704800452</td><td>-70.68970163845202</td><td>0.014720231294631958  </td><td>0.005704349372535944  </td><td>0.0005324581870809197</td><td>184.77682495117188</td><td>0.01133840810507536 </td><td>0       </td><td>0     </td><td>0.0  </td><td>0.12369103729724884</td><td>4           </td><td>2              </td><td>1              </td><td>4         </td><td>200.3974609375        </td><td>0.2356618493795395    </td><td>0           </td><td>794943.6875     </td><td>456265.75   </td><td>381            </td><td>3.0                     </td><td>2019-02-23 01:20:25.105714</td><td>2      </td></tr>\n",
       "<tr><td><i style='opacity: 0.6'>4</i>          </td><td>1443583</td><td>-79.00805186741138</td><td>-70.68988326285287</td><td>0.014575871638953686  </td><td>0.009426143020391464  </td><td>0.0006639459170401096</td><td>184.91607666015625</td><td>0.01203470304608345 </td><td>0       </td><td>0     </td><td>0.0  </td><td>0.14692498743534088</td><td>4           </td><td>2              </td><td>1              </td><td>4         </td><td>198.28993225097656    </td><td>0.23225460946559906   </td><td>0           </td><td>780100.625      </td><td>456282.53125</td><td>388            </td><td>3.0                     </td><td>2019-02-23 01:20:25.108526</td><td>2      </td></tr>\n",
       "<tr><td>...                                    </td><td>...    </td><td>...               </td><td>...               </td><td>...                   </td><td>...                   </td><td>...                  </td><td>...               </td><td>...                 </td><td>...     </td><td>...   </td><td>...  </td><td>...                </td><td>...         </td><td>...            </td><td>...            </td><td>...       </td><td>...                   </td><td>...                   </td><td>...         </td><td>...             </td><td>...         </td><td>...            </td><td>...                     </td><td>...                       </td><td>...    </td></tr>\n",
       "<tr><td><i style='opacity: 0.6'>278,383,015</i></td><td>1565333</td><td>-79.00691642820257</td><td>157.7220973285058 </td><td>0.020282894372940063  </td><td>-0.0026600060518831015</td><td>0.0019890449475497007</td><td>1352.0867919921875</td><td>0.042511556297540665</td><td>0       </td><td>0     </td><td>0.0  </td><td>0.19723959267139435</td><td>-1          </td><td>5              </td><td>1              </td><td>1         </td><td>3.4028234663852886e+38</td><td>3.4028234663852886e+38</td><td>1           </td><td>5876.80126953125</td><td>0.0         </td><td>78             </td><td>3.0                     </td><td>2019-06-23 17:41:48.858320</td><td>3      </td></tr>\n",
       "<tr><td><i style='opacity: 0.6'>278,383,016</i></td><td>1565334</td><td>-79.00674149912395</td><td>157.7219186494466 </td><td>0.022569799795746803  </td><td>0.0054223197512328625 </td><td>0.0014901709510013461</td><td>1352.1932373046875</td><td>0.03254437819123268 </td><td>0       </td><td>0     </td><td>0.0  </td><td>0.1583598554134369 </td><td>-1          </td><td>5              </td><td>1              </td><td>1         </td><td>3.4028234663852886e+38</td><td>3.4028234663852886e+38</td><td>1           </td><td>5149.26953125   </td><td>0.0         </td><td>81             </td><td>3.0                     </td><td>2019-06-23 17:41:48.861145</td><td>3      </td></tr>\n",
       "<tr><td><i style='opacity: 0.6'>278,383,017</i></td><td>1565335</td><td>-79.00656656409018</td><td>157.72174013784968</td><td>0.022776860743761063  </td><td>0.0020033831242471933 </td><td>0.0012969662202522159</td><td>1352.2843017578125</td><td>0.029721293598413467</td><td>0       </td><td>0     </td><td>0.0  </td><td>0.12487281858921051</td><td>-1          </td><td>5              </td><td>1              </td><td>1         </td><td>3.4028234663852886e+38</td><td>3.4028234663852886e+38</td><td>1           </td><td>6185.1708984375 </td><td>0.0         </td><td>70             </td><td>3.0                     </td><td>2019-06-23 17:41:48.863969</td><td>3      </td></tr>\n",
       "<tr><td><i style='opacity: 0.6'>278,383,018</i></td><td>1565336</td><td>-79.00639162651767</td><td>157.72156170763117</td><td>0.02158433012664318   </td><td>0.0016407748917117715 </td><td>0.0014232911635190248</td><td>1352.3492431640625</td><td>0.034284960478544235</td><td>0       </td><td>0     </td><td>0.0  </td><td>0.14026929438114166</td><td>-1          </td><td>5              </td><td>1              </td><td>1         </td><td>3.4028234663852886e+38</td><td>3.4028234663852886e+38</td><td>1           </td><td>6597.64794921875</td><td>0.0         </td><td>75             </td><td>3.0                     </td><td>2019-06-23 17:41:48.866792</td><td>3      </td></tr>\n",
       "<tr><td><i style='opacity: 0.6'>278,383,019</i></td><td>1565337</td><td>-79.00621667659706</td><td>157.72138360998906</td><td>3.4028234663852886e+38</td><td>0.01041258405894041   </td><td>0.0015169597463682294</td><td>1352.4605712890625</td><td>0.03374701738357544 </td><td>0       </td><td>0     </td><td>0.0  </td><td>0.1524612456560135 </td><td>-1          </td><td>5              </td><td>1              </td><td>1         </td><td>3.4028234663852886e+38</td><td>3.4028234663852886e+38</td><td>1           </td><td>6597.11328125   </td><td>0.0         </td><td>82             </td><td>3.0                     </td><td>2019-06-23 17:41:48.869612</td><td>3      </td></tr>\n",
       "</tbody>\n",
       "</table>"
      ],
      "text/plain": [
       "#            id       lat                 lon                 slope_y                 slope_x                 slope_x_sigma          h_li                s_li                  q_flag    s_fg    snr    h_rb                 bsnow_conf    cloud_flg_asr    cloud_flg_atm    msw_flag    fbsnow_h                bsnow_od                layer_flag    bckgrd            e_bckgrd      n_fit_photons    w_surface_window_final    t_year                      cycle\n",
       "0            1443576  -79.00265175898602  152.6338938942904   -0.0034930305555462837  -0.00199329387396574    0.0012799798278138041  2112.09716796875    0.02197273075580597   0         0       0.0    0.13674001395702362  -1            1                0                0           98.97747802734375       0.1588064730167389      0             3543741.5         1567040.375   138              3.0                       2018-12-28 13:08:17.510551  2\n",
       "1            1443577  -79.00282660535785  152.6337131144976   -0.0033072757069021463  -0.005460350774228573   0.0012954295380041003  2111.994140625      0.015203893184661865  0         0       0.0    0.12070798128843307  -1            1                0                0           96.86956024169922       0.15470755100250244     0             3428445.25        1567056.875   144              3.0                       2018-12-28 13:08:17.513373  2\n",
       "2            1443581  -79.00770226316052  -70.68951907383446  0.014864666387438774    0.008418873883783817    0.000533556507434696   184.6269989013672   0.01060151495039463   0         0       0.0    0.12233275175094604  4             2                1                4           202.50680541992188      0.2390720546245575      0             821368.3125       456252.125    397              3.0                       2019-02-23 01:20:25.102900  2\n",
       "3            1443582  -79.00787704800452  -70.68970163845202  0.014720231294631958    0.005704349372535944    0.0005324581870809197  184.77682495117188  0.01133840810507536   0         0       0.0    0.12369103729724884  4             2                1                4           200.3974609375          0.2356618493795395      0             794943.6875       456265.75     381              3.0                       2019-02-23 01:20:25.105714  2\n",
       "4            1443583  -79.00805186741138  -70.68988326285287  0.014575871638953686    0.009426143020391464    0.0006639459170401096  184.91607666015625  0.01203470304608345   0         0       0.0    0.14692498743534088  4             2                1                4           198.28993225097656      0.23225460946559906     0             780100.625        456282.53125  388              3.0                       2019-02-23 01:20:25.108526  2\n",
       "...          ...      ...                 ...                 ...                     ...                     ...                    ...                 ...                   ...       ...     ...    ...                  ...           ...              ...              ...         ...                     ...                     ...           ...               ...           ...              ...                       ...                         ...\n",
       "278,383,015  1565333  -79.00691642820257  157.7220973285058   0.020282894372940063    -0.0026600060518831015  0.0019890449475497007  1352.0867919921875  0.042511556297540665  0         0       0.0    0.19723959267139435  -1            5                1                1           3.4028234663852886e+38  3.4028234663852886e+38  1             5876.80126953125  0.0           78               3.0                       2019-06-23 17:41:48.858320  3\n",
       "278,383,016  1565334  -79.00674149912395  157.7219186494466   0.022569799795746803    0.0054223197512328625   0.0014901709510013461  1352.1932373046875  0.03254437819123268   0         0       0.0    0.1583598554134369   -1            5                1                1           3.4028234663852886e+38  3.4028234663852886e+38  1             5149.26953125     0.0           81               3.0                       2019-06-23 17:41:48.861145  3\n",
       "278,383,017  1565335  -79.00656656409018  157.72174013784968  0.022776860743761063    0.0020033831242471933   0.0012969662202522159  1352.2843017578125  0.029721293598413467  0         0       0.0    0.12487281858921051  -1            5                1                1           3.4028234663852886e+38  3.4028234663852886e+38  1             6185.1708984375   0.0           70               3.0                       2019-06-23 17:41:48.863969  3\n",
       "278,383,018  1565336  -79.00639162651767  157.72156170763117  0.02158433012664318     0.0016407748917117715   0.0014232911635190248  1352.3492431640625  0.034284960478544235  0         0       0.0    0.14026929438114166  -1            5                1                1           3.4028234663852886e+38  3.4028234663852886e+38  1             6597.64794921875  0.0           75               3.0                       2019-06-23 17:41:48.866792  3\n",
       "278,383,019  1565337  -79.00621667659706  157.72138360998906  3.4028234663852886e+38  0.01041258405894041     0.0015169597463682294  1352.4605712890625  0.03374701738357544   0         0       0.0    0.1524612456560135   -1            5                1                1           3.4028234663852886e+38  3.4028234663852886e+38  1             6597.11328125     0.0           82               3.0                       2019-06-23 17:41:48.869612  3"
      ]
     },
     "execution_count": 15,
     "metadata": {},
     "output_type": "execute_result"
    }
   ],
   "source": [
    "gt1l"
   ]
  },
  {
   "cell_type": "code",
   "execution_count": 16,
   "id": "modified-brief",
   "metadata": {},
   "outputs": [
    {
     "ename": "OSError",
     "evalue": "[Errno 14] Bad address",
     "output_type": "error",
     "traceback": [
      "\u001b[0;31m---------------------------------------------------------------------------\u001b[0m",
      "\u001b[0;31mOSError\u001b[0m                                   Traceback (most recent call last)",
      "\u001b[0;32m<ipython-input-16-c9ab367ce175>\u001b[0m in \u001b[0;36m<module>\u001b[0;34m\u001b[0m\n\u001b[0;32m----> 1\u001b[0;31m \u001b[0mgt1l\u001b[0m\u001b[0;34m.\u001b[0m\u001b[0mexport_arrow\u001b[0m\u001b[0;34m(\u001b[0m\u001b[0;34m'./gt1l.arrow'\u001b[0m\u001b[0;34m)\u001b[0m\u001b[0;34m\u001b[0m\u001b[0;34m\u001b[0m\u001b[0m\n\u001b[0m\u001b[1;32m      2\u001b[0m \u001b[0mgt1r\u001b[0m\u001b[0;34m.\u001b[0m\u001b[0mexport_arrow\u001b[0m\u001b[0;34m(\u001b[0m\u001b[0;34m'./gt1r.arrow'\u001b[0m\u001b[0;34m)\u001b[0m\u001b[0;34m\u001b[0m\u001b[0;34m\u001b[0m\u001b[0m\n\u001b[1;32m      3\u001b[0m \u001b[0mgt2l\u001b[0m\u001b[0;34m.\u001b[0m\u001b[0mexport_arrow\u001b[0m\u001b[0;34m(\u001b[0m\u001b[0;34m'./gt2l.arrow'\u001b[0m\u001b[0;34m)\u001b[0m\u001b[0;34m\u001b[0m\u001b[0;34m\u001b[0m\u001b[0m\n\u001b[1;32m      4\u001b[0m \u001b[0mgt2r\u001b[0m\u001b[0;34m.\u001b[0m\u001b[0mexport_arrow\u001b[0m\u001b[0;34m(\u001b[0m\u001b[0;34m'./gt2r.arrow'\u001b[0m\u001b[0;34m)\u001b[0m\u001b[0;34m\u001b[0m\u001b[0;34m\u001b[0m\u001b[0m\n\u001b[1;32m      5\u001b[0m \u001b[0mgt3l\u001b[0m\u001b[0;34m.\u001b[0m\u001b[0mexport_arrow\u001b[0m\u001b[0;34m(\u001b[0m\u001b[0;34m'./gt3l.arrow'\u001b[0m\u001b[0;34m)\u001b[0m\u001b[0;34m\u001b[0m\u001b[0;34m\u001b[0m\u001b[0m\n",
      "\u001b[0;32m/home/jupyter/iceDivides/_build/pip_packages/lib/python3.8/site-packages/vaex/dataframe.py\u001b[0m in \u001b[0;36mexport_arrow\u001b[0;34m(self, to, progress, chunk_size, parallel, reduce_large, fs_options, fs, as_stream)\u001b[0m\n\u001b[1;32m   6317\u001b[0m                 \u001b[0;32mif\u001b[0m \u001b[0mas_stream\u001b[0m\u001b[0;34m:\u001b[0m\u001b[0;34m\u001b[0m\u001b[0;34m\u001b[0m\u001b[0m\n\u001b[1;32m   6318\u001b[0m                     \u001b[0;32mwith\u001b[0m \u001b[0mpa\u001b[0m\u001b[0;34m.\u001b[0m\u001b[0mRecordBatchStreamWriter\u001b[0m\u001b[0;34m(\u001b[0m\u001b[0msink\u001b[0m\u001b[0;34m,\u001b[0m \u001b[0mschema\u001b[0m\u001b[0;34m)\u001b[0m \u001b[0;32mas\u001b[0m \u001b[0mwriter\u001b[0m\u001b[0;34m:\u001b[0m\u001b[0;34m\u001b[0m\u001b[0;34m\u001b[0m\u001b[0m\n\u001b[0;32m-> 6319\u001b[0;31m                         \u001b[0mwrite\u001b[0m\u001b[0;34m(\u001b[0m\u001b[0mwriter\u001b[0m\u001b[0;34m)\u001b[0m\u001b[0;34m\u001b[0m\u001b[0;34m\u001b[0m\u001b[0m\n\u001b[0m\u001b[1;32m   6320\u001b[0m                 \u001b[0;32melse\u001b[0m\u001b[0;34m:\u001b[0m\u001b[0;34m\u001b[0m\u001b[0;34m\u001b[0m\u001b[0m\n\u001b[1;32m   6321\u001b[0m                     \u001b[0;32mwith\u001b[0m \u001b[0mpa\u001b[0m\u001b[0;34m.\u001b[0m\u001b[0mRecordBatchFileWriter\u001b[0m\u001b[0;34m(\u001b[0m\u001b[0msink\u001b[0m\u001b[0;34m,\u001b[0m \u001b[0mschema\u001b[0m\u001b[0;34m)\u001b[0m \u001b[0;32mas\u001b[0m \u001b[0mwriter\u001b[0m\u001b[0;34m:\u001b[0m\u001b[0;34m\u001b[0m\u001b[0;34m\u001b[0m\u001b[0m\n",
      "\u001b[0;32m/home/jupyter/iceDivides/_build/pip_packages/lib/python3.8/site-packages/vaex/dataframe.py\u001b[0m in \u001b[0;36mwrite\u001b[0;34m(writer)\u001b[0m\n\u001b[1;32m   6305\u001b[0m             \u001b[0;32mif\u001b[0m \u001b[0mchunk_size\u001b[0m\u001b[0;34m:\u001b[0m\u001b[0;34m\u001b[0m\u001b[0;34m\u001b[0m\u001b[0m\n\u001b[1;32m   6306\u001b[0m                 \u001b[0;32mfor\u001b[0m \u001b[0mi1\u001b[0m\u001b[0;34m,\u001b[0m \u001b[0mi2\u001b[0m\u001b[0;34m,\u001b[0m \u001b[0mtable\u001b[0m \u001b[0;32min\u001b[0m \u001b[0mself\u001b[0m\u001b[0;34m.\u001b[0m\u001b[0mto_arrow_table\u001b[0m\u001b[0;34m(\u001b[0m\u001b[0mchunk_size\u001b[0m\u001b[0;34m=\u001b[0m\u001b[0mchunk_size\u001b[0m\u001b[0;34m,\u001b[0m \u001b[0mparallel\u001b[0m\u001b[0;34m=\u001b[0m\u001b[0mparallel\u001b[0m\u001b[0;34m,\u001b[0m \u001b[0mreduce_large\u001b[0m\u001b[0;34m=\u001b[0m\u001b[0mreduce_large\u001b[0m\u001b[0;34m)\u001b[0m\u001b[0;34m:\u001b[0m\u001b[0;34m\u001b[0m\u001b[0;34m\u001b[0m\u001b[0m\n\u001b[0;32m-> 6307\u001b[0;31m                     \u001b[0mwriter\u001b[0m\u001b[0;34m.\u001b[0m\u001b[0mwrite_table\u001b[0m\u001b[0;34m(\u001b[0m\u001b[0mtable\u001b[0m\u001b[0;34m)\u001b[0m\u001b[0;34m\u001b[0m\u001b[0;34m\u001b[0m\u001b[0m\n\u001b[0m\u001b[1;32m   6308\u001b[0m                     \u001b[0mprogressbar\u001b[0m\u001b[0;34m(\u001b[0m\u001b[0mi2\u001b[0m\u001b[0;34m/\u001b[0m\u001b[0mN\u001b[0m\u001b[0;34m)\u001b[0m\u001b[0;34m\u001b[0m\u001b[0;34m\u001b[0m\u001b[0m\n\u001b[1;32m   6309\u001b[0m                 \u001b[0mprogressbar\u001b[0m\u001b[0;34m(\u001b[0m\u001b[0;36m1.\u001b[0m\u001b[0;34m)\u001b[0m\u001b[0;34m\u001b[0m\u001b[0;34m\u001b[0m\u001b[0m\n",
      "\u001b[0;32m/home/jupyter/iceDivides/_build/pip_packages/lib/python3.8/site-packages/pyarrow/ipc.pxi\u001b[0m in \u001b[0;36mpyarrow.lib._CRecordBatchWriter.write_table\u001b[0;34m()\u001b[0m\n",
      "\u001b[0;31mOSError\u001b[0m: [Errno 14] Bad address"
     ]
    }
   ],
   "source": [
    "gt1l.export_arrow('./gt1l.arrow')\n",
    "gt1r.export_arrow('./gt1r.arrow')\n",
    "gt2l.export_arrow('./gt2l.arrow')\n",
    "gt2r.export_arrow('./gt2r.arrow')\n",
    "gt3l.export_arrow('./gt3l.arrow')\n",
    "gt3r.export_arrow('./gt3r.arrow')\n"
   ]
  },
  {
   "cell_type": "code",
   "execution_count": null,
   "id": "enormous-notice",
   "metadata": {},
   "outputs": [],
   "source": [
    "gt1l"
   ]
  },
  {
   "cell_type": "code",
   "execution_count": null,
   "id": "regional-upper",
   "metadata": {},
   "outputs": [],
   "source": []
  }
 ],
 "metadata": {
  "kernelspec": {
   "display_name": "Python 3",
   "language": "python",
   "name": "python3"
  },
  "language_info": {
   "codemirror_mode": {
    "name": "ipython",
    "version": 3
   },
   "file_extension": ".py",
   "mimetype": "text/x-python",
   "name": "python",
   "nbconvert_exporter": "python",
   "pygments_lexer": "ipython3",
   "version": "3.8.9"
  }
 },
 "nbformat": 4,
 "nbformat_minor": 5
}
