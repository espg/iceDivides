{
 "cells": [
  {
   "cell_type": "code",
   "execution_count": 1,
   "id": "48c32734-ec43-4230-8efd-4cbb1401a65c",
   "metadata": {},
   "outputs": [],
   "source": [
    "import vaex\n",
    "import vaex.jupyter.model as vjm\n",
    "\n",
    "import numpy as np\n",
    "from numpy import r_\n",
    "import pandas as pd\n",
    "import matplotlib.pyplot as plt\n",
    "\n",
    "import mhealpy as mh\n",
    "\n",
    "from numba import jit, int64, vectorize"
   ]
  },
  {
   "cell_type": "code",
   "execution_count": 2,
   "id": "7f054650-9e01-4f74-89c4-5ae3a48eaa41",
   "metadata": {},
   "outputs": [
    {
     "data": {
      "text/html": [
       "<table>\n",
       "<thead>\n",
       "<tr><th>#                                        </th><th>id     </th><th>lat               </th><th>lon                </th><th>slope_y               </th><th>slope_x               </th><th>slope_x_sigma         </th><th>h_li                  </th><th>s_li                  </th><th>q_flag  </th><th>s_fg  </th><th>snr                   </th><th>h_rb                  </th><th>bsnow_conf  </th><th>cloud_flg_asr  </th><th>cloud_flg_atm  </th><th>msw_flag  </th><th>fbsnow_h              </th><th>bsnow_od              </th><th>layer_flag  </th><th>bckgrd          </th><th>e_bckgrd              </th><th>n_fit_photons  </th><th>w_surface_window_final  </th><th>t_year                    </th><th>cycle  </th><th>track  </th><th>midx               </th><th>x                  </th><th>y                  </th></tr>\n",
       "</thead>\n",
       "<tbody>\n",
       "<tr><td><i style='opacity: 0.6'>0</i>            </td><td>1411891</td><td>-73.42552448629439</td><td>-23.737491529404053</td><td>3.4028234663852886e+38</td><td>0.003976050298660994  </td><td>0.004737921059131622  </td><td>-0.928657591342926    </td><td>0.05943682789802551   </td><td>0       </td><td>0     </td><td>0.0                   </td><td>0.31860873103141785   </td><td>-1          </td><td>5              </td><td>3              </td><td>2         </td><td>29.979246139526367    </td><td>3.3278605937957764    </td><td>1           </td><td>7129.5341796875 </td><td>0.0                   </td><td>32             </td><td>3.0                     </td><td>2019-05-15 18:32:18.937870</td><td>3      </td><td>gt1l   </td><td>5121313434313234232</td><td>-727639.2099292141 </td><td>1654665.7247102554 </td></tr>\n",
       "<tr><td><i style='opacity: 0.6'>1</i>            </td><td>1411892</td><td>-73.42570108740605</td><td>-23.737578914273882</td><td>3.4028234663852886e+38</td><td>-0.002587417373433709 </td><td>0.005404622759670019  </td><td>-1.074399471282959    </td><td>0.18140001595020294   </td><td>0       </td><td>0     </td><td>0.0                   </td><td>0.3358314335346222    </td><td>-1          </td><td>5              </td><td>2              </td><td>2         </td><td>29.979246139526367    </td><td>3.323024272918701     </td><td>1           </td><td>9199.2119140625 </td><td>0.0                   </td><td>30             </td><td>3.0                     </td><td>2019-05-15 18:32:18.940693</td><td>3      </td><td>gt1l   </td><td>5121313434313234231</td><td>-727633.8756359789 </td><td>1654646.745975993  </td></tr>\n",
       "<tr><td><i style='opacity: 0.6'>2</i>            </td><td>1411893</td><td>-73.42587767946493</td><td>-23.737666524006926</td><td>-0.0034792206715792418</td><td>0.005786192137748003  </td><td>0.009921900928020477  </td><td>-0.9788220524787903   </td><td>0.1321229785680771    </td><td>0       </td><td>0     </td><td>0.0                   </td><td>0.593020498752594     </td><td>-1          </td><td>5              </td><td>2              </td><td>2         </td><td>29.979246139526367    </td><td>3.3182029724121094    </td><td>1           </td><td>9166.1826171875 </td><td>0.0                   </td><td>35             </td><td>3.5581231117248535      </td><td>2019-05-15 18:32:18.943507</td><td>3      </td><td>gt1l   </td><td>5121313434313234231</td><td>-727628.5481865024 </td><td>1654627.7653298955 </td></tr>\n",
       "<tr><td><i style='opacity: 0.6'>3</i>            </td><td>1411894</td><td>-73.42605427224831</td><td>-23.73775412633728 </td><td>0.0016622913535684347 </td><td>-0.019352739676833153 </td><td>0.0043994830921292305 </td><td>-1.0710368156433105   </td><td>0.1024324968457222    </td><td>0       </td><td>0     </td><td>0.0                   </td><td>0.36016562581062317   </td><td>-1          </td><td>5              </td><td>2              </td><td>2         </td><td>29.979246139526367    </td><td>3.3133904933929443    </td><td>1           </td><td>7230.70849609375</td><td>0.0                   </td><td>48             </td><td>3.0                     </td><td>2019-05-15 18:32:18.946315</td><td>3      </td><td>gt1l   </td><td>5121313434313234142</td><td>-727623.2204380583 </td><td>1654608.7847323737 </td></tr>\n",
       "<tr><td><i style='opacity: 0.6'>4</i>            </td><td>1411895</td><td>-73.42623086896181</td><td>-23.737841655037016</td><td>0.004035372287034988  </td><td>0.008749883621931076  </td><td>0.0038084150291979313 </td><td>-1.219468116760254    </td><td>0.060207393020391464  </td><td>0       </td><td>0     </td><td>0.0                   </td><td>0.30477914214134216   </td><td>-1          </td><td>5              </td><td>2              </td><td>2         </td><td>29.979246139526367    </td><td>3.3085813522338867    </td><td>1           </td><td>5390.36962890625</td><td>0.0                   </td><td>48             </td><td>3.0                     </td><td>2019-05-15 18:32:18.949122</td><td>3      </td><td>gt1l   </td><td>5121313434313234123</td><td>-727617.8903354848 </td><td>1654589.8047001245 </td></tr>\n",
       "<tr><td>...                                      </td><td>...    </td><td>...               </td><td>...                </td><td>...                   </td><td>...                   </td><td>...                   </td><td>...                   </td><td>...                   </td><td>...     </td><td>...   </td><td>...                   </td><td>...                   </td><td>...         </td><td>...            </td><td>...            </td><td>...       </td><td>...                   </td><td>...                   </td><td>...         </td><td>...             </td><td>...                   </td><td>...            </td><td>...                     </td><td>...                       </td><td>...    </td><td>...    </td><td>...                </td><td>...                </td><td>...                </td></tr>\n",
       "<tr><td><i style='opacity: 0.6'>1,463,893,173</i></td><td>1569656</td><td>-78.2400490932243 </td><td>-112.14232913945352</td><td>3.4028234663852886e+38</td><td>3.4028234663852886e+38</td><td>3.4028234663852886e+38</td><td>3.4028234663852886e+38</td><td>3.4028234663852886e+38</td><td>1       </td><td>3     </td><td>3.4028234663852886e+38</td><td>3.4028234663852886e+38</td><td>-3          </td><td>5              </td><td>2              </td><td>2         </td><td>29.979246139526367    </td><td>-0.007984576746821404 </td><td>1           </td><td>9233.5322265625 </td><td>3.4028234663852886e+38</td><td>0              </td><td>3.4028234663852886e+38  </td><td>2019-04-13 15:03:34.767862</td><td>3      </td><td>gt3r   </td><td>4112233333421444212</td><td>-1183965.1241931545</td><td>-481777.6041658824 </td></tr>\n",
       "<tr><td><i style='opacity: 0.6'>1,463,893,174</i></td><td>1569657</td><td>-78.2398740994634 </td><td>-112.14249557765775</td><td>3.4028234663852886e+38</td><td>3.4028234663852886e+38</td><td>3.4028234663852886e+38</td><td>3.4028234663852886e+38</td><td>3.4028234663852886e+38</td><td>1       </td><td>3     </td><td>3.4028234663852886e+38</td><td>3.4028234663852886e+38</td><td>-3          </td><td>5              </td><td>2              </td><td>2         </td><td>29.979246139526367    </td><td>-0.008194150403141975 </td><td>1           </td><td>8526.9384765625 </td><td>3.4028234663852886e+38</td><td>0              </td><td>3.4028234663852886e+38  </td><td>2019-04-13 15:03:34.770912</td><td>3      </td><td>gt3r   </td><td>4112233333421444221</td><td>-1183981.4619760022</td><td>-481788.2611581817 </td></tr>\n",
       "<tr><td><i style='opacity: 0.6'>1,463,893,175</i></td><td>1569752</td><td>-78.22323544581869</td><td>-112.157929146986  </td><td>3.4028234663852886e+38</td><td>3.4028234663852886e+38</td><td>3.4028234663852886e+38</td><td>3.4028234663852886e+38</td><td>3.4028234663852886e+38</td><td>1       </td><td>3     </td><td>3.4028234663852886e+38</td><td>3.4028234663852886e+38</td><td>-1          </td><td>5              </td><td>2              </td><td>2         </td><td>29.979246139526367    </td><td>-0.028147201985120773 </td><td>1           </td><td>7081.39306640625</td><td>3.4028234663852886e+38</td><td>0              </td><td>3.4028234663852886e+38  </td><td>2019-04-13 15:03:35.038195</td><td>3      </td><td>gt3r   </td><td>4112233333424244132</td><td>-1185537.9685311797</td><td>-482793.90209957986</td></tr>\n",
       "<tr><td><i style='opacity: 0.6'>1,463,893,176</i></td><td>1579859</td><td>-76.449328422305  </td><td>-113.6012793545775 </td><td>3.4028234663852886e+38</td><td>3.4028234663852886e+38</td><td>3.4028234663852886e+38</td><td>3.4028234663852886e+38</td><td>3.4028234663852886e+38</td><td>1       </td><td>3     </td><td>3.4028234663852886e+38</td><td>3.4028234663852886e+38</td><td>-1          </td><td>5              </td><td>1              </td><td>1         </td><td>3.4028234663852886e+38</td><td>3.4028234663852886e+38</td><td>1           </td><td>7556.9716796875 </td><td>3.4028234663852886e+38</td><td>0              </td><td>3.4028234663852886e+38  </td><td>2019-04-13 15:04:03.526662</td><td>3      </td><td>gt3r   </td><td>4112412432332143114</td><td>-1351174.6645843042</td><td>-590349.6253547024 </td></tr>\n",
       "<tr><td><i style='opacity: 0.6'>1,463,893,177</i></td><td>1579995</td><td>-76.42541499614175</td><td>-113.61838272123744</td><td>3.4028234663852886e+38</td><td>3.4028234663852886e+38</td><td>3.4028234663852886e+38</td><td>3.4028234663852886e+38</td><td>3.4028234663852886e+38</td><td>1       </td><td>3     </td><td>3.4028234663852886e+38</td><td>3.4028234663852886e+38</td><td>-1          </td><td>5              </td><td>1              </td><td>1         </td><td>3.4028234663852886e+38</td><td>3.4028234663852886e+38</td><td>1           </td><td>6277.603515625  </td><td>3.4028234663852886e+38</td><td>0              </td><td>3.4028234663852886e+38  </td><td>2019-04-13 15:04:03.909102</td><td>3      </td><td>gt3r   </td><td>4112412432343213234</td><td>-1353404.0805168634</td><td>-591804.882686441  </td></tr>\n",
       "</tbody>\n",
       "</table>"
      ],
      "text/plain": [
       "#              id       lat                 lon                  slope_y                 slope_x                 slope_x_sigma           h_li                    s_li                    q_flag    s_fg    snr                     h_rb                    bsnow_conf    cloud_flg_asr    cloud_flg_atm    msw_flag    fbsnow_h                bsnow_od                layer_flag    bckgrd            e_bckgrd                n_fit_photons    w_surface_window_final    t_year                      cycle    track    midx                 x                    y\n",
       "0              1411891  -73.42552448629439  -23.737491529404053  3.4028234663852886e+38  0.003976050298660994    0.004737921059131622    -0.928657591342926      0.05943682789802551     0         0       0.0                     0.31860873103141785     -1            5                3                2           29.979246139526367      3.3278605937957764      1             7129.5341796875   0.0                     32               3.0                       2019-05-15 18:32:18.937870  3        gt1l     5121313434313234232  -727639.2099292141   1654665.7247102554\n",
       "1              1411892  -73.42570108740605  -23.737578914273882  3.4028234663852886e+38  -0.002587417373433709   0.005404622759670019    -1.074399471282959      0.18140001595020294     0         0       0.0                     0.3358314335346222      -1            5                2                2           29.979246139526367      3.323024272918701       1             9199.2119140625   0.0                     30               3.0                       2019-05-15 18:32:18.940693  3        gt1l     5121313434313234231  -727633.8756359789   1654646.745975993\n",
       "2              1411893  -73.42587767946493  -23.737666524006926  -0.0034792206715792418  0.005786192137748003    0.009921900928020477    -0.9788220524787903     0.1321229785680771      0         0       0.0                     0.593020498752594       -1            5                2                2           29.979246139526367      3.3182029724121094      1             9166.1826171875   0.0                     35               3.5581231117248535        2019-05-15 18:32:18.943507  3        gt1l     5121313434313234231  -727628.5481865024   1654627.7653298955\n",
       "3              1411894  -73.42605427224831  -23.73775412633728   0.0016622913535684347   -0.019352739676833153   0.0043994830921292305   -1.0710368156433105     0.1024324968457222      0         0       0.0                     0.36016562581062317     -1            5                2                2           29.979246139526367      3.3133904933929443      1             7230.70849609375  0.0                     48               3.0                       2019-05-15 18:32:18.946315  3        gt1l     5121313434313234142  -727623.2204380583   1654608.7847323737\n",
       "4              1411895  -73.42623086896181  -23.737841655037016  0.004035372287034988    0.008749883621931076    0.0038084150291979313   -1.219468116760254      0.060207393020391464    0         0       0.0                     0.30477914214134216     -1            5                2                2           29.979246139526367      3.3085813522338867      1             5390.36962890625  0.0                     48               3.0                       2019-05-15 18:32:18.949122  3        gt1l     5121313434313234123  -727617.8903354848   1654589.8047001245\n",
       "...            ...      ...                 ...                  ...                     ...                     ...                     ...                     ...                     ...       ...     ...                     ...                     ...           ...              ...              ...         ...                     ...                     ...           ...               ...                     ...              ...                       ...                         ...      ...      ...                  ...                  ...\n",
       "1,463,893,173  1569656  -78.2400490932243   -112.14232913945352  3.4028234663852886e+38  3.4028234663852886e+38  3.4028234663852886e+38  3.4028234663852886e+38  3.4028234663852886e+38  1         3       3.4028234663852886e+38  3.4028234663852886e+38  -3            5                2                2           29.979246139526367      -0.007984576746821404   1             9233.5322265625   3.4028234663852886e+38  0                3.4028234663852886e+38    2019-04-13 15:03:34.767862  3        gt3r     4112233333421444212  -1183965.1241931545  -481777.6041658824\n",
       "1,463,893,174  1569657  -78.2398740994634   -112.14249557765775  3.4028234663852886e+38  3.4028234663852886e+38  3.4028234663852886e+38  3.4028234663852886e+38  3.4028234663852886e+38  1         3       3.4028234663852886e+38  3.4028234663852886e+38  -3            5                2                2           29.979246139526367      -0.008194150403141975   1             8526.9384765625   3.4028234663852886e+38  0                3.4028234663852886e+38    2019-04-13 15:03:34.770912  3        gt3r     4112233333421444221  -1183981.4619760022  -481788.2611581817\n",
       "1,463,893,175  1569752  -78.22323544581869  -112.157929146986    3.4028234663852886e+38  3.4028234663852886e+38  3.4028234663852886e+38  3.4028234663852886e+38  3.4028234663852886e+38  1         3       3.4028234663852886e+38  3.4028234663852886e+38  -1            5                2                2           29.979246139526367      -0.028147201985120773   1             7081.39306640625  3.4028234663852886e+38  0                3.4028234663852886e+38    2019-04-13 15:03:35.038195  3        gt3r     4112233333424244132  -1185537.9685311797  -482793.90209957986\n",
       "1,463,893,176  1579859  -76.449328422305    -113.6012793545775   3.4028234663852886e+38  3.4028234663852886e+38  3.4028234663852886e+38  3.4028234663852886e+38  3.4028234663852886e+38  1         3       3.4028234663852886e+38  3.4028234663852886e+38  -1            5                1                1           3.4028234663852886e+38  3.4028234663852886e+38  1             7556.9716796875   3.4028234663852886e+38  0                3.4028234663852886e+38    2019-04-13 15:04:03.526662  3        gt3r     4112412432332143114  -1351174.6645843042  -590349.6253547024\n",
       "1,463,893,177  1579995  -76.42541499614175  -113.61838272123744  3.4028234663852886e+38  3.4028234663852886e+38  3.4028234663852886e+38  3.4028234663852886e+38  3.4028234663852886e+38  1         3       3.4028234663852886e+38  3.4028234663852886e+38  -1            5                1                1           3.4028234663852886e+38  3.4028234663852886e+38  1             6277.603515625    3.4028234663852886e+38  0                3.4028234663852886e+38    2019-04-13 15:04:03.909102  3        gt3r     4112412432343213234  -1353404.0805168634  -591804.882686441"
      ]
     },
     "execution_count": 2,
     "metadata": {},
     "output_type": "execute_result"
    }
   ],
   "source": [
    "df = vaex.open('./atl06_03_S.arrow')\n",
    "df"
   ]
  },
  {
   "cell_type": "code",
   "execution_count": 3,
   "id": "78bc487e-d16f-42ed-8712-bf976a595e21",
   "metadata": {},
   "outputs": [],
   "source": [
    "times = df.t_year.as_numpy().values"
   ]
  },
  {
   "cell_type": "code",
   "execution_count": 4,
   "id": "ff62dd94-ff77-40e8-a87e-3056fcbbda09",
   "metadata": {},
   "outputs": [
    {
     "data": {
      "text/plain": [
       "(numpy.datetime64('2019-03-29T00:56:43.160680000'),\n",
       " numpy.datetime64('2019-06-26T14:50:35.509651000'))"
      ]
     },
     "execution_count": 4,
     "metadata": {},
     "output_type": "execute_result"
    }
   ],
   "source": [
    "np.min(times[5:]), np.max(times)"
   ]
  },
  {
   "cell_type": "code",
   "execution_count": null,
   "id": "720cf36f-c1f1-44a2-9cf2-4f32ecbd5478",
   "metadata": {},
   "outputs": [],
   "source": []
  },
  {
   "cell_type": "code",
   "execution_count": 5,
   "id": "6884f322-ba6b-4337-831a-50e04226d292",
   "metadata": {},
   "outputs": [
    {
     "name": "stdout",
     "output_type": "stream",
     "text": [
      "164G\t./atl06_03_S.arrow\n",
      "164G\ttotal\n"
     ]
    }
   ],
   "source": [
    "!du -csh ./atl06_03_S.arrow"
   ]
  },
  {
   "cell_type": "markdown",
   "id": "afc1e5cb-d835-4145-af30-d802bc06ec6b",
   "metadata": {},
   "source": [
    "As we can see, this 91-day orbit includes 865,273,103 observations, packed in a file that is 91 gigabytes large. We can plot data with some simple resampling to polar sterographic south bins, which are already encoded as the x and y columns in the vaex array"
   ]
  },
  {
   "cell_type": "code",
   "execution_count": 6,
   "id": "b60b19f8-9183-489a-8fff-47b73860f115",
   "metadata": {},
   "outputs": [
    {
     "data": {
      "text/plain": [
       "Axis(bin_centers=None, exception=None, expression=y, max=None, min=None, shape=1000, shape_default=64, slice=None, status=Status.NO_LIMITS)"
      ]
     },
     "execution_count": 6,
     "metadata": {},
     "output_type": "execute_result"
    }
   ],
   "source": [
    "x_axis = vjm.Axis(df=df, expression=df.x, shape=1000)\n",
    "y_axis = vjm.Axis(df=df, expression=df.y, shape=1000)\n",
    "y_axis"
   ]
  },
  {
   "cell_type": "code",
   "execution_count": 7,
   "id": "8aeb67f1-eefb-460a-8166-d942744ade5c",
   "metadata": {},
   "outputs": [],
   "source": [
    "await vaex.jupyter.gather()  # wait until Vaex is done with all background computation"
   ]
  },
  {
   "cell_type": "code",
   "execution_count": 8,
   "id": "0fc48d08-e6bc-42e8-949c-c973f029c564",
   "metadata": {},
   "outputs": [
    {
     "data": {
      "application/vnd.jupyter.widget-view+json": {
       "model_id": "e4b42d355ef444a29ea7d9ade2032245",
       "version_major": 2,
       "version_minor": 0
      },
      "text/plain": [
       "DataArray(children=[Container(children=[ProgressCircularNoAnimation(color='#9ECBF5', size=30, text='', value=1…"
      ]
     },
     "metadata": {},
     "output_type": "display_data"
    }
   ],
   "source": [
    "data_array_widget = df.widget.data_array(axes=[y_axis, x_axis], selection=[None, 'default'])\n",
    "data_array_widget  # being the last expression in the cell, Jupyter  will 'display' the widget"
   ]
  },
  {
   "cell_type": "code",
   "execution_count": 9,
   "id": "98d20fb0-2d1f-4e33-a577-985e2fc9622a",
   "metadata": {},
   "outputs": [],
   "source": [
    "await vaex.jupyter.gather()\n",
    "# get a reference to the xarray DataArray object\n",
    "data_array = data_array_widget.model.grid"
   ]
  },
  {
   "cell_type": "code",
   "execution_count": 10,
   "id": "5d4d4562-c835-4c3a-bafe-ef2bb86aa6b6",
   "metadata": {},
   "outputs": [
    {
     "data": {
      "text/html": [
       "<div><svg style=\"position: absolute; width: 0; height: 0; overflow: hidden\">\n",
       "<defs>\n",
       "<symbol id=\"icon-database\" viewBox=\"0 0 32 32\">\n",
       "<path d=\"M16 0c-8.837 0-16 2.239-16 5v4c0 2.761 7.163 5 16 5s16-2.239 16-5v-4c0-2.761-7.163-5-16-5z\"></path>\n",
       "<path d=\"M16 17c-8.837 0-16-2.239-16-5v6c0 2.761 7.163 5 16 5s16-2.239 16-5v-6c0 2.761-7.163 5-16 5z\"></path>\n",
       "<path d=\"M16 26c-8.837 0-16-2.239-16-5v6c0 2.761 7.163 5 16 5s16-2.239 16-5v-6c0 2.761-7.163 5-16 5z\"></path>\n",
       "</symbol>\n",
       "<symbol id=\"icon-file-text2\" viewBox=\"0 0 32 32\">\n",
       "<path d=\"M28.681 7.159c-0.694-0.947-1.662-2.053-2.724-3.116s-2.169-2.030-3.116-2.724c-1.612-1.182-2.393-1.319-2.841-1.319h-15.5c-1.378 0-2.5 1.121-2.5 2.5v27c0 1.378 1.122 2.5 2.5 2.5h23c1.378 0 2.5-1.122 2.5-2.5v-19.5c0-0.448-0.137-1.23-1.319-2.841zM24.543 5.457c0.959 0.959 1.712 1.825 2.268 2.543h-4.811v-4.811c0.718 0.556 1.584 1.309 2.543 2.268zM28 29.5c0 0.271-0.229 0.5-0.5 0.5h-23c-0.271 0-0.5-0.229-0.5-0.5v-27c0-0.271 0.229-0.5 0.5-0.5 0 0 15.499-0 15.5 0v7c0 0.552 0.448 1 1 1h7v19.5z\"></path>\n",
       "<path d=\"M23 26h-14c-0.552 0-1-0.448-1-1s0.448-1 1-1h14c0.552 0 1 0.448 1 1s-0.448 1-1 1z\"></path>\n",
       "<path d=\"M23 22h-14c-0.552 0-1-0.448-1-1s0.448-1 1-1h14c0.552 0 1 0.448 1 1s-0.448 1-1 1z\"></path>\n",
       "<path d=\"M23 18h-14c-0.552 0-1-0.448-1-1s0.448-1 1-1h14c0.552 0 1 0.448 1 1s-0.448 1-1 1z\"></path>\n",
       "</symbol>\n",
       "</defs>\n",
       "</svg>\n",
       "<style>/* CSS stylesheet for displaying xarray objects in jupyterlab.\n",
       " *\n",
       " */\n",
       "\n",
       ":root {\n",
       "  --xr-font-color0: var(--jp-content-font-color0, rgba(0, 0, 0, 1));\n",
       "  --xr-font-color2: var(--jp-content-font-color2, rgba(0, 0, 0, 0.54));\n",
       "  --xr-font-color3: var(--jp-content-font-color3, rgba(0, 0, 0, 0.38));\n",
       "  --xr-border-color: var(--jp-border-color2, #e0e0e0);\n",
       "  --xr-disabled-color: var(--jp-layout-color3, #bdbdbd);\n",
       "  --xr-background-color: var(--jp-layout-color0, white);\n",
       "  --xr-background-color-row-even: var(--jp-layout-color1, white);\n",
       "  --xr-background-color-row-odd: var(--jp-layout-color2, #eeeeee);\n",
       "}\n",
       "\n",
       "html[theme=dark],\n",
       "body.vscode-dark {\n",
       "  --xr-font-color0: rgba(255, 255, 255, 1);\n",
       "  --xr-font-color2: rgba(255, 255, 255, 0.54);\n",
       "  --xr-font-color3: rgba(255, 255, 255, 0.38);\n",
       "  --xr-border-color: #1F1F1F;\n",
       "  --xr-disabled-color: #515151;\n",
       "  --xr-background-color: #111111;\n",
       "  --xr-background-color-row-even: #111111;\n",
       "  --xr-background-color-row-odd: #313131;\n",
       "}\n",
       "\n",
       ".xr-wrap {\n",
       "  display: block;\n",
       "  min-width: 300px;\n",
       "  max-width: 700px;\n",
       "}\n",
       "\n",
       ".xr-text-repr-fallback {\n",
       "  /* fallback to plain text repr when CSS is not injected (untrusted notebook) */\n",
       "  display: none;\n",
       "}\n",
       "\n",
       ".xr-header {\n",
       "  padding-top: 6px;\n",
       "  padding-bottom: 6px;\n",
       "  margin-bottom: 4px;\n",
       "  border-bottom: solid 1px var(--xr-border-color);\n",
       "}\n",
       "\n",
       ".xr-header > div,\n",
       ".xr-header > ul {\n",
       "  display: inline;\n",
       "  margin-top: 0;\n",
       "  margin-bottom: 0;\n",
       "}\n",
       "\n",
       ".xr-obj-type,\n",
       ".xr-array-name {\n",
       "  margin-left: 2px;\n",
       "  margin-right: 10px;\n",
       "}\n",
       "\n",
       ".xr-obj-type {\n",
       "  color: var(--xr-font-color2);\n",
       "}\n",
       "\n",
       ".xr-sections {\n",
       "  padding-left: 0 !important;\n",
       "  display: grid;\n",
       "  grid-template-columns: 150px auto auto 1fr 20px 20px;\n",
       "}\n",
       "\n",
       ".xr-section-item {\n",
       "  display: contents;\n",
       "}\n",
       "\n",
       ".xr-section-item input {\n",
       "  display: none;\n",
       "}\n",
       "\n",
       ".xr-section-item input + label {\n",
       "  color: var(--xr-disabled-color);\n",
       "}\n",
       "\n",
       ".xr-section-item input:enabled + label {\n",
       "  cursor: pointer;\n",
       "  color: var(--xr-font-color2);\n",
       "}\n",
       "\n",
       ".xr-section-item input:enabled + label:hover {\n",
       "  color: var(--xr-font-color0);\n",
       "}\n",
       "\n",
       ".xr-section-summary {\n",
       "  grid-column: 1;\n",
       "  color: var(--xr-font-color2);\n",
       "  font-weight: 500;\n",
       "}\n",
       "\n",
       ".xr-section-summary > span {\n",
       "  display: inline-block;\n",
       "  padding-left: 0.5em;\n",
       "}\n",
       "\n",
       ".xr-section-summary-in:disabled + label {\n",
       "  color: var(--xr-font-color2);\n",
       "}\n",
       "\n",
       ".xr-section-summary-in + label:before {\n",
       "  display: inline-block;\n",
       "  content: '►';\n",
       "  font-size: 11px;\n",
       "  width: 15px;\n",
       "  text-align: center;\n",
       "}\n",
       "\n",
       ".xr-section-summary-in:disabled + label:before {\n",
       "  color: var(--xr-disabled-color);\n",
       "}\n",
       "\n",
       ".xr-section-summary-in:checked + label:before {\n",
       "  content: '▼';\n",
       "}\n",
       "\n",
       ".xr-section-summary-in:checked + label > span {\n",
       "  display: none;\n",
       "}\n",
       "\n",
       ".xr-section-summary,\n",
       ".xr-section-inline-details {\n",
       "  padding-top: 4px;\n",
       "  padding-bottom: 4px;\n",
       "}\n",
       "\n",
       ".xr-section-inline-details {\n",
       "  grid-column: 2 / -1;\n",
       "}\n",
       "\n",
       ".xr-section-details {\n",
       "  display: none;\n",
       "  grid-column: 1 / -1;\n",
       "  margin-bottom: 5px;\n",
       "}\n",
       "\n",
       ".xr-section-summary-in:checked ~ .xr-section-details {\n",
       "  display: contents;\n",
       "}\n",
       "\n",
       ".xr-array-wrap {\n",
       "  grid-column: 1 / -1;\n",
       "  display: grid;\n",
       "  grid-template-columns: 20px auto;\n",
       "}\n",
       "\n",
       ".xr-array-wrap > label {\n",
       "  grid-column: 1;\n",
       "  vertical-align: top;\n",
       "}\n",
       "\n",
       ".xr-preview {\n",
       "  color: var(--xr-font-color3);\n",
       "}\n",
       "\n",
       ".xr-array-preview,\n",
       ".xr-array-data {\n",
       "  padding: 0 5px !important;\n",
       "  grid-column: 2;\n",
       "}\n",
       "\n",
       ".xr-array-data,\n",
       ".xr-array-in:checked ~ .xr-array-preview {\n",
       "  display: none;\n",
       "}\n",
       "\n",
       ".xr-array-in:checked ~ .xr-array-data,\n",
       ".xr-array-preview {\n",
       "  display: inline-block;\n",
       "}\n",
       "\n",
       ".xr-dim-list {\n",
       "  display: inline-block !important;\n",
       "  list-style: none;\n",
       "  padding: 0 !important;\n",
       "  margin: 0;\n",
       "}\n",
       "\n",
       ".xr-dim-list li {\n",
       "  display: inline-block;\n",
       "  padding: 0;\n",
       "  margin: 0;\n",
       "}\n",
       "\n",
       ".xr-dim-list:before {\n",
       "  content: '(';\n",
       "}\n",
       "\n",
       ".xr-dim-list:after {\n",
       "  content: ')';\n",
       "}\n",
       "\n",
       ".xr-dim-list li:not(:last-child):after {\n",
       "  content: ',';\n",
       "  padding-right: 5px;\n",
       "}\n",
       "\n",
       ".xr-has-index {\n",
       "  font-weight: bold;\n",
       "}\n",
       "\n",
       ".xr-var-list,\n",
       ".xr-var-item {\n",
       "  display: contents;\n",
       "}\n",
       "\n",
       ".xr-var-item > div,\n",
       ".xr-var-item label,\n",
       ".xr-var-item > .xr-var-name span {\n",
       "  background-color: var(--xr-background-color-row-even);\n",
       "  margin-bottom: 0;\n",
       "}\n",
       "\n",
       ".xr-var-item > .xr-var-name:hover span {\n",
       "  padding-right: 5px;\n",
       "}\n",
       "\n",
       ".xr-var-list > li:nth-child(odd) > div,\n",
       ".xr-var-list > li:nth-child(odd) > label,\n",
       ".xr-var-list > li:nth-child(odd) > .xr-var-name span {\n",
       "  background-color: var(--xr-background-color-row-odd);\n",
       "}\n",
       "\n",
       ".xr-var-name {\n",
       "  grid-column: 1;\n",
       "}\n",
       "\n",
       ".xr-var-dims {\n",
       "  grid-column: 2;\n",
       "}\n",
       "\n",
       ".xr-var-dtype {\n",
       "  grid-column: 3;\n",
       "  text-align: right;\n",
       "  color: var(--xr-font-color2);\n",
       "}\n",
       "\n",
       ".xr-var-preview {\n",
       "  grid-column: 4;\n",
       "}\n",
       "\n",
       ".xr-var-name,\n",
       ".xr-var-dims,\n",
       ".xr-var-dtype,\n",
       ".xr-preview,\n",
       ".xr-attrs dt {\n",
       "  white-space: nowrap;\n",
       "  overflow: hidden;\n",
       "  text-overflow: ellipsis;\n",
       "  padding-right: 10px;\n",
       "}\n",
       "\n",
       ".xr-var-name:hover,\n",
       ".xr-var-dims:hover,\n",
       ".xr-var-dtype:hover,\n",
       ".xr-attrs dt:hover {\n",
       "  overflow: visible;\n",
       "  width: auto;\n",
       "  z-index: 1;\n",
       "}\n",
       "\n",
       ".xr-var-attrs,\n",
       ".xr-var-data {\n",
       "  display: none;\n",
       "  background-color: var(--xr-background-color) !important;\n",
       "  padding-bottom: 5px !important;\n",
       "}\n",
       "\n",
       ".xr-var-attrs-in:checked ~ .xr-var-attrs,\n",
       ".xr-var-data-in:checked ~ .xr-var-data {\n",
       "  display: block;\n",
       "}\n",
       "\n",
       ".xr-var-data > table {\n",
       "  float: right;\n",
       "}\n",
       "\n",
       ".xr-var-name span,\n",
       ".xr-var-data,\n",
       ".xr-attrs {\n",
       "  padding-left: 25px !important;\n",
       "}\n",
       "\n",
       ".xr-attrs,\n",
       ".xr-var-attrs,\n",
       ".xr-var-data {\n",
       "  grid-column: 1 / -1;\n",
       "}\n",
       "\n",
       "dl.xr-attrs {\n",
       "  padding: 0;\n",
       "  margin: 0;\n",
       "  display: grid;\n",
       "  grid-template-columns: 125px auto;\n",
       "}\n",
       "\n",
       ".xr-attrs dt,\n",
       ".xr-attrs dd {\n",
       "  padding: 0;\n",
       "  margin: 0;\n",
       "  float: left;\n",
       "  padding-right: 10px;\n",
       "  width: auto;\n",
       "}\n",
       "\n",
       ".xr-attrs dt {\n",
       "  font-weight: normal;\n",
       "  grid-column: 1;\n",
       "}\n",
       "\n",
       ".xr-attrs dt:hover span {\n",
       "  display: inline-block;\n",
       "  background: var(--xr-background-color);\n",
       "  padding-right: 10px;\n",
       "}\n",
       "\n",
       ".xr-attrs dd {\n",
       "  grid-column: 2;\n",
       "  white-space: pre-wrap;\n",
       "  word-break: break-all;\n",
       "}\n",
       "\n",
       ".xr-icon-database,\n",
       ".xr-icon-file-text2 {\n",
       "  display: inline-block;\n",
       "  vertical-align: middle;\n",
       "  width: 1em;\n",
       "  height: 1.5em !important;\n",
       "  stroke-width: 0;\n",
       "  stroke: currentColor;\n",
       "  fill: currentColor;\n",
       "}\n",
       "</style><pre class='xr-text-repr-fallback'>&lt;xarray.DataArray (selection: 1, y: 1000, x: 1000)&gt;\n",
       "array([[[0, 0, 0, ..., 0, 0, 0],\n",
       "        [0, 0, 0, ..., 0, 0, 0],\n",
       "        [0, 0, 0, ..., 0, 0, 0],\n",
       "        ...,\n",
       "        [0, 0, 0, ..., 0, 0, 0],\n",
       "        [0, 0, 0, ..., 0, 0, 0],\n",
       "        [0, 0, 0, ..., 0, 0, 0]]])\n",
       "Coordinates:\n",
       "  * selection  (selection) object None\n",
       "  * y          (y) float64 -2.54e+06 -2.534e+06 ... 3.98e+06 3.986e+06\n",
       "  * x          (x) float64 -4.35e+06 -4.342e+06 ... 3.975e+06 3.983e+06</pre><div class='xr-wrap' hidden><div class='xr-header'><div class='xr-obj-type'>xarray.DataArray</div><div class='xr-array-name'></div><ul class='xr-dim-list'><li><span class='xr-has-index'>selection</span>: 1</li><li><span class='xr-has-index'>y</span>: 1000</li><li><span class='xr-has-index'>x</span>: 1000</li></ul></div><ul class='xr-sections'><li class='xr-section-item'><div class='xr-array-wrap'><input id='section-d9559754-359a-4feb-abf3-e2cd602eadc0' class='xr-array-in' type='checkbox' checked><label for='section-d9559754-359a-4feb-abf3-e2cd602eadc0' title='Show/hide data repr'><svg class='icon xr-icon-database'><use xlink:href='#icon-database'></use></svg></label><div class='xr-array-preview xr-preview'><span>0 0 0 0 0 0 0 0 0 0 0 0 0 0 0 0 0 ... 0 0 0 0 0 0 0 0 0 0 0 0 0 0 0 0</span></div><div class='xr-array-data'><pre>array([[[0, 0, 0, ..., 0, 0, 0],\n",
       "        [0, 0, 0, ..., 0, 0, 0],\n",
       "        [0, 0, 0, ..., 0, 0, 0],\n",
       "        ...,\n",
       "        [0, 0, 0, ..., 0, 0, 0],\n",
       "        [0, 0, 0, ..., 0, 0, 0],\n",
       "        [0, 0, 0, ..., 0, 0, 0]]])</pre></div></div></li><li class='xr-section-item'><input id='section-1ce3b049-7e79-4ac1-8b4c-79b9507939ab' class='xr-section-summary-in' type='checkbox'  checked><label for='section-1ce3b049-7e79-4ac1-8b4c-79b9507939ab' class='xr-section-summary' >Coordinates: <span>(3)</span></label><div class='xr-section-inline-details'></div><div class='xr-section-details'><ul class='xr-var-list'><li class='xr-var-item'><div class='xr-var-name'><span class='xr-has-index'>selection</span></div><div class='xr-var-dims'>(selection)</div><div class='xr-var-dtype'>object</div><div class='xr-var-preview xr-preview'>None</div><input id='attrs-01b9fdbc-ec11-46aa-b2a2-61ce9130f6a4' class='xr-var-attrs-in' type='checkbox' disabled><label for='attrs-01b9fdbc-ec11-46aa-b2a2-61ce9130f6a4' title='Show/Hide attributes'><svg class='icon xr-icon-file-text2'><use xlink:href='#icon-file-text2'></use></svg></label><input id='data-03efceb9-0a50-4636-b537-5842319f86e8' class='xr-var-data-in' type='checkbox'><label for='data-03efceb9-0a50-4636-b537-5842319f86e8' title='Show/Hide data repr'><svg class='icon xr-icon-database'><use xlink:href='#icon-database'></use></svg></label><div class='xr-var-attrs'><dl class='xr-attrs'></dl></div><div class='xr-var-data'><pre>array([None], dtype=object)</pre></div></li><li class='xr-var-item'><div class='xr-var-name'><span class='xr-has-index'>y</span></div><div class='xr-var-dims'>(y)</div><div class='xr-var-dtype'>float64</div><div class='xr-var-preview xr-preview'>-2.54e+06 -2.534e+06 ... 3.986e+06</div><input id='attrs-e2c5001a-aaca-4d85-a0e2-20cac2921ab9' class='xr-var-attrs-in' type='checkbox' ><label for='attrs-e2c5001a-aaca-4d85-a0e2-20cac2921ab9' title='Show/Hide attributes'><svg class='icon xr-icon-file-text2'><use xlink:href='#icon-file-text2'></use></svg></label><input id='data-2bbbf2ec-0f2c-4a44-946a-e89447e111b9' class='xr-var-data-in' type='checkbox'><label for='data-2bbbf2ec-0f2c-4a44-946a-e89447e111b9' title='Show/Hide data repr'><svg class='icon xr-icon-database'><use xlink:href='#icon-database'></use></svg></label><div class='xr-var-attrs'><dl class='xr-attrs'><dt><span>min :</span></dt><dd>-2543398.8073287774</dd><dt><span>max :</span></dt><dd>3989364.620447858</dd></dl></div><div class='xr-var-data'><pre>array([-2540132.425615, -2533599.662187, -2527066.898759, ...,  3973032.711878,\n",
       "        3979565.475306,  3986098.238734])</pre></div></li><li class='xr-var-item'><div class='xr-var-name'><span class='xr-has-index'>x</span></div><div class='xr-var-dims'>(x)</div><div class='xr-var-dtype'>float64</div><div class='xr-var-preview xr-preview'>-4.35e+06 -4.342e+06 ... 3.983e+06</div><input id='attrs-4de1f039-9950-47c4-839d-b0e5fa0f0b76' class='xr-var-attrs-in' type='checkbox' ><label for='attrs-4de1f039-9950-47c4-839d-b0e5fa0f0b76' title='Show/Hide attributes'><svg class='icon xr-icon-file-text2'><use xlink:href='#icon-file-text2'></use></svg></label><input id='data-8c4614d8-5114-41e2-ad4c-76385bff78fa' class='xr-var-data-in' type='checkbox'><label for='data-8c4614d8-5114-41e2-ad4c-76385bff78fa' title='Show/Hide data repr'><svg class='icon xr-icon-database'><use xlink:href='#icon-database'></use></svg></label><div class='xr-var-attrs'><dl class='xr-attrs'><dt><span>min :</span></dt><dd>-4354403.518718319</dd><dt><span>max :</span></dt><dd>3987498.7683620118</dd></dl></div><div class='xr-var-data'><pre>array([-4350232.567575, -4341890.665288, -4333548.763001, ...,  3966644.012644,\n",
       "        3974985.914931,  3983327.817218])</pre></div></li></ul></div></li><li class='xr-section-item'><input id='section-73280a8d-17b6-4b31-b910-f009602a4359' class='xr-section-summary-in' type='checkbox' disabled ><label for='section-73280a8d-17b6-4b31-b910-f009602a4359' class='xr-section-summary'  title='Expand/collapse section'>Attributes: <span>(0)</span></label><div class='xr-section-inline-details'></div><div class='xr-section-details'><dl class='xr-attrs'></dl></div></li></ul></div></div>"
      ],
      "text/plain": [
       "<xarray.DataArray (selection: 1, y: 1000, x: 1000)>\n",
       "array([[[0, 0, 0, ..., 0, 0, 0],\n",
       "        [0, 0, 0, ..., 0, 0, 0],\n",
       "        [0, 0, 0, ..., 0, 0, 0],\n",
       "        ...,\n",
       "        [0, 0, 0, ..., 0, 0, 0],\n",
       "        [0, 0, 0, ..., 0, 0, 0],\n",
       "        [0, 0, 0, ..., 0, 0, 0]]])\n",
       "Coordinates:\n",
       "  * selection  (selection) object None\n",
       "  * y          (y) float64 -2.54e+06 -2.534e+06 ... 3.98e+06 3.986e+06\n",
       "  * x          (x) float64 -4.35e+06 -4.342e+06 ... 3.975e+06 3.983e+06"
      ]
     },
     "execution_count": 10,
     "metadata": {},
     "output_type": "execute_result"
    }
   ],
   "source": [
    "data_array"
   ]
  },
  {
   "cell_type": "code",
   "execution_count": 11,
   "id": "dda96e5e-7419-4f84-9caa-52bafaf4150f",
   "metadata": {},
   "outputs": [
    {
     "data": {
      "text/plain": [
       "('selection', 'y', 'x')"
      ]
     },
     "execution_count": 11,
     "metadata": {},
     "output_type": "execute_result"
    }
   ],
   "source": [
    "data_array.dims"
   ]
  },
  {
   "cell_type": "code",
   "execution_count": 12,
   "id": "99a6e16a-8689-4b4a-87cd-9124c28185e5",
   "metadata": {},
   "outputs": [
    {
     "data": {
      "text/plain": [
       "Coordinates:\n",
       "  * selection  (selection) object None\n",
       "  * y          (y) float64 -2.54e+06 -2.534e+06 ... 3.98e+06 3.986e+06\n",
       "  * x          (x) float64 -4.35e+06 -4.342e+06 ... 3.975e+06 3.983e+06"
      ]
     },
     "execution_count": 12,
     "metadata": {},
     "output_type": "execute_result"
    }
   ],
   "source": [
    "data_array.coords"
   ]
  },
  {
   "cell_type": "markdown",
   "id": "62d05938-654f-4779-ad23-c4a83c39ba7f",
   "metadata": {},
   "source": [
    "To be perfectly explicit about what is happening and what is about to happen-- we've initiated a template xarray grid, that we'll fill and plot with data that we calculate from the vaex array."
   ]
  },
  {
   "cell_type": "code",
   "execution_count": 13,
   "id": "46f65a81-4348-4139-8bc9-ebd70fc32b0f",
   "metadata": {},
   "outputs": [],
   "source": [
    "df.select(df.q_flag == 1)"
   ]
  },
  {
   "cell_type": "code",
   "execution_count": 14,
   "id": "ddfb3ce5-55bf-4347-bb7c-695df2d0b1a8",
   "metadata": {},
   "outputs": [
    {
     "data": {
      "application/vnd.jupyter.widget-view+json": {
       "model_id": "a516c4dae8bf4c8d802c7887c5193110",
       "version_major": 2,
       "version_minor": 0
      },
      "text/plain": [
       "DataArray(children=[Container(children=[ProgressCircularNoAnimation(color='#9ECBF5', size=30, text='', value=1…"
      ]
     },
     "metadata": {},
     "output_type": "display_data"
    }
   ],
   "source": [
    "# NOTE: da is short for 'data array'\n",
    "def plot2d(da):\n",
    "    plt.figure(figsize=(8, 8))\n",
    "    ar = da.data[0]  # take the numpy data, and select take the selection\n",
    "    print(f'imshow of a numpy array of shape: {ar.shape}')\n",
    "    plt.imshow(np.log1p(ar.T), origin='lower')\n",
    "\n",
    "df.widget.data_array(axes=[x_axis, y_axis], display_function=plot2d, selection=['default'])"
   ]
  },
  {
   "cell_type": "markdown",
   "id": "f825e9d9-5652-4e2a-b8a8-7263bae97484",
   "metadata": {},
   "source": [
    "Currently there's a bit of bug on the interactive widget-- updates to the figure need to be explicitly rerun, or run twice..."
   ]
  },
  {
   "cell_type": "code",
   "execution_count": 15,
   "id": "1c791be9-c77c-4c05-87ae-792d84966159",
   "metadata": {},
   "outputs": [
    {
     "data": {
      "application/vnd.jupyter.widget-view+json": {
       "model_id": "bf11ba1fee2343d2b23dd7bd4ca86506",
       "version_major": 2,
       "version_minor": 0
      },
      "text/plain": [
       "ExpressionSelectionTextArea(label='Filter by custom expression', placeholder='Enter a custom (boolean) express…"
      ]
     },
     "metadata": {},
     "output_type": "display_data"
    }
   ],
   "source": [
    "selection_widget = df.widget.selection_expression()\n",
    "selection_widget"
   ]
  },
  {
   "cell_type": "code",
   "execution_count": 16,
   "id": "80079e02-94bf-4f35-9128-18b012923530",
   "metadata": {},
   "outputs": [
    {
     "data": {
      "application/vnd.jupyter.widget-view+json": {
       "model_id": "0cd7bff536bf487d874cf75a4ced62d8",
       "version_major": 2,
       "version_minor": 0
      },
      "text/plain": [
       "Counter(characters=['&nbsp;', '&nbsp;', '&nbsp;', '&nbsp;', '6', '6', ',', '4', '7', '0', ',', '4', '6', '9'],…"
      ]
     },
     "metadata": {},
     "output_type": "display_data"
    }
   ],
   "source": [
    "await vaex.jupyter.gather()\n",
    "w = df.widget.counter_selection('default', lazy=True)\n",
    "w"
   ]
  },
  {
   "cell_type": "markdown",
   "id": "1cef9d14-d374-40b9-ac46-dff5c70168b4",
   "metadata": {},
   "source": [
    "Tiling\n",
    "--------\n",
    "\n",
    "The `mhealpy` library is an superset of the `healpy` library that adds support for multiresolution healpix maps:\n",
    "\n",
    "![fig2](fig4.png \"Title\")\n",
    "\n",
    "The astronomy community uses a different indexing scheme then the 'morton' ordering discribed in the previous section. There's actually three different schemes that are provided for: `ring`, `nested` and `uniq`, with the first two being fixed resolution, and the last being multiresolution.\n",
    "\n",
    "The multiresolution scheme has interesting implications for satellite data; for one thing, orbital convergence means that the sample resolution increases towards the poles, and decreases towards the equator. With the multiresolution naming scheme, it's perfectly reasonable to change the tesselation order to balance roughly equivelent numbers of observations per shard. For now we'll keep to a fixed layout, mainly so that query operations are still straightforward to formulate and execute, but it's worth keeping the application in mind.\n",
    "\n",
    "There are facilities for converting between to representations, and certain index methods are optimized for different types of plotting methods. We can visulize our data location and extent using the built in methods."
   ]
  },
  {
   "cell_type": "code",
   "execution_count": 17,
   "id": "d95f2e28-97b4-4c55-8d64-0f7fb4f8f6c7",
   "metadata": {},
   "outputs": [
    {
     "data": {
      "text/plain": [
       "array([-73.42552449, -73.42570109, -73.42587768, ..., -78.22323545,\n",
       "       -76.44932842, -76.425415  ])"
      ]
     },
     "execution_count": 17,
     "metadata": {},
     "output_type": "execute_result"
    }
   ],
   "source": [
    "# How to access raw data values to pass to functions\n",
    "df.lat.as_numpy().values"
   ]
  },
  {
   "cell_type": "markdown",
   "id": "b2812e92-0aa0-472a-85f1-e6456308b0b9",
   "metadata": {},
   "source": [
    "We have to decide on a chunk size. It's not totally obvious how to do this, but we can guess based on the mean cell center spacing, which is simple to calculate:"
   ]
  },
  {
   "cell_type": "code",
   "execution_count": 18,
   "id": "9c00608e-6b62-4721-a74f-78dc9e5ae9ba",
   "metadata": {},
   "outputs": [
    {
     "name": "stdout",
     "output_type": "stream",
     "text": [
      "6508.1853 km at tesselation order 0\n",
      "3254.09265 km at tesselation order 1\n",
      "1627.046325 km at tesselation order 2\n",
      "813.5231625 km at tesselation order 3\n",
      "406.76158125 km at tesselation order 4\n",
      "203.380790625 km at tesselation order 5\n",
      "101.6903953125 km at tesselation order 6\n",
      "50.84519765625 km at tesselation order 7\n",
      "25.422598828125 km at tesselation order 8\n",
      "12.7112994140625 km at tesselation order 9\n",
      "6.35564970703125 km at tesselation order 10\n",
      "3.177824853515625 km at tesselation order 11\n",
      "1.5889124267578125 km at tesselation order 12\n",
      "0.7944562133789063 km at tesselation order 13\n",
      "0.39722810668945313 km at tesselation order 14\n",
      "0.19861405334472657 km at tesselation order 15\n",
      "0.09930702667236328 km at tesselation order 16\n",
      "0.04965351333618164 km at tesselation order 17\n",
      "0.02482675666809082 km at tesselation order 18\n",
      "0.01241337833404541 km at tesselation order 19\n"
     ]
    }
   ],
   "source": [
    "def order2res(order):\n",
    "    res = 111* 58.6323*.5**order\n",
    "    return res\n",
    "\n",
    "for res in range(20):\n",
    "    print(str(order2res(res))+ ' km at tesselation order ' + str(res))"
   ]
  },
  {
   "cell_type": "code",
   "execution_count": null,
   "id": "bc92afbb-f80c-4c6f-9999-dde9ff557029",
   "metadata": {},
   "outputs": [],
   "source": [
    "# Set static resolution... order 10?\n",
    "nside = 2**10\n",
    "\n",
    "# Convert locations to healpix\n",
    "#healidx = df.apply(mh.hp.ang2pix, arguments=[df.lon, df.lat, lonlat=True])\n",
    "healidx = mh.hp.ang2pix(nside,df.lon.as_numpy().values, df.lat.as_numpy().values, lonlat=True) #, nest=True)\n",
    "#test = mh.containers.HealpixMap(uniq=mh.nest2uniq(nside=2**13, ipix=healidx.ravel()))\n",
    "# Static map\n",
    "test = mh.containers.HealpixMap(nside=nside)"
   ]
  },
  {
   "cell_type": "code",
   "execution_count": null,
   "id": "342d3e24-8b82-4ef2-bc9d-c1471205326a",
   "metadata": {},
   "outputs": [],
   "source": [
    "# just a plain numpy array\n",
    "m = np.zeros(mh.hp.nside2npix(nside))\n",
    "m[healidx.ravel()] += 1"
   ]
  },
  {
   "cell_type": "code",
   "execution_count": null,
   "id": "0a23c9b1-d973-45f7-8bcc-76222c36ec83",
   "metadata": {},
   "outputs": [],
   "source": [
    "# Centered on the south pole\n",
    "mh.hp.gnomview(m, rot=[0,-90], xsize=1200, ysize=1200)# , nest=True)"
   ]
  },
  {
   "cell_type": "code",
   "execution_count": null,
   "id": "383fb759-6684-482a-a686-b2847723936d",
   "metadata": {},
   "outputs": [],
   "source": [
    "len(np.unique(healidx))"
   ]
  },
  {
   "cell_type": "code",
   "execution_count": null,
   "id": "f52b6a0a-ccc2-4368-95ae-8b6eeae7337b",
   "metadata": {},
   "outputs": [],
   "source": [
    "91000/113307"
   ]
  },
  {
   "cell_type": "markdown",
   "id": "af4a2d31-dbff-4c8e-8939-9cce96525c37",
   "metadata": {},
   "source": [
    "...probably too small. Chunks are under a meg. Let's bump up by three orders:"
   ]
  },
  {
   "cell_type": "code",
   "execution_count": null,
   "id": "65bdf533-6858-4f5a-99f2-c9fc5eef2c81",
   "metadata": {},
   "outputs": [],
   "source": [
    "# Set static resolution... order 7\n",
    "nside = 2**7\n",
    "\n",
    "# Convert locations to healpix\n",
    "#healidx = df.apply(mh.hp.ang2pix, arguments=[str(nside), df.lon, df.lat, 'False', 'True'])\n",
    "healidx_7 = mh.hp.ang2pix(nside,df.lon.as_numpy().values, df.lat.as_numpy().values, lonlat=True) #, nest=True)\n",
    "#test = mh.containers.HealpixMap(uniq=mh.nest2uniq(nside=2**13, ipix=healidx.ravel()))\n",
    "# Static map\n",
    "#test = mh.containers.HealpixMap(nside=nside)"
   ]
  },
  {
   "cell_type": "code",
   "execution_count": null,
   "id": "60f8c7dd-20b5-443c-9840-7fdbf6e7f7b6",
   "metadata": {},
   "outputs": [],
   "source": [
    "len(np.unique(healidx_7))"
   ]
  },
  {
   "cell_type": "code",
   "execution_count": null,
   "id": "3b67a7c7-e4e2-404c-b3c8-c0e7d911d8d2",
   "metadata": {},
   "outputs": [],
   "source": [
    "91000/1946"
   ]
  },
  {
   "cell_type": "markdown",
   "id": "c7840d85-6a04-49ab-b871-f20cfcc56024",
   "metadata": {},
   "source": [
    "46 megs... seems better, lets do a few plots:"
   ]
  },
  {
   "cell_type": "code",
   "execution_count": null,
   "id": "729d5c5f-7b8c-43af-9c1c-c18637fc1846",
   "metadata": {},
   "outputs": [],
   "source": [
    "uhealpix7 = np.unique(healidx_7)"
   ]
  },
  {
   "cell_type": "code",
   "execution_count": null,
   "id": "c9796da1-b0ad-47c8-a269-52d5d802c83a",
   "metadata": {},
   "outputs": [],
   "source": [
    "test = mh.containers.HealpixMap(nside=nside)\n",
    "# Multilevel map, from static map\n",
    "mtest = test.moc_from_pixels(nside=nside, pixels=uhealpix7.ravel() )\n",
    "mtest.plot_grid(proj='gnom',rot=[0,-90],ysize=1200, xsize=1200)"
   ]
  },
  {
   "cell_type": "markdown",
   "id": "55b8a9f8-116a-4363-99b3-bd202afdeeb6",
   "metadata": {},
   "source": [
    "...hard to tell. This level could work, but so could another order up. We'll try one more level:"
   ]
  },
  {
   "cell_type": "code",
   "execution_count": 19,
   "id": "30046197-eda2-4bee-809c-44e564bcb014",
   "metadata": {},
   "outputs": [],
   "source": [
    "# Set static resolution... order \n",
    "nside = 2**6\n",
    "\n",
    "# Convert locations to healpix\n",
    "#healidx = df.apply(mh.hp.ang2pix, arguments=[str(nside), df.lon, df.lat, 'False', 'True'])\n",
    "healidx6 = mh.hp.ang2pix(nside,df.lon.as_numpy().values, df.lat.as_numpy().values, lonlat=True) #, nest=True)\n",
    "#test = mh.containers.HealpixMap(uniq=mh.nest2uniq(nside=2**13, ipix=healidx.ravel()))\n",
    "# Static map\n",
    "#test = mh.containers.HealpixMap(nside=nside)"
   ]
  },
  {
   "cell_type": "code",
   "execution_count": 20,
   "id": "ebc75807-8600-42cc-90ec-4389a929414f",
   "metadata": {},
   "outputs": [
    {
     "data": {
      "text/plain": [
       "1665"
      ]
     },
     "execution_count": 20,
     "metadata": {},
     "output_type": "execute_result"
    }
   ],
   "source": [
    "uhealpix6 = np.unique(healidx6)\n",
    "len(uhealpix6)"
   ]
  },
  {
   "cell_type": "code",
   "execution_count": 21,
   "id": "9dd8691f-ce96-44f9-a6e2-fc4045d4dc35",
   "metadata": {},
   "outputs": [
    {
     "data": {
      "text/plain": [
       "168.5185185185185"
      ]
     },
     "execution_count": 21,
     "metadata": {},
     "output_type": "execute_result"
    }
   ],
   "source": [
    "91000/540"
   ]
  },
  {
   "cell_type": "code",
   "execution_count": 22,
   "id": "1fb54b78-9f1f-4aee-a280-17c10ad1df38",
   "metadata": {},
   "outputs": [
    {
     "data": {
      "text/plain": [
       "10110.0"
      ]
     },
     "execution_count": 22,
     "metadata": {},
     "output_type": "execute_result"
    }
   ],
   "source": [
    "168.5* 60"
   ]
  },
  {
   "cell_type": "code",
   "execution_count": 23,
   "id": "f6fc5911-a8be-4f5b-8222-5853098101cf",
   "metadata": {},
   "outputs": [
    {
     "name": "stderr",
     "output_type": "stream",
     "text": [
      "/nix/store/5kld536dkk8cmfy3wk8xkrdg1yzmh7h5-python3-3.8.9-env/lib/python3.8/site-packages/numpy/lib/nanfunctions.py:1113: RuntimeWarning: All-NaN slice encountered\n",
      "  r, k = function_base._ureduce(a, func=_nanmedian, axis=axis, out=out,\n",
      "/nix/store/5kld536dkk8cmfy3wk8xkrdg1yzmh7h5-python3-3.8.9-env/lib/python3.8/site-packages/numpy/lib/nanfunctions.py:1113: RuntimeWarning: All-NaN slice encountered\n",
      "  r, k = function_base._ureduce(a, func=_nanmedian, axis=axis, out=out,\n",
      "/nix/store/5kld536dkk8cmfy3wk8xkrdg1yzmh7h5-python3-3.8.9-env/lib/python3.8/site-packages/numpy/lib/nanfunctions.py:1113: RuntimeWarning: All-NaN slice encountered\n",
      "  r, k = function_base._ureduce(a, func=_nanmedian, axis=axis, out=out,\n",
      "/nix/store/5kld536dkk8cmfy3wk8xkrdg1yzmh7h5-python3-3.8.9-env/lib/python3.8/site-packages/numpy/lib/nanfunctions.py:1113: RuntimeWarning: All-NaN slice encountered\n",
      "  r, k = function_base._ureduce(a, func=_nanmedian, axis=axis, out=out,\n"
     ]
    },
    {
     "data": {
      "text/plain": [
       "([<matplotlib.lines.Line2D at 0x7f3f14ab0e50>],\n",
       " <healpy.projector.GnomonicProj at 0x7f3f6168fd90>)"
      ]
     },
     "execution_count": 23,
     "metadata": {},
     "output_type": "execute_result"
    },
    {
     "data": {
      "image/png": "[encoded data removed]",
      "text/plain": [
       "<Figure size 432x288 with 1 Axes>"
      ]
     },
     "metadata": {
      "needs_background": "light"
     },
     "output_type": "display_data"
    }
   ],
   "source": [
    "test = mh.containers.HealpixMap(nside=nside)\n",
    "# Multilevel map, from static map\n",
    "mtest = test.moc_from_pixels(nside=nside, pixels=uhealpix6.ravel() )\n",
    "mtest.plot_grid(proj='gnom',rot=[0,-90],ysize=1200, xsize=1200)"
   ]
  },
  {
   "cell_type": "code",
   "execution_count": null,
   "id": "d2124759-acd8-4fc9-b9f6-10ad83c4e5c4",
   "metadata": {},
   "outputs": [],
   "source": []
  },
  {
   "cell_type": "markdown",
   "id": "c426360f-f21e-4a72-986f-72bc25c8aba2",
   "metadata": {},
   "source": [
    "How does this chunking look in practice on real data? We can visualize the chunks using the Antarctic drainage basin polygons as an example. Part of my task at Goddard is to see if the ice divide boundries are changing (i.e., are the drainage basins shifting). To do that, rather than subsetting the entire basin (i.e., the full polygon), you would want to select just along the line that defines the polygon-- or more explicitly to buffer the line at some distance and look at those values. For the data sharding case, we can look at what shards would contain the boundry:"
   ]
  },
  {
   "cell_type": "code",
   "execution_count": 32,
   "id": "ca42ba98-995a-4a56-b38c-b3f4d5e1423d",
   "metadata": {},
   "outputs": [],
   "source": [
    "basins = pd.read_csv('./Ant_Grounded_DrainageSystem_Polygons.txt')"
   ]
  },
  {
   "cell_type": "code",
   "execution_count": 33,
   "id": "92ae5f30-609e-49d7-a849-05bcbb38a19d",
   "metadata": {},
   "outputs": [],
   "source": [
    "b2 = basins[basins.basin == 2]"
   ]
  },
  {
   "cell_type": "code",
   "execution_count": 34,
   "id": "d7eff145-dea4-430a-b5d6-804f37a3f53d",
   "metadata": {},
   "outputs": [
    {
     "data": {
      "text/plain": [
       "<bound method NDFrame.head of                Lat        Lon  basin\n",
       "0       -74.525273 -61.122545      1\n",
       "1       -74.525435 -61.123664      1\n",
       "2       -74.525467 -61.123826      1\n",
       "3       -74.525576 -61.124567      1\n",
       "4       -74.525609 -61.124498      1\n",
       "...            ...        ...    ...\n",
       "1238996 -74.523392 -61.109736     27\n",
       "1238997 -74.523938 -61.113444     27\n",
       "1238998 -74.524484 -61.117151     27\n",
       "1238999 -74.525030 -61.120859     27\n",
       "1239000 -74.525273 -61.122545     27\n",
       "\n",
       "[1239001 rows x 3 columns]>"
      ]
     },
     "execution_count": 34,
     "metadata": {},
     "output_type": "execute_result"
    }
   ],
   "source": [
    "basins.head"
   ]
  },
  {
   "cell_type": "code",
   "execution_count": 22,
   "id": "6babfa09-99be-4447-bfa6-e62979a0d54f",
   "metadata": {},
   "outputs": [
    {
     "name": "stdout",
     "output_type": "stream",
     "text": [
      "60\n"
     ]
    },
    {
     "data": {
      "image/png": "[encoded data removed]",
      "text/plain": [
       "<Figure size 417.6x460.8 with 2 Axes>"
      ]
     },
     "metadata": {
      "needs_background": "light"
     },
     "output_type": "display_data"
    }
   ],
   "source": [
    "nside = 2**6\n",
    "b2idx = mh.hp.ang2pix(nside,b2.Lon.values, b2.Lat.values, lonlat=True) \n",
    "m = np.zeros(mh.hp.nside2npix(nside))\n",
    "m[np.unique(b2idx).ravel()] += 1\n",
    "# Centered on the south pole\n",
    "mh.hp.gnomview(m, rot=[0,-90], xsize=1200, ysize=1200)# , nest=True)\n",
    "print(len(np.unique(b2idx).ravel()))"
   ]
  },
  {
   "cell_type": "code",
   "execution_count": 23,
   "id": "3bc32e81-9060-4311-a383-91688552e602",
   "metadata": {},
   "outputs": [
    {
     "name": "stdout",
     "output_type": "stream",
     "text": [
      "119\n"
     ]
    },
    {
     "data": {
      "image/png": "[encoded data removed]",
      "text/plain": [
       "<Figure size 417.6x460.8 with 2 Axes>"
      ]
     },
     "metadata": {
      "needs_background": "light"
     },
     "output_type": "display_data"
    }
   ],
   "source": [
    "nside = 2**7\n",
    "b2idx = mh.hp.ang2pix(nside,b2.Lon.values, b2.Lat.values, lonlat=True) \n",
    "m = np.zeros(mh.hp.nside2npix(nside))\n",
    "m[np.unique(b2idx).ravel()] += 1\n",
    "# Centered on the south pole\n",
    "mh.hp.gnomview(m, rot=[0,-90], xsize=1200, ysize=1200)# , nest=True)\n",
    "print(len(np.unique(b2idx).ravel()))"
   ]
  },
  {
   "cell_type": "markdown",
   "id": "324715ab-09b3-4c53-9e26-c0d92c9c7159",
   "metadata": {},
   "source": [
    "perhaps the best way to compare is to just write out both chunk sizes to aws and check the timings? Well, to do that we'll need to setup the hierarchical naming scheme..."
   ]
  },
  {
   "cell_type": "markdown",
   "id": "9b7e51bb-4cbc-49db-92d3-be87a69ec0ed",
   "metadata": {},
   "source": [
    "Extending Healpix to Multiresolution Addressing\n",
    "-----------------------------------------------\n",
    "\n",
    "So far the previous 4 plots have all been plots in just generic healpix space-- not using or segmenting real data. We'll apply the healpix indices to the ATL06 dataframe, extend the indexing to include Morton indexing, and then look at a few multiresolution queries and selections"
   ]
  },
  {
   "cell_type": "code",
   "execution_count": 24,
   "id": "7f3991cf-933f-4af0-bbdb-357cff4d72b9",
   "metadata": {},
   "outputs": [],
   "source": [
    "def unique2parent(unique):\n",
    "    '''\n",
    "    Assumes input is UNIQ\n",
    "    Currently only works on single resolution\n",
    "    Returns parent base cell\n",
    "    '''\n",
    "    nside = mh.uniq2nside(unique)\n",
    "    if nside.all():\n",
    "        order = int(np.log2(nside.max()))\n",
    "    unique = unique // 4**(order-1)\n",
    "    parent = (unique - 16) // 4\n",
    "    #print(order)\n",
    "    return parent\n",
    "\n",
    "def heal_norm(base, order, addr_nest):\n",
    "    N_pix = mh.hp.order2nside(order)**2\n",
    "    addr_norm = addr_nest - (base * N_pix)\n",
    "    return addr_norm\n",
    "\n",
    "#####################################\n",
    "# Old functions; \n",
    "# se newer functions instead\n",
    "# Kept to check output validity on\n",
    "# faster versions....\n",
    "#####################################\n",
    "\n",
    "def bin_rep(A,n):\n",
    "    \"\"\"\n",
    "    like np.binary_repr, except it works on arrays\n",
    "    not sure why numpy's doesn't\n",
    "    \"\"\"\n",
    "    if n in (8,16,32,64):\n",
    "        return (np.unpackbits(A.astype(f'>u{n>>3}').view(np.uint8))+ord('0')).view(f'S{n}')\n",
    "    nb = max((n-1).bit_length()-3,0)\n",
    "    return (np.unpackbits(A.astype(f'>u{1<<nb}')[...,None].view(np.uint8),axis=1)[...,-n:]+ord('0')).ravel().view(f'S{n}')\n",
    "\n",
    "def slicer(start=None, stop=None, step=1):\n",
    "    \"\"\"\n",
    "    let's you column slice on fixed width array of strings\n",
    "    \"\"\"\n",
    "    return np.vectorize(lambda x: x[start:stop:step], otypes=[str])\n",
    "\n",
    "def caster(base=2):\n",
    "    \"\"\"\n",
    "    cast from string 0/1 binary rep to int\n",
    "    \"\"\"\n",
    "    return np.vectorize(lambda x: int(x, base))\n",
    "\n",
    "\n",
    "# Old function-- slow and memory inefficient =/\n",
    "def norm2morton(order, norms, parents=None):\n",
    "    \"\"\"\n",
    "    Uses previous three functions and output from first function to\n",
    "    give morton number\n",
    "    Morton number currently doesn't encode base pixel id... \n",
    "    although it could...\n",
    "    \n",
    "    expects flat arrays\n",
    "    \"\"\"\n",
    "    res = np.zeros((len(norms),order), dtype=np.int64)\n",
    "    final = np.zeros_like(norms)\n",
    "    norms = bin_rep(norms, order*2)\n",
    "    lidx = r_[0:order*2:2]\n",
    "    for i, bit in enumerate(lidx):\n",
    "        col = slicer(bit,bit+2)(norms)\n",
    "        res[:,i] = caster()(col)\n",
    "    res = res + 1\n",
    "    res = res.astype(str)\n",
    "    for i, line in enumerate(res):\n",
    "        final[i] = ''.join(line)\n",
    "    if parents is not None:\n",
    "        parents = parents - 6\n",
    "        if parents <= 0:\n",
    "            parents = parents - 1\n",
    "        parents = parents * 10**(order)\n",
    "        final = final + parents\n",
    "    final = np.array(final, dtype=np.int64)\n",
    "    return final #, res, norms, lidx\n",
    "    #ridx = np.flip(r_[order:0:-2])"
   ]
  },
  {
   "cell_type": "markdown",
   "id": "6d5f570d-64ad-4604-8937-6a3307ed7119",
   "metadata": {},
   "source": [
    "## Vectorized"
   ]
  },
  {
   "cell_type": "code",
   "execution_count": 25,
   "id": "a2b9b8a6-c0f3-46c2-bee2-0e9d49dcbebf",
   "metadata": {},
   "outputs": [],
   "source": [
    "@vectorize([int64(int64, int64)])#, target='cuda')\n",
    "def VaexNorm2Mort(normed, parents):\n",
    "    # Need to use vaex apply;\n",
    "    # since we can't pass in 'order', we hard code it\n",
    "    order = 18\n",
    "    mask = np.int64(3*4**(order-1))\n",
    "    res = np.zeros(order,dtype=np.int64)\n",
    "    num = 0\n",
    "    for j, i in enumerate(range(order, 0, -1)):\n",
    "        nextBit = (normed & mask) >> ((2*i) - 2)\n",
    "        num += (nextBit+1) * 10**(i-1)\n",
    "        mask = mask >> 2\n",
    "    parents = parents- 6\n",
    "    parents = parents * 10**(order)\n",
    "    num = num + parents\n",
    "    return num"
   ]
  },
  {
   "cell_type": "code",
   "execution_count": 26,
   "id": "50ae2a64-511e-4665-b64a-2d6541fb47f0",
   "metadata": {},
   "outputs": [],
   "source": [
    "@vectorize([int64(int64, int64, int64)])#, target='cuda')\n",
    "def fastNorm2Mort(order, normed, parents):\n",
    "    # General version, for arbitary order\n",
    "    if order > 18:\n",
    "        raise ValueError(\"Max order is 18 (to output to 64-bit int).\")\n",
    "    mask = np.int64(3*4**(order-1))\n",
    "    res = np.zeros(order,dtype=np.int64)\n",
    "    num = 0\n",
    "    for j, i in enumerate(range(order, 0, -1)):\n",
    "        nextBit = (normed & mask) >> ((2*i) - 2)\n",
    "        #res[j] = nextBit\n",
    "        num += (nextBit+1) * 10**(i-1)\n",
    "        mask = mask >> 2\n",
    "#    final = res + 1\n",
    "#    final = np.int64(''.join(final.astype(str)))\n",
    "    if parents is not None:\n",
    "        parents = parents- 6\n",
    "        parents = parents * 10**(order)\n",
    "        num = num + parents\n",
    "    return num"
   ]
  },
  {
   "cell_type": "code",
   "execution_count": 27,
   "id": "7466c58b-08ee-46a5-b2aa-eec4014e79be",
   "metadata": {},
   "outputs": [],
   "source": [
    "# General multi-index\n",
    "#df['midx'] = df.apply(VaexNorm2Mort, arguments=[df.normed, df.parents], vectorize=True)"
   ]
  },
  {
   "cell_type": "code",
   "execution_count": 35,
   "id": "e3daa812-a25f-4919-8528-e1332322ba2c",
   "metadata": {},
   "outputs": [
    {
     "name": "stdout",
     "output_type": "stream",
     "text": [
      "CPU times: user 14 ms, sys: 0 ns, total: 14 ms\n",
      "Wall time: 13.1 ms\n"
     ]
    }
   ],
   "source": [
    "%%time\n",
    "\n",
    "# uniq requires nest order\n",
    "order = 11\n",
    "uniq = mh.nest2uniq(2**order,mh.hp.ang2pix(2**order,b2.Lon.values, b2.Lat.values, lonlat=True, nest=True))\n",
    "parents = unique2parent(uniq)\n",
    "normed = heal_norm(parents,order, uniq)\n",
    "# norm2morton is slow...\n",
    "# faster way is to just call it on the unique members of normed, and then cast that\n",
    "mortons11 = fastNorm2Mort(order,normed.ravel(), parents.ravel())"
   ]
  },
  {
   "cell_type": "code",
   "execution_count": 36,
   "id": "a08e6813-944b-487e-b14e-530abf2fb12a",
   "metadata": {},
   "outputs": [
    {
     "name": "stdout",
     "output_type": "stream",
     "text": [
      "CPU times: user 19.3 ms, sys: 0 ns, total: 19.3 ms\n",
      "Wall time: 18 ms\n"
     ]
    }
   ],
   "source": [
    "%%time\n",
    "\n",
    "# uniq requires nest order\n",
    "order = 7\n",
    "uniq = mh.nest2uniq(2**order,mh.hp.ang2pix(2**order,b2.Lon.values, b2.Lat.values, lonlat=True, nest=True))\n",
    "parents = unique2parent(uniq)\n",
    "normed = heal_norm(parents,order, uniq)\n",
    "# norm2morton is slow...\n",
    "# faster way is to just call it on the unique members of normed, and then cast that\n",
    "mortons7 = fastNorm2Mort(order,normed.ravel(), parents.ravel())"
   ]
  },
  {
   "cell_type": "code",
   "execution_count": 37,
   "id": "0016e1a1-d0ab-4591-905b-3137b20146c0",
   "metadata": {},
   "outputs": [
    {
     "name": "stdout",
     "output_type": "stream",
     "text": [
      "CPU times: user 11.9 ms, sys: 0 ns, total: 11.9 ms\n",
      "Wall time: 11.4 ms\n"
     ]
    }
   ],
   "source": [
    "%%time\n",
    "\n",
    "# uniq requires nest order\n",
    "order = 6\n",
    "uniq = mh.nest2uniq(2**order,mh.hp.ang2pix(2**order,b2.Lon.values, b2.Lat.values, lonlat=True, nest=True))\n",
    "parents = unique2parent(uniq)\n",
    "normed = heal_norm(parents,order, uniq)\n",
    "# norm2morton is slow...\n",
    "# faster way is to just call it on the unique members of normed, and then cast that\n",
    "mortons6 = fastNorm2Mort(order,normed.ravel(), parents.ravel())"
   ]
  },
  {
   "cell_type": "code",
   "execution_count": 40,
   "id": "9bd883a6-9b61-4d80-a5c3-aada57b6751e",
   "metadata": {},
   "outputs": [
    {
     "data": {
      "text/plain": [
       "array([4111131, 4111131, 4111131, ..., 3111121, 3111121, 3111121])"
      ]
     },
     "execution_count": 40,
     "metadata": {},
     "output_type": "execute_result"
    }
   ],
   "source": [
    "mortons6"
   ]
  },
  {
   "cell_type": "code",
   "execution_count": 41,
   "id": "de42a04b-21aa-4e6d-b4c6-77f6aceba5b6",
   "metadata": {},
   "outputs": [
    {
     "data": {
      "text/plain": [
       "array([411113113133, 411113113133, 411113113133, ..., 311112112114,\n",
       "       311112112121, 311112112122])"
      ]
     },
     "execution_count": 41,
     "metadata": {},
     "output_type": "execute_result"
    }
   ],
   "source": [
    "mortons11"
   ]
  },
  {
   "cell_type": "code",
   "execution_count": 41,
   "id": "044ad174-1ec8-44bb-b765-3085c58a3768",
   "metadata": {},
   "outputs": [
    {
     "data": {
      "text/plain": [
       "array([41111311, 41111311, 41111311, ..., 31111211, 31111211, 31111211])"
      ]
     },
     "execution_count": 41,
     "metadata": {},
     "output_type": "execute_result"
    }
   ],
   "source": [
    "mortons7"
   ]
  },
  {
   "cell_type": "code",
   "execution_count": 42,
   "id": "1a58067d-7f73-44fb-82bc-1c93f8ac0af9",
   "metadata": {},
   "outputs": [
    {
     "data": {
      "text/html": [
       "<table>\n",
       "<thead>\n",
       "<tr><th>#                                        </th><th>id     </th><th>lat               </th><th>lon                </th><th>slope_y               </th><th>slope_x               </th><th>slope_x_sigma         </th><th>h_li                  </th><th>s_li                  </th><th>q_flag  </th><th>s_fg  </th><th>snr                   </th><th>h_rb                  </th><th>bsnow_conf  </th><th>cloud_flg_asr  </th><th>cloud_flg_atm  </th><th>msw_flag  </th><th>fbsnow_h              </th><th>bsnow_od              </th><th>layer_flag  </th><th>bckgrd          </th><th>e_bckgrd              </th><th>n_fit_photons  </th><th>w_surface_window_final  </th><th>t_year                    </th><th>cycle  </th><th>track  </th><th>midx               </th><th>x                  </th><th>y                  </th></tr>\n",
       "</thead>\n",
       "<tbody>\n",
       "<tr><td><i style='opacity: 0.6'>0</i>            </td><td>1411891</td><td>-73.42552448629439</td><td>-23.737491529404053</td><td>3.4028234663852886e+38</td><td>0.003976050298660994  </td><td>0.004737921059131622  </td><td>-0.928657591342926    </td><td>0.05943682789802551   </td><td>0       </td><td>0     </td><td>0.0                   </td><td>0.31860873103141785   </td><td>-1          </td><td>5              </td><td>3              </td><td>2         </td><td>29.979246139526367    </td><td>3.3278605937957764    </td><td>1           </td><td>7129.5341796875 </td><td>0.0                   </td><td>32             </td><td>3.0                     </td><td>2019-05-15 18:32:18.937870</td><td>3      </td><td>gt1l   </td><td>5121313434313234232</td><td>-727639.2099292141 </td><td>1654665.7247102554 </td></tr>\n",
       "<tr><td><i style='opacity: 0.6'>1</i>            </td><td>1411892</td><td>-73.42570108740605</td><td>-23.737578914273882</td><td>3.4028234663852886e+38</td><td>-0.002587417373433709 </td><td>0.005404622759670019  </td><td>-1.074399471282959    </td><td>0.18140001595020294   </td><td>0       </td><td>0     </td><td>0.0                   </td><td>0.3358314335346222    </td><td>-1          </td><td>5              </td><td>2              </td><td>2         </td><td>29.979246139526367    </td><td>3.323024272918701     </td><td>1           </td><td>9199.2119140625 </td><td>0.0                   </td><td>30             </td><td>3.0                     </td><td>2019-05-15 18:32:18.940693</td><td>3      </td><td>gt1l   </td><td>5121313434313234231</td><td>-727633.8756359789 </td><td>1654646.745975993  </td></tr>\n",
       "<tr><td><i style='opacity: 0.6'>2</i>            </td><td>1411893</td><td>-73.42587767946493</td><td>-23.737666524006926</td><td>-0.0034792206715792418</td><td>0.005786192137748003  </td><td>0.009921900928020477  </td><td>-0.9788220524787903   </td><td>0.1321229785680771    </td><td>0       </td><td>0     </td><td>0.0                   </td><td>0.593020498752594     </td><td>-1          </td><td>5              </td><td>2              </td><td>2         </td><td>29.979246139526367    </td><td>3.3182029724121094    </td><td>1           </td><td>9166.1826171875 </td><td>0.0                   </td><td>35             </td><td>3.5581231117248535      </td><td>2019-05-15 18:32:18.943507</td><td>3      </td><td>gt1l   </td><td>5121313434313234231</td><td>-727628.5481865024 </td><td>1654627.7653298955 </td></tr>\n",
       "<tr><td><i style='opacity: 0.6'>3</i>            </td><td>1411894</td><td>-73.42605427224831</td><td>-23.73775412633728 </td><td>0.0016622913535684347 </td><td>-0.019352739676833153 </td><td>0.0043994830921292305 </td><td>-1.0710368156433105   </td><td>0.1024324968457222    </td><td>0       </td><td>0     </td><td>0.0                   </td><td>0.36016562581062317   </td><td>-1          </td><td>5              </td><td>2              </td><td>2         </td><td>29.979246139526367    </td><td>3.3133904933929443    </td><td>1           </td><td>7230.70849609375</td><td>0.0                   </td><td>48             </td><td>3.0                     </td><td>2019-05-15 18:32:18.946315</td><td>3      </td><td>gt1l   </td><td>5121313434313234142</td><td>-727623.2204380583 </td><td>1654608.7847323737 </td></tr>\n",
       "<tr><td><i style='opacity: 0.6'>4</i>            </td><td>1411895</td><td>-73.42623086896181</td><td>-23.737841655037016</td><td>0.004035372287034988  </td><td>0.008749883621931076  </td><td>0.0038084150291979313 </td><td>-1.219468116760254    </td><td>0.060207393020391464  </td><td>0       </td><td>0     </td><td>0.0                   </td><td>0.30477914214134216   </td><td>-1          </td><td>5              </td><td>2              </td><td>2         </td><td>29.979246139526367    </td><td>3.3085813522338867    </td><td>1           </td><td>5390.36962890625</td><td>0.0                   </td><td>48             </td><td>3.0                     </td><td>2019-05-15 18:32:18.949122</td><td>3      </td><td>gt1l   </td><td>5121313434313234123</td><td>-727617.8903354848 </td><td>1654589.8047001245 </td></tr>\n",
       "<tr><td>...                                      </td><td>...    </td><td>...               </td><td>...                </td><td>...                   </td><td>...                   </td><td>...                   </td><td>...                   </td><td>...                   </td><td>...     </td><td>...   </td><td>...                   </td><td>...                   </td><td>...         </td><td>...            </td><td>...            </td><td>...       </td><td>...                   </td><td>...                   </td><td>...         </td><td>...             </td><td>...                   </td><td>...            </td><td>...                     </td><td>...                       </td><td>...    </td><td>...    </td><td>...                </td><td>...                </td><td>...                </td></tr>\n",
       "<tr><td><i style='opacity: 0.6'>1,463,893,173</i></td><td>1569656</td><td>-78.2400490932243 </td><td>-112.14232913945352</td><td>3.4028234663852886e+38</td><td>3.4028234663852886e+38</td><td>3.4028234663852886e+38</td><td>3.4028234663852886e+38</td><td>3.4028234663852886e+38</td><td>1       </td><td>3     </td><td>3.4028234663852886e+38</td><td>3.4028234663852886e+38</td><td>-3          </td><td>5              </td><td>2              </td><td>2         </td><td>29.979246139526367    </td><td>-0.007984576746821404 </td><td>1           </td><td>9233.5322265625 </td><td>3.4028234663852886e+38</td><td>0              </td><td>3.4028234663852886e+38  </td><td>2019-04-13 15:03:34.767862</td><td>3      </td><td>gt3r   </td><td>4112233333421444212</td><td>-1183965.1241931545</td><td>-481777.6041658824 </td></tr>\n",
       "<tr><td><i style='opacity: 0.6'>1,463,893,174</i></td><td>1569657</td><td>-78.2398740994634 </td><td>-112.14249557765775</td><td>3.4028234663852886e+38</td><td>3.4028234663852886e+38</td><td>3.4028234663852886e+38</td><td>3.4028234663852886e+38</td><td>3.4028234663852886e+38</td><td>1       </td><td>3     </td><td>3.4028234663852886e+38</td><td>3.4028234663852886e+38</td><td>-3          </td><td>5              </td><td>2              </td><td>2         </td><td>29.979246139526367    </td><td>-0.008194150403141975 </td><td>1           </td><td>8526.9384765625 </td><td>3.4028234663852886e+38</td><td>0              </td><td>3.4028234663852886e+38  </td><td>2019-04-13 15:03:34.770912</td><td>3      </td><td>gt3r   </td><td>4112233333421444221</td><td>-1183981.4619760022</td><td>-481788.2611581817 </td></tr>\n",
       "<tr><td><i style='opacity: 0.6'>1,463,893,175</i></td><td>1569752</td><td>-78.22323544581869</td><td>-112.157929146986  </td><td>3.4028234663852886e+38</td><td>3.4028234663852886e+38</td><td>3.4028234663852886e+38</td><td>3.4028234663852886e+38</td><td>3.4028234663852886e+38</td><td>1       </td><td>3     </td><td>3.4028234663852886e+38</td><td>3.4028234663852886e+38</td><td>-1          </td><td>5              </td><td>2              </td><td>2         </td><td>29.979246139526367    </td><td>-0.028147201985120773 </td><td>1           </td><td>7081.39306640625</td><td>3.4028234663852886e+38</td><td>0              </td><td>3.4028234663852886e+38  </td><td>2019-04-13 15:03:35.038195</td><td>3      </td><td>gt3r   </td><td>4112233333424244132</td><td>-1185537.9685311797</td><td>-482793.90209957986</td></tr>\n",
       "<tr><td><i style='opacity: 0.6'>1,463,893,176</i></td><td>1579859</td><td>-76.449328422305  </td><td>-113.6012793545775 </td><td>3.4028234663852886e+38</td><td>3.4028234663852886e+38</td><td>3.4028234663852886e+38</td><td>3.4028234663852886e+38</td><td>3.4028234663852886e+38</td><td>1       </td><td>3     </td><td>3.4028234663852886e+38</td><td>3.4028234663852886e+38</td><td>-1          </td><td>5              </td><td>1              </td><td>1         </td><td>3.4028234663852886e+38</td><td>3.4028234663852886e+38</td><td>1           </td><td>7556.9716796875 </td><td>3.4028234663852886e+38</td><td>0              </td><td>3.4028234663852886e+38  </td><td>2019-04-13 15:04:03.526662</td><td>3      </td><td>gt3r   </td><td>4112412432332143114</td><td>-1351174.6645843042</td><td>-590349.6253547024 </td></tr>\n",
       "<tr><td><i style='opacity: 0.6'>1,463,893,177</i></td><td>1579995</td><td>-76.42541499614175</td><td>-113.61838272123744</td><td>3.4028234663852886e+38</td><td>3.4028234663852886e+38</td><td>3.4028234663852886e+38</td><td>3.4028234663852886e+38</td><td>3.4028234663852886e+38</td><td>1       </td><td>3     </td><td>3.4028234663852886e+38</td><td>3.4028234663852886e+38</td><td>-1          </td><td>5              </td><td>1              </td><td>1         </td><td>3.4028234663852886e+38</td><td>3.4028234663852886e+38</td><td>1           </td><td>6277.603515625  </td><td>3.4028234663852886e+38</td><td>0              </td><td>3.4028234663852886e+38  </td><td>2019-04-13 15:04:03.909102</td><td>3      </td><td>gt3r   </td><td>4112412432343213234</td><td>-1353404.0805168634</td><td>-591804.882686441  </td></tr>\n",
       "</tbody>\n",
       "</table>"
      ],
      "text/plain": [
       "#              id       lat                 lon                  slope_y                 slope_x                 slope_x_sigma           h_li                    s_li                    q_flag    s_fg    snr                     h_rb                    bsnow_conf    cloud_flg_asr    cloud_flg_atm    msw_flag    fbsnow_h                bsnow_od                layer_flag    bckgrd            e_bckgrd                n_fit_photons    w_surface_window_final    t_year                      cycle    track    midx                 x                    y\n",
       "0              1411891  -73.42552448629439  -23.737491529404053  3.4028234663852886e+38  0.003976050298660994    0.004737921059131622    -0.928657591342926      0.05943682789802551     0         0       0.0                     0.31860873103141785     -1            5                3                2           29.979246139526367      3.3278605937957764      1             7129.5341796875   0.0                     32               3.0                       2019-05-15 18:32:18.937870  3        gt1l     5121313434313234232  -727639.2099292141   1654665.7247102554\n",
       "1              1411892  -73.42570108740605  -23.737578914273882  3.4028234663852886e+38  -0.002587417373433709   0.005404622759670019    -1.074399471282959      0.18140001595020294     0         0       0.0                     0.3358314335346222      -1            5                2                2           29.979246139526367      3.323024272918701       1             9199.2119140625   0.0                     30               3.0                       2019-05-15 18:32:18.940693  3        gt1l     5121313434313234231  -727633.8756359789   1654646.745975993\n",
       "2              1411893  -73.42587767946493  -23.737666524006926  -0.0034792206715792418  0.005786192137748003    0.009921900928020477    -0.9788220524787903     0.1321229785680771      0         0       0.0                     0.593020498752594       -1            5                2                2           29.979246139526367      3.3182029724121094      1             9166.1826171875   0.0                     35               3.5581231117248535        2019-05-15 18:32:18.943507  3        gt1l     5121313434313234231  -727628.5481865024   1654627.7653298955\n",
       "3              1411894  -73.42605427224831  -23.73775412633728   0.0016622913535684347   -0.019352739676833153   0.0043994830921292305   -1.0710368156433105     0.1024324968457222      0         0       0.0                     0.36016562581062317     -1            5                2                2           29.979246139526367      3.3133904933929443      1             7230.70849609375  0.0                     48               3.0                       2019-05-15 18:32:18.946315  3        gt1l     5121313434313234142  -727623.2204380583   1654608.7847323737\n",
       "4              1411895  -73.42623086896181  -23.737841655037016  0.004035372287034988    0.008749883621931076    0.0038084150291979313   -1.219468116760254      0.060207393020391464    0         0       0.0                     0.30477914214134216     -1            5                2                2           29.979246139526367      3.3085813522338867      1             5390.36962890625  0.0                     48               3.0                       2019-05-15 18:32:18.949122  3        gt1l     5121313434313234123  -727617.8903354848   1654589.8047001245\n",
       "...            ...      ...                 ...                  ...                     ...                     ...                     ...                     ...                     ...       ...     ...                     ...                     ...           ...              ...              ...         ...                     ...                     ...           ...               ...                     ...              ...                       ...                         ...      ...      ...                  ...                  ...\n",
       "1,463,893,173  1569656  -78.2400490932243   -112.14232913945352  3.4028234663852886e+38  3.4028234663852886e+38  3.4028234663852886e+38  3.4028234663852886e+38  3.4028234663852886e+38  1         3       3.4028234663852886e+38  3.4028234663852886e+38  -3            5                2                2           29.979246139526367      -0.007984576746821404   1             9233.5322265625   3.4028234663852886e+38  0                3.4028234663852886e+38    2019-04-13 15:03:34.767862  3        gt3r     4112233333421444212  -1183965.1241931545  -481777.6041658824\n",
       "1,463,893,174  1569657  -78.2398740994634   -112.14249557765775  3.4028234663852886e+38  3.4028234663852886e+38  3.4028234663852886e+38  3.4028234663852886e+38  3.4028234663852886e+38  1         3       3.4028234663852886e+38  3.4028234663852886e+38  -3            5                2                2           29.979246139526367      -0.008194150403141975   1             8526.9384765625   3.4028234663852886e+38  0                3.4028234663852886e+38    2019-04-13 15:03:34.770912  3        gt3r     4112233333421444221  -1183981.4619760022  -481788.2611581817\n",
       "1,463,893,175  1569752  -78.22323544581869  -112.157929146986    3.4028234663852886e+38  3.4028234663852886e+38  3.4028234663852886e+38  3.4028234663852886e+38  3.4028234663852886e+38  1         3       3.4028234663852886e+38  3.4028234663852886e+38  -1            5                2                2           29.979246139526367      -0.028147201985120773   1             7081.39306640625  3.4028234663852886e+38  0                3.4028234663852886e+38    2019-04-13 15:03:35.038195  3        gt3r     4112233333424244132  -1185537.9685311797  -482793.90209957986\n",
       "1,463,893,176  1579859  -76.449328422305    -113.6012793545775   3.4028234663852886e+38  3.4028234663852886e+38  3.4028234663852886e+38  3.4028234663852886e+38  3.4028234663852886e+38  1         3       3.4028234663852886e+38  3.4028234663852886e+38  -1            5                1                1           3.4028234663852886e+38  3.4028234663852886e+38  1             7556.9716796875   3.4028234663852886e+38  0                3.4028234663852886e+38    2019-04-13 15:04:03.526662  3        gt3r     4112412432332143114  -1351174.6645843042  -590349.6253547024\n",
       "1,463,893,177  1579995  -76.42541499614175  -113.61838272123744  3.4028234663852886e+38  3.4028234663852886e+38  3.4028234663852886e+38  3.4028234663852886e+38  3.4028234663852886e+38  1         3       3.4028234663852886e+38  3.4028234663852886e+38  -1            5                1                1           3.4028234663852886e+38  3.4028234663852886e+38  1             6277.603515625    3.4028234663852886e+38  0                3.4028234663852886e+38    2019-04-13 15:04:03.909102  3        gt3r     4112412432343213234  -1353404.0805168634  -591804.882686441"
      ]
     },
     "execution_count": 42,
     "metadata": {},
     "output_type": "execute_result"
    }
   ],
   "source": [
    "df"
   ]
  },
  {
   "cell_type": "code",
   "execution_count": 43,
   "id": "5d985db7-ac19-4301-87f1-b9b8871917ce",
   "metadata": {},
   "outputs": [],
   "source": [
    "# clipping to res desired\n",
    "df['midx11'] = df.midx // 10**7"
   ]
  },
  {
   "cell_type": "code",
   "execution_count": 44,
   "id": "121071ed-f434-4fea-81dd-9ca0dab19e0d",
   "metadata": {},
   "outputs": [
    {
     "data": {
      "text/plain": [
       "Expression = midx11\n",
       "Length: 1,463,893,178 dtype: int64 (column)\n",
       "-------------------------------------------\n",
       "         0  512131343431\n",
       "         1  512131343431\n",
       "         2  512131343431\n",
       "         3  512131343431\n",
       "         4  512131343431\n",
       "          ...           \n",
       "1463893173  411223333342\n",
       "1463893174  411223333342\n",
       "1463893175  411223333342\n",
       "1463893176  411241243233\n",
       "1463893177  411241243234"
      ]
     },
     "execution_count": 44,
     "metadata": {},
     "output_type": "execute_result"
    }
   ],
   "source": [
    "df.midx11"
   ]
  },
  {
   "cell_type": "code",
   "execution_count": 45,
   "id": "dbd92cf6-520f-49ce-a8e5-bfbd810256fb",
   "metadata": {},
   "outputs": [],
   "source": [
    "# clipping to res desired\n",
    "df['midx7'] = df.midx // 10**11"
   ]
  },
  {
   "cell_type": "code",
   "execution_count": 58,
   "id": "dde19e08-136e-4511-bae6-34edc933de7d",
   "metadata": {},
   "outputs": [
    {
     "data": {
      "text/plain": [
       "Expression = midx7\n",
       "Length: 1,463,893,178 dtype: int64 (column)\n",
       "-------------------------------------------\n",
       "         0  51213134\n",
       "         1  51213134\n",
       "         2  51213134\n",
       "         3  51213134\n",
       "         4  51213134\n",
       "        ...         \n",
       "1463893173  41122333\n",
       "1463893174  41122333\n",
       "1463893175  41122333\n",
       "1463893176  41124124\n",
       "1463893177  41124124"
      ]
     },
     "execution_count": 58,
     "metadata": {},
     "output_type": "execute_result"
    }
   ],
   "source": [
    "df.midx7"
   ]
  },
  {
   "cell_type": "code",
   "execution_count": 56,
   "id": "086dce9f-c973-47d4-840d-61ae7a78d457",
   "metadata": {},
   "outputs": [
    {
     "data": {
      "text/plain": [
       "array([41111311, 41111311, 41111311, ..., 31111211, 31111211, 31111211])"
      ]
     },
     "execution_count": 56,
     "metadata": {},
     "output_type": "execute_result"
    }
   ],
   "source": [
    "mortons7"
   ]
  },
  {
   "cell_type": "code",
   "execution_count": 46,
   "id": "31cd1174-ecab-4278-8444-b4751614f1cd",
   "metadata": {},
   "outputs": [
    {
     "data": {
      "text/plain": [
       "Expression = midx7\n",
       "Length: 1,463,893,178 dtype: int64 (column)\n",
       "-------------------------------------------\n",
       "         0  51213134\n",
       "         1  51213134\n",
       "         2  51213134\n",
       "         3  51213134\n",
       "         4  51213134\n",
       "        ...         \n",
       "1463893173  41122333\n",
       "1463893174  41122333\n",
       "1463893175  41122333\n",
       "1463893176  41124124\n",
       "1463893177  41124124"
      ]
     },
     "execution_count": 46,
     "metadata": {},
     "output_type": "execute_result"
    }
   ],
   "source": [
    "df.midx7"
   ]
  },
  {
   "cell_type": "code",
   "execution_count": 64,
   "id": "521cee16-3422-4fa8-a95b-57524325b05a",
   "metadata": {},
   "outputs": [
    {
     "data": {
      "text/html": [
       "<table>\n",
       "<thead>\n",
       "<tr><th>#                                        </th><th>id     </th><th>lat               </th><th>lon                </th><th>slope_y               </th><th>slope_x               </th><th>slope_x_sigma         </th><th>h_li                  </th><th>s_li                  </th><th>q_flag  </th><th>s_fg  </th><th>snr                   </th><th>h_rb                  </th><th>bsnow_conf  </th><th>cloud_flg_asr  </th><th>cloud_flg_atm  </th><th>msw_flag  </th><th>fbsnow_h              </th><th>bsnow_od              </th><th>layer_flag  </th><th>bckgrd          </th><th>e_bckgrd              </th><th>n_fit_photons  </th><th>w_surface_window_final  </th><th>t_year                    </th><th>cycle  </th><th>track  </th><th>midx               </th><th>x                  </th><th>y                  </th><th>midx11      </th><th>midx7   </th><th>basin2_7  </th><th>basin2_11  </th></tr>\n",
       "</thead>\n",
       "<tbody>\n",
       "<tr><td><i style='opacity: 0.6'>0</i>            </td><td>1411891</td><td>-73.42552448629439</td><td>-23.737491529404053</td><td>3.4028234663852886e+38</td><td>0.003976050298660994  </td><td>0.004737921059131622  </td><td>-0.928657591342926    </td><td>0.05943682789802551   </td><td>0       </td><td>0     </td><td>0.0                   </td><td>0.31860873103141785   </td><td>-1          </td><td>5              </td><td>3              </td><td>2         </td><td>29.979246139526367    </td><td>3.3278605937957764    </td><td>1           </td><td>7129.5341796875 </td><td>0.0                   </td><td>32             </td><td>3.0                     </td><td>2019-05-15 18:32:18.937870</td><td>3      </td><td>gt1l   </td><td>5121313434313234232</td><td>-727639.2099292141 </td><td>1654665.7247102554 </td><td>512131343431</td><td>51213134</td><td>False     </td><td>False      </td></tr>\n",
       "<tr><td><i style='opacity: 0.6'>1</i>            </td><td>1411892</td><td>-73.42570108740605</td><td>-23.737578914273882</td><td>3.4028234663852886e+38</td><td>-0.002587417373433709 </td><td>0.005404622759670019  </td><td>-1.074399471282959    </td><td>0.18140001595020294   </td><td>0       </td><td>0     </td><td>0.0                   </td><td>0.3358314335346222    </td><td>-1          </td><td>5              </td><td>2              </td><td>2         </td><td>29.979246139526367    </td><td>3.323024272918701     </td><td>1           </td><td>9199.2119140625 </td><td>0.0                   </td><td>30             </td><td>3.0                     </td><td>2019-05-15 18:32:18.940693</td><td>3      </td><td>gt1l   </td><td>5121313434313234231</td><td>-727633.8756359789 </td><td>1654646.745975993  </td><td>512131343431</td><td>51213134</td><td>False     </td><td>False      </td></tr>\n",
       "<tr><td><i style='opacity: 0.6'>2</i>            </td><td>1411893</td><td>-73.42587767946493</td><td>-23.737666524006926</td><td>-0.0034792206715792418</td><td>0.005786192137748003  </td><td>0.009921900928020477  </td><td>-0.9788220524787903   </td><td>0.1321229785680771    </td><td>0       </td><td>0     </td><td>0.0                   </td><td>0.593020498752594     </td><td>-1          </td><td>5              </td><td>2              </td><td>2         </td><td>29.979246139526367    </td><td>3.3182029724121094    </td><td>1           </td><td>9166.1826171875 </td><td>0.0                   </td><td>35             </td><td>3.5581231117248535      </td><td>2019-05-15 18:32:18.943507</td><td>3      </td><td>gt1l   </td><td>5121313434313234231</td><td>-727628.5481865024 </td><td>1654627.7653298955 </td><td>512131343431</td><td>51213134</td><td>False     </td><td>False      </td></tr>\n",
       "<tr><td><i style='opacity: 0.6'>3</i>            </td><td>1411894</td><td>-73.42605427224831</td><td>-23.73775412633728 </td><td>0.0016622913535684347 </td><td>-0.019352739676833153 </td><td>0.0043994830921292305 </td><td>-1.0710368156433105   </td><td>0.1024324968457222    </td><td>0       </td><td>0     </td><td>0.0                   </td><td>0.36016562581062317   </td><td>-1          </td><td>5              </td><td>2              </td><td>2         </td><td>29.979246139526367    </td><td>3.3133904933929443    </td><td>1           </td><td>7230.70849609375</td><td>0.0                   </td><td>48             </td><td>3.0                     </td><td>2019-05-15 18:32:18.946315</td><td>3      </td><td>gt1l   </td><td>5121313434313234142</td><td>-727623.2204380583 </td><td>1654608.7847323737 </td><td>512131343431</td><td>51213134</td><td>False     </td><td>False      </td></tr>\n",
       "<tr><td><i style='opacity: 0.6'>4</i>            </td><td>1411895</td><td>-73.42623086896181</td><td>-23.737841655037016</td><td>0.004035372287034988  </td><td>0.008749883621931076  </td><td>0.0038084150291979313 </td><td>-1.219468116760254    </td><td>0.060207393020391464  </td><td>0       </td><td>0     </td><td>0.0                   </td><td>0.30477914214134216   </td><td>-1          </td><td>5              </td><td>2              </td><td>2         </td><td>29.979246139526367    </td><td>3.3085813522338867    </td><td>1           </td><td>5390.36962890625</td><td>0.0                   </td><td>48             </td><td>3.0                     </td><td>2019-05-15 18:32:18.949122</td><td>3      </td><td>gt1l   </td><td>5121313434313234123</td><td>-727617.8903354848 </td><td>1654589.8047001245 </td><td>512131343431</td><td>51213134</td><td>False     </td><td>False      </td></tr>\n",
       "<tr><td>...                                      </td><td>...    </td><td>...               </td><td>...                </td><td>...                   </td><td>...                   </td><td>...                   </td><td>...                   </td><td>...                   </td><td>...     </td><td>...   </td><td>...                   </td><td>...                   </td><td>...         </td><td>...            </td><td>...            </td><td>...       </td><td>...                   </td><td>...                   </td><td>...         </td><td>...             </td><td>...                   </td><td>...            </td><td>...                     </td><td>...                       </td><td>...    </td><td>...    </td><td>...                </td><td>...                </td><td>...                </td><td>...         </td><td>...     </td><td>...       </td><td>...        </td></tr>\n",
       "<tr><td><i style='opacity: 0.6'>1,463,893,173</i></td><td>1569656</td><td>-78.2400490932243 </td><td>-112.14232913945352</td><td>3.4028234663852886e+38</td><td>3.4028234663852886e+38</td><td>3.4028234663852886e+38</td><td>3.4028234663852886e+38</td><td>3.4028234663852886e+38</td><td>1       </td><td>3     </td><td>3.4028234663852886e+38</td><td>3.4028234663852886e+38</td><td>-3          </td><td>5              </td><td>2              </td><td>2         </td><td>29.979246139526367    </td><td>-0.007984576746821404 </td><td>1           </td><td>9233.5322265625 </td><td>3.4028234663852886e+38</td><td>0              </td><td>3.4028234663852886e+38  </td><td>2019-04-13 15:03:34.767862</td><td>3      </td><td>gt3r   </td><td>4112233333421444212</td><td>-1183965.1241931545</td><td>-481777.6041658824 </td><td>411223333342</td><td>41122333</td><td>False     </td><td>False      </td></tr>\n",
       "<tr><td><i style='opacity: 0.6'>1,463,893,174</i></td><td>1569657</td><td>-78.2398740994634 </td><td>-112.14249557765775</td><td>3.4028234663852886e+38</td><td>3.4028234663852886e+38</td><td>3.4028234663852886e+38</td><td>3.4028234663852886e+38</td><td>3.4028234663852886e+38</td><td>1       </td><td>3     </td><td>3.4028234663852886e+38</td><td>3.4028234663852886e+38</td><td>-3          </td><td>5              </td><td>2              </td><td>2         </td><td>29.979246139526367    </td><td>-0.008194150403141975 </td><td>1           </td><td>8526.9384765625 </td><td>3.4028234663852886e+38</td><td>0              </td><td>3.4028234663852886e+38  </td><td>2019-04-13 15:03:34.770912</td><td>3      </td><td>gt3r   </td><td>4112233333421444221</td><td>-1183981.4619760022</td><td>-481788.2611581817 </td><td>411223333342</td><td>41122333</td><td>False     </td><td>False      </td></tr>\n",
       "<tr><td><i style='opacity: 0.6'>1,463,893,175</i></td><td>1569752</td><td>-78.22323544581869</td><td>-112.157929146986  </td><td>3.4028234663852886e+38</td><td>3.4028234663852886e+38</td><td>3.4028234663852886e+38</td><td>3.4028234663852886e+38</td><td>3.4028234663852886e+38</td><td>1       </td><td>3     </td><td>3.4028234663852886e+38</td><td>3.4028234663852886e+38</td><td>-1          </td><td>5              </td><td>2              </td><td>2         </td><td>29.979246139526367    </td><td>-0.028147201985120773 </td><td>1           </td><td>7081.39306640625</td><td>3.4028234663852886e+38</td><td>0              </td><td>3.4028234663852886e+38  </td><td>2019-04-13 15:03:35.038195</td><td>3      </td><td>gt3r   </td><td>4112233333424244132</td><td>-1185537.9685311797</td><td>-482793.90209957986</td><td>411223333342</td><td>41122333</td><td>False     </td><td>False      </td></tr>\n",
       "<tr><td><i style='opacity: 0.6'>1,463,893,176</i></td><td>1579859</td><td>-76.449328422305  </td><td>-113.6012793545775 </td><td>3.4028234663852886e+38</td><td>3.4028234663852886e+38</td><td>3.4028234663852886e+38</td><td>3.4028234663852886e+38</td><td>3.4028234663852886e+38</td><td>1       </td><td>3     </td><td>3.4028234663852886e+38</td><td>3.4028234663852886e+38</td><td>-1          </td><td>5              </td><td>1              </td><td>1         </td><td>3.4028234663852886e+38</td><td>3.4028234663852886e+38</td><td>1           </td><td>7556.9716796875 </td><td>3.4028234663852886e+38</td><td>0              </td><td>3.4028234663852886e+38  </td><td>2019-04-13 15:04:03.526662</td><td>3      </td><td>gt3r   </td><td>4112412432332143114</td><td>-1351174.6645843042</td><td>-590349.6253547024 </td><td>411241243233</td><td>41124124</td><td>False     </td><td>False      </td></tr>\n",
       "<tr><td><i style='opacity: 0.6'>1,463,893,177</i></td><td>1579995</td><td>-76.42541499614175</td><td>-113.61838272123744</td><td>3.4028234663852886e+38</td><td>3.4028234663852886e+38</td><td>3.4028234663852886e+38</td><td>3.4028234663852886e+38</td><td>3.4028234663852886e+38</td><td>1       </td><td>3     </td><td>3.4028234663852886e+38</td><td>3.4028234663852886e+38</td><td>-1          </td><td>5              </td><td>1              </td><td>1         </td><td>3.4028234663852886e+38</td><td>3.4028234663852886e+38</td><td>1           </td><td>6277.603515625  </td><td>3.4028234663852886e+38</td><td>0              </td><td>3.4028234663852886e+38  </td><td>2019-04-13 15:04:03.909102</td><td>3      </td><td>gt3r   </td><td>4112412432343213234</td><td>-1353404.0805168634</td><td>-591804.882686441  </td><td>411241243234</td><td>41124124</td><td>False     </td><td>False      </td></tr>\n",
       "</tbody>\n",
       "</table>"
      ],
      "text/plain": [
       "#              id       lat                 lon                  slope_y                 slope_x                 slope_x_sigma           h_li                    s_li                    q_flag    s_fg    snr                     h_rb                    bsnow_conf    cloud_flg_asr    cloud_flg_atm    msw_flag    fbsnow_h                bsnow_od                layer_flag    bckgrd            e_bckgrd                n_fit_photons    w_surface_window_final    t_year                      cycle    track    midx                 x                    y                    midx11        midx7     basin2_7    basin2_11\n",
       "0              1411891  -73.42552448629439  -23.737491529404053  3.4028234663852886e+38  0.003976050298660994    0.004737921059131622    -0.928657591342926      0.05943682789802551     0         0       0.0                     0.31860873103141785     -1            5                3                2           29.979246139526367      3.3278605937957764      1             7129.5341796875   0.0                     32               3.0                       2019-05-15 18:32:18.937870  3        gt1l     5121313434313234232  -727639.2099292141   1654665.7247102554   512131343431  51213134  False       False\n",
       "1              1411892  -73.42570108740605  -23.737578914273882  3.4028234663852886e+38  -0.002587417373433709   0.005404622759670019    -1.074399471282959      0.18140001595020294     0         0       0.0                     0.3358314335346222      -1            5                2                2           29.979246139526367      3.323024272918701       1             9199.2119140625   0.0                     30               3.0                       2019-05-15 18:32:18.940693  3        gt1l     5121313434313234231  -727633.8756359789   1654646.745975993    512131343431  51213134  False       False\n",
       "2              1411893  -73.42587767946493  -23.737666524006926  -0.0034792206715792418  0.005786192137748003    0.009921900928020477    -0.9788220524787903     0.1321229785680771      0         0       0.0                     0.593020498752594       -1            5                2                2           29.979246139526367      3.3182029724121094      1             9166.1826171875   0.0                     35               3.5581231117248535        2019-05-15 18:32:18.943507  3        gt1l     5121313434313234231  -727628.5481865024   1654627.7653298955   512131343431  51213134  False       False\n",
       "3              1411894  -73.42605427224831  -23.73775412633728   0.0016622913535684347   -0.019352739676833153   0.0043994830921292305   -1.0710368156433105     0.1024324968457222      0         0       0.0                     0.36016562581062317     -1            5                2                2           29.979246139526367      3.3133904933929443      1             7230.70849609375  0.0                     48               3.0                       2019-05-15 18:32:18.946315  3        gt1l     5121313434313234142  -727623.2204380583   1654608.7847323737   512131343431  51213134  False       False\n",
       "4              1411895  -73.42623086896181  -23.737841655037016  0.004035372287034988    0.008749883621931076    0.0038084150291979313   -1.219468116760254      0.060207393020391464    0         0       0.0                     0.30477914214134216     -1            5                2                2           29.979246139526367      3.3085813522338867      1             5390.36962890625  0.0                     48               3.0                       2019-05-15 18:32:18.949122  3        gt1l     5121313434313234123  -727617.8903354848   1654589.8047001245   512131343431  51213134  False       False\n",
       "...            ...      ...                 ...                  ...                     ...                     ...                     ...                     ...                     ...       ...     ...                     ...                     ...           ...              ...              ...         ...                     ...                     ...           ...               ...                     ...              ...                       ...                         ...      ...      ...                  ...                  ...                  ...           ...       ...         ...\n",
       "1,463,893,173  1569656  -78.2400490932243   -112.14232913945352  3.4028234663852886e+38  3.4028234663852886e+38  3.4028234663852886e+38  3.4028234663852886e+38  3.4028234663852886e+38  1         3       3.4028234663852886e+38  3.4028234663852886e+38  -3            5                2                2           29.979246139526367      -0.007984576746821404   1             9233.5322265625   3.4028234663852886e+38  0                3.4028234663852886e+38    2019-04-13 15:03:34.767862  3        gt3r     4112233333421444212  -1183965.1241931545  -481777.6041658824   411223333342  41122333  False       False\n",
       "1,463,893,174  1569657  -78.2398740994634   -112.14249557765775  3.4028234663852886e+38  3.4028234663852886e+38  3.4028234663852886e+38  3.4028234663852886e+38  3.4028234663852886e+38  1         3       3.4028234663852886e+38  3.4028234663852886e+38  -3            5                2                2           29.979246139526367      -0.008194150403141975   1             8526.9384765625   3.4028234663852886e+38  0                3.4028234663852886e+38    2019-04-13 15:03:34.770912  3        gt3r     4112233333421444221  -1183981.4619760022  -481788.2611581817   411223333342  41122333  False       False\n",
       "1,463,893,175  1569752  -78.22323544581869  -112.157929146986    3.4028234663852886e+38  3.4028234663852886e+38  3.4028234663852886e+38  3.4028234663852886e+38  3.4028234663852886e+38  1         3       3.4028234663852886e+38  3.4028234663852886e+38  -1            5                2                2           29.979246139526367      -0.028147201985120773   1             7081.39306640625  3.4028234663852886e+38  0                3.4028234663852886e+38    2019-04-13 15:03:35.038195  3        gt3r     4112233333424244132  -1185537.9685311797  -482793.90209957986  411223333342  41122333  False       False\n",
       "1,463,893,176  1579859  -76.449328422305    -113.6012793545775   3.4028234663852886e+38  3.4028234663852886e+38  3.4028234663852886e+38  3.4028234663852886e+38  3.4028234663852886e+38  1         3       3.4028234663852886e+38  3.4028234663852886e+38  -1            5                1                1           3.4028234663852886e+38  3.4028234663852886e+38  1             7556.9716796875   3.4028234663852886e+38  0                3.4028234663852886e+38    2019-04-13 15:04:03.526662  3        gt3r     4112412432332143114  -1351174.6645843042  -590349.6253547024   411241243233  41124124  False       False\n",
       "1,463,893,177  1579995  -76.42541499614175  -113.61838272123744  3.4028234663852886e+38  3.4028234663852886e+38  3.4028234663852886e+38  3.4028234663852886e+38  3.4028234663852886e+38  1         3       3.4028234663852886e+38  3.4028234663852886e+38  -1            5                1                1           3.4028234663852886e+38  3.4028234663852886e+38  1             6277.603515625    3.4028234663852886e+38  0                3.4028234663852886e+38    2019-04-13 15:04:03.909102  3        gt3r     4112412432343213234  -1353404.0805168634  -591804.882686441    411241243234  41124124  False       False"
      ]
     },
     "execution_count": 64,
     "metadata": {},
     "output_type": "execute_result"
    }
   ],
   "source": [
    "df"
   ]
  },
  {
   "cell_type": "code",
   "execution_count": 62,
   "id": "20da5648-3935-441e-ac3c-e9c67fc11918",
   "metadata": {},
   "outputs": [],
   "source": [
    "# Syth columns for selection\n",
    "df['basin2_11'] = df.midx11.isin(mortons11)\n",
    "#df['basin2_7'] = df.midx7.isin(mortons7)"
   ]
  },
  {
   "cell_type": "code",
   "execution_count": null,
   "id": "b165b2d4-99ee-4c51-87ac-4b25bee08c2e",
   "metadata": {},
   "outputs": [],
   "source": []
  },
  {
   "cell_type": "code",
   "execution_count": 48,
   "id": "802995f9-836d-43a4-a34d-121071a8bc13",
   "metadata": {},
   "outputs": [
    {
     "data": {
      "application/vnd.jupyter.widget-view+json": {
       "model_id": "0b18419597b048758957a8848495d19c",
       "version_major": 2,
       "version_minor": 0
      },
      "text/plain": [
       "DataArray(children=[Container(children=[ProgressCircularNoAnimation(color='#9ECBF5', size=30, text='', value=1…"
      ]
     },
     "metadata": {},
     "output_type": "display_data"
    }
   ],
   "source": [
    "# NOTE: da is short for 'data array'\n",
    "def plot2d(da):\n",
    "    plt.figure(figsize=(8, 8))\n",
    "    ar = da.data[0]  # take the numpy data, and select take the selection\n",
    "    print(f'imshow of a numpy array of shape: {ar.shape}')\n",
    "    plt.imshow(np.log1p(ar.T), origin='lower')\n",
    "\n",
    "df.widget.data_array(axes=[x_axis, y_axis], display_function=plot2d, selection=['default'])"
   ]
  },
  {
   "cell_type": "markdown",
   "id": "f4704769-d050-488b-930b-282f237b4f2b",
   "metadata": {},
   "source": [
    "Currently there's a bit of bug on the interactive widget-- updates to the figure need to be explicitly rerun, or run twice..."
   ]
  },
  {
   "cell_type": "code",
   "execution_count": 71,
   "id": "5d3bf8de-0710-49d9-9258-746c508447a2",
   "metadata": {},
   "outputs": [
    {
     "data": {
      "application/vnd.jupyter.widget-view+json": {
       "model_id": "ff0061b213574cc9bab8684f7f125237",
       "version_major": 2,
       "version_minor": 0
      },
      "text/plain": [
       "ExpressionSelectionTextArea(label='Filter by custom expression', placeholder='Enter a custom (boolean) express…"
      ]
     },
     "metadata": {},
     "output_type": "display_data"
    }
   ],
   "source": [
    "selection_widget = df.widget.selection_expression()\n",
    "selection_widget"
   ]
  },
  {
   "cell_type": "code",
   "execution_count": 70,
   "id": "bd389485-60ed-4f70-b06a-fe1e9012bc4e",
   "metadata": {},
   "outputs": [
    {
     "data": {
      "application/vnd.jupyter.widget-view+json": {
       "model_id": "c15bd2ddab234e6caed7fb5e85560411",
       "version_major": 2,
       "version_minor": 0
      },
      "text/plain": [
       "Counter(characters=['&nbsp;', '&nbsp;', '&nbsp;', '&nbsp;', '8', '4', ',', '1', '8', '2', ',', '3', '8', '3'],…"
      ]
     },
     "metadata": {},
     "output_type": "display_data"
    }
   ],
   "source": [
    "await vaex.jupyter.gather()\n",
    "w = df.widget.counter_selection('default', lazy=True)\n",
    "w"
   ]
  },
  {
   "cell_type": "code",
   "execution_count": 74,
   "id": "ec8b1da4-50b8-434d-913a-72ba58a45078",
   "metadata": {},
   "outputs": [],
   "source": [
    "test = df[df['basin2_11']]"
   ]
  },
  {
   "cell_type": "code",
   "execution_count": 75,
   "id": "e4372f9e-152a-456d-b7fb-125ba654a958",
   "metadata": {},
   "outputs": [
    {
     "data": {
      "text/html": [
       "<table>\n",
       "<thead>\n",
       "<tr><th>#                                    </th><th>id     </th><th>lat               </th><th>lon                </th><th>slope_y               </th><th>slope_x               </th><th>slope_x_sigma        </th><th>h_li             </th><th>s_li                </th><th>q_flag  </th><th>s_fg  </th><th>snr  </th><th>h_rb               </th><th>bsnow_conf  </th><th>cloud_flg_asr  </th><th>cloud_flg_atm  </th><th>msw_flag  </th><th>fbsnow_h          </th><th>bsnow_od            </th><th>layer_flag  </th><th>bckgrd          </th><th>e_bckgrd  </th><th>n_fit_photons  </th><th>w_surface_window_final  </th><th>t_year                    </th><th>cycle  </th><th>track  </th><th>midx               </th><th>x                  </th><th>y                  </th><th>midx11      </th><th>midx7   </th><th>basin2_7  </th><th>basin2_11  </th></tr>\n",
       "</thead>\n",
       "<tbody>\n",
       "<tr><td><i style='opacity: 0.6'>0</i>        </td><td>1507276</td><td>-87.97922320995099</td><td>136.7987591799519  </td><td>0.000615838507656008  </td><td>-0.004736021626740694 </td><td>0.0006003014277666807</td><td>3041.466064453125</td><td>0.010873938910663128</td><td>0       </td><td>0     </td><td>0.0  </td><td>0.1372603476047516 </td><td>-1          </td><td>3              </td><td>1              </td><td>1         </td><td>29.979246139526367</td><td>0.01214674860239029 </td><td>1           </td><td>44982.08984375  </td><td>0.0       </td><td>407            </td><td>3.0                     </td><td>2019-06-16 23:47:16.040955</td><td>3      </td><td>gt1l   </td><td>3111114142322444244</td><td>149869.3775340819  </td><td>-159587.75125230793</td><td>311111414232</td><td>31111141</td><td>True      </td><td>True       </td></tr>\n",
       "<tr><td><i style='opacity: 0.6'>1</i>        </td><td>1507277</td><td>-87.97917918287845</td><td>136.79386470825403 </td><td>0.0007766285561956465 </td><td>-0.0011246954090893269</td><td>0.0005015485803596675</td><td>3041.41455078125 </td><td>0.009720846079289913</td><td>0       </td><td>0     </td><td>0.0  </td><td>0.11573673784732819</td><td>-1          </td><td>3              </td><td>1              </td><td>1         </td><td>29.979246139526367</td><td>0.012141446582973003</td><td>1           </td><td>45329.25        </td><td>0.0       </td><td>416            </td><td>3.0                     </td><td>2019-06-16 23:47:16.043780</td><td>3      </td><td>gt1l   </td><td>3111114142322444244</td><td>149886.27589563665 </td><td>-159578.4255149097 </td><td>311111414232</td><td>31111141</td><td>True      </td><td>True       </td></tr>\n",
       "<tr><td><i style='opacity: 0.6'>2</i>        </td><td>1507278</td><td>-87.97913475570321</td><td>136.7889732089992  </td><td>0.0005938932299613953 </td><td>0.000513908511493355  </td><td>0.000500295776873827 </td><td>3041.418212890625</td><td>0.009480968117713928</td><td>0       </td><td>0     </td><td>0.0  </td><td>0.11737942695617676</td><td>-1          </td><td>3              </td><td>1              </td><td>1         </td><td>29.979246139526367</td><td>0.012136159464716911</td><td>1           </td><td>44972.41796875  </td><td>0.0       </td><td>417            </td><td>3.0                     </td><td>2019-06-16 23:47:16.046597</td><td>3      </td><td>gt1l   </td><td>3111114142322444421</td><td>149903.19516391063 </td><td>-159569.13743056013</td><td>311111414232</td><td>31111141</td><td>True      </td><td>True       </td></tr>\n",
       "<tr><td><i style='opacity: 0.6'>3</i>        </td><td>1507279</td><td>-87.97909010326237</td><td>136.78408344005197 </td><td>0.0006784642464481294 </td><td>0.00441736588254571   </td><td>0.0005252222763374448</td><td>3041.4609375     </td><td>0.01099166739732027 </td><td>0       </td><td>0     </td><td>0.0  </td><td>0.11799728125333786</td><td>-1          </td><td>3              </td><td>1              </td><td>1         </td><td>29.979246139526367</td><td>0.012130879797041416</td><td>1           </td><td>40314.171875    </td><td>0.0       </td><td>385            </td><td>3.0                     </td><td>2019-06-16 23:47:16.049410</td><td>3      </td><td>gt1l   </td><td>3111114142322444423</td><td>149920.12583464835 </td><td>-159559.8699372175 </td><td>311111414232</td><td>31111141</td><td>True      </td><td>True       </td></tr>\n",
       "<tr><td><i style='opacity: 0.6'>4</i>        </td><td>1507280</td><td>-87.9790453997812 </td><td>136.77919414304574 </td><td>0.000734410248696804  </td><td>4.385296506370651e-06 </td><td>0.0004919478669762611</td><td>3041.50439453125 </td><td>0.01119118370115757 </td><td>0       </td><td>0     </td><td>0.0  </td><td>0.10803984850645065</td><td>-1          </td><td>3              </td><td>1              </td><td>1         </td><td>29.979246139526367</td><td>0.012125601060688496</td><td>1           </td><td>38233.46875     </td><td>0.0       </td><td>357            </td><td>3.0                     </td><td>2019-06-16 23:47:16.052223</td><td>3      </td><td>gt1l   </td><td>3111114142322444432</td><td>149937.05848867155 </td><td>-159550.60598164177</td><td>311111414232</td><td>31111141</td><td>True      </td><td>True       </td></tr>\n",
       "<tr><td>...                                  </td><td>...    </td><td>...               </td><td>...                </td><td>...                   </td><td>...                   </td><td>...                  </td><td>...              </td><td>...                 </td><td>...     </td><td>...   </td><td>...  </td><td>...                </td><td>...         </td><td>...            </td><td>...            </td><td>...       </td><td>...               </td><td>...                 </td><td>...         </td><td>...             </td><td>...       </td><td>...            </td><td>...                     </td><td>...                       </td><td>...    </td><td>...    </td><td>...                </td><td>...                </td><td>...                </td><td>...         </td><td>...     </td><td>...       </td><td>...        </td></tr>\n",
       "<tr><td><i style='opacity: 0.6'>4,935,075</i></td><td>1504816</td><td>-87.97549871824619</td><td>-123.48974230732136</td><td>0.0020648243371397257 </td><td>-0.009965440258383751 </td><td>0.002338120946660638 </td><td>2845.132568359375</td><td>0.053762633353471756</td><td>0       </td><td>0     </td><td>0.0  </td><td>0.1905648410320282 </td><td>-1          </td><td>4              </td><td>3              </td><td>1         </td><td>29.979246139526367</td><td>0.014275511726737022</td><td>1           </td><td>6662.36181640625</td><td>0.0       </td><td>49             </td><td>3.0                     </td><td>2019-06-23 17:38:58.628377</td><td>3      </td><td>gt3r   </td><td>4111114212224343323</td><td>-182918.42894277012</td><td>-121023.97794926628</td><td>411111421222</td><td>41111142</td><td>True      </td><td>True       </td></tr>\n",
       "<tr><td><i style='opacity: 0.6'>4,935,076</i></td><td>1504817</td><td>-87.97549319223772</td><td>-123.4947824337265 </td><td>0.0020216971170157194 </td><td>0.009157341904938221  </td><td>0.0023044301196932793</td><td>2845.171630859375</td><td>0.05232212692499161 </td><td>0       </td><td>0     </td><td>0.0  </td><td>0.1935528665781021 </td><td>-1          </td><td>4              </td><td>3              </td><td>1         </td><td>29.979246139526367</td><td>0.014311756007373333</td><td>1           </td><td>3325.87060546875</td><td>0.0       </td><td>49             </td><td>3.0                     </td><td>2019-06-23 17:38:58.631194</td><td>3      </td><td>gt3r   </td><td>4111114212224343323</td><td>-182908.28150137552</td><td>-121040.39868268833</td><td>411111421222</td><td>41111142</td><td>True      </td><td>True       </td></tr>\n",
       "<tr><td><i style='opacity: 0.6'>4,935,077</i></td><td>1504818</td><td>-87.9754876816033 </td><td>-123.49982256648357</td><td>0.0018662790535017848 </td><td>-0.0020716178696602583</td><td>0.002703873673453927 </td><td>2845.18896484375 </td><td>0.05967520922422409 </td><td>0       </td><td>0     </td><td>0.0  </td><td>0.18984928727149963</td><td>-1          </td><td>4              </td><td>3              </td><td>1         </td><td>29.979246139526367</td><td>0.014347894117236137</td><td>1           </td><td>3608.701171875  </td><td>0.0       </td><td>37             </td><td>3.0                     </td><td>2019-06-23 17:38:58.634007</td><td>3      </td><td>gt3r   </td><td>4111114212224343332</td><td>-182898.13118385425</td><td>-121056.81766812917</td><td>411111421222</td><td>41111142</td><td>True      </td><td>True       </td></tr>\n",
       "<tr><td><i style='opacity: 0.6'>4,935,078</i></td><td>1504819</td><td>-87.97548215836883</td><td>-123.50486269214464</td><td>0.0006235326873138547 </td><td>0.011677626520395279  </td><td>0.0018463850719854236</td><td>2845.286376953125</td><td>0.0419803149998188  </td><td>0       </td><td>0     </td><td>0.0  </td><td>0.13715539872646332</td><td>-1          </td><td>4              </td><td>3              </td><td>1         </td><td>29.979246139526367</td><td>0.01438397727906704 </td><td>1           </td><td>6949.12255859375</td><td>0.0       </td><td>38             </td><td>3.0                     </td><td>2019-06-23 17:38:58.636819</td><td>3      </td><td>gt3r   </td><td>4111114212224343333</td><td>-182887.98054651875</td><td>-121073.23653544275</td><td>411111421222</td><td>41111142</td><td>True      </td><td>True       </td></tr>\n",
       "<tr><td><i style='opacity: 0.6'>4,935,079</i></td><td>1504820</td><td>-87.97547662902792</td><td>-123.50990278436987</td><td>-0.0014749648980796337</td><td>0.0030364105477929115 </td><td>0.0024914017412811518</td><td>2845.443359375   </td><td>0.06729452311992645 </td><td>0       </td><td>0     </td><td>0.0  </td><td>0.17422054708003998</td><td>-1          </td><td>4              </td><td>3              </td><td>1         </td><td>29.979246139526367</td><td>0.014420035295188427</td><td>1           </td><td>6286.79736328125</td><td>0.0       </td><td>44             </td><td>3.0                     </td><td>2019-06-23 17:38:58.639630</td><td>3      </td><td>gt3r   </td><td>4111114212224343333</td><td>-182877.8290582207 </td><td>-121089.6548122594 </td><td>411111421222</td><td>41111142</td><td>True      </td><td>True       </td></tr>\n",
       "</tbody>\n",
       "</table>"
      ],
      "text/plain": [
       "#          id       lat                 lon                  slope_y                 slope_x                 slope_x_sigma          h_li               s_li                  q_flag    s_fg    snr    h_rb                 bsnow_conf    cloud_flg_asr    cloud_flg_atm    msw_flag    fbsnow_h            bsnow_od              layer_flag    bckgrd            e_bckgrd    n_fit_photons    w_surface_window_final    t_year                      cycle    track    midx                 x                    y                    midx11        midx7     basin2_7    basin2_11\n",
       "0          1507276  -87.97922320995099  136.7987591799519    0.000615838507656008    -0.004736021626740694   0.0006003014277666807  3041.466064453125  0.010873938910663128  0         0       0.0    0.1372603476047516   -1            3                1                1           29.979246139526367  0.01214674860239029   1             44982.08984375    0.0         407              3.0                       2019-06-16 23:47:16.040955  3        gt1l     3111114142322444244  149869.3775340819    -159587.75125230793  311111414232  31111141  True        True\n",
       "1          1507277  -87.97917918287845  136.79386470825403   0.0007766285561956465   -0.0011246954090893269  0.0005015485803596675  3041.41455078125   0.009720846079289913  0         0       0.0    0.11573673784732819  -1            3                1                1           29.979246139526367  0.012141446582973003  1             45329.25          0.0         416              3.0                       2019-06-16 23:47:16.043780  3        gt1l     3111114142322444244  149886.27589563665   -159578.4255149097   311111414232  31111141  True        True\n",
       "2          1507278  -87.97913475570321  136.7889732089992    0.0005938932299613953   0.000513908511493355    0.000500295776873827   3041.418212890625  0.009480968117713928  0         0       0.0    0.11737942695617676  -1            3                1                1           29.979246139526367  0.012136159464716911  1             44972.41796875    0.0         417              3.0                       2019-06-16 23:47:16.046597  3        gt1l     3111114142322444421  149903.19516391063   -159569.13743056013  311111414232  31111141  True        True\n",
       "3          1507279  -87.97909010326237  136.78408344005197   0.0006784642464481294   0.00441736588254571     0.0005252222763374448  3041.4609375       0.01099166739732027   0         0       0.0    0.11799728125333786  -1            3                1                1           29.979246139526367  0.012130879797041416  1             40314.171875      0.0         385              3.0                       2019-06-16 23:47:16.049410  3        gt1l     3111114142322444423  149920.12583464835   -159559.8699372175   311111414232  31111141  True        True\n",
       "4          1507280  -87.9790453997812   136.77919414304574   0.000734410248696804    4.385296506370651e-06   0.0004919478669762611  3041.50439453125   0.01119118370115757   0         0       0.0    0.10803984850645065  -1            3                1                1           29.979246139526367  0.012125601060688496  1             38233.46875       0.0         357              3.0                       2019-06-16 23:47:16.052223  3        gt1l     3111114142322444432  149937.05848867155   -159550.60598164177  311111414232  31111141  True        True\n",
       "...        ...      ...                 ...                  ...                     ...                     ...                    ...                ...                   ...       ...     ...    ...                  ...           ...              ...              ...         ...                 ...                   ...           ...               ...         ...              ...                       ...                         ...      ...      ...                  ...                  ...                  ...           ...       ...         ...\n",
       "4,935,075  1504816  -87.97549871824619  -123.48974230732136  0.0020648243371397257   -0.009965440258383751   0.002338120946660638   2845.132568359375  0.053762633353471756  0         0       0.0    0.1905648410320282   -1            4                3                1           29.979246139526367  0.014275511726737022  1             6662.36181640625  0.0         49               3.0                       2019-06-23 17:38:58.628377  3        gt3r     4111114212224343323  -182918.42894277012  -121023.97794926628  411111421222  41111142  True        True\n",
       "4,935,076  1504817  -87.97549319223772  -123.4947824337265   0.0020216971170157194   0.009157341904938221    0.0023044301196932793  2845.171630859375  0.05232212692499161   0         0       0.0    0.1935528665781021   -1            4                3                1           29.979246139526367  0.014311756007373333  1             3325.87060546875  0.0         49               3.0                       2019-06-23 17:38:58.631194  3        gt3r     4111114212224343323  -182908.28150137552  -121040.39868268833  411111421222  41111142  True        True\n",
       "4,935,077  1504818  -87.9754876816033   -123.49982256648357  0.0018662790535017848   -0.0020716178696602583  0.002703873673453927   2845.18896484375   0.05967520922422409   0         0       0.0    0.18984928727149963  -1            4                3                1           29.979246139526367  0.014347894117236137  1             3608.701171875    0.0         37               3.0                       2019-06-23 17:38:58.634007  3        gt3r     4111114212224343332  -182898.13118385425  -121056.81766812917  411111421222  41111142  True        True\n",
       "4,935,078  1504819  -87.97548215836883  -123.50486269214464  0.0006235326873138547   0.011677626520395279    0.0018463850719854236  2845.286376953125  0.0419803149998188    0         0       0.0    0.13715539872646332  -1            4                3                1           29.979246139526367  0.01438397727906704   1             6949.12255859375  0.0         38               3.0                       2019-06-23 17:38:58.636819  3        gt3r     4111114212224343333  -182887.98054651875  -121073.23653544275  411111421222  41111142  True        True\n",
       "4,935,079  1504820  -87.97547662902792  -123.50990278436987  -0.0014749648980796337  0.0030364105477929115   0.0024914017412811518  2845.443359375     0.06729452311992645   0         0       0.0    0.17422054708003998  -1            4                3                1           29.979246139526367  0.014420035295188427  1             6286.79736328125  0.0         44               3.0                       2019-06-23 17:38:58.639630  3        gt3r     4111114212224343333  -182877.8290582207   -121089.6548122594   411111421222  41111142  True        True"
      ]
     },
     "execution_count": 75,
     "metadata": {},
     "output_type": "execute_result"
    }
   ],
   "source": [
    "test"
   ]
  },
  {
   "cell_type": "code",
   "execution_count": null,
   "id": "916feaaa-65a1-4b26-aa25-d8f281b961b3",
   "metadata": {},
   "outputs": [],
   "source": []
  }
 ],
 "metadata": {
  "kernelspec": {
   "display_name": "Python 3",
   "language": "python",
   "name": "python3"
  },
  "language_info": {
   "codemirror_mode": {
    "name": "ipython",
    "version": 3
   },
   "file_extension": ".py",
   "mimetype": "text/x-python",
   "name": "python",
   "nbconvert_exporter": "python",
   "pygments_lexer": "ipython3",
   "version": "3.8.9"
  }
 },
 "nbformat": 4,
 "nbformat_minor": 5
}
