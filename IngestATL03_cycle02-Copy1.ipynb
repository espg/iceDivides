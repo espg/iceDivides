{
 "cells": [
  {
   "cell_type": "code",
   "execution_count": 1,
   "id": "artificial-silence",
   "metadata": {},
   "outputs": [],
   "source": [
    "import h5py\n",
    "import numpy as np\n",
    "import pandas as pd\n",
    "from astropy.time import Time\n",
    "from tqdm import tqdm\n",
    "import os\n",
    "import vaex"
   ]
  },
  {
   "cell_type": "code",
   "execution_count": 2,
   "id": "polished-security",
   "metadata": {},
   "outputs": [],
   "source": [
    "def gps2dyr(time):\n",
    "    \"\"\"Converts GPS time to datetime (can also do decimal years).\"\"\"\n",
    "    return Time(time, format='gps').datetime"
   ]
  },
  {
   "cell_type": "code",
   "execution_count": 3,
   "id": "threatened-senate",
   "metadata": {},
   "outputs": [],
   "source": [
    "def read_atl06(fname, cycle):\n",
    "    \"\"\"Read one ATL06 file and output 6 reduced files. \n",
    "    \n",
    "    Extract variables of interest and separate the ATL06 file \n",
    "    into each beam (ground track) and ascending/descending orbits.\n",
    "    \"\"\"\n",
    "\n",
    "    # Each beam is a group\n",
    "    group = ['/gt1l', '/gt1r', '/gt2l', '/gt2r', '/gt3l', '/gt3r']\n",
    "    \n",
    "    # Loop trough beams\n",
    "    dataframes = []  # one dataframe per track\n",
    "    \n",
    "    with h5py.File(fname, 'r') as fi:\n",
    "        # Check which ground tracks are present in this file\n",
    "        gtracks = sorted(['/'+k for k in fi.keys() if k.startswith('gt')])\n",
    "    \n",
    "        for k, g in enumerate(gtracks): \n",
    "            # Read in data for a single beam\n",
    "            data = {}\n",
    "            # this is our unique key (per beam)\n",
    "            data['id'] = fi[g+'/land_ice_segments/segment_id'][:]\n",
    "            npts = len(data['id'])\n",
    "            # Load vars into memory (include as many as you want)\n",
    "            data['lat'] = fi[g+'/land_ice_segments/latitude'][:]\n",
    "            data['lon'] = fi[g+'/land_ice_segments/longitude'][:]\n",
    "            \n",
    "            data['slope_y'] = fi[g+'/land_ice_segments/fit_statistics/dh_fit_dy'][:]\n",
    "            data['slope_x'] = fi[g+'/land_ice_segments/fit_statistics/dh_fit_dx'][:]\n",
    "            data['slope_x_sigma'] = fi[g+'/land_ice_segments/fit_statistics/dh_fit_dx_sigma'][:]\n",
    "\n",
    "            data['h_li'] = fi[g+'/land_ice_segments/h_li'][:]\n",
    "            data['s_li'] = fi[g+'/land_ice_segments/h_li_sigma'][:]\n",
    "            data['q_flag'] = fi[g+'/land_ice_segments/atl06_quality_summary'][:]\n",
    "            data['s_fg'] = fi[g+'/land_ice_segments/fit_statistics/signal_selection_source'][:]\n",
    "            data['snr'] = fi[g+'/land_ice_segments/fit_statistics/snr_significance'][:]\n",
    "            data['h_rb'] = fi[g+'/land_ice_segments/fit_statistics/h_robust_sprd'][:]\n",
    "            data['bsnow_conf'] = fi[g+'/land_ice_segments/geophysical/bsnow_conf'][:]\n",
    "            \n",
    "            data['cloud_flg_asr'] = fi[g+'/land_ice_segments/geophysical/cloud_flg_asr'][:]\n",
    "            data['cloud_flg_atm'] = fi[g+'/land_ice_segments/geophysical/cloud_flg_atm'][:]\n",
    "            data['msw_flag'] = fi[g+'/land_ice_segments/geophysical/msw_flag'][:]\n",
    "            data['fbsnow_h'] = fi[g+'/land_ice_segments/geophysical/bsnow_h'][:]\n",
    "            data['bsnow_od'] = fi[g+'/land_ice_segments/geophysical/bsnow_od'][:]\n",
    "            data['layer_flag'] = fi[g+'/land_ice_segments/geophysical/layer_flag'][:]\n",
    "            data['bckgrd'] = fi[g+'/land_ice_segments/geophysical/bckgrd'][:]\n",
    "            data['e_bckgrd'] = fi[g+'/land_ice_segments/geophysical/e_bckgrd'][:]\n",
    "            data['n_fit_photons'] = fi[g+'/land_ice_segments/fit_statistics/n_fit_photons'][:]\n",
    "            data['w_surface_window_final'] = fi[g+'/land_ice_segments/fit_statistics/w_surface_window_final'][:]\n",
    "            \n",
    "            delta_t = fi[g+'/land_ice_segments/delta_time'][:]     # for time conversion\n",
    "            t_ref = fi['/ancillary_data/atlas_sdp_gps_epoch'][:]     # single value\n",
    "            \n",
    "            # Time in GPS seconds (secs since Jan 5, 1980)\n",
    "            t_gps = t_ref + delta_t\n",
    "\n",
    "            # GPS sec to datetime\n",
    "            data['t_year'] = gps2dyr(t_gps)\n",
    "            data['cycle'] = np.ones(npts, dtype=np.int8)*cycle\n",
    "            data['track'] = np.repeat(g[1:], npts)\n",
    "                \n",
    "            # Make a dataframe out of our data dict and store it.\n",
    "            dataframes.append(pd.DataFrame.from_dict(data))\n",
    "        \n",
    "    return dataframes"
   ]
  },
  {
   "cell_type": "code",
   "execution_count": 4,
   "id": "temporal-mandate",
   "metadata": {},
   "outputs": [
    {
     "data": {
      "text/plain": [
       "'/home/jupyter/iceDivides'"
      ]
     },
     "execution_count": 4,
     "metadata": {},
     "output_type": "execute_result"
    }
   ],
   "source": [
    "pwd"
   ]
  },
  {
   "cell_type": "code",
   "execution_count": 5,
   "id": "postal-mambo",
   "metadata": {},
   "outputs": [],
   "source": [
    "seed = read_atl06('./ATL06_20190329071316_13870211_004_01.h5',cycle=int(2))"
   ]
  },
  {
   "cell_type": "code",
   "execution_count": 6,
   "id": "trained-classics",
   "metadata": {},
   "outputs": [],
   "source": [
    "Pgt1l = seed[0].iloc[:2]\n",
    "Pgt1r = seed[1].iloc[:2]\n",
    "Pgt2l = seed[2].iloc[:2]\n",
    "Pgt2r = seed[3].iloc[:2]\n",
    "Pgt3l = seed[4].iloc[:2]\n",
    "Pgt3r = seed[5].iloc[:2]"
   ]
  },
  {
   "cell_type": "code",
   "execution_count": 7,
   "id": "formal-september",
   "metadata": {},
   "outputs": [
    {
     "data": {
      "text/html": [
       "<div>\n",
       "<style scoped>\n",
       "    .dataframe tbody tr th:only-of-type {\n",
       "        vertical-align: middle;\n",
       "    }\n",
       "\n",
       "    .dataframe tbody tr th {\n",
       "        vertical-align: top;\n",
       "    }\n",
       "\n",
       "    .dataframe thead th {\n",
       "        text-align: right;\n",
       "    }\n",
       "</style>\n",
       "<table border=\"1\" class=\"dataframe\">\n",
       "  <thead>\n",
       "    <tr style=\"text-align: right;\">\n",
       "      <th></th>\n",
       "      <th>id</th>\n",
       "      <th>lat</th>\n",
       "      <th>lon</th>\n",
       "      <th>slope_y</th>\n",
       "      <th>slope_x</th>\n",
       "      <th>slope_x_sigma</th>\n",
       "      <th>h_li</th>\n",
       "      <th>s_li</th>\n",
       "      <th>q_flag</th>\n",
       "      <th>s_fg</th>\n",
       "      <th>...</th>\n",
       "      <th>fbsnow_h</th>\n",
       "      <th>bsnow_od</th>\n",
       "      <th>layer_flag</th>\n",
       "      <th>bckgrd</th>\n",
       "      <th>e_bckgrd</th>\n",
       "      <th>n_fit_photons</th>\n",
       "      <th>w_surface_window_final</th>\n",
       "      <th>t_year</th>\n",
       "      <th>cycle</th>\n",
       "      <th>track</th>\n",
       "    </tr>\n",
       "  </thead>\n",
       "  <tbody>\n",
       "    <tr>\n",
       "      <th>0</th>\n",
       "      <td>1443587</td>\n",
       "      <td>-79.006042</td>\n",
       "      <td>176.344895</td>\n",
       "      <td>0.003497</td>\n",
       "      <td>0.045053</td>\n",
       "      <td>0.000830</td>\n",
       "      <td>-19.586994</td>\n",
       "      <td>0.012193</td>\n",
       "      <td>0</td>\n",
       "      <td>0</td>\n",
       "      <td>...</td>\n",
       "      <td>29.979246</td>\n",
       "      <td>0.268619</td>\n",
       "      <td>1</td>\n",
       "      <td>28285.419922</td>\n",
       "      <td>0.0</td>\n",
       "      <td>522</td>\n",
       "      <td>3.0</td>\n",
       "      <td>2019-03-29 07:13:52.971019</td>\n",
       "      <td>2</td>\n",
       "      <td>gt1l</td>\n",
       "    </tr>\n",
       "    <tr>\n",
       "      <th>1</th>\n",
       "      <td>1443588</td>\n",
       "      <td>-79.006216</td>\n",
       "      <td>176.344717</td>\n",
       "      <td>0.004264</td>\n",
       "      <td>0.050562</td>\n",
       "      <td>0.000883</td>\n",
       "      <td>-18.607821</td>\n",
       "      <td>0.012879</td>\n",
       "      <td>0</td>\n",
       "      <td>0</td>\n",
       "      <td>...</td>\n",
       "      <td>29.979246</td>\n",
       "      <td>0.268275</td>\n",
       "      <td>1</td>\n",
       "      <td>25933.798828</td>\n",
       "      <td>0.0</td>\n",
       "      <td>541</td>\n",
       "      <td>3.0</td>\n",
       "      <td>2019-03-29 07:13:52.973831</td>\n",
       "      <td>2</td>\n",
       "      <td>gt1l</td>\n",
       "    </tr>\n",
       "  </tbody>\n",
       "</table>\n",
       "<p>2 rows × 26 columns</p>\n",
       "</div>"
      ],
      "text/plain": [
       "        id        lat         lon   slope_y   slope_x  slope_x_sigma  \\\n",
       "0  1443587 -79.006042  176.344895  0.003497  0.045053       0.000830   \n",
       "1  1443588 -79.006216  176.344717  0.004264  0.050562       0.000883   \n",
       "\n",
       "        h_li      s_li  q_flag  s_fg  ...   fbsnow_h  bsnow_od  layer_flag  \\\n",
       "0 -19.586994  0.012193       0     0  ...  29.979246  0.268619           1   \n",
       "1 -18.607821  0.012879       0     0  ...  29.979246  0.268275           1   \n",
       "\n",
       "         bckgrd  e_bckgrd  n_fit_photons  w_surface_window_final  \\\n",
       "0  28285.419922       0.0            522                     3.0   \n",
       "1  25933.798828       0.0            541                     3.0   \n",
       "\n",
       "                      t_year  cycle  track  \n",
       "0 2019-03-29 07:13:52.971019      2   gt1l  \n",
       "1 2019-03-29 07:13:52.973831      2   gt1l  \n",
       "\n",
       "[2 rows x 26 columns]"
      ]
     },
     "execution_count": 7,
     "metadata": {},
     "output_type": "execute_result"
    }
   ],
   "source": [
    "Pgt1l"
   ]
  },
  {
   "cell_type": "code",
   "execution_count": 8,
   "id": "middle-circumstances",
   "metadata": {},
   "outputs": [],
   "source": [
    "gt1l = vaex.from_pandas(Pgt1l, copy_index=False)\n",
    "gt1r = vaex.from_pandas(Pgt1r, copy_index=False)\n",
    "gt2l = vaex.from_pandas(Pgt2l, copy_index=False)\n",
    "gt2r = vaex.from_pandas(Pgt2r, copy_index=False)\n",
    "gt3l = vaex.from_pandas(Pgt3l, copy_index=False)\n",
    "gt3r = vaex.from_pandas(Pgt3r, copy_index=False)"
   ]
  },
  {
   "cell_type": "code",
   "execution_count": 9,
   "id": "reduced-vienna",
   "metadata": {},
   "outputs": [],
   "source": [
    "files = os.listdir('./data02/')"
   ]
  },
  {
   "cell_type": "code",
   "execution_count": 11,
   "id": "artificial-adams",
   "metadata": {},
   "outputs": [
    {
     "name": "stderr",
     "output_type": "stream",
     "text": [
      "  0%|          | 5/1327 [00:26<1:56:21,  5.28s/it]\n"
     ]
    },
    {
     "ename": "KeyboardInterrupt",
     "evalue": "",
     "output_type": "error",
     "traceback": [
      "\u001b[0;31m---------------------------------------------------------------------------\u001b[0m",
      "\u001b[0;31mKeyboardInterrupt\u001b[0m                         Traceback (most recent call last)",
      "\u001b[0;32m<ipython-input-11-ba62e32a477a>\u001b[0m in \u001b[0;36m<module>\u001b[0;34m\u001b[0m\n\u001b[1;32m      1\u001b[0m \u001b[0;32mfor\u001b[0m \u001b[0mfile\u001b[0m \u001b[0;32min\u001b[0m \u001b[0mtqdm\u001b[0m\u001b[0;34m(\u001b[0m\u001b[0mfiles\u001b[0m\u001b[0;34m)\u001b[0m\u001b[0;34m:\u001b[0m\u001b[0;34m\u001b[0m\u001b[0;34m\u001b[0m\u001b[0m\n\u001b[0;32m----> 2\u001b[0;31m     \u001b[0mdfs\u001b[0m \u001b[0;34m=\u001b[0m \u001b[0mread_atl06\u001b[0m\u001b[0;34m(\u001b[0m\u001b[0;34m'./data02/'\u001b[0m \u001b[0;34m+\u001b[0m \u001b[0mfile\u001b[0m\u001b[0;34m,\u001b[0m \u001b[0mcycle\u001b[0m\u001b[0;34m=\u001b[0m\u001b[0mint\u001b[0m\u001b[0;34m(\u001b[0m\u001b[0;36m2\u001b[0m\u001b[0;34m)\u001b[0m\u001b[0;34m)\u001b[0m\u001b[0;34m\u001b[0m\u001b[0;34m\u001b[0m\u001b[0m\n\u001b[0m\u001b[1;32m      3\u001b[0m     \u001b[0;32mfor\u001b[0m \u001b[0mthing\u001b[0m \u001b[0;32min\u001b[0m \u001b[0mdfs\u001b[0m\u001b[0;34m:\u001b[0m\u001b[0;34m\u001b[0m\u001b[0;34m\u001b[0m\u001b[0m\n\u001b[1;32m      4\u001b[0m         \u001b[0mgt1l\u001b[0m \u001b[0;34m=\u001b[0m \u001b[0mgt1l\u001b[0m\u001b[0;34m.\u001b[0m\u001b[0mconcat\u001b[0m\u001b[0;34m(\u001b[0m\u001b[0mvaex\u001b[0m\u001b[0;34m.\u001b[0m\u001b[0mfrom_pandas\u001b[0m\u001b[0;34m(\u001b[0m\u001b[0mthing\u001b[0m\u001b[0;34m,\u001b[0m \u001b[0mcopy_index\u001b[0m\u001b[0;34m=\u001b[0m\u001b[0;32mFalse\u001b[0m\u001b[0;34m)\u001b[0m\u001b[0;34m)\u001b[0m\u001b[0;34m\u001b[0m\u001b[0;34m\u001b[0m\u001b[0m\n\u001b[1;32m      5\u001b[0m     \u001b[0;31m#gt1r = gt1r.concat(vaex.from_pandas(dfs[1], copy_index=False))\u001b[0m\u001b[0;34m\u001b[0m\u001b[0;34m\u001b[0m\u001b[0;34m\u001b[0m\u001b[0m\n",
      "\u001b[0;32m<ipython-input-3-45cea3a9185d>\u001b[0m in \u001b[0;36mread_atl06\u001b[0;34m(fname, cycle)\u001b[0m\n\u001b[1;32m     56\u001b[0m \u001b[0;34m\u001b[0m\u001b[0m\n\u001b[1;32m     57\u001b[0m             \u001b[0;31m# GPS sec to datetime\u001b[0m\u001b[0;34m\u001b[0m\u001b[0;34m\u001b[0m\u001b[0;34m\u001b[0m\u001b[0m\n\u001b[0;32m---> 58\u001b[0;31m             \u001b[0mdata\u001b[0m\u001b[0;34m[\u001b[0m\u001b[0;34m't_year'\u001b[0m\u001b[0;34m]\u001b[0m \u001b[0;34m=\u001b[0m \u001b[0mgps2dyr\u001b[0m\u001b[0;34m(\u001b[0m\u001b[0mt_gps\u001b[0m\u001b[0;34m)\u001b[0m\u001b[0;34m\u001b[0m\u001b[0;34m\u001b[0m\u001b[0m\n\u001b[0m\u001b[1;32m     59\u001b[0m             \u001b[0mdata\u001b[0m\u001b[0;34m[\u001b[0m\u001b[0;34m'cycle'\u001b[0m\u001b[0;34m]\u001b[0m \u001b[0;34m=\u001b[0m \u001b[0mnp\u001b[0m\u001b[0;34m.\u001b[0m\u001b[0mones\u001b[0m\u001b[0;34m(\u001b[0m\u001b[0mnpts\u001b[0m\u001b[0;34m,\u001b[0m \u001b[0mdtype\u001b[0m\u001b[0;34m=\u001b[0m\u001b[0mnp\u001b[0m\u001b[0;34m.\u001b[0m\u001b[0mint8\u001b[0m\u001b[0;34m)\u001b[0m\u001b[0;34m*\u001b[0m\u001b[0mcycle\u001b[0m\u001b[0;34m\u001b[0m\u001b[0;34m\u001b[0m\u001b[0m\n\u001b[1;32m     60\u001b[0m             \u001b[0mdata\u001b[0m\u001b[0;34m[\u001b[0m\u001b[0;34m'track'\u001b[0m\u001b[0;34m]\u001b[0m \u001b[0;34m=\u001b[0m \u001b[0mnp\u001b[0m\u001b[0;34m.\u001b[0m\u001b[0mrepeat\u001b[0m\u001b[0;34m(\u001b[0m\u001b[0mg\u001b[0m\u001b[0;34m[\u001b[0m\u001b[0;36m1\u001b[0m\u001b[0;34m:\u001b[0m\u001b[0;34m]\u001b[0m\u001b[0;34m,\u001b[0m \u001b[0mnpts\u001b[0m\u001b[0;34m)\u001b[0m\u001b[0;34m\u001b[0m\u001b[0;34m\u001b[0m\u001b[0m\n",
      "\u001b[0;32m<ipython-input-2-48b55d06b0a3>\u001b[0m in \u001b[0;36mgps2dyr\u001b[0;34m(time)\u001b[0m\n\u001b[1;32m      1\u001b[0m \u001b[0;32mdef\u001b[0m \u001b[0mgps2dyr\u001b[0m\u001b[0;34m(\u001b[0m\u001b[0mtime\u001b[0m\u001b[0;34m)\u001b[0m\u001b[0;34m:\u001b[0m\u001b[0;34m\u001b[0m\u001b[0;34m\u001b[0m\u001b[0m\n\u001b[1;32m      2\u001b[0m     \u001b[0;34m\"\"\"Converts GPS time to datetime (can also do decimal years).\"\"\"\u001b[0m\u001b[0;34m\u001b[0m\u001b[0;34m\u001b[0m\u001b[0m\n\u001b[0;32m----> 3\u001b[0;31m     \u001b[0;32mreturn\u001b[0m \u001b[0mTime\u001b[0m\u001b[0;34m(\u001b[0m\u001b[0mtime\u001b[0m\u001b[0;34m,\u001b[0m \u001b[0mformat\u001b[0m\u001b[0;34m=\u001b[0m\u001b[0;34m'gps'\u001b[0m\u001b[0;34m)\u001b[0m\u001b[0;34m.\u001b[0m\u001b[0mdatetime\u001b[0m\u001b[0;34m\u001b[0m\u001b[0;34m\u001b[0m\u001b[0m\n\u001b[0m",
      "\u001b[0;32m/home/jupyter/iceDivides/_build/pip_packages/lib/python3.8/site-packages/astropy/time/core.py\u001b[0m in \u001b[0;36m__getattr__\u001b[0;34m(self, attr)\u001b[0m\n\u001b[1;32m   1328\u001b[0m \u001b[0;34m\u001b[0m\u001b[0m\n\u001b[1;32m   1329\u001b[0m         \u001b[0;32melif\u001b[0m \u001b[0mattr\u001b[0m \u001b[0;32min\u001b[0m \u001b[0mself\u001b[0m\u001b[0;34m.\u001b[0m\u001b[0mFORMATS\u001b[0m\u001b[0;34m:\u001b[0m\u001b[0;34m\u001b[0m\u001b[0;34m\u001b[0m\u001b[0m\n\u001b[0;32m-> 1330\u001b[0;31m             \u001b[0;32mreturn\u001b[0m \u001b[0mself\u001b[0m\u001b[0;34m.\u001b[0m\u001b[0mto_value\u001b[0m\u001b[0;34m(\u001b[0m\u001b[0mattr\u001b[0m\u001b[0;34m,\u001b[0m \u001b[0msubfmt\u001b[0m\u001b[0;34m=\u001b[0m\u001b[0;32mNone\u001b[0m\u001b[0;34m)\u001b[0m\u001b[0;34m\u001b[0m\u001b[0;34m\u001b[0m\u001b[0m\n\u001b[0m\u001b[1;32m   1331\u001b[0m \u001b[0;34m\u001b[0m\u001b[0m\n\u001b[1;32m   1332\u001b[0m         \u001b[0;32melif\u001b[0m \u001b[0mattr\u001b[0m \u001b[0;32min\u001b[0m \u001b[0mTIME_SCALES\u001b[0m\u001b[0;34m:\u001b[0m  \u001b[0;31m# allowed ones done above (self.SCALES)\u001b[0m\u001b[0;34m\u001b[0m\u001b[0;34m\u001b[0m\u001b[0m\n",
      "\u001b[0;32m/home/jupyter/iceDivides/_build/pip_packages/lib/python3.8/site-packages/astropy/time/core.py\u001b[0m in \u001b[0;36mto_value\u001b[0;34m(self, format, subfmt)\u001b[0m\n\u001b[1;32m    775\u001b[0m                 \u001b[0mkwargs\u001b[0m\u001b[0;34m[\u001b[0m\u001b[0;34m'out_subfmt'\u001b[0m\u001b[0;34m]\u001b[0m \u001b[0;34m=\u001b[0m \u001b[0msubfmt\u001b[0m\u001b[0;34m\u001b[0m\u001b[0;34m\u001b[0m\u001b[0m\n\u001b[1;32m    776\u001b[0m             \u001b[0;32mtry\u001b[0m\u001b[0;34m:\u001b[0m\u001b[0;34m\u001b[0m\u001b[0;34m\u001b[0m\u001b[0m\n\u001b[0;32m--> 777\u001b[0;31m                 \u001b[0mvalue\u001b[0m \u001b[0;34m=\u001b[0m \u001b[0mtm\u001b[0m\u001b[0;34m.\u001b[0m\u001b[0m_time\u001b[0m\u001b[0;34m.\u001b[0m\u001b[0mto_value\u001b[0m\u001b[0;34m(\u001b[0m\u001b[0mparent\u001b[0m\u001b[0;34m=\u001b[0m\u001b[0mtm\u001b[0m\u001b[0;34m,\u001b[0m \u001b[0;34m**\u001b[0m\u001b[0mkwargs\u001b[0m\u001b[0;34m)\u001b[0m\u001b[0;34m\u001b[0m\u001b[0;34m\u001b[0m\u001b[0m\n\u001b[0m\u001b[1;32m    778\u001b[0m             \u001b[0;32mexcept\u001b[0m \u001b[0mTypeError\u001b[0m \u001b[0;32mas\u001b[0m \u001b[0mexc\u001b[0m\u001b[0;34m:\u001b[0m\u001b[0;34m\u001b[0m\u001b[0;34m\u001b[0m\u001b[0m\n\u001b[1;32m    779\u001b[0m                 \u001b[0;31m# Try validating subfmt, e.g. for formats like 'jyear_str' that\u001b[0m\u001b[0;34m\u001b[0m\u001b[0;34m\u001b[0m\u001b[0;34m\u001b[0m\u001b[0m\n",
      "\u001b[0;32m/home/jupyter/iceDivides/_build/pip_packages/lib/python3.8/site-packages/astropy/time/formats.py\u001b[0m in \u001b[0;36mto_value\u001b[0;34m(self, timezone, parent, out_subfmt)\u001b[0m\n\u001b[1;32m   1015\u001b[0m \u001b[0;34m\u001b[0m\u001b[0m\n\u001b[1;32m   1016\u001b[0m         \u001b[0;32mfor\u001b[0m \u001b[0miy\u001b[0m\u001b[0;34m,\u001b[0m \u001b[0mim\u001b[0m\u001b[0;34m,\u001b[0m \u001b[0mid\u001b[0m\u001b[0;34m,\u001b[0m \u001b[0mihr\u001b[0m\u001b[0;34m,\u001b[0m \u001b[0mimin\u001b[0m\u001b[0;34m,\u001b[0m \u001b[0misec\u001b[0m\u001b[0;34m,\u001b[0m \u001b[0mifracsec\u001b[0m\u001b[0;34m,\u001b[0m \u001b[0mout\u001b[0m \u001b[0;32min\u001b[0m \u001b[0miterator\u001b[0m\u001b[0;34m:\u001b[0m\u001b[0;34m\u001b[0m\u001b[0;34m\u001b[0m\u001b[0m\n\u001b[0;32m-> 1017\u001b[0;31m             \u001b[0;32mif\u001b[0m \u001b[0misec\u001b[0m \u001b[0;34m>=\u001b[0m \u001b[0;36m60\u001b[0m\u001b[0;34m:\u001b[0m\u001b[0;34m\u001b[0m\u001b[0;34m\u001b[0m\u001b[0m\n\u001b[0m\u001b[1;32m   1018\u001b[0m                 raise ValueError('Time {} is within a leap second but datetime '\n\u001b[1;32m   1019\u001b[0m                                  \u001b[0;34m'does not support leap seconds'\u001b[0m\u001b[0;34m\u001b[0m\u001b[0;34m\u001b[0m\u001b[0m\n",
      "\u001b[0;31mKeyboardInterrupt\u001b[0m: "
     ]
    }
   ],
   "source": [
    "for file in tqdm(files):\n",
    "    dfs = read_atl06('./data02/' + file, cycle=int(2))\n",
    "    for thing in dfs:\n",
    "        gt1l = gt1l.concat(vaex.from_pandas(thing, copy_index=False))\n",
    "    #gt1r = gt1r.concat(vaex.from_pandas(dfs[1], copy_index=False))\n",
    "    #gt2l = gt2l.concat(vaex.from_pandas(dfs[2], copy_index=False))\n",
    "    #gt2r = gt2r.concat(vaex.from_pandas(dfs[3], copy_index=False))\n",
    "    #gt3l = gt3l.concat(vaex.from_pandas(dfs[4], copy_index=False))\n",
    "    #gt3r = gt3r.concat(vaex.from_pandas(dfs[5], copy_index=False))"
   ]
  },
  {
   "cell_type": "code",
   "execution_count": null,
   "id": "normal-connection",
   "metadata": {},
   "outputs": [],
   "source": [
    "df = vaex.concat([gt1l, gt"
   ]
  },
  {
   "cell_type": "code",
   "execution_count": null,
   "id": "adequate-airplane",
   "metadata": {},
   "outputs": [],
   "source": []
  },
  {
   "cell_type": "code",
   "execution_count": null,
   "id": "unnecessary-ocean",
   "metadata": {},
   "outputs": [],
   "source": [
    "import pyproj"
   ]
  },
  {
   "cell_type": "code",
   "execution_count": null,
   "id": "young-electronics",
   "metadata": {},
   "outputs": [],
   "source": [
    "# lon / lat\n",
    "psgs = pyproj.Proj(3976)\n"
   ]
  },
  {
   "cell_type": "code",
   "execution_count": null,
   "id": "solid-involvement",
   "metadata": {},
   "outputs": [],
   "source": [
    "df['x'] , df['y'] = df.apply(psgs, arguments=[df.lon, df.lat])"
   ]
  },
  {
   "cell_type": "code",
   "execution_count": null,
   "id": "freelance-legend",
   "metadata": {},
   "outputs": [],
   "source": []
  },
  {
   "cell_type": "code",
   "execution_count": 9,
   "id": "polished-stanley",
   "metadata": {},
   "outputs": [
    {
     "name": "stdout",
     "output_type": "stream",
     "text": [
      "Assimilation.ipynb  Untitled.ipynb  download.py                  utils.py\r\n",
      "Climate_bash.ipynb  \u001b[0m\u001b[01;34m_build\u001b[0m/         download_icesat2.ipynb       utils_atl03.py\r\n",
      "CloudMask.ipynb     \u001b[01;34mdata\u001b[0m/           \u001b[01;34mexamples\u001b[0m/                    utils_atl06.py\r\n",
      "ExampleFetch.ipynb  default.nix     mixed_graphical_model.ipynb  utils_cloud.py\r\n",
      "IngestATL03.ipynb   des.nix         seed.h5\r\n"
     ]
    }
   ],
   "source": [
    "ls"
   ]
  },
  {
   "cell_type": "code",
   "execution_count": 11,
   "id": "intimate-increase",
   "metadata": {},
   "outputs": [],
   "source": [
    "gt1l.export_arrow('./gt1l.arrow')\n",
    "gt1r.export_arrow('./gt1r.arrow')\n",
    "gt2l.export_arrow('./gt2l.arrow')\n",
    "gt2r.export_arrow('./gt2r.arrow')\n",
    "gt3l.export_arrow('./gt3l.arrow')\n",
    "gt3r.export_arrow('./gt3r.arrow')\n"
   ]
  },
  {
   "cell_type": "code",
   "execution_count": 10,
   "id": "operating-possibility",
   "metadata": {},
   "outputs": [
    {
     "data": {
      "text/html": [
       "<table>\n",
       "<thead>\n",
       "<tr><th>#                                      </th><th>id     </th><th>lat               </th><th>lon                </th><th>slope_y      </th><th>slope_x      </th><th>slope_x_sigma  </th><th>h_li     </th><th>s_li       </th><th>q_flag  </th><th>s_fg  </th><th>snr  </th><th>h_rb      </th><th>bsnow_conf  </th><th>cloud_flg_asr  </th><th>cloud_flg_atm  </th><th>msw_flag  </th><th>fbsnow_h  </th><th>bsnow_od  </th><th>layer_flag  </th><th>bckgrd   </th><th>e_bckgrd  </th><th>n_fit_photons  </th><th>w_surface_window_final  </th><th>t_year                       </th></tr>\n",
       "</thead>\n",
       "<tbody>\n",
       "<tr><td><i style='opacity: 0.6'>0</i>          </td><td>1443576</td><td>-79.00265175898602</td><td>152.6338938942904  </td><td>-0.0034930306</td><td>-0.0019932939</td><td>0.0012799798   </td><td>2112.0972</td><td>0.02197273 </td><td>0       </td><td>0     </td><td>0.0  </td><td>0.13674001</td><td>-1          </td><td>1              </td><td>0              </td><td>0         </td><td>98.97748  </td><td>0.15880647</td><td>0           </td><td>3543741.5</td><td>1567040.4 </td><td>138            </td><td>3.0                     </td><td>2018-12-28 13:08:17.510551000</td></tr>\n",
       "<tr><td><i style='opacity: 0.6'>1</i>          </td><td>1443577</td><td>-79.00282660535785</td><td>152.6337131144976  </td><td>-0.0033072757</td><td>-0.005460351 </td><td>0.0012954295   </td><td>2111.9941</td><td>0.015203893</td><td>0       </td><td>0     </td><td>0.0  </td><td>0.12070798</td><td>-1          </td><td>1              </td><td>0              </td><td>0         </td><td>96.86956  </td><td>0.15470755</td><td>0           </td><td>3428445.2</td><td>1567056.9 </td><td>144            </td><td>3.0                     </td><td>2018-12-28 13:08:17.513373000</td></tr>\n",
       "<tr><td><i style='opacity: 0.6'>2</i>          </td><td>1443581</td><td>-79.00770226316052</td><td>-70.68951907383446 </td><td>0.014864666  </td><td>0.008418874  </td><td>0.0005335565   </td><td>184.627  </td><td>0.010601515</td><td>0       </td><td>0     </td><td>0.0  </td><td>0.12233275</td><td>4           </td><td>2              </td><td>1              </td><td>4         </td><td>202.5068  </td><td>0.23907205</td><td>0           </td><td>821368.3 </td><td>456252.12 </td><td>397            </td><td>3.0                     </td><td>2019-02-23 01:20:25.102900000</td></tr>\n",
       "<tr><td><i style='opacity: 0.6'>3</i>          </td><td>1443582</td><td>-79.00787704800452</td><td>-70.68970163845202 </td><td>0.014720231  </td><td>0.0057043494 </td><td>0.0005324582   </td><td>184.77682</td><td>0.011338408</td><td>0       </td><td>0     </td><td>0.0  </td><td>0.12369104</td><td>4           </td><td>2              </td><td>1              </td><td>4         </td><td>200.39746 </td><td>0.23566185</td><td>0           </td><td>794943.7 </td><td>456265.75 </td><td>381            </td><td>3.0                     </td><td>2019-02-23 01:20:25.105714000</td></tr>\n",
       "<tr><td><i style='opacity: 0.6'>4</i>          </td><td>1443583</td><td>-79.00805186741138</td><td>-70.68988326285287 </td><td>0.014575872  </td><td>0.009426143  </td><td>0.0006639459   </td><td>184.91608</td><td>0.012034703</td><td>0       </td><td>0     </td><td>0.0  </td><td>0.14692499</td><td>4           </td><td>2              </td><td>1              </td><td>4         </td><td>198.28993 </td><td>0.23225461</td><td>0           </td><td>780100.6 </td><td>456282.53 </td><td>388            </td><td>3.0                     </td><td>2019-02-23 01:20:25.108526000</td></tr>\n",
       "<tr><td>...                                    </td><td>...    </td><td>...               </td><td>...                </td><td>...          </td><td>...          </td><td>...            </td><td>...      </td><td>...        </td><td>...     </td><td>...   </td><td>...  </td><td>...       </td><td>...         </td><td>...            </td><td>...            </td><td>...       </td><td>...       </td><td>...       </td><td>...         </td><td>...      </td><td>...       </td><td>...            </td><td>...                     </td><td>...                          </td></tr>\n",
       "<tr><td><i style='opacity: 0.6'>133,682,447</i></td><td>1565346</td><td>-79.00721045006628</td><td>-132.21977068251854</td><td>-0.006477784 </td><td>0.004741233  </td><td>0.0016565407   </td><td>1102.3906</td><td>0.03348249 </td><td>0       </td><td>0     </td><td>0.0  </td><td>0.21513973</td><td>-1          </td><td>4              </td><td>1              </td><td>2         </td><td>209.85472 </td><td>0.6916528 </td><td>1           </td><td>494481.06</td><td>420435.2  </td><td>111            </td><td>3.0                     </td><td>2019-03-28 17:10:59.581486000</td></tr>\n",
       "<tr><td><i style='opacity: 0.6'>133,682,448</i></td><td>1565347</td><td>-79.00703565872891</td><td>-132.2199529490756 </td><td>-0.005692235 </td><td>0.002207704  </td><td>0.0018826145   </td><td>1102.4156</td><td>0.029799085</td><td>0       </td><td>0     </td><td>0.0  </td><td>0.21348575</td><td>-1          </td><td>4              </td><td>1              </td><td>2         </td><td>209.85472 </td><td>0.6932627 </td><td>1           </td><td>514356.84</td><td>420444.66 </td><td>102            </td><td>3.0                     </td><td>2019-03-28 17:10:59.584297000</td></tr>\n",
       "<tr><td><i style='opacity: 0.6'>133,682,449</i></td><td>1565348</td><td>-79.00686084266192</td><td>-132.22013452710036</td><td>-0.0059905816</td><td>-0.003254145 </td><td>0.0019431423   </td><td>1102.4171</td><td>0.04439576 </td><td>0       </td><td>0     </td><td>0.0  </td><td>0.21254022</td><td>-1          </td><td>4              </td><td>1              </td><td>2         </td><td>209.85472 </td><td>0.6948735 </td><td>1           </td><td>513579.88</td><td>420454.1  </td><td>90             </td><td>3.0                     </td><td>2019-03-28 17:10:59.587110000</td></tr>\n",
       "<tr><td><i style='opacity: 0.6'>133,682,450</i></td><td>1565349</td><td>-79.00668598596165</td><td>-132.22031501663284</td><td>-0.006612603 </td><td>0.0012488412 </td><td>0.0021047168   </td><td>1102.4423</td><td>0.037854582</td><td>0       </td><td>0     </td><td>0.0  </td><td>0.21960956</td><td>-1          </td><td>4              </td><td>1              </td><td>2         </td><td>209.85472 </td><td>0.6964865 </td><td>1           </td><td>496849.22</td><td>420463.56 </td><td>92             </td><td>3.0                     </td><td>2019-03-28 17:10:59.589927000</td></tr>\n",
       "<tr><td><i style='opacity: 0.6'>133,682,451</i></td><td>1565350</td><td>-79.00651108765229</td><td>-132.22049439130075</td><td>-0.006373983 </td><td>0.0057607717 </td><td>0.002044127    </td><td>1102.5253</td><td>0.033580653</td><td>0       </td><td>0     </td><td>0.0  </td><td>0.22675054</td><td>-1          </td><td>4              </td><td>1              </td><td>2         </td><td>209.85472 </td><td>0.6981005 </td><td>1           </td><td>479508.7 </td><td>420473.03 </td><td>84             </td><td>3.0                     </td><td>2019-03-28 17:10:59.592746000</td></tr>\n",
       "</tbody>\n",
       "</table>"
      ],
      "text/plain": [
       "#            id       lat                 lon                  slope_y        slope_x        slope_x_sigma    h_li       s_li         q_flag    s_fg    snr    h_rb        bsnow_conf    cloud_flg_asr    cloud_flg_atm    msw_flag    fbsnow_h    bsnow_od    layer_flag    bckgrd     e_bckgrd    n_fit_photons    w_surface_window_final    t_year\n",
       "0            1443576  -79.00265175898602  152.6338938942904    -0.0034930306  -0.0019932939  0.0012799798     2112.0972  0.02197273   0         0       0.0    0.13674001  -1            1                0                0           98.97748    0.15880647  0             3543741.5  1567040.4   138              3.0                       2018-12-28 13:08:17.510551000\n",
       "1            1443577  -79.00282660535785  152.6337131144976    -0.0033072757  -0.005460351   0.0012954295     2111.9941  0.015203893  0         0       0.0    0.12070798  -1            1                0                0           96.86956    0.15470755  0             3428445.2  1567056.9   144              3.0                       2018-12-28 13:08:17.513373000\n",
       "2            1443581  -79.00770226316052  -70.68951907383446   0.014864666    0.008418874    0.0005335565     184.627    0.010601515  0         0       0.0    0.12233275  4             2                1                4           202.5068    0.23907205  0             821368.3   456252.12   397              3.0                       2019-02-23 01:20:25.102900000\n",
       "3            1443582  -79.00787704800452  -70.68970163845202   0.014720231    0.0057043494   0.0005324582     184.77682  0.011338408  0         0       0.0    0.12369104  4             2                1                4           200.39746   0.23566185  0             794943.7   456265.75   381              3.0                       2019-02-23 01:20:25.105714000\n",
       "4            1443583  -79.00805186741138  -70.68988326285287   0.014575872    0.009426143    0.0006639459     184.91608  0.012034703  0         0       0.0    0.14692499  4             2                1                4           198.28993   0.23225461  0             780100.6   456282.53   388              3.0                       2019-02-23 01:20:25.108526000\n",
       "...          ...      ...                 ...                  ...            ...            ...              ...        ...          ...       ...     ...    ...         ...           ...              ...              ...         ...         ...         ...           ...        ...         ...              ...                       ...\n",
       "133,682,447  1565346  -79.00721045006628  -132.21977068251854  -0.006477784   0.004741233    0.0016565407     1102.3906  0.03348249   0         0       0.0    0.21513973  -1            4                1                2           209.85472   0.6916528   1             494481.06  420435.2    111              3.0                       2019-03-28 17:10:59.581486000\n",
       "133,682,448  1565347  -79.00703565872891  -132.2199529490756   -0.005692235   0.002207704    0.0018826145     1102.4156  0.029799085  0         0       0.0    0.21348575  -1            4                1                2           209.85472   0.6932627   1             514356.84  420444.66   102              3.0                       2019-03-28 17:10:59.584297000\n",
       "133,682,449  1565348  -79.00686084266192  -132.22013452710036  -0.0059905816  -0.003254145   0.0019431423     1102.4171  0.04439576   0         0       0.0    0.21254022  -1            4                1                2           209.85472   0.6948735   1             513579.88  420454.1    90               3.0                       2019-03-28 17:10:59.587110000\n",
       "133,682,450  1565349  -79.00668598596165  -132.22031501663284  -0.006612603   0.0012488412   0.0021047168     1102.4423  0.037854582  0         0       0.0    0.21960956  -1            4                1                2           209.85472   0.6964865   1             496849.22  420463.56   92               3.0                       2019-03-28 17:10:59.589927000\n",
       "133,682,451  1565350  -79.00651108765229  -132.22049439130075  -0.006373983   0.0057607717   0.002044127      1102.5253  0.033580653  0         0       0.0    0.22675054  -1            4                1                2           209.85472   0.6981005   1             479508.7   420473.03   84               3.0                       2019-03-28 17:10:59.592746000"
      ]
     },
     "execution_count": 10,
     "metadata": {},
     "output_type": "execute_result"
    }
   ],
   "source": [
    "gt1l"
   ]
  },
  {
   "cell_type": "code",
   "execution_count": null,
   "id": "guilty-legend",
   "metadata": {},
   "outputs": [],
   "source": []
  }
 ],
 "metadata": {
  "kernelspec": {
   "display_name": "Python 3",
   "language": "python",
   "name": "python3"
  },
  "language_info": {
   "codemirror_mode": {
    "name": "ipython",
    "version": 3
   },
   "file_extension": ".py",
   "mimetype": "text/x-python",
   "name": "python",
   "nbconvert_exporter": "python",
   "pygments_lexer": "ipython3",
   "version": "3.8.9"
  }
 },
 "nbformat": 4,
 "nbformat_minor": 5
}
