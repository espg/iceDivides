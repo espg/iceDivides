{
 "cells": [
  {
   "cell_type": "code",
   "execution_count": 16,
   "id": "hybrid-living",
   "metadata": {},
   "outputs": [
    {
     "data": {
      "text/html": [
       "<table>\n",
       "<thead>\n",
       "<tr><th>#                                  </th><th>id  </th><th>x           </th><th>y          </th><th>z          </th><th>vx        </th><th>vy         </th><th>vz        </th><th>E         </th><th>L        </th><th>Lz        </th><th>FeH       </th></tr>\n",
       "</thead>\n",
       "<tbody>\n",
       "<tr><td><i style='opacity: 0.6'>0</i>      </td><td>0   </td><td>1.2318684   </td><td>-0.39692867</td><td>-0.59805775</td><td>301.15527 </td><td>174.05948  </td><td>27.427546 </td><td>-149431.4 </td><td>407.38898</td><td>333.95554 </td><td>-1.0053853</td></tr>\n",
       "<tr><td><i style='opacity: 0.6'>1</i>      </td><td>23  </td><td>-0.16370061 </td><td>3.6542213  </td><td>-0.25490645</td><td>-195.00023</td><td>170.47217  </td><td>142.53023 </td><td>-124247.95</td><td>890.24115</td><td>684.6676  </td><td>-1.708667 </td></tr>\n",
       "<tr><td><i style='opacity: 0.6'>2</i>      </td><td>32  </td><td>-2.120256   </td><td>3.3260527  </td><td>1.7078403  </td><td>-48.63423 </td><td>171.6473   </td><td>-2.0794373</td><td>-138500.55</td><td>372.2411 </td><td>-202.17618</td><td>-1.8336141</td></tr>\n",
       "<tr><td><i style='opacity: 0.6'>3</i>      </td><td>8   </td><td>4.715589    </td><td>4.585251   </td><td>2.2515438  </td><td>-232.42084</td><td>-294.85083 </td><td>62.85865  </td><td>-60037.04 </td><td>1297.6304</td><td>-324.6875 </td><td>-1.4786882</td></tr>\n",
       "<tr><td><i style='opacity: 0.6'>4</i>      </td><td>16  </td><td>7.217187    </td><td>11.994717  </td><td>-1.0645622 </td><td>-1.6891745</td><td>181.32935  </td><td>-11.333611</td><td>-83206.84 </td><td>1332.799 </td><td>1328.949  </td><td>-1.8570484</td></tr>\n",
       "<tr><td>...                                </td><td>... </td><td>...         </td><td>...        </td><td>...        </td><td>...       </td><td>...        </td><td>...       </td><td>...       </td><td>...      </td><td>...       </td><td>...       </td></tr>\n",
       "<tr><td><i style='opacity: 0.6'>329,995</i></td><td>21  </td><td>1.9938701   </td><td>0.7892761  </td><td>0.2220599  </td><td>-216.9299 </td><td>16.12442   </td><td>-211.24438</td><td>-146457.44</td><td>457.72247</td><td>203.36758 </td><td>-1.7451677</td></tr>\n",
       "<tr><td><i style='opacity: 0.6'>329,996</i></td><td>25  </td><td>3.7180912   </td><td>0.7213376  </td><td>1.6415337  </td><td>-185.9216 </td><td>-117.250824</td><td>-105.49866</td><td>-126627.11</td><td>335.00256</td><td>-301.837  </td><td>-0.9822322</td></tr>\n",
       "<tr><td><i style='opacity: 0.6'>329,997</i></td><td>14  </td><td>0.36885077  </td><td>13.029609  </td><td>-3.6339347 </td><td>-53.677147</td><td>-145.15771 </td><td>76.7091   </td><td>-84912.26 </td><td>817.1376 </td><td>645.8507  </td><td>-1.7645613</td></tr>\n",
       "<tr><td><i style='opacity: 0.6'>329,998</i></td><td>18  </td><td>-0.112592645</td><td>1.4529126  </td><td>2.1689527  </td><td>179.30865 </td><td>205.7971   </td><td>-68.75873 </td><td>-133498.47</td><td>724.00024</td><td>-283.69104</td><td>-1.8808953</td></tr>\n",
       "<tr><td><i style='opacity: 0.6'>329,999</i></td><td>4   </td><td>20.79622    </td><td>-3.3313878 </td><td>12.188416  </td><td>42.690002 </td><td>69.204796  </td><td>29.542751 </td><td>-65519.33 </td><td>1843.0747</td><td>1581.4152 </td><td>-1.1231084</td></tr>\n",
       "</tbody>\n",
       "</table>"
      ],
      "text/plain": [
       "#        id    x             y            z            vx          vy           vz          E           L          Lz          FeH\n",
       "0        0     1.2318684     -0.39692867  -0.59805775  301.15527   174.05948    27.427546   -149431.4   407.38898  333.95554   -1.0053853\n",
       "1        23    -0.16370061   3.6542213    -0.25490645  -195.00023  170.47217    142.53023   -124247.95  890.24115  684.6676    -1.708667\n",
       "2        32    -2.120256     3.3260527    1.7078403    -48.63423   171.6473     -2.0794373  -138500.55  372.2411   -202.17618  -1.8336141\n",
       "3        8     4.715589      4.585251     2.2515438    -232.42084  -294.85083   62.85865    -60037.04   1297.6304  -324.6875   -1.4786882\n",
       "4        16    7.217187      11.994717    -1.0645622   -1.6891745  181.32935    -11.333611  -83206.84   1332.799   1328.949    -1.8570484\n",
       "...      ...   ...           ...          ...          ...         ...          ...         ...         ...        ...         ...\n",
       "329,995  21    1.9938701     0.7892761    0.2220599    -216.9299   16.12442     -211.24438  -146457.44  457.72247  203.36758   -1.7451677\n",
       "329,996  25    3.7180912     0.7213376    1.6415337    -185.9216   -117.250824  -105.49866  -126627.11  335.00256  -301.837    -0.9822322\n",
       "329,997  14    0.36885077    13.029609    -3.6339347   -53.677147  -145.15771   76.7091     -84912.26   817.1376   645.8507    -1.7645613\n",
       "329,998  18    -0.112592645  1.4529126    2.1689527    179.30865   205.7971     -68.75873   -133498.47  724.00024  -283.69104  -1.8808953\n",
       "329,999  4     20.79622      -3.3313878   12.188416    42.690002   69.204796    29.542751   -65519.33   1843.0747  1581.4152   -1.1231084"
      ]
     },
     "execution_count": 16,
     "metadata": {},
     "output_type": "execute_result"
    }
   ],
   "source": [
    "import vaex\n",
    "import vaex.jupyter.model as vjm\n",
    "\n",
    "import numpy as np\n",
    "import matplotlib.pyplot as plt\n",
    "\n",
    "df = vaex.example()\n",
    "df"
   ]
  },
  {
   "cell_type": "code",
   "execution_count": 17,
   "id": "close-bowling",
   "metadata": {},
   "outputs": [
    {
     "data": {
      "text/plain": [
       "Axis(bin_centers=None, exception=None, expression=Lz, max=None, min=None, shape=100, shape_default=64, slice=None, status=Status.NO_LIMITS)"
      ]
     },
     "execution_count": 17,
     "metadata": {},
     "output_type": "execute_result"
    }
   ],
   "source": [
    "E_axis = vjm.Axis(df=df, expression=df.E, shape=140)\n",
    "Lz_axis = vjm.Axis(df=df, expression=df.Lz, shape=100)\n",
    "Lz_axis"
   ]
  },
  {
   "cell_type": "code",
   "execution_count": 18,
   "id": "pretty-turner",
   "metadata": {},
   "outputs": [
    {
     "data": {
      "text/plain": [
       "Axis(bin_centers=[-2877.11808899 -2830.27174744 -2783.42540588 -2736.57906433\n",
       " -2689.73272278 -2642.88638123 -2596.04003967 -2549.19369812\n",
       " -2502.34735657 -2455.50101501 -2408.65467346 -2361.80833191\n",
       " -2314.96199036 -2268.1156488  -2221.26930725 -2174.4229657\n",
       " -2127.57662415 -2080.73028259 -2033.88394104 -1987.03759949\n",
       " -1940.19125793 -1893.34491638 -1846.49857483 -1799.65223328\n",
       " -1752.80589172 -1705.95955017 -1659.11320862 -1612.26686707\n",
       " -1565.42052551 -1518.57418396 -1471.72784241 -1424.88150085\n",
       " -1378.0351593  -1331.18881775 -1284.3424762  -1237.49613464\n",
       " -1190.64979309 -1143.80345154 -1096.95710999 -1050.11076843\n",
       " -1003.26442688  -956.41808533  -909.57174377  -862.72540222\n",
       "  -815.87906067  -769.03271912  -722.18637756  -675.34003601\n",
       "  -628.49369446  -581.64735291  -534.80101135  -487.9546698\n",
       "  -441.10832825  -394.26198669  -347.41564514  -300.56930359\n",
       "  -253.72296204  -206.87662048  -160.03027893  -113.18393738\n",
       "   -66.33759583   -19.49125427    27.35508728    74.20142883\n",
       "   121.04777039   167.89411194   214.74045349   261.58679504\n",
       "   308.4331366    355.27947815   402.1258197    448.97216125\n",
       "   495.81850281   542.66484436   589.51118591   636.35752747\n",
       "   683.20386902   730.05021057   776.89655212   823.74289368\n",
       "   870.58923523   917.43557678   964.28191833  1011.12825989\n",
       "  1057.97460144  1104.82094299  1151.66728455  1198.5136261\n",
       "  1245.35996765  1292.2063092   1339.05265076  1385.89899231\n",
       "  1432.74533386  1479.59167542  1526.43801697  1573.28435852\n",
       "  1620.13070007  1666.97704163  1713.82338318  1760.66972473], exception=None, expression=Lz, max=1784.0928955078125, min=-2900.541259765625, shape=100, shape_default=64, slice=None, status=Status.READY)"
      ]
     },
     "execution_count": 18,
     "metadata": {},
     "output_type": "execute_result"
    }
   ],
   "source": [
    "await vaex.jupyter.gather()  # wait until Vaex is done with all background computation\n",
    "Lz_axis  # now min and max are computed, and bin_centers is set"
   ]
  },
  {
   "cell_type": "code",
   "execution_count": 19,
   "id": "nasty-independence",
   "metadata": {},
   "outputs": [
    {
     "data": {
      "application/vnd.jupyter.widget-view+json": {
       "model_id": "945fa4eeddf64509af5db6cde8613d1b",
       "version_major": 2,
       "version_minor": 0
      },
      "text/plain": [
       "DataArray(children=[Container(children=[ProgressCircularNoAnimation(color='#9ECBF5', size=30, text='', value=1…"
      ]
     },
     "metadata": {},
     "output_type": "display_data"
    }
   ],
   "source": [
    "data_array_widget = df.widget.data_array(axes=[Lz_axis, E_axis], selection=[None, 'default'])\n",
    "data_array_widget  # being the last expression in the cell, Jupyter  will 'display' the widget"
   ]
  },
  {
   "cell_type": "code",
   "execution_count": 20,
   "id": "early-hudson",
   "metadata": {},
   "outputs": [
    {
     "name": "stdout",
     "output_type": "stream",
     "text": [
      "type: <class 'xarray.core.dataarray.DataArray'>\n",
      "dims: ('selection', 'Lz', 'E')\n",
      "data: [[[0 0 0 ... 0 0 0]\n",
      "  [0 0 0 ... 0 0 0]\n",
      "  [0 0 0 ... 0 0 0]\n",
      "  ...\n",
      "  [0 0 0 ... 0 0 0]\n",
      "  [0 0 0 ... 0 0 0]\n",
      "  [0 0 0 ... 0 0 0]]]\n",
      "coords: Coordinates:\n",
      "  * selection  (selection) object None\n",
      "  * Lz         (Lz) float64 -2.877e+03 -2.83e+03 ... 1.714e+03 1.761e+03\n",
      "  * E          (E) float64 -2.414e+05 -2.394e+05 ... 3.296e+04 3.495e+04\n",
      "Lz's data: [-2877.11808899 -2830.27174744 -2783.42540588 -2736.57906433\n",
      " -2689.73272278 -2642.88638123 -2596.04003967 -2549.19369812\n",
      " -2502.34735657 -2455.50101501 -2408.65467346 -2361.80833191\n",
      " -2314.96199036 -2268.1156488  -2221.26930725 -2174.4229657\n",
      " -2127.57662415 -2080.73028259 -2033.88394104 -1987.03759949\n",
      " -1940.19125793 -1893.34491638 -1846.49857483 -1799.65223328\n",
      " -1752.80589172 -1705.95955017 -1659.11320862 -1612.26686707\n",
      " -1565.42052551 -1518.57418396 -1471.72784241 -1424.88150085\n",
      " -1378.0351593  -1331.18881775 -1284.3424762  -1237.49613464\n",
      " -1190.64979309 -1143.80345154 -1096.95710999 -1050.11076843\n",
      " -1003.26442688  -956.41808533  -909.57174377  -862.72540222\n",
      "  -815.87906067  -769.03271912  -722.18637756  -675.34003601\n",
      "  -628.49369446  -581.64735291  -534.80101135  -487.9546698\n",
      "  -441.10832825  -394.26198669  -347.41564514  -300.56930359\n",
      "  -253.72296204  -206.87662048  -160.03027893  -113.18393738\n",
      "   -66.33759583   -19.49125427    27.35508728    74.20142883\n",
      "   121.04777039   167.89411194   214.74045349   261.58679504\n",
      "   308.4331366    355.27947815   402.1258197    448.97216125\n",
      "   495.81850281   542.66484436   589.51118591   636.35752747\n",
      "   683.20386902   730.05021057   776.89655212   823.74289368\n",
      "   870.58923523   917.43557678   964.28191833  1011.12825989\n",
      "  1057.97460144  1104.82094299  1151.66728455  1198.5136261\n",
      "  1245.35996765  1292.2063092   1339.05265076  1385.89899231\n",
      "  1432.74533386  1479.59167542  1526.43801697  1573.28435852\n",
      "  1620.13070007  1666.97704163  1713.82338318  1760.66972473]\n",
      "Lz's attrs: {'min': -2900.541259765625, 'max': 1784.0928955078125}\n",
      "And displaying the xarray DataArray:\n"
     ]
    },
    {
     "data": {
      "text/html": [
       "<div><svg style=\"position: absolute; width: 0; height: 0; overflow: hidden\">\n",
       "<defs>\n",
       "<symbol id=\"icon-database\" viewBox=\"0 0 32 32\">\n",
       "<path d=\"M16 0c-8.837 0-16 2.239-16 5v4c0 2.761 7.163 5 16 5s16-2.239 16-5v-4c0-2.761-7.163-5-16-5z\"></path>\n",
       "<path d=\"M16 17c-8.837 0-16-2.239-16-5v6c0 2.761 7.163 5 16 5s16-2.239 16-5v-6c0 2.761-7.163 5-16 5z\"></path>\n",
       "<path d=\"M16 26c-8.837 0-16-2.239-16-5v6c0 2.761 7.163 5 16 5s16-2.239 16-5v-6c0 2.761-7.163 5-16 5z\"></path>\n",
       "</symbol>\n",
       "<symbol id=\"icon-file-text2\" viewBox=\"0 0 32 32\">\n",
       "<path d=\"M28.681 7.159c-0.694-0.947-1.662-2.053-2.724-3.116s-2.169-2.030-3.116-2.724c-1.612-1.182-2.393-1.319-2.841-1.319h-15.5c-1.378 0-2.5 1.121-2.5 2.5v27c0 1.378 1.122 2.5 2.5 2.5h23c1.378 0 2.5-1.122 2.5-2.5v-19.5c0-0.448-0.137-1.23-1.319-2.841zM24.543 5.457c0.959 0.959 1.712 1.825 2.268 2.543h-4.811v-4.811c0.718 0.556 1.584 1.309 2.543 2.268zM28 29.5c0 0.271-0.229 0.5-0.5 0.5h-23c-0.271 0-0.5-0.229-0.5-0.5v-27c0-0.271 0.229-0.5 0.5-0.5 0 0 15.499-0 15.5 0v7c0 0.552 0.448 1 1 1h7v19.5z\"></path>\n",
       "<path d=\"M23 26h-14c-0.552 0-1-0.448-1-1s0.448-1 1-1h14c0.552 0 1 0.448 1 1s-0.448 1-1 1z\"></path>\n",
       "<path d=\"M23 22h-14c-0.552 0-1-0.448-1-1s0.448-1 1-1h14c0.552 0 1 0.448 1 1s-0.448 1-1 1z\"></path>\n",
       "<path d=\"M23 18h-14c-0.552 0-1-0.448-1-1s0.448-1 1-1h14c0.552 0 1 0.448 1 1s-0.448 1-1 1z\"></path>\n",
       "</symbol>\n",
       "</defs>\n",
       "</svg>\n",
       "<style>/* CSS stylesheet for displaying xarray objects in jupyterlab.\n",
       " *\n",
       " */\n",
       "\n",
       ":root {\n",
       "  --xr-font-color0: var(--jp-content-font-color0, rgba(0, 0, 0, 1));\n",
       "  --xr-font-color2: var(--jp-content-font-color2, rgba(0, 0, 0, 0.54));\n",
       "  --xr-font-color3: var(--jp-content-font-color3, rgba(0, 0, 0, 0.38));\n",
       "  --xr-border-color: var(--jp-border-color2, #e0e0e0);\n",
       "  --xr-disabled-color: var(--jp-layout-color3, #bdbdbd);\n",
       "  --xr-background-color: var(--jp-layout-color0, white);\n",
       "  --xr-background-color-row-even: var(--jp-layout-color1, white);\n",
       "  --xr-background-color-row-odd: var(--jp-layout-color2, #eeeeee);\n",
       "}\n",
       "\n",
       "html[theme=dark],\n",
       "body.vscode-dark {\n",
       "  --xr-font-color0: rgba(255, 255, 255, 1);\n",
       "  --xr-font-color2: rgba(255, 255, 255, 0.54);\n",
       "  --xr-font-color3: rgba(255, 255, 255, 0.38);\n",
       "  --xr-border-color: #1F1F1F;\n",
       "  --xr-disabled-color: #515151;\n",
       "  --xr-background-color: #111111;\n",
       "  --xr-background-color-row-even: #111111;\n",
       "  --xr-background-color-row-odd: #313131;\n",
       "}\n",
       "\n",
       ".xr-wrap {\n",
       "  display: block;\n",
       "  min-width: 300px;\n",
       "  max-width: 700px;\n",
       "}\n",
       "\n",
       ".xr-text-repr-fallback {\n",
       "  /* fallback to plain text repr when CSS is not injected (untrusted notebook) */\n",
       "  display: none;\n",
       "}\n",
       "\n",
       ".xr-header {\n",
       "  padding-top: 6px;\n",
       "  padding-bottom: 6px;\n",
       "  margin-bottom: 4px;\n",
       "  border-bottom: solid 1px var(--xr-border-color);\n",
       "}\n",
       "\n",
       ".xr-header > div,\n",
       ".xr-header > ul {\n",
       "  display: inline;\n",
       "  margin-top: 0;\n",
       "  margin-bottom: 0;\n",
       "}\n",
       "\n",
       ".xr-obj-type,\n",
       ".xr-array-name {\n",
       "  margin-left: 2px;\n",
       "  margin-right: 10px;\n",
       "}\n",
       "\n",
       ".xr-obj-type {\n",
       "  color: var(--xr-font-color2);\n",
       "}\n",
       "\n",
       ".xr-sections {\n",
       "  padding-left: 0 !important;\n",
       "  display: grid;\n",
       "  grid-template-columns: 150px auto auto 1fr 20px 20px;\n",
       "}\n",
       "\n",
       ".xr-section-item {\n",
       "  display: contents;\n",
       "}\n",
       "\n",
       ".xr-section-item input {\n",
       "  display: none;\n",
       "}\n",
       "\n",
       ".xr-section-item input + label {\n",
       "  color: var(--xr-disabled-color);\n",
       "}\n",
       "\n",
       ".xr-section-item input:enabled + label {\n",
       "  cursor: pointer;\n",
       "  color: var(--xr-font-color2);\n",
       "}\n",
       "\n",
       ".xr-section-item input:enabled + label:hover {\n",
       "  color: var(--xr-font-color0);\n",
       "}\n",
       "\n",
       ".xr-section-summary {\n",
       "  grid-column: 1;\n",
       "  color: var(--xr-font-color2);\n",
       "  font-weight: 500;\n",
       "}\n",
       "\n",
       ".xr-section-summary > span {\n",
       "  display: inline-block;\n",
       "  padding-left: 0.5em;\n",
       "}\n",
       "\n",
       ".xr-section-summary-in:disabled + label {\n",
       "  color: var(--xr-font-color2);\n",
       "}\n",
       "\n",
       ".xr-section-summary-in + label:before {\n",
       "  display: inline-block;\n",
       "  content: '►';\n",
       "  font-size: 11px;\n",
       "  width: 15px;\n",
       "  text-align: center;\n",
       "}\n",
       "\n",
       ".xr-section-summary-in:disabled + label:before {\n",
       "  color: var(--xr-disabled-color);\n",
       "}\n",
       "\n",
       ".xr-section-summary-in:checked + label:before {\n",
       "  content: '▼';\n",
       "}\n",
       "\n",
       ".xr-section-summary-in:checked + label > span {\n",
       "  display: none;\n",
       "}\n",
       "\n",
       ".xr-section-summary,\n",
       ".xr-section-inline-details {\n",
       "  padding-top: 4px;\n",
       "  padding-bottom: 4px;\n",
       "}\n",
       "\n",
       ".xr-section-inline-details {\n",
       "  grid-column: 2 / -1;\n",
       "}\n",
       "\n",
       ".xr-section-details {\n",
       "  display: none;\n",
       "  grid-column: 1 / -1;\n",
       "  margin-bottom: 5px;\n",
       "}\n",
       "\n",
       ".xr-section-summary-in:checked ~ .xr-section-details {\n",
       "  display: contents;\n",
       "}\n",
       "\n",
       ".xr-array-wrap {\n",
       "  grid-column: 1 / -1;\n",
       "  display: grid;\n",
       "  grid-template-columns: 20px auto;\n",
       "}\n",
       "\n",
       ".xr-array-wrap > label {\n",
       "  grid-column: 1;\n",
       "  vertical-align: top;\n",
       "}\n",
       "\n",
       ".xr-preview {\n",
       "  color: var(--xr-font-color3);\n",
       "}\n",
       "\n",
       ".xr-array-preview,\n",
       ".xr-array-data {\n",
       "  padding: 0 5px !important;\n",
       "  grid-column: 2;\n",
       "}\n",
       "\n",
       ".xr-array-data,\n",
       ".xr-array-in:checked ~ .xr-array-preview {\n",
       "  display: none;\n",
       "}\n",
       "\n",
       ".xr-array-in:checked ~ .xr-array-data,\n",
       ".xr-array-preview {\n",
       "  display: inline-block;\n",
       "}\n",
       "\n",
       ".xr-dim-list {\n",
       "  display: inline-block !important;\n",
       "  list-style: none;\n",
       "  padding: 0 !important;\n",
       "  margin: 0;\n",
       "}\n",
       "\n",
       ".xr-dim-list li {\n",
       "  display: inline-block;\n",
       "  padding: 0;\n",
       "  margin: 0;\n",
       "}\n",
       "\n",
       ".xr-dim-list:before {\n",
       "  content: '(';\n",
       "}\n",
       "\n",
       ".xr-dim-list:after {\n",
       "  content: ')';\n",
       "}\n",
       "\n",
       ".xr-dim-list li:not(:last-child):after {\n",
       "  content: ',';\n",
       "  padding-right: 5px;\n",
       "}\n",
       "\n",
       ".xr-has-index {\n",
       "  font-weight: bold;\n",
       "}\n",
       "\n",
       ".xr-var-list,\n",
       ".xr-var-item {\n",
       "  display: contents;\n",
       "}\n",
       "\n",
       ".xr-var-item > div,\n",
       ".xr-var-item label,\n",
       ".xr-var-item > .xr-var-name span {\n",
       "  background-color: var(--xr-background-color-row-even);\n",
       "  margin-bottom: 0;\n",
       "}\n",
       "\n",
       ".xr-var-item > .xr-var-name:hover span {\n",
       "  padding-right: 5px;\n",
       "}\n",
       "\n",
       ".xr-var-list > li:nth-child(odd) > div,\n",
       ".xr-var-list > li:nth-child(odd) > label,\n",
       ".xr-var-list > li:nth-child(odd) > .xr-var-name span {\n",
       "  background-color: var(--xr-background-color-row-odd);\n",
       "}\n",
       "\n",
       ".xr-var-name {\n",
       "  grid-column: 1;\n",
       "}\n",
       "\n",
       ".xr-var-dims {\n",
       "  grid-column: 2;\n",
       "}\n",
       "\n",
       ".xr-var-dtype {\n",
       "  grid-column: 3;\n",
       "  text-align: right;\n",
       "  color: var(--xr-font-color2);\n",
       "}\n",
       "\n",
       ".xr-var-preview {\n",
       "  grid-column: 4;\n",
       "}\n",
       "\n",
       ".xr-var-name,\n",
       ".xr-var-dims,\n",
       ".xr-var-dtype,\n",
       ".xr-preview,\n",
       ".xr-attrs dt {\n",
       "  white-space: nowrap;\n",
       "  overflow: hidden;\n",
       "  text-overflow: ellipsis;\n",
       "  padding-right: 10px;\n",
       "}\n",
       "\n",
       ".xr-var-name:hover,\n",
       ".xr-var-dims:hover,\n",
       ".xr-var-dtype:hover,\n",
       ".xr-attrs dt:hover {\n",
       "  overflow: visible;\n",
       "  width: auto;\n",
       "  z-index: 1;\n",
       "}\n",
       "\n",
       ".xr-var-attrs,\n",
       ".xr-var-data {\n",
       "  display: none;\n",
       "  background-color: var(--xr-background-color) !important;\n",
       "  padding-bottom: 5px !important;\n",
       "}\n",
       "\n",
       ".xr-var-attrs-in:checked ~ .xr-var-attrs,\n",
       ".xr-var-data-in:checked ~ .xr-var-data {\n",
       "  display: block;\n",
       "}\n",
       "\n",
       ".xr-var-data > table {\n",
       "  float: right;\n",
       "}\n",
       "\n",
       ".xr-var-name span,\n",
       ".xr-var-data,\n",
       ".xr-attrs {\n",
       "  padding-left: 25px !important;\n",
       "}\n",
       "\n",
       ".xr-attrs,\n",
       ".xr-var-attrs,\n",
       ".xr-var-data {\n",
       "  grid-column: 1 / -1;\n",
       "}\n",
       "\n",
       "dl.xr-attrs {\n",
       "  padding: 0;\n",
       "  margin: 0;\n",
       "  display: grid;\n",
       "  grid-template-columns: 125px auto;\n",
       "}\n",
       "\n",
       ".xr-attrs dt,\n",
       ".xr-attrs dd {\n",
       "  padding: 0;\n",
       "  margin: 0;\n",
       "  float: left;\n",
       "  padding-right: 10px;\n",
       "  width: auto;\n",
       "}\n",
       "\n",
       ".xr-attrs dt {\n",
       "  font-weight: normal;\n",
       "  grid-column: 1;\n",
       "}\n",
       "\n",
       ".xr-attrs dt:hover span {\n",
       "  display: inline-block;\n",
       "  background: var(--xr-background-color);\n",
       "  padding-right: 10px;\n",
       "}\n",
       "\n",
       ".xr-attrs dd {\n",
       "  grid-column: 2;\n",
       "  white-space: pre-wrap;\n",
       "  word-break: break-all;\n",
       "}\n",
       "\n",
       ".xr-icon-database,\n",
       ".xr-icon-file-text2 {\n",
       "  display: inline-block;\n",
       "  vertical-align: middle;\n",
       "  width: 1em;\n",
       "  height: 1.5em !important;\n",
       "  stroke-width: 0;\n",
       "  stroke: currentColor;\n",
       "  fill: currentColor;\n",
       "}\n",
       "</style><pre class='xr-text-repr-fallback'>&lt;xarray.DataArray (selection: 1, Lz: 100, E: 140)&gt;\n",
       "array([[[0, 0, 0, ..., 0, 0, 0],\n",
       "        [0, 0, 0, ..., 0, 0, 0],\n",
       "        [0, 0, 0, ..., 0, 0, 0],\n",
       "        ...,\n",
       "        [0, 0, 0, ..., 0, 0, 0],\n",
       "        [0, 0, 0, ..., 0, 0, 0],\n",
       "        [0, 0, 0, ..., 0, 0, 0]]])\n",
       "Coordinates:\n",
       "  * selection  (selection) object None\n",
       "  * Lz         (Lz) float64 -2.877e+03 -2.83e+03 ... 1.714e+03 1.761e+03\n",
       "  * E          (E) float64 -2.414e+05 -2.394e+05 ... 3.296e+04 3.495e+04</pre><div class='xr-wrap' hidden><div class='xr-header'><div class='xr-obj-type'>xarray.DataArray</div><div class='xr-array-name'></div><ul class='xr-dim-list'><li><span class='xr-has-index'>selection</span>: 1</li><li><span class='xr-has-index'>Lz</span>: 100</li><li><span class='xr-has-index'>E</span>: 140</li></ul></div><ul class='xr-sections'><li class='xr-section-item'><div class='xr-array-wrap'><input id='section-d5010788-a5e3-4683-8603-bed6a86f65b0' class='xr-array-in' type='checkbox' checked><label for='section-d5010788-a5e3-4683-8603-bed6a86f65b0' title='Show/hide data repr'><svg class='icon xr-icon-database'><use xlink:href='#icon-database'></use></svg></label><div class='xr-array-preview xr-preview'><span>0 0 0 0 0 0 0 0 0 0 0 0 0 0 0 0 0 ... 0 0 0 0 0 0 0 0 0 0 0 0 0 0 0 0</span></div><div class='xr-array-data'><pre>array([[[0, 0, 0, ..., 0, 0, 0],\n",
       "        [0, 0, 0, ..., 0, 0, 0],\n",
       "        [0, 0, 0, ..., 0, 0, 0],\n",
       "        ...,\n",
       "        [0, 0, 0, ..., 0, 0, 0],\n",
       "        [0, 0, 0, ..., 0, 0, 0],\n",
       "        [0, 0, 0, ..., 0, 0, 0]]])</pre></div></div></li><li class='xr-section-item'><input id='section-0471d40d-b413-4f13-9476-8e7071bc8737' class='xr-section-summary-in' type='checkbox'  checked><label for='section-0471d40d-b413-4f13-9476-8e7071bc8737' class='xr-section-summary' >Coordinates: <span>(3)</span></label><div class='xr-section-inline-details'></div><div class='xr-section-details'><ul class='xr-var-list'><li class='xr-var-item'><div class='xr-var-name'><span class='xr-has-index'>selection</span></div><div class='xr-var-dims'>(selection)</div><div class='xr-var-dtype'>object</div><div class='xr-var-preview xr-preview'>None</div><input id='attrs-02fa0446-0301-46c9-a772-bac86ba3aa00' class='xr-var-attrs-in' type='checkbox' disabled><label for='attrs-02fa0446-0301-46c9-a772-bac86ba3aa00' title='Show/Hide attributes'><svg class='icon xr-icon-file-text2'><use xlink:href='#icon-file-text2'></use></svg></label><input id='data-5671f6a5-72e5-484c-a203-bfcdd01aed55' class='xr-var-data-in' type='checkbox'><label for='data-5671f6a5-72e5-484c-a203-bfcdd01aed55' title='Show/Hide data repr'><svg class='icon xr-icon-database'><use xlink:href='#icon-database'></use></svg></label><div class='xr-var-attrs'><dl class='xr-attrs'></dl></div><div class='xr-var-data'><pre>array([None], dtype=object)</pre></div></li><li class='xr-var-item'><div class='xr-var-name'><span class='xr-has-index'>Lz</span></div><div class='xr-var-dims'>(Lz)</div><div class='xr-var-dtype'>float64</div><div class='xr-var-preview xr-preview'>-2.877e+03 -2.83e+03 ... 1.761e+03</div><input id='attrs-35167dd7-f5bf-43dd-a9cb-f49f83262bfe' class='xr-var-attrs-in' type='checkbox' ><label for='attrs-35167dd7-f5bf-43dd-a9cb-f49f83262bfe' title='Show/Hide attributes'><svg class='icon xr-icon-file-text2'><use xlink:href='#icon-file-text2'></use></svg></label><input id='data-91c7b52c-981b-459e-949f-bbf47ef686a0' class='xr-var-data-in' type='checkbox'><label for='data-91c7b52c-981b-459e-949f-bbf47ef686a0' title='Show/Hide data repr'><svg class='icon xr-icon-database'><use xlink:href='#icon-database'></use></svg></label><div class='xr-var-attrs'><dl class='xr-attrs'><dt><span>min :</span></dt><dd>-2900.541259765625</dd><dt><span>max :</span></dt><dd>1784.0928955078125</dd></dl></div><div class='xr-var-data'><pre>array([-2877.118089, -2830.271747, -2783.425406, -2736.579064, -2689.732723,\n",
       "       -2642.886381, -2596.04004 , -2549.193698, -2502.347357, -2455.501015,\n",
       "       -2408.654673, -2361.808332, -2314.96199 , -2268.115649, -2221.269307,\n",
       "       -2174.422966, -2127.576624, -2080.730283, -2033.883941, -1987.037599,\n",
       "       -1940.191258, -1893.344916, -1846.498575, -1799.652233, -1752.805892,\n",
       "       -1705.95955 , -1659.113209, -1612.266867, -1565.420526, -1518.574184,\n",
       "       -1471.727842, -1424.881501, -1378.035159, -1331.188818, -1284.342476,\n",
       "       -1237.496135, -1190.649793, -1143.803452, -1096.95711 , -1050.110768,\n",
       "       -1003.264427,  -956.418085,  -909.571744,  -862.725402,  -815.879061,\n",
       "        -769.032719,  -722.186378,  -675.340036,  -628.493694,  -581.647353,\n",
       "        -534.801011,  -487.95467 ,  -441.108328,  -394.261987,  -347.415645,\n",
       "        -300.569304,  -253.722962,  -206.87662 ,  -160.030279,  -113.183937,\n",
       "         -66.337596,   -19.491254,    27.355087,    74.201429,   121.04777 ,\n",
       "         167.894112,   214.740453,   261.586795,   308.433137,   355.279478,\n",
       "         402.12582 ,   448.972161,   495.818503,   542.664844,   589.511186,\n",
       "         636.357527,   683.203869,   730.050211,   776.896552,   823.742894,\n",
       "         870.589235,   917.435577,   964.281918,  1011.12826 ,  1057.974601,\n",
       "        1104.820943,  1151.667285,  1198.513626,  1245.359968,  1292.206309,\n",
       "        1339.052651,  1385.898992,  1432.745334,  1479.591675,  1526.438017,\n",
       "        1573.284359,  1620.1307  ,  1666.977042,  1713.823383,  1760.669725])</pre></div></li><li class='xr-var-item'><div class='xr-var-name'><span class='xr-has-index'>E</span></div><div class='xr-var-dims'>(E)</div><div class='xr-var-dtype'>float64</div><div class='xr-var-preview xr-preview'>-2.414e+05 -2.394e+05 ... 3.495e+04</div><input id='attrs-22e80041-30ef-4b06-b2b1-de254a6aa746' class='xr-var-attrs-in' type='checkbox' ><label for='attrs-22e80041-30ef-4b06-b2b1-de254a6aa746' title='Show/Hide attributes'><svg class='icon xr-icon-file-text2'><use xlink:href='#icon-file-text2'></use></svg></label><input id='data-93a37173-be59-477e-9173-993eeb6da1cb' class='xr-var-data-in' type='checkbox'><label for='data-93a37173-be59-477e-9173-993eeb6da1cb' title='Show/Hide data repr'><svg class='icon xr-icon-database'><use xlink:href='#icon-database'></use></svg></label><div class='xr-var-attrs'><dl class='xr-attrs'><dt><span>min :</span></dt><dd>-242407.5</dd><dt><span>max :</span></dt><dd>35941.86328125</dd></dl></div><div class='xr-var-data'><pre>array([-241413.395131, -239425.185393, -237436.975656, -235448.765918,\n",
       "       -233460.55618 , -231472.346443, -229484.136705, -227495.926967,\n",
       "       -225507.717229, -223519.507492, -221531.297754, -219543.088016,\n",
       "       -217554.878278, -215566.668541, -213578.458803, -211590.249065,\n",
       "       -209602.039328, -207613.82959 , -205625.619852, -203637.410114,\n",
       "       -201649.200377, -199660.990639, -197672.780901, -195684.571164,\n",
       "       -193696.361426, -191708.151688, -189719.94195 , -187731.732213,\n",
       "       -185743.522475, -183755.312737, -181767.102999, -179778.893262,\n",
       "       -177790.683524, -175802.473786, -173814.264049, -171826.054311,\n",
       "       -169837.844573, -167849.634835, -165861.425098, -163873.21536 ,\n",
       "       -161885.005622, -159896.795884, -157908.586147, -155920.376409,\n",
       "       -153932.166671, -151943.956934, -149955.747196, -147967.537458,\n",
       "       -145979.32772 , -143991.117983, -142002.908245, -140014.698507,\n",
       "       -138026.48877 , -136038.279032, -134050.069294, -132061.859556,\n",
       "       -130073.649819, -128085.440081, -126097.230343, -124109.020605,\n",
       "       -122120.810868, -120132.60113 , -118144.391392, -116156.181655,\n",
       "       -114167.971917, -112179.762179, -110191.552441, -108203.342704,\n",
       "       -106215.132966, -104226.923228, -102238.713491, -100250.503753,\n",
       "        -98262.294015,  -96274.084277,  -94285.87454 ,  -92297.664802,\n",
       "        -90309.455064,  -88321.245326,  -86333.035589,  -84344.825851,\n",
       "        -82356.616113,  -80368.406376,  -78380.196638,  -76391.9869  ,\n",
       "        -74403.777162,  -72415.567425,  -70427.357687,  -68439.147949,\n",
       "        -66450.938211,  -64462.728474,  -62474.518736,  -60486.308998,\n",
       "        -58498.099261,  -56509.889523,  -54521.679785,  -52533.470047,\n",
       "        -50545.26031 ,  -48557.050572,  -46568.840834,  -44580.631097,\n",
       "        -42592.421359,  -40604.211621,  -38616.001883,  -36627.792146,\n",
       "        -34639.582408,  -32651.37267 ,  -30663.162932,  -28674.953195,\n",
       "        -26686.743457,  -24698.533719,  -22710.323982,  -20722.114244,\n",
       "        -18733.904506,  -16745.694768,  -14757.485031,  -12769.275293,\n",
       "        -10781.065555,   -8792.855818,   -6804.64608 ,   -4816.436342,\n",
       "         -2828.226604,    -840.016867,    1148.192871,    3136.402609,\n",
       "          5124.612347,    7112.822084,    9101.031822,   11089.24156 ,\n",
       "         13077.451297,   15065.661035,   17053.870773,   19042.080511,\n",
       "         21030.290248,   23018.499986,   25006.709724,   26994.919461,\n",
       "         28983.129199,   30971.338937,   32959.548675,   34947.758412])</pre></div></li></ul></div></li><li class='xr-section-item'><input id='section-676195a8-02d4-4290-ab50-7ee9e5c8800c' class='xr-section-summary-in' type='checkbox' disabled ><label for='section-676195a8-02d4-4290-ab50-7ee9e5c8800c' class='xr-section-summary'  title='Expand/collapse section'>Attributes: <span>(0)</span></label><div class='xr-section-inline-details'></div><div class='xr-section-details'><dl class='xr-attrs'></dl></div></li></ul></div></div>"
      ],
      "text/plain": [
       "<xarray.DataArray (selection: 1, Lz: 100, E: 140)>\n",
       "array([[[0, 0, 0, ..., 0, 0, 0],\n",
       "        [0, 0, 0, ..., 0, 0, 0],\n",
       "        [0, 0, 0, ..., 0, 0, 0],\n",
       "        ...,\n",
       "        [0, 0, 0, ..., 0, 0, 0],\n",
       "        [0, 0, 0, ..., 0, 0, 0],\n",
       "        [0, 0, 0, ..., 0, 0, 0]]])\n",
       "Coordinates:\n",
       "  * selection  (selection) object None\n",
       "  * Lz         (Lz) float64 -2.877e+03 -2.83e+03 ... 1.714e+03 1.761e+03\n",
       "  * E          (E) float64 -2.414e+05 -2.394e+05 ... 3.296e+04 3.495e+04"
      ]
     },
     "metadata": {},
     "output_type": "display_data"
    }
   ],
   "source": [
    "# NOTE: since the computations are done in the background, data_array_widget.model.grid is initially None.\n",
    "# We can ask vaex-jupyter to wait till all executions are done using:\n",
    "await vaex.jupyter.gather()\n",
    "# get a reference to the xarray DataArray object\n",
    "data_array = data_array_widget.model.grid\n",
    "print(f\"type:\", type(data_array))\n",
    "print(\"dims:\", data_array.dims)\n",
    "print(\"data:\", data_array.data)\n",
    "print(\"coords:\", data_array.coords)\n",
    "print(\"Lz's data:\", data_array.coords['Lz'].data)\n",
    "print(\"Lz's attrs:\", data_array.coords['Lz'].attrs)\n",
    "print(\"And displaying the xarray DataArray:\")\n",
    "display(data_array)  # this is what the vaex.jupyter.view.DataArray uses"
   ]
  },
  {
   "cell_type": "code",
   "execution_count": 21,
   "id": "medium-democrat",
   "metadata": {},
   "outputs": [
    {
     "data": {
      "application/vnd.jupyter.widget-view+json": {
       "model_id": "53d0ff00b5484f4db5fbbd789659716c",
       "version_major": 2,
       "version_minor": 0
      },
      "text/plain": [
       "DataArray(children=[Container(children=[ProgressCircularNoAnimation(color='#9ECBF5', size=30, text='', value=1…"
      ]
     },
     "metadata": {},
     "output_type": "display_data"
    }
   ],
   "source": [
    "# NOTE: da is short for 'data array'\n",
    "def plot2d(da):\n",
    "    plt.figure(figsize=(8, 8))\n",
    "    ar = da.data[0]  # take the numpy data, and select take the selection\n",
    "    print(f'imshow of a numpy array of shape: {ar.shape}')\n",
    "    plt.imshow(np.log1p(ar.T), origin='lower')\n",
    "\n",
    "df.widget.data_array(axes=[Lz_axis, E_axis], display_function=plot2d, selection=[None, True])"
   ]
  },
  {
   "cell_type": "code",
   "execution_count": 22,
   "id": "nearby-institute",
   "metadata": {},
   "outputs": [],
   "source": [
    "df.select(df.id < 30)\n"
   ]
  },
  {
   "cell_type": "code",
   "execution_count": 23,
   "id": "protecting-organic",
   "metadata": {},
   "outputs": [
    {
     "data": {
      "application/vnd.jupyter.widget-view+json": {
       "model_id": "2a3ce10bcbfd4baca52bc0b8f7565260",
       "version_major": 2,
       "version_minor": 0
      },
      "text/plain": [
       "DataArray(children=[Container(children=[ProgressCircularNoAnimation(color='#9ECBF5', size=30, text='', value=1…"
      ]
     },
     "metadata": {},
     "output_type": "display_data"
    }
   ],
   "source": [
    "def plot2d_with_labels(da):\n",
    "    plt.figure(figsize=(8, 8))\n",
    "    grid = da.data  # take the numpy data\n",
    "    dim_x = da.dims[0]\n",
    "    dim_y = da.dims[1]\n",
    "    plt.title(f'{dim_y} vs {dim_x} - shape: {grid.shape}')\n",
    "    extent = [\n",
    "        da.coords[dim_x].attrs['min'], da.coords[dim_x].attrs['max'],\n",
    "        da.coords[dim_y].attrs['min'], da.coords[dim_y].attrs['max']\n",
    "    ]\n",
    "    plt.imshow(np.log1p(grid.T), origin='lower', extent=extent, aspect='auto')\n",
    "    plt.xlabel(da.dims[0])\n",
    "    plt.ylabel(da.dims[1])\n",
    "\n",
    "da_plot_view_nicer = df.widget.data_array(axes=[Lz_axis, E_axis], display_function=plot2d_with_labels)\n",
    "da_plot_view_nicer"
   ]
  },
  {
   "cell_type": "code",
   "execution_count": 24,
   "id": "black-hacker",
   "metadata": {},
   "outputs": [
    {
     "data": {
      "application/vnd.jupyter.widget-view+json": {
       "model_id": "ae4e72822e8e4f26964c9436efdf4dea",
       "version_major": 2,
       "version_minor": 0
      },
      "text/plain": [
       "DataArray(children=[Container(children=[ProgressCircularNoAnimation(color='#9ECBF5', size=30, text='', value=1…"
      ]
     },
     "metadata": {},
     "output_type": "display_data"
    }
   ],
   "source": [
    "def plot2d_with_selections(da):\n",
    "    grid = da.data\n",
    "    # Create 1 row and #selections of columns of matplotlib axes\n",
    "    fig, axgrid = plt.subplots(1, grid.shape[0], sharey=True, squeeze=False)\n",
    "    for selection_index, ax in enumerate(axgrid[0]):\n",
    "        ax.imshow(np.log1p(grid[selection_index].T), origin='lower')\n",
    "\n",
    "df.widget.data_array(axes=[Lz_axis, E_axis], display_function=plot2d_with_selections,\n",
    "                     selection=[None, 'default', 'rest'])"
   ]
  },
  {
   "cell_type": "code",
   "execution_count": 25,
   "id": "silent-custody",
   "metadata": {},
   "outputs": [],
   "source": [
    "df.select(df.id < 10)  # select 10 objects\n",
    "df.select(df.id >= 10, name='rest')  # and the rest"
   ]
  },
  {
   "cell_type": "code",
   "execution_count": 26,
   "id": "neutral-lafayette",
   "metadata": {},
   "outputs": [
    {
     "data": {
      "application/vnd.jupyter.widget-view+json": {
       "model_id": "4bc007303e394240b430374ad614aea9",
       "version_major": 2,
       "version_minor": 0
      },
      "text/plain": [
       "DataArray(children=[Container(children=[ProgressCircularNoAnimation(color='#9ECBF5', size=30, text='', value=1…"
      ]
     },
     "metadata": {},
     "output_type": "display_data"
    }
   ],
   "source": [
    "FeH_axis = vjm.Axis(df=df, expression='FeH', min=-3, max=1, shape=5)\n",
    "da_view = df.widget.data_array(axes=[E_axis, Lz_axis, FeH_axis], selection=[None, 'default'])\n",
    "da_view"
   ]
  },
  {
   "cell_type": "code",
   "execution_count": 27,
   "id": "expired-torture",
   "metadata": {},
   "outputs": [
    {
     "data": {
      "application/vnd.jupyter.widget-view+json": {
       "model_id": "612178b53d874094a4e897766bcc42e0",
       "version_major": 2,
       "version_minor": 0
      },
      "text/plain": [
       "DataArray(children=[Container(children=[ProgressCircularNoAnimation(color='#9ECBF5', size=30, text='', value=1…"
      ]
     },
     "metadata": {},
     "output_type": "display_data"
    }
   ],
   "source": [
    "def plot_with_xarray(da):\n",
    "    da_log = np.log1p(da)  # Note that an xarray DataArray is like a numpy array\n",
    "    da_log.plot(x='Lz', y='E', col='FeH', row='selection', cmap='viridis')\n",
    "\n",
    "plot_view = df.widget.data_array([E_axis, Lz_axis, FeH_axis], display_function=plot_with_xarray,\n",
    "                                 selection=[None, 'default', 'rest'])\n",
    "plot_view"
   ]
  },
  {
   "cell_type": "code",
   "execution_count": 28,
   "id": "following-snapshot",
   "metadata": {},
   "outputs": [
    {
     "data": {
      "application/vnd.jupyter.widget-view+json": {
       "model_id": "912910f3e06d444c8f976b50eeaa1535",
       "version_major": 2,
       "version_minor": 0
      },
      "text/plain": [
       "ExpressionSelectionTextArea(label='Filter by custom expression', placeholder='Enter a custom (boolean) express…"
      ]
     },
     "metadata": {},
     "output_type": "display_data"
    }
   ],
   "source": [
    "selection_widget = df.widget.selection_expression()\n",
    "selection_widget"
   ]
  },
  {
   "cell_type": "code",
   "execution_count": 29,
   "id": "formed-passenger",
   "metadata": {},
   "outputs": [
    {
     "data": {
      "application/vnd.jupyter.widget-view+json": {
       "model_id": "6d60478e0b0a4a1a97ff9e329ee8dae0",
       "version_major": 2,
       "version_minor": 0
      },
      "text/plain": [
       "Counter(characters=['&nbsp;', '&nbsp;', '&nbsp;', '&nbsp;', '&nbsp;', '&nbsp;', '&nbsp;', '&nbsp;', '9', '9', …"
      ]
     },
     "metadata": {},
     "output_type": "display_data"
    }
   ],
   "source": [
    "await vaex.jupyter.gather()\n",
    "w = df.widget.counter_selection('default', lazy=True)\n",
    "w"
   ]
  },
  {
   "cell_type": "code",
   "execution_count": 30,
   "id": "helpful-appliance",
   "metadata": {},
   "outputs": [
    {
     "data": {
      "application/vnd.jupyter.widget-view+json": {
       "model_id": "dc6a1dd1229c411599beaef5572ec67e",
       "version_major": 2,
       "version_minor": 0
      },
      "text/plain": [
       "DataArray(children=[Container(children=[ProgressCircularNoAnimation(color='#9ECBF5', size=30, text='', value=1…"
      ]
     },
     "metadata": {},
     "output_type": "display_data"
    }
   ],
   "source": [
    "x_axis = vjm.Axis(df=df, expression=df.Lz)\n",
    "y_axis = vjm.Axis(df=df, expression=df.E)\n",
    "\n",
    "da_xy_view = df.widget.data_array(axes=[x_axis, y_axis], display_function=plot2d_with_labels, shape=180)\n",
    "da_xy_view"
   ]
  },
  {
   "cell_type": "code",
   "execution_count": 32,
   "id": "alien-aerospace",
   "metadata": {},
   "outputs": [],
   "source": [
    "# wait for the previous plot to finish\n",
    "await vaex.jupyter.gather()\n",
    "# Change both the x and y axis\n",
    "x_axis.expression = np.log(df.x**2)\n",
    "y_axis.expression = df.y\n",
    "# Note that both assignment will create 1 computation in the background (minimal amount of passes over the data)\n",
    "await vaex.jupyter.gather()\n",
    "# vaex computed the new min/max, and the xarray DataArray\n",
    "# x_axis.min, x_axis.max, da_xy_view.model.grid"
   ]
  },
  {
   "cell_type": "code",
   "execution_count": 33,
   "id": "coral-chuck",
   "metadata": {},
   "outputs": [
    {
     "data": {
      "application/vnd.jupyter.widget-view+json": {
       "model_id": "4c51f28eb74c4bb88c35a1de469e5c1e",
       "version_major": 2,
       "version_minor": 0
      },
      "text/plain": [
       "Expression(label='X axis', placeholder='Enter a custom expression', prepend_icon='functions', success_messages…"
      ]
     },
     "metadata": {},
     "output_type": "display_data"
    }
   ],
   "source": [
    "x_widget = df.widget.expression(x_axis.expression, label='X axis')\n",
    "x_widget"
   ]
  },
  {
   "cell_type": "code",
   "execution_count": 34,
   "id": "comparable-cooling",
   "metadata": {},
   "outputs": [
    {
     "data": {
      "text/plain": [
       "<traitlets.traitlets.link at 0x7f2bc45fafa0>"
      ]
     },
     "execution_count": 34,
     "metadata": {},
     "output_type": "execute_result"
    }
   ],
   "source": [
    "from ipywidgets import link\n",
    "link((x_widget, 'value'), (x_axis, 'expression'))"
   ]
  },
  {
   "cell_type": "code",
   "execution_count": 35,
   "id": "alpine-formula",
   "metadata": {},
   "outputs": [
    {
     "data": {
      "application/vnd.jupyter.widget-view+json": {
       "model_id": "56bae9f27e93492895876c411771a392",
       "version_major": 2,
       "version_minor": 0
      },
      "text/plain": [
       "Expression(label='X axis', placeholder='Enter a custom expression', prepend_icon='functions', success_messages…"
      ]
     },
     "metadata": {},
     "output_type": "display_data"
    }
   ],
   "source": [
    "y_widget = df.widget.expression(y_axis, label='X axis')\n",
    "# vaex now does this for us, much shorter\n",
    "# link((y_widget, 'value'), (y_axis, 'expression'))\n",
    "y_widget"
   ]
  },
  {
   "cell_type": "code",
   "execution_count": 24,
   "id": "supposed-wings",
   "metadata": {},
   "outputs": [
    {
     "data": {
      "application/vnd.jupyter.widget-view+json": {
       "model_id": "97268c6717394cd9bf4c7c16fab1f87d",
       "version_major": 2,
       "version_minor": 0
      },
      "text/plain": [
       "ContainerCard(controls=[Expression(label='X axis', placeholder='Enter a custom expression', prepend_icon='func…"
      ]
     },
     "metadata": {},
     "output_type": "display_data"
    }
   ],
   "source": [
    "from vaex.jupyter.widgets import ContainerCard\n",
    "\n",
    "ContainerCard(title='My plot',\n",
    "              subtitle=\"using vaex-jupyter\",\n",
    "              main=da_xy_view,\n",
    "              controls=[x_widget, y_widget], show_controls=True)"
   ]
  },
  {
   "cell_type": "code",
   "execution_count": 25,
   "id": "conscious-brave",
   "metadata": {},
   "outputs": [],
   "source": [
    "y_axis.expression = df.vx\n"
   ]
  },
  {
   "cell_type": "code",
   "execution_count": 26,
   "id": "verbal-affiliation",
   "metadata": {},
   "outputs": [],
   "source": [
    "import ipywidgets as widgets\n"
   ]
  },
  {
   "cell_type": "code",
   "execution_count": 28,
   "id": "sublime-southeast",
   "metadata": {},
   "outputs": [
    {
     "name": "stdout",
     "output_type": "stream",
     "text": [
      "/nix/store/s9l4454hlkrbj5fd5yv1dr9xz1daqswj-bash-interactive-4.4-p23/bin/bash: jupyter-labextensions: command not found\n"
     ]
    }
   ],
   "source": [
    "!jupyter-labextensions list --app-dir=/jupyterlab"
   ]
  },
  {
   "cell_type": "code",
   "execution_count": 39,
   "id": "dedicated-aerospace",
   "metadata": {},
   "outputs": [],
   "source": [
    "import vaex\n"
   ]
  },
  {
   "cell_type": "code",
   "execution_count": 40,
   "id": "behind-graham",
   "metadata": {},
   "outputs": [
    {
     "data": {
      "application/vnd.jupyter.widget-view+json": {
       "model_id": "6df92715370c42dd820d8552ee248018",
       "version_major": 2,
       "version_minor": 0
      },
      "text/plain": [
       "Heatmap(children=[ToolsToolbar(interact_value=None, supports_normalize=False, template='<template>\\n  <v-toolb…"
      ]
     },
     "metadata": {},
     "output_type": "display_data"
    }
   ],
   "source": [
    "df = vaex.example()  # we create the dataframe again, to leave all the plots above 'alone'\n",
    "heatmap_xy = df.widget.heatmap(df.x, df.y, selection=[None, True])\n",
    "heatmap_xy"
   ]
  },
  {
   "cell_type": "code",
   "execution_count": 38,
   "id": "historic-plymouth",
   "metadata": {},
   "outputs": [],
   "source": [
    "from ipyleaflet import Map, Marker\n",
    "\n",
    "center = (52.204793, 360.121558)\n",
    "\n",
    "m = Map(center=center, zoom=15)\n",
    "\n",
    "marker = Marker(location=center, draggable=True)\n",
    "m.add_layer(marker);\n",
    "\n"
   ]
  },
  {
   "cell_type": "code",
   "execution_count": 2,
   "id": "controversial-magic",
   "metadata": {},
   "outputs": [
    {
     "data": {
      "application/vnd.jupyter.widget-view+json": {
       "model_id": "eb64df18d2b54baca12d37a11e24d042",
       "version_major": 2,
       "version_minor": 0
      },
      "text/plain": [
       "Map(center=[52.204793, 360.121558], controls=(ZoomControl(options=['position', 'zoom_in_text', 'zoom_in_title'…"
      ]
     },
     "metadata": {},
     "output_type": "display_data"
    }
   ],
   "source": [
    "\n",
    "display(m)"
   ]
  },
  {
   "cell_type": "code",
   "execution_count": null,
   "id": "german-victoria",
   "metadata": {},
   "outputs": [],
   "source": []
  }
 ],
 "metadata": {
  "kernelspec": {
   "display_name": "Python 3",
   "language": "python",
   "name": "python3"
  },
  "language_info": {
   "codemirror_mode": {
    "name": "ipython",
    "version": 3
   },
   "file_extension": ".py",
   "mimetype": "text/x-python",
   "name": "python",
   "nbconvert_exporter": "python",
   "pygments_lexer": "ipython3",
   "version": "3.8.9"
  }
 },
 "nbformat": 4,
 "nbformat_minor": 5
}
