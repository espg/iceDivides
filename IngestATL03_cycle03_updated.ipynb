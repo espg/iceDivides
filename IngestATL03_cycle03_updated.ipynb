{
 "cells": [
  {
   "cell_type": "code",
   "execution_count": 1,
   "id": "artificial-silence",
   "metadata": {},
   "outputs": [],
   "source": [
    "import h5py\n",
    "import numpy as np\n",
    "import pandas as pd\n",
    "from astropy.time import Time\n",
    "from tqdm import tqdm\n",
    "import os\n",
    "import vaex"
   ]
  },
  {
   "cell_type": "code",
   "execution_count": null,
   "id": "fe3e957b-9e3a-4635-8fd5-40e4b308a0a4",
   "metadata": {},
   "outputs": [],
   "source": []
  },
  {
   "cell_type": "code",
   "execution_count": 2,
   "id": "polished-security",
   "metadata": {},
   "outputs": [],
   "source": [
    "def gps2dyr(time):\n",
    "    \"\"\"Converts GPS time to datetime (can also do decimal years).\"\"\"\n",
    "    return Time(time, format='gps').datetime"
   ]
  },
  {
   "cell_type": "code",
   "execution_count": 3,
   "id": "threatened-senate",
   "metadata": {},
   "outputs": [],
   "source": [
    "def read_atl06(fname, cycle):\n",
    "    \"\"\"Read one ATL06 file and output 6 reduced files. \n",
    "    \n",
    "    Extract variables of interest and separate the ATL06 file \n",
    "    into each beam (ground track) and ascending/descending orbits.\n",
    "    \"\"\"\n",
    "\n",
    "    # Each beam is a group\n",
    "    group = ['/gt1l', '/gt1r', '/gt2l', '/gt2r', '/gt3l', '/gt3r']\n",
    "    \n",
    "    # Loop trough beams\n",
    "    dataframes = {}  # one dataframe per track\n",
    "    \n",
    "    with h5py.File(fname, 'r') as fi:\n",
    "        # Check which ground tracks are present in this file\n",
    "        gtracks = sorted(['/'+k for k in fi.keys() if k.startswith('gt')])\n",
    "    \n",
    "        for k, g in enumerate(gtracks): \n",
    "            # Read in data for a single beam\n",
    "            data = {}\n",
    "            # this is our unique key (per beam)\n",
    "            data['id'] = fi[g+'/land_ice_segments/segment_id'][:]\n",
    "            npts = len(data['id'])\n",
    "            # Load vars into memory (include as many as you want)\n",
    "            data['lat'] = fi[g+'/land_ice_segments/latitude'][:]\n",
    "            data['lon'] = fi[g+'/land_ice_segments/longitude'][:]\n",
    "            \n",
    "            data['slope_y'] = fi[g+'/land_ice_segments/fit_statistics/dh_fit_dy'][:]\n",
    "            data['slope_x'] = fi[g+'/land_ice_segments/fit_statistics/dh_fit_dx'][:]\n",
    "            data['slope_x_sigma'] = fi[g+'/land_ice_segments/fit_statistics/dh_fit_dx_sigma'][:]\n",
    "\n",
    "            data['h_li'] = fi[g+'/land_ice_segments/h_li'][:]\n",
    "            data['s_li'] = fi[g+'/land_ice_segments/h_li_sigma'][:]\n",
    "            data['q_flag'] = fi[g+'/land_ice_segments/atl06_quality_summary'][:]\n",
    "            data['s_fg'] = fi[g+'/land_ice_segments/fit_statistics/signal_selection_source'][:]\n",
    "            data['snr'] = fi[g+'/land_ice_segments/fit_statistics/snr_significance'][:]\n",
    "            data['h_rb'] = fi[g+'/land_ice_segments/fit_statistics/h_robust_sprd'][:]\n",
    "            data['bsnow_conf'] = fi[g+'/land_ice_segments/geophysical/bsnow_conf'][:]\n",
    "            \n",
    "            data['cloud_flg_asr'] = fi[g+'/land_ice_segments/geophysical/cloud_flg_asr'][:]\n",
    "            data['cloud_flg_atm'] = fi[g+'/land_ice_segments/geophysical/cloud_flg_atm'][:]\n",
    "            data['msw_flag'] = fi[g+'/land_ice_segments/geophysical/msw_flag'][:]\n",
    "            data['fbsnow_h'] = fi[g+'/land_ice_segments/geophysical/bsnow_h'][:]\n",
    "            data['bsnow_od'] = fi[g+'/land_ice_segments/geophysical/bsnow_od'][:]\n",
    "            data['layer_flag'] = fi[g+'/land_ice_segments/geophysical/layer_flag'][:]\n",
    "            data['bckgrd'] = fi[g+'/land_ice_segments/geophysical/bckgrd'][:]\n",
    "            data['e_bckgrd'] = fi[g+'/land_ice_segments/geophysical/e_bckgrd'][:]\n",
    "            data['n_fit_photons'] = fi[g+'/land_ice_segments/fit_statistics/n_fit_photons'][:]\n",
    "            data['w_surface_window_final'] = fi[g+'/land_ice_segments/fit_statistics/w_surface_window_final'][:]\n",
    "            \n",
    "            delta_t = fi[g+'/land_ice_segments/delta_time'][:]     # for time conversion\n",
    "            t_ref = fi['/ancillary_data/atlas_sdp_gps_epoch'][:]     # single value\n",
    "            \n",
    "            # Time in GPS seconds (secs since Jan 5, 1980)\n",
    "            t_gps = t_ref + delta_t\n",
    "\n",
    "            # GPS sec to datetime\n",
    "            data['t_year'] = gps2dyr(t_gps)\n",
    "            data['cycle'] = np.ones(npts, dtype=np.int8)*cycle\n",
    "            data['track'] = np.repeat(g[1:], npts)\n",
    "                \n",
    "            # Make a dataframe out of our data dict and store it.\n",
    "            dataframes[g] = pd.DataFrame.from_dict(data)\n",
    "        \n",
    "    return dataframes"
   ]
  },
  {
   "cell_type": "code",
   "execution_count": 4,
   "id": "boring-harmony",
   "metadata": {},
   "outputs": [
    {
     "data": {
      "text/plain": [
       "'/home/jupyter/iceDivides'"
      ]
     },
     "execution_count": 4,
     "metadata": {},
     "output_type": "execute_result"
    }
   ],
   "source": [
    "pwd"
   ]
  },
  {
   "cell_type": "code",
   "execution_count": 5,
   "id": "postal-mambo",
   "metadata": {},
   "outputs": [],
   "source": [
    "seed = read_atl06('./ATL06_20190329071316_13870211_004_01.h5', cycle=int(3))"
   ]
  },
  {
   "cell_type": "code",
   "execution_count": 6,
   "id": "trained-classics",
   "metadata": {},
   "outputs": [],
   "source": [
    "Pgt1l = seed.get('/gt1l').iloc[:2]\n",
    "Pgt1r = seed.get('/gt1r').iloc[:2]\n",
    "Pgt2l = seed.get('/gt2l').iloc[:2]\n",
    "Pgt2r = seed.get('/gt2r').iloc[:2]\n",
    "Pgt3l = seed.get('/gt3l').iloc[:2]\n",
    "Pgt3r = seed.get('/gt3r').iloc[:2]"
   ]
  },
  {
   "cell_type": "code",
   "execution_count": 7,
   "id": "earlier-briefs",
   "metadata": {},
   "outputs": [
    {
     "data": {
      "text/html": [
       "<div>\n",
       "<style scoped>\n",
       "    .dataframe tbody tr th:only-of-type {\n",
       "        vertical-align: middle;\n",
       "    }\n",
       "\n",
       "    .dataframe tbody tr th {\n",
       "        vertical-align: top;\n",
       "    }\n",
       "\n",
       "    .dataframe thead th {\n",
       "        text-align: right;\n",
       "    }\n",
       "</style>\n",
       "<table border=\"1\" class=\"dataframe\">\n",
       "  <thead>\n",
       "    <tr style=\"text-align: right;\">\n",
       "      <th></th>\n",
       "      <th>id</th>\n",
       "      <th>lat</th>\n",
       "      <th>lon</th>\n",
       "      <th>slope_y</th>\n",
       "      <th>slope_x</th>\n",
       "      <th>slope_x_sigma</th>\n",
       "      <th>h_li</th>\n",
       "      <th>s_li</th>\n",
       "      <th>q_flag</th>\n",
       "      <th>s_fg</th>\n",
       "      <th>...</th>\n",
       "      <th>fbsnow_h</th>\n",
       "      <th>bsnow_od</th>\n",
       "      <th>layer_flag</th>\n",
       "      <th>bckgrd</th>\n",
       "      <th>e_bckgrd</th>\n",
       "      <th>n_fit_photons</th>\n",
       "      <th>w_surface_window_final</th>\n",
       "      <th>t_year</th>\n",
       "      <th>cycle</th>\n",
       "      <th>track</th>\n",
       "    </tr>\n",
       "  </thead>\n",
       "  <tbody>\n",
       "    <tr>\n",
       "      <th>0</th>\n",
       "      <td>1443587</td>\n",
       "      <td>-79.006042</td>\n",
       "      <td>176.344895</td>\n",
       "      <td>0.003497</td>\n",
       "      <td>0.045053</td>\n",
       "      <td>0.000830</td>\n",
       "      <td>-19.586994</td>\n",
       "      <td>0.012193</td>\n",
       "      <td>0</td>\n",
       "      <td>0</td>\n",
       "      <td>...</td>\n",
       "      <td>29.979246</td>\n",
       "      <td>0.268619</td>\n",
       "      <td>1</td>\n",
       "      <td>28285.419922</td>\n",
       "      <td>0.0</td>\n",
       "      <td>522</td>\n",
       "      <td>3.0</td>\n",
       "      <td>2019-03-29 07:13:52.971019</td>\n",
       "      <td>3</td>\n",
       "      <td>gt1l</td>\n",
       "    </tr>\n",
       "    <tr>\n",
       "      <th>1</th>\n",
       "      <td>1443588</td>\n",
       "      <td>-79.006216</td>\n",
       "      <td>176.344717</td>\n",
       "      <td>0.004264</td>\n",
       "      <td>0.050562</td>\n",
       "      <td>0.000883</td>\n",
       "      <td>-18.607821</td>\n",
       "      <td>0.012879</td>\n",
       "      <td>0</td>\n",
       "      <td>0</td>\n",
       "      <td>...</td>\n",
       "      <td>29.979246</td>\n",
       "      <td>0.268275</td>\n",
       "      <td>1</td>\n",
       "      <td>25933.798828</td>\n",
       "      <td>0.0</td>\n",
       "      <td>541</td>\n",
       "      <td>3.0</td>\n",
       "      <td>2019-03-29 07:13:52.973831</td>\n",
       "      <td>3</td>\n",
       "      <td>gt1l</td>\n",
       "    </tr>\n",
       "  </tbody>\n",
       "</table>\n",
       "<p>2 rows × 26 columns</p>\n",
       "</div>"
      ],
      "text/plain": [
       "        id        lat         lon   slope_y   slope_x  slope_x_sigma  \\\n",
       "0  1443587 -79.006042  176.344895  0.003497  0.045053       0.000830   \n",
       "1  1443588 -79.006216  176.344717  0.004264  0.050562       0.000883   \n",
       "\n",
       "        h_li      s_li  q_flag  s_fg  ...   fbsnow_h  bsnow_od  layer_flag  \\\n",
       "0 -19.586994  0.012193       0     0  ...  29.979246  0.268619           1   \n",
       "1 -18.607821  0.012879       0     0  ...  29.979246  0.268275           1   \n",
       "\n",
       "         bckgrd  e_bckgrd  n_fit_photons  w_surface_window_final  \\\n",
       "0  28285.419922       0.0            522                     3.0   \n",
       "1  25933.798828       0.0            541                     3.0   \n",
       "\n",
       "                      t_year  cycle  track  \n",
       "0 2019-03-29 07:13:52.971019      3   gt1l  \n",
       "1 2019-03-29 07:13:52.973831      3   gt1l  \n",
       "\n",
       "[2 rows x 26 columns]"
      ]
     },
     "execution_count": 7,
     "metadata": {},
     "output_type": "execute_result"
    }
   ],
   "source": [
    "Pgt1l"
   ]
  },
  {
   "cell_type": "code",
   "execution_count": 8,
   "id": "middle-circumstances",
   "metadata": {},
   "outputs": [],
   "source": [
    "gt1l = vaex.from_pandas(Pgt1l, copy_index=False)\n",
    "gt1r = vaex.from_pandas(Pgt1r, copy_index=False)\n",
    "gt2l = vaex.from_pandas(Pgt2l, copy_index=False)\n",
    "gt2r = vaex.from_pandas(Pgt2r, copy_index=False)\n",
    "gt3l = vaex.from_pandas(Pgt3l, copy_index=False)\n",
    "gt3r = vaex.from_pandas(Pgt3r, copy_index=False)"
   ]
  },
  {
   "cell_type": "code",
   "execution_count": 11,
   "id": "reduced-vienna",
   "metadata": {},
   "outputs": [],
   "source": [
    "files = os.listdir('./data03_12/')"
   ]
  },
  {
   "cell_type": "code",
   "execution_count": 12,
   "id": "artificial-adams",
   "metadata": {},
   "outputs": [
    {
     "name": "stderr",
     "output_type": "stream",
     "text": [
      "100%|██████████| 1320/1320 [46:52<00:00,  2.13s/it]\n"
     ]
    }
   ],
   "source": [
    "for file in tqdm(files):\n",
    "    dfs = read_atl06('./data03_12/' + file, cycle=int(3))\n",
    "    if dfs.get('/gt1l', None) is not None:\n",
    "        gt1l = gt1l.concat(vaex.from_pandas(dfs.get('/gt1l'), copy_index=False))\n",
    "    if dfs.get('/gt1r', None) is not None:\n",
    "        gt1r = gt1r.concat(vaex.from_pandas(dfs.get('/gt1r'), copy_index=False))\n",
    "    if dfs.get('/gt2l', None) is not None:\n",
    "        gt2l = gt2l.concat(vaex.from_pandas(dfs.get('/gt2l'), copy_index=False))\n",
    "    if dfs.get('/gt2r', None) is not None:\n",
    "        gt2r = gt2r.concat(vaex.from_pandas(dfs.get('/gt2r'), copy_index=False))\n",
    "    if dfs.get('/gt3l', None) is not None:\n",
    "        gt3l = gt3l.concat(vaex.from_pandas(dfs.get('/gt3l'), copy_index=False))\n",
    "    if dfs.get('/gt3r', None) is not None:\n",
    "        gt3r = gt3r.concat(vaex.from_pandas(dfs.get('/gt3r'), copy_index=False))"
   ]
  },
  {
   "cell_type": "code",
   "execution_count": 13,
   "id": "tutorial-boston",
   "metadata": {},
   "outputs": [],
   "source": [
    "df = vaex.concat([gt1l, gt1r, gt2l, gt2r, gt3l, gt3r])"
   ]
  },
  {
   "cell_type": "code",
   "execution_count": 14,
   "id": "b8791019-f73e-43a4-97e0-7118721c4973",
   "metadata": {},
   "outputs": [
    {
     "data": {
      "text/html": [
       "<table>\n",
       "<thead>\n",
       "<tr><th>#                                      </th><th>id     </th><th>lat               </th><th>lon                </th><th>slope_y      </th><th>slope_x      </th><th>slope_x_sigma  </th><th>h_li         </th><th>s_li         </th><th>q_flag  </th><th>s_fg  </th><th>snr          </th><th>h_rb         </th><th>bsnow_conf  </th><th>cloud_flg_asr  </th><th>cloud_flg_atm  </th><th>msw_flag  </th><th>fbsnow_h     </th><th>bsnow_od     </th><th>layer_flag  </th><th>bckgrd   </th><th>e_bckgrd     </th><th>n_fit_photons  </th><th>w_surface_window_final  </th><th>t_year                       </th><th>cycle  </th><th>track  </th></tr>\n",
       "</thead>\n",
       "<tbody>\n",
       "<tr><td><i style='opacity: 0.6'>0</i>          </td><td>1443587</td><td>-79.00604150693235</td><td>176.34489505559952 </td><td>0.0034970236 </td><td>0.045052722  </td><td>0.0008298112   </td><td>-19.586994   </td><td>0.012193246  </td><td>0       </td><td>0     </td><td>0.0          </td><td>0.17003135   </td><td>-1          </td><td>2              </td><td>1              </td><td>3         </td><td>29.979246    </td><td>0.26861945   </td><td>1           </td><td>28285.42 </td><td>0.0          </td><td>522            </td><td>3.0                     </td><td>2019-03-29 07:13:52.971019000</td><td>3      </td><td>gt1l   </td></tr>\n",
       "<tr><td><i style='opacity: 0.6'>1</i>          </td><td>1443588</td><td>-79.00621643747844</td><td>176.34471657932238 </td><td>0.0042643934 </td><td>0.050562415  </td><td>0.00088303734  </td><td>-18.60782    </td><td>0.01287923   </td><td>0       </td><td>0     </td><td>0.0          </td><td>0.18802492   </td><td>-1          </td><td>2              </td><td>1              </td><td>3         </td><td>29.979246    </td><td>0.2682749    </td><td>1           </td><td>25933.799</td><td>0.0          </td><td>541            </td><td>3.0                     </td><td>2019-03-29 07:13:52.973831000</td><td>3      </td><td>gt1l   </td></tr>\n",
       "<tr><td><i style='opacity: 0.6'>2</i>          </td><td>1565320</td><td>-79.00590464294554</td><td>-29.15786824984113 </td><td>-0.0038180242</td><td>0.008322206  </td><td>0.0005828745   </td><td>264.03226    </td><td>0.011864527  </td><td>0       </td><td>0     </td><td>0.0          </td><td>0.131612     </td><td>-2          </td><td>2              </td><td>1              </td><td>1         </td><td>3.4028235e+38</td><td>3.4028235e+38</td><td>1           </td><td>20022.52 </td><td>0.0          </td><td>390            </td><td>3.0                     </td><td>2019-05-14 08:05:09.611856000</td><td>3      </td><td>gt1l   </td></tr>\n",
       "<tr><td><i style='opacity: 0.6'>3</i>          </td><td>1565321</td><td>-79.00572962014209</td><td>-29.158044121082156</td><td>-0.003440852 </td><td>0.0070416494 </td><td>0.000579469    </td><td>264.19763    </td><td>0.011928397  </td><td>0       </td><td>0     </td><td>0.0          </td><td>0.1270821    </td><td>-2          </td><td>2              </td><td>1              </td><td>1         </td><td>3.4028235e+38</td><td>3.4028235e+38</td><td>1           </td><td>21030.754</td><td>0.0          </td><td>376            </td><td>3.0                     </td><td>2019-05-14 08:05:09.614699000</td><td>3      </td><td>gt1l   </td></tr>\n",
       "<tr><td><i style='opacity: 0.6'>4</i>          </td><td>1565322</td><td>-79.00555461855338</td><td>-29.158220563083404</td><td>-0.0032607878</td><td>0.008489967  </td><td>0.0005951909   </td><td>264.36688    </td><td>0.01271345   </td><td>0       </td><td>0     </td><td>0.0          </td><td>0.13123506   </td><td>-2          </td><td>2              </td><td>1              </td><td>1         </td><td>3.4028235e+38</td><td>3.4028235e+38</td><td>1           </td><td>19575.057</td><td>0.0          </td><td>375            </td><td>3.0                     </td><td>2019-05-14 08:05:09.617541000</td><td>3      </td><td>gt1l   </td></tr>\n",
       "<tr><td>...                                    </td><td>...    </td><td>...               </td><td>...                </td><td>...          </td><td>...          </td><td>...            </td><td>...          </td><td>...          </td><td>...     </td><td>...   </td><td>...          </td><td>...          </td><td>...         </td><td>...            </td><td>...            </td><td>...       </td><td>...          </td><td>...          </td><td>...         </td><td>...      </td><td>...          </td><td>...            </td><td>...                     </td><td>...                          </td><td>...    </td><td>...    </td></tr>\n",
       "<tr><td><i style='opacity: 0.6'>298,271,717</i></td><td>1569656</td><td>-78.2400490932243 </td><td>-112.14232913945352</td><td>3.4028235e+38</td><td>3.4028235e+38</td><td>3.4028235e+38  </td><td>3.4028235e+38</td><td>3.4028235e+38</td><td>1       </td><td>3     </td><td>3.4028235e+38</td><td>3.4028235e+38</td><td>-3          </td><td>5              </td><td>2              </td><td>2         </td><td>29.979246    </td><td>-0.007984577 </td><td>1           </td><td>9233.532 </td><td>3.4028235e+38</td><td>0              </td><td>3.4028235e+38           </td><td>2019-04-13 15:03:34.767862000</td><td>3      </td><td>gt3r   </td></tr>\n",
       "<tr><td><i style='opacity: 0.6'>298,271,718</i></td><td>1569657</td><td>-78.2398740994634 </td><td>-112.14249557765775</td><td>3.4028235e+38</td><td>3.4028235e+38</td><td>3.4028235e+38  </td><td>3.4028235e+38</td><td>3.4028235e+38</td><td>1       </td><td>3     </td><td>3.4028235e+38</td><td>3.4028235e+38</td><td>-3          </td><td>5              </td><td>2              </td><td>2         </td><td>29.979246    </td><td>-0.00819415  </td><td>1           </td><td>8526.938 </td><td>3.4028235e+38</td><td>0              </td><td>3.4028235e+38           </td><td>2019-04-13 15:03:34.770912000</td><td>3      </td><td>gt3r   </td></tr>\n",
       "<tr><td><i style='opacity: 0.6'>298,271,719</i></td><td>1569752</td><td>-78.22323544581869</td><td>-112.157929146986  </td><td>3.4028235e+38</td><td>3.4028235e+38</td><td>3.4028235e+38  </td><td>3.4028235e+38</td><td>3.4028235e+38</td><td>1       </td><td>3     </td><td>3.4028235e+38</td><td>3.4028235e+38</td><td>-1          </td><td>5              </td><td>2              </td><td>2         </td><td>29.979246    </td><td>-0.028147202 </td><td>1           </td><td>7081.393 </td><td>3.4028235e+38</td><td>0              </td><td>3.4028235e+38           </td><td>2019-04-13 15:03:35.038195000</td><td>3      </td><td>gt3r   </td></tr>\n",
       "<tr><td><i style='opacity: 0.6'>298,271,720</i></td><td>1579859</td><td>-76.449328422305  </td><td>-113.6012793545775 </td><td>3.4028235e+38</td><td>3.4028235e+38</td><td>3.4028235e+38  </td><td>3.4028235e+38</td><td>3.4028235e+38</td><td>1       </td><td>3     </td><td>3.4028235e+38</td><td>3.4028235e+38</td><td>-1          </td><td>5              </td><td>1              </td><td>1         </td><td>3.4028235e+38</td><td>3.4028235e+38</td><td>1           </td><td>7556.9717</td><td>3.4028235e+38</td><td>0              </td><td>3.4028235e+38           </td><td>2019-04-13 15:04:03.526662000</td><td>3      </td><td>gt3r   </td></tr>\n",
       "<tr><td><i style='opacity: 0.6'>298,271,721</i></td><td>1579995</td><td>-76.42541499614175</td><td>-113.61838272123744</td><td>3.4028235e+38</td><td>3.4028235e+38</td><td>3.4028235e+38  </td><td>3.4028235e+38</td><td>3.4028235e+38</td><td>1       </td><td>3     </td><td>3.4028235e+38</td><td>3.4028235e+38</td><td>-1          </td><td>5              </td><td>1              </td><td>1         </td><td>3.4028235e+38</td><td>3.4028235e+38</td><td>1           </td><td>6277.6035</td><td>3.4028235e+38</td><td>0              </td><td>3.4028235e+38           </td><td>2019-04-13 15:04:03.909102000</td><td>3      </td><td>gt3r   </td></tr>\n",
       "</tbody>\n",
       "</table>"
      ],
      "text/plain": [
       "#            id       lat                 lon                  slope_y        slope_x        slope_x_sigma    h_li           s_li           q_flag    s_fg    snr            h_rb           bsnow_conf    cloud_flg_asr    cloud_flg_atm    msw_flag    fbsnow_h       bsnow_od       layer_flag    bckgrd     e_bckgrd       n_fit_photons    w_surface_window_final    t_year                         cycle    track\n",
       "0            1443587  -79.00604150693235  176.34489505559952   0.0034970236   0.045052722    0.0008298112     -19.586994     0.012193246    0         0       0.0            0.17003135     -1            2                1                3           29.979246      0.26861945     1             28285.42   0.0            522              3.0                       2019-03-29 07:13:52.971019000  3        gt1l\n",
       "1            1443588  -79.00621643747844  176.34471657932238   0.0042643934   0.050562415    0.00088303734    -18.60782      0.01287923     0         0       0.0            0.18802492     -1            2                1                3           29.979246      0.2682749      1             25933.799  0.0            541              3.0                       2019-03-29 07:13:52.973831000  3        gt1l\n",
       "2            1565320  -79.00590464294554  -29.15786824984113   -0.0038180242  0.008322206    0.0005828745     264.03226      0.011864527    0         0       0.0            0.131612       -2            2                1                1           3.4028235e+38  3.4028235e+38  1             20022.52   0.0            390              3.0                       2019-05-14 08:05:09.611856000  3        gt1l\n",
       "3            1565321  -79.00572962014209  -29.158044121082156  -0.003440852   0.0070416494   0.000579469      264.19763      0.011928397    0         0       0.0            0.1270821      -2            2                1                1           3.4028235e+38  3.4028235e+38  1             21030.754  0.0            376              3.0                       2019-05-14 08:05:09.614699000  3        gt1l\n",
       "4            1565322  -79.00555461855338  -29.158220563083404  -0.0032607878  0.008489967    0.0005951909     264.36688      0.01271345     0         0       0.0            0.13123506     -2            2                1                1           3.4028235e+38  3.4028235e+38  1             19575.057  0.0            375              3.0                       2019-05-14 08:05:09.617541000  3        gt1l\n",
       "...          ...      ...                 ...                  ...            ...            ...              ...            ...            ...       ...     ...            ...            ...           ...              ...              ...         ...            ...            ...           ...        ...            ...              ...                       ...                            ...      ...\n",
       "298,271,717  1569656  -78.2400490932243   -112.14232913945352  3.4028235e+38  3.4028235e+38  3.4028235e+38    3.4028235e+38  3.4028235e+38  1         3       3.4028235e+38  3.4028235e+38  -3            5                2                2           29.979246      -0.007984577   1             9233.532   3.4028235e+38  0                3.4028235e+38             2019-04-13 15:03:34.767862000  3        gt3r\n",
       "298,271,718  1569657  -78.2398740994634   -112.14249557765775  3.4028235e+38  3.4028235e+38  3.4028235e+38    3.4028235e+38  3.4028235e+38  1         3       3.4028235e+38  3.4028235e+38  -3            5                2                2           29.979246      -0.00819415    1             8526.938   3.4028235e+38  0                3.4028235e+38             2019-04-13 15:03:34.770912000  3        gt3r\n",
       "298,271,719  1569752  -78.22323544581869  -112.157929146986    3.4028235e+38  3.4028235e+38  3.4028235e+38    3.4028235e+38  3.4028235e+38  1         3       3.4028235e+38  3.4028235e+38  -1            5                2                2           29.979246      -0.028147202   1             7081.393   3.4028235e+38  0                3.4028235e+38             2019-04-13 15:03:35.038195000  3        gt3r\n",
       "298,271,720  1579859  -76.449328422305    -113.6012793545775   3.4028235e+38  3.4028235e+38  3.4028235e+38    3.4028235e+38  3.4028235e+38  1         3       3.4028235e+38  3.4028235e+38  -1            5                1                1           3.4028235e+38  3.4028235e+38  1             7556.9717  3.4028235e+38  0                3.4028235e+38             2019-04-13 15:04:03.526662000  3        gt3r\n",
       "298,271,721  1579995  -76.42541499614175  -113.61838272123744  3.4028235e+38  3.4028235e+38  3.4028235e+38    3.4028235e+38  3.4028235e+38  1         3       3.4028235e+38  3.4028235e+38  -1            5                1                1           3.4028235e+38  3.4028235e+38  1             6277.6035  3.4028235e+38  0                3.4028235e+38             2019-04-13 15:04:03.909102000  3        gt3r"
      ]
     },
     "execution_count": 14,
     "metadata": {},
     "output_type": "execute_result"
    }
   ],
   "source": [
    "df"
   ]
  },
  {
   "cell_type": "code",
   "execution_count": 15,
   "id": "3fe7ed1f-f892-4e7f-b29c-3749133702b7",
   "metadata": {},
   "outputs": [],
   "source": [
    "from numpy import r_\n",
    "import pandas as pd\n",
    "\n",
    "import mhealpy as mh\n",
    "\n",
    "from numba import jit, int64, vectorize"
   ]
  },
  {
   "cell_type": "code",
   "execution_count": 16,
   "id": "96257a17-4058-4dd4-9cf5-c77330096962",
   "metadata": {},
   "outputs": [],
   "source": [
    "def unique2parent(unique):\n",
    "    '''\n",
    "    Assumes input is UNIQ\n",
    "    Currently only works on single resolution\n",
    "    Returns parent base cell\n",
    "    '''\n",
    "    nside = mh.uniq2nside(unique)\n",
    "    if nside.all():\n",
    "        order = int(np.log2(nside.max()))\n",
    "    unique = unique // 4**(order-1)\n",
    "    parent = (unique - 16) // 4\n",
    "    #print(order)\n",
    "    return parent\n",
    "\n",
    "def heal_norm(base, order, addr_nest):\n",
    "    N_pix = mh.hp.order2nside(order)**2\n",
    "    addr_norm = addr_nest - (base * N_pix)\n",
    "    return addr_norm\n",
    "\n",
    "@vectorize([int64(int64, int64)])#, target='cuda')\n",
    "def VaexNorm2Mort(normed, parents):\n",
    "    # Need to use vaex apply;\n",
    "    # since we can't pass in 'order', we hard code it\n",
    "    order = 18\n",
    "    mask = np.int64(3*4**(order-1))\n",
    "    res = np.zeros(order,dtype=np.int64)\n",
    "    num = 0\n",
    "    for j, i in enumerate(range(order, 0, -1)):\n",
    "        nextBit = (normed & mask) >> ((2*i) - 2)\n",
    "        num += (nextBit+1) * 10**(i-1)\n",
    "        mask = mask >> 2\n",
    "    parents = parents- 6\n",
    "    parents = parents * 10**(order)\n",
    "    num = num + parents\n",
    "    return num"
   ]
  },
  {
   "cell_type": "code",
   "execution_count": 17,
   "id": "111b5522-07ec-442c-903b-b175dff53b87",
   "metadata": {},
   "outputs": [],
   "source": [
    "order = 18\n",
    "uniq = mh.nest2uniq(2**order,mh.hp.ang2pix(2**order,df.lon.as_numpy().values, \n",
    "                                           df.lat.as_numpy().values,\n",
    "                                           lonlat=True, nest=True))\n",
    "parents = unique2parent(uniq)\n",
    "normed = heal_norm(parents,order, uniq)"
   ]
  },
  {
   "cell_type": "code",
   "execution_count": 18,
   "id": "7b6dda56-bf02-43ae-9f6e-6de9ad28f72a",
   "metadata": {},
   "outputs": [],
   "source": [
    "#uniq = mh.nest2uniq(2**18, nestcoords)\n",
    "df['uniq'] = uniq\n",
    "df['parents'] = parents\n",
    "df['normed'] = normed\n",
    "\n",
    "df['midx'] = df.apply(VaexNorm2Mort, arguments=[df.normed, df.parents], vectorize=True)"
   ]
  },
  {
   "cell_type": "code",
   "execution_count": 19,
   "id": "tutorial-nashville",
   "metadata": {},
   "outputs": [
    {
     "data": {
      "text/html": [
       "<table>\n",
       "<thead>\n",
       "<tr><th>#                                      </th><th>id     </th><th>lat               </th><th>lon                </th><th>slope_y      </th><th>slope_x      </th><th>slope_x_sigma  </th><th>h_li         </th><th>s_li         </th><th>q_flag  </th><th>s_fg  </th><th>snr          </th><th>h_rb         </th><th>bsnow_conf  </th><th>cloud_flg_asr  </th><th>cloud_flg_atm  </th><th>msw_flag  </th><th>fbsnow_h     </th><th>bsnow_od     </th><th>layer_flag  </th><th>bckgrd   </th><th>e_bckgrd     </th><th>n_fit_photons  </th><th>w_surface_window_final  </th><th>t_year                       </th><th>cycle  </th><th>track  </th><th>uniq         </th><th>parents  </th><th>normed      </th><th>midx               </th></tr>\n",
       "</thead>\n",
       "<tbody>\n",
       "<tr><td><i style='opacity: 0.6'>0</i>          </td><td>1443587</td><td>-79.00604150693235</td><td>176.34489505559952 </td><td>0.0034970236 </td><td>0.045052722  </td><td>0.0008298112   </td><td>-19.586994   </td><td>0.012193246  </td><td>0       </td><td>0     </td><td>0.0          </td><td>0.17003135   </td><td>-1          </td><td>2              </td><td>1              </td><td>3         </td><td>29.979246    </td><td>0.26861945   </td><td>1           </td><td>28285.42 </td><td>0.0          </td><td>522            </td><td>3.0                     </td><td>2019-03-29 07:13:52.971019000</td><td>3      </td><td>gt1l   </td><td>894772371480 </td><td>9        </td><td>276297080856</td><td>3112221322343111231</td></tr>\n",
       "<tr><td><i style='opacity: 0.6'>1</i>          </td><td>1443588</td><td>-79.00621643747844</td><td>176.34471657932238 </td><td>0.0042643934 </td><td>0.050562415  </td><td>0.00088303734  </td><td>-18.60782    </td><td>0.01287923   </td><td>0       </td><td>0     </td><td>0.0          </td><td>0.18802492   </td><td>-1          </td><td>2              </td><td>1              </td><td>3         </td><td>29.979246    </td><td>0.2682749    </td><td>1           </td><td>25933.799</td><td>0.0          </td><td>541            </td><td>3.0                     </td><td>2019-03-29 07:13:52.973831000</td><td>3      </td><td>gt1l   </td><td>894772371469 </td><td>9        </td><td>276297080845</td><td>3112221322343111142</td></tr>\n",
       "<tr><td><i style='opacity: 0.6'>2</i>          </td><td>1565320</td><td>-79.00590464294554</td><td>-29.15786824984113 </td><td>-0.0038180242</td><td>0.008322206  </td><td>0.0005828745   </td><td>264.03226    </td><td>0.011864527  </td><td>0       </td><td>0     </td><td>0.0          </td><td>0.131612     </td><td>-2          </td><td>2              </td><td>1              </td><td>1         </td><td>3.4028235e+38</td><td>3.4028235e+38</td><td>1           </td><td>20022.52 </td><td>0.0          </td><td>390            </td><td>3.0                     </td><td>2019-05-14 08:05:09.611856000</td><td>3      </td><td>gt1l   </td><td>1032480798421</td><td>11       </td><td>276566554325</td><td>5112321332334234222</td></tr>\n",
       "<tr><td><i style='opacity: 0.6'>3</i>          </td><td>1565321</td><td>-79.00572962014209</td><td>-29.158044121082156</td><td>-0.003440852 </td><td>0.0070416494 </td><td>0.000579469    </td><td>264.19763    </td><td>0.011928397  </td><td>0       </td><td>0     </td><td>0.0          </td><td>0.1270821    </td><td>-2          </td><td>2              </td><td>1              </td><td>1         </td><td>3.4028235e+38</td><td>3.4028235e+38</td><td>1           </td><td>21030.754</td><td>0.0          </td><td>376            </td><td>3.0                     </td><td>2019-05-14 08:05:09.614699000</td><td>3      </td><td>gt1l   </td><td>1032480798421</td><td>11       </td><td>276566554325</td><td>5112321332334234222</td></tr>\n",
       "<tr><td><i style='opacity: 0.6'>4</i>          </td><td>1565322</td><td>-79.00555461855338</td><td>-29.158220563083404</td><td>-0.0032607878</td><td>0.008489967  </td><td>0.0005951909   </td><td>264.36688    </td><td>0.01271345   </td><td>0       </td><td>0     </td><td>0.0          </td><td>0.13123506   </td><td>-2          </td><td>2              </td><td>1              </td><td>1         </td><td>3.4028235e+38</td><td>3.4028235e+38</td><td>1           </td><td>19575.057</td><td>0.0          </td><td>375            </td><td>3.0                     </td><td>2019-05-14 08:05:09.617541000</td><td>3      </td><td>gt1l   </td><td>1032480798594</td><td>11       </td><td>276566554498</td><td>5112321332334243113</td></tr>\n",
       "<tr><td>...                                    </td><td>...    </td><td>...               </td><td>...                </td><td>...          </td><td>...          </td><td>...            </td><td>...          </td><td>...          </td><td>...     </td><td>...   </td><td>...          </td><td>...          </td><td>...         </td><td>...            </td><td>...            </td><td>...       </td><td>...          </td><td>...          </td><td>...         </td><td>...      </td><td>...          </td><td>...            </td><td>...                     </td><td>...                          </td><td>...    </td><td>...    </td><td>...          </td><td>...      </td><td>...         </td><td>...                </td></tr>\n",
       "<tr><td><i style='opacity: 0.6'>298,271,717</i></td><td>1569656</td><td>-78.2400490932243 </td><td>-112.14232913945352</td><td>3.4028235e+38</td><td>3.4028235e+38</td><td>3.4028235e+38  </td><td>3.4028235e+38</td><td>3.4028235e+38</td><td>1       </td><td>3     </td><td>3.4028235e+38</td><td>3.4028235e+38</td><td>-3          </td><td>5              </td><td>2              </td><td>2         </td><td>29.979246    </td><td>-0.007984577 </td><td>1           </td><td>9233.532 </td><td>3.4028235e+38</td><td>0              </td><td>3.4028235e+38           </td><td>2019-04-13 15:03:34.767862000</td><td>3      </td><td>gt3r   </td><td>963593850833 </td><td>10       </td><td>276399083473</td><td>4112233333421444212</td></tr>\n",
       "<tr><td><i style='opacity: 0.6'>298,271,718</i></td><td>1569657</td><td>-78.2398740994634 </td><td>-112.14249557765775</td><td>3.4028235e+38</td><td>3.4028235e+38</td><td>3.4028235e+38  </td><td>3.4028235e+38</td><td>3.4028235e+38</td><td>1       </td><td>3     </td><td>3.4028235e+38</td><td>3.4028235e+38</td><td>-3          </td><td>5              </td><td>2              </td><td>2         </td><td>29.979246    </td><td>-0.00819415  </td><td>1           </td><td>8526.938 </td><td>3.4028235e+38</td><td>0              </td><td>3.4028235e+38           </td><td>2019-04-13 15:03:34.770912000</td><td>3      </td><td>gt3r   </td><td>963593850836 </td><td>10       </td><td>276399083476</td><td>4112233333421444221</td></tr>\n",
       "<tr><td><i style='opacity: 0.6'>298,271,719</i></td><td>1569752</td><td>-78.22323544581869</td><td>-112.157929146986  </td><td>3.4028235e+38</td><td>3.4028235e+38</td><td>3.4028235e+38  </td><td>3.4028235e+38</td><td>3.4028235e+38</td><td>1       </td><td>3     </td><td>3.4028235e+38</td><td>3.4028235e+38</td><td>-1          </td><td>5              </td><td>2              </td><td>2         </td><td>29.979246    </td><td>-0.028147202 </td><td>1           </td><td>7081.393 </td><td>3.4028235e+38</td><td>0              </td><td>3.4028235e+38           </td><td>2019-04-13 15:03:35.038195000</td><td>3      </td><td>gt3r   </td><td>963593861065 </td><td>10       </td><td>276399093705</td><td>4112233333424244132</td></tr>\n",
       "<tr><td><i style='opacity: 0.6'>298,271,720</i></td><td>1579859</td><td>-76.449328422305  </td><td>-113.6012793545775 </td><td>3.4028235e+38</td><td>3.4028235e+38</td><td>3.4028235e+38  </td><td>3.4028235e+38</td><td>3.4028235e+38</td><td>1       </td><td>3     </td><td>3.4028235e+38</td><td>3.4028235e+38</td><td>-1          </td><td>5              </td><td>1              </td><td>1         </td><td>3.4028235e+38</td><td>3.4028235e+38</td><td>1           </td><td>7556.9717</td><td>3.4028235e+38</td><td>0              </td><td>3.4028235e+38           </td><td>2019-04-13 15:04:03.526662000</td><td>3      </td><td>gt3r   </td><td>963983610755 </td><td>10       </td><td>276788843395</td><td>4112412432332143114</td></tr>\n",
       "<tr><td><i style='opacity: 0.6'>298,271,721</i></td><td>1579995</td><td>-76.42541499614175</td><td>-113.61838272123744</td><td>3.4028235e+38</td><td>3.4028235e+38</td><td>3.4028235e+38  </td><td>3.4028235e+38</td><td>3.4028235e+38</td><td>1       </td><td>3     </td><td>3.4028235e+38</td><td>3.4028235e+38</td><td>-1          </td><td>5              </td><td>1              </td><td>1         </td><td>3.4028235e+38</td><td>3.4028235e+38</td><td>1           </td><td>6277.6035</td><td>3.4028235e+38</td><td>0              </td><td>3.4028235e+38           </td><td>2019-04-13 15:04:03.909102000</td><td>3      </td><td>gt3r   </td><td>963983631515 </td><td>10       </td><td>276788864155</td><td>4112412432343213234</td></tr>\n",
       "</tbody>\n",
       "</table>"
      ],
      "text/plain": [
       "#            id       lat                 lon                  slope_y        slope_x        slope_x_sigma    h_li           s_li           q_flag    s_fg    snr            h_rb           bsnow_conf    cloud_flg_asr    cloud_flg_atm    msw_flag    fbsnow_h       bsnow_od       layer_flag    bckgrd     e_bckgrd       n_fit_photons    w_surface_window_final    t_year                         cycle    track    uniq           parents    normed        midx\n",
       "0            1443587  -79.00604150693235  176.34489505559952   0.0034970236   0.045052722    0.0008298112     -19.586994     0.012193246    0         0       0.0            0.17003135     -1            2                1                3           29.979246      0.26861945     1             28285.42   0.0            522              3.0                       2019-03-29 07:13:52.971019000  3        gt1l     894772371480   9          276297080856  3112221322343111231\n",
       "1            1443588  -79.00621643747844  176.34471657932238   0.0042643934   0.050562415    0.00088303734    -18.60782      0.01287923     0         0       0.0            0.18802492     -1            2                1                3           29.979246      0.2682749      1             25933.799  0.0            541              3.0                       2019-03-29 07:13:52.973831000  3        gt1l     894772371469   9          276297080845  3112221322343111142\n",
       "2            1565320  -79.00590464294554  -29.15786824984113   -0.0038180242  0.008322206    0.0005828745     264.03226      0.011864527    0         0       0.0            0.131612       -2            2                1                1           3.4028235e+38  3.4028235e+38  1             20022.52   0.0            390              3.0                       2019-05-14 08:05:09.611856000  3        gt1l     1032480798421  11         276566554325  5112321332334234222\n",
       "3            1565321  -79.00572962014209  -29.158044121082156  -0.003440852   0.0070416494   0.000579469      264.19763      0.011928397    0         0       0.0            0.1270821      -2            2                1                1           3.4028235e+38  3.4028235e+38  1             21030.754  0.0            376              3.0                       2019-05-14 08:05:09.614699000  3        gt1l     1032480798421  11         276566554325  5112321332334234222\n",
       "4            1565322  -79.00555461855338  -29.158220563083404  -0.0032607878  0.008489967    0.0005951909     264.36688      0.01271345     0         0       0.0            0.13123506     -2            2                1                1           3.4028235e+38  3.4028235e+38  1             19575.057  0.0            375              3.0                       2019-05-14 08:05:09.617541000  3        gt1l     1032480798594  11         276566554498  5112321332334243113\n",
       "...          ...      ...                 ...                  ...            ...            ...              ...            ...            ...       ...     ...            ...            ...           ...              ...              ...         ...            ...            ...           ...        ...            ...              ...                       ...                            ...      ...      ...            ...        ...           ...\n",
       "298,271,717  1569656  -78.2400490932243   -112.14232913945352  3.4028235e+38  3.4028235e+38  3.4028235e+38    3.4028235e+38  3.4028235e+38  1         3       3.4028235e+38  3.4028235e+38  -3            5                2                2           29.979246      -0.007984577   1             9233.532   3.4028235e+38  0                3.4028235e+38             2019-04-13 15:03:34.767862000  3        gt3r     963593850833   10         276399083473  4112233333421444212\n",
       "298,271,718  1569657  -78.2398740994634   -112.14249557765775  3.4028235e+38  3.4028235e+38  3.4028235e+38    3.4028235e+38  3.4028235e+38  1         3       3.4028235e+38  3.4028235e+38  -3            5                2                2           29.979246      -0.00819415    1             8526.938   3.4028235e+38  0                3.4028235e+38             2019-04-13 15:03:34.770912000  3        gt3r     963593850836   10         276399083476  4112233333421444221\n",
       "298,271,719  1569752  -78.22323544581869  -112.157929146986    3.4028235e+38  3.4028235e+38  3.4028235e+38    3.4028235e+38  3.4028235e+38  1         3       3.4028235e+38  3.4028235e+38  -1            5                2                2           29.979246      -0.028147202   1             7081.393   3.4028235e+38  0                3.4028235e+38             2019-04-13 15:03:35.038195000  3        gt3r     963593861065   10         276399093705  4112233333424244132\n",
       "298,271,720  1579859  -76.449328422305    -113.6012793545775   3.4028235e+38  3.4028235e+38  3.4028235e+38    3.4028235e+38  3.4028235e+38  1         3       3.4028235e+38  3.4028235e+38  -1            5                1                1           3.4028235e+38  3.4028235e+38  1             7556.9717  3.4028235e+38  0                3.4028235e+38             2019-04-13 15:04:03.526662000  3        gt3r     963983610755   10         276788843395  4112412432332143114\n",
       "298,271,721  1579995  -76.42541499614175  -113.61838272123744  3.4028235e+38  3.4028235e+38  3.4028235e+38    3.4028235e+38  3.4028235e+38  1         3       3.4028235e+38  3.4028235e+38  -1            5                1                1           3.4028235e+38  3.4028235e+38  1             6277.6035  3.4028235e+38  0                3.4028235e+38             2019-04-13 15:04:03.909102000  3        gt3r     963983631515   10         276788864155  4112412432343213234"
      ]
     },
     "execution_count": 19,
     "metadata": {},
     "output_type": "execute_result"
    }
   ],
   "source": [
    "df"
   ]
  },
  {
   "cell_type": "code",
   "execution_count": 20,
   "id": "d6146e2b-899c-4202-ac3f-7ff53dce8d52",
   "metadata": {},
   "outputs": [],
   "source": [
    "midx = df.midx.as_numpy().values"
   ]
  },
  {
   "cell_type": "code",
   "execution_count": 21,
   "id": "6e173e4c-3684-4e1f-a238-217eed813c99",
   "metadata": {},
   "outputs": [],
   "source": [
    "del(df['midx'])\n",
    "del(df['parents'])\n",
    "del(df['normed'])"
   ]
  },
  {
   "cell_type": "code",
   "execution_count": 22,
   "id": "94bdf9af-394f-44cb-9e64-ac5d43768148",
   "metadata": {},
   "outputs": [
    {
     "data": {
      "text/html": [
       "<table>\n",
       "<thead>\n",
       "<tr><th>#                                      </th><th>id     </th><th>lat               </th><th>lon                </th><th>slope_y      </th><th>slope_x      </th><th>slope_x_sigma  </th><th>h_li         </th><th>s_li         </th><th>q_flag  </th><th>s_fg  </th><th>snr          </th><th>h_rb         </th><th>bsnow_conf  </th><th>cloud_flg_asr  </th><th>cloud_flg_atm  </th><th>msw_flag  </th><th>fbsnow_h     </th><th>bsnow_od     </th><th>layer_flag  </th><th>bckgrd   </th><th>e_bckgrd     </th><th>n_fit_photons  </th><th>w_surface_window_final  </th><th>t_year                       </th><th>cycle  </th><th>track  </th><th>uniq         </th><th>midx               </th></tr>\n",
       "</thead>\n",
       "<tbody>\n",
       "<tr><td><i style='opacity: 0.6'>0</i>          </td><td>1443587</td><td>-79.00604150693235</td><td>176.34489505559952 </td><td>0.0034970236 </td><td>0.045052722  </td><td>0.0008298112   </td><td>-19.586994   </td><td>0.012193246  </td><td>0       </td><td>0     </td><td>0.0          </td><td>0.17003135   </td><td>-1          </td><td>2              </td><td>1              </td><td>3         </td><td>29.979246    </td><td>0.26861945   </td><td>1           </td><td>28285.42 </td><td>0.0          </td><td>522            </td><td>3.0                     </td><td>2019-03-29 07:13:52.971019000</td><td>3      </td><td>gt1l   </td><td>894772371480 </td><td>3112221322343111231</td></tr>\n",
       "<tr><td><i style='opacity: 0.6'>1</i>          </td><td>1443588</td><td>-79.00621643747844</td><td>176.34471657932238 </td><td>0.0042643934 </td><td>0.050562415  </td><td>0.00088303734  </td><td>-18.60782    </td><td>0.01287923   </td><td>0       </td><td>0     </td><td>0.0          </td><td>0.18802492   </td><td>-1          </td><td>2              </td><td>1              </td><td>3         </td><td>29.979246    </td><td>0.2682749    </td><td>1           </td><td>25933.799</td><td>0.0          </td><td>541            </td><td>3.0                     </td><td>2019-03-29 07:13:52.973831000</td><td>3      </td><td>gt1l   </td><td>894772371469 </td><td>3112221322343111142</td></tr>\n",
       "<tr><td><i style='opacity: 0.6'>2</i>          </td><td>1565320</td><td>-79.00590464294554</td><td>-29.15786824984113 </td><td>-0.0038180242</td><td>0.008322206  </td><td>0.0005828745   </td><td>264.03226    </td><td>0.011864527  </td><td>0       </td><td>0     </td><td>0.0          </td><td>0.131612     </td><td>-2          </td><td>2              </td><td>1              </td><td>1         </td><td>3.4028235e+38</td><td>3.4028235e+38</td><td>1           </td><td>20022.52 </td><td>0.0          </td><td>390            </td><td>3.0                     </td><td>2019-05-14 08:05:09.611856000</td><td>3      </td><td>gt1l   </td><td>1032480798421</td><td>5112321332334234222</td></tr>\n",
       "<tr><td><i style='opacity: 0.6'>3</i>          </td><td>1565321</td><td>-79.00572962014209</td><td>-29.158044121082156</td><td>-0.003440852 </td><td>0.0070416494 </td><td>0.000579469    </td><td>264.19763    </td><td>0.011928397  </td><td>0       </td><td>0     </td><td>0.0          </td><td>0.1270821    </td><td>-2          </td><td>2              </td><td>1              </td><td>1         </td><td>3.4028235e+38</td><td>3.4028235e+38</td><td>1           </td><td>21030.754</td><td>0.0          </td><td>376            </td><td>3.0                     </td><td>2019-05-14 08:05:09.614699000</td><td>3      </td><td>gt1l   </td><td>1032480798421</td><td>5112321332334234222</td></tr>\n",
       "<tr><td><i style='opacity: 0.6'>4</i>          </td><td>1565322</td><td>-79.00555461855338</td><td>-29.158220563083404</td><td>-0.0032607878</td><td>0.008489967  </td><td>0.0005951909   </td><td>264.36688    </td><td>0.01271345   </td><td>0       </td><td>0     </td><td>0.0          </td><td>0.13123506   </td><td>-2          </td><td>2              </td><td>1              </td><td>1         </td><td>3.4028235e+38</td><td>3.4028235e+38</td><td>1           </td><td>19575.057</td><td>0.0          </td><td>375            </td><td>3.0                     </td><td>2019-05-14 08:05:09.617541000</td><td>3      </td><td>gt1l   </td><td>1032480798594</td><td>5112321332334243113</td></tr>\n",
       "<tr><td>...                                    </td><td>...    </td><td>...               </td><td>...                </td><td>...          </td><td>...          </td><td>...            </td><td>...          </td><td>...          </td><td>...     </td><td>...   </td><td>...          </td><td>...          </td><td>...         </td><td>...            </td><td>...            </td><td>...       </td><td>...          </td><td>...          </td><td>...         </td><td>...      </td><td>...          </td><td>...            </td><td>...                     </td><td>...                          </td><td>...    </td><td>...    </td><td>...          </td><td>...                </td></tr>\n",
       "<tr><td><i style='opacity: 0.6'>298,271,717</i></td><td>1569656</td><td>-78.2400490932243 </td><td>-112.14232913945352</td><td>3.4028235e+38</td><td>3.4028235e+38</td><td>3.4028235e+38  </td><td>3.4028235e+38</td><td>3.4028235e+38</td><td>1       </td><td>3     </td><td>3.4028235e+38</td><td>3.4028235e+38</td><td>-3          </td><td>5              </td><td>2              </td><td>2         </td><td>29.979246    </td><td>-0.007984577 </td><td>1           </td><td>9233.532 </td><td>3.4028235e+38</td><td>0              </td><td>3.4028235e+38           </td><td>2019-04-13 15:03:34.767862000</td><td>3      </td><td>gt3r   </td><td>963593850833 </td><td>4112233333421444212</td></tr>\n",
       "<tr><td><i style='opacity: 0.6'>298,271,718</i></td><td>1569657</td><td>-78.2398740994634 </td><td>-112.14249557765775</td><td>3.4028235e+38</td><td>3.4028235e+38</td><td>3.4028235e+38  </td><td>3.4028235e+38</td><td>3.4028235e+38</td><td>1       </td><td>3     </td><td>3.4028235e+38</td><td>3.4028235e+38</td><td>-3          </td><td>5              </td><td>2              </td><td>2         </td><td>29.979246    </td><td>-0.00819415  </td><td>1           </td><td>8526.938 </td><td>3.4028235e+38</td><td>0              </td><td>3.4028235e+38           </td><td>2019-04-13 15:03:34.770912000</td><td>3      </td><td>gt3r   </td><td>963593850836 </td><td>4112233333421444221</td></tr>\n",
       "<tr><td><i style='opacity: 0.6'>298,271,719</i></td><td>1569752</td><td>-78.22323544581869</td><td>-112.157929146986  </td><td>3.4028235e+38</td><td>3.4028235e+38</td><td>3.4028235e+38  </td><td>3.4028235e+38</td><td>3.4028235e+38</td><td>1       </td><td>3     </td><td>3.4028235e+38</td><td>3.4028235e+38</td><td>-1          </td><td>5              </td><td>2              </td><td>2         </td><td>29.979246    </td><td>-0.028147202 </td><td>1           </td><td>7081.393 </td><td>3.4028235e+38</td><td>0              </td><td>3.4028235e+38           </td><td>2019-04-13 15:03:35.038195000</td><td>3      </td><td>gt3r   </td><td>963593861065 </td><td>4112233333424244132</td></tr>\n",
       "<tr><td><i style='opacity: 0.6'>298,271,720</i></td><td>1579859</td><td>-76.449328422305  </td><td>-113.6012793545775 </td><td>3.4028235e+38</td><td>3.4028235e+38</td><td>3.4028235e+38  </td><td>3.4028235e+38</td><td>3.4028235e+38</td><td>1       </td><td>3     </td><td>3.4028235e+38</td><td>3.4028235e+38</td><td>-1          </td><td>5              </td><td>1              </td><td>1         </td><td>3.4028235e+38</td><td>3.4028235e+38</td><td>1           </td><td>7556.9717</td><td>3.4028235e+38</td><td>0              </td><td>3.4028235e+38           </td><td>2019-04-13 15:04:03.526662000</td><td>3      </td><td>gt3r   </td><td>963983610755 </td><td>4112412432332143114</td></tr>\n",
       "<tr><td><i style='opacity: 0.6'>298,271,721</i></td><td>1579995</td><td>-76.42541499614175</td><td>-113.61838272123744</td><td>3.4028235e+38</td><td>3.4028235e+38</td><td>3.4028235e+38  </td><td>3.4028235e+38</td><td>3.4028235e+38</td><td>1       </td><td>3     </td><td>3.4028235e+38</td><td>3.4028235e+38</td><td>-1          </td><td>5              </td><td>1              </td><td>1         </td><td>3.4028235e+38</td><td>3.4028235e+38</td><td>1           </td><td>6277.6035</td><td>3.4028235e+38</td><td>0              </td><td>3.4028235e+38           </td><td>2019-04-13 15:04:03.909102000</td><td>3      </td><td>gt3r   </td><td>963983631515 </td><td>4112412432343213234</td></tr>\n",
       "</tbody>\n",
       "</table>"
      ],
      "text/plain": [
       "#            id       lat                 lon                  slope_y        slope_x        slope_x_sigma    h_li           s_li           q_flag    s_fg    snr            h_rb           bsnow_conf    cloud_flg_asr    cloud_flg_atm    msw_flag    fbsnow_h       bsnow_od       layer_flag    bckgrd     e_bckgrd       n_fit_photons    w_surface_window_final    t_year                         cycle    track    uniq           midx\n",
       "0            1443587  -79.00604150693235  176.34489505559952   0.0034970236   0.045052722    0.0008298112     -19.586994     0.012193246    0         0       0.0            0.17003135     -1            2                1                3           29.979246      0.26861945     1             28285.42   0.0            522              3.0                       2019-03-29 07:13:52.971019000  3        gt1l     894772371480   3112221322343111231\n",
       "1            1443588  -79.00621643747844  176.34471657932238   0.0042643934   0.050562415    0.00088303734    -18.60782      0.01287923     0         0       0.0            0.18802492     -1            2                1                3           29.979246      0.2682749      1             25933.799  0.0            541              3.0                       2019-03-29 07:13:52.973831000  3        gt1l     894772371469   3112221322343111142\n",
       "2            1565320  -79.00590464294554  -29.15786824984113   -0.0038180242  0.008322206    0.0005828745     264.03226      0.011864527    0         0       0.0            0.131612       -2            2                1                1           3.4028235e+38  3.4028235e+38  1             20022.52   0.0            390              3.0                       2019-05-14 08:05:09.611856000  3        gt1l     1032480798421  5112321332334234222\n",
       "3            1565321  -79.00572962014209  -29.158044121082156  -0.003440852   0.0070416494   0.000579469      264.19763      0.011928397    0         0       0.0            0.1270821      -2            2                1                1           3.4028235e+38  3.4028235e+38  1             21030.754  0.0            376              3.0                       2019-05-14 08:05:09.614699000  3        gt1l     1032480798421  5112321332334234222\n",
       "4            1565322  -79.00555461855338  -29.158220563083404  -0.0032607878  0.008489967    0.0005951909     264.36688      0.01271345     0         0       0.0            0.13123506     -2            2                1                1           3.4028235e+38  3.4028235e+38  1             19575.057  0.0            375              3.0                       2019-05-14 08:05:09.617541000  3        gt1l     1032480798594  5112321332334243113\n",
       "...          ...      ...                 ...                  ...            ...            ...              ...            ...            ...       ...     ...            ...            ...           ...              ...              ...         ...            ...            ...           ...        ...            ...              ...                       ...                            ...      ...      ...            ...\n",
       "298,271,717  1569656  -78.2400490932243   -112.14232913945352  3.4028235e+38  3.4028235e+38  3.4028235e+38    3.4028235e+38  3.4028235e+38  1         3       3.4028235e+38  3.4028235e+38  -3            5                2                2           29.979246      -0.007984577   1             9233.532   3.4028235e+38  0                3.4028235e+38             2019-04-13 15:03:34.767862000  3        gt3r     963593850833   4112233333421444212\n",
       "298,271,718  1569657  -78.2398740994634   -112.14249557765775  3.4028235e+38  3.4028235e+38  3.4028235e+38    3.4028235e+38  3.4028235e+38  1         3       3.4028235e+38  3.4028235e+38  -3            5                2                2           29.979246      -0.00819415    1             8526.938   3.4028235e+38  0                3.4028235e+38             2019-04-13 15:03:34.770912000  3        gt3r     963593850836   4112233333421444221\n",
       "298,271,719  1569752  -78.22323544581869  -112.157929146986    3.4028235e+38  3.4028235e+38  3.4028235e+38    3.4028235e+38  3.4028235e+38  1         3       3.4028235e+38  3.4028235e+38  -1            5                2                2           29.979246      -0.028147202   1             7081.393   3.4028235e+38  0                3.4028235e+38             2019-04-13 15:03:35.038195000  3        gt3r     963593861065   4112233333424244132\n",
       "298,271,720  1579859  -76.449328422305    -113.6012793545775   3.4028235e+38  3.4028235e+38  3.4028235e+38    3.4028235e+38  3.4028235e+38  1         3       3.4028235e+38  3.4028235e+38  -1            5                1                1           3.4028235e+38  3.4028235e+38  1             7556.9717  3.4028235e+38  0                3.4028235e+38             2019-04-13 15:04:03.526662000  3        gt3r     963983610755   4112412432332143114\n",
       "298,271,721  1579995  -76.42541499614175  -113.61838272123744  3.4028235e+38  3.4028235e+38  3.4028235e+38    3.4028235e+38  3.4028235e+38  1         3       3.4028235e+38  3.4028235e+38  -1            5                1                1           3.4028235e+38  3.4028235e+38  1             6277.6035  3.4028235e+38  0                3.4028235e+38             2019-04-13 15:04:03.909102000  3        gt3r     963983631515   4112412432343213234"
      ]
     },
     "execution_count": 22,
     "metadata": {},
     "output_type": "execute_result"
    }
   ],
   "source": [
    "df['midx'] = midx\n",
    "df"
   ]
  },
  {
   "cell_type": "code",
   "execution_count": 23,
   "id": "6a11009c-2930-4c7e-a03d-c692e5024e74",
   "metadata": {},
   "outputs": [],
   "source": [
    "import pyproj\n",
    "\n",
    "psgs = pyproj.Proj(3976)"
   ]
  },
  {
   "cell_type": "code",
   "execution_count": 24,
   "id": "16173b3f-94d7-40db-ae72-107a4f09f912",
   "metadata": {},
   "outputs": [],
   "source": [
    "lat = df.lat.to_numpy()\n",
    "lon = df.lon.to_numpy()"
   ]
  },
  {
   "cell_type": "code",
   "execution_count": 25,
   "id": "067bb60c-9426-47f8-bc00-d33f4415847b",
   "metadata": {},
   "outputs": [],
   "source": [
    "x, y = psgs(lon,lat)"
   ]
  },
  {
   "cell_type": "code",
   "execution_count": 26,
   "id": "834bcb48-00e5-4b5f-b71d-d4dd9ad9026c",
   "metadata": {},
   "outputs": [],
   "source": [
    "#df['x'], df['y'] = df.apply(psgs, arguments=[df.lon, df.lat], vectorize=True)"
   ]
  },
  {
   "cell_type": "code",
   "execution_count": 27,
   "id": "6bbc725f-d27f-48d1-9a42-e1bcf0ac1782",
   "metadata": {},
   "outputs": [
    {
     "data": {
      "text/html": [
       "<table>\n",
       "<thead>\n",
       "<tr><th>#                                      </th><th>id     </th><th>lat               </th><th>lon                </th><th>slope_y      </th><th>slope_x      </th><th>slope_x_sigma  </th><th>h_li         </th><th>s_li         </th><th>q_flag  </th><th>s_fg  </th><th>snr          </th><th>h_rb         </th><th>bsnow_conf  </th><th>cloud_flg_asr  </th><th>cloud_flg_atm  </th><th>msw_flag  </th><th>fbsnow_h     </th><th>bsnow_od     </th><th>layer_flag  </th><th>bckgrd   </th><th>e_bckgrd     </th><th>n_fit_photons  </th><th>w_surface_window_final  </th><th>t_year                       </th><th>cycle  </th><th>track  </th><th>uniq         </th><th>midx               </th><th>x                  </th><th>y                  </th></tr>\n",
       "</thead>\n",
       "<tbody>\n",
       "<tr><td><i style='opacity: 0.6'>0</i>          </td><td>1443587</td><td>-79.00604150693235</td><td>176.34489505559952 </td><td>0.0034970236 </td><td>0.045052722  </td><td>0.0008298112   </td><td>-19.586994   </td><td>0.012193246  </td><td>0       </td><td>0     </td><td>0.0          </td><td>0.17003135   </td><td>-1          </td><td>2              </td><td>1              </td><td>3         </td><td>29.979246    </td><td>0.26861945   </td><td>1           </td><td>28285.42 </td><td>0.0          </td><td>522            </td><td>3.0                     </td><td>2019-03-29 07:13:52.971019000</td><td>3      </td><td>gt1l   </td><td>894772371480 </td><td>3112221322343111231</td><td>76147.62450344954  </td><td>-1192036.1950727522</td></tr>\n",
       "<tr><td><i style='opacity: 0.6'>1</i>          </td><td>1443588</td><td>-79.00621643747844</td><td>176.34471657932238 </td><td>0.0042643934 </td><td>0.050562415  </td><td>0.00088303734  </td><td>-18.60782    </td><td>0.01287923   </td><td>0       </td><td>0     </td><td>0.0          </td><td>0.18802492   </td><td>-1          </td><td>2              </td><td>1              </td><td>3         </td><td>29.979246    </td><td>0.2682749    </td><td>1           </td><td>25933.799</td><td>0.0          </td><td>541            </td><td>3.0                     </td><td>2019-03-29 07:13:52.973831000</td><td>3      </td><td>gt1l   </td><td>894772371469 </td><td>3112221322343111142</td><td>76150.11884253839  </td><td>-1192016.878556122 </td></tr>\n",
       "<tr><td><i style='opacity: 0.6'>2</i>          </td><td>1565320</td><td>-79.00590464294554</td><td>-29.15786824984113 </td><td>-0.0038180242</td><td>0.008322206  </td><td>0.0005828745   </td><td>264.03226    </td><td>0.011864527  </td><td>0       </td><td>0     </td><td>0.0          </td><td>0.131612     </td><td>-2          </td><td>2              </td><td>1              </td><td>1         </td><td>3.4028235e+38</td><td>3.4028235e+38</td><td>1           </td><td>20022.52 </td><td>0.0          </td><td>390            </td><td>3.0                     </td><td>2019-05-14 08:05:09.611856000</td><td>3      </td><td>gt1l   </td><td>1032480798421</td><td>5112321332334234222</td><td>-581972.1311470547 </td><td>1043116.9269472611 </td></tr>\n",
       "<tr><td><i style='opacity: 0.6'>3</i>          </td><td>1565321</td><td>-79.00572962014209</td><td>-29.158044121082156</td><td>-0.003440852 </td><td>0.0070416494 </td><td>0.000579469    </td><td>264.19763    </td><td>0.011928397  </td><td>0       </td><td>0     </td><td>0.0          </td><td>0.1270821    </td><td>-2          </td><td>2              </td><td>1              </td><td>1         </td><td>3.4028235e+38</td><td>3.4028235e+38</td><td>1           </td><td>21030.754</td><td>0.0          </td><td>376            </td><td>3.0                     </td><td>2019-05-14 08:05:09.614699000</td><td>3      </td><td>gt1l   </td><td>1032480798421</td><td>5112321332334234222</td><td>-581984.6527197912 </td><td>1043131.844901119  </td></tr>\n",
       "<tr><td><i style='opacity: 0.6'>4</i>          </td><td>1565322</td><td>-79.00555461855338</td><td>-29.158220563083404</td><td>-0.0032607878</td><td>0.008489967  </td><td>0.0005951909   </td><td>264.36688    </td><td>0.01271345   </td><td>0       </td><td>0     </td><td>0.0          </td><td>0.13123506   </td><td>-2          </td><td>2              </td><td>1              </td><td>1         </td><td>3.4028235e+38</td><td>3.4028235e+38</td><td>1           </td><td>19575.057</td><td>0.0          </td><td>375            </td><td>3.0                     </td><td>2019-05-14 08:05:09.617541000</td><td>3      </td><td>gt1l   </td><td>1032480798594</td><td>5112321332334243113</td><td>-581997.1836540232 </td><td>1043146.7549702491 </td></tr>\n",
       "<tr><td>...                                    </td><td>...    </td><td>...               </td><td>...                </td><td>...          </td><td>...          </td><td>...            </td><td>...          </td><td>...          </td><td>...     </td><td>...   </td><td>...          </td><td>...          </td><td>...         </td><td>...            </td><td>...            </td><td>...       </td><td>...          </td><td>...          </td><td>...         </td><td>...      </td><td>...          </td><td>...            </td><td>...                     </td><td>...                          </td><td>...    </td><td>...    </td><td>...          </td><td>...                </td><td>...                </td><td>...                </td></tr>\n",
       "<tr><td><i style='opacity: 0.6'>298,271,717</i></td><td>1569656</td><td>-78.2400490932243 </td><td>-112.14232913945352</td><td>3.4028235e+38</td><td>3.4028235e+38</td><td>3.4028235e+38  </td><td>3.4028235e+38</td><td>3.4028235e+38</td><td>1       </td><td>3     </td><td>3.4028235e+38</td><td>3.4028235e+38</td><td>-3          </td><td>5              </td><td>2              </td><td>2         </td><td>29.979246    </td><td>-0.007984577 </td><td>1           </td><td>9233.532 </td><td>3.4028235e+38</td><td>0              </td><td>3.4028235e+38           </td><td>2019-04-13 15:03:34.767862000</td><td>3      </td><td>gt3r   </td><td>963593850833 </td><td>4112233333421444212</td><td>-1183965.1241931545</td><td>-481777.6041658824 </td></tr>\n",
       "<tr><td><i style='opacity: 0.6'>298,271,718</i></td><td>1569657</td><td>-78.2398740994634 </td><td>-112.14249557765775</td><td>3.4028235e+38</td><td>3.4028235e+38</td><td>3.4028235e+38  </td><td>3.4028235e+38</td><td>3.4028235e+38</td><td>1       </td><td>3     </td><td>3.4028235e+38</td><td>3.4028235e+38</td><td>-3          </td><td>5              </td><td>2              </td><td>2         </td><td>29.979246    </td><td>-0.00819415  </td><td>1           </td><td>8526.938 </td><td>3.4028235e+38</td><td>0              </td><td>3.4028235e+38           </td><td>2019-04-13 15:03:34.770912000</td><td>3      </td><td>gt3r   </td><td>963593850836 </td><td>4112233333421444221</td><td>-1183981.4619760022</td><td>-481788.2611581817 </td></tr>\n",
       "<tr><td><i style='opacity: 0.6'>298,271,719</i></td><td>1569752</td><td>-78.22323544581869</td><td>-112.157929146986  </td><td>3.4028235e+38</td><td>3.4028235e+38</td><td>3.4028235e+38  </td><td>3.4028235e+38</td><td>3.4028235e+38</td><td>1       </td><td>3     </td><td>3.4028235e+38</td><td>3.4028235e+38</td><td>-1          </td><td>5              </td><td>2              </td><td>2         </td><td>29.979246    </td><td>-0.028147202 </td><td>1           </td><td>7081.393 </td><td>3.4028235e+38</td><td>0              </td><td>3.4028235e+38           </td><td>2019-04-13 15:03:35.038195000</td><td>3      </td><td>gt3r   </td><td>963593861065 </td><td>4112233333424244132</td><td>-1185537.9685311797</td><td>-482793.90209957986</td></tr>\n",
       "<tr><td><i style='opacity: 0.6'>298,271,720</i></td><td>1579859</td><td>-76.449328422305  </td><td>-113.6012793545775 </td><td>3.4028235e+38</td><td>3.4028235e+38</td><td>3.4028235e+38  </td><td>3.4028235e+38</td><td>3.4028235e+38</td><td>1       </td><td>3     </td><td>3.4028235e+38</td><td>3.4028235e+38</td><td>-1          </td><td>5              </td><td>1              </td><td>1         </td><td>3.4028235e+38</td><td>3.4028235e+38</td><td>1           </td><td>7556.9717</td><td>3.4028235e+38</td><td>0              </td><td>3.4028235e+38           </td><td>2019-04-13 15:04:03.526662000</td><td>3      </td><td>gt3r   </td><td>963983610755 </td><td>4112412432332143114</td><td>-1351174.6645843042</td><td>-590349.6253547024 </td></tr>\n",
       "<tr><td><i style='opacity: 0.6'>298,271,721</i></td><td>1579995</td><td>-76.42541499614175</td><td>-113.61838272123744</td><td>3.4028235e+38</td><td>3.4028235e+38</td><td>3.4028235e+38  </td><td>3.4028235e+38</td><td>3.4028235e+38</td><td>1       </td><td>3     </td><td>3.4028235e+38</td><td>3.4028235e+38</td><td>-1          </td><td>5              </td><td>1              </td><td>1         </td><td>3.4028235e+38</td><td>3.4028235e+38</td><td>1           </td><td>6277.6035</td><td>3.4028235e+38</td><td>0              </td><td>3.4028235e+38           </td><td>2019-04-13 15:04:03.909102000</td><td>3      </td><td>gt3r   </td><td>963983631515 </td><td>4112412432343213234</td><td>-1353404.0805168634</td><td>-591804.882686441  </td></tr>\n",
       "</tbody>\n",
       "</table>"
      ],
      "text/plain": [
       "#            id       lat                 lon                  slope_y        slope_x        slope_x_sigma    h_li           s_li           q_flag    s_fg    snr            h_rb           bsnow_conf    cloud_flg_asr    cloud_flg_atm    msw_flag    fbsnow_h       bsnow_od       layer_flag    bckgrd     e_bckgrd       n_fit_photons    w_surface_window_final    t_year                         cycle    track    uniq           midx                 x                    y\n",
       "0            1443587  -79.00604150693235  176.34489505559952   0.0034970236   0.045052722    0.0008298112     -19.586994     0.012193246    0         0       0.0            0.17003135     -1            2                1                3           29.979246      0.26861945     1             28285.42   0.0            522              3.0                       2019-03-29 07:13:52.971019000  3        gt1l     894772371480   3112221322343111231  76147.62450344954    -1192036.1950727522\n",
       "1            1443588  -79.00621643747844  176.34471657932238   0.0042643934   0.050562415    0.00088303734    -18.60782      0.01287923     0         0       0.0            0.18802492     -1            2                1                3           29.979246      0.2682749      1             25933.799  0.0            541              3.0                       2019-03-29 07:13:52.973831000  3        gt1l     894772371469   3112221322343111142  76150.11884253839    -1192016.878556122\n",
       "2            1565320  -79.00590464294554  -29.15786824984113   -0.0038180242  0.008322206    0.0005828745     264.03226      0.011864527    0         0       0.0            0.131612       -2            2                1                1           3.4028235e+38  3.4028235e+38  1             20022.52   0.0            390              3.0                       2019-05-14 08:05:09.611856000  3        gt1l     1032480798421  5112321332334234222  -581972.1311470547   1043116.9269472611\n",
       "3            1565321  -79.00572962014209  -29.158044121082156  -0.003440852   0.0070416494   0.000579469      264.19763      0.011928397    0         0       0.0            0.1270821      -2            2                1                1           3.4028235e+38  3.4028235e+38  1             21030.754  0.0            376              3.0                       2019-05-14 08:05:09.614699000  3        gt1l     1032480798421  5112321332334234222  -581984.6527197912   1043131.844901119\n",
       "4            1565322  -79.00555461855338  -29.158220563083404  -0.0032607878  0.008489967    0.0005951909     264.36688      0.01271345     0         0       0.0            0.13123506     -2            2                1                1           3.4028235e+38  3.4028235e+38  1             19575.057  0.0            375              3.0                       2019-05-14 08:05:09.617541000  3        gt1l     1032480798594  5112321332334243113  -581997.1836540232   1043146.7549702491\n",
       "...          ...      ...                 ...                  ...            ...            ...              ...            ...            ...       ...     ...            ...            ...           ...              ...              ...         ...            ...            ...           ...        ...            ...              ...                       ...                            ...      ...      ...            ...                  ...                  ...\n",
       "298,271,717  1569656  -78.2400490932243   -112.14232913945352  3.4028235e+38  3.4028235e+38  3.4028235e+38    3.4028235e+38  3.4028235e+38  1         3       3.4028235e+38  3.4028235e+38  -3            5                2                2           29.979246      -0.007984577   1             9233.532   3.4028235e+38  0                3.4028235e+38             2019-04-13 15:03:34.767862000  3        gt3r     963593850833   4112233333421444212  -1183965.1241931545  -481777.6041658824\n",
       "298,271,718  1569657  -78.2398740994634   -112.14249557765775  3.4028235e+38  3.4028235e+38  3.4028235e+38    3.4028235e+38  3.4028235e+38  1         3       3.4028235e+38  3.4028235e+38  -3            5                2                2           29.979246      -0.00819415    1             8526.938   3.4028235e+38  0                3.4028235e+38             2019-04-13 15:03:34.770912000  3        gt3r     963593850836   4112233333421444221  -1183981.4619760022  -481788.2611581817\n",
       "298,271,719  1569752  -78.22323544581869  -112.157929146986    3.4028235e+38  3.4028235e+38  3.4028235e+38    3.4028235e+38  3.4028235e+38  1         3       3.4028235e+38  3.4028235e+38  -1            5                2                2           29.979246      -0.028147202   1             7081.393   3.4028235e+38  0                3.4028235e+38             2019-04-13 15:03:35.038195000  3        gt3r     963593861065   4112233333424244132  -1185537.9685311797  -482793.90209957986\n",
       "298,271,720  1579859  -76.449328422305    -113.6012793545775   3.4028235e+38  3.4028235e+38  3.4028235e+38    3.4028235e+38  3.4028235e+38  1         3       3.4028235e+38  3.4028235e+38  -1            5                1                1           3.4028235e+38  3.4028235e+38  1             7556.9717  3.4028235e+38  0                3.4028235e+38             2019-04-13 15:04:03.526662000  3        gt3r     963983610755   4112412432332143114  -1351174.6645843042  -590349.6253547024\n",
       "298,271,721  1579995  -76.42541499614175  -113.61838272123744  3.4028235e+38  3.4028235e+38  3.4028235e+38    3.4028235e+38  3.4028235e+38  1         3       3.4028235e+38  3.4028235e+38  -1            5                1                1           3.4028235e+38  3.4028235e+38  1             6277.6035  3.4028235e+38  0                3.4028235e+38             2019-04-13 15:04:03.909102000  3        gt3r     963983631515   4112412432343213234  -1353404.0805168634  -591804.882686441"
      ]
     },
     "execution_count": 27,
     "metadata": {},
     "output_type": "execute_result"
    }
   ],
   "source": [
    "df['x'], df['y'] = x, y\n",
    "df"
   ]
  },
  {
   "cell_type": "code",
   "execution_count": 28,
   "id": "dd9e2858-fd81-495d-b786-6b1a55c5d964",
   "metadata": {},
   "outputs": [
    {
     "data": {
      "text/html": [
       "<table>\n",
       "<thead>\n",
       "<tr><th>#                                      </th><th>id     </th><th>lat               </th><th>lon                </th><th>slope_y      </th><th>slope_x      </th><th>slope_x_sigma  </th><th>h_li         </th><th>s_li         </th><th>q_flag  </th><th>s_fg  </th><th>snr          </th><th>h_rb         </th><th>bsnow_conf  </th><th>cloud_flg_asr  </th><th>cloud_flg_atm  </th><th>msw_flag  </th><th>fbsnow_h     </th><th>bsnow_od     </th><th>layer_flag  </th><th>bckgrd   </th><th>e_bckgrd     </th><th>n_fit_photons  </th><th>w_surface_window_final  </th><th>t_year                       </th><th>cycle  </th><th>track  </th><th>uniq         </th><th>midx               </th><th>x                  </th><th>y                  </th></tr>\n",
       "</thead>\n",
       "<tbody>\n",
       "<tr><td><i style='opacity: 0.6'>0</i>          </td><td>1443587</td><td>-79.00604150693235</td><td>176.34489505559952 </td><td>0.0034970236 </td><td>0.045052722  </td><td>0.0008298112   </td><td>-19.586994   </td><td>0.012193246  </td><td>0       </td><td>0     </td><td>0.0          </td><td>0.17003135   </td><td>-1          </td><td>2              </td><td>1              </td><td>3         </td><td>29.979246    </td><td>0.26861945   </td><td>1           </td><td>28285.42 </td><td>0.0          </td><td>522            </td><td>3.0                     </td><td>2019-03-29 07:13:52.971019000</td><td>3      </td><td>gt1l   </td><td>894772371480 </td><td>3112221322343111231</td><td>76147.62450344954  </td><td>-1192036.1950727522</td></tr>\n",
       "<tr><td><i style='opacity: 0.6'>1</i>          </td><td>1443588</td><td>-79.00621643747844</td><td>176.34471657932238 </td><td>0.0042643934 </td><td>0.050562415  </td><td>0.00088303734  </td><td>-18.60782    </td><td>0.01287923   </td><td>0       </td><td>0     </td><td>0.0          </td><td>0.18802492   </td><td>-1          </td><td>2              </td><td>1              </td><td>3         </td><td>29.979246    </td><td>0.2682749    </td><td>1           </td><td>25933.799</td><td>0.0          </td><td>541            </td><td>3.0                     </td><td>2019-03-29 07:13:52.973831000</td><td>3      </td><td>gt1l   </td><td>894772371469 </td><td>3112221322343111142</td><td>76150.11884253839  </td><td>-1192016.878556122 </td></tr>\n",
       "<tr><td><i style='opacity: 0.6'>2</i>          </td><td>1565320</td><td>-79.00590464294554</td><td>-29.15786824984113 </td><td>-0.0038180242</td><td>0.008322206  </td><td>0.0005828745   </td><td>264.03226    </td><td>0.011864527  </td><td>0       </td><td>0     </td><td>0.0          </td><td>0.131612     </td><td>-2          </td><td>2              </td><td>1              </td><td>1         </td><td>3.4028235e+38</td><td>3.4028235e+38</td><td>1           </td><td>20022.52 </td><td>0.0          </td><td>390            </td><td>3.0                     </td><td>2019-05-14 08:05:09.611856000</td><td>3      </td><td>gt1l   </td><td>1032480798421</td><td>5112321332334234222</td><td>-581972.1311470547 </td><td>1043116.9269472611 </td></tr>\n",
       "<tr><td><i style='opacity: 0.6'>3</i>          </td><td>1565321</td><td>-79.00572962014209</td><td>-29.158044121082156</td><td>-0.003440852 </td><td>0.0070416494 </td><td>0.000579469    </td><td>264.19763    </td><td>0.011928397  </td><td>0       </td><td>0     </td><td>0.0          </td><td>0.1270821    </td><td>-2          </td><td>2              </td><td>1              </td><td>1         </td><td>3.4028235e+38</td><td>3.4028235e+38</td><td>1           </td><td>21030.754</td><td>0.0          </td><td>376            </td><td>3.0                     </td><td>2019-05-14 08:05:09.614699000</td><td>3      </td><td>gt1l   </td><td>1032480798421</td><td>5112321332334234222</td><td>-581984.6527197912 </td><td>1043131.844901119  </td></tr>\n",
       "<tr><td><i style='opacity: 0.6'>4</i>          </td><td>1565322</td><td>-79.00555461855338</td><td>-29.158220563083404</td><td>-0.0032607878</td><td>0.008489967  </td><td>0.0005951909   </td><td>264.36688    </td><td>0.01271345   </td><td>0       </td><td>0     </td><td>0.0          </td><td>0.13123506   </td><td>-2          </td><td>2              </td><td>1              </td><td>1         </td><td>3.4028235e+38</td><td>3.4028235e+38</td><td>1           </td><td>19575.057</td><td>0.0          </td><td>375            </td><td>3.0                     </td><td>2019-05-14 08:05:09.617541000</td><td>3      </td><td>gt1l   </td><td>1032480798594</td><td>5112321332334243113</td><td>-581997.1836540232 </td><td>1043146.7549702491 </td></tr>\n",
       "<tr><td>...                                    </td><td>...    </td><td>...               </td><td>...                </td><td>...          </td><td>...          </td><td>...            </td><td>...          </td><td>...          </td><td>...     </td><td>...   </td><td>...          </td><td>...          </td><td>...         </td><td>...            </td><td>...            </td><td>...       </td><td>...          </td><td>...          </td><td>...         </td><td>...      </td><td>...          </td><td>...            </td><td>...                     </td><td>...                          </td><td>...    </td><td>...    </td><td>...          </td><td>...                </td><td>...                </td><td>...                </td></tr>\n",
       "<tr><td><i style='opacity: 0.6'>298,271,717</i></td><td>1569656</td><td>-78.2400490932243 </td><td>-112.14232913945352</td><td>3.4028235e+38</td><td>3.4028235e+38</td><td>3.4028235e+38  </td><td>3.4028235e+38</td><td>3.4028235e+38</td><td>1       </td><td>3     </td><td>3.4028235e+38</td><td>3.4028235e+38</td><td>-3          </td><td>5              </td><td>2              </td><td>2         </td><td>29.979246    </td><td>-0.007984577 </td><td>1           </td><td>9233.532 </td><td>3.4028235e+38</td><td>0              </td><td>3.4028235e+38           </td><td>2019-04-13 15:03:34.767862000</td><td>3      </td><td>gt3r   </td><td>963593850833 </td><td>4112233333421444212</td><td>-1183965.1241931545</td><td>-481777.6041658824 </td></tr>\n",
       "<tr><td><i style='opacity: 0.6'>298,271,718</i></td><td>1569657</td><td>-78.2398740994634 </td><td>-112.14249557765775</td><td>3.4028235e+38</td><td>3.4028235e+38</td><td>3.4028235e+38  </td><td>3.4028235e+38</td><td>3.4028235e+38</td><td>1       </td><td>3     </td><td>3.4028235e+38</td><td>3.4028235e+38</td><td>-3          </td><td>5              </td><td>2              </td><td>2         </td><td>29.979246    </td><td>-0.00819415  </td><td>1           </td><td>8526.938 </td><td>3.4028235e+38</td><td>0              </td><td>3.4028235e+38           </td><td>2019-04-13 15:03:34.770912000</td><td>3      </td><td>gt3r   </td><td>963593850836 </td><td>4112233333421444221</td><td>-1183981.4619760022</td><td>-481788.2611581817 </td></tr>\n",
       "<tr><td><i style='opacity: 0.6'>298,271,719</i></td><td>1569752</td><td>-78.22323544581869</td><td>-112.157929146986  </td><td>3.4028235e+38</td><td>3.4028235e+38</td><td>3.4028235e+38  </td><td>3.4028235e+38</td><td>3.4028235e+38</td><td>1       </td><td>3     </td><td>3.4028235e+38</td><td>3.4028235e+38</td><td>-1          </td><td>5              </td><td>2              </td><td>2         </td><td>29.979246    </td><td>-0.028147202 </td><td>1           </td><td>7081.393 </td><td>3.4028235e+38</td><td>0              </td><td>3.4028235e+38           </td><td>2019-04-13 15:03:35.038195000</td><td>3      </td><td>gt3r   </td><td>963593861065 </td><td>4112233333424244132</td><td>-1185537.9685311797</td><td>-482793.90209957986</td></tr>\n",
       "<tr><td><i style='opacity: 0.6'>298,271,720</i></td><td>1579859</td><td>-76.449328422305  </td><td>-113.6012793545775 </td><td>3.4028235e+38</td><td>3.4028235e+38</td><td>3.4028235e+38  </td><td>3.4028235e+38</td><td>3.4028235e+38</td><td>1       </td><td>3     </td><td>3.4028235e+38</td><td>3.4028235e+38</td><td>-1          </td><td>5              </td><td>1              </td><td>1         </td><td>3.4028235e+38</td><td>3.4028235e+38</td><td>1           </td><td>7556.9717</td><td>3.4028235e+38</td><td>0              </td><td>3.4028235e+38           </td><td>2019-04-13 15:04:03.526662000</td><td>3      </td><td>gt3r   </td><td>963983610755 </td><td>4112412432332143114</td><td>-1351174.6645843042</td><td>-590349.6253547024 </td></tr>\n",
       "<tr><td><i style='opacity: 0.6'>298,271,721</i></td><td>1579995</td><td>-76.42541499614175</td><td>-113.61838272123744</td><td>3.4028235e+38</td><td>3.4028235e+38</td><td>3.4028235e+38  </td><td>3.4028235e+38</td><td>3.4028235e+38</td><td>1       </td><td>3     </td><td>3.4028235e+38</td><td>3.4028235e+38</td><td>-1          </td><td>5              </td><td>1              </td><td>1         </td><td>3.4028235e+38</td><td>3.4028235e+38</td><td>1           </td><td>6277.6035</td><td>3.4028235e+38</td><td>0              </td><td>3.4028235e+38           </td><td>2019-04-13 15:04:03.909102000</td><td>3      </td><td>gt3r   </td><td>963983631515 </td><td>4112412432343213234</td><td>-1353404.0805168634</td><td>-591804.882686441  </td></tr>\n",
       "</tbody>\n",
       "</table>"
      ],
      "text/plain": [
       "#            id       lat                 lon                  slope_y        slope_x        slope_x_sigma    h_li           s_li           q_flag    s_fg    snr            h_rb           bsnow_conf    cloud_flg_asr    cloud_flg_atm    msw_flag    fbsnow_h       bsnow_od       layer_flag    bckgrd     e_bckgrd       n_fit_photons    w_surface_window_final    t_year                         cycle    track    uniq           midx                 x                    y\n",
       "0            1443587  -79.00604150693235  176.34489505559952   0.0034970236   0.045052722    0.0008298112     -19.586994     0.012193246    0         0       0.0            0.17003135     -1            2                1                3           29.979246      0.26861945     1             28285.42   0.0            522              3.0                       2019-03-29 07:13:52.971019000  3        gt1l     894772371480   3112221322343111231  76147.62450344954    -1192036.1950727522\n",
       "1            1443588  -79.00621643747844  176.34471657932238   0.0042643934   0.050562415    0.00088303734    -18.60782      0.01287923     0         0       0.0            0.18802492     -1            2                1                3           29.979246      0.2682749      1             25933.799  0.0            541              3.0                       2019-03-29 07:13:52.973831000  3        gt1l     894772371469   3112221322343111142  76150.11884253839    -1192016.878556122\n",
       "2            1565320  -79.00590464294554  -29.15786824984113   -0.0038180242  0.008322206    0.0005828745     264.03226      0.011864527    0         0       0.0            0.131612       -2            2                1                1           3.4028235e+38  3.4028235e+38  1             20022.52   0.0            390              3.0                       2019-05-14 08:05:09.611856000  3        gt1l     1032480798421  5112321332334234222  -581972.1311470547   1043116.9269472611\n",
       "3            1565321  -79.00572962014209  -29.158044121082156  -0.003440852   0.0070416494   0.000579469      264.19763      0.011928397    0         0       0.0            0.1270821      -2            2                1                1           3.4028235e+38  3.4028235e+38  1             21030.754  0.0            376              3.0                       2019-05-14 08:05:09.614699000  3        gt1l     1032480798421  5112321332334234222  -581984.6527197912   1043131.844901119\n",
       "4            1565322  -79.00555461855338  -29.158220563083404  -0.0032607878  0.008489967    0.0005951909     264.36688      0.01271345     0         0       0.0            0.13123506     -2            2                1                1           3.4028235e+38  3.4028235e+38  1             19575.057  0.0            375              3.0                       2019-05-14 08:05:09.617541000  3        gt1l     1032480798594  5112321332334243113  -581997.1836540232   1043146.7549702491\n",
       "...          ...      ...                 ...                  ...            ...            ...              ...            ...            ...       ...     ...            ...            ...           ...              ...              ...         ...            ...            ...           ...        ...            ...              ...                       ...                            ...      ...      ...            ...                  ...                  ...\n",
       "298,271,717  1569656  -78.2400490932243   -112.14232913945352  3.4028235e+38  3.4028235e+38  3.4028235e+38    3.4028235e+38  3.4028235e+38  1         3       3.4028235e+38  3.4028235e+38  -3            5                2                2           29.979246      -0.007984577   1             9233.532   3.4028235e+38  0                3.4028235e+38             2019-04-13 15:03:34.767862000  3        gt3r     963593850833   4112233333421444212  -1183965.1241931545  -481777.6041658824\n",
       "298,271,718  1569657  -78.2398740994634   -112.14249557765775  3.4028235e+38  3.4028235e+38  3.4028235e+38    3.4028235e+38  3.4028235e+38  1         3       3.4028235e+38  3.4028235e+38  -3            5                2                2           29.979246      -0.00819415    1             8526.938   3.4028235e+38  0                3.4028235e+38             2019-04-13 15:03:34.770912000  3        gt3r     963593850836   4112233333421444221  -1183981.4619760022  -481788.2611581817\n",
       "298,271,719  1569752  -78.22323544581869  -112.157929146986    3.4028235e+38  3.4028235e+38  3.4028235e+38    3.4028235e+38  3.4028235e+38  1         3       3.4028235e+38  3.4028235e+38  -1            5                2                2           29.979246      -0.028147202   1             7081.393   3.4028235e+38  0                3.4028235e+38             2019-04-13 15:03:35.038195000  3        gt3r     963593861065   4112233333424244132  -1185537.9685311797  -482793.90209957986\n",
       "298,271,720  1579859  -76.449328422305    -113.6012793545775   3.4028235e+38  3.4028235e+38  3.4028235e+38    3.4028235e+38  3.4028235e+38  1         3       3.4028235e+38  3.4028235e+38  -1            5                1                1           3.4028235e+38  3.4028235e+38  1             7556.9717  3.4028235e+38  0                3.4028235e+38             2019-04-13 15:04:03.526662000  3        gt3r     963983610755   4112412432332143114  -1351174.6645843042  -590349.6253547024\n",
       "298,271,721  1579995  -76.42541499614175  -113.61838272123744  3.4028235e+38  3.4028235e+38  3.4028235e+38    3.4028235e+38  3.4028235e+38  1         3       3.4028235e+38  3.4028235e+38  -1            5                1                1           3.4028235e+38  3.4028235e+38  1             6277.6035  3.4028235e+38  0                3.4028235e+38             2019-04-13 15:04:03.909102000  3        gt3r     963983631515   4112412432343213234  -1353404.0805168634  -591804.882686441"
      ]
     },
     "execution_count": 28,
     "metadata": {},
     "output_type": "execute_result"
    }
   ],
   "source": [
    "df"
   ]
  },
  {
   "cell_type": "code",
   "execution_count": 29,
   "id": "7211b40a-bf25-470a-8f14-a7217e146fc3",
   "metadata": {},
   "outputs": [
    {
     "data": {
      "text/html": [
       "<table>\n",
       "<thead>\n",
       "<tr><th>#                                      </th><th>id     </th><th>lat               </th><th>lon                </th><th>slope_y      </th><th>slope_x      </th><th>slope_x_sigma  </th><th>h_li         </th><th>s_li         </th><th>q_flag  </th><th>s_fg  </th><th>snr          </th><th>h_rb         </th><th>bsnow_conf  </th><th>cloud_flg_asr  </th><th>cloud_flg_atm  </th><th>msw_flag  </th><th>fbsnow_h     </th><th>bsnow_od     </th><th>layer_flag  </th><th>bckgrd   </th><th>e_bckgrd     </th><th>n_fit_photons  </th><th>w_surface_window_final  </th><th>t_year                       </th><th>cycle  </th><th>track  </th><th>uniq         </th><th>midx               </th><th>x                  </th><th>y                  </th></tr>\n",
       "</thead>\n",
       "<tbody>\n",
       "<tr><td><i style='opacity: 0.6'>0</i>          </td><td>1565320</td><td>-79.00590464294554</td><td>-29.15786824984113 </td><td>-0.0038180242</td><td>0.008322206  </td><td>0.0005828745   </td><td>264.03226    </td><td>0.011864527  </td><td>0       </td><td>0     </td><td>0.0          </td><td>0.131612     </td><td>-2          </td><td>2              </td><td>1              </td><td>1         </td><td>3.4028235e+38</td><td>3.4028235e+38</td><td>1           </td><td>20022.52 </td><td>0.0          </td><td>390            </td><td>3.0                     </td><td>2019-05-14 08:05:09.611856000</td><td>3      </td><td>gt1l   </td><td>1032480798421</td><td>5112321332334234222</td><td>-581972.1311470547 </td><td>1043116.9269472611 </td></tr>\n",
       "<tr><td><i style='opacity: 0.6'>1</i>          </td><td>1565321</td><td>-79.00572962014209</td><td>-29.158044121082156</td><td>-0.003440852 </td><td>0.0070416494 </td><td>0.000579469    </td><td>264.19763    </td><td>0.011928397  </td><td>0       </td><td>0     </td><td>0.0          </td><td>0.1270821    </td><td>-2          </td><td>2              </td><td>1              </td><td>1         </td><td>3.4028235e+38</td><td>3.4028235e+38</td><td>1           </td><td>21030.754</td><td>0.0          </td><td>376            </td><td>3.0                     </td><td>2019-05-14 08:05:09.614699000</td><td>3      </td><td>gt1l   </td><td>1032480798421</td><td>5112321332334234222</td><td>-581984.6527197912 </td><td>1043131.844901119  </td></tr>\n",
       "<tr><td><i style='opacity: 0.6'>2</i>          </td><td>1565322</td><td>-79.00555461855338</td><td>-29.158220563083404</td><td>-0.0032607878</td><td>0.008489967  </td><td>0.0005951909   </td><td>264.36688    </td><td>0.01271345   </td><td>0       </td><td>0     </td><td>0.0          </td><td>0.13123506   </td><td>-2          </td><td>2              </td><td>1              </td><td>1         </td><td>3.4028235e+38</td><td>3.4028235e+38</td><td>1           </td><td>19575.057</td><td>0.0          </td><td>375            </td><td>3.0                     </td><td>2019-05-14 08:05:09.617541000</td><td>3      </td><td>gt1l   </td><td>1032480798594</td><td>5112321332334243113</td><td>-581997.1836540232 </td><td>1043146.7549702491 </td></tr>\n",
       "<tr><td><i style='opacity: 0.6'>3</i>          </td><td>1565323</td><td>-79.00537964808349</td><td>-29.158397841682415</td><td>-0.003500975 </td><td>0.003751769  </td><td>0.0006079925   </td><td>264.49127    </td><td>0.01261617   </td><td>0       </td><td>0     </td><td>0.0          </td><td>0.13588308   </td><td>-2          </td><td>2              </td><td>1              </td><td>1         </td><td>3.4028235e+38</td><td>3.4028235e+38</td><td>1           </td><td>18078.805</td><td>0.0          </td><td>368            </td><td>3.0                     </td><td>2019-05-14 08:05:09.620379000</td><td>3      </td><td>gt1l   </td><td>1032480798594</td><td>5112321332334243113</td><td>-582009.7282627932 </td><td>1043161.6535086596 </td></tr>\n",
       "<tr><td><i style='opacity: 0.6'>4</i>          </td><td>1565324</td><td>-79.00520471356494</td><td>-29.158576080028098</td><td>-0.004122505 </td><td>0.0056274175 </td><td>0.0005678211   </td><td>264.58536    </td><td>0.012933277  </td><td>0       </td><td>0     </td><td>0.0          </td><td>0.12659779   </td><td>-2          </td><td>2              </td><td>1              </td><td>1         </td><td>3.4028235e+38</td><td>3.4028235e+38</td><td>1           </td><td>16378.219</td><td>0.0          </td><td>379            </td><td>3.0                     </td><td>2019-05-14 08:05:09.623214000</td><td>3      </td><td>gt1l   </td><td>1032480798601</td><td>5112321332334243132</td><td>-582022.2885315514 </td><td>1043176.5388036236 </td></tr>\n",
       "<tr><td>...                                    </td><td>...    </td><td>...               </td><td>...                </td><td>...          </td><td>...          </td><td>...            </td><td>...          </td><td>...          </td><td>...     </td><td>...   </td><td>...          </td><td>...          </td><td>...         </td><td>...            </td><td>...            </td><td>...       </td><td>...          </td><td>...          </td><td>...         </td><td>...      </td><td>...          </td><td>...            </td><td>...                     </td><td>...                          </td><td>...    </td><td>...    </td><td>...          </td><td>...                </td><td>...                </td><td>...                </td></tr>\n",
       "<tr><td><i style='opacity: 0.6'>298,271,715</i></td><td>1569656</td><td>-78.2400490932243 </td><td>-112.14232913945352</td><td>3.4028235e+38</td><td>3.4028235e+38</td><td>3.4028235e+38  </td><td>3.4028235e+38</td><td>3.4028235e+38</td><td>1       </td><td>3     </td><td>3.4028235e+38</td><td>3.4028235e+38</td><td>-3          </td><td>5              </td><td>2              </td><td>2         </td><td>29.979246    </td><td>-0.007984577 </td><td>1           </td><td>9233.532 </td><td>3.4028235e+38</td><td>0              </td><td>3.4028235e+38           </td><td>2019-04-13 15:03:34.767862000</td><td>3      </td><td>gt3r   </td><td>963593850833 </td><td>4112233333421444212</td><td>-1183965.1241931545</td><td>-481777.6041658824 </td></tr>\n",
       "<tr><td><i style='opacity: 0.6'>298,271,716</i></td><td>1569657</td><td>-78.2398740994634 </td><td>-112.14249557765775</td><td>3.4028235e+38</td><td>3.4028235e+38</td><td>3.4028235e+38  </td><td>3.4028235e+38</td><td>3.4028235e+38</td><td>1       </td><td>3     </td><td>3.4028235e+38</td><td>3.4028235e+38</td><td>-3          </td><td>5              </td><td>2              </td><td>2         </td><td>29.979246    </td><td>-0.00819415  </td><td>1           </td><td>8526.938 </td><td>3.4028235e+38</td><td>0              </td><td>3.4028235e+38           </td><td>2019-04-13 15:03:34.770912000</td><td>3      </td><td>gt3r   </td><td>963593850836 </td><td>4112233333421444221</td><td>-1183981.4619760022</td><td>-481788.2611581817 </td></tr>\n",
       "<tr><td><i style='opacity: 0.6'>298,271,717</i></td><td>1569752</td><td>-78.22323544581869</td><td>-112.157929146986  </td><td>3.4028235e+38</td><td>3.4028235e+38</td><td>3.4028235e+38  </td><td>3.4028235e+38</td><td>3.4028235e+38</td><td>1       </td><td>3     </td><td>3.4028235e+38</td><td>3.4028235e+38</td><td>-1          </td><td>5              </td><td>2              </td><td>2         </td><td>29.979246    </td><td>-0.028147202 </td><td>1           </td><td>7081.393 </td><td>3.4028235e+38</td><td>0              </td><td>3.4028235e+38           </td><td>2019-04-13 15:03:35.038195000</td><td>3      </td><td>gt3r   </td><td>963593861065 </td><td>4112233333424244132</td><td>-1185537.9685311797</td><td>-482793.90209957986</td></tr>\n",
       "<tr><td><i style='opacity: 0.6'>298,271,718</i></td><td>1579859</td><td>-76.449328422305  </td><td>-113.6012793545775 </td><td>3.4028235e+38</td><td>3.4028235e+38</td><td>3.4028235e+38  </td><td>3.4028235e+38</td><td>3.4028235e+38</td><td>1       </td><td>3     </td><td>3.4028235e+38</td><td>3.4028235e+38</td><td>-1          </td><td>5              </td><td>1              </td><td>1         </td><td>3.4028235e+38</td><td>3.4028235e+38</td><td>1           </td><td>7556.9717</td><td>3.4028235e+38</td><td>0              </td><td>3.4028235e+38           </td><td>2019-04-13 15:04:03.526662000</td><td>3      </td><td>gt3r   </td><td>963983610755 </td><td>4112412432332143114</td><td>-1351174.6645843042</td><td>-590349.6253547024 </td></tr>\n",
       "<tr><td><i style='opacity: 0.6'>298,271,719</i></td><td>1579995</td><td>-76.42541499614175</td><td>-113.61838272123744</td><td>3.4028235e+38</td><td>3.4028235e+38</td><td>3.4028235e+38  </td><td>3.4028235e+38</td><td>3.4028235e+38</td><td>1       </td><td>3     </td><td>3.4028235e+38</td><td>3.4028235e+38</td><td>-1          </td><td>5              </td><td>1              </td><td>1         </td><td>3.4028235e+38</td><td>3.4028235e+38</td><td>1           </td><td>6277.6035</td><td>3.4028235e+38</td><td>0              </td><td>3.4028235e+38           </td><td>2019-04-13 15:04:03.909102000</td><td>3      </td><td>gt3r   </td><td>963983631515 </td><td>4112412432343213234</td><td>-1353404.0805168634</td><td>-591804.882686441  </td></tr>\n",
       "</tbody>\n",
       "</table>"
      ],
      "text/plain": [
       "#            id       lat                 lon                  slope_y        slope_x        slope_x_sigma    h_li           s_li           q_flag    s_fg    snr            h_rb           bsnow_conf    cloud_flg_asr    cloud_flg_atm    msw_flag    fbsnow_h       bsnow_od       layer_flag    bckgrd     e_bckgrd       n_fit_photons    w_surface_window_final    t_year                         cycle    track    uniq           midx                 x                    y\n",
       "0            1565320  -79.00590464294554  -29.15786824984113   -0.0038180242  0.008322206    0.0005828745     264.03226      0.011864527    0         0       0.0            0.131612       -2            2                1                1           3.4028235e+38  3.4028235e+38  1             20022.52   0.0            390              3.0                       2019-05-14 08:05:09.611856000  3        gt1l     1032480798421  5112321332334234222  -581972.1311470547   1043116.9269472611\n",
       "1            1565321  -79.00572962014209  -29.158044121082156  -0.003440852   0.0070416494   0.000579469      264.19763      0.011928397    0         0       0.0            0.1270821      -2            2                1                1           3.4028235e+38  3.4028235e+38  1             21030.754  0.0            376              3.0                       2019-05-14 08:05:09.614699000  3        gt1l     1032480798421  5112321332334234222  -581984.6527197912   1043131.844901119\n",
       "2            1565322  -79.00555461855338  -29.158220563083404  -0.0032607878  0.008489967    0.0005951909     264.36688      0.01271345     0         0       0.0            0.13123506     -2            2                1                1           3.4028235e+38  3.4028235e+38  1             19575.057  0.0            375              3.0                       2019-05-14 08:05:09.617541000  3        gt1l     1032480798594  5112321332334243113  -581997.1836540232   1043146.7549702491\n",
       "3            1565323  -79.00537964808349  -29.158397841682415  -0.003500975   0.003751769    0.0006079925     264.49127      0.01261617     0         0       0.0            0.13588308     -2            2                1                1           3.4028235e+38  3.4028235e+38  1             18078.805  0.0            368              3.0                       2019-05-14 08:05:09.620379000  3        gt1l     1032480798594  5112321332334243113  -582009.7282627932   1043161.6535086596\n",
       "4            1565324  -79.00520471356494  -29.158576080028098  -0.004122505   0.0056274175   0.0005678211     264.58536      0.012933277    0         0       0.0            0.12659779     -2            2                1                1           3.4028235e+38  3.4028235e+38  1             16378.219  0.0            379              3.0                       2019-05-14 08:05:09.623214000  3        gt1l     1032480798601  5112321332334243132  -582022.2885315514   1043176.5388036236\n",
       "...          ...      ...                 ...                  ...            ...            ...              ...            ...            ...       ...     ...            ...            ...           ...              ...              ...         ...            ...            ...           ...        ...            ...              ...                       ...                            ...      ...      ...            ...                  ...                  ...\n",
       "298,271,715  1569656  -78.2400490932243   -112.14232913945352  3.4028235e+38  3.4028235e+38  3.4028235e+38    3.4028235e+38  3.4028235e+38  1         3       3.4028235e+38  3.4028235e+38  -3            5                2                2           29.979246      -0.007984577   1             9233.532   3.4028235e+38  0                3.4028235e+38             2019-04-13 15:03:34.767862000  3        gt3r     963593850833   4112233333421444212  -1183965.1241931545  -481777.6041658824\n",
       "298,271,716  1569657  -78.2398740994634   -112.14249557765775  3.4028235e+38  3.4028235e+38  3.4028235e+38    3.4028235e+38  3.4028235e+38  1         3       3.4028235e+38  3.4028235e+38  -3            5                2                2           29.979246      -0.00819415    1             8526.938   3.4028235e+38  0                3.4028235e+38             2019-04-13 15:03:34.770912000  3        gt3r     963593850836   4112233333421444221  -1183981.4619760022  -481788.2611581817\n",
       "298,271,717  1569752  -78.22323544581869  -112.157929146986    3.4028235e+38  3.4028235e+38  3.4028235e+38    3.4028235e+38  3.4028235e+38  1         3       3.4028235e+38  3.4028235e+38  -1            5                2                2           29.979246      -0.028147202   1             7081.393   3.4028235e+38  0                3.4028235e+38             2019-04-13 15:03:35.038195000  3        gt3r     963593861065   4112233333424244132  -1185537.9685311797  -482793.90209957986\n",
       "298,271,718  1579859  -76.449328422305    -113.6012793545775   3.4028235e+38  3.4028235e+38  3.4028235e+38    3.4028235e+38  3.4028235e+38  1         3       3.4028235e+38  3.4028235e+38  -1            5                1                1           3.4028235e+38  3.4028235e+38  1             7556.9717  3.4028235e+38  0                3.4028235e+38             2019-04-13 15:04:03.526662000  3        gt3r     963983610755   4112412432332143114  -1351174.6645843042  -590349.6253547024\n",
       "298,271,719  1579995  -76.42541499614175  -113.61838272123744  3.4028235e+38  3.4028235e+38  3.4028235e+38    3.4028235e+38  3.4028235e+38  1         3       3.4028235e+38  3.4028235e+38  -1            5                1                1           3.4028235e+38  3.4028235e+38  1             6277.6035  3.4028235e+38  0                3.4028235e+38             2019-04-13 15:04:03.909102000  3        gt3r     963983631515   4112412432343213234  -1353404.0805168634  -591804.882686441"
      ]
     },
     "execution_count": 29,
     "metadata": {},
     "output_type": "execute_result"
    }
   ],
   "source": [
    "df[2:]"
   ]
  },
  {
   "cell_type": "code",
   "execution_count": 30,
   "id": "turkish-county",
   "metadata": {},
   "outputs": [],
   "source": [
    "df[2:].export_arrow('./atl06_03_12.arrow')"
   ]
  },
  {
   "cell_type": "code",
   "execution_count": null,
   "id": "subject-capitol",
   "metadata": {},
   "outputs": [],
   "source": []
  },
  {
   "cell_type": "code",
   "execution_count": 10,
   "id": "operating-possibility",
   "metadata": {},
   "outputs": [
    {
     "data": {
      "text/html": [
       "<table>\n",
       "<thead>\n",
       "<tr><th>#                                      </th><th>id     </th><th>lat               </th><th>lon                </th><th>slope_y      </th><th>slope_x      </th><th>slope_x_sigma  </th><th>h_li     </th><th>s_li       </th><th>q_flag  </th><th>s_fg  </th><th>snr  </th><th>h_rb      </th><th>bsnow_conf  </th><th>cloud_flg_asr  </th><th>cloud_flg_atm  </th><th>msw_flag  </th><th>fbsnow_h  </th><th>bsnow_od  </th><th>layer_flag  </th><th>bckgrd   </th><th>e_bckgrd  </th><th>n_fit_photons  </th><th>w_surface_window_final  </th><th>t_year                       </th></tr>\n",
       "</thead>\n",
       "<tbody>\n",
       "<tr><td><i style='opacity: 0.6'>0</i>          </td><td>1443576</td><td>-79.00265175898602</td><td>152.6338938942904  </td><td>-0.0034930306</td><td>-0.0019932939</td><td>0.0012799798   </td><td>2112.0972</td><td>0.02197273 </td><td>0       </td><td>0     </td><td>0.0  </td><td>0.13674001</td><td>-1          </td><td>1              </td><td>0              </td><td>0         </td><td>98.97748  </td><td>0.15880647</td><td>0           </td><td>3543741.5</td><td>1567040.4 </td><td>138            </td><td>3.0                     </td><td>2018-12-28 13:08:17.510551000</td></tr>\n",
       "<tr><td><i style='opacity: 0.6'>1</i>          </td><td>1443577</td><td>-79.00282660535785</td><td>152.6337131144976  </td><td>-0.0033072757</td><td>-0.005460351 </td><td>0.0012954295   </td><td>2111.9941</td><td>0.015203893</td><td>0       </td><td>0     </td><td>0.0  </td><td>0.12070798</td><td>-1          </td><td>1              </td><td>0              </td><td>0         </td><td>96.86956  </td><td>0.15470755</td><td>0           </td><td>3428445.2</td><td>1567056.9 </td><td>144            </td><td>3.0                     </td><td>2018-12-28 13:08:17.513373000</td></tr>\n",
       "<tr><td><i style='opacity: 0.6'>2</i>          </td><td>1443581</td><td>-79.00770226316052</td><td>-70.68951907383446 </td><td>0.014864666  </td><td>0.008418874  </td><td>0.0005335565   </td><td>184.627  </td><td>0.010601515</td><td>0       </td><td>0     </td><td>0.0  </td><td>0.12233275</td><td>4           </td><td>2              </td><td>1              </td><td>4         </td><td>202.5068  </td><td>0.23907205</td><td>0           </td><td>821368.3 </td><td>456252.12 </td><td>397            </td><td>3.0                     </td><td>2019-02-23 01:20:25.102900000</td></tr>\n",
       "<tr><td><i style='opacity: 0.6'>3</i>          </td><td>1443582</td><td>-79.00787704800452</td><td>-70.68970163845202 </td><td>0.014720231  </td><td>0.0057043494 </td><td>0.0005324582   </td><td>184.77682</td><td>0.011338408</td><td>0       </td><td>0     </td><td>0.0  </td><td>0.12369104</td><td>4           </td><td>2              </td><td>1              </td><td>4         </td><td>200.39746 </td><td>0.23566185</td><td>0           </td><td>794943.7 </td><td>456265.75 </td><td>381            </td><td>3.0                     </td><td>2019-02-23 01:20:25.105714000</td></tr>\n",
       "<tr><td><i style='opacity: 0.6'>4</i>          </td><td>1443583</td><td>-79.00805186741138</td><td>-70.68988326285287 </td><td>0.014575872  </td><td>0.009426143  </td><td>0.0006639459   </td><td>184.91608</td><td>0.012034703</td><td>0       </td><td>0     </td><td>0.0  </td><td>0.14692499</td><td>4           </td><td>2              </td><td>1              </td><td>4         </td><td>198.28993 </td><td>0.23225461</td><td>0           </td><td>780100.6 </td><td>456282.53 </td><td>388            </td><td>3.0                     </td><td>2019-02-23 01:20:25.108526000</td></tr>\n",
       "<tr><td>...                                    </td><td>...    </td><td>...               </td><td>...                </td><td>...          </td><td>...          </td><td>...            </td><td>...      </td><td>...        </td><td>...     </td><td>...   </td><td>...  </td><td>...       </td><td>...         </td><td>...            </td><td>...            </td><td>...       </td><td>...       </td><td>...       </td><td>...         </td><td>...      </td><td>...       </td><td>...            </td><td>...                     </td><td>...                          </td></tr>\n",
       "<tr><td><i style='opacity: 0.6'>133,682,447</i></td><td>1565346</td><td>-79.00721045006628</td><td>-132.21977068251854</td><td>-0.006477784 </td><td>0.004741233  </td><td>0.0016565407   </td><td>1102.3906</td><td>0.03348249 </td><td>0       </td><td>0     </td><td>0.0  </td><td>0.21513973</td><td>-1          </td><td>4              </td><td>1              </td><td>2         </td><td>209.85472 </td><td>0.6916528 </td><td>1           </td><td>494481.06</td><td>420435.2  </td><td>111            </td><td>3.0                     </td><td>2019-03-28 17:10:59.581486000</td></tr>\n",
       "<tr><td><i style='opacity: 0.6'>133,682,448</i></td><td>1565347</td><td>-79.00703565872891</td><td>-132.2199529490756 </td><td>-0.005692235 </td><td>0.002207704  </td><td>0.0018826145   </td><td>1102.4156</td><td>0.029799085</td><td>0       </td><td>0     </td><td>0.0  </td><td>0.21348575</td><td>-1          </td><td>4              </td><td>1              </td><td>2         </td><td>209.85472 </td><td>0.6932627 </td><td>1           </td><td>514356.84</td><td>420444.66 </td><td>102            </td><td>3.0                     </td><td>2019-03-28 17:10:59.584297000</td></tr>\n",
       "<tr><td><i style='opacity: 0.6'>133,682,449</i></td><td>1565348</td><td>-79.00686084266192</td><td>-132.22013452710036</td><td>-0.0059905816</td><td>-0.003254145 </td><td>0.0019431423   </td><td>1102.4171</td><td>0.04439576 </td><td>0       </td><td>0     </td><td>0.0  </td><td>0.21254022</td><td>-1          </td><td>4              </td><td>1              </td><td>2         </td><td>209.85472 </td><td>0.6948735 </td><td>1           </td><td>513579.88</td><td>420454.1  </td><td>90             </td><td>3.0                     </td><td>2019-03-28 17:10:59.587110000</td></tr>\n",
       "<tr><td><i style='opacity: 0.6'>133,682,450</i></td><td>1565349</td><td>-79.00668598596165</td><td>-132.22031501663284</td><td>-0.006612603 </td><td>0.0012488412 </td><td>0.0021047168   </td><td>1102.4423</td><td>0.037854582</td><td>0       </td><td>0     </td><td>0.0  </td><td>0.21960956</td><td>-1          </td><td>4              </td><td>1              </td><td>2         </td><td>209.85472 </td><td>0.6964865 </td><td>1           </td><td>496849.22</td><td>420463.56 </td><td>92             </td><td>3.0                     </td><td>2019-03-28 17:10:59.589927000</td></tr>\n",
       "<tr><td><i style='opacity: 0.6'>133,682,451</i></td><td>1565350</td><td>-79.00651108765229</td><td>-132.22049439130075</td><td>-0.006373983 </td><td>0.0057607717 </td><td>0.002044127    </td><td>1102.5253</td><td>0.033580653</td><td>0       </td><td>0     </td><td>0.0  </td><td>0.22675054</td><td>-1          </td><td>4              </td><td>1              </td><td>2         </td><td>209.85472 </td><td>0.6981005 </td><td>1           </td><td>479508.7 </td><td>420473.03 </td><td>84             </td><td>3.0                     </td><td>2019-03-28 17:10:59.592746000</td></tr>\n",
       "</tbody>\n",
       "</table>"
      ],
      "text/plain": [
       "#            id       lat                 lon                  slope_y        slope_x        slope_x_sigma    h_li       s_li         q_flag    s_fg    snr    h_rb        bsnow_conf    cloud_flg_asr    cloud_flg_atm    msw_flag    fbsnow_h    bsnow_od    layer_flag    bckgrd     e_bckgrd    n_fit_photons    w_surface_window_final    t_year\n",
       "0            1443576  -79.00265175898602  152.6338938942904    -0.0034930306  -0.0019932939  0.0012799798     2112.0972  0.02197273   0         0       0.0    0.13674001  -1            1                0                0           98.97748    0.15880647  0             3543741.5  1567040.4   138              3.0                       2018-12-28 13:08:17.510551000\n",
       "1            1443577  -79.00282660535785  152.6337131144976    -0.0033072757  -0.005460351   0.0012954295     2111.9941  0.015203893  0         0       0.0    0.12070798  -1            1                0                0           96.86956    0.15470755  0             3428445.2  1567056.9   144              3.0                       2018-12-28 13:08:17.513373000\n",
       "2            1443581  -79.00770226316052  -70.68951907383446   0.014864666    0.008418874    0.0005335565     184.627    0.010601515  0         0       0.0    0.12233275  4             2                1                4           202.5068    0.23907205  0             821368.3   456252.12   397              3.0                       2019-02-23 01:20:25.102900000\n",
       "3            1443582  -79.00787704800452  -70.68970163845202   0.014720231    0.0057043494   0.0005324582     184.77682  0.011338408  0         0       0.0    0.12369104  4             2                1                4           200.39746   0.23566185  0             794943.7   456265.75   381              3.0                       2019-02-23 01:20:25.105714000\n",
       "4            1443583  -79.00805186741138  -70.68988326285287   0.014575872    0.009426143    0.0006639459     184.91608  0.012034703  0         0       0.0    0.14692499  4             2                1                4           198.28993   0.23225461  0             780100.6   456282.53   388              3.0                       2019-02-23 01:20:25.108526000\n",
       "...          ...      ...                 ...                  ...            ...            ...              ...        ...          ...       ...     ...    ...         ...           ...              ...              ...         ...         ...         ...           ...        ...         ...              ...                       ...\n",
       "133,682,447  1565346  -79.00721045006628  -132.21977068251854  -0.006477784   0.004741233    0.0016565407     1102.3906  0.03348249   0         0       0.0    0.21513973  -1            4                1                2           209.85472   0.6916528   1             494481.06  420435.2    111              3.0                       2019-03-28 17:10:59.581486000\n",
       "133,682,448  1565347  -79.00703565872891  -132.2199529490756   -0.005692235   0.002207704    0.0018826145     1102.4156  0.029799085  0         0       0.0    0.21348575  -1            4                1                2           209.85472   0.6932627   1             514356.84  420444.66   102              3.0                       2019-03-28 17:10:59.584297000\n",
       "133,682,449  1565348  -79.00686084266192  -132.22013452710036  -0.0059905816  -0.003254145   0.0019431423     1102.4171  0.04439576   0         0       0.0    0.21254022  -1            4                1                2           209.85472   0.6948735   1             513579.88  420454.1    90               3.0                       2019-03-28 17:10:59.587110000\n",
       "133,682,450  1565349  -79.00668598596165  -132.22031501663284  -0.006612603   0.0012488412   0.0021047168     1102.4423  0.037854582  0         0       0.0    0.21960956  -1            4                1                2           209.85472   0.6964865   1             496849.22  420463.56   92               3.0                       2019-03-28 17:10:59.589927000\n",
       "133,682,451  1565350  -79.00651108765229  -132.22049439130075  -0.006373983   0.0057607717   0.002044127      1102.5253  0.033580653  0         0       0.0    0.22675054  -1            4                1                2           209.85472   0.6981005   1             479508.7   420473.03   84               3.0                       2019-03-28 17:10:59.592746000"
      ]
     },
     "execution_count": 10,
     "metadata": {},
     "output_type": "execute_result"
    }
   ],
   "source": [
    "gt1l"
   ]
  },
  {
   "cell_type": "code",
   "execution_count": null,
   "id": "guilty-legend",
   "metadata": {},
   "outputs": [],
   "source": []
  }
 ],
 "metadata": {
  "kernelspec": {
   "display_name": "Python 3",
   "language": "python",
   "name": "python3"
  },
  "language_info": {
   "codemirror_mode": {
    "name": "ipython",
    "version": 3
   },
   "file_extension": ".py",
   "mimetype": "text/x-python",
   "name": "python",
   "nbconvert_exporter": "python",
   "pygments_lexer": "ipython3",
   "version": "3.8.9"
  }
 },
 "nbformat": 4,
 "nbformat_minor": 5
}
