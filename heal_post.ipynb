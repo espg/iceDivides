{
 "cells": [
  {
   "cell_type": "code",
   "execution_count": 1,
   "id": "d4a68cda-bacf-47c3-94c2-970fad1c7b4a",
   "metadata": {},
   "outputs": [],
   "source": [
    "import vaex\n",
    "import vaex.jupyter.model as vjm\n",
    "\n",
    "import numpy as np\n",
    "import matplotlib.pyplot as plt\n",
    "\n",
    "import mhealpy as mh"
   ]
  },
  {
   "cell_type": "code",
   "execution_count": 36,
   "id": "e786f5ef-ceeb-4728-863f-c0ff05c76fad",
   "metadata": {},
   "outputs": [],
   "source": [
    "from numba import jit, int64, vectorize"
   ]
  },
  {
   "cell_type": "code",
   "execution_count": 2,
   "id": "f2fe85c3-c0fe-4432-bb04-c6ef17b3807d",
   "metadata": {},
   "outputs": [],
   "source": [
    "df = vaex.open('./atl06_03_11.arrow')"
   ]
  },
  {
   "cell_type": "code",
   "execution_count": 3,
   "id": "da6c3495-e6d5-4cf5-847f-ac1a50ebbbc4",
   "metadata": {},
   "outputs": [
    {
     "data": {
      "text/html": [
       "<table>\n",
       "<thead>\n",
       "<tr><th>#                                      </th><th>id     </th><th>lat               </th><th>lon                </th><th>slope_y              </th><th>slope_x               </th><th>slope_x_sigma        </th><th>h_li               </th><th>s_li                </th><th>q_flag  </th><th>s_fg  </th><th>snr  </th><th>h_rb               </th><th>bsnow_conf  </th><th>cloud_flg_asr  </th><th>cloud_flg_atm  </th><th>msw_flag  </th><th>fbsnow_h           </th><th>bsnow_od            </th><th>layer_flag  </th><th>bckgrd            </th><th>e_bckgrd  </th><th>n_fit_photons  </th><th>w_surface_window_final  </th><th>t_year                    </th><th>cycle  </th><th>track  </th><th>x                 </th><th>y                  </th></tr>\n",
       "</thead>\n",
       "<tbody>\n",
       "<tr><td><i style='opacity: 0.6'>0</i>          </td><td>1443587</td><td>-79.00604150693235</td><td>176.34489505559952 </td><td>0.0034970236010849476</td><td>0.045052722096443176  </td><td>0.0008298112079501152</td><td>-19.586994171142578</td><td>0.012193245813250542</td><td>0       </td><td>0     </td><td>0.0  </td><td>0.1700313538312912 </td><td>-1          </td><td>2              </td><td>1              </td><td>3         </td><td>29.979246139526367 </td><td>0.26861944794654846 </td><td>1           </td><td>28285.419921875   </td><td>0.0       </td><td>522            </td><td>3.0                     </td><td>2019-03-29 07:13:52.971019</td><td>3      </td><td>gt1l   </td><td>76147.62450344954 </td><td>-1192036.1950727522</td></tr>\n",
       "<tr><td><i style='opacity: 0.6'>1</i>          </td><td>1443588</td><td>-79.00621643747844</td><td>176.34471657932238 </td><td>0.004264393355697393 </td><td>0.05056241527199745   </td><td>0.0008830373408272862</td><td>-18.607820510864258</td><td>0.012879230082035065</td><td>0       </td><td>0     </td><td>0.0  </td><td>0.18802492320537567</td><td>-1          </td><td>2              </td><td>1              </td><td>3         </td><td>29.979246139526367 </td><td>0.2682749032974243  </td><td>1           </td><td>25933.798828125   </td><td>0.0       </td><td>541            </td><td>3.0                     </td><td>2019-03-29 07:13:52.973831</td><td>3      </td><td>gt1l   </td><td>76150.11884253839 </td><td>-1192016.878556122 </td></tr>\n",
       "<tr><td><i style='opacity: 0.6'>2</i>          </td><td>1443604</td><td>-79.00598340764218</td><td>-128.34968452426844</td><td>0.0011884707491844893</td><td>-0.008782525546848774 </td><td>0.0012873366940766573</td><td>1393.30810546875   </td><td>0.022358529269695282</td><td>0       </td><td>0     </td><td>0.0  </td><td>0.16403409838676453</td><td>-1          </td><td>4              </td><td>1              </td><td>2         </td><td>-15.545355796813965</td><td>0.025605319067835808</td><td>1           </td><td>29848.724609375   </td><td>0.0       </td><td>134            </td><td>3.0                     </td><td>2019-06-16 23:44:16.580875</td><td>3      </td><td>gt1l   </td><td>-936751.2677578111</td><td>-741121.435694096  </td></tr>\n",
       "<tr><td><i style='opacity: 0.6'>3</i>          </td><td>1443605</td><td>-79.0061584310981 </td><td>-128.34986074738637</td><td>0.0014111476484686136</td><td>-0.0077179535292088985</td><td>0.0013354523107409477</td><td>1393.1937255859375 </td><td>0.02100951410830021 </td><td>0       </td><td>0     </td><td>0.0  </td><td>0.17921173572540283</td><td>-1          </td><td>4              </td><td>1              </td><td>2         </td><td>-13.435805320739746</td><td>0.025563444942235947</td><td>1           </td><td>32934.61328125    </td><td>0.0       </td><td>141            </td><td>3.0                     </td><td>2019-06-16 23:44:16.583689</td><td>3      </td><td>gt1l   </td><td>-936733.9871437278</td><td>-741112.4484165515 </td></tr>\n",
       "<tr><td><i style='opacity: 0.6'>4</i>          </td><td>1443606</td><td>-79.00633341593905</td><td>-128.35003802228633</td><td>0.0012659610947594047</td><td>-0.0070463260635733604</td><td>0.0011699371971189976</td><td>1393.045166015625  </td><td>0.027471376582980156</td><td>0       </td><td>0     </td><td>0.0  </td><td>0.17215631902217865</td><td>-1          </td><td>4              </td><td>1              </td><td>2         </td><td>-11.32924747467041 </td><td>0.02552163042128086 </td><td>1           </td><td>35919.10546875    </td><td>0.0       </td><td>148            </td><td>3.0                     </td><td>2019-06-16 23:44:16.586500</td><td>3      </td><td>gt1l   </td><td>-936716.6963032028</td><td>-741103.4808569406 </td></tr>\n",
       "<tr><td>...                                    </td><td>...    </td><td>...               </td><td>...                </td><td>...                  </td><td>...                   </td><td>...                  </td><td>...                </td><td>...                 </td><td>...     </td><td>...   </td><td>...  </td><td>...                </td><td>...         </td><td>...            </td><td>...            </td><td>...       </td><td>...                </td><td>...                 </td><td>...         </td><td>...               </td><td>...       </td><td>...            </td><td>...                     </td><td>...                       </td><td>...    </td><td>...    </td><td>...               </td><td>...                </td></tr>\n",
       "<tr><td><i style='opacity: 0.6'>865,273,099</i></td><td>1565333</td><td>-78.99504226798936</td><td>158.03591094289823 </td><td>0.007495594210922718 </td><td>0.0078804399818182    </td><td>0.002683431375771761 </td><td>1279.90234375      </td><td>0.05482017993927002 </td><td>0       </td><td>0     </td><td>0.0  </td><td>0.15907801687717438</td><td>-1          </td><td>5              </td><td>1              </td><td>1         </td><td>29.979246139526367 </td><td>0.02713683247566223 </td><td>1           </td><td>2268.45654296875  </td><td>0.0       </td><td>21             </td><td>3.0                     </td><td>2019-06-23 17:41:49.183559</td><td>3      </td><td>gt3r   </td><td>447210.19721519714</td><td>-1108884.5834480259</td></tr>\n",
       "<tr><td><i style='opacity: 0.6'>865,273,100</i></td><td>1565334</td><td>-78.99486756514892</td><td>158.03572581694618 </td><td>0.006783090066164732 </td><td>0.012846322730183601  </td><td>0.0031797189731150866</td><td>1280.02392578125   </td><td>0.05916494503617287 </td><td>0       </td><td>0     </td><td>0.0  </td><td>0.13116207718849182</td><td>-1          </td><td>5              </td><td>1              </td><td>1         </td><td>29.979246139526367 </td><td>0.02713673934340477 </td><td>1           </td><td>1946.7774658203125</td><td>0.0       </td><td>21             </td><td>3.0                     </td><td>2019-06-23 17:41:49.186370</td><td>3      </td><td>gt3r   </td><td>447220.92165426933</td><td>-1108900.846272008 </td></tr>\n",
       "<tr><td><i style='opacity: 0.6'>865,273,101</i></td><td>1565335</td><td>-78.99469283993268</td><td>158.03554127839766 </td><td>0.007498532999306917 </td><td>-0.0022711576893925667</td><td>0.0016771184746176004</td><td>1279.994873046875  </td><td>0.026095101609826088</td><td>0       </td><td>0     </td><td>0.0  </td><td>0.0632103830575943 </td><td>-1          </td><td>5              </td><td>1              </td><td>1         </td><td>29.979246139526367 </td><td>0.02713664434850216 </td><td>1           </td><td>1209.9652099609375</td><td>0.0       </td><td>24             </td><td>3.0                     </td><td>2019-06-23 17:41:49.189189</td><td>3      </td><td>gt3r   </td><td>447231.6357510542 </td><td>-1108917.115896332 </td></tr>\n",
       "<tr><td><i style='opacity: 0.6'>865,273,102</i></td><td>1565336</td><td>-78.99451809314117</td><td>158.03535733441748 </td><td>0.008078711107373238 </td><td>9.721379319671541e-05 </td><td>0.0028819788713008165</td><td>1279.9814453125    </td><td>0.05285322666168213 </td><td>0       </td><td>0     </td><td>0.0  </td><td>0.14162179827690125</td><td>-1          </td><td>5              </td><td>1              </td><td>1         </td><td>29.979246139526367 </td><td>0.02713654935359955 </td><td>1           </td><td>177.30709838867188</td><td>0.0       </td><td>21             </td><td>3.0                     </td><td>2019-06-23 17:41:49.192016</td><td>3      </td><td>gt3r   </td><td>447242.3393336775 </td><td>-1108933.3922961077</td></tr>\n",
       "<tr><td><i style='opacity: 0.6'>865,273,103</i></td><td>1565337</td><td>-78.99434332581431</td><td>158.0351739227819  </td><td>0.007572057191282511 </td><td>0.0048851147294044495 </td><td>0.003790514310821891 </td><td>1280.065673828125  </td><td>0.1621844470500946  </td><td>0       </td><td>0     </td><td>0.0  </td><td>0.16623833775520325</td><td>-1          </td><td>5              </td><td>1              </td><td>1         </td><td>29.979246139526367 </td><td>0.027136454358696938</td><td>1           </td><td>-601.5515747070312</td><td>0.0       </td><td>12             </td><td>3.0                     </td><td>2019-06-23 17:41:49.194850</td><td>3      </td><td>gt3r   </td><td>447253.033563472  </td><td>-1108949.6748805325</td></tr>\n",
       "</tbody>\n",
       "</table>"
      ],
      "text/plain": [
       "#            id       lat                 lon                  slope_y                slope_x                 slope_x_sigma          h_li                 s_li                  q_flag    s_fg    snr    h_rb                 bsnow_conf    cloud_flg_asr    cloud_flg_atm    msw_flag    fbsnow_h             bsnow_od              layer_flag    bckgrd              e_bckgrd    n_fit_photons    w_surface_window_final    t_year                      cycle    track    x                   y\n",
       "0            1443587  -79.00604150693235  176.34489505559952   0.0034970236010849476  0.045052722096443176    0.0008298112079501152  -19.586994171142578  0.012193245813250542  0         0       0.0    0.1700313538312912   -1            2                1                3           29.979246139526367   0.26861944794654846   1             28285.419921875     0.0         522              3.0                       2019-03-29 07:13:52.971019  3        gt1l     76147.62450344954   -1192036.1950727522\n",
       "1            1443588  -79.00621643747844  176.34471657932238   0.004264393355697393   0.05056241527199745     0.0008830373408272862  -18.607820510864258  0.012879230082035065  0         0       0.0    0.18802492320537567  -1            2                1                3           29.979246139526367   0.2682749032974243    1             25933.798828125     0.0         541              3.0                       2019-03-29 07:13:52.973831  3        gt1l     76150.11884253839   -1192016.878556122\n",
       "2            1443604  -79.00598340764218  -128.34968452426844  0.0011884707491844893  -0.008782525546848774   0.0012873366940766573  1393.30810546875     0.022358529269695282  0         0       0.0    0.16403409838676453  -1            4                1                2           -15.545355796813965  0.025605319067835808  1             29848.724609375     0.0         134              3.0                       2019-06-16 23:44:16.580875  3        gt1l     -936751.2677578111  -741121.435694096\n",
       "3            1443605  -79.0061584310981   -128.34986074738637  0.0014111476484686136  -0.0077179535292088985  0.0013354523107409477  1393.1937255859375   0.02100951410830021   0         0       0.0    0.17921173572540283  -1            4                1                2           -13.435805320739746  0.025563444942235947  1             32934.61328125      0.0         141              3.0                       2019-06-16 23:44:16.583689  3        gt1l     -936733.9871437278  -741112.4484165515\n",
       "4            1443606  -79.00633341593905  -128.35003802228633  0.0012659610947594047  -0.0070463260635733604  0.0011699371971189976  1393.045166015625    0.027471376582980156  0         0       0.0    0.17215631902217865  -1            4                1                2           -11.32924747467041   0.02552163042128086   1             35919.10546875      0.0         148              3.0                       2019-06-16 23:44:16.586500  3        gt1l     -936716.6963032028  -741103.4808569406\n",
       "...          ...      ...                 ...                  ...                    ...                     ...                    ...                  ...                   ...       ...     ...    ...                  ...           ...              ...              ...         ...                  ...                   ...           ...                 ...         ...              ...                       ...                         ...      ...      ...                 ...\n",
       "865,273,099  1565333  -78.99504226798936  158.03591094289823   0.007495594210922718   0.0078804399818182      0.002683431375771761   1279.90234375        0.05482017993927002   0         0       0.0    0.15907801687717438  -1            5                1                1           29.979246139526367   0.02713683247566223   1             2268.45654296875    0.0         21               3.0                       2019-06-23 17:41:49.183559  3        gt3r     447210.19721519714  -1108884.5834480259\n",
       "865,273,100  1565334  -78.99486756514892  158.03572581694618   0.006783090066164732   0.012846322730183601    0.0031797189731150866  1280.02392578125     0.05916494503617287   0         0       0.0    0.13116207718849182  -1            5                1                1           29.979246139526367   0.02713673934340477   1             1946.7774658203125  0.0         21               3.0                       2019-06-23 17:41:49.186370  3        gt3r     447220.92165426933  -1108900.846272008\n",
       "865,273,101  1565335  -78.99469283993268  158.03554127839766   0.007498532999306917   -0.0022711576893925667  0.0016771184746176004  1279.994873046875    0.026095101609826088  0         0       0.0    0.0632103830575943   -1            5                1                1           29.979246139526367   0.02713664434850216   1             1209.9652099609375  0.0         24               3.0                       2019-06-23 17:41:49.189189  3        gt3r     447231.6357510542   -1108917.115896332\n",
       "865,273,102  1565336  -78.99451809314117  158.03535733441748   0.008078711107373238   9.721379319671541e-05   0.0028819788713008165  1279.9814453125      0.05285322666168213   0         0       0.0    0.14162179827690125  -1            5                1                1           29.979246139526367   0.02713654935359955   1             177.30709838867188  0.0         21               3.0                       2019-06-23 17:41:49.192016  3        gt3r     447242.3393336775   -1108933.3922961077\n",
       "865,273,103  1565337  -78.99434332581431  158.0351739227819    0.007572057191282511   0.0048851147294044495   0.003790514310821891   1280.065673828125    0.1621844470500946    0         0       0.0    0.16623833775520325  -1            5                1                1           29.979246139526367   0.027136454358696938  1             -601.5515747070312  0.0         12               3.0                       2019-06-23 17:41:49.194850  3        gt3r     447253.033563472    -1108949.6748805325"
      ]
     },
     "execution_count": 3,
     "metadata": {},
     "output_type": "execute_result"
    }
   ],
   "source": [
    "df"
   ]
  },
  {
   "cell_type": "code",
   "execution_count": 4,
   "id": "cd010e25-bdf1-4f6d-8671-ba63df0c13b1",
   "metadata": {},
   "outputs": [
    {
     "name": "stdout",
     "output_type": "stream",
     "text": [
      "91G\t./atl06_03_11.arrow\n",
      "91G\ttotal\n"
     ]
    }
   ],
   "source": [
    "!du -csh ./atl06_03_11.arrow"
   ]
  },
  {
   "cell_type": "markdown",
   "id": "d0fecf85-a087-436a-a371-33229b04be11",
   "metadata": {},
   "source": [
    "As we can see, this 91-day orbit includes 865,273,103 observations, packed in a file that is 91 gigabytes large. We can plot data with some simple resampling to polar sterographic south bins, which are already encoded as the x and y columns in the vaex array"
   ]
  },
  {
   "cell_type": "code",
   "execution_count": 5,
   "id": "aa4427e5-af2e-4a00-acef-cafb7efbcc75",
   "metadata": {},
   "outputs": [
    {
     "data": {
      "text/plain": [
       "Axis(bin_centers=None, exception=None, expression=y, max=None, min=None, shape=1000, shape_default=64, slice=None, status=Status.NO_LIMITS)"
      ]
     },
     "execution_count": 5,
     "metadata": {},
     "output_type": "execute_result"
    }
   ],
   "source": [
    "x_axis = vjm.Axis(df=df, expression=df.x, shape=1000)\n",
    "y_axis = vjm.Axis(df=df, expression=df.y, shape=1000)\n",
    "y_axis"
   ]
  },
  {
   "cell_type": "code",
   "execution_count": 6,
   "id": "b1d149b2-4d56-483c-9edd-1793324f3f85",
   "metadata": {},
   "outputs": [],
   "source": [
    "await vaex.jupyter.gather()  # wait until Vaex is done with all background computation"
   ]
  },
  {
   "cell_type": "code",
   "execution_count": 7,
   "id": "dbc16b5f-bfa4-41d5-98c9-a97e7d2797c9",
   "metadata": {},
   "outputs": [
    {
     "data": {
      "application/vnd.jupyter.widget-view+json": {
       "model_id": "a4ef3133730245ac9abfabce756238cf",
       "version_major": 2,
       "version_minor": 0
      },
      "text/plain": [
       "DataArray(children=[Container(children=[ProgressCircularNoAnimation(color='#9ECBF5', size=30, text='', value=1…"
      ]
     },
     "metadata": {},
     "output_type": "display_data"
    }
   ],
   "source": [
    "data_array_widget = df.widget.data_array(axes=[y_axis, x_axis], selection=[None, 'default'])\n",
    "data_array_widget  # being the last expression in the cell, Jupyter  will 'display' the widget"
   ]
  },
  {
   "cell_type": "code",
   "execution_count": 8,
   "id": "b76ddd0f-9d18-454b-ae08-f580c09989cb",
   "metadata": {},
   "outputs": [],
   "source": [
    "await vaex.jupyter.gather()\n",
    "# get a reference to the xarray DataArray object\n",
    "data_array = data_array_widget.model.grid"
   ]
  },
  {
   "cell_type": "code",
   "execution_count": 9,
   "id": "6f88fc76-a0e0-4b28-8e4f-331e7cf0c4a6",
   "metadata": {},
   "outputs": [
    {
     "data": {
      "text/html": [
       "<div><svg style=\"position: absolute; width: 0; height: 0; overflow: hidden\">\n",
       "<defs>\n",
       "<symbol id=\"icon-database\" viewBox=\"0 0 32 32\">\n",
       "<path d=\"M16 0c-8.837 0-16 2.239-16 5v4c0 2.761 7.163 5 16 5s16-2.239 16-5v-4c0-2.761-7.163-5-16-5z\"></path>\n",
       "<path d=\"M16 17c-8.837 0-16-2.239-16-5v6c0 2.761 7.163 5 16 5s16-2.239 16-5v-6c0 2.761-7.163 5-16 5z\"></path>\n",
       "<path d=\"M16 26c-8.837 0-16-2.239-16-5v6c0 2.761 7.163 5 16 5s16-2.239 16-5v-6c0 2.761-7.163 5-16 5z\"></path>\n",
       "</symbol>\n",
       "<symbol id=\"icon-file-text2\" viewBox=\"0 0 32 32\">\n",
       "<path d=\"M28.681 7.159c-0.694-0.947-1.662-2.053-2.724-3.116s-2.169-2.030-3.116-2.724c-1.612-1.182-2.393-1.319-2.841-1.319h-15.5c-1.378 0-2.5 1.121-2.5 2.5v27c0 1.378 1.122 2.5 2.5 2.5h23c1.378 0 2.5-1.122 2.5-2.5v-19.5c0-0.448-0.137-1.23-1.319-2.841zM24.543 5.457c0.959 0.959 1.712 1.825 2.268 2.543h-4.811v-4.811c0.718 0.556 1.584 1.309 2.543 2.268zM28 29.5c0 0.271-0.229 0.5-0.5 0.5h-23c-0.271 0-0.5-0.229-0.5-0.5v-27c0-0.271 0.229-0.5 0.5-0.5 0 0 15.499-0 15.5 0v7c0 0.552 0.448 1 1 1h7v19.5z\"></path>\n",
       "<path d=\"M23 26h-14c-0.552 0-1-0.448-1-1s0.448-1 1-1h14c0.552 0 1 0.448 1 1s-0.448 1-1 1z\"></path>\n",
       "<path d=\"M23 22h-14c-0.552 0-1-0.448-1-1s0.448-1 1-1h14c0.552 0 1 0.448 1 1s-0.448 1-1 1z\"></path>\n",
       "<path d=\"M23 18h-14c-0.552 0-1-0.448-1-1s0.448-1 1-1h14c0.552 0 1 0.448 1 1s-0.448 1-1 1z\"></path>\n",
       "</symbol>\n",
       "</defs>\n",
       "</svg>\n",
       "<style>/* CSS stylesheet for displaying xarray objects in jupyterlab.\n",
       " *\n",
       " */\n",
       "\n",
       ":root {\n",
       "  --xr-font-color0: var(--jp-content-font-color0, rgba(0, 0, 0, 1));\n",
       "  --xr-font-color2: var(--jp-content-font-color2, rgba(0, 0, 0, 0.54));\n",
       "  --xr-font-color3: var(--jp-content-font-color3, rgba(0, 0, 0, 0.38));\n",
       "  --xr-border-color: var(--jp-border-color2, #e0e0e0);\n",
       "  --xr-disabled-color: var(--jp-layout-color3, #bdbdbd);\n",
       "  --xr-background-color: var(--jp-layout-color0, white);\n",
       "  --xr-background-color-row-even: var(--jp-layout-color1, white);\n",
       "  --xr-background-color-row-odd: var(--jp-layout-color2, #eeeeee);\n",
       "}\n",
       "\n",
       "html[theme=dark],\n",
       "body.vscode-dark {\n",
       "  --xr-font-color0: rgba(255, 255, 255, 1);\n",
       "  --xr-font-color2: rgba(255, 255, 255, 0.54);\n",
       "  --xr-font-color3: rgba(255, 255, 255, 0.38);\n",
       "  --xr-border-color: #1F1F1F;\n",
       "  --xr-disabled-color: #515151;\n",
       "  --xr-background-color: #111111;\n",
       "  --xr-background-color-row-even: #111111;\n",
       "  --xr-background-color-row-odd: #313131;\n",
       "}\n",
       "\n",
       ".xr-wrap {\n",
       "  display: block;\n",
       "  min-width: 300px;\n",
       "  max-width: 700px;\n",
       "}\n",
       "\n",
       ".xr-text-repr-fallback {\n",
       "  /* fallback to plain text repr when CSS is not injected (untrusted notebook) */\n",
       "  display: none;\n",
       "}\n",
       "\n",
       ".xr-header {\n",
       "  padding-top: 6px;\n",
       "  padding-bottom: 6px;\n",
       "  margin-bottom: 4px;\n",
       "  border-bottom: solid 1px var(--xr-border-color);\n",
       "}\n",
       "\n",
       ".xr-header > div,\n",
       ".xr-header > ul {\n",
       "  display: inline;\n",
       "  margin-top: 0;\n",
       "  margin-bottom: 0;\n",
       "}\n",
       "\n",
       ".xr-obj-type,\n",
       ".xr-array-name {\n",
       "  margin-left: 2px;\n",
       "  margin-right: 10px;\n",
       "}\n",
       "\n",
       ".xr-obj-type {\n",
       "  color: var(--xr-font-color2);\n",
       "}\n",
       "\n",
       ".xr-sections {\n",
       "  padding-left: 0 !important;\n",
       "  display: grid;\n",
       "  grid-template-columns: 150px auto auto 1fr 20px 20px;\n",
       "}\n",
       "\n",
       ".xr-section-item {\n",
       "  display: contents;\n",
       "}\n",
       "\n",
       ".xr-section-item input {\n",
       "  display: none;\n",
       "}\n",
       "\n",
       ".xr-section-item input + label {\n",
       "  color: var(--xr-disabled-color);\n",
       "}\n",
       "\n",
       ".xr-section-item input:enabled + label {\n",
       "  cursor: pointer;\n",
       "  color: var(--xr-font-color2);\n",
       "}\n",
       "\n",
       ".xr-section-item input:enabled + label:hover {\n",
       "  color: var(--xr-font-color0);\n",
       "}\n",
       "\n",
       ".xr-section-summary {\n",
       "  grid-column: 1;\n",
       "  color: var(--xr-font-color2);\n",
       "  font-weight: 500;\n",
       "}\n",
       "\n",
       ".xr-section-summary > span {\n",
       "  display: inline-block;\n",
       "  padding-left: 0.5em;\n",
       "}\n",
       "\n",
       ".xr-section-summary-in:disabled + label {\n",
       "  color: var(--xr-font-color2);\n",
       "}\n",
       "\n",
       ".xr-section-summary-in + label:before {\n",
       "  display: inline-block;\n",
       "  content: '►';\n",
       "  font-size: 11px;\n",
       "  width: 15px;\n",
       "  text-align: center;\n",
       "}\n",
       "\n",
       ".xr-section-summary-in:disabled + label:before {\n",
       "  color: var(--xr-disabled-color);\n",
       "}\n",
       "\n",
       ".xr-section-summary-in:checked + label:before {\n",
       "  content: '▼';\n",
       "}\n",
       "\n",
       ".xr-section-summary-in:checked + label > span {\n",
       "  display: none;\n",
       "}\n",
       "\n",
       ".xr-section-summary,\n",
       ".xr-section-inline-details {\n",
       "  padding-top: 4px;\n",
       "  padding-bottom: 4px;\n",
       "}\n",
       "\n",
       ".xr-section-inline-details {\n",
       "  grid-column: 2 / -1;\n",
       "}\n",
       "\n",
       ".xr-section-details {\n",
       "  display: none;\n",
       "  grid-column: 1 / -1;\n",
       "  margin-bottom: 5px;\n",
       "}\n",
       "\n",
       ".xr-section-summary-in:checked ~ .xr-section-details {\n",
       "  display: contents;\n",
       "}\n",
       "\n",
       ".xr-array-wrap {\n",
       "  grid-column: 1 / -1;\n",
       "  display: grid;\n",
       "  grid-template-columns: 20px auto;\n",
       "}\n",
       "\n",
       ".xr-array-wrap > label {\n",
       "  grid-column: 1;\n",
       "  vertical-align: top;\n",
       "}\n",
       "\n",
       ".xr-preview {\n",
       "  color: var(--xr-font-color3);\n",
       "}\n",
       "\n",
       ".xr-array-preview,\n",
       ".xr-array-data {\n",
       "  padding: 0 5px !important;\n",
       "  grid-column: 2;\n",
       "}\n",
       "\n",
       ".xr-array-data,\n",
       ".xr-array-in:checked ~ .xr-array-preview {\n",
       "  display: none;\n",
       "}\n",
       "\n",
       ".xr-array-in:checked ~ .xr-array-data,\n",
       ".xr-array-preview {\n",
       "  display: inline-block;\n",
       "}\n",
       "\n",
       ".xr-dim-list {\n",
       "  display: inline-block !important;\n",
       "  list-style: none;\n",
       "  padding: 0 !important;\n",
       "  margin: 0;\n",
       "}\n",
       "\n",
       ".xr-dim-list li {\n",
       "  display: inline-block;\n",
       "  padding: 0;\n",
       "  margin: 0;\n",
       "}\n",
       "\n",
       ".xr-dim-list:before {\n",
       "  content: '(';\n",
       "}\n",
       "\n",
       ".xr-dim-list:after {\n",
       "  content: ')';\n",
       "}\n",
       "\n",
       ".xr-dim-list li:not(:last-child):after {\n",
       "  content: ',';\n",
       "  padding-right: 5px;\n",
       "}\n",
       "\n",
       ".xr-has-index {\n",
       "  font-weight: bold;\n",
       "}\n",
       "\n",
       ".xr-var-list,\n",
       ".xr-var-item {\n",
       "  display: contents;\n",
       "}\n",
       "\n",
       ".xr-var-item > div,\n",
       ".xr-var-item label,\n",
       ".xr-var-item > .xr-var-name span {\n",
       "  background-color: var(--xr-background-color-row-even);\n",
       "  margin-bottom: 0;\n",
       "}\n",
       "\n",
       ".xr-var-item > .xr-var-name:hover span {\n",
       "  padding-right: 5px;\n",
       "}\n",
       "\n",
       ".xr-var-list > li:nth-child(odd) > div,\n",
       ".xr-var-list > li:nth-child(odd) > label,\n",
       ".xr-var-list > li:nth-child(odd) > .xr-var-name span {\n",
       "  background-color: var(--xr-background-color-row-odd);\n",
       "}\n",
       "\n",
       ".xr-var-name {\n",
       "  grid-column: 1;\n",
       "}\n",
       "\n",
       ".xr-var-dims {\n",
       "  grid-column: 2;\n",
       "}\n",
       "\n",
       ".xr-var-dtype {\n",
       "  grid-column: 3;\n",
       "  text-align: right;\n",
       "  color: var(--xr-font-color2);\n",
       "}\n",
       "\n",
       ".xr-var-preview {\n",
       "  grid-column: 4;\n",
       "}\n",
       "\n",
       ".xr-var-name,\n",
       ".xr-var-dims,\n",
       ".xr-var-dtype,\n",
       ".xr-preview,\n",
       ".xr-attrs dt {\n",
       "  white-space: nowrap;\n",
       "  overflow: hidden;\n",
       "  text-overflow: ellipsis;\n",
       "  padding-right: 10px;\n",
       "}\n",
       "\n",
       ".xr-var-name:hover,\n",
       ".xr-var-dims:hover,\n",
       ".xr-var-dtype:hover,\n",
       ".xr-attrs dt:hover {\n",
       "  overflow: visible;\n",
       "  width: auto;\n",
       "  z-index: 1;\n",
       "}\n",
       "\n",
       ".xr-var-attrs,\n",
       ".xr-var-data {\n",
       "  display: none;\n",
       "  background-color: var(--xr-background-color) !important;\n",
       "  padding-bottom: 5px !important;\n",
       "}\n",
       "\n",
       ".xr-var-attrs-in:checked ~ .xr-var-attrs,\n",
       ".xr-var-data-in:checked ~ .xr-var-data {\n",
       "  display: block;\n",
       "}\n",
       "\n",
       ".xr-var-data > table {\n",
       "  float: right;\n",
       "}\n",
       "\n",
       ".xr-var-name span,\n",
       ".xr-var-data,\n",
       ".xr-attrs {\n",
       "  padding-left: 25px !important;\n",
       "}\n",
       "\n",
       ".xr-attrs,\n",
       ".xr-var-attrs,\n",
       ".xr-var-data {\n",
       "  grid-column: 1 / -1;\n",
       "}\n",
       "\n",
       "dl.xr-attrs {\n",
       "  padding: 0;\n",
       "  margin: 0;\n",
       "  display: grid;\n",
       "  grid-template-columns: 125px auto;\n",
       "}\n",
       "\n",
       ".xr-attrs dt,\n",
       ".xr-attrs dd {\n",
       "  padding: 0;\n",
       "  margin: 0;\n",
       "  float: left;\n",
       "  padding-right: 10px;\n",
       "  width: auto;\n",
       "}\n",
       "\n",
       ".xr-attrs dt {\n",
       "  font-weight: normal;\n",
       "  grid-column: 1;\n",
       "}\n",
       "\n",
       ".xr-attrs dt:hover span {\n",
       "  display: inline-block;\n",
       "  background: var(--xr-background-color);\n",
       "  padding-right: 10px;\n",
       "}\n",
       "\n",
       ".xr-attrs dd {\n",
       "  grid-column: 2;\n",
       "  white-space: pre-wrap;\n",
       "  word-break: break-all;\n",
       "}\n",
       "\n",
       ".xr-icon-database,\n",
       ".xr-icon-file-text2 {\n",
       "  display: inline-block;\n",
       "  vertical-align: middle;\n",
       "  width: 1em;\n",
       "  height: 1.5em !important;\n",
       "  stroke-width: 0;\n",
       "  stroke: currentColor;\n",
       "  fill: currentColor;\n",
       "}\n",
       "</style><pre class='xr-text-repr-fallback'>&lt;xarray.DataArray (selection: 1, y: 1000, x: 1000)&gt;\n",
       "array([[[0, 0, 0, ..., 0, 0, 0],\n",
       "        [0, 0, 0, ..., 0, 0, 0],\n",
       "        [0, 0, 0, ..., 0, 0, 0],\n",
       "        ...,\n",
       "        [0, 0, 0, ..., 0, 0, 0],\n",
       "        [0, 0, 0, ..., 0, 0, 0],\n",
       "        [0, 0, 0, ..., 0, 0, 0]]])\n",
       "Coordinates:\n",
       "  * selection  (selection) object None\n",
       "  * y          (y) float64 -1.195e+06 -1.192e+06 -1.19e+06 ... 1.2e+06 1.203e+06\n",
       "  * x          (x) float64 -1.195e+06 -1.192e+06 ... 1.192e+06 1.195e+06</pre><div class='xr-wrap' hidden><div class='xr-header'><div class='xr-obj-type'>xarray.DataArray</div><div class='xr-array-name'></div><ul class='xr-dim-list'><li><span class='xr-has-index'>selection</span>: 1</li><li><span class='xr-has-index'>y</span>: 1000</li><li><span class='xr-has-index'>x</span>: 1000</li></ul></div><ul class='xr-sections'><li class='xr-section-item'><div class='xr-array-wrap'><input id='section-67aef688-c94c-46e6-b4a9-c69dfc51832a' class='xr-array-in' type='checkbox' checked><label for='section-67aef688-c94c-46e6-b4a9-c69dfc51832a' title='Show/hide data repr'><svg class='icon xr-icon-database'><use xlink:href='#icon-database'></use></svg></label><div class='xr-array-preview xr-preview'><span>0 0 0 0 0 0 0 0 0 0 0 0 0 0 0 0 0 ... 0 0 0 0 0 0 0 0 0 0 0 0 0 0 0 0</span></div><div class='xr-array-data'><pre>array([[[0, 0, 0, ..., 0, 0, 0],\n",
       "        [0, 0, 0, ..., 0, 0, 0],\n",
       "        [0, 0, 0, ..., 0, 0, 0],\n",
       "        ...,\n",
       "        [0, 0, 0, ..., 0, 0, 0],\n",
       "        [0, 0, 0, ..., 0, 0, 0],\n",
       "        [0, 0, 0, ..., 0, 0, 0]]])</pre></div></div></li><li class='xr-section-item'><input id='section-2c10d8d7-7b87-4f5a-91a6-d5244778f327' class='xr-section-summary-in' type='checkbox'  checked><label for='section-2c10d8d7-7b87-4f5a-91a6-d5244778f327' class='xr-section-summary' >Coordinates: <span>(3)</span></label><div class='xr-section-inline-details'></div><div class='xr-section-details'><ul class='xr-var-list'><li class='xr-var-item'><div class='xr-var-name'><span class='xr-has-index'>selection</span></div><div class='xr-var-dims'>(selection)</div><div class='xr-var-dtype'>object</div><div class='xr-var-preview xr-preview'>None</div><input id='attrs-ad21162f-c349-46ce-b7b3-cdc4bda8fcbc' class='xr-var-attrs-in' type='checkbox' disabled><label for='attrs-ad21162f-c349-46ce-b7b3-cdc4bda8fcbc' title='Show/Hide attributes'><svg class='icon xr-icon-file-text2'><use xlink:href='#icon-file-text2'></use></svg></label><input id='data-5337510f-3d92-47ca-a39b-1e9ad7bbf5a8' class='xr-var-data-in' type='checkbox'><label for='data-5337510f-3d92-47ca-a39b-1e9ad7bbf5a8' title='Show/Hide data repr'><svg class='icon xr-icon-database'><use xlink:href='#icon-database'></use></svg></label><div class='xr-var-attrs'><dl class='xr-attrs'></dl></div><div class='xr-var-data'><pre>array([None], dtype=object)</pre></div></li><li class='xr-var-item'><div class='xr-var-name'><span class='xr-has-index'>y</span></div><div class='xr-var-dims'>(y)</div><div class='xr-var-dtype'>float64</div><div class='xr-var-preview xr-preview'>-1.195e+06 -1.192e+06 ... 1.203e+06</div><input id='attrs-cedecefa-5b24-4fc1-83b5-f25f67f058fc' class='xr-var-attrs-in' type='checkbox' ><label for='attrs-cedecefa-5b24-4fc1-83b5-f25f67f058fc' title='Show/Hide attributes'><svg class='icon xr-icon-file-text2'><use xlink:href='#icon-file-text2'></use></svg></label><input id='data-234bce4a-7e68-4c7e-a3e7-184eede9c079' class='xr-var-data-in' type='checkbox'><label for='data-234bce4a-7e68-4c7e-a3e7-184eede9c079' title='Show/Hide data repr'><svg class='icon xr-icon-database'><use xlink:href='#icon-database'></use></svg></label><div class='xr-var-attrs'><dl class='xr-attrs'><dt><span>min :</span></dt><dd>-1195770.2825776115</dd><dt><span>max :</span></dt><dd>1204072.5327895794</dd></dl></div><div class='xr-var-data'><pre>array([-1194570.36117 , -1192170.518355, -1189770.675539, ...,  1198072.925751,\n",
       "        1200472.768567,  1202872.611382])</pre></div></li><li class='xr-var-item'><div class='xr-var-name'><span class='xr-has-index'>x</span></div><div class='xr-var-dims'>(x)</div><div class='xr-var-dtype'>float64</div><div class='xr-var-preview xr-preview'>-1.195e+06 -1.192e+06 ... 1.195e+06</div><input id='attrs-5c452341-883e-42d2-9ed1-1aea48b916ed' class='xr-var-attrs-in' type='checkbox' ><label for='attrs-5c452341-883e-42d2-9ed1-1aea48b916ed' title='Show/Hide attributes'><svg class='icon xr-icon-file-text2'><use xlink:href='#icon-file-text2'></use></svg></label><input id='data-596834f7-378e-4c24-8cab-c747752f64d3' class='xr-var-data-in' type='checkbox'><label for='data-596834f7-378e-4c24-8cab-c747752f64d3' title='Show/Hide data repr'><svg class='icon xr-icon-database'><use xlink:href='#icon-database'></use></svg></label><div class='xr-var-attrs'><dl class='xr-attrs'><dt><span>min :</span></dt><dd>-1195768.2962848481</dd><dt><span>max :</span></dt><dd>1195771.2950424207</dd></dl></div><div class='xr-var-data'><pre>array([-1194572.526489, -1192180.986898, -1189789.447307, ...,  1189792.446064,\n",
       "        1192183.985655,  1194575.525247])</pre></div></li></ul></div></li><li class='xr-section-item'><input id='section-9c87597f-256d-465e-ae99-93641c2c8cbb' class='xr-section-summary-in' type='checkbox' disabled ><label for='section-9c87597f-256d-465e-ae99-93641c2c8cbb' class='xr-section-summary'  title='Expand/collapse section'>Attributes: <span>(0)</span></label><div class='xr-section-inline-details'></div><div class='xr-section-details'><dl class='xr-attrs'></dl></div></li></ul></div></div>"
      ],
      "text/plain": [
       "<xarray.DataArray (selection: 1, y: 1000, x: 1000)>\n",
       "array([[[0, 0, 0, ..., 0, 0, 0],\n",
       "        [0, 0, 0, ..., 0, 0, 0],\n",
       "        [0, 0, 0, ..., 0, 0, 0],\n",
       "        ...,\n",
       "        [0, 0, 0, ..., 0, 0, 0],\n",
       "        [0, 0, 0, ..., 0, 0, 0],\n",
       "        [0, 0, 0, ..., 0, 0, 0]]])\n",
       "Coordinates:\n",
       "  * selection  (selection) object None\n",
       "  * y          (y) float64 -1.195e+06 -1.192e+06 -1.19e+06 ... 1.2e+06 1.203e+06\n",
       "  * x          (x) float64 -1.195e+06 -1.192e+06 ... 1.192e+06 1.195e+06"
      ]
     },
     "execution_count": 9,
     "metadata": {},
     "output_type": "execute_result"
    }
   ],
   "source": [
    "data_array"
   ]
  },
  {
   "cell_type": "code",
   "execution_count": 10,
   "id": "0083ee5b-085e-45fc-9f18-ae6dd88be225",
   "metadata": {},
   "outputs": [
    {
     "data": {
      "text/plain": [
       "('selection', 'y', 'x')"
      ]
     },
     "execution_count": 10,
     "metadata": {},
     "output_type": "execute_result"
    }
   ],
   "source": [
    "data_array.dims"
   ]
  },
  {
   "cell_type": "code",
   "execution_count": 11,
   "id": "6a168d46-c6b8-427a-9a2b-e568877ab286",
   "metadata": {},
   "outputs": [
    {
     "data": {
      "text/plain": [
       "Coordinates:\n",
       "  * selection  (selection) object None\n",
       "  * y          (y) float64 -1.195e+06 -1.192e+06 -1.19e+06 ... 1.2e+06 1.203e+06\n",
       "  * x          (x) float64 -1.195e+06 -1.192e+06 ... 1.192e+06 1.195e+06"
      ]
     },
     "execution_count": 11,
     "metadata": {},
     "output_type": "execute_result"
    }
   ],
   "source": [
    "data_array.coords"
   ]
  },
  {
   "cell_type": "markdown",
   "id": "e7e6b65c-2595-4bb2-8f49-de5c1a8f60ab",
   "metadata": {},
   "source": [
    "To be perfectly explicit about what is happening and what is about to happen-- we've initiated a template xarray grid, that we'll fill and plot with data that we calculate from the vaex array."
   ]
  },
  {
   "cell_type": "code",
   "execution_count": 12,
   "id": "f1bdec73-0d0d-4fe9-b93e-fe1d286ad81e",
   "metadata": {},
   "outputs": [],
   "source": [
    "df.select(df.q_flag == 1)"
   ]
  },
  {
   "cell_type": "code",
   "execution_count": 13,
   "id": "22f99b79-d574-4d76-9a5e-3742e255e708",
   "metadata": {},
   "outputs": [
    {
     "data": {
      "application/vnd.jupyter.widget-view+json": {
       "model_id": "73cfb0724f9e47e8a07704c62d814c14",
       "version_major": 2,
       "version_minor": 0
      },
      "text/plain": [
       "DataArray(children=[Container(children=[ProgressCircularNoAnimation(color='#9ECBF5', size=30, text='', value=1…"
      ]
     },
     "metadata": {},
     "output_type": "display_data"
    }
   ],
   "source": [
    "# NOTE: da is short for 'data array'\n",
    "def plot2d(da):\n",
    "    plt.figure(figsize=(8, 8))\n",
    "    ar = da.data[0]  # take the numpy data, and select take the selection\n",
    "    print(f'imshow of a numpy array of shape: {ar.shape}')\n",
    "    plt.imshow(np.log1p(ar.T), origin='lower')\n",
    "\n",
    "df.widget.data_array(axes=[x_axis, y_axis], display_function=plot2d, selection=['default'])"
   ]
  },
  {
   "cell_type": "code",
   "execution_count": 14,
   "id": "94dcafbb-7767-4624-80cc-ab2a1bfe5d1d",
   "metadata": {},
   "outputs": [
    {
     "data": {
      "application/vnd.jupyter.widget-view+json": {
       "model_id": "ac65bd8941754636a4454014948d8a68",
       "version_major": 2,
       "version_minor": 0
      },
      "text/plain": [
       "ExpressionSelectionTextArea(label='Filter by custom expression', placeholder='Enter a custom (boolean) express…"
      ]
     },
     "metadata": {},
     "output_type": "display_data"
    }
   ],
   "source": [
    "selection_widget = df.widget.selection_expression()\n",
    "selection_widget"
   ]
  },
  {
   "cell_type": "code",
   "execution_count": 16,
   "id": "fe91a460-a124-4931-86e8-e8943d7c916a",
   "metadata": {},
   "outputs": [
    {
     "data": {
      "application/vnd.jupyter.widget-view+json": {
       "model_id": "18effe3ee4d740ad89e750bfc11f2cec",
       "version_major": 2,
       "version_minor": 0
      },
      "text/plain": [
       "Counter(characters=['&nbsp;', '&nbsp;', '&nbsp;', '&nbsp;', '3', '5', ',', '9', '7', '5', ',', '3', '0', '3'],…"
      ]
     },
     "metadata": {},
     "output_type": "display_data"
    }
   ],
   "source": [
    "await vaex.jupyter.gather()\n",
    "w = df.widget.counter_selection('default', lazy=True)\n",
    "w"
   ]
  },
  {
   "cell_type": "markdown",
   "id": "517fad5b-65ce-4874-aa85-f6120fc9f0dd",
   "metadata": {},
   "source": [
    "Tiling\n",
    "--------\n",
    "\n",
    "The `mhealpy` library is an superset of the `healpy` library that adds support for multiresolution healpix maps:\n",
    "\n",
    "![fig2](fig4.png \"Title\")\n",
    "\n",
    "The astronomy community uses a different indexing scheme then the 'morton' ordering discribed in the previous section. There's actually three different schemes that are provided for: `ring`, `nested` and `uniq`, with the first two being fixed resolution, and the last being multiresolution.\n",
    "\n",
    "The multiresolution scheme has interesting implications for satellite data; for one thing, orbital convergence means that the sample resolution increases towards the poles, and decreases towards the equator. With the multiresolution naming scheme, it's perfectly reasonable to change the tesselation order to balance roughly equivelent numbers of observations per shard. For now we'll keep to a fixed layout, mainly so that query operations are still straightforward to formulate and execute, but it's worth keeping the application in mind.\n",
    "\n",
    "There are facilities for converting between to representations, and certain index methods are optimized for different types of plotting methods. We can visulize our data location and extent using the built in methods."
   ]
  },
  {
   "cell_type": "code",
   "execution_count": 18,
   "id": "82861ba3-ffdf-4b9e-8ca3-0e97baa490a6",
   "metadata": {},
   "outputs": [
    {
     "data": {
      "text/plain": [
       "array([-79.00604151, -79.00621644, -79.00598341, ..., -78.99469284,\n",
       "       -78.99451809, -78.99434333])"
      ]
     },
     "execution_count": 18,
     "metadata": {},
     "output_type": "execute_result"
    }
   ],
   "source": [
    "# How to access raw data values to pass to functions\n",
    "df.lat.as_numpy().values"
   ]
  },
  {
   "cell_type": "markdown",
   "id": "48466e19-94bb-46ee-baa1-df2df6f35cb5",
   "metadata": {},
   "source": [
    "We have to decide on a chunk size. It's not totally obvious how to do this, but we can guess based on the mean cell center spacing, which is simple to calculate:"
   ]
  },
  {
   "cell_type": "code",
   "execution_count": 19,
   "id": "ea0155ea-a02e-4a92-9cbf-070cd9dd5650",
   "metadata": {},
   "outputs": [
    {
     "name": "stdout",
     "output_type": "stream",
     "text": [
      "6508.1853 km at tesselation order 0\n",
      "3254.09265 km at tesselation order 1\n",
      "1627.046325 km at tesselation order 2\n",
      "813.5231625 km at tesselation order 3\n",
      "406.76158125 km at tesselation order 4\n",
      "203.380790625 km at tesselation order 5\n",
      "101.6903953125 km at tesselation order 6\n",
      "50.84519765625 km at tesselation order 7\n",
      "25.422598828125 km at tesselation order 8\n",
      "12.7112994140625 km at tesselation order 9\n",
      "6.35564970703125 km at tesselation order 10\n",
      "3.177824853515625 km at tesselation order 11\n",
      "1.5889124267578125 km at tesselation order 12\n",
      "0.7944562133789063 km at tesselation order 13\n",
      "0.39722810668945313 km at tesselation order 14\n",
      "0.19861405334472657 km at tesselation order 15\n",
      "0.09930702667236328 km at tesselation order 16\n",
      "0.04965351333618164 km at tesselation order 17\n",
      "0.02482675666809082 km at tesselation order 18\n",
      "0.01241337833404541 km at tesselation order 19\n"
     ]
    }
   ],
   "source": [
    "def order2res(order):\n",
    "    res = 111* 58.6323*.5**order\n",
    "    return res\n",
    "\n",
    "for res in range(20):\n",
    "    print(str(order2res(res))+ ' km at tesselation order ' + str(res))"
   ]
  },
  {
   "cell_type": "code",
   "execution_count": 20,
   "id": "f3bf9536-e39e-42bf-aeab-dbe0a6501e90",
   "metadata": {},
   "outputs": [],
   "source": [
    "# Set static resolution... order 10?\n",
    "nside = 2**10\n",
    "\n",
    "# Convert locations to healpix\n",
    "#healidx = df.apply(mh.hp.ang2pix, arguments=[df.lon, df.lat, lonlat=True])\n",
    "healidx = mh.hp.ang2pix(nside,df.lon.as_numpy().values, df.lat.as_numpy().values, lonlat=True) #, nest=True)\n",
    "#test = mh.containers.HealpixMap(uniq=mh.nest2uniq(nside=2**13, ipix=healidx.ravel()))\n",
    "# Static map\n",
    "test = mh.containers.HealpixMap(nside=nside)"
   ]
  },
  {
   "cell_type": "code",
   "execution_count": 21,
   "id": "14f91644-cd59-4e61-9c18-56f0e0f0c05d",
   "metadata": {},
   "outputs": [
    {
     "data": {
      "text/plain": [
       "865273104"
      ]
     },
     "execution_count": 21,
     "metadata": {},
     "output_type": "execute_result"
    }
   ],
   "source": [
    "len(healidx)"
   ]
  },
  {
   "cell_type": "code",
   "execution_count": 22,
   "id": "a8217879-3b85-4f7b-b9d9-399359628388",
   "metadata": {},
   "outputs": [],
   "source": [
    "# Multilevel map, from static map\n",
    "#mtest = test.moc_from_pixels(nside=nside, pixels=healidx.ravel() )"
   ]
  },
  {
   "cell_type": "code",
   "execution_count": 23,
   "id": "05f9d2db-4bcf-4e7d-ab22-54b3f03bcaf5",
   "metadata": {},
   "outputs": [],
   "source": [
    "# just a plain numpy array\n",
    "m = np.zeros(mh.hp.nside2npix(nside))\n",
    "m[healidx.ravel()] += 1"
   ]
  },
  {
   "cell_type": "code",
   "execution_count": 24,
   "id": "e68e45e0-3aa3-4c41-a9cc-e0675bc337ac",
   "metadata": {},
   "outputs": [
    {
     "data": {
      "image/png": "[encoded data removed]",
      "text/plain": [
       "<Figure size 417.6x460.8 with 2 Axes>"
      ]
     },
     "metadata": {
      "needs_background": "light"
     },
     "output_type": "display_data"
    }
   ],
   "source": [
    "# Centered on the south pole\n",
    "mh.hp.gnomview(m, rot=[0,-90], xsize=1200, ysize=1200)# , nest=True)"
   ]
  },
  {
   "cell_type": "code",
   "execution_count": 25,
   "id": "d142d7b0-14a2-42b6-b4e8-70e624efc9a8",
   "metadata": {},
   "outputs": [
    {
     "data": {
      "text/plain": [
       "113307"
      ]
     },
     "execution_count": 25,
     "metadata": {},
     "output_type": "execute_result"
    }
   ],
   "source": [
    "len(np.unique(healidx))"
   ]
  },
  {
   "cell_type": "code",
   "execution_count": 26,
   "id": "678b3d6b-2743-497f-ac24-0af285745aa5",
   "metadata": {},
   "outputs": [
    {
     "data": {
      "text/plain": [
       "0.8031277855737068"
      ]
     },
     "execution_count": 26,
     "metadata": {},
     "output_type": "execute_result"
    }
   ],
   "source": [
    "91000/113307"
   ]
  },
  {
   "cell_type": "markdown",
   "id": "019f6508-f319-43f8-b6d2-e29bca5e2163",
   "metadata": {},
   "source": [
    "...probably too small. Chunks are under a meg. Let's bump up by three orders:"
   ]
  },
  {
   "cell_type": "code",
   "execution_count": 27,
   "id": "ccd936c1-b534-4a2d-add8-fbb91536722d",
   "metadata": {},
   "outputs": [],
   "source": [
    "# Set static resolution... order 7\n",
    "nside = 2**7\n",
    "\n",
    "# Convert locations to healpix\n",
    "#healidx = df.apply(mh.hp.ang2pix, arguments=[str(nside), df.lon, df.lat, 'False', 'True'])\n",
    "healidx_7 = mh.hp.ang2pix(nside,df.lon.as_numpy().values, df.lat.as_numpy().values, lonlat=True) #, nest=True)\n",
    "#test = mh.containers.HealpixMap(uniq=mh.nest2uniq(nside=2**13, ipix=healidx.ravel()))\n",
    "# Static map\n",
    "#test = mh.containers.HealpixMap(nside=nside)"
   ]
  },
  {
   "cell_type": "code",
   "execution_count": 28,
   "id": "b95737ed-dcce-403d-82ce-ba16af920e01",
   "metadata": {},
   "outputs": [
    {
     "data": {
      "text/plain": [
       "1946"
      ]
     },
     "execution_count": 28,
     "metadata": {},
     "output_type": "execute_result"
    }
   ],
   "source": [
    "len(np.unique(healidx_7))"
   ]
  },
  {
   "cell_type": "code",
   "execution_count": 29,
   "id": "bf067eb6-89b6-4d42-9eac-0b3834a1596f",
   "metadata": {},
   "outputs": [
    {
     "data": {
      "text/plain": [
       "46.76258992805755"
      ]
     },
     "execution_count": 29,
     "metadata": {},
     "output_type": "execute_result"
    }
   ],
   "source": [
    "91000/1946"
   ]
  },
  {
   "cell_type": "markdown",
   "id": "5ab90988-f7d3-4880-bc39-a894b0b1f27b",
   "metadata": {},
   "source": [
    "46 megs... seems better, lets do a few plots:"
   ]
  },
  {
   "cell_type": "code",
   "execution_count": 30,
   "id": "c9d501a6-62b3-420b-a1d9-397f33ecbc5f",
   "metadata": {},
   "outputs": [],
   "source": [
    "uhealpix7 = np.unique(healidx_7)"
   ]
  },
  {
   "cell_type": "code",
   "execution_count": 31,
   "id": "a03ad81a-79b6-4934-abf5-315f821e558c",
   "metadata": {},
   "outputs": [
    {
     "name": "stderr",
     "output_type": "stream",
     "text": [
      "/nix/store/5kld536dkk8cmfy3wk8xkrdg1yzmh7h5-python3-3.8.9-env/lib/python3.8/site-packages/numpy/lib/nanfunctions.py:1113: RuntimeWarning: All-NaN slice encountered\n",
      "  r, k = function_base._ureduce(a, func=_nanmedian, axis=axis, out=out,\n",
      "/nix/store/5kld536dkk8cmfy3wk8xkrdg1yzmh7h5-python3-3.8.9-env/lib/python3.8/site-packages/numpy/lib/nanfunctions.py:1113: RuntimeWarning: All-NaN slice encountered\n",
      "  r, k = function_base._ureduce(a, func=_nanmedian, axis=axis, out=out,\n",
      "/nix/store/5kld536dkk8cmfy3wk8xkrdg1yzmh7h5-python3-3.8.9-env/lib/python3.8/site-packages/numpy/lib/nanfunctions.py:1113: RuntimeWarning: All-NaN slice encountered\n",
      "  r, k = function_base._ureduce(a, func=_nanmedian, axis=axis, out=out,\n",
      "/nix/store/5kld536dkk8cmfy3wk8xkrdg1yzmh7h5-python3-3.8.9-env/lib/python3.8/site-packages/numpy/lib/nanfunctions.py:1113: RuntimeWarning: All-NaN slice encountered\n",
      "  r, k = function_base._ureduce(a, func=_nanmedian, axis=axis, out=out,\n"
     ]
    },
    {
     "data": {
      "text/plain": [
       "([<matplotlib.lines.Line2D at 0x7f189ab45c40>],\n",
       " <healpy.projector.GnomonicProj at 0x7f1914c86a60>)"
      ]
     },
     "execution_count": 31,
     "metadata": {},
     "output_type": "execute_result"
    },
    {
     "data": {
      "image/png": "[encoded data removed]",
      "text/plain": [
       "<Figure size 432x288 with 1 Axes>"
      ]
     },
     "metadata": {
      "needs_background": "light"
     },
     "output_type": "display_data"
    }
   ],
   "source": [
    "test = mh.containers.HealpixMap(nside=nside)\n",
    "# Multilevel map, from static map\n",
    "mtest = test.moc_from_pixels(nside=nside, pixels=uhealpix7.ravel() )\n",
    "mtest.plot_grid(proj='gnom',rot=[0,-90],ysize=1200, xsize=1200)"
   ]
  },
  {
   "cell_type": "markdown",
   "id": "ecab9c9e-2f8e-4af1-ba3b-f7d4c07a21f3",
   "metadata": {},
   "source": [
    "...hard to tell. This level could work, but so could another order up. We'll try one more level:"
   ]
  },
  {
   "cell_type": "code",
   "execution_count": 34,
   "id": "689c52c9-9aad-4f71-85b9-977a09470498",
   "metadata": {},
   "outputs": [],
   "source": [
    "nestcoords = np.load('./nest.npy')\n",
    "parents = np.load('./parents.npy')\n",
    "uniq = np.load('./uniq.npy')\n",
    "normed= np.load('./normed.npy')"
   ]
  },
  {
   "cell_type": "code",
   "execution_count": 35,
   "id": "947cf0e7-3a3a-4b38-beb7-c71c1a9bfad8",
   "metadata": {},
   "outputs": [
    {
     "ename": "NameError",
     "evalue": "name 'nest' is not defined",
     "output_type": "error",
     "traceback": [
      "\u001b[0;31m---------------------------------------------------------------------------\u001b[0m",
      "\u001b[0;31mNameError\u001b[0m                                 Traceback (most recent call last)",
      "\u001b[0;32m<ipython-input-35-e321e16f0faa>\u001b[0m in \u001b[0;36m<module>\u001b[0;34m\u001b[0m\n\u001b[1;32m      1\u001b[0m \u001b[0mdf\u001b[0m\u001b[0;34m[\u001b[0m\u001b[0;34m'normed'\u001b[0m\u001b[0;34m]\u001b[0m \u001b[0;34m=\u001b[0m \u001b[0mnormed\u001b[0m\u001b[0;34m\u001b[0m\u001b[0;34m\u001b[0m\u001b[0m\n\u001b[1;32m      2\u001b[0m \u001b[0mdf\u001b[0m\u001b[0;34m[\u001b[0m\u001b[0;34m'parents'\u001b[0m\u001b[0;34m]\u001b[0m \u001b[0;34m=\u001b[0m \u001b[0mparents\u001b[0m\u001b[0;34m\u001b[0m\u001b[0;34m\u001b[0m\u001b[0m\n\u001b[0;32m----> 3\u001b[0;31m \u001b[0mdf\u001b[0m\u001b[0;34m[\u001b[0m\u001b[0;34m'nest'\u001b[0m\u001b[0;34m]\u001b[0m \u001b[0;34m=\u001b[0m \u001b[0mnest\u001b[0m\u001b[0;34m\u001b[0m\u001b[0;34m\u001b[0m\u001b[0m\n\u001b[0m",
      "\u001b[0;31mNameError\u001b[0m: name 'nest' is not defined"
     ]
    }
   ],
   "source": [
    "df['normed'] = normed\n",
    "df['parents'] = parents\n",
    "df['nest'] = nest"
   ]
  },
  {
   "cell_type": "code",
   "execution_count": 26,
   "id": "d4b8a560-0823-4927-81df-13dceefa3865",
   "metadata": {},
   "outputs": [],
   "source": [
    "@vectorize([int64(int64, int64)])#, target='cuda')\n",
    "def VaexNorm2Mort(normed, parents):\n",
    "    order = 18\n",
    "    mask = np.int64(3*4**(order-1))\n",
    "    res = np.zeros(order,dtype=np.int64)\n",
    "    num = 0\n",
    "    for j, i in enumerate(range(order, 0, -1)):\n",
    "        nextBit = (normed & mask) >> ((2*i) - 2)\n",
    "        num += (nextBit+1) * 10**(i-1)\n",
    "        mask = mask >> 2\n",
    "    parents = parents- 6\n",
    "    parents = parents * 10**(order)\n",
    "    num = num + parents\n",
    "    return num"
   ]
  },
  {
   "cell_type": "code",
   "execution_count": 32,
   "id": "0d2d9deb-a226-4771-991e-7ffebde7e4cb",
   "metadata": {},
   "outputs": [
    {
     "data": {
      "text/plain": [
       "\"\\nnside = 2**18\\n\\ndef convertcoords(lon, lat):\\n    healp = mh.hp.ang2pix(nside, lon, lat, nest=True, lonlat=True)\\n    return healp\\n\\n# Convert locations to healpix\\ndf['nest'] = df.apply(convertcoords, arguments=[df.lon, df.lat])\\n\""
      ]
     },
     "execution_count": 32,
     "metadata": {},
     "output_type": "execute_result"
    }
   ],
   "source": [
    "'''\n",
    "nside = 2**18\n",
    "\n",
    "def convertcoords(lon, lat):\n",
    "    healp = mh.hp.ang2pix(nside, lon, lat, nest=True, lonlat=True)\n",
    "    return healp\n",
    "\n",
    "# Convert locations to healpix\n",
    "df['nest'] = df.apply(convertcoords, arguments=[df.lon, df.lat])\n",
    "'''"
   ]
  },
  {
   "cell_type": "code",
   "execution_count": null,
   "id": "08bd8f87-e87e-468d-9056-959a062f2aca",
   "metadata": {},
   "outputs": [],
   "source": [
    "df"
   ]
  },
  {
   "cell_type": "code",
   "execution_count": 32,
   "id": "665f3a22-26bf-439f-bc1c-eee2380a6188",
   "metadata": {},
   "outputs": [],
   "source": [
    "#nestcoords = df.nest.as_numpy().values"
   ]
  },
  {
   "cell_type": "code",
   "execution_count": 75,
   "id": "44ec104a-eb8d-482b-8e57-17a757387d1e",
   "metadata": {},
   "outputs": [
    {
     "data": {
      "text/plain": [
       "array([619894464536, 619894464525, 688946510872, ..., 619810773774,\n",
       "       619810773775, 619810773786])"
      ]
     },
     "execution_count": 75,
     "metadata": {},
     "output_type": "execute_result"
    }
   ],
   "source": [
    "nestcoords"
   ]
  },
  {
   "cell_type": "code",
   "execution_count": 80,
   "id": "906f0791-d93e-4790-8729-9ca4244473ff",
   "metadata": {},
   "outputs": [],
   "source": [
    "df['nest'] = nestcoords"
   ]
  },
  {
   "cell_type": "code",
   "execution_count": 81,
   "id": "af67f562-48e0-463d-a91e-7e9a4b1b5e64",
   "metadata": {},
   "outputs": [
    {
     "data": {
      "text/html": [
       "<table>\n",
       "<thead>\n",
       "<tr><th>#                                      </th><th>id     </th><th>lat               </th><th>lon                </th><th>slope_y              </th><th>slope_x               </th><th>slope_x_sigma        </th><th>h_li               </th><th>s_li                </th><th>q_flag  </th><th>s_fg  </th><th>snr  </th><th>h_rb               </th><th>bsnow_conf  </th><th>cloud_flg_asr  </th><th>cloud_flg_atm  </th><th>msw_flag  </th><th>fbsnow_h           </th><th>bsnow_od            </th><th>layer_flag  </th><th>bckgrd            </th><th>e_bckgrd  </th><th>n_fit_photons  </th><th>w_surface_window_final  </th><th>t_year                    </th><th>cycle  </th><th>track  </th><th>x                 </th><th>y                  </th><th>nest        </th></tr>\n",
       "</thead>\n",
       "<tbody>\n",
       "<tr><td><i style='opacity: 0.6'>0</i>          </td><td>1443587</td><td>-79.00604150693235</td><td>176.34489505559952 </td><td>0.0034970236010849476</td><td>0.045052722096443176  </td><td>0.0008298112079501152</td><td>-19.586994171142578</td><td>0.012193245813250542</td><td>0       </td><td>0     </td><td>0.0  </td><td>0.1700313538312912 </td><td>-1          </td><td>2              </td><td>1              </td><td>3         </td><td>29.979246139526367 </td><td>0.26861944794654846 </td><td>1           </td><td>28285.419921875   </td><td>0.0       </td><td>522            </td><td>3.0                     </td><td>2019-03-29 07:13:52.971019</td><td>3      </td><td>gt1l   </td><td>76147.62450344954 </td><td>-1192036.1950727522</td><td>619894464536</td></tr>\n",
       "<tr><td><i style='opacity: 0.6'>1</i>          </td><td>1443588</td><td>-79.00621643747844</td><td>176.34471657932238 </td><td>0.004264393355697393 </td><td>0.05056241527199745   </td><td>0.0008830373408272862</td><td>-18.607820510864258</td><td>0.012879230082035065</td><td>0       </td><td>0     </td><td>0.0  </td><td>0.18802492320537567</td><td>-1          </td><td>2              </td><td>1              </td><td>3         </td><td>29.979246139526367 </td><td>0.2682749032974243  </td><td>1           </td><td>25933.798828125   </td><td>0.0       </td><td>541            </td><td>3.0                     </td><td>2019-03-29 07:13:52.973831</td><td>3      </td><td>gt1l   </td><td>76150.11884253839 </td><td>-1192016.878556122 </td><td>619894464525</td></tr>\n",
       "<tr><td><i style='opacity: 0.6'>2</i>          </td><td>1443604</td><td>-79.00598340764218</td><td>-128.34968452426844</td><td>0.0011884707491844893</td><td>-0.008782525546848774 </td><td>0.0012873366940766573</td><td>1393.30810546875   </td><td>0.022358529269695282</td><td>0       </td><td>0     </td><td>0.0  </td><td>0.16403409838676453</td><td>-1          </td><td>4              </td><td>1              </td><td>2         </td><td>-15.545355796813965</td><td>0.025605319067835808</td><td>1           </td><td>29848.724609375   </td><td>0.0       </td><td>134            </td><td>3.0                     </td><td>2019-06-16 23:44:16.580875</td><td>3      </td><td>gt1l   </td><td>-936751.2677578111</td><td>-741121.435694096  </td><td>688946510872</td></tr>\n",
       "<tr><td><i style='opacity: 0.6'>3</i>          </td><td>1443605</td><td>-79.0061584310981 </td><td>-128.34986074738637</td><td>0.0014111476484686136</td><td>-0.0077179535292088985</td><td>0.0013354523107409477</td><td>1393.1937255859375 </td><td>0.02100951410830021 </td><td>0       </td><td>0     </td><td>0.0  </td><td>0.17921173572540283</td><td>-1          </td><td>4              </td><td>1              </td><td>2         </td><td>-13.435805320739746</td><td>0.025563444942235947</td><td>1           </td><td>32934.61328125    </td><td>0.0       </td><td>141            </td><td>3.0                     </td><td>2019-06-16 23:44:16.583689</td><td>3      </td><td>gt1l   </td><td>-936733.9871437278</td><td>-741112.4484165515 </td><td>688946510872</td></tr>\n",
       "<tr><td><i style='opacity: 0.6'>4</i>          </td><td>1443606</td><td>-79.00633341593905</td><td>-128.35003802228633</td><td>0.0012659610947594047</td><td>-0.0070463260635733604</td><td>0.0011699371971189976</td><td>1393.045166015625  </td><td>0.027471376582980156</td><td>0       </td><td>0     </td><td>0.0  </td><td>0.17215631902217865</td><td>-1          </td><td>4              </td><td>1              </td><td>2         </td><td>-11.32924747467041 </td><td>0.02552163042128086 </td><td>1           </td><td>35919.10546875    </td><td>0.0       </td><td>148            </td><td>3.0                     </td><td>2019-06-16 23:44:16.586500</td><td>3      </td><td>gt1l   </td><td>-936716.6963032028</td><td>-741103.4808569406 </td><td>688946510855</td></tr>\n",
       "<tr><td>...                                    </td><td>...    </td><td>...               </td><td>...                </td><td>...                  </td><td>...                   </td><td>...                  </td><td>...                </td><td>...                 </td><td>...     </td><td>...   </td><td>...  </td><td>...                </td><td>...         </td><td>...            </td><td>...            </td><td>...       </td><td>...                </td><td>...                 </td><td>...         </td><td>...               </td><td>...       </td><td>...            </td><td>...                     </td><td>...                       </td><td>...    </td><td>...    </td><td>...               </td><td>...                </td><td>...         </td></tr>\n",
       "<tr><td><i style='opacity: 0.6'>865,273,099</i></td><td>1565333</td><td>-78.99504226798936</td><td>158.03591094289823 </td><td>0.007495594210922718 </td><td>0.0078804399818182    </td><td>0.002683431375771761 </td><td>1279.90234375      </td><td>0.05482017993927002 </td><td>0       </td><td>0     </td><td>0.0  </td><td>0.15907801687717438</td><td>-1          </td><td>5              </td><td>1              </td><td>1         </td><td>29.979246139526367 </td><td>0.02713683247566223 </td><td>1           </td><td>2268.45654296875  </td><td>0.0       </td><td>21             </td><td>3.0                     </td><td>2019-06-23 17:41:49.183559</td><td>3      </td><td>gt3r   </td><td>447210.19721519714</td><td>-1108884.5834480259</td><td>619810773769</td></tr>\n",
       "<tr><td><i style='opacity: 0.6'>865,273,100</i></td><td>1565334</td><td>-78.99486756514892</td><td>158.03572581694618 </td><td>0.006783090066164732 </td><td>0.012846322730183601  </td><td>0.0031797189731150866</td><td>1280.02392578125   </td><td>0.05916494503617287 </td><td>0       </td><td>0     </td><td>0.0  </td><td>0.13116207718849182</td><td>-1          </td><td>5              </td><td>1              </td><td>1         </td><td>29.979246139526367 </td><td>0.02713673934340477 </td><td>1           </td><td>1946.7774658203125</td><td>0.0       </td><td>21             </td><td>3.0                     </td><td>2019-06-23 17:41:49.186370</td><td>3      </td><td>gt3r   </td><td>447220.92165426933</td><td>-1108900.846272008 </td><td>619810773772</td></tr>\n",
       "<tr><td><i style='opacity: 0.6'>865,273,101</i></td><td>1565335</td><td>-78.99469283993268</td><td>158.03554127839766 </td><td>0.007498532999306917 </td><td>-0.0022711576893925667</td><td>0.0016771184746176004</td><td>1279.994873046875  </td><td>0.026095101609826088</td><td>0       </td><td>0     </td><td>0.0  </td><td>0.0632103830575943 </td><td>-1          </td><td>5              </td><td>1              </td><td>1         </td><td>29.979246139526367 </td><td>0.02713664434850216 </td><td>1           </td><td>1209.9652099609375</td><td>0.0       </td><td>24             </td><td>3.0                     </td><td>2019-06-23 17:41:49.189189</td><td>3      </td><td>gt3r   </td><td>447231.6357510542 </td><td>-1108917.115896332 </td><td>619810773774</td></tr>\n",
       "<tr><td><i style='opacity: 0.6'>865,273,102</i></td><td>1565336</td><td>-78.99451809314117</td><td>158.03535733441748 </td><td>0.008078711107373238 </td><td>9.721379319671541e-05 </td><td>0.0028819788713008165</td><td>1279.9814453125    </td><td>0.05285322666168213 </td><td>0       </td><td>0     </td><td>0.0  </td><td>0.14162179827690125</td><td>-1          </td><td>5              </td><td>1              </td><td>1         </td><td>29.979246139526367 </td><td>0.02713654935359955 </td><td>1           </td><td>177.30709838867188</td><td>0.0       </td><td>21             </td><td>3.0                     </td><td>2019-06-23 17:41:49.192016</td><td>3      </td><td>gt3r   </td><td>447242.3393336775 </td><td>-1108933.3922961077</td><td>619810773775</td></tr>\n",
       "<tr><td><i style='opacity: 0.6'>865,273,103</i></td><td>1565337</td><td>-78.99434332581431</td><td>158.0351739227819  </td><td>0.007572057191282511 </td><td>0.0048851147294044495 </td><td>0.003790514310821891 </td><td>1280.065673828125  </td><td>0.1621844470500946  </td><td>0       </td><td>0     </td><td>0.0  </td><td>0.16623833775520325</td><td>-1          </td><td>5              </td><td>1              </td><td>1         </td><td>29.979246139526367 </td><td>0.027136454358696938</td><td>1           </td><td>-601.5515747070312</td><td>0.0       </td><td>12             </td><td>3.0                     </td><td>2019-06-23 17:41:49.194850</td><td>3      </td><td>gt3r   </td><td>447253.033563472  </td><td>-1108949.6748805325</td><td>619810773786</td></tr>\n",
       "</tbody>\n",
       "</table>"
      ],
      "text/plain": [
       "#            id       lat                 lon                  slope_y                slope_x                 slope_x_sigma          h_li                 s_li                  q_flag    s_fg    snr    h_rb                 bsnow_conf    cloud_flg_asr    cloud_flg_atm    msw_flag    fbsnow_h             bsnow_od              layer_flag    bckgrd              e_bckgrd    n_fit_photons    w_surface_window_final    t_year                      cycle    track    x                   y                    nest\n",
       "0            1443587  -79.00604150693235  176.34489505559952   0.0034970236010849476  0.045052722096443176    0.0008298112079501152  -19.586994171142578  0.012193245813250542  0         0       0.0    0.1700313538312912   -1            2                1                3           29.979246139526367   0.26861944794654846   1             28285.419921875     0.0         522              3.0                       2019-03-29 07:13:52.971019  3        gt1l     76147.62450344954   -1192036.1950727522  619894464536\n",
       "1            1443588  -79.00621643747844  176.34471657932238   0.004264393355697393   0.05056241527199745     0.0008830373408272862  -18.607820510864258  0.012879230082035065  0         0       0.0    0.18802492320537567  -1            2                1                3           29.979246139526367   0.2682749032974243    1             25933.798828125     0.0         541              3.0                       2019-03-29 07:13:52.973831  3        gt1l     76150.11884253839   -1192016.878556122   619894464525\n",
       "2            1443604  -79.00598340764218  -128.34968452426844  0.0011884707491844893  -0.008782525546848774   0.0012873366940766573  1393.30810546875     0.022358529269695282  0         0       0.0    0.16403409838676453  -1            4                1                2           -15.545355796813965  0.025605319067835808  1             29848.724609375     0.0         134              3.0                       2019-06-16 23:44:16.580875  3        gt1l     -936751.2677578111  -741121.435694096    688946510872\n",
       "3            1443605  -79.0061584310981   -128.34986074738637  0.0014111476484686136  -0.0077179535292088985  0.0013354523107409477  1393.1937255859375   0.02100951410830021   0         0       0.0    0.17921173572540283  -1            4                1                2           -13.435805320739746  0.025563444942235947  1             32934.61328125      0.0         141              3.0                       2019-06-16 23:44:16.583689  3        gt1l     -936733.9871437278  -741112.4484165515   688946510872\n",
       "4            1443606  -79.00633341593905  -128.35003802228633  0.0012659610947594047  -0.0070463260635733604  0.0011699371971189976  1393.045166015625    0.027471376582980156  0         0       0.0    0.17215631902217865  -1            4                1                2           -11.32924747467041   0.02552163042128086   1             35919.10546875      0.0         148              3.0                       2019-06-16 23:44:16.586500  3        gt1l     -936716.6963032028  -741103.4808569406   688946510855\n",
       "...          ...      ...                 ...                  ...                    ...                     ...                    ...                  ...                   ...       ...     ...    ...                  ...           ...              ...              ...         ...                  ...                   ...           ...                 ...         ...              ...                       ...                         ...      ...      ...                 ...                  ...\n",
       "865,273,099  1565333  -78.99504226798936  158.03591094289823   0.007495594210922718   0.0078804399818182      0.002683431375771761   1279.90234375        0.05482017993927002   0         0       0.0    0.15907801687717438  -1            5                1                1           29.979246139526367   0.02713683247566223   1             2268.45654296875    0.0         21               3.0                       2019-06-23 17:41:49.183559  3        gt3r     447210.19721519714  -1108884.5834480259  619810773769\n",
       "865,273,100  1565334  -78.99486756514892  158.03572581694618   0.006783090066164732   0.012846322730183601    0.0031797189731150866  1280.02392578125     0.05916494503617287   0         0       0.0    0.13116207718849182  -1            5                1                1           29.979246139526367   0.02713673934340477   1             1946.7774658203125  0.0         21               3.0                       2019-06-23 17:41:49.186370  3        gt3r     447220.92165426933  -1108900.846272008   619810773772\n",
       "865,273,101  1565335  -78.99469283993268  158.03554127839766   0.007498532999306917   -0.0022711576893925667  0.0016771184746176004  1279.994873046875    0.026095101609826088  0         0       0.0    0.0632103830575943   -1            5                1                1           29.979246139526367   0.02713664434850216   1             1209.9652099609375  0.0         24               3.0                       2019-06-23 17:41:49.189189  3        gt3r     447231.6357510542   -1108917.115896332   619810773774\n",
       "865,273,102  1565336  -78.99451809314117  158.03535733441748   0.008078711107373238   9.721379319671541e-05   0.0028819788713008165  1279.9814453125      0.05285322666168213   0         0       0.0    0.14162179827690125  -1            5                1                1           29.979246139526367   0.02713654935359955   1             177.30709838867188  0.0         21               3.0                       2019-06-23 17:41:49.192016  3        gt3r     447242.3393336775   -1108933.3922961077  619810773775\n",
       "865,273,103  1565337  -78.99434332581431  158.0351739227819    0.007572057191282511   0.0048851147294044495   0.003790514310821891   1280.065673828125    0.1621844470500946    0         0       0.0    0.16623833775520325  -1            5                1                1           29.979246139526367   0.027136454358696938  1             -601.5515747070312  0.0         12               3.0                       2019-06-23 17:41:49.194850  3        gt3r     447253.033563472    -1108949.6748805325  619810773786"
      ]
     },
     "execution_count": 81,
     "metadata": {},
     "output_type": "execute_result"
    }
   ],
   "source": [
    "df"
   ]
  },
  {
   "cell_type": "code",
   "execution_count": 86,
   "id": "17b21004-f23c-46cf-a356-6c6420a24a03",
   "metadata": {},
   "outputs": [],
   "source": [
    "uniq = mh.nest2uniq(2**18, nestcoords)"
   ]
  },
  {
   "cell_type": "code",
   "execution_count": 87,
   "id": "40c27a46-6cbb-4d06-95a6-497bcb4410cf",
   "metadata": {},
   "outputs": [],
   "source": [
    "parents = unique2parent(uniq)"
   ]
  },
  {
   "cell_type": "code",
   "execution_count": 88,
   "id": "34bafa16-da3b-4b66-b9ac-a8a43cd165c0",
   "metadata": {},
   "outputs": [],
   "source": [
    "normed = heal_norm(parents, order, uniq)"
   ]
  },
  {
   "cell_type": "code",
   "execution_count": 99,
   "id": "4350c96c-c29e-4570-9fb2-7889c4b0a615",
   "metadata": {
    "tags": []
   },
   "outputs": [],
   "source": [
    "#order = 18\n",
    "\n",
    "#def convertNest2Mort(nest):\n",
    "#    uniq = mh.nest2uniq(2**order, nest)\n",
    "#    parents = unique2parent(uniq)\n",
    "#    normed = heal_norm(parents,order, uniq)\n",
    "\n",
    "#def normWrap(norms, parents):\n",
    "#    mortons = norm2morton(order,norms, parents)\n",
    "#    return mortons\n",
    "\n",
    "# df['midx'] = df.apply(normWrap, arguments=[df.normed, df.parents], vectorize=True)"
   ]
  },
  {
   "cell_type": "code",
   "execution_count": 57,
   "id": "ed864bcc-b5c6-4e4e-b8bc-299557b72e33",
   "metadata": {},
   "outputs": [
    {
     "data": {
      "text/html": [
       "<table>\n",
       "<thead>\n",
       "<tr><th>#                                      </th><th>id     </th><th>lat               </th><th>lon                </th><th>slope_y              </th><th>slope_x               </th><th>slope_x_sigma        </th><th>h_li               </th><th>s_li                </th><th>q_flag  </th><th>s_fg  </th><th>snr  </th><th>h_rb               </th><th>bsnow_conf  </th><th>cloud_flg_asr  </th><th>cloud_flg_atm  </th><th>msw_flag  </th><th>fbsnow_h           </th><th>bsnow_od            </th><th>layer_flag  </th><th>bckgrd            </th><th>e_bckgrd  </th><th>n_fit_photons  </th><th>w_surface_window_final  </th><th>t_year                    </th><th>cycle  </th><th>track  </th><th>x                 </th><th>y                  </th><th>normed      </th><th>parents  </th><th>midx               </th><th>midx7   </th><th>basin2  </th><th>midx11      </th><th>basin2_11  </th></tr>\n",
       "</thead>\n",
       "<tbody>\n",
       "<tr><td><i style='opacity: 0.6'>0</i>          </td><td>1443587</td><td>-79.00604150693235</td><td>176.34489505559952 </td><td>0.0034970236010849476</td><td>0.045052722096443176  </td><td>0.0008298112079501152</td><td>-19.586994171142578</td><td>0.012193245813250542</td><td>0       </td><td>0     </td><td>0.0  </td><td>0.1700313538312912 </td><td>-1          </td><td>2              </td><td>1              </td><td>3         </td><td>29.979246139526367 </td><td>0.26861944794654846 </td><td>1           </td><td>28285.419921875   </td><td>0.0       </td><td>522            </td><td>3.0                     </td><td>2019-03-29 07:13:52.971019</td><td>3      </td><td>gt1l   </td><td>76147.62450344954 </td><td>-1192036.1950727522</td><td>276297080856</td><td>9        </td><td>3112221322343111231</td><td>31122213</td><td>False   </td><td>311222132234</td><td>False      </td></tr>\n",
       "<tr><td><i style='opacity: 0.6'>1</i>          </td><td>1443588</td><td>-79.00621643747844</td><td>176.34471657932238 </td><td>0.004264393355697393 </td><td>0.05056241527199745   </td><td>0.0008830373408272862</td><td>-18.607820510864258</td><td>0.012879230082035065</td><td>0       </td><td>0     </td><td>0.0  </td><td>0.18802492320537567</td><td>-1          </td><td>2              </td><td>1              </td><td>3         </td><td>29.979246139526367 </td><td>0.2682749032974243  </td><td>1           </td><td>25933.798828125   </td><td>0.0       </td><td>541            </td><td>3.0                     </td><td>2019-03-29 07:13:52.973831</td><td>3      </td><td>gt1l   </td><td>76150.11884253839 </td><td>-1192016.878556122 </td><td>276297080845</td><td>9        </td><td>3112221322343111142</td><td>31122213</td><td>False   </td><td>311222132234</td><td>False      </td></tr>\n",
       "<tr><td><i style='opacity: 0.6'>2</i>          </td><td>1443604</td><td>-79.00598340764218</td><td>-128.34968452426844</td><td>0.0011884707491844893</td><td>-0.008782525546848774 </td><td>0.0012873366940766573</td><td>1393.30810546875   </td><td>0.022358529269695282</td><td>0       </td><td>0     </td><td>0.0  </td><td>0.16403409838676453</td><td>-1          </td><td>4              </td><td>1              </td><td>2         </td><td>-15.545355796813965</td><td>0.025605319067835808</td><td>1           </td><td>29848.724609375   </td><td>0.0       </td><td>134            </td><td>3.0                     </td><td>2019-06-16 23:44:16.580875</td><td>3      </td><td>gt1l   </td><td>-936751.2677578111</td><td>-741121.435694096  </td><td>276629650456</td><td>10       </td><td>4112331233224411231</td><td>41123312</td><td>False   </td><td>411233123322</td><td>False      </td></tr>\n",
       "<tr><td><i style='opacity: 0.6'>3</i>          </td><td>1443605</td><td>-79.0061584310981 </td><td>-128.34986074738637</td><td>0.0014111476484686136</td><td>-0.0077179535292088985</td><td>0.0013354523107409477</td><td>1393.1937255859375 </td><td>0.02100951410830021 </td><td>0       </td><td>0     </td><td>0.0  </td><td>0.17921173572540283</td><td>-1          </td><td>4              </td><td>1              </td><td>2         </td><td>-13.435805320739746</td><td>0.025563444942235947</td><td>1           </td><td>32934.61328125    </td><td>0.0       </td><td>141            </td><td>3.0                     </td><td>2019-06-16 23:44:16.583689</td><td>3      </td><td>gt1l   </td><td>-936733.9871437278</td><td>-741112.4484165515 </td><td>276629650456</td><td>10       </td><td>4112331233224411231</td><td>41123312</td><td>False   </td><td>411233123322</td><td>False      </td></tr>\n",
       "<tr><td><i style='opacity: 0.6'>4</i>          </td><td>1443606</td><td>-79.00633341593905</td><td>-128.35003802228633</td><td>0.0012659610947594047</td><td>-0.0070463260635733604</td><td>0.0011699371971189976</td><td>1393.045166015625  </td><td>0.027471376582980156</td><td>0       </td><td>0     </td><td>0.0  </td><td>0.17215631902217865</td><td>-1          </td><td>4              </td><td>1              </td><td>2         </td><td>-11.32924747467041 </td><td>0.02552163042128086 </td><td>1           </td><td>35919.10546875    </td><td>0.0       </td><td>148            </td><td>3.0                     </td><td>2019-06-16 23:44:16.586500</td><td>3      </td><td>gt1l   </td><td>-936716.6963032028</td><td>-741103.4808569406 </td><td>276629650439</td><td>10       </td><td>4112331233224411124</td><td>41123312</td><td>False   </td><td>411233123322</td><td>False      </td></tr>\n",
       "<tr><td>...                                    </td><td>...    </td><td>...               </td><td>...                </td><td>...                  </td><td>...                   </td><td>...                  </td><td>...                </td><td>...                 </td><td>...     </td><td>...   </td><td>...  </td><td>...                </td><td>...         </td><td>...            </td><td>...            </td><td>...       </td><td>...                </td><td>...                 </td><td>...         </td><td>...               </td><td>...       </td><td>...            </td><td>...                     </td><td>...                       </td><td>...    </td><td>...    </td><td>...               </td><td>...                </td><td>...         </td><td>...      </td><td>...                </td><td>...     </td><td>...     </td><td>...         </td><td>...        </td></tr>\n",
       "<tr><td><i style='opacity: 0.6'>865,273,099</i></td><td>1565333</td><td>-78.99504226798936</td><td>158.03591094289823 </td><td>0.007495594210922718 </td><td>0.0078804399818182    </td><td>0.002683431375771761 </td><td>1279.90234375      </td><td>0.05482017993927002 </td><td>0       </td><td>0     </td><td>0.0  </td><td>0.15907801687717438</td><td>-1          </td><td>5              </td><td>1              </td><td>1         </td><td>29.979246139526367 </td><td>0.02713683247566223 </td><td>1           </td><td>2268.45654296875  </td><td>0.0       </td><td>21             </td><td>3.0                     </td><td>2019-06-23 17:41:49.183559</td><td>3      </td><td>gt3r   </td><td>447210.19721519714</td><td>-1108884.5834480259</td><td>276213390089</td><td>9        </td><td>3112144323242341132</td><td>31121443</td><td>False   </td><td>311214432324</td><td>False      </td></tr>\n",
       "<tr><td><i style='opacity: 0.6'>865,273,100</i></td><td>1565334</td><td>-78.99486756514892</td><td>158.03572581694618 </td><td>0.006783090066164732 </td><td>0.012846322730183601  </td><td>0.0031797189731150866</td><td>1280.02392578125   </td><td>0.05916494503617287 </td><td>0       </td><td>0     </td><td>0.0  </td><td>0.13116207718849182</td><td>-1          </td><td>5              </td><td>1              </td><td>1         </td><td>29.979246139526367 </td><td>0.02713673934340477 </td><td>1           </td><td>1946.7774658203125</td><td>0.0       </td><td>21             </td><td>3.0                     </td><td>2019-06-23 17:41:49.186370</td><td>3      </td><td>gt3r   </td><td>447220.92165426933</td><td>-1108900.846272008 </td><td>276213390092</td><td>9        </td><td>3112144323242341141</td><td>31121443</td><td>False   </td><td>311214432324</td><td>False      </td></tr>\n",
       "<tr><td><i style='opacity: 0.6'>865,273,101</i></td><td>1565335</td><td>-78.99469283993268</td><td>158.03554127839766 </td><td>0.007498532999306917 </td><td>-0.0022711576893925667</td><td>0.0016771184746176004</td><td>1279.994873046875  </td><td>0.026095101609826088</td><td>0       </td><td>0     </td><td>0.0  </td><td>0.0632103830575943 </td><td>-1          </td><td>5              </td><td>1              </td><td>1         </td><td>29.979246139526367 </td><td>0.02713664434850216 </td><td>1           </td><td>1209.9652099609375</td><td>0.0       </td><td>24             </td><td>3.0                     </td><td>2019-06-23 17:41:49.189189</td><td>3      </td><td>gt3r   </td><td>447231.6357510542 </td><td>-1108917.115896332 </td><td>276213390094</td><td>9        </td><td>3112144323242341143</td><td>31121443</td><td>False   </td><td>311214432324</td><td>False      </td></tr>\n",
       "<tr><td><i style='opacity: 0.6'>865,273,102</i></td><td>1565336</td><td>-78.99451809314117</td><td>158.03535733441748 </td><td>0.008078711107373238 </td><td>9.721379319671541e-05 </td><td>0.0028819788713008165</td><td>1279.9814453125    </td><td>0.05285322666168213 </td><td>0       </td><td>0     </td><td>0.0  </td><td>0.14162179827690125</td><td>-1          </td><td>5              </td><td>1              </td><td>1         </td><td>29.979246139526367 </td><td>0.02713654935359955 </td><td>1           </td><td>177.30709838867188</td><td>0.0       </td><td>21             </td><td>3.0                     </td><td>2019-06-23 17:41:49.192016</td><td>3      </td><td>gt3r   </td><td>447242.3393336775 </td><td>-1108933.3922961077</td><td>276213390095</td><td>9        </td><td>3112144323242341144</td><td>31121443</td><td>False   </td><td>311214432324</td><td>False      </td></tr>\n",
       "<tr><td><i style='opacity: 0.6'>865,273,103</i></td><td>1565337</td><td>-78.99434332581431</td><td>158.0351739227819  </td><td>0.007572057191282511 </td><td>0.0048851147294044495 </td><td>0.003790514310821891 </td><td>1280.065673828125  </td><td>0.1621844470500946  </td><td>0       </td><td>0     </td><td>0.0  </td><td>0.16623833775520325</td><td>-1          </td><td>5              </td><td>1              </td><td>1         </td><td>29.979246139526367 </td><td>0.027136454358696938</td><td>1           </td><td>-601.5515747070312</td><td>0.0       </td><td>12             </td><td>3.0                     </td><td>2019-06-23 17:41:49.194850</td><td>3      </td><td>gt3r   </td><td>447253.033563472  </td><td>-1108949.6748805325</td><td>276213390106</td><td>9        </td><td>3112144323242341233</td><td>31121443</td><td>False   </td><td>311214432324</td><td>False      </td></tr>\n",
       "</tbody>\n",
       "</table>"
      ],
      "text/plain": [
       "#            id       lat                 lon                  slope_y                slope_x                 slope_x_sigma          h_li                 s_li                  q_flag    s_fg    snr    h_rb                 bsnow_conf    cloud_flg_asr    cloud_flg_atm    msw_flag    fbsnow_h             bsnow_od              layer_flag    bckgrd              e_bckgrd    n_fit_photons    w_surface_window_final    t_year                      cycle    track    x                   y                    normed        parents    midx                 midx7     basin2    midx11        basin2_11\n",
       "0            1443587  -79.00604150693235  176.34489505559952   0.0034970236010849476  0.045052722096443176    0.0008298112079501152  -19.586994171142578  0.012193245813250542  0         0       0.0    0.1700313538312912   -1            2                1                3           29.979246139526367   0.26861944794654846   1             28285.419921875     0.0         522              3.0                       2019-03-29 07:13:52.971019  3        gt1l     76147.62450344954   -1192036.1950727522  276297080856  9          3112221322343111231  31122213  False     311222132234  False\n",
       "1            1443588  -79.00621643747844  176.34471657932238   0.004264393355697393   0.05056241527199745     0.0008830373408272862  -18.607820510864258  0.012879230082035065  0         0       0.0    0.18802492320537567  -1            2                1                3           29.979246139526367   0.2682749032974243    1             25933.798828125     0.0         541              3.0                       2019-03-29 07:13:52.973831  3        gt1l     76150.11884253839   -1192016.878556122   276297080845  9          3112221322343111142  31122213  False     311222132234  False\n",
       "2            1443604  -79.00598340764218  -128.34968452426844  0.0011884707491844893  -0.008782525546848774   0.0012873366940766573  1393.30810546875     0.022358529269695282  0         0       0.0    0.16403409838676453  -1            4                1                2           -15.545355796813965  0.025605319067835808  1             29848.724609375     0.0         134              3.0                       2019-06-16 23:44:16.580875  3        gt1l     -936751.2677578111  -741121.435694096    276629650456  10         4112331233224411231  41123312  False     411233123322  False\n",
       "3            1443605  -79.0061584310981   -128.34986074738637  0.0014111476484686136  -0.0077179535292088985  0.0013354523107409477  1393.1937255859375   0.02100951410830021   0         0       0.0    0.17921173572540283  -1            4                1                2           -13.435805320739746  0.025563444942235947  1             32934.61328125      0.0         141              3.0                       2019-06-16 23:44:16.583689  3        gt1l     -936733.9871437278  -741112.4484165515   276629650456  10         4112331233224411231  41123312  False     411233123322  False\n",
       "4            1443606  -79.00633341593905  -128.35003802228633  0.0012659610947594047  -0.0070463260635733604  0.0011699371971189976  1393.045166015625    0.027471376582980156  0         0       0.0    0.17215631902217865  -1            4                1                2           -11.32924747467041   0.02552163042128086   1             35919.10546875      0.0         148              3.0                       2019-06-16 23:44:16.586500  3        gt1l     -936716.6963032028  -741103.4808569406   276629650439  10         4112331233224411124  41123312  False     411233123322  False\n",
       "...          ...      ...                 ...                  ...                    ...                     ...                    ...                  ...                   ...       ...     ...    ...                  ...           ...              ...              ...         ...                  ...                   ...           ...                 ...         ...              ...                       ...                         ...      ...      ...                 ...                  ...           ...        ...                  ...       ...       ...           ...\n",
       "865,273,099  1565333  -78.99504226798936  158.03591094289823   0.007495594210922718   0.0078804399818182      0.002683431375771761   1279.90234375        0.05482017993927002   0         0       0.0    0.15907801687717438  -1            5                1                1           29.979246139526367   0.02713683247566223   1             2268.45654296875    0.0         21               3.0                       2019-06-23 17:41:49.183559  3        gt3r     447210.19721519714  -1108884.5834480259  276213390089  9          3112144323242341132  31121443  False     311214432324  False\n",
       "865,273,100  1565334  -78.99486756514892  158.03572581694618   0.006783090066164732   0.012846322730183601    0.0031797189731150866  1280.02392578125     0.05916494503617287   0         0       0.0    0.13116207718849182  -1            5                1                1           29.979246139526367   0.02713673934340477   1             1946.7774658203125  0.0         21               3.0                       2019-06-23 17:41:49.186370  3        gt3r     447220.92165426933  -1108900.846272008   276213390092  9          3112144323242341141  31121443  False     311214432324  False\n",
       "865,273,101  1565335  -78.99469283993268  158.03554127839766   0.007498532999306917   -0.0022711576893925667  0.0016771184746176004  1279.994873046875    0.026095101609826088  0         0       0.0    0.0632103830575943   -1            5                1                1           29.979246139526367   0.02713664434850216   1             1209.9652099609375  0.0         24               3.0                       2019-06-23 17:41:49.189189  3        gt3r     447231.6357510542   -1108917.115896332   276213390094  9          3112144323242341143  31121443  False     311214432324  False\n",
       "865,273,102  1565336  -78.99451809314117  158.03535733441748   0.008078711107373238   9.721379319671541e-05   0.0028819788713008165  1279.9814453125      0.05285322666168213   0         0       0.0    0.14162179827690125  -1            5                1                1           29.979246139526367   0.02713654935359955   1             177.30709838867188  0.0         21               3.0                       2019-06-23 17:41:49.192016  3        gt3r     447242.3393336775   -1108933.3922961077  276213390095  9          3112144323242341144  31121443  False     311214432324  False\n",
       "865,273,103  1565337  -78.99434332581431  158.0351739227819    0.007572057191282511   0.0048851147294044495   0.003790514310821891   1280.065673828125    0.1621844470500946    0         0       0.0    0.16623833775520325  -1            5                1                1           29.979246139526367   0.027136454358696938  1             -601.5515747070312  0.0         12               3.0                       2019-06-23 17:41:49.194850  3        gt3r     447253.033563472    -1108949.6748805325  276213390106  9          3112144323242341233  31121443  False     311214432324  False"
      ]
     },
     "execution_count": 57,
     "metadata": {},
     "output_type": "execute_result"
    }
   ],
   "source": [
    "df"
   ]
  },
  {
   "cell_type": "code",
   "execution_count": 54,
   "id": "dc34975e-c139-45bb-900f-66ef4efe8ec4",
   "metadata": {},
   "outputs": [
    {
     "data": {
      "text/plain": [
       "array([411113113133, 411113113133, 411113113133, ..., 311112112114,\n",
       "       311112112121, 311112112122])"
      ]
     },
     "execution_count": 54,
     "metadata": {},
     "output_type": "execute_result"
    }
   ],
   "source": [
    "mortons"
   ]
  },
  {
   "cell_type": "code",
   "execution_count": 27,
   "id": "7a9a8995-20a7-42db-a545-66799a9baff9",
   "metadata": {},
   "outputs": [],
   "source": [
    "df['midx'] = df.apply(VaexNorm2Mort, arguments=[df.normed, df.parents], vectorize=True)"
   ]
  },
  {
   "cell_type": "code",
   "execution_count": 40,
   "id": "3d6493a1-e579-404c-a3f9-c1250610bdcb",
   "metadata": {},
   "outputs": [],
   "source": [
    "midx = df.midx.as_numpy().values"
   ]
  },
  {
   "cell_type": "code",
   "execution_count": 55,
   "id": "76111801-860b-4abe-a55b-573d66549683",
   "metadata": {},
   "outputs": [],
   "source": [
    "df['midx11'] = df.midx // 10**7"
   ]
  },
  {
   "cell_type": "code",
   "execution_count": 62,
   "id": "eda81987-774a-428e-aeac-2eb52b6aa6be",
   "metadata": {},
   "outputs": [],
   "source": [
    "midx7 = df.midx7.as_numpy().values"
   ]
  },
  {
   "cell_type": "code",
   "execution_count": 56,
   "id": "2f094fef-256f-4514-8f86-a2bfde5b0df7",
   "metadata": {},
   "outputs": [],
   "source": [
    "df['basin2_11'] = df.midx11.isin(mortons)"
   ]
  },
  {
   "cell_type": "code",
   "execution_count": 40,
   "id": "3e0572aa-8b3e-453f-9299-7e653d6c2edf",
   "metadata": {},
   "outputs": [],
   "source": [
    "df['basin2'] = df.midx7.isin(mortons)"
   ]
  },
  {
   "cell_type": "code",
   "execution_count": 45,
   "id": "11240175-750a-4682-8560-874335bf25cd",
   "metadata": {},
   "outputs": [],
   "source": [
    "b2idx = df.basin2.as_numpy().values"
   ]
  },
  {
   "cell_type": "code",
   "execution_count": 47,
   "id": "9b64b3c0-4d8a-4ac2-a51d-895618bb69a8",
   "metadata": {},
   "outputs": [
    {
     "data": {
      "text/plain": [
       "84182383"
      ]
     },
     "execution_count": 47,
     "metadata": {},
     "output_type": "execute_result"
    }
   ],
   "source": [
    "np.sum(b2idx)"
   ]
  },
  {
   "cell_type": "code",
   "execution_count": null,
   "id": "51244372-24a3-47d3-bf13-4c080e9877c3",
   "metadata": {},
   "outputs": [],
   "source": [
    "testSel = np.isin()"
   ]
  },
  {
   "cell_type": "code",
   "execution_count": 73,
   "id": "db5822e5-7e01-4ba6-87bb-e14d8d668c91",
   "metadata": {},
   "outputs": [
    {
     "data": {
      "text/plain": [
       "array([False, False, False, ..., False, False, False])"
      ]
     },
     "execution_count": 73,
     "metadata": {},
     "output_type": "execute_result"
    }
   ],
   "source": [
    "np.isin(mortons,midx7[:5000])"
   ]
  },
  {
   "cell_type": "code",
   "execution_count": 74,
   "id": "82d89adc-2518-41f0-be9b-91580780314a",
   "metadata": {},
   "outputs": [],
   "source": [
    "x1 = np.array(range(0,100))\n",
    "x2 = np.array([3,6,6,7,40,1000])"
   ]
  },
  {
   "cell_type": "code",
   "execution_count": 75,
   "id": "0acab0d4-38e9-4701-aa43-cdcc02467762",
   "metadata": {},
   "outputs": [
    {
     "data": {
      "text/plain": [
       "array([False, False, False,  True, False, False,  True,  True, False,\n",
       "       False, False, False, False, False, False, False, False, False,\n",
       "       False, False, False, False, False, False, False, False, False,\n",
       "       False, False, False, False, False, False, False, False, False,\n",
       "       False, False, False, False,  True, False, False, False, False,\n",
       "       False, False, False, False, False, False, False, False, False,\n",
       "       False, False, False, False, False, False, False, False, False,\n",
       "       False, False, False, False, False, False, False, False, False,\n",
       "       False, False, False, False, False, False, False, False, False,\n",
       "       False, False, False, False, False, False, False, False, False,\n",
       "       False, False, False, False, False, False, False, False, False,\n",
       "       False])"
      ]
     },
     "execution_count": 75,
     "metadata": {},
     "output_type": "execute_result"
    }
   ],
   "source": [
    "np.isin(x1, x2)"
   ]
  },
  {
   "cell_type": "code",
   "execution_count": 66,
   "id": "318e8743-6743-41f7-82d0-226dc69f7f4f",
   "metadata": {},
   "outputs": [
    {
     "data": {
      "text/plain": [
       "array([41111311, 41111311, 41111311, ..., 31111211, 31111211, 31111211])"
      ]
     },
     "execution_count": 66,
     "metadata": {},
     "output_type": "execute_result"
    }
   ],
   "source": [
    "mortons"
   ]
  },
  {
   "cell_type": "code",
   "execution_count": 63,
   "id": "4da3cdea-2e93-4666-acea-dcc6b028d22b",
   "metadata": {},
   "outputs": [
    {
     "data": {
      "text/plain": [
       "(41111311, 31122213)"
      ]
     },
     "execution_count": 63,
     "metadata": {},
     "output_type": "execute_result"
    }
   ],
   "source": [
    "mortons[0], midx7[0]"
   ]
  },
  {
   "cell_type": "code",
   "execution_count": 53,
   "id": "5dd7e26e-f58a-435d-a851-d702f53ad4ad",
   "metadata": {},
   "outputs": [
    {
     "data": {
      "text/html": [
       "<table>\n",
       "<thead>\n",
       "<tr><th>#                                      </th><th>id     </th><th>lat               </th><th>lon                </th><th>slope_y              </th><th>slope_x               </th><th>slope_x_sigma        </th><th>h_li               </th><th>s_li                </th><th>q_flag  </th><th>s_fg  </th><th>snr  </th><th>h_rb               </th><th>bsnow_conf  </th><th>cloud_flg_asr  </th><th>cloud_flg_atm  </th><th>msw_flag  </th><th>fbsnow_h           </th><th>bsnow_od            </th><th>layer_flag  </th><th>bckgrd            </th><th>e_bckgrd  </th><th>n_fit_photons  </th><th>w_surface_window_final  </th><th>t_year                    </th><th>cycle  </th><th>track  </th><th>x                 </th><th>y                  </th><th>normed      </th><th>parents  </th><th>midx               </th><th>midx7   </th></tr>\n",
       "</thead>\n",
       "<tbody>\n",
       "<tr><td><i style='opacity: 0.6'>0</i>          </td><td>1443587</td><td>-79.00604150693235</td><td>176.34489505559952 </td><td>0.0034970236010849476</td><td>0.045052722096443176  </td><td>0.0008298112079501152</td><td>-19.586994171142578</td><td>0.012193245813250542</td><td>0       </td><td>0     </td><td>0.0  </td><td>0.1700313538312912 </td><td>-1          </td><td>2              </td><td>1              </td><td>3         </td><td>29.979246139526367 </td><td>0.26861944794654846 </td><td>1           </td><td>28285.419921875   </td><td>0.0       </td><td>522            </td><td>3.0                     </td><td>2019-03-29 07:13:52.971019</td><td>3      </td><td>gt1l   </td><td>76147.62450344954 </td><td>-1192036.1950727522</td><td>276297080856</td><td>9        </td><td>3112221322343111231</td><td>31122213</td></tr>\n",
       "<tr><td><i style='opacity: 0.6'>1</i>          </td><td>1443588</td><td>-79.00621643747844</td><td>176.34471657932238 </td><td>0.004264393355697393 </td><td>0.05056241527199745   </td><td>0.0008830373408272862</td><td>-18.607820510864258</td><td>0.012879230082035065</td><td>0       </td><td>0     </td><td>0.0  </td><td>0.18802492320537567</td><td>-1          </td><td>2              </td><td>1              </td><td>3         </td><td>29.979246139526367 </td><td>0.2682749032974243  </td><td>1           </td><td>25933.798828125   </td><td>0.0       </td><td>541            </td><td>3.0                     </td><td>2019-03-29 07:13:52.973831</td><td>3      </td><td>gt1l   </td><td>76150.11884253839 </td><td>-1192016.878556122 </td><td>276297080845</td><td>9        </td><td>3112221322343111142</td><td>31122213</td></tr>\n",
       "<tr><td><i style='opacity: 0.6'>2</i>          </td><td>1443604</td><td>-79.00598340764218</td><td>-128.34968452426844</td><td>0.0011884707491844893</td><td>-0.008782525546848774 </td><td>0.0012873366940766573</td><td>1393.30810546875   </td><td>0.022358529269695282</td><td>0       </td><td>0     </td><td>0.0  </td><td>0.16403409838676453</td><td>-1          </td><td>4              </td><td>1              </td><td>2         </td><td>-15.545355796813965</td><td>0.025605319067835808</td><td>1           </td><td>29848.724609375   </td><td>0.0       </td><td>134            </td><td>3.0                     </td><td>2019-06-16 23:44:16.580875</td><td>3      </td><td>gt1l   </td><td>-936751.2677578111</td><td>-741121.435694096  </td><td>276629650456</td><td>10       </td><td>4112331233224411231</td><td>41123312</td></tr>\n",
       "<tr><td><i style='opacity: 0.6'>3</i>          </td><td>1443605</td><td>-79.0061584310981 </td><td>-128.34986074738637</td><td>0.0014111476484686136</td><td>-0.0077179535292088985</td><td>0.0013354523107409477</td><td>1393.1937255859375 </td><td>0.02100951410830021 </td><td>0       </td><td>0     </td><td>0.0  </td><td>0.17921173572540283</td><td>-1          </td><td>4              </td><td>1              </td><td>2         </td><td>-13.435805320739746</td><td>0.025563444942235947</td><td>1           </td><td>32934.61328125    </td><td>0.0       </td><td>141            </td><td>3.0                     </td><td>2019-06-16 23:44:16.583689</td><td>3      </td><td>gt1l   </td><td>-936733.9871437278</td><td>-741112.4484165515 </td><td>276629650456</td><td>10       </td><td>4112331233224411231</td><td>41123312</td></tr>\n",
       "<tr><td><i style='opacity: 0.6'>4</i>          </td><td>1443606</td><td>-79.00633341593905</td><td>-128.35003802228633</td><td>0.0012659610947594047</td><td>-0.0070463260635733604</td><td>0.0011699371971189976</td><td>1393.045166015625  </td><td>0.027471376582980156</td><td>0       </td><td>0     </td><td>0.0  </td><td>0.17215631902217865</td><td>-1          </td><td>4              </td><td>1              </td><td>2         </td><td>-11.32924747467041 </td><td>0.02552163042128086 </td><td>1           </td><td>35919.10546875    </td><td>0.0       </td><td>148            </td><td>3.0                     </td><td>2019-06-16 23:44:16.586500</td><td>3      </td><td>gt1l   </td><td>-936716.6963032028</td><td>-741103.4808569406 </td><td>276629650439</td><td>10       </td><td>4112331233224411124</td><td>41123312</td></tr>\n",
       "<tr><td>...                                    </td><td>...    </td><td>...               </td><td>...                </td><td>...                  </td><td>...                   </td><td>...                  </td><td>...                </td><td>...                 </td><td>...     </td><td>...   </td><td>...  </td><td>...                </td><td>...         </td><td>...            </td><td>...            </td><td>...       </td><td>...                </td><td>...                 </td><td>...         </td><td>...               </td><td>...       </td><td>...            </td><td>...                     </td><td>...                       </td><td>...    </td><td>...    </td><td>...               </td><td>...                </td><td>...         </td><td>...      </td><td>...                </td><td>...     </td></tr>\n",
       "<tr><td><i style='opacity: 0.6'>865,273,099</i></td><td>1565333</td><td>-78.99504226798936</td><td>158.03591094289823 </td><td>0.007495594210922718 </td><td>0.0078804399818182    </td><td>0.002683431375771761 </td><td>1279.90234375      </td><td>0.05482017993927002 </td><td>0       </td><td>0     </td><td>0.0  </td><td>0.15907801687717438</td><td>-1          </td><td>5              </td><td>1              </td><td>1         </td><td>29.979246139526367 </td><td>0.02713683247566223 </td><td>1           </td><td>2268.45654296875  </td><td>0.0       </td><td>21             </td><td>3.0                     </td><td>2019-06-23 17:41:49.183559</td><td>3      </td><td>gt3r   </td><td>447210.19721519714</td><td>-1108884.5834480259</td><td>276213390089</td><td>9        </td><td>3112144323242341132</td><td>31121443</td></tr>\n",
       "<tr><td><i style='opacity: 0.6'>865,273,100</i></td><td>1565334</td><td>-78.99486756514892</td><td>158.03572581694618 </td><td>0.006783090066164732 </td><td>0.012846322730183601  </td><td>0.0031797189731150866</td><td>1280.02392578125   </td><td>0.05916494503617287 </td><td>0       </td><td>0     </td><td>0.0  </td><td>0.13116207718849182</td><td>-1          </td><td>5              </td><td>1              </td><td>1         </td><td>29.979246139526367 </td><td>0.02713673934340477 </td><td>1           </td><td>1946.7774658203125</td><td>0.0       </td><td>21             </td><td>3.0                     </td><td>2019-06-23 17:41:49.186370</td><td>3      </td><td>gt3r   </td><td>447220.92165426933</td><td>-1108900.846272008 </td><td>276213390092</td><td>9        </td><td>3112144323242341141</td><td>31121443</td></tr>\n",
       "<tr><td><i style='opacity: 0.6'>865,273,101</i></td><td>1565335</td><td>-78.99469283993268</td><td>158.03554127839766 </td><td>0.007498532999306917 </td><td>-0.0022711576893925667</td><td>0.0016771184746176004</td><td>1279.994873046875  </td><td>0.026095101609826088</td><td>0       </td><td>0     </td><td>0.0  </td><td>0.0632103830575943 </td><td>-1          </td><td>5              </td><td>1              </td><td>1         </td><td>29.979246139526367 </td><td>0.02713664434850216 </td><td>1           </td><td>1209.9652099609375</td><td>0.0       </td><td>24             </td><td>3.0                     </td><td>2019-06-23 17:41:49.189189</td><td>3      </td><td>gt3r   </td><td>447231.6357510542 </td><td>-1108917.115896332 </td><td>276213390094</td><td>9        </td><td>3112144323242341143</td><td>31121443</td></tr>\n",
       "<tr><td><i style='opacity: 0.6'>865,273,102</i></td><td>1565336</td><td>-78.99451809314117</td><td>158.03535733441748 </td><td>0.008078711107373238 </td><td>9.721379319671541e-05 </td><td>0.0028819788713008165</td><td>1279.9814453125    </td><td>0.05285322666168213 </td><td>0       </td><td>0     </td><td>0.0  </td><td>0.14162179827690125</td><td>-1          </td><td>5              </td><td>1              </td><td>1         </td><td>29.979246139526367 </td><td>0.02713654935359955 </td><td>1           </td><td>177.30709838867188</td><td>0.0       </td><td>21             </td><td>3.0                     </td><td>2019-06-23 17:41:49.192016</td><td>3      </td><td>gt3r   </td><td>447242.3393336775 </td><td>-1108933.3922961077</td><td>276213390095</td><td>9        </td><td>3112144323242341144</td><td>31121443</td></tr>\n",
       "<tr><td><i style='opacity: 0.6'>865,273,103</i></td><td>1565337</td><td>-78.99434332581431</td><td>158.0351739227819  </td><td>0.007572057191282511 </td><td>0.0048851147294044495 </td><td>0.003790514310821891 </td><td>1280.065673828125  </td><td>0.1621844470500946  </td><td>0       </td><td>0     </td><td>0.0  </td><td>0.16623833775520325</td><td>-1          </td><td>5              </td><td>1              </td><td>1         </td><td>29.979246139526367 </td><td>0.027136454358696938</td><td>1           </td><td>-601.5515747070312</td><td>0.0       </td><td>12             </td><td>3.0                     </td><td>2019-06-23 17:41:49.194850</td><td>3      </td><td>gt3r   </td><td>447253.033563472  </td><td>-1108949.6748805325</td><td>276213390106</td><td>9        </td><td>3112144323242341233</td><td>31121443</td></tr>\n",
       "</tbody>\n",
       "</table>"
      ],
      "text/plain": [
       "#            id       lat                 lon                  slope_y                slope_x                 slope_x_sigma          h_li                 s_li                  q_flag    s_fg    snr    h_rb                 bsnow_conf    cloud_flg_asr    cloud_flg_atm    msw_flag    fbsnow_h             bsnow_od              layer_flag    bckgrd              e_bckgrd    n_fit_photons    w_surface_window_final    t_year                      cycle    track    x                   y                    normed        parents    midx                 midx7\n",
       "0            1443587  -79.00604150693235  176.34489505559952   0.0034970236010849476  0.045052722096443176    0.0008298112079501152  -19.586994171142578  0.012193245813250542  0         0       0.0    0.1700313538312912   -1            2                1                3           29.979246139526367   0.26861944794654846   1             28285.419921875     0.0         522              3.0                       2019-03-29 07:13:52.971019  3        gt1l     76147.62450344954   -1192036.1950727522  276297080856  9          3112221322343111231  31122213\n",
       "1            1443588  -79.00621643747844  176.34471657932238   0.004264393355697393   0.05056241527199745     0.0008830373408272862  -18.607820510864258  0.012879230082035065  0         0       0.0    0.18802492320537567  -1            2                1                3           29.979246139526367   0.2682749032974243    1             25933.798828125     0.0         541              3.0                       2019-03-29 07:13:52.973831  3        gt1l     76150.11884253839   -1192016.878556122   276297080845  9          3112221322343111142  31122213\n",
       "2            1443604  -79.00598340764218  -128.34968452426844  0.0011884707491844893  -0.008782525546848774   0.0012873366940766573  1393.30810546875     0.022358529269695282  0         0       0.0    0.16403409838676453  -1            4                1                2           -15.545355796813965  0.025605319067835808  1             29848.724609375     0.0         134              3.0                       2019-06-16 23:44:16.580875  3        gt1l     -936751.2677578111  -741121.435694096    276629650456  10         4112331233224411231  41123312\n",
       "3            1443605  -79.0061584310981   -128.34986074738637  0.0014111476484686136  -0.0077179535292088985  0.0013354523107409477  1393.1937255859375   0.02100951410830021   0         0       0.0    0.17921173572540283  -1            4                1                2           -13.435805320739746  0.025563444942235947  1             32934.61328125      0.0         141              3.0                       2019-06-16 23:44:16.583689  3        gt1l     -936733.9871437278  -741112.4484165515   276629650456  10         4112331233224411231  41123312\n",
       "4            1443606  -79.00633341593905  -128.35003802228633  0.0012659610947594047  -0.0070463260635733604  0.0011699371971189976  1393.045166015625    0.027471376582980156  0         0       0.0    0.17215631902217865  -1            4                1                2           -11.32924747467041   0.02552163042128086   1             35919.10546875      0.0         148              3.0                       2019-06-16 23:44:16.586500  3        gt1l     -936716.6963032028  -741103.4808569406   276629650439  10         4112331233224411124  41123312\n",
       "...          ...      ...                 ...                  ...                    ...                     ...                    ...                  ...                   ...       ...     ...    ...                  ...           ...              ...              ...         ...                  ...                   ...           ...                 ...         ...              ...                       ...                         ...      ...      ...                 ...                  ...           ...        ...                  ...\n",
       "865,273,099  1565333  -78.99504226798936  158.03591094289823   0.007495594210922718   0.0078804399818182      0.002683431375771761   1279.90234375        0.05482017993927002   0         0       0.0    0.15907801687717438  -1            5                1                1           29.979246139526367   0.02713683247566223   1             2268.45654296875    0.0         21               3.0                       2019-06-23 17:41:49.183559  3        gt3r     447210.19721519714  -1108884.5834480259  276213390089  9          3112144323242341132  31121443\n",
       "865,273,100  1565334  -78.99486756514892  158.03572581694618   0.006783090066164732   0.012846322730183601    0.0031797189731150866  1280.02392578125     0.05916494503617287   0         0       0.0    0.13116207718849182  -1            5                1                1           29.979246139526367   0.02713673934340477   1             1946.7774658203125  0.0         21               3.0                       2019-06-23 17:41:49.186370  3        gt3r     447220.92165426933  -1108900.846272008   276213390092  9          3112144323242341141  31121443\n",
       "865,273,101  1565335  -78.99469283993268  158.03554127839766   0.007498532999306917   -0.0022711576893925667  0.0016771184746176004  1279.994873046875    0.026095101609826088  0         0       0.0    0.0632103830575943   -1            5                1                1           29.979246139526367   0.02713664434850216   1             1209.9652099609375  0.0         24               3.0                       2019-06-23 17:41:49.189189  3        gt3r     447231.6357510542   -1108917.115896332   276213390094  9          3112144323242341143  31121443\n",
       "865,273,102  1565336  -78.99451809314117  158.03535733441748   0.008078711107373238   9.721379319671541e-05   0.0028819788713008165  1279.9814453125      0.05285322666168213   0         0       0.0    0.14162179827690125  -1            5                1                1           29.979246139526367   0.02713654935359955   1             177.30709838867188  0.0         21               3.0                       2019-06-23 17:41:49.192016  3        gt3r     447242.3393336775   -1108933.3922961077  276213390095  9          3112144323242341144  31121443\n",
       "865,273,103  1565337  -78.99434332581431  158.0351739227819    0.007572057191282511   0.0048851147294044495   0.003790514310821891   1280.065673828125    0.1621844470500946    0         0       0.0    0.16623833775520325  -1            5                1                1           29.979246139526367   0.027136454358696938  1             -601.5515747070312  0.0         12               3.0                       2019-06-23 17:41:49.194850  3        gt3r     447253.033563472    -1108949.6748805325  276213390106  9          3112144323242341233  31121443"
      ]
     },
     "execution_count": 53,
     "metadata": {},
     "output_type": "execute_result"
    }
   ],
   "source": [
    "df.midx7.where()"
   ]
  },
  {
   "cell_type": "code",
   "execution_count": null,
   "id": "039f8a64-f77d-4247-9ec8-784030e0e1bd",
   "metadata": {},
   "outputs": [],
   "source": [
    "del(df['normed'])\n",
    "del(df['parents'])\n",
    "\n",
    "df['midx'] = midx"
   ]
  },
  {
   "cell_type": "code",
   "execution_count": null,
   "id": "35b03ce4-81b7-43f6-81ab-28af68b6c1b1",
   "metadata": {},
   "outputs": [],
   "source": [
    "df"
   ]
  },
  {
   "cell_type": "code",
   "execution_count": null,
   "id": "7f72a34b-4324-4d12-9afe-e8e8afd770fc",
   "metadata": {},
   "outputs": [],
   "source": [
    "tessGrid = np.zeros_like(midx, dtype=np.int64)\n",
    "\n",
    "for i, row in enummerate(midx):\n",
    "    tessGrid[i] = np.int64(row.as_type(str)[:7])\n",
    "\n",
    "tessSet = np.unique(tessGrid)"
   ]
  },
  {
   "cell_type": "code",
   "execution_count": null,
   "id": "62095720-88c4-4f3b-89ce-681a9dfb99a2",
   "metadata": {},
   "outputs": [],
   "source": [
    "for cell in tessSet:\n",
    "    "
   ]
  },
  {
   "cell_type": "code",
   "execution_count": null,
   "id": "d74ee75c-b65c-45bd-86fe-81321414813f",
   "metadata": {},
   "outputs": [],
   "source": [
    "#%%timeit\n",
    "# uniq requires nest order\n",
    "order = 18\n",
    "uniq = mh.nest2uniq(2**order,mh.hp.ang2pix(2**order,b2.Lon.values, b2.Lat.values, lonlat=True, nest=True))\n",
    "parents = unique2parent(uniq)\n",
    "normed = heal_norm(parents,order, uniq)\n",
    "# norm2morton is slow...\n",
    "# faster way is to just call it on the unique members of normed, and then cast that\n",
    "mortons = norm2morton(order,normed.ravel(), parents.ravel())"
   ]
  },
  {
   "cell_type": "code",
   "execution_count": null,
   "id": "fe3ba010-a1b8-46ac-9490-ee368d3a690e",
   "metadata": {},
   "outputs": [],
   "source": [
    "#counts = df.healpix_count(healpix_expression='nest', healpix_level=18)"
   ]
  },
  {
   "cell_type": "code",
   "execution_count": 32,
   "id": "25cd80ff-063f-419e-942d-fbc16ae20d42",
   "metadata": {},
   "outputs": [],
   "source": [
    "# Set static resolution... order \n",
    "nside = 2**6\n",
    "\n",
    "# Convert locations to healpix\n",
    "#healidx = df.apply(mh.hp.ang2pix, arguments=[str(nside), df.lon, df.lat, 'False', 'True'])\n",
    "healidx = mh.hp.ang2pix(nside,df.lon.as_numpy().values, df.lat.as_numpy().values, lonlat=True) #, nest=True)\n",
    "#test = mh.containers.HealpixMap(uniq=mh.nest2uniq(nside=2**13, ipix=healidx.ravel()))\n",
    "# Static map\n",
    "#test = mh.containers.HealpixMap(nside=nside)"
   ]
  },
  {
   "cell_type": "code",
   "execution_count": 33,
   "id": "e826c9c2-6400-405b-bc4b-5fcea5aef0d9",
   "metadata": {},
   "outputs": [
    {
     "data": {
      "text/plain": [
       "540"
      ]
     },
     "execution_count": 33,
     "metadata": {},
     "output_type": "execute_result"
    }
   ],
   "source": [
    "uhealpix = np.unique(healidx)\n",
    "len(uhealpix)"
   ]
  },
  {
   "cell_type": "code",
   "execution_count": null,
   "id": "910c60c8-1e6a-4b13-a61f-56447e1d262d",
   "metadata": {},
   "outputs": [],
   "source": [
    "91000/540"
   ]
  },
  {
   "cell_type": "code",
   "execution_count": null,
   "id": "a0537115-46d8-4cf5-8c78-594527df25ae",
   "metadata": {},
   "outputs": [],
   "source": [
    "168.5* 60"
   ]
  },
  {
   "cell_type": "code",
   "execution_count": 34,
   "id": "41a8e9ca-e5c2-40de-a760-daa3db7086ed",
   "metadata": {},
   "outputs": [
    {
     "name": "stderr",
     "output_type": "stream",
     "text": [
      "/nix/store/5kld536dkk8cmfy3wk8xkrdg1yzmh7h5-python3-3.8.9-env/lib/python3.8/site-packages/numpy/lib/nanfunctions.py:1113: RuntimeWarning: All-NaN slice encountered\n",
      "  r, k = function_base._ureduce(a, func=_nanmedian, axis=axis, out=out,\n",
      "/nix/store/5kld536dkk8cmfy3wk8xkrdg1yzmh7h5-python3-3.8.9-env/lib/python3.8/site-packages/numpy/lib/nanfunctions.py:1113: RuntimeWarning: All-NaN slice encountered\n",
      "  r, k = function_base._ureduce(a, func=_nanmedian, axis=axis, out=out,\n",
      "/nix/store/5kld536dkk8cmfy3wk8xkrdg1yzmh7h5-python3-3.8.9-env/lib/python3.8/site-packages/numpy/lib/nanfunctions.py:1113: RuntimeWarning: All-NaN slice encountered\n",
      "  r, k = function_base._ureduce(a, func=_nanmedian, axis=axis, out=out,\n",
      "/nix/store/5kld536dkk8cmfy3wk8xkrdg1yzmh7h5-python3-3.8.9-env/lib/python3.8/site-packages/numpy/lib/nanfunctions.py:1113: RuntimeWarning: All-NaN slice encountered\n",
      "  r, k = function_base._ureduce(a, func=_nanmedian, axis=axis, out=out,\n"
     ]
    },
    {
     "data": {
      "text/plain": [
       "([<matplotlib.lines.Line2D at 0x7f5ccb698e50>],\n",
       " <healpy.projector.GnomonicProj at 0x7f5d603afc40>)"
      ]
     },
     "execution_count": 34,
     "metadata": {},
     "output_type": "execute_result"
    },
    {
     "data": {
      "image/png": "[encoded data removed]",
      "text/plain": [
       "<Figure size 432x288 with 1 Axes>"
      ]
     },
     "metadata": {
      "needs_background": "light"
     },
     "output_type": "display_data"
    }
   ],
   "source": [
    "test = mh.containers.HealpixMap(nside=nside)\n",
    "# Multilevel map, from static map\n",
    "mtest = test.moc_from_pixels(nside=nside, pixels=uhealpix.ravel() )\n",
    "mtest.plot_grid(proj='gnom',rot=[0,-90],ysize=1200, xsize=1200)"
   ]
  },
  {
   "cell_type": "code",
   "execution_count": 33,
   "id": "1592eab9-a59b-4954-8654-1f87e502e102",
   "metadata": {},
   "outputs": [],
   "source": [
    "import pandas as pd"
   ]
  },
  {
   "cell_type": "code",
   "execution_count": 34,
   "id": "2aaba12a-e70f-4716-8860-b1efdcb55454",
   "metadata": {},
   "outputs": [],
   "source": [
    "basins = pd.read_csv('./Ant_Grounded_DrainageSystem_Polygons.txt')"
   ]
  },
  {
   "cell_type": "code",
   "execution_count": 35,
   "id": "f63cc527-d0db-4357-a6cd-03228111cce7",
   "metadata": {},
   "outputs": [],
   "source": [
    "b2 = basins[basins.basin == 2]"
   ]
  },
  {
   "cell_type": "code",
   "execution_count": 36,
   "id": "3388791c-973a-4ce2-a955-549809683790",
   "metadata": {},
   "outputs": [
    {
     "data": {
      "text/plain": [
       "<bound method NDFrame.head of                Lat        Lon  basin\n",
       "0       -74.525273 -61.122545      1\n",
       "1       -74.525435 -61.123664      1\n",
       "2       -74.525467 -61.123826      1\n",
       "3       -74.525576 -61.124567      1\n",
       "4       -74.525609 -61.124498      1\n",
       "...            ...        ...    ...\n",
       "1238996 -74.523392 -61.109736     27\n",
       "1238997 -74.523938 -61.113444     27\n",
       "1238998 -74.524484 -61.117151     27\n",
       "1238999 -74.525030 -61.120859     27\n",
       "1239000 -74.525273 -61.122545     27\n",
       "\n",
       "[1239001 rows x 3 columns]>"
      ]
     },
     "execution_count": 36,
     "metadata": {},
     "output_type": "execute_result"
    }
   ],
   "source": [
    "basins.head"
   ]
  },
  {
   "cell_type": "code",
   "execution_count": 50,
   "id": "fadd8bd1-7746-4dac-ba0b-664fd632d0ac",
   "metadata": {},
   "outputs": [
    {
     "name": "stdout",
     "output_type": "stream",
     "text": [
      "60\n"
     ]
    },
    {
     "data": {
      "image/png": "[encoded data removed]",
      "text/plain": [
       "<Figure size 417.6x460.8 with 2 Axes>"
      ]
     },
     "metadata": {
      "needs_background": "light"
     },
     "output_type": "display_data"
    }
   ],
   "source": [
    "nside = 2**6\n",
    "b2idx = mh.hp.ang2pix(nside,b2.Lon.values, b2.Lat.values, lonlat=True) \n",
    "m = np.zeros(mh.hp.nside2npix(nside))\n",
    "m[np.unique(b2idx).ravel()] += 1\n",
    "# Centered on the south pole\n",
    "mh.hp.gnomview(m, rot=[0,-90], xsize=1200, ysize=1200)# , nest=True)\n",
    "print(len(np.unique(b2idx).ravel()))"
   ]
  },
  {
   "cell_type": "code",
   "execution_count": 51,
   "id": "6455a705-9428-4a39-b6ff-6e117cd64690",
   "metadata": {},
   "outputs": [
    {
     "name": "stdout",
     "output_type": "stream",
     "text": [
      "119\n"
     ]
    },
    {
     "data": {
      "image/png": "[encoded data removed]",
      "text/plain": [
       "<Figure size 417.6x460.8 with 2 Axes>"
      ]
     },
     "metadata": {
      "needs_background": "light"
     },
     "output_type": "display_data"
    }
   ],
   "source": [
    "nside = 2**7\n",
    "b2idx = mh.hp.ang2pix(nside,b2.Lon.values, b2.Lat.values, lonlat=True) \n",
    "m = np.zeros(mh.hp.nside2npix(nside))\n",
    "m[np.unique(b2idx).ravel()] += 1\n",
    "# Centered on the south pole\n",
    "mh.hp.gnomview(m, rot=[0,-90], xsize=1200, ysize=1200)# , nest=True)\n",
    "print(len(np.unique(b2idx).ravel()))"
   ]
  },
  {
   "cell_type": "markdown",
   "id": "485298ca-40da-4217-9460-9283fe5ed4a7",
   "metadata": {},
   "source": [
    "perhaps the best way to compare is to just write out both chunk sizes to aws and check the timings? Well, to do that we'll need to setup the hierarchical naming scheme..."
   ]
  },
  {
   "cell_type": "code",
   "execution_count": 30,
   "id": "f6132aea-aca5-4252-84b5-2a0626f1a33e",
   "metadata": {},
   "outputs": [],
   "source": [
    "from numpy import r_"
   ]
  },
  {
   "cell_type": "code",
   "execution_count": 31,
   "id": "70c59f16-98e7-4366-9319-5351d23d7c56",
   "metadata": {},
   "outputs": [],
   "source": [
    "def unique2parent(unique):\n",
    "    '''\n",
    "    Assumes input is UNIQ\n",
    "    Currently only works on single resolution\n",
    "    Returns parent base cell\n",
    "    '''\n",
    "    nside = mh.uniq2nside(unique)\n",
    "    if nside.all():\n",
    "        order = int(np.log2(nside.max()))\n",
    "    unique = unique // 4**(order-1)\n",
    "    parent = (unique - 16) // 4\n",
    "    #print(order)\n",
    "    return parent\n",
    "\n",
    "def bin_rep(A,n):\n",
    "    \"\"\"\n",
    "    like np.binary_repr, except it works on arrays\n",
    "    not sure why numpy's doesn't\n",
    "    \"\"\"\n",
    "    if n in (8,16,32,64):\n",
    "        return (np.unpackbits(A.astype(f'>u{n>>3}').view(np.uint8))+ord('0')).view(f'S{n}')\n",
    "    nb = max((n-1).bit_length()-3,0)\n",
    "    return (np.unpackbits(A.astype(f'>u{1<<nb}')[...,None].view(np.uint8),axis=1)[...,-n:]+ord('0')).ravel().view(f'S{n}')\n",
    "\n",
    "def slicer(start=None, stop=None, step=1):\n",
    "    \"\"\"\n",
    "    let's you column slice on fixed width array of strings\n",
    "    \"\"\"\n",
    "    return np.vectorize(lambda x: x[start:stop:step], otypes=[str])\n",
    "\n",
    "def caster(base=2):\n",
    "    \"\"\"\n",
    "    cast from string 0/1 binary rep to int\n",
    "    \"\"\"\n",
    "    return np.vectorize(lambda x: int(x, base))\n",
    "\n",
    "def heal_norm(base, order, addr_nest):\n",
    "    N_pix = mh.hp.order2nside(order)**2\n",
    "    addr_norm = addr_nest - (base * N_pix)\n",
    "    return addr_norm\n",
    "\n",
    "\n",
    "# Old function-- slow and memory inefficient =/\n",
    "def norm2morton(order, norms, parents=None):\n",
    "    \"\"\"\n",
    "    Uses previous three functions and output from first function to\n",
    "    give morton number\n",
    "    Morton number currently doesn't encode base pixel id... \n",
    "    although it could...\n",
    "    \n",
    "    expects flat arrays\n",
    "    \"\"\"\n",
    "    res = np.zeros((len(norms),order), dtype=np.int64)\n",
    "    final = np.zeros_like(norms)\n",
    "    norms = bin_rep(norms, order*2)\n",
    "    lidx = r_[0:order*2:2]\n",
    "    for i, bit in enumerate(lidx):\n",
    "        col = slicer(bit,bit+2)(norms)\n",
    "        res[:,i] = caster()(col)\n",
    "    res = res + 1\n",
    "    res = res.astype(str)\n",
    "    for i, line in enumerate(res):\n",
    "        final[i] = ''.join(line)\n",
    "    if parents is not None:\n",
    "        parents = parents- 6\n",
    "        parents = parents * 10**(order)\n",
    "        final = final + parents\n",
    "    final = np.array(final, dtype=np.int64)\n",
    "    return final #, res, norms, lidx\n",
    "    #ridx = np.flip(r_[order:0:-2])"
   ]
  },
  {
   "cell_type": "code",
   "execution_count": 45,
   "id": "dbf1f88d-ed84-4a32-bfbf-d3859aa06968",
   "metadata": {},
   "outputs": [
    {
     "data": {
      "text/plain": [
       "(865273104, 113307)"
      ]
     },
     "execution_count": 45,
     "metadata": {},
     "output_type": "execute_result"
    }
   ],
   "source": [
    "# Level 6 indexing\n",
    "len(healidx), len(np.unique(healidx))"
   ]
  },
  {
   "cell_type": "code",
   "execution_count": 46,
   "id": "5b34b547-1d8d-4425-a568-75a8b2ed63fa",
   "metadata": {},
   "outputs": [
    {
     "data": {
      "text/plain": [
       "array([12467702, 12467702, 12467849, ..., 12467653, 12467653, 12467653])"
      ]
     },
     "execution_count": 46,
     "metadata": {},
     "output_type": "execute_result"
    }
   ],
   "source": [
    "healidx"
   ]
  },
  {
   "cell_type": "code",
   "execution_count": 44,
   "id": "3221db04-4399-4cc3-8e2e-291a0bce33b1",
   "metadata": {},
   "outputs": [
    {
     "data": {
      "text/plain": [
       "(865273104, 1946)"
      ]
     },
     "execution_count": 44,
     "metadata": {},
     "output_type": "execute_result"
    }
   ],
   "source": [
    "# level 7 indexing\n",
    "len(healidx_7), len(np.unique(healidx_7))"
   ]
  },
  {
   "cell_type": "markdown",
   "id": "bc8406c2-1377-488b-bf6a-934e063b6142",
   "metadata": {},
   "source": [
    "The functions I wrote above aren't particularly fast... we'll test on the b2 array to confirm that's true."
   ]
  },
  {
   "cell_type": "code",
   "execution_count": null,
   "id": "fbc2e69f-65c1-48bb-9010-2257dc34e621",
   "metadata": {},
   "outputs": [],
   "source": [
    "np.int64?"
   ]
  },
  {
   "cell_type": "code",
   "execution_count": null,
   "id": "d1b4e46d-9062-4715-9a2e-3f7368b92837",
   "metadata": {},
   "outputs": [],
   "source": [
    "len(b2.Lon.values) "
   ]
  },
  {
   "cell_type": "markdown",
   "id": "056168bf-51b4-4261-9999-380813074718",
   "metadata": {},
   "source": [
    "notes on gaia conventions for healpix...\n",
    "\n",
    "This means that the HEALpix index level 12 of a given source is contained in the most significant bits. HEALpix index of 12 and lower levels can thus be retrieved as follows:\n",
    "\n",
    "- HEALpix level 12 = source_id / 34359738368\n",
    "- HEALpix level 11 = source_id / 137438953472\n",
    "- HEALpix level 10 = source_id / 549755813888\n",
    "- HEALpix level n = source_id / 2 ^ 35 * 4 ^ (12 – level)."
   ]
  },
  {
   "cell_type": "code",
   "execution_count": null,
   "id": "1ff72619-9f16-4f7d-86f9-19af6c3c29aa",
   "metadata": {},
   "outputs": [],
   "source": [
    "df.healpix_plot(healpix_expression=\"nest/8388608\")"
   ]
  },
  {
   "cell_type": "code",
   "execution_count": null,
   "id": "a899cb1e-ca03-4a01-a711-6c4e3ddc36ec",
   "metadata": {},
   "outputs": [],
   "source": [
    "counts = df.healpix_count(healpix_expression=\"nest/8388608\",healpix_level=18)"
   ]
  },
  {
   "cell_type": "code",
   "execution_count": 66,
   "id": "06d8caf4-506e-4db9-a224-cc27cdf6f759",
   "metadata": {},
   "outputs": [
    {
     "data": {
      "text/plain": [
       "865273104"
      ]
     },
     "execution_count": 66,
     "metadata": {},
     "output_type": "execute_result"
    }
   ],
   "source": [
    "np.sum(counts)"
   ]
  },
  {
   "cell_type": "code",
   "execution_count": 68,
   "id": "6d002838-fc72-4734-ad1a-e5ae513af766",
   "metadata": {},
   "outputs": [
    {
     "data": {
      "image/png": "[encoded data removed]",
      "text/plain": [
       "<Figure size 612x388.8 with 2 Axes>"
      ]
     },
     "metadata": {
      "needs_background": "light"
     },
     "output_type": "display_data"
    }
   ],
   "source": [
    "mh.hp.mollview(counts, nest=True, rot=[-90,-90])"
   ]
  },
  {
   "cell_type": "code",
   "execution_count": 62,
   "id": "3a936bba-4bcc-4ce2-af79-68231fbdfd9a",
   "metadata": {},
   "outputs": [],
   "source": [
    "df['nest'] = nestcoords"
   ]
  },
  {
   "cell_type": "code",
   "execution_count": null,
   "id": "338398ce-58d0-4a9b-a6e1-523571628767",
   "metadata": {},
   "outputs": [],
   "source": []
  },
  {
   "cell_type": "code",
   "execution_count": 59,
   "id": "f5a0b260-73fb-44ee-a9ce-912268dad1ff",
   "metadata": {},
   "outputs": [
    {
     "name": "stdout",
     "output_type": "stream",
     "text": [
      "(6, 140737488355328)\n",
      "(7, 35184372088832)\n",
      "(8, 8796093022208)\n",
      "(9, 2199023255552)\n",
      "(10, 549755813888)\n",
      "(11, 137438953472)\n",
      "(12, 34359738368)\n",
      "(13, 8589934592.0)\n",
      "(14, 2147483648.0)\n",
      "(15, 536870912.0)\n",
      "(16, 134217728.0)\n",
      "(17, 33554432.0)\n",
      "(18, 8388608.0)\n",
      "(19, 2097152.0)\n"
     ]
    }
   ],
   "source": [
    "for i in range(6, 20):\n",
    "    print((i, (2**35) * 4**(12-i)))"
   ]
  },
  {
   "cell_type": "code",
   "execution_count": 53,
   "id": "1e62ad3c-3588-426d-b1e2-5bb0deef546f",
   "metadata": {},
   "outputs": [
    {
     "data": {
      "text/plain": [
       "(128, 4096)"
      ]
     },
     "execution_count": 53,
     "metadata": {},
     "output_type": "execute_result"
    }
   ],
   "source": [
    "nside, 2**12"
   ]
  },
  {
   "cell_type": "code",
   "execution_count": 54,
   "id": "a582cf3a-6ecc-4e28-993e-eea1168bbf0b",
   "metadata": {},
   "outputs": [
    {
     "data": {
      "text/plain": [
       "35.0"
      ]
     },
     "execution_count": 54,
     "metadata": {},
     "output_type": "execute_result"
    }
   ],
   "source": [
    "np.log2(34359738368)"
   ]
  },
  {
   "cell_type": "code",
   "execution_count": 55,
   "id": "f52866c2-472f-4dce-bfe2-377df4fd4ef8",
   "metadata": {},
   "outputs": [
    {
     "data": {
      "text/plain": [
       "34359738368"
      ]
     },
     "execution_count": 55,
     "metadata": {},
     "output_type": "execute_result"
    }
   ],
   "source": [
    "2**35"
   ]
  },
  {
   "cell_type": "code",
   "execution_count": null,
   "id": "e01d649d-5e19-45ac-bd83-40292864e79d",
   "metadata": {},
   "outputs": [],
   "source": [
    "len(df)"
   ]
  },
  {
   "cell_type": "code",
   "execution_count": 99,
   "id": "3fe850e5-2310-487e-9dae-dc08493d7e07",
   "metadata": {},
   "outputs": [
    {
     "data": {
      "text/plain": [
       "20077.805457583072"
      ]
     },
     "execution_count": 99,
     "metadata": {},
     "output_type": "execute_result"
    }
   ],
   "source": [
    "865273104 / 43096df['midx11'] = df.midx // 10**7"
   ]
  },
  {
   "cell_type": "code",
   "execution_count": 100,
   "id": "fdfbe53e-4c96-4934-8ecf-7343c5071c7a",
   "metadata": {},
   "outputs": [
    {
     "data": {
      "text/plain": [
       "5742.307999999999"
      ]
     },
     "execution_count": 100,
     "metadata": {},
     "output_type": "execute_result"
    }
   ],
   "source": [
    ".286* 20078"
   ]
  },
  {
   "cell_type": "code",
   "execution_count": 101,
   "id": "c6cb61bf-62b8-4e5a-9760-9746e526c792",
   "metadata": {},
   "outputs": [
    {
     "data": {
      "text/plain": [
       "1.5950833333333334"
      ]
     },
     "execution_count": 101,
     "metadata": {},
     "output_type": "execute_result"
    }
   ],
   "source": [
    "5742.30 / 3600 # 1.6 hours =/"
   ]
  },
  {
   "cell_type": "code",
   "execution_count": 49,
   "id": "4ecc3293-2f27-4501-ace9-e60045202b6b",
   "metadata": {},
   "outputs": [],
   "source": [
    "#%%timeit\n",
    "# uniq requires nest order\n",
    "order = 11\n",
    "uniq = mh.nest2uniq(2**order,mh.hp.ang2pix(2**order,b2.Lon.values, b2.Lat.values, lonlat=True, nest=True))\n",
    "parents = unique2parent(uniq)\n",
    "normed = heal_norm(parents,order, uniq)\n",
    "# norm2morton is slow...\n",
    "# faster way is to just call it on the unique members of normed, and then cast that\n",
    "mortons = fastNorm2Mort(order,normed.ravel(), parents.ravel())"
   ]
  },
  {
   "cell_type": "code",
   "execution_count": 107,
   "id": "95ed54ee-fd27-4e02-b954-7f9b8f0b1901",
   "metadata": {},
   "outputs": [],
   "source": [
    "#%%timeit\n",
    "# uniq requires nest order\n",
    "order = 17\n",
    "uniq = mh.nest2uniq(2**order,mh.hp.ang2pix(2**order,b2.Lon.values, b2.Lat.values, lonlat=True, nest=True))\n",
    "parents = unique2parent(uniq)\n",
    "normed = heal_norm(parents,order, uniq)\n",
    "# norm2morton is slow...\n",
    "# faster way is to just call it on the unique members of normed, and then cast that\n",
    "mortons = norm2morton(order,normed.ravel(), parents.ravel())"
   ]
  },
  {
   "cell_type": "code",
   "execution_count": 61,
   "id": "d9c98730-60dc-40e2-87be-c7e96d587673",
   "metadata": {},
   "outputs": [
    {
     "data": {
      "text/plain": [
       "array([275014396849, 275014397420, 275014399595, ..., 274946120253,\n",
       "       274946144102, 274946152540], dtype=int64)"
      ]
     },
     "execution_count": 61,
     "metadata": {},
     "output_type": "execute_result"
    }
   ],
   "source": [
    "normed"
   ]
  },
  {
   "cell_type": "code",
   "execution_count": 109,
   "id": "9f4ad3ad-3b03-4d0c-b188-d187b8b9f773",
   "metadata": {},
   "outputs": [
    {
     "data": {
      "text/plain": [
       "68753599212"
      ]
     },
     "execution_count": 109,
     "metadata": {},
     "output_type": "execute_result"
    }
   ],
   "source": [
    "normed[0]"
   ]
  },
  {
   "cell_type": "code",
   "execution_count": 87,
   "id": "0b9241c1-4ab6-4321-8de2-556ec590f1d1",
   "metadata": {},
   "outputs": [
    {
     "data": {
      "text/plain": [
       "262144"
      ]
     },
     "execution_count": 87,
     "metadata": {},
     "output_type": "execute_result"
    }
   ],
   "source": [
    "2**18"
   ]
  },
  {
   "cell_type": "code",
   "execution_count": 126,
   "id": "1968b479-c0e5-4863-982d-c6301040c79f",
   "metadata": {},
   "outputs": [
    {
     "data": {
      "text/plain": [
       "103079215104"
      ]
     },
     "execution_count": 126,
     "metadata": {},
     "output_type": "execute_result"
    }
   ],
   "source": [
    "int('1100000000000000000000000000000000000',2)"
   ]
  },
  {
   "cell_type": "code",
   "execution_count": 110,
   "id": "60996fd1-9090-4944-998f-41b9e75ccc1c",
   "metadata": {},
   "outputs": [
    {
     "data": {
      "text/plain": [
       "51539607552"
      ]
     },
     "execution_count": 110,
     "metadata": {},
     "output_type": "execute_result"
    }
   ],
   "source": [
    "int('110000000000000000000000000000000000',2)"
   ]
  },
  {
   "cell_type": "code",
   "execution_count": 101,
   "id": "3c977719-d464-4915-b7d5-774e594b9606",
   "metadata": {},
   "outputs": [
    {
     "data": {
      "text/plain": [
       "3541774862152233910272"
      ]
     },
     "execution_count": 101,
     "metadata": {},
     "output_type": "execute_result"
    }
   ],
   "source": [
    "int('110000000000000000000000000000000000000000000000000000000000000000000000',2)"
   ]
  },
  {
   "cell_type": "code",
   "execution_count": 90,
   "id": "dbdef685-d240-4938-a6d0-de0ca301c8b7",
   "metadata": {},
   "outputs": [
    {
     "data": {
      "text/plain": [
       "4111131131333343412"
      ]
     },
     "execution_count": 90,
     "metadata": {},
     "output_type": "execute_result"
    }
   ],
   "source": [
    "np.array(mortons, dtype=np.int64)[0]"
   ]
  },
  {
   "cell_type": "code",
   "execution_count": 89,
   "id": "a512fd43-499c-4f9e-92f9-bb46058f56c2",
   "metadata": {},
   "outputs": [
    {
     "name": "stdout",
     "output_type": "stream",
     "text": [
      "0\n",
      "131072\n",
      "0\n",
      "32768\n",
      "0\n",
      "8192\n",
      "0\n",
      "2048\n",
      "0\n",
      "512\n",
      "256\n",
      "128\n",
      "0\n",
      "32\n",
      "16\n",
      "0\n",
      "0\n",
      "0\n"
     ]
    }
   ],
   "source": [
    "for i in range(18,0,-1):\n",
    "    print(normed[0]&2**i)"
   ]
  },
  {
   "cell_type": "code",
   "execution_count": 88,
   "id": "4d25cbb9-465c-4e71-b109-fac6a956b6a9",
   "metadata": {},
   "outputs": [
    {
     "data": {
      "text/plain": [
       "0"
      ]
     },
     "execution_count": 88,
     "metadata": {},
     "output_type": "execute_result"
    }
   ],
   "source": [
    "normed[0]&262144"
   ]
  },
  {
   "cell_type": "code",
   "execution_count": 70,
   "id": "d9c5e242-5fd1-461e-b45f-80c0ee3074b9",
   "metadata": {},
   "outputs": [
    {
     "data": {
      "text/plain": [
       "0"
      ]
     },
     "execution_count": 70,
     "metadata": {},
     "output_type": "execute_result"
    }
   ],
   "source": [
    "16 >> ((2*18) - 2)"
   ]
  },
  {
   "cell_type": "code",
   "execution_count": 71,
   "id": "b429e93b-5f65-4906-a2eb-22a05eca8033",
   "metadata": {},
   "outputs": [
    {
     "data": {
      "text/plain": [
       "1"
      ]
     },
     "execution_count": 71,
     "metadata": {},
     "output_type": "execute_result"
    }
   ],
   "source": [
    "18 - 18 +1"
   ]
  },
  {
   "cell_type": "code",
   "execution_count": 72,
   "id": "79c7187d-5a69-4bac-aa21-7cf4442731ce",
   "metadata": {},
   "outputs": [
    {
     "data": {
      "text/plain": [
       "4"
      ]
     },
     "execution_count": 72,
     "metadata": {},
     "output_type": "execute_result"
    }
   ],
   "source": [
    "18 >> 2"
   ]
  },
  {
   "cell_type": "code",
   "execution_count": 125,
   "id": "3fa444c8-c115-4b1b-9f3b-260f709dd7ec",
   "metadata": {},
   "outputs": [
    {
     "data": {
      "text/plain": [
       "'110000000000000000000000000000000000'"
      ]
     },
     "execution_count": 125,
     "metadata": {},
     "output_type": "execute_result"
    }
   ],
   "source": [
    "np.binary_repr(np.int64(51539607552))"
   ]
  },
  {
   "cell_type": "code",
   "execution_count": 149,
   "id": "d271b897-0eb3-411e-930c-f504d2de40b6",
   "metadata": {},
   "outputs": [
    {
     "data": {
      "text/plain": [
       "'110000000000000000000000000000000000'"
      ]
     },
     "execution_count": 149,
     "metadata": {},
     "output_type": "execute_result"
    }
   ],
   "source": [
    "np.binary_repr(np.int64(3*4**(17)))"
   ]
  },
  {
   "cell_type": "code",
   "execution_count": 123,
   "id": "e62c9cf7-5ab1-4879-a093-36e5a856a6a9",
   "metadata": {},
   "outputs": [
    {
     "data": {
      "text/plain": [
       "'1000000000010000010001010101011101100'"
      ]
     },
     "execution_count": 123,
     "metadata": {},
     "output_type": "execute_result"
    }
   ],
   "source": [
    "np.binary_repr(np.int64(normed[0]))"
   ]
  },
  {
   "cell_type": "code",
   "execution_count": 117,
   "id": "acc43078-c81f-47f5-b204-7bb70b9aaf36",
   "metadata": {},
   "outputs": [
    {
     "data": {
      "text/plain": [
       "numpy.int32"
      ]
     },
     "execution_count": 117,
     "metadata": {},
     "output_type": "execute_result"
    }
   ],
   "source": [
    "type(np.int32(normed[0]))"
   ]
  },
  {
   "cell_type": "code",
   "execution_count": 271,
   "id": "fc303ca5-3e13-4b29-a05d-a23a98afa3b7",
   "metadata": {},
   "outputs": [],
   "source": [
    "@vectorize([int64(int64, int64)])#, target='cuda')\n",
    "def VaexNorm2Mort(normed, parents):\n",
    "    order = 18\n",
    "    mask = np.int64(3*4**(order-1))\n",
    "    res = np.zeros(order,dtype=np.int64)\n",
    "    num = 0\n",
    "    for j, i in enumerate(range(order, 0, -1)):\n",
    "        nextBit = (normed & mask) >> ((2*i) - 2)\n",
    "        num += (nextBit+1) * 10**(i-1)\n",
    "        mask = mask >> 2\n",
    "    parents = parents- 6\n",
    "    parents = parents * 10**(order)\n",
    "    num = num + parents\n",
    "    return num"
   ]
  },
  {
   "cell_type": "code",
   "execution_count": null,
   "id": "05b444ff-907a-46a4-a62d-317de455dabf",
   "metadata": {},
   "outputs": [],
   "source": [
    "#%%timeit\n",
    "#VaexNorm2Mort(normed, parents)"
   ]
  },
  {
   "cell_type": "code",
   "execution_count": 38,
   "id": "cbbe099d-4c8e-43be-9a13-83dcbf46f540",
   "metadata": {},
   "outputs": [],
   "source": [
    "@vectorize([int64(int64, int64, int64)])#, target='cuda')\n",
    "def fastNorm2Mort(order, normed, parents):\n",
    "    if order > 18:\n",
    "        print(\"Max order is 18 (to output to 64-bit int)\")\n",
    "        raise ValueError\n",
    "    mask = np.int64(3*4**(order-1))\n",
    "    res = np.zeros(order,dtype=np.int64)\n",
    "    num = 0\n",
    "    for j, i in enumerate(range(order, 0, -1)):\n",
    "        nextBit = (normed & mask) >> ((2*i) - 2)\n",
    "        #res[j] = nextBit\n",
    "        num += (nextBit+1) * 10**(i-1)\n",
    "        mask = mask >> 2\n",
    "#    final = res + 1\n",
    "#    final = np.int64(''.join(final.astype(str)))\n",
    "    if parents is not None:\n",
    "        parents = parents- 6\n",
    "        parents = parents * 10**(order)\n",
    "        num = num + parents\n",
    "    return num"
   ]
  },
  {
   "cell_type": "code",
   "execution_count": 265,
   "id": "1d9cc5f7-351b-4eac-bef4-32c45900ad17",
   "metadata": {},
   "outputs": [
    {
     "data": {
      "text/plain": [
       "array([4111113113133334341, 4111113113133342434, 4111113113133423233,\n",
       "       4111113113134143321, 4111113113134231234, 4111113113134224121,\n",
       "       4111113113141343132, 4111113113141432111, 4111113113141422224,\n",
       "       4111113113142141431])"
      ]
     },
     "execution_count": 265,
     "metadata": {},
     "output_type": "execute_result"
    }
   ],
   "source": [
    "fastNorm2Mort(18, normed[:10], parents[:10])"
   ]
  },
  {
   "cell_type": "code",
   "execution_count": 233,
   "id": "f59717c4-954f-4ecc-99e2-229790be03a3",
   "metadata": {},
   "outputs": [
    {
     "data": {
      "text/plain": [
       "array([111113113133334341, 111113113133342434], dtype=int64)"
      ]
     },
     "execution_count": 233,
     "metadata": {},
     "output_type": "execute_result"
    }
   ],
   "source": [
    "norm2morton(18, normed[0:2]) # ,"
   ]
  },
  {
   "cell_type": "code",
   "execution_count": 225,
   "id": "7accb54d-50b9-43c8-8716-d81da682f966",
   "metadata": {},
   "outputs": [
    {
     "data": {
      "text/plain": [
       "'110001010110000001100100110100110001100110011111101000101'"
      ]
     },
     "execution_count": 225,
     "metadata": {},
     "output_type": "execute_result"
    }
   ],
   "source": [
    "np.binary_repr(fastNorm2Mort(18, normed[:10])[0])"
   ]
  },
  {
   "cell_type": "code",
   "execution_count": 254,
   "id": "821a9c72-6058-4ccf-a7a6-c780a3efc087",
   "metadata": {},
   "outputs": [
    {
     "data": {
      "text/plain": [
       "numpy.int64"
      ]
     },
     "execution_count": 254,
     "metadata": {},
     "output_type": "execute_result"
    }
   ],
   "source": [
    "type(np.array([4111113113133334341], dtype=int)[-1])"
   ]
  },
  {
   "cell_type": "code",
   "execution_count": 201,
   "id": "24d136ed-9c39-4bce-83e7-22cc5ce3c26e",
   "metadata": {},
   "outputs": [],
   "source": [
    "#vmort = np.vectorize(fastNorm2Mort)"
   ]
  },
  {
   "cell_type": "code",
   "execution_count": 180,
   "id": "068c7fe0-12fd-4750-be5e-8255aad6f774",
   "metadata": {},
   "outputs": [
    {
     "name": "stdout",
     "output_type": "stream",
     "text": [
      "1.9 s ± 123 ms per loop (mean ± std. dev. of 7 runs, 1 loop each)\n"
     ]
    }
   ],
   "source": [
    "%%timeit\n",
    "vmort(18, normed, parents)"
   ]
  },
  {
   "cell_type": "code",
   "execution_count": 267,
   "id": "2789ba8d-12a5-48da-a4b7-b5ec605b90c0",
   "metadata": {},
   "outputs": [
    {
     "name": "stdout",
     "output_type": "stream",
     "text": [
      "1.25 s ± 5.47 ms per loop (mean ± std. dev. of 7 runs, 1 loop each)\n"
     ]
    }
   ],
   "source": [
    "%%timeit\n",
    "norm2morton(18, normed) # ,"
   ]
  },
  {
   "cell_type": "code",
   "execution_count": 266,
   "id": "fdd956e3-dbe7-4355-b766-17d0b51da8b2",
   "metadata": {},
   "outputs": [
    {
     "name": "stdout",
     "output_type": "stream",
     "text": [
      "7.15 ms ± 57.2 µs per loop (mean ± std. dev. of 7 runs, 100 loops each)\n"
     ]
    }
   ],
   "source": [
    "%%timeit\n",
    "fastNorm2Mort(18, normed , parents)"
   ]
  },
  {
   "cell_type": "code",
   "execution_count": 234,
   "id": "6a19fd11-8934-4094-9adf-9cbab031ae56",
   "metadata": {},
   "outputs": [
    {
     "name": "stdout",
     "output_type": "stream",
     "text": [
      "6.99 ms ± 102 µs per loop (mean ± std. dev. of 7 runs, 100 loops each)\n"
     ]
    }
   ],
   "source": [
    "%%timeit\n",
    "fastNorm2Mort(18, normed) # , parents)"
   ]
  },
  {
   "cell_type": "code",
   "execution_count": 181,
   "id": "b939f9c4-91bc-4d86-90d0-9317ed8d50b0",
   "metadata": {},
   "outputs": [
    {
     "name": "stdout",
     "output_type": "stream",
     "text": [
      "1.4 s ± 19.1 ms per loop (mean ± std. dev. of 7 runs, 1 loop each)\n"
     ]
    }
   ],
   "source": [
    "%%timeit\n",
    "mortons = norm2morton(18,normed.ravel(), parents.ravel())"
   ]
  },
  {
   "cell_type": "code",
   "execution_count": 210,
   "id": "0f6421d8-c88a-4d00-89fd-9fa3eb430a02",
   "metadata": {},
   "outputs": [],
   "source": [
    "from numba import jit, vectorize, int64"
   ]
  },
  {
   "cell_type": "code",
   "execution_count": 174,
   "id": "69885d64-3df1-48b1-825c-a3f0ec83a02a",
   "metadata": {},
   "outputs": [
    {
     "data": {
      "text/plain": [
       "array([10, 10, 10, ...,  9,  9,  9])"
      ]
     },
     "execution_count": 174,
     "metadata": {},
     "output_type": "execute_result"
    }
   ],
   "source": [
    "parents"
   ]
  },
  {
   "cell_type": "code",
   "execution_count": 177,
   "id": "bf0a14bc-61c0-40aa-8aae-e5740c564fc2",
   "metadata": {},
   "outputs": [
    {
     "ename": "ValueError",
     "evalue": "setting an array element with a sequence.",
     "output_type": "error",
     "traceback": [
      "\u001b[0;31m---------------------------------------------------------------------------\u001b[0m",
      "\u001b[0;31mTypeError\u001b[0m                                 Traceback (most recent call last)",
      "\u001b[0;31mTypeError\u001b[0m: only size-1 arrays can be converted to Python scalars",
      "\nThe above exception was the direct cause of the following exception:\n",
      "\u001b[0;31mValueError\u001b[0m                                Traceback (most recent call last)",
      "\u001b[0;32m<ipython-input-177-3fb8ec6a5907>\u001b[0m in \u001b[0;36m<module>\u001b[0;34m\u001b[0m\n\u001b[0;32m----> 1\u001b[0;31m \u001b[0mfastNorm2Mort\u001b[0m\u001b[0;34m(\u001b[0m\u001b[0;36m17\u001b[0m\u001b[0;34m,\u001b[0m \u001b[0mnormed\u001b[0m\u001b[0;34m[\u001b[0m\u001b[0;34m:\u001b[0m\u001b[0;36m5\u001b[0m\u001b[0;34m]\u001b[0m\u001b[0;34m,\u001b[0m\u001b[0mparents\u001b[0m\u001b[0;34m[\u001b[0m\u001b[0;34m:\u001b[0m\u001b[0;36m5\u001b[0m\u001b[0;34m]\u001b[0m\u001b[0;34m)\u001b[0m\u001b[0;34m\u001b[0m\u001b[0;34m\u001b[0m\u001b[0m\n\u001b[0m",
      "\u001b[0;32m<ipython-input-172-d3877a482af3>\u001b[0m in \u001b[0;36mfastNorm2Mort\u001b[0;34m(order, normed, parents)\u001b[0m\n\u001b[1;32m      4\u001b[0m     \u001b[0;32mfor\u001b[0m \u001b[0mj\u001b[0m\u001b[0;34m,\u001b[0m \u001b[0mi\u001b[0m \u001b[0;32min\u001b[0m \u001b[0menumerate\u001b[0m\u001b[0;34m(\u001b[0m\u001b[0mrange\u001b[0m\u001b[0;34m(\u001b[0m\u001b[0morder\u001b[0m\u001b[0;34m,\u001b[0m \u001b[0;36m0\u001b[0m\u001b[0;34m,\u001b[0m \u001b[0;34m-\u001b[0m\u001b[0;36m1\u001b[0m\u001b[0;34m)\u001b[0m\u001b[0;34m)\u001b[0m\u001b[0;34m:\u001b[0m\u001b[0;34m\u001b[0m\u001b[0;34m\u001b[0m\u001b[0m\n\u001b[1;32m      5\u001b[0m         \u001b[0mnextBit\u001b[0m \u001b[0;34m=\u001b[0m \u001b[0;34m(\u001b[0m\u001b[0mnormed\u001b[0m \u001b[0;34m&\u001b[0m \u001b[0mmask\u001b[0m\u001b[0;34m)\u001b[0m \u001b[0;34m>>\u001b[0m \u001b[0;34m(\u001b[0m\u001b[0;34m(\u001b[0m\u001b[0;36m2\u001b[0m\u001b[0;34m*\u001b[0m\u001b[0mi\u001b[0m\u001b[0;34m)\u001b[0m \u001b[0;34m-\u001b[0m \u001b[0;36m2\u001b[0m\u001b[0;34m)\u001b[0m\u001b[0;34m\u001b[0m\u001b[0;34m\u001b[0m\u001b[0m\n\u001b[0;32m----> 6\u001b[0;31m         \u001b[0mres\u001b[0m\u001b[0;34m[\u001b[0m\u001b[0mj\u001b[0m\u001b[0;34m]\u001b[0m \u001b[0;34m=\u001b[0m \u001b[0mnextBit\u001b[0m\u001b[0;34m\u001b[0m\u001b[0;34m\u001b[0m\u001b[0m\n\u001b[0m\u001b[1;32m      7\u001b[0m         \u001b[0mmask\u001b[0m \u001b[0;34m=\u001b[0m \u001b[0mmask\u001b[0m \u001b[0;34m>>\u001b[0m \u001b[0;36m2\u001b[0m\u001b[0;34m\u001b[0m\u001b[0;34m\u001b[0m\u001b[0m\n\u001b[1;32m      8\u001b[0m     \u001b[0mfinal\u001b[0m \u001b[0;34m=\u001b[0m \u001b[0mres\u001b[0m \u001b[0;34m+\u001b[0m \u001b[0;36m1\u001b[0m\u001b[0;34m\u001b[0m\u001b[0;34m\u001b[0m\u001b[0m\n",
      "\u001b[0;31mValueError\u001b[0m: setting an array element with a sequence."
     ]
    }
   ],
   "source": [
    "fastNorm2Mort(17, normed[:5],parents[:5])"
   ]
  },
  {
   "cell_type": "code",
   "execution_count": 167,
   "id": "f25bb996-eac5-4eb8-bd6a-c2ae848a238b",
   "metadata": {},
   "outputs": [
    {
     "data": {
      "text/plain": [
       "68753599212"
      ]
     },
     "execution_count": 167,
     "metadata": {},
     "output_type": "execute_result"
    }
   ],
   "source": [
    "normed[0]"
   ]
  },
  {
   "cell_type": "code",
   "execution_count": 134,
   "id": "60d84660-cc34-496a-9228-858ec5109560",
   "metadata": {},
   "outputs": [
    {
     "data": {
      "text/plain": [
       "array([1, 1, 1, 1, 3, 1, 1, 3, 1, 3, 3, 3, 3, 4, 3, 4, 1])"
      ]
     },
     "execution_count": 134,
     "metadata": {},
     "output_type": "execute_result"
    }
   ],
   "source": [
    "mask = 51539607552//4\n",
    "#mask = 3541774862152233910272\n",
    "hpidx = np.int32(normed[0])\n",
    "order = 17\n",
    "res = np.zeros(17,dtype=int)\n",
    "for j, i in enumerate(range(17,0,-1)):\n",
    "    nextBit = (hpidx & mask) >> ((2*i) - 2)\n",
    "    #print(18-i +1)\n",
    "    #print(nextBit)\n",
    "    res[j] = nextBit\n",
    "    #print(mask)\n",
    "    mask = mask >> 2\n",
    "\n",
    "res+1"
   ]
  },
  {
   "cell_type": "code",
   "execution_count": 151,
   "id": "5ecc9d60-a530-4a24-ad03-3ebf32938bef",
   "metadata": {},
   "outputs": [],
   "source": [
    "final = res +1"
   ]
  },
  {
   "cell_type": "code",
   "execution_count": 155,
   "id": "8a33e4d5-620a-4ec9-8ad0-d95ce49c78a3",
   "metadata": {},
   "outputs": [
    {
     "data": {
      "text/plain": [
       "'11113113133334341'"
      ]
     },
     "execution_count": 155,
     "metadata": {},
     "output_type": "execute_result"
    }
   ],
   "source": [
    "''.join(final.astype(str))"
   ]
  },
  {
   "cell_type": "code",
   "execution_count": 111,
   "id": "018fd1b7-d385-44c4-b8ad-a11d1c618654",
   "metadata": {},
   "outputs": [
    {
     "data": {
      "text/plain": [
       "411113113133334341"
      ]
     },
     "execution_count": 111,
     "metadata": {},
     "output_type": "execute_result"
    }
   ],
   "source": [
    "np.array(mortons, dtype=np.int64)[0]"
   ]
  },
  {
   "cell_type": "code",
   "execution_count": 105,
   "id": "8beb146c-4c61-497e-a49e-7b3229f6e278",
   "metadata": {},
   "outputs": [
    {
     "name": "stdout",
     "output_type": "stream",
     "text": [
      "0\n",
      "0\n",
      "0\n",
      "0\n",
      "2\n",
      "0\n",
      "0\n",
      "2\n",
      "0\n",
      "2\n",
      "2\n",
      "2\n",
      "2\n",
      "3\n",
      "2\n",
      "3\n",
      "0\n",
      "1\n"
     ]
    }
   ],
   "source": [
    "mask = 51539607552\n",
    "#mask = 3541774862152233910272\n",
    "hpidx = normed[0]\n",
    "for i in range(18,0,-1):\n",
    "    nextBit = (hpidx & mask) >> ((2*i) - 2)\n",
    "    #print(18-i +1)\n",
    "    print(nextBit)\n",
    "    #print(mask)\n",
    "    mask = mask >> 2\n"
   ]
  },
  {
   "cell_type": "code",
   "execution_count": 106,
   "id": "f97ff156-9130-4b82-962a-c3492306c586",
   "metadata": {},
   "outputs": [
    {
     "data": {
      "text/plain": [
       "4111131131333343412"
      ]
     },
     "execution_count": 106,
     "metadata": {},
     "output_type": "execute_result"
    }
   ],
   "source": [
    "np.array(mortons, dtype=np.int64)[0]"
   ]
  },
  {
   "cell_type": "code",
   "execution_count": 58,
   "id": "2a326efb-9c51-4bf0-9b56-b82647bff1ec",
   "metadata": {},
   "outputs": [
    {
     "data": {
      "text/plain": [
       "9223372036854775807"
      ]
     },
     "execution_count": 58,
     "metadata": {},
     "output_type": "execute_result"
    }
   ],
   "source": [
    "9_223_372_036_854_775_807"
   ]
  },
  {
   "cell_type": "code",
   "execution_count": 59,
   "id": "12331cf9-3f17-4e9b-8b06-e7190dd8e27a",
   "metadata": {},
   "outputs": [
    {
     "data": {
      "text/plain": [
       "511143211121311"
      ]
     },
     "execution_count": 59,
     "metadata": {},
     "output_type": "execute_result"
    }
   ],
   "source": [
    "511_143_211_121_311"
   ]
  },
  {
   "cell_type": "code",
   "execution_count": 60,
   "id": "2aa7db2e-4481-418a-800f-4c00f374a0e7",
   "metadata": {},
   "outputs": [
    {
     "data": {
      "text/plain": [
       "4111131131333343412"
      ]
     },
     "execution_count": 60,
     "metadata": {},
     "output_type": "execute_result"
    }
   ],
   "source": [
    "np.int64(mortons.astype(str)[0])"
   ]
  },
  {
   "cell_type": "code",
   "execution_count": 48,
   "id": "61d5bcad-6543-4d02-90ce-f1f82a0697f8",
   "metadata": {},
   "outputs": [
    {
     "data": {
      "text/plain": [
       "'4111131131333343412'"
      ]
     },
     "execution_count": 48,
     "metadata": {},
     "output_type": "execute_result"
    }
   ],
   "source": [
    "mortons.astype(str)[0]"
   ]
  },
  {
   "cell_type": "code",
   "execution_count": null,
   "id": "3d947ac2-b8fe-4c56-8d4b-88e0af2f71ab",
   "metadata": {},
   "outputs": [],
   "source": [
    "mortons[0]"
   ]
  },
  {
   "cell_type": "code",
   "execution_count": null,
   "id": "c2e89522-3a0e-4457-a261-f06762252da4",
   "metadata": {},
   "outputs": [],
   "source": [
    "# order 18 is the max that'll fit in int space.... i.e, 25 meter bins"
   ]
  },
  {
   "cell_type": "code",
   "execution_count": 111,
   "id": "81b62207-2b65-47b4-a875-07936288dc54",
   "metadata": {},
   "outputs": [
    {
     "data": {
      "text/plain": [
       "111131"
      ]
     },
     "execution_count": 111,
     "metadata": {},
     "output_type": "execute_result"
    }
   ],
   "source": [
    "mortons[0]"
   ]
  },
  {
   "cell_type": "code",
   "execution_count": 115,
   "id": "37a765be-d527-4ce4-9bb2-e0a32ce76933",
   "metadata": {},
   "outputs": [
    {
     "data": {
      "text/plain": [
       "array([4, 4, 4, ..., 3, 3, 3])"
      ]
     },
     "execution_count": 115,
     "metadata": {},
     "output_type": "execute_result"
    }
   ],
   "source": [
    "parents - 6"
   ]
  },
  {
   "cell_type": "code",
   "execution_count": 178,
   "id": "7e17f11a-347a-432a-94db-0a9a036a1e60",
   "metadata": {},
   "outputs": [
    {
     "name": "stdout",
     "output_type": "stream",
     "text": [
      "5.19 s ± 40.9 ms per loop (mean ± std. dev. of 7 runs, 1 loop each)\n"
     ]
    }
   ],
   "source": [
    "%%timeit\n",
    "df.track.str.contains('gt3').sum()"
   ]
  },
  {
   "cell_type": "code",
   "execution_count": 187,
   "id": "05cd6c49-9e95-4601-b0c7-c715812ddb4d",
   "metadata": {},
   "outputs": [
    {
     "name": "stdout",
     "output_type": "stream",
     "text": [
      "5.45 s ± 35.9 ms per loop (mean ± std. dev. of 7 runs, 1 loop each)\n"
     ]
    }
   ],
   "source": [
    "%%timeit\n",
    "df.track.str.match('gt3r').sum()"
   ]
  },
  {
   "cell_type": "code",
   "execution_count": 198,
   "id": "840e6053-1c83-495b-8b1d-f196dfd9b374",
   "metadata": {},
   "outputs": [
    {
     "name": "stdout",
     "output_type": "stream",
     "text": [
      "1.01 s ± 7.1 ms per loop (mean ± std. dev. of 7 runs, 1 loop each)\n"
     ]
    }
   ],
   "source": [
    "%%timeit\n",
    "df.track.str.startswith('gt3').sum()"
   ]
  },
  {
   "cell_type": "code",
   "execution_count": null,
   "id": "23024bef-6d1b-4322-9e5d-75d823c8b5e5",
   "metadata": {},
   "outputs": [],
   "source": [
    "so we'll use the mhealpy library where possible, and then map the unique id's back to indexing scheme"
   ]
  },
  {
   "cell_type": "code",
   "execution_count": 201,
   "id": "f4151d4c-a255-4b2d-9803-bc453aa35ee3",
   "metadata": {},
   "outputs": [
    {
     "data": {
      "text/plain": [
       "791602560"
      ]
     },
     "execution_count": 201,
     "metadata": {},
     "output_type": "execute_result"
    }
   ],
   "source": [
    "2030* 1354*12*24"
   ]
  },
  {
   "cell_type": "code",
   "execution_count": 35,
   "id": "71f2f3b2-9943-48af-a40e-e2575979cda5",
   "metadata": {},
   "outputs": [
    {
     "name": "stdout",
     "output_type": "stream",
     "text": [
      "Object `%%compile` not found.\n"
     ]
    }
   ],
   "source": [
    "%%compile?"
   ]
  },
  {
   "cell_type": "code",
   "execution_count": 36,
   "id": "6ad14546-0195-455c-a9ef-7669d5e747dd",
   "metadata": {},
   "outputs": [],
   "source": [
    "from ctypes import *\n",
    "\n",
    "#load the shared object file\n",
    "adder = CDLL('./adder.so')\n"
   ]
  },
  {
   "cell_type": "code",
   "execution_count": 40,
   "id": "2a38562c-87b0-4e36-ae45-d55f9c6c4b34",
   "metadata": {},
   "outputs": [
    {
     "name": "stdout",
     "output_type": "stream",
     "text": [
      "Sum of 4 and 5 = 9\n",
      "('Sum of 5.5 and 4.1 = ', '9.600000381469727')\n"
     ]
    }
   ],
   "source": [
    "#Find sum of integers\n",
    "res_int = adder.add_int(4,5)\n",
    "print((\"Sum of 4 and 5 = \" + str(res_int)))\n",
    "\n",
    "#Find sum of floats\n",
    "a = c_float(5.5)\n",
    "b = c_float(4.1)\n",
    "\n",
    "add_float = adder.add_float\n",
    "add_float.restype = c_float\n",
    "print((\"Sum of 5.5 and 4.1 = \", str(add_float(a, b))))"
   ]
  },
  {
   "cell_type": "code",
   "execution_count": 41,
   "id": "5062407b-126e-4751-9640-d33103a127d1",
   "metadata": {},
   "outputs": [
    {
     "data": {
      "text/plain": [
       "9"
      ]
     },
     "execution_count": 41,
     "metadata": {},
     "output_type": "execute_result"
    }
   ],
   "source": [
    "res_int"
   ]
  },
  {
   "cell_type": "code",
   "execution_count": 43,
   "id": "436e1738-7026-4d3e-8a1a-ffd313fd5e42",
   "metadata": {},
   "outputs": [
    {
     "ename": "TypeError",
     "evalue": "array() takes from 1 to 2 positional arguments but 3 were given",
     "output_type": "error",
     "traceback": [
      "\u001b[0;31m---------------------------------------------------------------------------\u001b[0m",
      "\u001b[0;31mTypeError\u001b[0m                                 Traceback (most recent call last)",
      "\u001b[0;32m<ipython-input-43-b8ae59e2958f>\u001b[0m in \u001b[0;36m<module>\u001b[0;34m\u001b[0m\n\u001b[0;32m----> 1\u001b[0;31m \u001b[0madder\u001b[0m\u001b[0;34m.\u001b[0m\u001b[0madd_int\u001b[0m\u001b[0;34m(\u001b[0m\u001b[0mnp\u001b[0m\u001b[0;34m.\u001b[0m\u001b[0marray\u001b[0m\u001b[0;34m(\u001b[0m\u001b[0;36m9\u001b[0m\u001b[0;34m,\u001b[0m\u001b[0;36m9\u001b[0m\u001b[0;34m,\u001b[0m\u001b[0;36m9\u001b[0m\u001b[0;34m)\u001b[0m\u001b[0;34m,\u001b[0m \u001b[0mnp\u001b[0m\u001b[0;34m.\u001b[0m\u001b[0marray\u001b[0m\u001b[0;34m(\u001b[0m\u001b[0;36m1\u001b[0m\u001b[0;34m,\u001b[0m\u001b[0;36m2\u001b[0m\u001b[0;34m,\u001b[0m\u001b[0;36m3\u001b[0m\u001b[0;34m)\u001b[0m\u001b[0;34m)\u001b[0m\u001b[0;34m\u001b[0m\u001b[0;34m\u001b[0m\u001b[0m\n\u001b[0m",
      "\u001b[0;31mTypeError\u001b[0m: array() takes from 1 to 2 positional arguments but 3 were given"
     ]
    }
   ],
   "source": [
    "adder.add_int(np.array(9,9,9), np.array(1,2,3))"
   ]
  },
  {
   "cell_type": "code",
   "execution_count": null,
   "id": "8e0e2e04-d7af-456f-a85a-030e0524d9db",
   "metadata": {},
   "outputs": [],
   "source": []
  }
 ],
 "metadata": {
  "kernelspec": {
   "display_name": "Python 3",
   "language": "python",
   "name": "python3"
  },
  "language_info": {
   "codemirror_mode": {
    "name": "ipython",
    "version": 3
   },
   "file_extension": ".py",
   "mimetype": "text/x-python",
   "name": "python",
   "nbconvert_exporter": "python",
   "pygments_lexer": "ipython3",
   "version": "3.8.9"
  }
 },
 "nbformat": 4,
 "nbformat_minor": 5
}
